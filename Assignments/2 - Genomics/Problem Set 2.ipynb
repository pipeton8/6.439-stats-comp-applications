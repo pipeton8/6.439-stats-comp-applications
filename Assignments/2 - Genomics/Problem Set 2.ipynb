{
  "nbformat": 4,
  "nbformat_minor": 0,
  "metadata": {
    "colab": {
      "name": "Problem Set 2.ipynb",
      "provenance": [],
      "toc_visible": true,
      "authorship_tag": "ABX9TyO9kq+nqdoS05l7aV6NTUNj",
      "include_colab_link": true
    },
    "kernelspec": {
      "name": "python3",
      "display_name": "Python 3"
    },
    "language_info": {
      "name": "python"
    }
  },
  "cells": [
    {
      "cell_type": "markdown",
      "metadata": {
        "id": "view-in-github",
        "colab_type": "text"
      },
      "source": [
        "<a href=\"https://colab.research.google.com/github/pipeton8/6.439-stats-comp-applications/blob/main/Assignments/2%20-%20Genomics/Problem%20Set%202.ipynb\" target=\"_parent\"><img src=\"https://colab.research.google.com/assets/colab-badge.svg\" alt=\"Open In Colab\"/></a>"
      ]
    },
    {
      "cell_type": "markdown",
      "metadata": {
        "id": "XRNx3Fj6HleX"
      },
      "source": [
        "# Problem Set 2 - Statistics, Computation and Applications\n",
        "\n",
        "(c) Felipe del Canto, October 2021\n",
        "***\n",
        "***"
      ]
    },
    {
      "cell_type": "markdown",
      "metadata": {
        "id": "CSH1kzReJ7nz"
      },
      "source": [
        "# Part 1\n",
        "***"
      ]
    },
    {
      "cell_type": "markdown",
      "metadata": {
        "id": "KzxTDcWNIcvo"
      },
      "source": [
        "## **Problem 1.1:** The Salk Vaccine Field Trial\n",
        "The first polio epidemic hit the United States in 1916. By the 1950s several vaccines against the disease had been discovered. The one developed by Jonas Salk seemed the most promising in laboratory trials. By 1954, the National Foundation for Infantile Paralysis (NFIP) was ready to try the vaccine in the real world. They ran a controlled experiment to analyze the effectiveness of the vaccine. The data is shown in the table below (grade refers to the educational stage):\n",
        "\n",
        "<table>\n",
        "  <caption> Table 1: NFIP study results.\n",
        "\n",
        "|| Size | Polio rate per 100,000\n",
        "|---|:---:|:---:|\n",
        "|Grade 2 (vaccine) | 225,000 | 25 |\n",
        "|Grades 1 and 3 (no vaccine) | 725,000 | 54\n",
        "|Grade 2 (no consent) | 125,000 | 44 |\n",
        "<br>\n",
        "\n",
        "</table>\n",
        "\n",
        "The experiment was later repeated as a randomized controlled double-blind experiment. This data is shown in the second table below:\n",
        "\n",
        "<table>\n",
        "  <caption> Table 2: Follow-up study results.\n",
        "\n",
        "| | Size | Polio rate per 100,000 |\n",
        "|---|:---:|:---:|\n",
        "|Treatment (vaccine) | 200,000 | 28 |\n",
        "|Control (salt injection) | 200,000 | 71 |\n",
        "|No consent | 350,000 | 46 |\n",
        "<br>"
      ]
    },
    {
      "cell_type": "markdown",
      "metadata": {
        "id": "uzwMXcgAkjaA"
      },
      "source": [
        "##### (a) Describe each of the two studies (e.g., their design) and comment on the differences between them. For each study, explain whether it helps measure what was intended to be estimated."
      ]
    },
    {
      "cell_type": "markdown",
      "metadata": {
        "id": "XIWfIqMTlf8P"
      },
      "source": [
        "<font size=\"2\" color=\"#03bafc\"> \n",
        "The NFIP study was not randomized: all students in grades 1 and 3 did not get the vaccine, while the 2nd graders did. In that sense, the study was not blinded, as both treatment and control groups knew their assignment prior to treatment. Usign this design, it is impossible to detect to a greater level of cofidence the effects of the vaccine. At least two sources of bias can be identified for this design:\n",
        " <ol type=\"1\">\n",
        "    <li> Students in 2nd grade are no necessarily comparable to younger or older students, even from the same school. Differences can be related to exposure to the virus but also to other confounders like gender distribution, parents age and education, amonng other. This could imply these students have different chances of getting polio, regardless the vaccine, which will bias the results. In fact, comparing groups from grades 1 and 3, with those from the no consent group, can lead us to conclude these groups are not similar.\n",
        "    </li><br>\n",
        "    <li> Being polio an infectous disease, peer effects can be substantial in confounding the effects of the vaccine. This implies that students from second grade that did not consent to the vaccine got protected by their schoolmates by a weaker version of herd immunity. This could also affect the rates of polio of 1st and 3rd graders if these students are continously sharing spaces at school. This could also be important if students from the control and treatment groups both belong to the same school.\n",
        "    </li>\n",
        " </ol>\n",
        "\n",
        "On the contrary, the follow-up experiment was double-blinded and randomized. In this case, each student was randomly assigned to a treatment group (and got the vaccine) or a control group (and got a placebo). Observational data was obtained from those students that did not consent to participate (the <i>No consent</i> group). A design like this one is better suited to estimate the effects of the vaccine, as potential confounders are now (in average) equal between both groups. However, the second source of bias is not completely eliminated if treatment is not randomized at school level. That is, if within the same school there are children that belong to both treatment and control groups, then the vaccine effect is biased downwards (i.e. a lower bound of its efficacy is estimated) due to peer effects. In that case, vaccinated children indirectly protect those that only receive a salt injection.\n",
        "</font>\n"
      ]
    },
    {
      "cell_type": "markdown",
      "metadata": {
        "id": "IeSMEpRXlG-I"
      },
      "source": [
        "  \n",
        "##### (b) Which numbers show the effectiveness of the vaccine? Explain why."
      ]
    },
    {
      "cell_type": "markdown",
      "metadata": {
        "id": "Muobjb4nl4BH"
      },
      "source": [
        "<font size=\"2\" color=\"#03bafc\">\n",
        "The numbers capable of showing the effectiveness of the vaccine are those in Table 2. However, which of these actually allow to test the hypothesis depends on how the experiment was designed. If the randomization occured after asking for consent to participate, then we would like to comparethe rates of polio between treatment and control groups. The caveat is that the sample that consented participating in the study may have selected on particular characteristics, that could bias the results in two possible ways:\n",
        "<ol type=\"1\"> <font size=\"2\" color=\"#03bafc\">\n",
        "    <li> If those that consented are people that could potentially benefit more from the vaccine (e.g. a family with previous close cases of polio) then the effect would be larger (biased upwards) than in absence of selection.\n",
        "    </li><br>\n",
        "    <li> If those that consented benefit less from the vaccine (e.g. more educated people, that have generally better hygiene and less risk of infection), then the effect would be smaller (biased downwards) than if absence of selection.\n",
        "    </li>\n",
        "</font> </ol>\n",
        "\n",
        "<font size=\"2\" color=\"#03bafc\">\n",
        "On the other hand, if randomization occured before asking for consent, then we would need to compare the original groups, that is, we would need to separate the <i>No consent</i> group into those assigned to the treatment and those assigned to the control group. However, if the randomization was correctly realized in the first place, then the people from each group that did not consent should be (in average) similar. In particular, the amount of people from the <i>No consent</i> group that belong to the treatment group should be similar to the amount of people that belong to the control group. Moreover, the two possible biases presented above should be distributed equally in the <i>No consent</i> group, making the comparison between the first two rows of Table 2 closer to the effectiveness of the vaccine.\n",
        "\n",
        "Note, however, that since polio is infectious, then if randomization did not occur at school level, then the results will be biased downwards. This, following the previous argument that students in the control group are indirectly protected by their vaccinated counterparts. \n",
        "</font>\n"
      ]
    },
    {
      "cell_type": "markdown",
      "metadata": {
        "id": "88zGwZ5DlJgS"
      },
      "source": [
        "##### (c) In the two studies neither the control groups nor the no-consent groups got the vaccine. Yet the no-consent groups had a lower rate of polio. What could be some of the underlying reasons?"
      ]
    },
    {
      "cell_type": "markdown",
      "metadata": {
        "id": "A2Jx_89Bl5jC"
      },
      "source": [
        "<font size=\"2\" color=\"#03bafc\">\n",
        "As discussed in the preivous question, there are at least two reasons that could explain this lower polio rate. \n",
        "<ol type=\"1\"> <font size=\"2\" color=\"#03bafc\">\n",
        "  <li> It could be the case that the group of people that did not consent to participate where those who felt less at risk from contracting polio, because they did not have close events of contagion. This can happen if these people live in better conditions, with more access to clean water and food and in cleaner, more hygienic neighborhoods. These conditions would make them less prone to being infected by the virus.\n",
        "  </li><br>\n",
        "\n",
        "  <li> Another option I also discussed before is that a less intesive form of herd immunity is working behind these results. This is particularly true for the first study, where children that did not consent to get a vaccine where indirectly protected by their schoolmates that did get a shot. This effect in fact could happen, at a lower scale, for the 1st and 3rd graders in the NFIP study. For the follow-up experiment, this effect may still be tampering the results, although at a much smaller scale. This, given that randomization should distribute the <i>No consent</i> individuals evenly among the treatment and control groups.\n",
        "  </li>\n",
        "</ol>\n",
        "</font>"
      ]
    },
    {
      "cell_type": "markdown",
      "metadata": {
        "id": "gPYFb_DVlN2p"
      },
      "source": [
        "##### (d) Polio is an infectious disease. The NFIP study was not done blind. Could this bias the results? If yes, to what extent?\n",
        "\n"
      ]
    },
    {
      "cell_type": "markdown",
      "metadata": {
        "id": "rj0_A051l7Xy"
      },
      "source": [
        "<font size=\"2\" color=\"#03bafc\"> As discussed earlier, the infectiousness of the disease can alter the results in general. However, regarding the blindness of the study, there could be behavioral changes in the subjects in at least two ways:\n",
        "<ol type=\"1\"> <font size=\"2\" color=\"#03bafc\">\n",
        "  <li> Vaccinated children (or their families or teachers) could lower the safety measures against the virus, expecting the vaccine to work. This can imply a higher probability of contracting the virus. \n",
        "  </li> <br>\n",
        "  \n",
        "  <li> On the other hand, unvaccinated children (or their families or teachers) participating in the study could be more aware of the risks of polio just by being part of the experiment. This could decrease their chances of getting polio. \n",
        "  </li>\n",
        "</ol> \n",
        "\n",
        "<font size=\"2\" color=\"#03bafc\"> Overall, this two effects bias the results because treatment and control groups are no longer comparable. In fact, if the two hypotheses above are true, then the estimated effectiveness of the vaccine is a lower bound on the real effect.\n",
        "\n",
        "<font size=\"2\" color=\"#03bafc\"> Nevertheless, it is arguable to which extent these effects are present in the study, particularly the first. Since only the children are getting vaccinated, the rest of the members of the family must continue their safety measures for their own protection. For example, if the vaccinated children has a sibling in 1st or 3rd grade, or if there is an elderly relative in the house. In class, there are 2nd graders that did not get the vaccine because they did not consent to participate in the study. For this reason, it is unlikely that teachers would lower the protective measures towards these children just because their schoolmates are vaccinated.\n",
        "</font>"
      ]
    },
    {
      "cell_type": "markdown",
      "metadata": {
        "id": "ipgCdl_WlTTe"
      },
      "source": [
        "##### (e) In the randomized controlled trial the children whose parents refused to participate in the trial got polio at the rate of 46 per 100,000. On the other hand, the children whose parents consented to participate got polio at a slighter higher rate of 49 per 100,000 (treatment group and control group taken together). On the basis of these numbers, in the following year some parents refused to allow their children to participate in the experiment and be exposed to this higher risk of polio. Were they right? And why so? Please explain your reasoning process."
      ]
    },
    {
      "cell_type": "markdown",
      "metadata": {
        "id": "xhOAyeQQl9FW"
      },
      "source": [
        "<font size=\"2\" color=\"#03bafc\"> There are two possible arguments to make here.\n",
        "\n",
        "<font size=\"2\" color=\"#03bafc\"> At first glance, it might be the case that the average rate of polio for children that participate in the study is lower than the ones that do not. That is, is possible that the rates obtained in the study correctly reflect the underlying distribution of polio rates between these two groups. In that case, the parents would be right to not allow their children to be part of the study.\n",
        "\n",
        "<font size=\"2\" color=\"#03bafc\"> However, the previous argument relays in two assumptions that will possibly not hold in a second RCT. First, those rates where obtained in a situation where parents made their decisions without previous knowledge of results from a similar design experiment. Hence, their selection into consenting or not consenting to participate is driven by a different set of characteristics that for this second time. Second, and most importantly, the previous discussion suggested that the lower rate of contagion for students in the <i>No consent</i> group could be driven by an indirect protection from their schoolmates. This, in particular, depends on people consenting to participate. Otherwise, the expected rates of contagion could be as high as the ones obtained for the control group.\n",
        "\n",
        "<font size=\"2\" color=\"#03bafc\">  What is more, the herd immunity effect alone could explain the similarities between the two rates. Consider the null hypothesis $H_0 : rate_{\\text{Consent}} = rate_{\\text{No consent}}$ against the alternative $H_A : rate_{\\text{Consent}} > rate_{\\text{No consent}}$ and the statistic $T$ reflecting the number of contagions in the <i>Consent</i> group. Then the probability of observing this number is\n",
        "\n",
        "<font size=\"2\" color=\"#03bafc\"> $$ \\mathbb{P}_{H_0}(T = 198) = \\frac{{400,000\\choose 198}{350000\\choose 161}}{{750,000\\choose 359}} = 0.033$$\n",
        "\n",
        "with a $p$-value of 0.77. Hence, the null hypothesis is not rejected and the rates of contagion between the two groups are considered statistically equal. This implies the parents of the children that did not consent were not correct. \n",
        "</font>\n"
      ]
    },
    {
      "cell_type": "markdown",
      "metadata": {
        "id": "X2X10UDiJ_AS"
      },
      "source": [
        "## **Problem 1.2:** NASA Compton Gamma Ray Observatory Data (source: Rice, Ch.8)\n",
        "\n",
        "The file `gamma-ray` contains a small quantity of data collected from the Compton Gamma Ray Observatory, a satellite launched by NASA in 1991 [http://cossc.gsfc.nasa.gov/](http://cossc.gsfc.nasa.gov/). For each of 100 sequential time intervals of variable lengths (given in seconds), the number of gamma rays originating in a particular area of the sky was recorded. You would like to check the assumption that the emission rate is constant."
      ]
    },
    {
      "cell_type": "code",
      "metadata": {
        "id": "5rz7Jdu7-eqJ"
      },
      "source": [
        "from IPython.display import clear_output\n",
        "\n",
        "!wget https://github.com/pipeton8/6.439-stats-comp-applications/raw/main/Assignments/databases/PS1_data.zip -O \"PS1_data.zip\"\n",
        "!unzip -o PS1_data.zip\n",
        "!rm PS1_data.zip\n",
        "clear_output()\n",
        "\n",
        "import pandas as pd\n",
        "import numpy as np\n",
        "import plotly.graph_objects as go\n",
        "\n",
        "g_rayData = pd.read_csv('PS1_data/gamma-ray.csv')"
      ],
      "execution_count": null,
      "outputs": []
    },
    {
      "cell_type": "markdown",
      "metadata": {
        "id": "ghrVp3IZnSMv"
      },
      "source": [
        "##### (a) What is a good model for such data?\n"
      ]
    },
    {
      "cell_type": "markdown",
      "metadata": {
        "id": "boXaQcNqnbtL"
      },
      "source": [
        "<font size=\"2\" color=\"#03bafc\"> The number of events (in this case, $\\gamma$ ray emissions) during a certain timeframe could be modeled as following a Poisson distribution. Specifically, if we call $x_i$ to the number of events during time interval $t_i$, then the proposed model is $x_i \\sim Poisson(\\lambda_i t_i)$, where $\\lambda_i$ is an unknown parameter. Here, we are makign three assumptions: 1) Emissions occur independently from each other; 2) emissions do not happen at the same time, and; 3) the average rate ($\\lambda_i t_i$) is constant. </font>\n"
      ]
    },
    {
      "cell_type": "markdown",
      "metadata": {
        "id": "K8s1HnevnUl1"
      },
      "source": [
        "##### (b) Describe the null hypothesis $H_0$ and the alternative $H_A$.\n"
      ]
    },
    {
      "cell_type": "markdown",
      "metadata": {
        "id": "es8TSjEoncAO"
      },
      "source": [
        "<font size=\"2\" color=\"#03bafc\"> Following the model in the previous question. The null and alternative hypotheses are:\n",
        "  <ul>\n",
        "  <li> $H_0 : \\lambda_i = \\lambda_1 \\quad \\forall\\ i \\in \\{2,\\ldots,100\\}$\n",
        "  </li>\n",
        "  <li> $H_A : \\exists i \\in \\{2, \\ldots,100\\}: \\lambda_i \\neq \\lambda_1$\n",
        "  </li>\n",
        "  </ul>\n",
        "\n",
        "</font>\n"
      ]
    },
    {
      "cell_type": "markdown",
      "metadata": {
        "id": "N-HAv0LbnUyE"
      },
      "source": [
        "##### (c) What is(are) the most plausible parameter value(s) for the null model given the observations? Calculate the maximum likelihood estimate(s) (MLE) of the parameter(s). Compute the estimator(s) for these parameter(s) from the data and report the resulting value(s)."
      ]
    },
    {
      "cell_type": "markdown",
      "metadata": {
        "id": "yWMjGwtCncLb"
      },
      "source": [
        "<font size=\"2\" color=\"#03bafc\"> Since $\\lambda$ represent the rate under which events occur, then the most plausible parameter value should be to count the total number of events occured and dividing it over the total amount of time in which they occured: </font>\n"
      ]
    },
    {
      "cell_type": "code",
      "metadata": {
        "id": "Fzl6RgviaEgU",
        "colab": {
          "base_uri": "https://localhost:8080/"
        },
        "outputId": "d2f1eb2d-1f91-4f31-8d09-d3b2f20f5c5a"
      },
      "source": [
        "lambda_null = g_rayData['count'].sum()/g_rayData['seconds'].sum()\n",
        "\n",
        "print(f\"{lambda_null:.4f}\")"
      ],
      "execution_count": null,
      "outputs": [
        {
          "output_type": "stream",
          "name": "stdout",
          "text": [
            "0.0039\n"
          ]
        }
      ]
    },
    {
      "cell_type": "markdown",
      "metadata": {
        "id": "oa3Bvf7namO-"
      },
      "source": [
        "<font size=\"2\" color=\"#03bafc\"> To formally compute this parameter, note that the probability of observing this data, under the null, is:\n",
        "  $$p\\left(\\{x_i\\}_{i=1}^{100},\\{t_i\\}_{i=1}^{100};\\lambda\\right) = \\prod_{i=1}^{100} \\frac{(\\lambda t_i)^{x_i} e^{-\\lambda t_i}}{x_i!} = \\lambda^{\\sum_{i=1}^{100} x_i} \\cdot e^{-\\lambda \\sum_{i=1}^{100} t_i} \\cdot \\prod_{i=1}^{100} \\frac{t_i^{x_i}}{x_i!} $$\n",
        "\n",
        "Taking $log$ and differentiating with respect to $\\lambda$, we obtain\n",
        "  $$ \\frac{\\partial \\log p\\left(\\{x_i\\}_{i=1}^{100},\\{t_i\\}_{i=1}^{100};\\lambda\\right)}{\\partial \\lambda} = \\frac{1}{\\lambda}\\sum_{i=1}^{100} x_i - \\sum_{i=1}^{100} t_i $$\n",
        "which implies that the MLE for $\\lambda$ is \n",
        "  $$\\hat{\\lambda} = \\frac{\\sum_{i=1}^{100} x_i}{\\sum_{i=1}^{100} t_i} = \\frac{\\overline{x_i}}{\\overline{t_i}}$$\n",
        "</font>\n"
      ]
    },
    {
      "cell_type": "markdown",
      "metadata": {
        "id": "VBmhG0zQnVDX"
      },
      "source": [
        "##### (d) What is(are) the most plausible parameter value(s) for the alternative model given the observations? Calculate the MLE(s). Compute the estimator(s) for the parameter(s) from the data (you do not need to provide the value(s)). <i>Hint: You should carefully define the space for the parameter(s) of your model.</i>\n"
      ]
    },
    {
      "cell_type": "markdown",
      "metadata": {
        "id": "hpTWuzG5ncVr"
      },
      "source": [
        "<font size=\"2\" color=\"#03bafc\"> In this case, the MLE estimator allows $\\lambda_i$ to vary from observation to observation. In this case, following the calculations from the previous part, then we have that the probability of observing the data under the alternative is:\n",
        "  $$p\\left(\\{x_i\\}_{i=1}^{100},\\{t_i\\}_{i=1}^{100};\\{\\lambda_i\\}_{i=1}^{100}\\right) = \\prod_{i=1}^{100} \\frac{(\\lambda_i t_i)^{x_i} e^{-\\lambda_i t_i}}{x_i!} $$\n",
        "\n",
        "After taking $\\log$ and computing partial derivatives with respect to each $\\lambda_j$ we obtain\n",
        "  $$ \\frac{\\partial \\log p\\left(\\{t_i\\}_{i=1}^{100};\\{\\lambda_i\\}_{i=1}^{100}\\right)}{\\partial \\lambda_j} = \\frac{x_j}{\\lambda_j} - t_j = 0$$\n",
        "Which implies that the MLE for $\\lambda_i$ is \n",
        "  $$\\hat{\\lambda}_i = \\frac{x_i}{t_i}$$\n",
        "</font>\n"
      ]
    },
    {
      "cell_type": "code",
      "metadata": {
        "id": "xcSWDW4Kh2cZ"
      },
      "source": [
        "lambda_alt = (g_rayData['count']/g_rayData['seconds']).to_numpy()"
      ],
      "execution_count": null,
      "outputs": []
    },
    {
      "cell_type": "markdown",
      "metadata": {
        "id": "lrsEwyo2nVJT"
      },
      "source": [
        "##### (e) Define a test statistic and plot its distribution under $H_0$ using the software of your choice.\n"
      ]
    },
    {
      "cell_type": "markdown",
      "metadata": {
        "id": "7eBQLYrDncp2"
      },
      "source": [
        "<font size=\"2\" color=\"#03bafc\"> Given that we already computed the MLE under the null and alternative hypotheses, we could perform a likelihood ratio test for $H_0$. The likelihood ratio for this situation is given by:\n",
        "  $$ L\\left(\\{x_i\\}_{i=1}^{100},\\{t_i\\}_{i=1}^{100}\\right) = \\frac{\\max_{\\lambda}p\\left(\\{x_i\\}_{i=1}^{100},\\{t_i\\}_{i=1}^{100};\\lambda\\right)}{\\max_{\\{\\lambda_i\\}_{i=1}^{100}} p\\left(\\{x_i\\}_{i=1}^{100},\\{t_i\\}_{i=1}^{100};\\{\\lambda_i\\}_{i=1}^{100}\\right)} $$\n",
        "The statistic of interest is the transformed likelihood ratio:\n",
        "  $$\\Lambda\\left(\\{x_i\\}_{i=1}^{100},\\{t_i\\}_{i=1}^{100}\\right) = -2\\log L\\left(\\{x_i\\}_{i=1}^{100},\\{t_i\\}_{i=1}^{100}\\right)$$\n",
        "\n",
        "Which asymptotically distributes:\n",
        "  $$\\Lambda\\left(\\{t_i\\}_{i=1}^{100}\\right) \\sim \\chi^2_d$$\n",
        "with\n",
        "  $$d = 100 - 1 = 99$$\n",
        "since the total parameter space has dimension 100 and the null parameter space has dimension 1. Thus, the distribution of the test statistic is:\n",
        "</font>\n"
      ]
    },
    {
      "cell_type": "code",
      "metadata": {
        "id": "J_SWSiHjyXHl",
        "colab": {
          "base_uri": "https://localhost:8080/",
          "height": 417
        },
        "outputId": "edaa7dfc-6b8c-4433-83ab-9981d8ff7e4f"
      },
      "source": [
        "from scipy.stats import chi2\n",
        "\n",
        "df_chi = 99\n",
        "x_chi  = np.linspace(chi2.ppf(0.0001, df_chi),chi2.ppf(0.99, df_chi),200)\n",
        "f_chi  = chi2.pdf(x_chi, df_chi)\n",
        "\n",
        "fig = go.Figure()\n",
        "\n",
        "fig.add_trace(go.Scatter(x=x_chi, y=f_chi, mode='lines'))\n",
        "\n",
        "fig.update_layout(\n",
        "    autosize=False,\n",
        "    width=700,\n",
        "    height=400,\n",
        "    title={\n",
        "        'text': r'$\\text{Asymptotic distribution of }\\Lambda$',\n",
        "        'y':0.85,\n",
        "        'x':0.5,\n",
        "        'xanchor': 'center',\n",
        "        'yanchor': 'middle'},\n",
        "    xaxis_title = r'$\\Lambda$')\n",
        "\n",
        "fig.show()"
      ],
      "execution_count": null,
      "outputs": [
        {
          "output_type": "display_data",
          "data": {
            "text/html": [
              "<html>\n",
              "<head><meta charset=\"utf-8\" /></head>\n",
              "<body>\n",
              "    <div>\n",
              "            <script src=\"https://cdnjs.cloudflare.com/ajax/libs/mathjax/2.7.5/MathJax.js?config=TeX-AMS-MML_SVG\"></script><script type=\"text/javascript\">if (window.MathJax) {MathJax.Hub.Config({SVG: {font: \"STIX-Web\"}});}</script>\n",
              "                <script type=\"text/javascript\">window.PlotlyConfig = {MathJaxConfig: 'local'};</script>\n",
              "        <script src=\"https://cdn.plot.ly/plotly-latest.min.js\"></script>    \n",
              "            <div id=\"d2f13b3b-6c85-4e91-83d1-abc23c167dd7\" class=\"plotly-graph-div\" style=\"height:400px; width:700px;\"></div>\n",
              "            <script type=\"text/javascript\">\n",
              "                \n",
              "                    window.PLOTLYENV=window.PLOTLYENV || {};\n",
              "                    \n",
              "                if (document.getElementById(\"d2f13b3b-6c85-4e91-83d1-abc23c167dd7\")) {\n",
              "                    Plotly.newPlot(\n",
              "                        'd2f13b3b-6c85-4e91-83d1-abc23c167dd7',\n",
              "                        [{\"mode\": \"lines\", \"type\": \"scatter\", \"x\": [54.9868601478288, 55.38713530716529, 55.78741046650177, 56.187685625838256, 56.58796078517474, 56.988235944511224, 57.388511103847705, 57.78878626318419, 58.18906142252067, 58.58933658185716, 58.98961174119364, 59.38988690053013, 59.79016205986661, 60.1904372192031, 60.59071237853958, 60.990987537876066, 61.39126269721255, 61.791537856549034, 62.191813015885515, 62.592088175222, 62.99236333455848, 63.39263849389497, 63.79291365323145, 64.19318881256794, 64.59346397190443, 64.9937391312409, 65.39401429057739, 65.79428944991388, 66.19456460925036, 66.59483976858684, 66.99511492792332, 67.39539008725981, 67.7956652465963, 68.19594040593277, 68.59621556526926, 68.99649072460575, 69.39676588394224, 69.79704104327871, 70.1973162026152, 70.59759136195169, 70.99786652128817, 71.39814168062466, 71.79841683996113, 72.19869199929762, 72.59896715863411, 72.99924231797058, 73.39951747730707, 73.79979263664356, 74.20006779598005, 74.60034295531653, 75.00061811465301, 75.4008932739895, 75.80116843332598, 76.20144359266246, 76.60171875199894, 77.00199391133543, 77.40226907067192, 77.80254423000841, 78.20281938934488, 78.60309454868137, 79.00336970801786, 79.40364486735433, 79.80392002669082, 80.2041951860273, 80.6044703453638, 81.00474550470028, 81.40502066403675, 81.80529582337324, 82.20557098270973, 82.6058461420462, 83.00612130138269, 83.40639646071918, 83.80667162005567, 84.20694677939215, 84.60722193872863, 85.00749709806512, 85.4077722574016, 85.80804741673808, 86.20832257607456, 86.60859773541105, 87.00887289474754, 87.40914805408403, 87.8094232134205, 88.20969837275699, 88.60997353209348, 89.01024869142995, 89.41052385076645, 89.81079901010293, 90.21107416943941, 90.6113493287759, 91.01162448811237, 91.41189964744886, 91.81217480678535, 92.21244996612182, 92.61272512545833, 93.0130002847948, 93.41327544413129, 93.81355060346777, 94.21382576280425, 94.61410092214074, 95.01437608147722, 95.4146512408137, 95.8149264001502, 96.21520155948667, 96.61547671882316, 97.01575187815965, 97.41602703749612, 97.81630219683261, 98.2165773561691, 98.61685251550557, 99.01712767484207, 99.41740283417855, 99.81767799351503, 100.21795315285152, 100.618228312188, 101.01850347152448, 101.41877863086097, 101.81905379019744, 102.21932894953395, 102.61960410887042, 103.0198792682069, 103.4201544275434, 103.82042958687987, 104.22070474621636, 104.62097990555284, 105.02125506488932, 105.42153022422582, 105.82180538356229, 106.22208054289878, 106.62235570223527, 107.02263086157174, 107.42290602090824, 107.82318118024472, 108.2234563395812, 108.62373149891769, 109.02400665825417, 109.42428181759065, 109.82455697692714, 110.22483213626361, 110.62510729560012, 111.02538245493659, 111.42565761427308, 111.82593277360957, 112.22620793294604, 112.62648309228253, 113.02675825161901, 113.42703341095549, 113.82730857029199, 114.22758372962846, 114.62785888896495, 115.02813404830144, 115.42840920763791, 115.8286843669744, 116.22895952631089, 116.62923468564736, 117.02950984498386, 117.42978500432034, 117.83006016365682, 118.23033532299331, 118.63061048232979, 119.03088564166629, 119.43116080100276, 119.83143596033923, 120.23171111967574, 120.63198627901221, 121.03226143834868, 121.43253659768519, 121.83281175702166, 122.23308691635816, 122.63336207569463, 123.03363723503111, 123.43391239436761, 123.83418755370408, 124.23446271304056, 124.63473787237706, 125.03501303171353, 125.43528819105003, 125.83556335038651, 126.23583850972298, 126.63611366905948, 127.03638882839596, 127.43666398773243, 127.83693914706893, 128.2372143064054, 128.6374894657419, 129.03776462507838, 129.43803978441485, 129.83831494375136, 130.23859010308783, 130.6388652624243, 131.0391404217608, 131.43941558109728, 131.83969074043378, 132.23996589977025, 132.64024105910673, 133.04051621844323, 133.4407913777797, 133.8410665371162, 134.24134169645268, 134.64161685578915], \"y\": [4.201738091928954e-05, 4.889725319893132e-05, 5.675966673809268e-05, 6.572200874587248e-05, 7.591241970604153e-05, 8.747036210837427e-05, 0.00010054716994232316, 0.00011530657197738249, 0.0001319251814436713, 0.00015059294436548594, 0.00017151353849907414, 0.0001949047145916349, 0.00022099857152030865, 0.00025004175679463477, 0.0002822955839216026, 0.0003180360582439734, 0.0003575538030758887, 0.0004011538782793252, 0.00044915548385274977, 0.0005018915416410679, 0.0005597081489251348, 0.0006229638984064998, 0.0006920290599662986, 0.00076728462054448, 0.000849121179546425, 0.0009379376983344829, 0.001034140103592906, 0.0011381397456537523, 0.0012503517142284204, 0.0013711930153922926, 0.0015010806151032712, 0.0016404293559836149, 0.0017896497555462193, 0.0019491456954802532, 0.0021193120130158873, 0.0023005320067402794, 0.0024931748705324776, 0.0026975930704883173, 0.0029141196808267615, 0.003143065695765971, 0.0033847173352403222, 0.003639333363063486, 0.003907142436740234, 0.004188340508554851, 0.0044830882978345934, 0.004791508854370073, 0.005113685232895115, 0.005449658298249973, 0.005799424680408002, 0.006162934897909038, 0.006540091667437027, 0.0069307484162913924, 0.007334708013361857, 0.00775172173291072, 0.008181488464013963, 0.008623654176939926, 0.009077811656039589, 0.00954350050691796, 0.010020207443764318, 0.010507366860772199, 0.011004361689536788, 0.011510524542305216, 0.012025139138869302, 0.012547442012840897, 0.01307662449102369, 0.013611834937585608, 0.014152181252819064, 0.014696733614415779, 0.015244527447414719, 0.01579456660733642, 0.016345826759478453, 0.016897258935958965, 0.017447793250845917, 0.01799634275260091, 0.018541807392171605, 0.01908307808428879, 0.019619040838937216, 0.020148580939598287, 0.0206705871446095, 0.021183955887971537, 0.021687595456045365, 0.022180430116912127, 0.022661404179637704, 0.023129485961321878, 0.023583671640608702, 0.02402298897727974, 0.024446500878587917, 0.024853308794265606, 0.025242555923314043, 0.025613430217236194, 0.02596516716571812, 0.02629705235243563, 0.026608423770188253, 0.02689867388627293, 0.027167251450669224, 0.027413663041303757, 0.02763747434236845, 0.027838311153352068, 0.028015860128088262, 0.028169869244771654, 0.028300148009455923, 0.02840656739704628, 0.028489059535290136, 0.02854761713859645, 0.028582292699821845, 0.02859319744934832, 0.02858050009189313, 0.028544425332435987, 0.028485252203614992, 0.028403312207631197, 0.02829898728645877, 0.028172707634651552, 0.028024949369506932, 0.027856232073707524, 0.02766711622575161, 0.027458200533617288, 0.027230119187169416, 0.026983539044675528, 0.026719156768668925, 0.026437695926150438, 0.02613990406773069, 0.02582654979994621, 0.025498419864472266, 0.025156316237415342, 0.02480105326122387, 0.024433454821163058, 0.024054351577513258, 0.0236645782639931, 0.023264971062071833, 0.022856365060066147, 0.022439591805124896, 0.022015476955356175, 0.021584838038508983, 0.021148482322854396, 0.02070720480502349, 0.020261786318797312, 0.01981299176801514, 0.019361568486040506, 0.018908244723421102, 0.018453728264692385, 0.017998705174589683, 0.01754383867324614, 0.017089768139358266, 0.016637108239725237, 0.01618644818298298, 0.015738351094912874, 0.015293353512194005, 0.014851964991067623, 0.01441466782702113, 0.013981916881238298, 0.013554139509285627, 0.013131735587260584, 0.012715077630390878, 0.012304510998941393, 0.011900354186106727, 0.011502899182507829, 0.011112411911830477, 0.010729132732108971, 0.010353276997175876, 0.009985035672815001, 0.009624576002215083, 0.009272042215413083, 0.008927556277506483, 0.008591218670550925, 0.00826310920420399, 0.007943287850332438, 0.007631795596978887, 0.007328655317274101, 0.007033872649082182, 0.0067474368813692604, 0.0064693218435076414, 0.0061994867939429675, 0.005937877304887038, 0.005684426139905217, 0.005439054121527167, 0.005201670986200314, 0.004972176224160429, 0.004750459901999007, 0.004536403465936222, 0.00432988052400928, 0.004130757605607459, 0.003938894896975995, 0.0037541469515126485, 0.003576363373858411, 0.0034053894769737114, 0.003241066911546718, 0.003083234267257677, 0.0029317276455593103, 0.0027863812037871053, 0.0026470276705403864, 0.002513498832404002, 0.0023856259921873043, 0.0022632403989738628, 0.0021461736503597525, 0.0020342580673556863, 0.0019273270425006917, 0.0018252153618087403, 0.001727759501230879, 0.001634797898370618, 0.0015461712002356022]}],\n",
              "                        {\"autosize\": false, \"height\": 400, \"template\": {\"data\": {\"bar\": [{\"error_x\": {\"color\": \"#2a3f5f\"}, \"error_y\": {\"color\": \"#2a3f5f\"}, \"marker\": {\"line\": {\"color\": \"#E5ECF6\", \"width\": 0.5}}, \"type\": \"bar\"}], \"barpolar\": [{\"marker\": {\"line\": {\"color\": \"#E5ECF6\", \"width\": 0.5}}, \"type\": \"barpolar\"}], \"carpet\": [{\"aaxis\": {\"endlinecolor\": \"#2a3f5f\", \"gridcolor\": \"white\", \"linecolor\": \"white\", \"minorgridcolor\": \"white\", \"startlinecolor\": \"#2a3f5f\"}, \"baxis\": {\"endlinecolor\": \"#2a3f5f\", \"gridcolor\": \"white\", \"linecolor\": \"white\", \"minorgridcolor\": \"white\", \"startlinecolor\": \"#2a3f5f\"}, \"type\": \"carpet\"}], \"choropleth\": [{\"colorbar\": {\"outlinewidth\": 0, \"ticks\": \"\"}, \"type\": \"choropleth\"}], \"contour\": [{\"colorbar\": {\"outlinewidth\": 0, \"ticks\": \"\"}, \"colorscale\": [[0.0, \"#0d0887\"], [0.1111111111111111, \"#46039f\"], [0.2222222222222222, \"#7201a8\"], [0.3333333333333333, \"#9c179e\"], [0.4444444444444444, \"#bd3786\"], [0.5555555555555556, \"#d8576b\"], [0.6666666666666666, \"#ed7953\"], [0.7777777777777778, \"#fb9f3a\"], [0.8888888888888888, \"#fdca26\"], [1.0, \"#f0f921\"]], \"type\": \"contour\"}], \"contourcarpet\": [{\"colorbar\": {\"outlinewidth\": 0, \"ticks\": \"\"}, \"type\": \"contourcarpet\"}], \"heatmap\": [{\"colorbar\": {\"outlinewidth\": 0, \"ticks\": \"\"}, \"colorscale\": [[0.0, \"#0d0887\"], [0.1111111111111111, \"#46039f\"], [0.2222222222222222, \"#7201a8\"], [0.3333333333333333, \"#9c179e\"], [0.4444444444444444, \"#bd3786\"], [0.5555555555555556, \"#d8576b\"], [0.6666666666666666, \"#ed7953\"], [0.7777777777777778, \"#fb9f3a\"], [0.8888888888888888, \"#fdca26\"], [1.0, \"#f0f921\"]], \"type\": \"heatmap\"}], \"heatmapgl\": [{\"colorbar\": {\"outlinewidth\": 0, \"ticks\": \"\"}, \"colorscale\": [[0.0, \"#0d0887\"], [0.1111111111111111, \"#46039f\"], [0.2222222222222222, \"#7201a8\"], [0.3333333333333333, \"#9c179e\"], [0.4444444444444444, \"#bd3786\"], [0.5555555555555556, \"#d8576b\"], [0.6666666666666666, \"#ed7953\"], [0.7777777777777778, \"#fb9f3a\"], [0.8888888888888888, \"#fdca26\"], [1.0, \"#f0f921\"]], \"type\": \"heatmapgl\"}], \"histogram\": [{\"marker\": {\"colorbar\": {\"outlinewidth\": 0, \"ticks\": \"\"}}, \"type\": \"histogram\"}], \"histogram2d\": [{\"colorbar\": {\"outlinewidth\": 0, \"ticks\": \"\"}, \"colorscale\": [[0.0, \"#0d0887\"], [0.1111111111111111, \"#46039f\"], [0.2222222222222222, \"#7201a8\"], [0.3333333333333333, \"#9c179e\"], [0.4444444444444444, \"#bd3786\"], [0.5555555555555556, \"#d8576b\"], [0.6666666666666666, \"#ed7953\"], [0.7777777777777778, \"#fb9f3a\"], [0.8888888888888888, \"#fdca26\"], [1.0, \"#f0f921\"]], \"type\": \"histogram2d\"}], \"histogram2dcontour\": [{\"colorbar\": {\"outlinewidth\": 0, \"ticks\": \"\"}, \"colorscale\": [[0.0, \"#0d0887\"], [0.1111111111111111, \"#46039f\"], [0.2222222222222222, \"#7201a8\"], [0.3333333333333333, \"#9c179e\"], [0.4444444444444444, \"#bd3786\"], [0.5555555555555556, \"#d8576b\"], [0.6666666666666666, \"#ed7953\"], [0.7777777777777778, \"#fb9f3a\"], [0.8888888888888888, \"#fdca26\"], [1.0, \"#f0f921\"]], \"type\": \"histogram2dcontour\"}], \"mesh3d\": [{\"colorbar\": {\"outlinewidth\": 0, \"ticks\": \"\"}, \"type\": \"mesh3d\"}], \"parcoords\": [{\"line\": {\"colorbar\": {\"outlinewidth\": 0, \"ticks\": \"\"}}, \"type\": \"parcoords\"}], \"pie\": [{\"automargin\": true, \"type\": \"pie\"}], \"scatter\": [{\"marker\": {\"colorbar\": {\"outlinewidth\": 0, \"ticks\": \"\"}}, \"type\": \"scatter\"}], \"scatter3d\": [{\"line\": {\"colorbar\": {\"outlinewidth\": 0, \"ticks\": \"\"}}, \"marker\": {\"colorbar\": {\"outlinewidth\": 0, \"ticks\": \"\"}}, \"type\": \"scatter3d\"}], \"scattercarpet\": [{\"marker\": {\"colorbar\": {\"outlinewidth\": 0, \"ticks\": \"\"}}, \"type\": \"scattercarpet\"}], \"scattergeo\": [{\"marker\": {\"colorbar\": {\"outlinewidth\": 0, \"ticks\": \"\"}}, \"type\": \"scattergeo\"}], \"scattergl\": [{\"marker\": {\"colorbar\": {\"outlinewidth\": 0, \"ticks\": \"\"}}, \"type\": \"scattergl\"}], \"scattermapbox\": [{\"marker\": {\"colorbar\": {\"outlinewidth\": 0, \"ticks\": \"\"}}, \"type\": \"scattermapbox\"}], \"scatterpolar\": [{\"marker\": {\"colorbar\": {\"outlinewidth\": 0, \"ticks\": \"\"}}, \"type\": \"scatterpolar\"}], \"scatterpolargl\": [{\"marker\": {\"colorbar\": {\"outlinewidth\": 0, \"ticks\": \"\"}}, \"type\": \"scatterpolargl\"}], \"scatterternary\": [{\"marker\": {\"colorbar\": {\"outlinewidth\": 0, \"ticks\": \"\"}}, \"type\": \"scatterternary\"}], \"surface\": [{\"colorbar\": {\"outlinewidth\": 0, \"ticks\": \"\"}, \"colorscale\": [[0.0, \"#0d0887\"], [0.1111111111111111, \"#46039f\"], [0.2222222222222222, \"#7201a8\"], [0.3333333333333333, \"#9c179e\"], [0.4444444444444444, \"#bd3786\"], [0.5555555555555556, \"#d8576b\"], [0.6666666666666666, \"#ed7953\"], [0.7777777777777778, \"#fb9f3a\"], [0.8888888888888888, \"#fdca26\"], [1.0, \"#f0f921\"]], \"type\": \"surface\"}], \"table\": [{\"cells\": {\"fill\": {\"color\": \"#EBF0F8\"}, \"line\": {\"color\": \"white\"}}, \"header\": {\"fill\": {\"color\": \"#C8D4E3\"}, \"line\": {\"color\": \"white\"}}, \"type\": \"table\"}]}, \"layout\": {\"annotationdefaults\": {\"arrowcolor\": \"#2a3f5f\", \"arrowhead\": 0, \"arrowwidth\": 1}, \"coloraxis\": {\"colorbar\": {\"outlinewidth\": 0, \"ticks\": \"\"}}, \"colorscale\": {\"diverging\": [[0, \"#8e0152\"], [0.1, \"#c51b7d\"], [0.2, \"#de77ae\"], [0.3, \"#f1b6da\"], [0.4, \"#fde0ef\"], [0.5, \"#f7f7f7\"], [0.6, \"#e6f5d0\"], [0.7, \"#b8e186\"], [0.8, \"#7fbc41\"], [0.9, \"#4d9221\"], [1, \"#276419\"]], \"sequential\": [[0.0, \"#0d0887\"], [0.1111111111111111, \"#46039f\"], [0.2222222222222222, \"#7201a8\"], [0.3333333333333333, \"#9c179e\"], [0.4444444444444444, \"#bd3786\"], [0.5555555555555556, \"#d8576b\"], [0.6666666666666666, \"#ed7953\"], [0.7777777777777778, \"#fb9f3a\"], [0.8888888888888888, \"#fdca26\"], [1.0, \"#f0f921\"]], \"sequentialminus\": [[0.0, \"#0d0887\"], [0.1111111111111111, \"#46039f\"], [0.2222222222222222, \"#7201a8\"], [0.3333333333333333, \"#9c179e\"], [0.4444444444444444, \"#bd3786\"], [0.5555555555555556, \"#d8576b\"], [0.6666666666666666, \"#ed7953\"], [0.7777777777777778, \"#fb9f3a\"], [0.8888888888888888, \"#fdca26\"], [1.0, \"#f0f921\"]]}, \"colorway\": [\"#636efa\", \"#EF553B\", \"#00cc96\", \"#ab63fa\", \"#FFA15A\", \"#19d3f3\", \"#FF6692\", \"#B6E880\", \"#FF97FF\", \"#FECB52\"], \"font\": {\"color\": \"#2a3f5f\"}, \"geo\": {\"bgcolor\": \"white\", \"lakecolor\": \"white\", \"landcolor\": \"#E5ECF6\", \"showlakes\": true, \"showland\": true, \"subunitcolor\": \"white\"}, \"hoverlabel\": {\"align\": \"left\"}, \"hovermode\": \"closest\", \"mapbox\": {\"style\": \"light\"}, \"paper_bgcolor\": \"white\", \"plot_bgcolor\": \"#E5ECF6\", \"polar\": {\"angularaxis\": {\"gridcolor\": \"white\", \"linecolor\": \"white\", \"ticks\": \"\"}, \"bgcolor\": \"#E5ECF6\", \"radialaxis\": {\"gridcolor\": \"white\", \"linecolor\": \"white\", \"ticks\": \"\"}}, \"scene\": {\"xaxis\": {\"backgroundcolor\": \"#E5ECF6\", \"gridcolor\": \"white\", \"gridwidth\": 2, \"linecolor\": \"white\", \"showbackground\": true, \"ticks\": \"\", \"zerolinecolor\": \"white\"}, \"yaxis\": {\"backgroundcolor\": \"#E5ECF6\", \"gridcolor\": \"white\", \"gridwidth\": 2, \"linecolor\": \"white\", \"showbackground\": true, \"ticks\": \"\", \"zerolinecolor\": \"white\"}, \"zaxis\": {\"backgroundcolor\": \"#E5ECF6\", \"gridcolor\": \"white\", \"gridwidth\": 2, \"linecolor\": \"white\", \"showbackground\": true, \"ticks\": \"\", \"zerolinecolor\": \"white\"}}, \"shapedefaults\": {\"line\": {\"color\": \"#2a3f5f\"}}, \"ternary\": {\"aaxis\": {\"gridcolor\": \"white\", \"linecolor\": \"white\", \"ticks\": \"\"}, \"baxis\": {\"gridcolor\": \"white\", \"linecolor\": \"white\", \"ticks\": \"\"}, \"bgcolor\": \"#E5ECF6\", \"caxis\": {\"gridcolor\": \"white\", \"linecolor\": \"white\", \"ticks\": \"\"}}, \"title\": {\"x\": 0.05}, \"xaxis\": {\"automargin\": true, \"gridcolor\": \"white\", \"linecolor\": \"white\", \"ticks\": \"\", \"title\": {\"standoff\": 15}, \"zerolinecolor\": \"white\", \"zerolinewidth\": 2}, \"yaxis\": {\"automargin\": true, \"gridcolor\": \"white\", \"linecolor\": \"white\", \"ticks\": \"\", \"title\": {\"standoff\": 15}, \"zerolinecolor\": \"white\", \"zerolinewidth\": 2}}}, \"title\": {\"text\": \"$\\\\text{Asymptotic distribution of }\\\\Lambda$\", \"x\": 0.5, \"xanchor\": \"center\", \"y\": 0.85, \"yanchor\": \"middle\"}, \"width\": 700, \"xaxis\": {\"title\": {\"text\": \"$\\\\Lambda$\"}}},\n",
              "                        {\"responsive\": true}\n",
              "                    ).then(function(){\n",
              "                            \n",
              "var gd = document.getElementById('d2f13b3b-6c85-4e91-83d1-abc23c167dd7');\n",
              "var x = new MutationObserver(function (mutations, observer) {{\n",
              "        var display = window.getComputedStyle(gd).display;\n",
              "        if (!display || display === 'none') {{\n",
              "            console.log([gd, 'removed!']);\n",
              "            Plotly.purge(gd);\n",
              "            observer.disconnect();\n",
              "        }}\n",
              "}});\n",
              "\n",
              "// Listen for the removal of the full notebook cells\n",
              "var notebookContainer = gd.closest('#notebook-container');\n",
              "if (notebookContainer) {{\n",
              "    x.observe(notebookContainer, {childList: true});\n",
              "}}\n",
              "\n",
              "// Listen for the clearing of the current output cell\n",
              "var outputEl = gd.closest('.output');\n",
              "if (outputEl) {{\n",
              "    x.observe(outputEl, {childList: true});\n",
              "}}\n",
              "\n",
              "                        })\n",
              "                };\n",
              "                \n",
              "            </script>\n",
              "        </div>\n",
              "</body>\n",
              "</html>"
            ]
          },
          "metadata": {}
        }
      ]
    },
    {
      "cell_type": "markdown",
      "metadata": {
        "id": "V51TteL1nVNM"
      },
      "source": [
        "##### (f) Determine the rejection region at a significance level of 0.05. Depict it in the previous plot.\n"
      ]
    },
    {
      "cell_type": "markdown",
      "metadata": {
        "id": "w_BkJAJunc5t"
      },
      "source": [
        "<font size=\"2\" color=\"#03bafc\"> In this case, the rejection threshold is given by:\n",
        "</font>\n"
      ]
    },
    {
      "cell_type": "code",
      "metadata": {
        "id": "5QpALrcm5_vd",
        "colab": {
          "base_uri": "https://localhost:8080/",
          "height": 417
        },
        "outputId": "55f8b694-1df3-4149-86fe-462f063d3dcf"
      },
      "source": [
        "alpha = 0.05\n",
        "rej_threshold = chi2.ppf(1-alpha, 99)\n",
        "rej_linspace  = np.linspace(rej_threshold,x_chi[-1])\n",
        "\n",
        "fig.add_trace(go.Scatter(x=[rej_threshold,rej_threshold], \n",
        "                        y=[0,chi2.pdf(rej_threshold, df_chi)],\n",
        "                         mode = 'lines'))\n",
        "fig.add_trace(go.Scatter(x=rej_linspace, y=chi2.pdf(rej_linspace, df_chi), mode='lines', fill='tozeroy', line=dict(width=0, color='red')))\n",
        "\n",
        "fig.update_layout(showlegend=False)\n",
        "fig.show()"
      ],
      "execution_count": null,
      "outputs": [
        {
          "output_type": "display_data",
          "data": {
            "text/html": [
              "<html>\n",
              "<head><meta charset=\"utf-8\" /></head>\n",
              "<body>\n",
              "    <div>\n",
              "            <script src=\"https://cdnjs.cloudflare.com/ajax/libs/mathjax/2.7.5/MathJax.js?config=TeX-AMS-MML_SVG\"></script><script type=\"text/javascript\">if (window.MathJax) {MathJax.Hub.Config({SVG: {font: \"STIX-Web\"}});}</script>\n",
              "                <script type=\"text/javascript\">window.PlotlyConfig = {MathJaxConfig: 'local'};</script>\n",
              "        <script src=\"https://cdn.plot.ly/plotly-latest.min.js\"></script>    \n",
              "            <div id=\"8db0adec-7585-4c17-b28b-e56261a29af7\" class=\"plotly-graph-div\" style=\"height:400px; width:700px;\"></div>\n",
              "            <script type=\"text/javascript\">\n",
              "                \n",
              "                    window.PLOTLYENV=window.PLOTLYENV || {};\n",
              "                    \n",
              "                if (document.getElementById(\"8db0adec-7585-4c17-b28b-e56261a29af7\")) {\n",
              "                    Plotly.newPlot(\n",
              "                        '8db0adec-7585-4c17-b28b-e56261a29af7',\n",
              "                        [{\"mode\": \"lines\", \"type\": \"scatter\", \"x\": [54.9868601478288, 55.38713530716529, 55.78741046650177, 56.187685625838256, 56.58796078517474, 56.988235944511224, 57.388511103847705, 57.78878626318419, 58.18906142252067, 58.58933658185716, 58.98961174119364, 59.38988690053013, 59.79016205986661, 60.1904372192031, 60.59071237853958, 60.990987537876066, 61.39126269721255, 61.791537856549034, 62.191813015885515, 62.592088175222, 62.99236333455848, 63.39263849389497, 63.79291365323145, 64.19318881256794, 64.59346397190443, 64.9937391312409, 65.39401429057739, 65.79428944991388, 66.19456460925036, 66.59483976858684, 66.99511492792332, 67.39539008725981, 67.7956652465963, 68.19594040593277, 68.59621556526926, 68.99649072460575, 69.39676588394224, 69.79704104327871, 70.1973162026152, 70.59759136195169, 70.99786652128817, 71.39814168062466, 71.79841683996113, 72.19869199929762, 72.59896715863411, 72.99924231797058, 73.39951747730707, 73.79979263664356, 74.20006779598005, 74.60034295531653, 75.00061811465301, 75.4008932739895, 75.80116843332598, 76.20144359266246, 76.60171875199894, 77.00199391133543, 77.40226907067192, 77.80254423000841, 78.20281938934488, 78.60309454868137, 79.00336970801786, 79.40364486735433, 79.80392002669082, 80.2041951860273, 80.6044703453638, 81.00474550470028, 81.40502066403675, 81.80529582337324, 82.20557098270973, 82.6058461420462, 83.00612130138269, 83.40639646071918, 83.80667162005567, 84.20694677939215, 84.60722193872863, 85.00749709806512, 85.4077722574016, 85.80804741673808, 86.20832257607456, 86.60859773541105, 87.00887289474754, 87.40914805408403, 87.8094232134205, 88.20969837275699, 88.60997353209348, 89.01024869142995, 89.41052385076645, 89.81079901010293, 90.21107416943941, 90.6113493287759, 91.01162448811237, 91.41189964744886, 91.81217480678535, 92.21244996612182, 92.61272512545833, 93.0130002847948, 93.41327544413129, 93.81355060346777, 94.21382576280425, 94.61410092214074, 95.01437608147722, 95.4146512408137, 95.8149264001502, 96.21520155948667, 96.61547671882316, 97.01575187815965, 97.41602703749612, 97.81630219683261, 98.2165773561691, 98.61685251550557, 99.01712767484207, 99.41740283417855, 99.81767799351503, 100.21795315285152, 100.618228312188, 101.01850347152448, 101.41877863086097, 101.81905379019744, 102.21932894953395, 102.61960410887042, 103.0198792682069, 103.4201544275434, 103.82042958687987, 104.22070474621636, 104.62097990555284, 105.02125506488932, 105.42153022422582, 105.82180538356229, 106.22208054289878, 106.62235570223527, 107.02263086157174, 107.42290602090824, 107.82318118024472, 108.2234563395812, 108.62373149891769, 109.02400665825417, 109.42428181759065, 109.82455697692714, 110.22483213626361, 110.62510729560012, 111.02538245493659, 111.42565761427308, 111.82593277360957, 112.22620793294604, 112.62648309228253, 113.02675825161901, 113.42703341095549, 113.82730857029199, 114.22758372962846, 114.62785888896495, 115.02813404830144, 115.42840920763791, 115.8286843669744, 116.22895952631089, 116.62923468564736, 117.02950984498386, 117.42978500432034, 117.83006016365682, 118.23033532299331, 118.63061048232979, 119.03088564166629, 119.43116080100276, 119.83143596033923, 120.23171111967574, 120.63198627901221, 121.03226143834868, 121.43253659768519, 121.83281175702166, 122.23308691635816, 122.63336207569463, 123.03363723503111, 123.43391239436761, 123.83418755370408, 124.23446271304056, 124.63473787237706, 125.03501303171353, 125.43528819105003, 125.83556335038651, 126.23583850972298, 126.63611366905948, 127.03638882839596, 127.43666398773243, 127.83693914706893, 128.2372143064054, 128.6374894657419, 129.03776462507838, 129.43803978441485, 129.83831494375136, 130.23859010308783, 130.6388652624243, 131.0391404217608, 131.43941558109728, 131.83969074043378, 132.23996589977025, 132.64024105910673, 133.04051621844323, 133.4407913777797, 133.8410665371162, 134.24134169645268, 134.64161685578915], \"y\": [4.201738091928954e-05, 4.889725319893132e-05, 5.675966673809268e-05, 6.572200874587248e-05, 7.591241970604153e-05, 8.747036210837427e-05, 0.00010054716994232316, 0.00011530657197738249, 0.0001319251814436713, 0.00015059294436548594, 0.00017151353849907414, 0.0001949047145916349, 0.00022099857152030865, 0.00025004175679463477, 0.0002822955839216026, 0.0003180360582439734, 0.0003575538030758887, 0.0004011538782793252, 0.00044915548385274977, 0.0005018915416410679, 0.0005597081489251348, 0.0006229638984064998, 0.0006920290599662986, 0.00076728462054448, 0.000849121179546425, 0.0009379376983344829, 0.001034140103592906, 0.0011381397456537523, 0.0012503517142284204, 0.0013711930153922926, 0.0015010806151032712, 0.0016404293559836149, 0.0017896497555462193, 0.0019491456954802532, 0.0021193120130158873, 0.0023005320067402794, 0.0024931748705324776, 0.0026975930704883173, 0.0029141196808267615, 0.003143065695765971, 0.0033847173352403222, 0.003639333363063486, 0.003907142436740234, 0.004188340508554851, 0.0044830882978345934, 0.004791508854370073, 0.005113685232895115, 0.005449658298249973, 0.005799424680408002, 0.006162934897909038, 0.006540091667437027, 0.0069307484162913924, 0.007334708013361857, 0.00775172173291072, 0.008181488464013963, 0.008623654176939926, 0.009077811656039589, 0.00954350050691796, 0.010020207443764318, 0.010507366860772199, 0.011004361689536788, 0.011510524542305216, 0.012025139138869302, 0.012547442012840897, 0.01307662449102369, 0.013611834937585608, 0.014152181252819064, 0.014696733614415779, 0.015244527447414719, 0.01579456660733642, 0.016345826759478453, 0.016897258935958965, 0.017447793250845917, 0.01799634275260091, 0.018541807392171605, 0.01908307808428879, 0.019619040838937216, 0.020148580939598287, 0.0206705871446095, 0.021183955887971537, 0.021687595456045365, 0.022180430116912127, 0.022661404179637704, 0.023129485961321878, 0.023583671640608702, 0.02402298897727974, 0.024446500878587917, 0.024853308794265606, 0.025242555923314043, 0.025613430217236194, 0.02596516716571812, 0.02629705235243563, 0.026608423770188253, 0.02689867388627293, 0.027167251450669224, 0.027413663041303757, 0.02763747434236845, 0.027838311153352068, 0.028015860128088262, 0.028169869244771654, 0.028300148009455923, 0.02840656739704628, 0.028489059535290136, 0.02854761713859645, 0.028582292699821845, 0.02859319744934832, 0.02858050009189313, 0.028544425332435987, 0.028485252203614992, 0.028403312207631197, 0.02829898728645877, 0.028172707634651552, 0.028024949369506932, 0.027856232073707524, 0.02766711622575161, 0.027458200533617288, 0.027230119187169416, 0.026983539044675528, 0.026719156768668925, 0.026437695926150438, 0.02613990406773069, 0.02582654979994621, 0.025498419864472266, 0.025156316237415342, 0.02480105326122387, 0.024433454821163058, 0.024054351577513258, 0.0236645782639931, 0.023264971062071833, 0.022856365060066147, 0.022439591805124896, 0.022015476955356175, 0.021584838038508983, 0.021148482322854396, 0.02070720480502349, 0.020261786318797312, 0.01981299176801514, 0.019361568486040506, 0.018908244723421102, 0.018453728264692385, 0.017998705174589683, 0.01754383867324614, 0.017089768139358266, 0.016637108239725237, 0.01618644818298298, 0.015738351094912874, 0.015293353512194005, 0.014851964991067623, 0.01441466782702113, 0.013981916881238298, 0.013554139509285627, 0.013131735587260584, 0.012715077630390878, 0.012304510998941393, 0.011900354186106727, 0.011502899182507829, 0.011112411911830477, 0.010729132732108971, 0.010353276997175876, 0.009985035672815001, 0.009624576002215083, 0.009272042215413083, 0.008927556277506483, 0.008591218670550925, 0.00826310920420399, 0.007943287850332438, 0.007631795596978887, 0.007328655317274101, 0.007033872649082182, 0.0067474368813692604, 0.0064693218435076414, 0.0061994867939429675, 0.005937877304887038, 0.005684426139905217, 0.005439054121527167, 0.005201670986200314, 0.004972176224160429, 0.004750459901999007, 0.004536403465936222, 0.00432988052400928, 0.004130757605607459, 0.003938894896975995, 0.0037541469515126485, 0.003576363373858411, 0.0034053894769737114, 0.003241066911546718, 0.003083234267257677, 0.0029317276455593103, 0.0027863812037871053, 0.0026470276705403864, 0.002513498832404002, 0.0023856259921873043, 0.0022632403989738628, 0.0021461736503597525, 0.0020342580673556863, 0.0019273270425006917, 0.0018252153618087403, 0.001727759501230879, 0.001634797898370618, 0.0015461712002356022]}, {\"mode\": \"lines\", \"type\": \"scatter\", \"x\": [123.2252214533618, 123.2252214533618], \"y\": [0, 0.006339140273109225]}, {\"fill\": \"tozeroy\", \"line\": {\"color\": \"red\", \"width\": 0}, \"mode\": \"lines\", \"type\": \"scatter\", \"x\": [123.2252214533618, 123.45820911463582, 123.69119677590986, 123.92418443718388, 124.1571720984579, 124.39015975973193, 124.62314742100597, 124.85613508227999, 125.08912274355401, 125.32211040482805, 125.55509806610208, 125.7880857273761, 126.02107338865012, 126.25406104992416, 126.48704871119818, 126.72003637247221, 126.95302403374625, 127.18601169502027, 127.4189993562943, 127.65198701756832, 127.88497467884235, 128.11796234011638, 128.3509500013904, 128.58393766266443, 128.81692532393845, 129.0499129852125, 129.28290064648652, 129.51588830776055, 129.74887596903457, 129.9818636303086, 130.21485129158262, 130.44783895285664, 130.6808266141307, 130.91381427540472, 131.14680193667874, 131.37978959795277, 131.6127772592268, 131.8457649205008, 132.07875258177484, 132.3117402430489, 132.5447279043229, 132.77771556559694, 133.01070322687096, 133.24369088814498, 133.476678549419, 133.70966621069303, 133.94265387196708, 134.1756415332411, 134.40862919451513, 134.64161685578915], \"y\": [0.006339140273109225, 0.006183373210571821, 0.006030391977157445, 0.005880183662836917, 0.005732733951613198, 0.0055880271791696814, 0.005446046390001092, 0.005306773393973275, 0.005170188822262191, 0.005036272182619822, 0.004905001913921826, 0.004776355439953302, 0.004650309222393577, 0.004526838812958495, 0.0044059189046692275, 0.004287523382210801, 0.004171625371355167, 0.004058197287416932, 0.00394721088271897, 0.0038386372930461266, 0.0037324470830659923, 0.003628610290698083, 0.003527096470418372, 0.0034278747354828188, 0.0033309137990613783, 0.003236182014271317, 0.0031436474131047694, 0.003053277744241009, 0.002965040509745235, 0.0028789030006495645, 0.0027948323314131783, 0.0027127954732698765, 0.0026327592864597445, 0.0025546905513532097, 0.002478555998471192, 0.002404322337410644, 0.002331956284682649, 0.0022614245904725586, 0.0021926940643341533, 0.0021257315998287753, 0.0020605041981223396, 0.001996978990554625, 0.0019351232601951378, 0.001874904462400238, 0.0018162902443895242, 0.0017592484638564764, 0.001703747206631648, 0.001649754803417607, 0.0015972398456111521, 0.0015461712002356022]}],\n",
              "                        {\"autosize\": false, \"height\": 400, \"showlegend\": false, \"template\": {\"data\": {\"bar\": [{\"error_x\": {\"color\": \"#2a3f5f\"}, \"error_y\": {\"color\": \"#2a3f5f\"}, \"marker\": {\"line\": {\"color\": \"#E5ECF6\", \"width\": 0.5}}, \"type\": \"bar\"}], \"barpolar\": [{\"marker\": {\"line\": {\"color\": \"#E5ECF6\", \"width\": 0.5}}, \"type\": \"barpolar\"}], \"carpet\": [{\"aaxis\": {\"endlinecolor\": \"#2a3f5f\", \"gridcolor\": \"white\", \"linecolor\": \"white\", \"minorgridcolor\": \"white\", \"startlinecolor\": \"#2a3f5f\"}, \"baxis\": {\"endlinecolor\": \"#2a3f5f\", \"gridcolor\": \"white\", \"linecolor\": \"white\", \"minorgridcolor\": \"white\", \"startlinecolor\": \"#2a3f5f\"}, \"type\": \"carpet\"}], \"choropleth\": [{\"colorbar\": {\"outlinewidth\": 0, \"ticks\": \"\"}, \"type\": \"choropleth\"}], \"contour\": [{\"colorbar\": {\"outlinewidth\": 0, \"ticks\": \"\"}, \"colorscale\": [[0.0, \"#0d0887\"], [0.1111111111111111, \"#46039f\"], [0.2222222222222222, \"#7201a8\"], [0.3333333333333333, \"#9c179e\"], [0.4444444444444444, \"#bd3786\"], [0.5555555555555556, \"#d8576b\"], [0.6666666666666666, \"#ed7953\"], [0.7777777777777778, \"#fb9f3a\"], [0.8888888888888888, \"#fdca26\"], [1.0, \"#f0f921\"]], \"type\": \"contour\"}], \"contourcarpet\": [{\"colorbar\": {\"outlinewidth\": 0, \"ticks\": \"\"}, \"type\": \"contourcarpet\"}], \"heatmap\": [{\"colorbar\": {\"outlinewidth\": 0, \"ticks\": \"\"}, \"colorscale\": [[0.0, \"#0d0887\"], [0.1111111111111111, \"#46039f\"], [0.2222222222222222, \"#7201a8\"], [0.3333333333333333, \"#9c179e\"], [0.4444444444444444, \"#bd3786\"], [0.5555555555555556, \"#d8576b\"], [0.6666666666666666, \"#ed7953\"], [0.7777777777777778, \"#fb9f3a\"], [0.8888888888888888, \"#fdca26\"], [1.0, \"#f0f921\"]], \"type\": \"heatmap\"}], \"heatmapgl\": [{\"colorbar\": {\"outlinewidth\": 0, \"ticks\": \"\"}, \"colorscale\": [[0.0, \"#0d0887\"], [0.1111111111111111, \"#46039f\"], [0.2222222222222222, \"#7201a8\"], [0.3333333333333333, \"#9c179e\"], [0.4444444444444444, \"#bd3786\"], [0.5555555555555556, \"#d8576b\"], [0.6666666666666666, \"#ed7953\"], [0.7777777777777778, \"#fb9f3a\"], [0.8888888888888888, \"#fdca26\"], [1.0, \"#f0f921\"]], \"type\": \"heatmapgl\"}], \"histogram\": [{\"marker\": {\"colorbar\": {\"outlinewidth\": 0, \"ticks\": \"\"}}, \"type\": \"histogram\"}], \"histogram2d\": [{\"colorbar\": {\"outlinewidth\": 0, \"ticks\": \"\"}, \"colorscale\": [[0.0, \"#0d0887\"], [0.1111111111111111, \"#46039f\"], [0.2222222222222222, \"#7201a8\"], [0.3333333333333333, \"#9c179e\"], [0.4444444444444444, \"#bd3786\"], [0.5555555555555556, \"#d8576b\"], [0.6666666666666666, \"#ed7953\"], [0.7777777777777778, \"#fb9f3a\"], [0.8888888888888888, \"#fdca26\"], [1.0, \"#f0f921\"]], \"type\": \"histogram2d\"}], \"histogram2dcontour\": [{\"colorbar\": {\"outlinewidth\": 0, \"ticks\": \"\"}, \"colorscale\": [[0.0, \"#0d0887\"], [0.1111111111111111, \"#46039f\"], [0.2222222222222222, \"#7201a8\"], [0.3333333333333333, \"#9c179e\"], [0.4444444444444444, \"#bd3786\"], [0.5555555555555556, \"#d8576b\"], [0.6666666666666666, \"#ed7953\"], [0.7777777777777778, \"#fb9f3a\"], [0.8888888888888888, \"#fdca26\"], [1.0, \"#f0f921\"]], \"type\": \"histogram2dcontour\"}], \"mesh3d\": [{\"colorbar\": {\"outlinewidth\": 0, \"ticks\": \"\"}, \"type\": \"mesh3d\"}], \"parcoords\": [{\"line\": {\"colorbar\": {\"outlinewidth\": 0, \"ticks\": \"\"}}, \"type\": \"parcoords\"}], \"pie\": [{\"automargin\": true, \"type\": \"pie\"}], \"scatter\": [{\"marker\": {\"colorbar\": {\"outlinewidth\": 0, \"ticks\": \"\"}}, \"type\": \"scatter\"}], \"scatter3d\": [{\"line\": {\"colorbar\": {\"outlinewidth\": 0, \"ticks\": \"\"}}, \"marker\": {\"colorbar\": {\"outlinewidth\": 0, \"ticks\": \"\"}}, \"type\": \"scatter3d\"}], \"scattercarpet\": [{\"marker\": {\"colorbar\": {\"outlinewidth\": 0, \"ticks\": \"\"}}, \"type\": \"scattercarpet\"}], \"scattergeo\": [{\"marker\": {\"colorbar\": {\"outlinewidth\": 0, \"ticks\": \"\"}}, \"type\": \"scattergeo\"}], \"scattergl\": [{\"marker\": {\"colorbar\": {\"outlinewidth\": 0, \"ticks\": \"\"}}, \"type\": \"scattergl\"}], \"scattermapbox\": [{\"marker\": {\"colorbar\": {\"outlinewidth\": 0, \"ticks\": \"\"}}, \"type\": \"scattermapbox\"}], \"scatterpolar\": [{\"marker\": {\"colorbar\": {\"outlinewidth\": 0, \"ticks\": \"\"}}, \"type\": \"scatterpolar\"}], \"scatterpolargl\": [{\"marker\": {\"colorbar\": {\"outlinewidth\": 0, \"ticks\": \"\"}}, \"type\": \"scatterpolargl\"}], \"scatterternary\": [{\"marker\": {\"colorbar\": {\"outlinewidth\": 0, \"ticks\": \"\"}}, \"type\": \"scatterternary\"}], \"surface\": [{\"colorbar\": {\"outlinewidth\": 0, \"ticks\": \"\"}, \"colorscale\": [[0.0, \"#0d0887\"], [0.1111111111111111, \"#46039f\"], [0.2222222222222222, \"#7201a8\"], [0.3333333333333333, \"#9c179e\"], [0.4444444444444444, \"#bd3786\"], [0.5555555555555556, \"#d8576b\"], [0.6666666666666666, \"#ed7953\"], [0.7777777777777778, \"#fb9f3a\"], [0.8888888888888888, \"#fdca26\"], [1.0, \"#f0f921\"]], \"type\": \"surface\"}], \"table\": [{\"cells\": {\"fill\": {\"color\": \"#EBF0F8\"}, \"line\": {\"color\": \"white\"}}, \"header\": {\"fill\": {\"color\": \"#C8D4E3\"}, \"line\": {\"color\": \"white\"}}, \"type\": \"table\"}]}, \"layout\": {\"annotationdefaults\": {\"arrowcolor\": \"#2a3f5f\", \"arrowhead\": 0, \"arrowwidth\": 1}, \"coloraxis\": {\"colorbar\": {\"outlinewidth\": 0, \"ticks\": \"\"}}, \"colorscale\": {\"diverging\": [[0, \"#8e0152\"], [0.1, \"#c51b7d\"], [0.2, \"#de77ae\"], [0.3, \"#f1b6da\"], [0.4, \"#fde0ef\"], [0.5, \"#f7f7f7\"], [0.6, \"#e6f5d0\"], [0.7, \"#b8e186\"], [0.8, \"#7fbc41\"], [0.9, \"#4d9221\"], [1, \"#276419\"]], \"sequential\": [[0.0, \"#0d0887\"], [0.1111111111111111, \"#46039f\"], [0.2222222222222222, \"#7201a8\"], [0.3333333333333333, \"#9c179e\"], [0.4444444444444444, \"#bd3786\"], [0.5555555555555556, \"#d8576b\"], [0.6666666666666666, \"#ed7953\"], [0.7777777777777778, \"#fb9f3a\"], [0.8888888888888888, \"#fdca26\"], [1.0, \"#f0f921\"]], \"sequentialminus\": [[0.0, \"#0d0887\"], [0.1111111111111111, \"#46039f\"], [0.2222222222222222, \"#7201a8\"], [0.3333333333333333, \"#9c179e\"], [0.4444444444444444, \"#bd3786\"], [0.5555555555555556, \"#d8576b\"], [0.6666666666666666, \"#ed7953\"], [0.7777777777777778, \"#fb9f3a\"], [0.8888888888888888, \"#fdca26\"], [1.0, \"#f0f921\"]]}, \"colorway\": [\"#636efa\", \"#EF553B\", \"#00cc96\", \"#ab63fa\", \"#FFA15A\", \"#19d3f3\", \"#FF6692\", \"#B6E880\", \"#FF97FF\", \"#FECB52\"], \"font\": {\"color\": \"#2a3f5f\"}, \"geo\": {\"bgcolor\": \"white\", \"lakecolor\": \"white\", \"landcolor\": \"#E5ECF6\", \"showlakes\": true, \"showland\": true, \"subunitcolor\": \"white\"}, \"hoverlabel\": {\"align\": \"left\"}, \"hovermode\": \"closest\", \"mapbox\": {\"style\": \"light\"}, \"paper_bgcolor\": \"white\", \"plot_bgcolor\": \"#E5ECF6\", \"polar\": {\"angularaxis\": {\"gridcolor\": \"white\", \"linecolor\": \"white\", \"ticks\": \"\"}, \"bgcolor\": \"#E5ECF6\", \"radialaxis\": {\"gridcolor\": \"white\", \"linecolor\": \"white\", \"ticks\": \"\"}}, \"scene\": {\"xaxis\": {\"backgroundcolor\": \"#E5ECF6\", \"gridcolor\": \"white\", \"gridwidth\": 2, \"linecolor\": \"white\", \"showbackground\": true, \"ticks\": \"\", \"zerolinecolor\": \"white\"}, \"yaxis\": {\"backgroundcolor\": \"#E5ECF6\", \"gridcolor\": \"white\", \"gridwidth\": 2, \"linecolor\": \"white\", \"showbackground\": true, \"ticks\": \"\", \"zerolinecolor\": \"white\"}, \"zaxis\": {\"backgroundcolor\": \"#E5ECF6\", \"gridcolor\": \"white\", \"gridwidth\": 2, \"linecolor\": \"white\", \"showbackground\": true, \"ticks\": \"\", \"zerolinecolor\": \"white\"}}, \"shapedefaults\": {\"line\": {\"color\": \"#2a3f5f\"}}, \"ternary\": {\"aaxis\": {\"gridcolor\": \"white\", \"linecolor\": \"white\", \"ticks\": \"\"}, \"baxis\": {\"gridcolor\": \"white\", \"linecolor\": \"white\", \"ticks\": \"\"}, \"bgcolor\": \"#E5ECF6\", \"caxis\": {\"gridcolor\": \"white\", \"linecolor\": \"white\", \"ticks\": \"\"}}, \"title\": {\"x\": 0.05}, \"xaxis\": {\"automargin\": true, \"gridcolor\": \"white\", \"linecolor\": \"white\", \"ticks\": \"\", \"title\": {\"standoff\": 15}, \"zerolinecolor\": \"white\", \"zerolinewidth\": 2}, \"yaxis\": {\"automargin\": true, \"gridcolor\": \"white\", \"linecolor\": \"white\", \"ticks\": \"\", \"title\": {\"standoff\": 15}, \"zerolinecolor\": \"white\", \"zerolinewidth\": 2}}}, \"title\": {\"text\": \"$\\\\text{Asymptotic distribution of }\\\\Lambda$\", \"x\": 0.5, \"xanchor\": \"center\", \"y\": 0.85, \"yanchor\": \"middle\"}, \"width\": 700, \"xaxis\": {\"title\": {\"text\": \"$\\\\Lambda$\"}}},\n",
              "                        {\"responsive\": true}\n",
              "                    ).then(function(){\n",
              "                            \n",
              "var gd = document.getElementById('8db0adec-7585-4c17-b28b-e56261a29af7');\n",
              "var x = new MutationObserver(function (mutations, observer) {{\n",
              "        var display = window.getComputedStyle(gd).display;\n",
              "        if (!display || display === 'none') {{\n",
              "            console.log([gd, 'removed!']);\n",
              "            Plotly.purge(gd);\n",
              "            observer.disconnect();\n",
              "        }}\n",
              "}});\n",
              "\n",
              "// Listen for the removal of the full notebook cells\n",
              "var notebookContainer = gd.closest('#notebook-container');\n",
              "if (notebookContainer) {{\n",
              "    x.observe(notebookContainer, {childList: true});\n",
              "}}\n",
              "\n",
              "// Listen for the clearing of the current output cell\n",
              "var outputEl = gd.closest('.output');\n",
              "if (outputEl) {{\n",
              "    x.observe(outputEl, {childList: true});\n",
              "}}\n",
              "\n",
              "                        })\n",
              "                };\n",
              "                \n",
              "            </script>\n",
              "        </div>\n",
              "</body>\n",
              "</html>"
            ]
          },
          "metadata": {}
        }
      ]
    },
    {
      "cell_type": "markdown",
      "metadata": {
        "id": "UOc5Fab2nZ1Y"
      },
      "source": [
        "\n",
        "##### (g) Also show the value of the test statistic in the previous plot. What is its $p$-value? Based on the data collected by the observatory and the analysis that you have conducted, does the emission rate appear to be constant?"
      ]
    },
    {
      "cell_type": "markdown",
      "metadata": {
        "id": "EFrHh-PRndSI"
      },
      "source": [
        "<font size=\"2\" color=\"#03bafc\"> The value of the test statistic is </font>\n"
      ]
    },
    {
      "cell_type": "code",
      "metadata": {
        "id": "ILFXLrvbjHce",
        "colab": {
          "base_uri": "https://localhost:8080/"
        },
        "outputId": "0f11d662-4462-4bd2-9b47-9f616f2fb917"
      },
      "source": [
        "from scipy.special import factorial\n",
        "\n",
        "def likelihood(x_i,t_i,lambda_i):\n",
        "  term_1 = np.power(lambda_i * t_i,x_i)\n",
        "  term_2 = np.exp(-lambda_i * t_i)\n",
        "  term_3 = factorial(x_i)\n",
        "  \n",
        "  return np.prod(term_1 * term_2 / (1.0 * term_3))\n",
        "\n",
        "likelihood_h0 = likelihood(g_rayData['count'].to_numpy(), g_rayData['seconds'].to_numpy(), lambda_null)\n",
        "likelihood_hA = likelihood(g_rayData['count'].to_numpy(), g_rayData['seconds'].to_numpy(), lambda_alt)\n",
        "Lambda = -2 * np.log(likelihood_h0/likelihood_hA)\n",
        "print(f'{Lambda:.2f}')"
      ],
      "execution_count": null,
      "outputs": [
        {
          "output_type": "stream",
          "name": "stdout",
          "text": [
            "104.40\n"
          ]
        }
      ]
    },
    {
      "cell_type": "markdown",
      "metadata": {
        "id": "z4TvC4oPAgXo"
      },
      "source": [
        "<font size=\"2\" color=\"#03bafc\"> Which in the previous plot falls outside the rejection region\n",
        "</font>"
      ]
    },
    {
      "cell_type": "code",
      "metadata": {
        "id": "DqPVFdkmAnnE",
        "colab": {
          "base_uri": "https://localhost:8080/",
          "height": 417
        },
        "outputId": "f2a3328c-4c00-4cba-8e2d-3225153ad535"
      },
      "source": [
        "fig.add_trace(go.Scatter(x=[Lambda], \n",
        "                        y=[0],\n",
        "                         mode = 'markers'))"
      ],
      "execution_count": null,
      "outputs": [
        {
          "output_type": "display_data",
          "data": {
            "text/html": [
              "<html>\n",
              "<head><meta charset=\"utf-8\" /></head>\n",
              "<body>\n",
              "    <div>\n",
              "            <script src=\"https://cdnjs.cloudflare.com/ajax/libs/mathjax/2.7.5/MathJax.js?config=TeX-AMS-MML_SVG\"></script><script type=\"text/javascript\">if (window.MathJax) {MathJax.Hub.Config({SVG: {font: \"STIX-Web\"}});}</script>\n",
              "                <script type=\"text/javascript\">window.PlotlyConfig = {MathJaxConfig: 'local'};</script>\n",
              "        <script src=\"https://cdn.plot.ly/plotly-latest.min.js\"></script>    \n",
              "            <div id=\"ec6f848a-8e2e-40fc-8947-371febca1cb7\" class=\"plotly-graph-div\" style=\"height:400px; width:700px;\"></div>\n",
              "            <script type=\"text/javascript\">\n",
              "                \n",
              "                    window.PLOTLYENV=window.PLOTLYENV || {};\n",
              "                    \n",
              "                if (document.getElementById(\"ec6f848a-8e2e-40fc-8947-371febca1cb7\")) {\n",
              "                    Plotly.newPlot(\n",
              "                        'ec6f848a-8e2e-40fc-8947-371febca1cb7',\n",
              "                        [{\"mode\": \"lines\", \"type\": \"scatter\", \"x\": [54.9868601478288, 55.38713530716529, 55.78741046650177, 56.187685625838256, 56.58796078517474, 56.988235944511224, 57.388511103847705, 57.78878626318419, 58.18906142252067, 58.58933658185716, 58.98961174119364, 59.38988690053013, 59.79016205986661, 60.1904372192031, 60.59071237853958, 60.990987537876066, 61.39126269721255, 61.791537856549034, 62.191813015885515, 62.592088175222, 62.99236333455848, 63.39263849389497, 63.79291365323145, 64.19318881256794, 64.59346397190443, 64.9937391312409, 65.39401429057739, 65.79428944991388, 66.19456460925036, 66.59483976858684, 66.99511492792332, 67.39539008725981, 67.7956652465963, 68.19594040593277, 68.59621556526926, 68.99649072460575, 69.39676588394224, 69.79704104327871, 70.1973162026152, 70.59759136195169, 70.99786652128817, 71.39814168062466, 71.79841683996113, 72.19869199929762, 72.59896715863411, 72.99924231797058, 73.39951747730707, 73.79979263664356, 74.20006779598005, 74.60034295531653, 75.00061811465301, 75.4008932739895, 75.80116843332598, 76.20144359266246, 76.60171875199894, 77.00199391133543, 77.40226907067192, 77.80254423000841, 78.20281938934488, 78.60309454868137, 79.00336970801786, 79.40364486735433, 79.80392002669082, 80.2041951860273, 80.6044703453638, 81.00474550470028, 81.40502066403675, 81.80529582337324, 82.20557098270973, 82.6058461420462, 83.00612130138269, 83.40639646071918, 83.80667162005567, 84.20694677939215, 84.60722193872863, 85.00749709806512, 85.4077722574016, 85.80804741673808, 86.20832257607456, 86.60859773541105, 87.00887289474754, 87.40914805408403, 87.8094232134205, 88.20969837275699, 88.60997353209348, 89.01024869142995, 89.41052385076645, 89.81079901010293, 90.21107416943941, 90.6113493287759, 91.01162448811237, 91.41189964744886, 91.81217480678535, 92.21244996612182, 92.61272512545833, 93.0130002847948, 93.41327544413129, 93.81355060346777, 94.21382576280425, 94.61410092214074, 95.01437608147722, 95.4146512408137, 95.8149264001502, 96.21520155948667, 96.61547671882316, 97.01575187815965, 97.41602703749612, 97.81630219683261, 98.2165773561691, 98.61685251550557, 99.01712767484207, 99.41740283417855, 99.81767799351503, 100.21795315285152, 100.618228312188, 101.01850347152448, 101.41877863086097, 101.81905379019744, 102.21932894953395, 102.61960410887042, 103.0198792682069, 103.4201544275434, 103.82042958687987, 104.22070474621636, 104.62097990555284, 105.02125506488932, 105.42153022422582, 105.82180538356229, 106.22208054289878, 106.62235570223527, 107.02263086157174, 107.42290602090824, 107.82318118024472, 108.2234563395812, 108.62373149891769, 109.02400665825417, 109.42428181759065, 109.82455697692714, 110.22483213626361, 110.62510729560012, 111.02538245493659, 111.42565761427308, 111.82593277360957, 112.22620793294604, 112.62648309228253, 113.02675825161901, 113.42703341095549, 113.82730857029199, 114.22758372962846, 114.62785888896495, 115.02813404830144, 115.42840920763791, 115.8286843669744, 116.22895952631089, 116.62923468564736, 117.02950984498386, 117.42978500432034, 117.83006016365682, 118.23033532299331, 118.63061048232979, 119.03088564166629, 119.43116080100276, 119.83143596033923, 120.23171111967574, 120.63198627901221, 121.03226143834868, 121.43253659768519, 121.83281175702166, 122.23308691635816, 122.63336207569463, 123.03363723503111, 123.43391239436761, 123.83418755370408, 124.23446271304056, 124.63473787237706, 125.03501303171353, 125.43528819105003, 125.83556335038651, 126.23583850972298, 126.63611366905948, 127.03638882839596, 127.43666398773243, 127.83693914706893, 128.2372143064054, 128.6374894657419, 129.03776462507838, 129.43803978441485, 129.83831494375136, 130.23859010308783, 130.6388652624243, 131.0391404217608, 131.43941558109728, 131.83969074043378, 132.23996589977025, 132.64024105910673, 133.04051621844323, 133.4407913777797, 133.8410665371162, 134.24134169645268, 134.64161685578915], \"y\": [4.201738091928954e-05, 4.889725319893132e-05, 5.675966673809268e-05, 6.572200874587248e-05, 7.591241970604153e-05, 8.747036210837427e-05, 0.00010054716994232316, 0.00011530657197738249, 0.0001319251814436713, 0.00015059294436548594, 0.00017151353849907414, 0.0001949047145916349, 0.00022099857152030865, 0.00025004175679463477, 0.0002822955839216026, 0.0003180360582439734, 0.0003575538030758887, 0.0004011538782793252, 0.00044915548385274977, 0.0005018915416410679, 0.0005597081489251348, 0.0006229638984064998, 0.0006920290599662986, 0.00076728462054448, 0.000849121179546425, 0.0009379376983344829, 0.001034140103592906, 0.0011381397456537523, 0.0012503517142284204, 0.0013711930153922926, 0.0015010806151032712, 0.0016404293559836149, 0.0017896497555462193, 0.0019491456954802532, 0.0021193120130158873, 0.0023005320067402794, 0.0024931748705324776, 0.0026975930704883173, 0.0029141196808267615, 0.003143065695765971, 0.0033847173352403222, 0.003639333363063486, 0.003907142436740234, 0.004188340508554851, 0.0044830882978345934, 0.004791508854370073, 0.005113685232895115, 0.005449658298249973, 0.005799424680408002, 0.006162934897909038, 0.006540091667437027, 0.0069307484162913924, 0.007334708013361857, 0.00775172173291072, 0.008181488464013963, 0.008623654176939926, 0.009077811656039589, 0.00954350050691796, 0.010020207443764318, 0.010507366860772199, 0.011004361689536788, 0.011510524542305216, 0.012025139138869302, 0.012547442012840897, 0.01307662449102369, 0.013611834937585608, 0.014152181252819064, 0.014696733614415779, 0.015244527447414719, 0.01579456660733642, 0.016345826759478453, 0.016897258935958965, 0.017447793250845917, 0.01799634275260091, 0.018541807392171605, 0.01908307808428879, 0.019619040838937216, 0.020148580939598287, 0.0206705871446095, 0.021183955887971537, 0.021687595456045365, 0.022180430116912127, 0.022661404179637704, 0.023129485961321878, 0.023583671640608702, 0.02402298897727974, 0.024446500878587917, 0.024853308794265606, 0.025242555923314043, 0.025613430217236194, 0.02596516716571812, 0.02629705235243563, 0.026608423770188253, 0.02689867388627293, 0.027167251450669224, 0.027413663041303757, 0.02763747434236845, 0.027838311153352068, 0.028015860128088262, 0.028169869244771654, 0.028300148009455923, 0.02840656739704628, 0.028489059535290136, 0.02854761713859645, 0.028582292699821845, 0.02859319744934832, 0.02858050009189313, 0.028544425332435987, 0.028485252203614992, 0.028403312207631197, 0.02829898728645877, 0.028172707634651552, 0.028024949369506932, 0.027856232073707524, 0.02766711622575161, 0.027458200533617288, 0.027230119187169416, 0.026983539044675528, 0.026719156768668925, 0.026437695926150438, 0.02613990406773069, 0.02582654979994621, 0.025498419864472266, 0.025156316237415342, 0.02480105326122387, 0.024433454821163058, 0.024054351577513258, 0.0236645782639931, 0.023264971062071833, 0.022856365060066147, 0.022439591805124896, 0.022015476955356175, 0.021584838038508983, 0.021148482322854396, 0.02070720480502349, 0.020261786318797312, 0.01981299176801514, 0.019361568486040506, 0.018908244723421102, 0.018453728264692385, 0.017998705174589683, 0.01754383867324614, 0.017089768139358266, 0.016637108239725237, 0.01618644818298298, 0.015738351094912874, 0.015293353512194005, 0.014851964991067623, 0.01441466782702113, 0.013981916881238298, 0.013554139509285627, 0.013131735587260584, 0.012715077630390878, 0.012304510998941393, 0.011900354186106727, 0.011502899182507829, 0.011112411911830477, 0.010729132732108971, 0.010353276997175876, 0.009985035672815001, 0.009624576002215083, 0.009272042215413083, 0.008927556277506483, 0.008591218670550925, 0.00826310920420399, 0.007943287850332438, 0.007631795596978887, 0.007328655317274101, 0.007033872649082182, 0.0067474368813692604, 0.0064693218435076414, 0.0061994867939429675, 0.005937877304887038, 0.005684426139905217, 0.005439054121527167, 0.005201670986200314, 0.004972176224160429, 0.004750459901999007, 0.004536403465936222, 0.00432988052400928, 0.004130757605607459, 0.003938894896975995, 0.0037541469515126485, 0.003576363373858411, 0.0034053894769737114, 0.003241066911546718, 0.003083234267257677, 0.0029317276455593103, 0.0027863812037871053, 0.0026470276705403864, 0.002513498832404002, 0.0023856259921873043, 0.0022632403989738628, 0.0021461736503597525, 0.0020342580673556863, 0.0019273270425006917, 0.0018252153618087403, 0.001727759501230879, 0.001634797898370618, 0.0015461712002356022]}, {\"mode\": \"lines\", \"type\": \"scatter\", \"x\": [123.2252214533618, 123.2252214533618], \"y\": [0, 0.006339140273109225]}, {\"fill\": \"tozeroy\", \"line\": {\"color\": \"red\", \"width\": 0}, \"mode\": \"lines\", \"type\": \"scatter\", \"x\": [123.2252214533618, 123.45820911463582, 123.69119677590986, 123.92418443718388, 124.1571720984579, 124.39015975973193, 124.62314742100597, 124.85613508227999, 125.08912274355401, 125.32211040482805, 125.55509806610208, 125.7880857273761, 126.02107338865012, 126.25406104992416, 126.48704871119818, 126.72003637247221, 126.95302403374625, 127.18601169502027, 127.4189993562943, 127.65198701756832, 127.88497467884235, 128.11796234011638, 128.3509500013904, 128.58393766266443, 128.81692532393845, 129.0499129852125, 129.28290064648652, 129.51588830776055, 129.74887596903457, 129.9818636303086, 130.21485129158262, 130.44783895285664, 130.6808266141307, 130.91381427540472, 131.14680193667874, 131.37978959795277, 131.6127772592268, 131.8457649205008, 132.07875258177484, 132.3117402430489, 132.5447279043229, 132.77771556559694, 133.01070322687096, 133.24369088814498, 133.476678549419, 133.70966621069303, 133.94265387196708, 134.1756415332411, 134.40862919451513, 134.64161685578915], \"y\": [0.006339140273109225, 0.006183373210571821, 0.006030391977157445, 0.005880183662836917, 0.005732733951613198, 0.0055880271791696814, 0.005446046390001092, 0.005306773393973275, 0.005170188822262191, 0.005036272182619822, 0.004905001913921826, 0.004776355439953302, 0.004650309222393577, 0.004526838812958495, 0.0044059189046692275, 0.004287523382210801, 0.004171625371355167, 0.004058197287416932, 0.00394721088271897, 0.0038386372930461266, 0.0037324470830659923, 0.003628610290698083, 0.003527096470418372, 0.0034278747354828188, 0.0033309137990613783, 0.003236182014271317, 0.0031436474131047694, 0.003053277744241009, 0.002965040509745235, 0.0028789030006495645, 0.0027948323314131783, 0.0027127954732698765, 0.0026327592864597445, 0.0025546905513532097, 0.002478555998471192, 0.002404322337410644, 0.002331956284682649, 0.0022614245904725586, 0.0021926940643341533, 0.0021257315998287753, 0.0020605041981223396, 0.001996978990554625, 0.0019351232601951378, 0.001874904462400238, 0.0018162902443895242, 0.0017592484638564764, 0.001703747206631648, 0.001649754803417607, 0.0015972398456111521, 0.0015461712002356022]}, {\"mode\": \"markers\", \"type\": \"scatter\", \"x\": [104.39792133021314], \"y\": [0]}],\n",
              "                        {\"autosize\": false, \"height\": 400, \"showlegend\": false, \"template\": {\"data\": {\"bar\": [{\"error_x\": {\"color\": \"#2a3f5f\"}, \"error_y\": {\"color\": \"#2a3f5f\"}, \"marker\": {\"line\": {\"color\": \"#E5ECF6\", \"width\": 0.5}}, \"type\": \"bar\"}], \"barpolar\": [{\"marker\": {\"line\": {\"color\": \"#E5ECF6\", \"width\": 0.5}}, \"type\": \"barpolar\"}], \"carpet\": [{\"aaxis\": {\"endlinecolor\": \"#2a3f5f\", \"gridcolor\": \"white\", \"linecolor\": \"white\", \"minorgridcolor\": \"white\", \"startlinecolor\": \"#2a3f5f\"}, \"baxis\": {\"endlinecolor\": \"#2a3f5f\", \"gridcolor\": \"white\", \"linecolor\": \"white\", \"minorgridcolor\": \"white\", \"startlinecolor\": \"#2a3f5f\"}, \"type\": \"carpet\"}], \"choropleth\": [{\"colorbar\": {\"outlinewidth\": 0, \"ticks\": \"\"}, \"type\": \"choropleth\"}], \"contour\": [{\"colorbar\": {\"outlinewidth\": 0, \"ticks\": \"\"}, \"colorscale\": [[0.0, \"#0d0887\"], [0.1111111111111111, \"#46039f\"], [0.2222222222222222, \"#7201a8\"], [0.3333333333333333, \"#9c179e\"], [0.4444444444444444, \"#bd3786\"], [0.5555555555555556, \"#d8576b\"], [0.6666666666666666, \"#ed7953\"], [0.7777777777777778, \"#fb9f3a\"], [0.8888888888888888, \"#fdca26\"], [1.0, \"#f0f921\"]], \"type\": \"contour\"}], \"contourcarpet\": [{\"colorbar\": {\"outlinewidth\": 0, \"ticks\": \"\"}, \"type\": \"contourcarpet\"}], \"heatmap\": [{\"colorbar\": {\"outlinewidth\": 0, \"ticks\": \"\"}, \"colorscale\": [[0.0, \"#0d0887\"], [0.1111111111111111, \"#46039f\"], [0.2222222222222222, \"#7201a8\"], [0.3333333333333333, \"#9c179e\"], [0.4444444444444444, \"#bd3786\"], [0.5555555555555556, \"#d8576b\"], [0.6666666666666666, \"#ed7953\"], [0.7777777777777778, \"#fb9f3a\"], [0.8888888888888888, \"#fdca26\"], [1.0, \"#f0f921\"]], \"type\": \"heatmap\"}], \"heatmapgl\": [{\"colorbar\": {\"outlinewidth\": 0, \"ticks\": \"\"}, \"colorscale\": [[0.0, \"#0d0887\"], [0.1111111111111111, \"#46039f\"], [0.2222222222222222, \"#7201a8\"], [0.3333333333333333, \"#9c179e\"], [0.4444444444444444, \"#bd3786\"], [0.5555555555555556, \"#d8576b\"], [0.6666666666666666, \"#ed7953\"], [0.7777777777777778, \"#fb9f3a\"], [0.8888888888888888, \"#fdca26\"], [1.0, \"#f0f921\"]], \"type\": \"heatmapgl\"}], \"histogram\": [{\"marker\": {\"colorbar\": {\"outlinewidth\": 0, \"ticks\": \"\"}}, \"type\": \"histogram\"}], \"histogram2d\": [{\"colorbar\": {\"outlinewidth\": 0, \"ticks\": \"\"}, \"colorscale\": [[0.0, \"#0d0887\"], [0.1111111111111111, \"#46039f\"], [0.2222222222222222, \"#7201a8\"], [0.3333333333333333, \"#9c179e\"], [0.4444444444444444, \"#bd3786\"], [0.5555555555555556, \"#d8576b\"], [0.6666666666666666, \"#ed7953\"], [0.7777777777777778, \"#fb9f3a\"], [0.8888888888888888, \"#fdca26\"], [1.0, \"#f0f921\"]], \"type\": \"histogram2d\"}], \"histogram2dcontour\": [{\"colorbar\": {\"outlinewidth\": 0, \"ticks\": \"\"}, \"colorscale\": [[0.0, \"#0d0887\"], [0.1111111111111111, \"#46039f\"], [0.2222222222222222, \"#7201a8\"], [0.3333333333333333, \"#9c179e\"], [0.4444444444444444, \"#bd3786\"], [0.5555555555555556, \"#d8576b\"], [0.6666666666666666, \"#ed7953\"], [0.7777777777777778, \"#fb9f3a\"], [0.8888888888888888, \"#fdca26\"], [1.0, \"#f0f921\"]], \"type\": \"histogram2dcontour\"}], \"mesh3d\": [{\"colorbar\": {\"outlinewidth\": 0, \"ticks\": \"\"}, \"type\": \"mesh3d\"}], \"parcoords\": [{\"line\": {\"colorbar\": {\"outlinewidth\": 0, \"ticks\": \"\"}}, \"type\": \"parcoords\"}], \"pie\": [{\"automargin\": true, \"type\": \"pie\"}], \"scatter\": [{\"marker\": {\"colorbar\": {\"outlinewidth\": 0, \"ticks\": \"\"}}, \"type\": \"scatter\"}], \"scatter3d\": [{\"line\": {\"colorbar\": {\"outlinewidth\": 0, \"ticks\": \"\"}}, \"marker\": {\"colorbar\": {\"outlinewidth\": 0, \"ticks\": \"\"}}, \"type\": \"scatter3d\"}], \"scattercarpet\": [{\"marker\": {\"colorbar\": {\"outlinewidth\": 0, \"ticks\": \"\"}}, \"type\": \"scattercarpet\"}], \"scattergeo\": [{\"marker\": {\"colorbar\": {\"outlinewidth\": 0, \"ticks\": \"\"}}, \"type\": \"scattergeo\"}], \"scattergl\": [{\"marker\": {\"colorbar\": {\"outlinewidth\": 0, \"ticks\": \"\"}}, \"type\": \"scattergl\"}], \"scattermapbox\": [{\"marker\": {\"colorbar\": {\"outlinewidth\": 0, \"ticks\": \"\"}}, \"type\": \"scattermapbox\"}], \"scatterpolar\": [{\"marker\": {\"colorbar\": {\"outlinewidth\": 0, \"ticks\": \"\"}}, \"type\": \"scatterpolar\"}], \"scatterpolargl\": [{\"marker\": {\"colorbar\": {\"outlinewidth\": 0, \"ticks\": \"\"}}, \"type\": \"scatterpolargl\"}], \"scatterternary\": [{\"marker\": {\"colorbar\": {\"outlinewidth\": 0, \"ticks\": \"\"}}, \"type\": \"scatterternary\"}], \"surface\": [{\"colorbar\": {\"outlinewidth\": 0, \"ticks\": \"\"}, \"colorscale\": [[0.0, \"#0d0887\"], [0.1111111111111111, \"#46039f\"], [0.2222222222222222, \"#7201a8\"], [0.3333333333333333, \"#9c179e\"], [0.4444444444444444, \"#bd3786\"], [0.5555555555555556, \"#d8576b\"], [0.6666666666666666, \"#ed7953\"], [0.7777777777777778, \"#fb9f3a\"], [0.8888888888888888, \"#fdca26\"], [1.0, \"#f0f921\"]], \"type\": \"surface\"}], \"table\": [{\"cells\": {\"fill\": {\"color\": \"#EBF0F8\"}, \"line\": {\"color\": \"white\"}}, \"header\": {\"fill\": {\"color\": \"#C8D4E3\"}, \"line\": {\"color\": \"white\"}}, \"type\": \"table\"}]}, \"layout\": {\"annotationdefaults\": {\"arrowcolor\": \"#2a3f5f\", \"arrowhead\": 0, \"arrowwidth\": 1}, \"coloraxis\": {\"colorbar\": {\"outlinewidth\": 0, \"ticks\": \"\"}}, \"colorscale\": {\"diverging\": [[0, \"#8e0152\"], [0.1, \"#c51b7d\"], [0.2, \"#de77ae\"], [0.3, \"#f1b6da\"], [0.4, \"#fde0ef\"], [0.5, \"#f7f7f7\"], [0.6, \"#e6f5d0\"], [0.7, \"#b8e186\"], [0.8, \"#7fbc41\"], [0.9, \"#4d9221\"], [1, \"#276419\"]], \"sequential\": [[0.0, \"#0d0887\"], [0.1111111111111111, \"#46039f\"], [0.2222222222222222, \"#7201a8\"], [0.3333333333333333, \"#9c179e\"], [0.4444444444444444, \"#bd3786\"], [0.5555555555555556, \"#d8576b\"], [0.6666666666666666, \"#ed7953\"], [0.7777777777777778, \"#fb9f3a\"], [0.8888888888888888, \"#fdca26\"], [1.0, \"#f0f921\"]], \"sequentialminus\": [[0.0, \"#0d0887\"], [0.1111111111111111, \"#46039f\"], [0.2222222222222222, \"#7201a8\"], [0.3333333333333333, \"#9c179e\"], [0.4444444444444444, \"#bd3786\"], [0.5555555555555556, \"#d8576b\"], [0.6666666666666666, \"#ed7953\"], [0.7777777777777778, \"#fb9f3a\"], [0.8888888888888888, \"#fdca26\"], [1.0, \"#f0f921\"]]}, \"colorway\": [\"#636efa\", \"#EF553B\", \"#00cc96\", \"#ab63fa\", \"#FFA15A\", \"#19d3f3\", \"#FF6692\", \"#B6E880\", \"#FF97FF\", \"#FECB52\"], \"font\": {\"color\": \"#2a3f5f\"}, \"geo\": {\"bgcolor\": \"white\", \"lakecolor\": \"white\", \"landcolor\": \"#E5ECF6\", \"showlakes\": true, \"showland\": true, \"subunitcolor\": \"white\"}, \"hoverlabel\": {\"align\": \"left\"}, \"hovermode\": \"closest\", \"mapbox\": {\"style\": \"light\"}, \"paper_bgcolor\": \"white\", \"plot_bgcolor\": \"#E5ECF6\", \"polar\": {\"angularaxis\": {\"gridcolor\": \"white\", \"linecolor\": \"white\", \"ticks\": \"\"}, \"bgcolor\": \"#E5ECF6\", \"radialaxis\": {\"gridcolor\": \"white\", \"linecolor\": \"white\", \"ticks\": \"\"}}, \"scene\": {\"xaxis\": {\"backgroundcolor\": \"#E5ECF6\", \"gridcolor\": \"white\", \"gridwidth\": 2, \"linecolor\": \"white\", \"showbackground\": true, \"ticks\": \"\", \"zerolinecolor\": \"white\"}, \"yaxis\": {\"backgroundcolor\": \"#E5ECF6\", \"gridcolor\": \"white\", \"gridwidth\": 2, \"linecolor\": \"white\", \"showbackground\": true, \"ticks\": \"\", \"zerolinecolor\": \"white\"}, \"zaxis\": {\"backgroundcolor\": \"#E5ECF6\", \"gridcolor\": \"white\", \"gridwidth\": 2, \"linecolor\": \"white\", \"showbackground\": true, \"ticks\": \"\", \"zerolinecolor\": \"white\"}}, \"shapedefaults\": {\"line\": {\"color\": \"#2a3f5f\"}}, \"ternary\": {\"aaxis\": {\"gridcolor\": \"white\", \"linecolor\": \"white\", \"ticks\": \"\"}, \"baxis\": {\"gridcolor\": \"white\", \"linecolor\": \"white\", \"ticks\": \"\"}, \"bgcolor\": \"#E5ECF6\", \"caxis\": {\"gridcolor\": \"white\", \"linecolor\": \"white\", \"ticks\": \"\"}}, \"title\": {\"x\": 0.05}, \"xaxis\": {\"automargin\": true, \"gridcolor\": \"white\", \"linecolor\": \"white\", \"ticks\": \"\", \"title\": {\"standoff\": 15}, \"zerolinecolor\": \"white\", \"zerolinewidth\": 2}, \"yaxis\": {\"automargin\": true, \"gridcolor\": \"white\", \"linecolor\": \"white\", \"ticks\": \"\", \"title\": {\"standoff\": 15}, \"zerolinecolor\": \"white\", \"zerolinewidth\": 2}}}, \"title\": {\"text\": \"$\\\\text{Asymptotic distribution of }\\\\Lambda$\", \"x\": 0.5, \"xanchor\": \"center\", \"y\": 0.85, \"yanchor\": \"middle\"}, \"width\": 700, \"xaxis\": {\"title\": {\"text\": \"$\\\\Lambda$\"}}},\n",
              "                        {\"responsive\": true}\n",
              "                    ).then(function(){\n",
              "                            \n",
              "var gd = document.getElementById('ec6f848a-8e2e-40fc-8947-371febca1cb7');\n",
              "var x = new MutationObserver(function (mutations, observer) {{\n",
              "        var display = window.getComputedStyle(gd).display;\n",
              "        if (!display || display === 'none') {{\n",
              "            console.log([gd, 'removed!']);\n",
              "            Plotly.purge(gd);\n",
              "            observer.disconnect();\n",
              "        }}\n",
              "}});\n",
              "\n",
              "// Listen for the removal of the full notebook cells\n",
              "var notebookContainer = gd.closest('#notebook-container');\n",
              "if (notebookContainer) {{\n",
              "    x.observe(notebookContainer, {childList: true});\n",
              "}}\n",
              "\n",
              "// Listen for the clearing of the current output cell\n",
              "var outputEl = gd.closest('.output');\n",
              "if (outputEl) {{\n",
              "    x.observe(outputEl, {childList: true});\n",
              "}}\n",
              "\n",
              "                        })\n",
              "                };\n",
              "                \n",
              "            </script>\n",
              "        </div>\n",
              "</body>\n",
              "</html>"
            ]
          },
          "metadata": {}
        }
      ]
    },
    {
      "cell_type": "markdown",
      "metadata": {
        "id": "_IGJyG6uAz1X"
      },
      "source": [
        "<font size=\"2\" color=\"#03bafc\"> And the $p$-value associated with this value is:\n",
        "</font>"
      ]
    },
    {
      "cell_type": "code",
      "metadata": {
        "id": "g9bTVoyMAzI8",
        "colab": {
          "base_uri": "https://localhost:8080/"
        },
        "outputId": "44ef9744-2bb2-4532-fe02-b684e18f12df"
      },
      "source": [
        "p_value = 1-chi2.cdf(Lambda, df_chi)\n",
        "print(f'{p_value:.2f}')"
      ],
      "execution_count": null,
      "outputs": [
        {
          "output_type": "stream",
          "name": "stdout",
          "text": [
            "0.34\n"
          ]
        }
      ]
    },
    {
      "cell_type": "markdown",
      "metadata": {
        "id": "rbs0xx8lBQCX"
      },
      "source": [
        "<font size=\"2\" color=\"#03bafc\"> Under this assumptions, the null cannot be rejected and thus the emission rate appears to be constant.\n",
        "</font>"
      ]
    },
    {
      "cell_type": "markdown",
      "metadata": {
        "id": "pL1xi0o2pObb"
      },
      "source": [
        "## **Problem 1.3:** $p$-values\n",
        "\n",
        "Read the statement by the American Statistical Association about $p$-values ([Wasserstein and Lazar: The ASA’s statement on p-values: context, process, and purpose](https://github.com/pipeton8/6.439-stats-comp-applications/blob/main/Assignments/1%20-%20Stats%20Review/The%20ASA%20s%20Statement%20on%20p%20Values%20Context%20Process%20and%20Purpose.pdf)) and respond to the following scenarios."
      ]
    },
    {
      "cell_type": "markdown",
      "metadata": {
        "id": "1jdTfacKqD5z"
      },
      "source": [
        "##### (a) A friend looking at your notes from the first lecture saw that there’s a $p$-value of 0.0012 for the HIP study. They ask you, does that mean there’s a 99.88% chance that offering a mammography decreases the risk of death from breast cancer? Explain to your friend exactly what this $p$-value means, including any assumptions that were made.\n"
      ]
    },
    {
      "cell_type": "markdown",
      "metadata": {
        "id": "XVl8uZWWqgm1"
      },
      "source": [
        "<font size=\"2\" color=\"#03bafc\">\n",
        "According to Wasserstein and Lazar (2016), for a certain statistical model, the $p$-value is \"the probability (…) that a statistical summary of the data (…) would be equal to or more extreme than its observed value.\" In that sense, the interpretation of my friend is incorrect.\n",
        "</font>\n",
        "\n",
        "\n",
        "<font size=\"2\" color=\"#03bafc\"> To understand what this $p$-value means, first note that the HIP was based on two assumptions:\n",
        "<ol type=\"1\"><font size=\"2\" color=\"#03bafc\"> \n",
        "  <li> That a person dying from breast cancer follows a Bernoulli distribution with parameter $\\pi$.\n",
        "  </li>\n",
        "  <li> That a person dying from breast cancer is independent of other people dying (or not) from breast cancer. \n",
        "  </li>\n",
        "</ol>\n",
        "\n",
        "<font size=\"2\" color=\"#03bafc\">\n",
        "Under that model, a randomized control trial was designed and the participants assigned randomy to treatment and control groups. Only the first were offered mammographies. The $p$-value in questions arises when testing the (null) hypothesis that the probability of dying of breast cancer (the $\\pi$ parameter of the Bernoulli distribution) is the same for both groups. If that hypothesis were true, then a certain test statistic (namely, the number of deaths in the treament group) follows a Hypergeometric distribution and the probability of the test statistic being lower that the obtained value is 0.12%. In other words, there is a 99.88% of probability that <i>this</i> statistical summary is greater that its observed value. Additionally, it means there is at most a probability of 0.12% for the null hypothesis being true, although we rejected it being so.\n",
        "\n",
        "An additional (and hidden) assumption made to obtain that $p$-value is that the number of deaths in the study was known beforehand.\n",
        "</font>"
      ]
    },
    {
      "cell_type": "markdown",
      "metadata": {
        "id": "eX998gU8qH0T"
      },
      "source": [
        "##### (b) Your colleague in education studies cares about what can improve the education outcome in early childhood. He thinks the ideal planning should be to include as many variables as possible and regress children’s educational outcome on the set. Then we select the variables that are shown to be statistically significant and inform the policy makers. Is this approach likely to produce the intended good policies? What other approach to this problem could you suggest?\n"
      ]
    },
    {
      "cell_type": "markdown",
      "metadata": {
        "id": "ca1-AgQOqi24"
      },
      "source": [
        "<font size=\"2\" color=\"#03bafc\"> There are multiple problems with this approach. First, given a certain significance threshold it is highly likely to obtain significant results if testing multiple hypothesis without correction. However, even if the tests are corrected fro multiple hypothesis testing, other problems arise. As mentioned in the Wasserstein and Lazar (2016), at least four caveats can be mentioned for this approach:\n",
        "<ol type=\"1\"><font size=\"2\" color=\"#03bafc\"> \n",
        "  <li> The stastistically significance of the variables is \"only a measure about data in relation to a specified hypothetical explanation\", which in this case is the coefficient of the variable not being zero. This is, we have evidence to reject the idea that the variable in particular is not helpful in <i>linearly predicting</i> the outcume, albeit there is no idea of causality involved.\n",
        "  </li>\n",
        "  <li> If we present the policymakers only the statistically significant variables and do not report how the results were obtained, it is impossible to draw clear and useful conclusions for policymaking. Like the paper mentioned, $p$-values are uninterpretable in abscence of the models that produced them. After all, $p$-values are by definition tied to a certain statistical model and assumptions.\n",
        "  </li>\n",
        "  <li> The variable being statistically significant does not mean the effect it could have on the outcome is big, or cost-effective to be a good public policy. As mentioned by the authors: \"[s]maller $p$-values do not necessarily imply the presence of larger or more important effects(…)\". In this case, finding a statistically significant variable does not mean their effect on education is large enough to become a good policy.\n",
        "  </li>\n",
        "  <li> Finally, the statistical significance of the variables is not an indicator of the underlying model being right. This, because the test was realized assuming the model was right. In other words, testing wheter a variable is stastistically significant in a certain model is not a test about the model assumptions. Wasserstein and Lazar (2016) elaborate on this mentioning that \"[b]y itself, a $p$-value does not provide a good measure of evidence regarding a model or hypothesis.\" Since we are only testing <i>one</i> of the infinite possible hypothesis, there is a chance another completely different model or hypothesis could explain better the data we have.  \n",
        "  </li>\n",
        "</ol>\n",
        "\n",
        "In light of these problems, a better framework could be combining statistical methods with experiment design improvements. First, and drawing from the paper, we could combine testing for significance with confidence intervals, likelihood ratios or Bayesian methods. We could also incorporate decision-theoretic modeling and false discovery rates. This way, we could deviate our attention from testing and focus on the estimation and the size of the effects that each feature has on the outcome. Another approach would be designing good RCTs that could shed more light on the effects that some variables can have on education. Evidently, this is a long and costly process and should be done with most caution and care, in order to draw correct conclusions and avoid bias.\n",
        "</font>\n"
      ]
    },
    {
      "cell_type": "markdown",
      "metadata": {
        "id": "xP49hqqBqJ78"
      },
      "source": [
        "##### (c) An economist collects data on many nationwide variables and surprisingly finds that if she runs a regression between chocolate consumption and number of Nobel prize laureates, the coefficient is statistically significant. Should she conclude that there exists a relationship between Nobel prize and chocolate consumption? Explain why.\n"
      ]
    },
    {
      "cell_type": "markdown",
      "metadata": {
        "id": "jaGNzgZ_qjPa"
      },
      "source": [
        "<font size=\"2\" color=\"#03bafc\"> As mentioned in caveat 1 of the previous question, the fact that the coefficient is statistically significant only means that chocolate consumption is useful at <i>predicting</i> the number of Nobel prize laurates. However, no relationship is elicited this way. There could be other varaibles not taken into account like investment on science or reserach in general, quality of schools and universities, easiness of migration, among others, that could explain better the number of Nobel prize laurates by country.\n",
        "</font>\n"
      ]
    },
    {
      "cell_type": "markdown",
      "metadata": {
        "id": "ty4Kmn2aqMam"
      },
      "source": [
        "##### (d) Your lab collects individual-level data on 50,000 humans for 100 features, including IQ and chocolate consumption. They find that their initial hypothesis about the relation between chocolate consumption and IQ has a $p$-value higher than 0.05. However, they find that there are other variables in the data set that have p-value less than 0.05, namely, a subject’s family income and number of siblings. They therefore decide to not write about chocolate consumption, but rather, report these statistically significant results in their paper, and provide possible explanations. Is this sound scientific practice? Please discuss.\n"
      ]
    },
    {
      "cell_type": "markdown",
      "metadata": {
        "id": "E9VTsG1Eqjmi"
      },
      "source": [
        "<font size=\"2\" color=\"#03bafc\"> Exploratory studies may prove useful to discover suggestive relationships in the data. However, these are not meant to be conclusive about relationships between outcome variables and possible predictors. As mentioned before, if 100 features are tested then, in average, under a 0.05 significance threshold we should expect to find around 5 variables to be statistically significant, just by chance alone. This can happen even if we correct our $p$-values for multiple hypothesis testing. Consequently, this is not an ethical way to produce scientific knowledge, less make decisions based on these discoveries.\n",
        "\n",
        "The adequate way to move forward after an exploratory analysis is finding good experiments (like RCTs or natural experiments) that could allow us to test independently these hypotheses. Afterwards, we could also provide explanations and try to test wheter these are consistent with the data.  </font>\n"
      ]
    },
    {
      "cell_type": "markdown",
      "metadata": {
        "id": "A3uifvxcqOMJ"
      },
      "source": [
        "##### (e) A neuroscience lab runs a randomized experiment on 100 mice by adding chocolate in half of the mice’s diet and another food of the equivalent calories in another half’s diet. They find that the difference between the two groups’ time in solving a maze puzzle has a $p$-value lower than 0.05. Should they conclude that chocolate consumption leads to improved cognitive power in mice? Explain why."
      ]
    },
    {
      "cell_type": "markdown",
      "metadata": {
        "id": "S5lUgFrGqkFd"
      },
      "source": [
        "<font size=\"2\" color=\"#03bafc\"> This may not be a right conclusion to make after this experiment. Note that, since this is a randomized experiment, the problem in this case is not its statistical design, but in its conclusions. Strictly speaking, they just proved that replacing half of the diet of the mice with chocolate improved their maze solving <i>time</i> but not necessarily their <i>skills</i>. There may be other explanaitons for this difference that are not the mice improving their congnitive skills.\n",
        "\n",
        "For example, since chocolate contains sugar, then is natural that mice are more active (e.g. run faster) and thus take less time than their counterparts that did not have a diet change. In order to test an improved cognitive power there should be used test that rely less on time and more on other expression of cognition. </font>\n"
      ]
    },
    {
      "cell_type": "markdown",
      "metadata": {
        "id": "g1BkTl0Jqvib"
      },
      "source": [
        "## **Problem 1.4:** Published research findings are false\n",
        "\n",
        "Read the [paper by Ioannidis (PLoS Medicine, 2005)](https://github.com/pipeton8/6.439-stats-comp-applications/blob/main/Assignments/1%20-%20Stats%20Review/Ioannidis_paper.pdf) on why most published research findings are false  and summarize the paper in your own words. What is the most important lesson you learned from reading this paper? Explain the computations going into Table 1, Table 2, and Table 3. How does Ioannidis get to the conclusion that a research finding is more likely true than false if $(1 − \\beta)R > \\alpha $ (at the beginning of page 697)? What does this mean?"
      ]
    },
    {
      "cell_type": "markdown",
      "metadata": {
        "id": "2f-R8g5ssc-K"
      },
      "source": [
        "<font size=\"2\" color=\"#03bafc\"> The author proposes a simple theoretical framework to explain why many research findings in science could in principle be false. The three models Ioannidis proposes focus primarily on three parameters:\n",
        "<ul> <font size=\"2\" color=\"#03bafc\"> \n",
        "  <li> $R$, the fraction of \"true relationships\" to \"no relationships\" among the relationships tested in a given field. From this, he computes the pre-study (ex ante) probability of a relationship taken at random being true: $\\frac{R}{R+1}$. \n",
        "  </li>\n",
        "  <li> $\\alpha$, the significance threshold (i.e., the probability of claiming the existence of a relationship where is none).\n",
        "  </li>\n",
        "  <li> $\\beta$, the statistical power of the study (i.e., the probability of finding a true relationship).\n",
        "  </li>\n",
        "</ul>\n",
        "In his first model, the author compares in a contingency table (Table 1 in the paper) the expected number of studies that belong to each of the 4 groups given by: finding or rejecting a relationship, and the actual existence (or not) of a relationship. Under this simple model is that he proposes that a research finding is more lilely true than false if $(1-\\beta)R > \\alpha$. \n",
        "\n",
        "<font size=\"2\" color=\"#03bafc\"> This arises from the following calculation. If $c$ studies are conducted in a field, then a fraction $(1-\\beta)\\frac{R}{R+1}$ of them are true findings (computed as the probability of finding a true relationship times the probability of that finding being true). Also, a fraction $\\alpha\\frac{1}{R+1}$ of the studies are false research findings (computed as the probability of falsely claiming a finding times the probability of not being in presence of a relationship). Consequently, a fraction $\\frac{\\alpha + (1-\\beta)R}{R+1}$ of the studies are research findings (the sum of both previous ratios), and if one is taken at random, its more likely to be true than false if and only if the fraction of true findings is greater than the fraction of false findings:\n",
        "  $$\\frac{(1-\\beta)R}{R+1} > \\frac{\\alpha}{R+1}$$\n",
        "which translates to $(1-\\beta)R > \\alpha$. This condition is equivalent to the positive predictive value (PPV) being greater than 0.5, where\n",
        "  $$ PPV = \\frac{\\text{fraction of true research findings}}{\\text{fraction of research findings}} = \\frac{\\frac{(1-\\beta)R}{R+1}}{\\frac{\\alpha + (1-\\beta)R}{R+1}} = \\frac{(1-\\beta)R}{\\alpha + (1-\\beta)R} $$\n",
        "Indeed,\n",
        "  $$PPV > 0.5 \\Longleftrightarrow (1-\\beta)R > 0.5\\alpha + 0.5(1-\\beta)R \\Longleftrightarrow (1-\\beta)R > \\alpha $$\n",
        "Note that the PPV is nothing more than the ex post probability of a relationship being true. Hence, the Ioannidis' claim translates to: we could expect that a given research finding is more likely false than true if the probability of being true, after being tested is strictlygreater than a 50%. Of course, we could aim for a more strict threshold, but 50% is the minimum necessary to make the appearance of true findings more likely.\n",
        "\n",
        "<font size=\"2\" color=\"#03bafc\"> Later in the paper the author makes more complex assumptions and incorporates, separately, two variations:\n",
        "<ol type=\"1\"> <font size=\"2\" color=\"#03bafc\">\n",
        "  <li> Presence of bias, that is, the probability that a given study was passed as a research finding, although there was none.\n",
        "  </li>\n",
        "  <li> Presence of multiple independent studies, that is, the fact that many independent research teams are testing the same relationship simultaneously.\n",
        "  </li> \n",
        "</ol>\n",
        "These new models are summarized in Tables 2 and 3, respectively. These tables follow the same logic as the first one, where studies are split in four groups and the expected values computed based on the probabilites of belonging to each group, now including bias and multiple independent testing.\n",
        "\n",
        "<font size=\"2\" color=\"#03bafc\"> The main contribution of the paper is showing using a very simple framework that finding true relationships from published research findings is not as probable as we may expect. Moreover, the author shows to how extent different aspects of the studies are affecting the ex post probability of the finding being true. In this line, Ioannidis shows that the ex ante probability is one of the main drivers of the veracity of research findings. Statistical power and bias also have a important effect. In his closing remarks, the author provides at least three solutions: better evidence (e.g. large-scale studies in relationships with high ex ante probability of being true), pre-register studies to reduce bias (or at least adhering to a scientific protocol), and better undestand the range of $R$ values for each field (and promote fields where $R$ is bigger). \n",
        "\n",
        "In that sense, the lesson I learned from the paper is that we have to be very critical when interpreting results from studies. Biased fields can have many false results posing as true, especially if the study design did not achieve high power. The same can be said about questions that draw a lot of attention from the scientific and social community, in particular those that fight to produce a highly significant or strong result (although there may be none). For example, due to the pandemic a lot of interest was drawn towards questions about the effects that some policies could have on the pandemic control or the effects than the pandemic can have in different aspects of our lives. It is possible that the $R$ value for this field may be large (as there are a lot we do not know yet on pandemics), but there may also be a lot of bias in which relationships want to be answered and which pre conceived answers are expected. Moreover, many teams are tackling simultaneously similar questions, which as mentioned can produce false results. Last but not least, there is possible that for these questions is not possible to design good experiments and we must have to relay on natural experiments or country-or-state-level quasi-experiments, which have much less power.    \n",
        " </font>"
      ]
    },
    {
      "cell_type": "markdown",
      "metadata": {
        "id": "sccuHlSbsvD4"
      },
      "source": [
        "# Part 2\n",
        "<hr>"
      ]
    },
    {
      "cell_type": "markdown",
      "metadata": {
        "id": "1ZPaiRGuszZ5"
      },
      "source": [
        "## **Problem 1.5:** Detecting Leukemia types\n",
        "\n",
        "The data set `golub` consists of the expression levels of 3,051 genes for 38 tumor mRNA samples. Each tumor mRNA sample comes from one patient (i.e., 38 patients total): 27 of these tumor samples correspond to acute lymphoblastic leukemia (ALL), while the remaining 11 correspond to acute myeloid leukemia (AML). How many genes are associated with the different tumor types (meaning that their expression level differs between the two tumor types) using (i) the uncorrected $p$-values, (ii) the Holm-Bonferroni corrected $p$-values, and (iii) the Benjamini-Hochberg corrected $p$-values? Feel free to use existing libraries for multiple hypothesis testing, in `R` or `python`. You can use $\\alpha = 0.05$ for the significance threshold.\n",
        "<br>\n",
        "\n",
        "**Source of data:** Golub et al. (1999). [_Molecular classification of cancer: class discovery and class prediction by gene expression monitoring_](https://www.science.org/doi/10.1126/science.286.5439.531?url_ver=Z39.88-2003&rfr_id=ori:rid:crossref.org&rfr_dat=cr_pub%20%200pubmed), Science, Vol. 286:531-537. \n"
      ]
    },
    {
      "cell_type": "code",
      "metadata": {
        "id": "EiD7CJNPSBLP"
      },
      "source": [
        "from IPython.display import clear_output\n",
        "\n",
        "# Download data\n",
        "!wget https://github.com/pipeton8/6.439-stats-comp-applications/raw/main/Assignments/databases/PS1_data.zip -O \"PS1_data.zip\"\n",
        "!unzip -o PS1_data.zip\n",
        "!rm PS1_data.zip\n",
        "\n",
        "# Install multipy\n",
        "!pip install multipy\n",
        "\n",
        "# Clear output\n",
        "clear_output()\n",
        "\n",
        "# Import libraries\n",
        "import pandas as pd\n",
        "import numpy as np\n",
        "from scipy.stats import ttest_ind\n",
        "from multipy.fwer import holm_bonferroni  # Holm-Bonferroni correction\n",
        "from multipy.fdr  import lsu              # Benjamini-Hochberg correction \n",
        "\n",
        "# Load data and drop \"Unnamed: 0\" column\n",
        "golub = pd.read_csv('PS1_data/golub_data/golub.csv')\n",
        "golub.drop(columns='Unnamed: 0', inplace=True)"
      ],
      "execution_count": null,
      "outputs": []
    },
    {
      "cell_type": "code",
      "metadata": {
        "id": "O7tHReBoSbtg"
      },
      "source": [
        "# Initialize pvalues array\n",
        "pvalues = np.zeros((golub.shape[0],))\n",
        "\n",
        "# Perform t_test on each row (gene) of expression matrix\n",
        "for index, row in golub.iterrows():\n",
        "  row=row.to_numpy()\n",
        "  ALL = row[:-11]\n",
        "  AML = row[-11:]\n",
        "  _, pvalue = ttest_ind(ALL,AML,equal_var=False)\n",
        "\n",
        "  pvalues[index] = pvalue"
      ],
      "execution_count": null,
      "outputs": []
    },
    {
      "cell_type": "code",
      "metadata": {
        "id": "J0eXMZVXlnIZ",
        "colab": {
          "base_uri": "https://localhost:8080/"
        },
        "outputId": "64cedf1d-dbc4-4203-8a54-d985120306b9"
      },
      "source": [
        "print('Number of relevant genes without correction: ' + str(np.sum(pvalues <= 0.05)))\n",
        "print('Number of relevant genes using the Holm-Bonferroni correction: ' + str(np.sum(holm_bonferroni(pvalues))))\n",
        "print('Number of relevant genes using the Benjamini-Hochberg correction: ' + str(np.sum(lsu(pvalues))))"
      ],
      "execution_count": null,
      "outputs": [
        {
          "output_type": "stream",
          "name": "stdout",
          "text": [
            "Number of relevant genes without correction: 1078\n",
            "Number of relevant genes using the Holm-Bonferroni correction: 103\n",
            "Number of relevant genes using the Benjamini-Hochberg correction: 695\n"
          ]
        }
      ]
    },
    {
      "cell_type": "markdown",
      "metadata": {
        "id": "i9-JgGaLvjJK"
      },
      "source": [
        "<font size=\"2\" color=\"#03bafc\"> In order to determine which genes had different expression leves between the two tumor types, for each gene a $t$ test of means between each group was performed. This test has a null hypothesis that both ALL and AML samples have the same mean, against the alternative hypothesis that the means are different. This test is equivalent to estimating, for each gene $g$, the linear model\n",
        "  $$y_{gi} = \\beta_{g0} + \\beta_{g1}\\text{tumor}_{gi} + \\varepsilon_{gi},$$\n",
        "where $y_gi$ is the expression level for gene $g$ in patient $i$, and $\\text{tumor}_{gi}$ is the tumor class for sample $i$ of gene $g$. Here, the null hypothesis $\\beta_{g1} = 0$ against $\\beta_{g1} \\neq 0$ is equivalent to the mean $t$-test.\n",
        "\n",
        "<font size=\"2\" color=\"#03bafc\"> For more robustness, the test was made without the assumption that variances across groups are equal. The results are as follows:\n",
        "<ul> <font size=\"2\" color=\"#03bafc\"> \n",
        "  <li> Number of relevant genes without correction: 1078. </li>\n",
        "  <li> Number of relevant genes using the Holm-Bonferroni correction: 103. </li>\n",
        "  <li> Number of relevant genes using the Benjamini-Hochberg correction: 695. </li>\n",
        "</ul>\n",
        "\n",
        "As expected, the Holm-Bonferroni correction is the most conservative, as it tries to minimize the FWER. The Benjamini-Hochberg is less conservative, categorizing almost 35% of the rejected hypothesis as false discoveries.\n",
        "</font>"
      ]
    },
    {
      "cell_type": "markdown",
      "metadata": {
        "id": "-hVIRkgJvpia"
      },
      "source": [
        "## **Problem 1.6:** Regression and Gradient Descent\n",
        "\n",
        "In this problem, we will look at OLS and the gradient descent algorithm."
      ]
    },
    {
      "cell_type": "markdown",
      "metadata": {
        "id": "gsV6kuIMvwm0"
      },
      "source": [
        "##### (a) Read in the synthetic data matrix `syn_X.csv` and the vector `syn_y.csv` of \"observations\". Compute the OLS estimator $\\hat{\\beta}$ by matrix inversion. "
      ]
    },
    {
      "cell_type": "code",
      "metadata": {
        "id": "YHSkr_4CstKd"
      },
      "source": [
        "from IPython.display import clear_output\n",
        "\n",
        "# Download data\n",
        "!wget https://github.com/pipeton8/6.439-stats-comp-applications/raw/main/Assignments/databases/PS1_data.zip -O \"PS1_data.zip\"\n",
        "!unzip -o PS1_data.zip\n",
        "!rm PS1_data.zip\n",
        "\n",
        "# Install multipy\n",
        "!pip install multipy\n",
        "\n",
        "# Clear output\n",
        "clear_output()\n",
        "\n",
        "# Import libraries\n",
        "import pandas as pd\n",
        "import numpy as np\n",
        "import seaborn as sns\n",
        "import matplotlib.pyplot as plt\n",
        "import plotly.express as px\n",
        "from scipy.stats import ttest_ind\n",
        "from multipy.fdr import lsu  # Benjamini-Hochberg correction"
      ],
      "execution_count": null,
      "outputs": []
    },
    {
      "cell_type": "code",
      "metadata": {
        "id": "tTPMo2ixxgO1",
        "colab": {
          "base_uri": "https://localhost:8080/"
        },
        "outputId": "f04cc61e-f51c-442f-9cc3-376d069e2598"
      },
      "source": [
        "# Load data\n",
        "syn_X = pd.read_csv('PS1_data/syn_X.csv', header=None, names=['x_0','x_1']).to_numpy()\n",
        "syn_y = pd.read_csv('PS1_data/syn_y.csv', header=None, names=['y']).to_numpy().reshape((-1,))\n",
        "\n",
        "# Compute \\hat{\\beta}\n",
        "def compute_beta_hat(X,y):\n",
        "  return np.linalg.inv(X.transpose() @ X) @ X.transpose() @ y\n",
        "\n",
        "hat_beta = compute_beta_hat(syn_X, syn_y)\n",
        "print(hat_beta)"
      ],
      "execution_count": null,
      "outputs": [
        {
          "output_type": "stream",
          "name": "stdout",
          "text": [
            "[ 1.44843853 -4.75186276]\n"
          ]
        }
      ]
    },
    {
      "cell_type": "markdown",
      "metadata": {
        "id": "hnR_j4ZbwGSc"
      },
      "source": [
        "<font size=\"2\" color=\"#03bafc\"> The OLS estimator $\\hat{\\beta}$ is obtained from the following formula:\n",
        "  $$\\hat{\\beta} = \\left(X^T X \\right)^{-1} X^T y$$\n",
        "\n",
        "In this case\n",
        "  $$\\hat{\\beta} = \\begin{pmatrix} 1.45 \\\\ -4.75\\end{pmatrix}$$\n",
        "</font>\n"
      ]
    },
    {
      "cell_type": "markdown",
      "metadata": {
        "id": "_KbHb_a7wGtR"
      },
      "source": [
        "##### (b) Implement gradient descent for the least squares problem and run it on the synthetic test data loaded in the previous question. As a function of the iteration $t$, plot the mean squared error (MSE) and the distance $\\|\\beta^t − \\hat{\\beta}\\|$ of your current iterates (in separate plots). Play with different initializations $\\beta^0$ and different step sizes. What do you observe? Explain. Based on your observations, what would be an optimal step size?"
      ]
    },
    {
      "cell_type": "markdown",
      "metadata": {
        "id": "c9PLYycBwdrR"
      },
      "source": [
        "<font size=\"2\" color=\"#03bafc\"> As expected, the closer the initial $\\beta_0$ is from $\\hat{\\beta}$, the faster the algorithm converges to it. In the figure below, the faster convergence happened with $\\beta_0 = \\begin{pmatrix} 2 \\\\ -1 \\end{pmatrix}$, which is really close to $\\hat{\\beta}$ computed before.\n",
        "\n",
        "In terms of step sizes, smallest values take more iterations to converge. However, values close to 1 have problems converging, because gradients tend to explode. In the figure below, a step size of 0.7 gave the fastest convergence, but albeit a very steep one. On the other hand, the value of 0.01 gave a slower convergence but more controlled. All in all, it appears that an optimal value could be 0.05 or lower, in order to prevent numerical instabilities.  </font>"
      ]
    },
    {
      "cell_type": "code",
      "metadata": {
        "id": "d3diuM0j3bo2"
      },
      "source": [
        "def gradient_descent(X, y, loss='mse', bias=True, init_state=None, step_size=0.01, tol=10**-6):\n",
        "  # Define init_state if not given\n",
        "  if init_state is None:\n",
        "    init_state = np.ones_like(X[0,:])\n",
        "\n",
        "  # Initialize list of betas and losses, and number of observations\n",
        "  beta_list = [init_state]\n",
        "  loss_list = [np.infty]\n",
        "  N = X.shape[0]\n",
        "\n",
        "  while True:\n",
        "    # Compute estimation given current beta\n",
        "    y_hat = X @ beta_list[-1]\n",
        "\n",
        "    # Compute current loss\n",
        "    if loss == 'mse':\n",
        "      loss_list.append(1/N * np.linalg.norm(y - y_hat)**2)\n",
        "      gradient = 2/N * X.transpose() @ (y_hat - y)\n",
        "\n",
        "    current_tol = np.abs(loss_list[-1] - loss_list[-2])\n",
        "\n",
        "    if current_tol <= tol:\n",
        "      break\n",
        "    \n",
        "    newBeta = beta_list[-1] - step_size * gradient\n",
        "\n",
        "    beta_list.append(newBeta)\n",
        "\n",
        "  return beta_list, loss_list[1:]"
      ],
      "execution_count": null,
      "outputs": []
    },
    {
      "cell_type": "code",
      "metadata": {
        "id": "-b2h4Mfq9PYH",
        "colab": {
          "base_uri": "https://localhost:8080/",
          "height": 308
        },
        "outputId": "f1ad13d8-e927-4507-ac20-9c59b63aec8e"
      },
      "source": [
        "init_states = [np.array([2,-1]),np.array([5,10]), np.array([0,0]), np.array([-2,1])]\n",
        "fig, axs = plt.subplots(ncols=2, sharex=True)\n",
        "\n",
        "for init_state in init_states:\n",
        "  beta_list, loss_list = gradient_descent(syn_X, syn_y, init_state=init_state)\n",
        "  iterations = len(beta_list)\n",
        "\n",
        "  distance_list = [np.linalg.norm(beta_list[i] - hat_beta) for i in range(iterations)]\n",
        "\n",
        "  plt.subplots_adjust(left=0, right=1.5)\n",
        "  plt.xticks(np.arange(0,401,100))\n",
        "  plt.suptitle(r\"MSE and distance to true estimate. Step size $= 0.01$\".format(init_state[0], init_state[1]))\n",
        "  \n",
        "  ax0 = sns.lineplot(x=range(1,iterations+1), y=loss_list, ax = axs[0], label=r'$\\beta_0 = ({0},{1})$'.format(init_state[0], init_state[1]))\n",
        "  ax0.set_xlabel(\"Iteration\")\n",
        "  ax0.set_ylabel(\"MSE\")\n",
        "\n",
        "  ax1 = sns.lineplot(x=range(1,iterations+1), y=distance_list, ax = axs[1], label=r'$\\beta_0 = ({0},{1})$'.format(init_state[0], init_state[1]))\n",
        "  ax1.set_xlabel(\"Iteration\")\n",
        "  ax1.set_ylabel(r\"$\\|\\hat{\\beta} - \\beta_t\\|$\")\n",
        "\n",
        "  fig.show()"
      ],
      "execution_count": null,
      "outputs": [
        {
          "output_type": "display_data",
          "data": {
            "image/png": "[encoded data removed]",
            "text/plain": [
              "<Figure size 432x288 with 2 Axes>"
            ]
          },
          "metadata": {
            "needs_background": "light"
          }
        }
      ]
    },
    {
      "cell_type": "code",
      "metadata": {
        "id": "Nf1HtEWYImsC",
        "colab": {
          "base_uri": "https://localhost:8080/",
          "height": 308
        },
        "outputId": "172d3baf-8aee-48e5-de2b-6eeba901ba68"
      },
      "source": [
        "step_sizes = [0.7, 0.5, 0.1, 0.05, 0.01]\n",
        "fig, axs = plt.subplots(ncols=2, sharex=True)\n",
        "\n",
        "for step_size in step_sizes:\n",
        "  beta_list, loss_list = gradient_descent(syn_X, syn_y, step_size=step_size)\n",
        "  iterations = len(beta_list)\n",
        "\n",
        "  distance_list = [np.linalg.norm(beta_list[i] - hat_beta) for i in range(iterations)]\n",
        "\n",
        "  plt.subplots_adjust(left=0, right=1.5)\n",
        "  plt.xticks(np.arange(0,401,100))\n",
        "  plt.suptitle(r\"MSE and distance to true estimate. $\\beta_0 = (1,1)$\".format(init_state[0], init_state[1]))\n",
        "  \n",
        "  ax0 = sns.lineplot(x=range(1,iterations+1), y=loss_list, ax = axs[0], label=r'step size = ${0}$'.format(step_size))\n",
        "  ax0.set_xlabel(\"Iteration\")\n",
        "  ax0.set_ylabel(\"MSE\")\n",
        "\n",
        "  ax1 = sns.lineplot(x=range(1,iterations+1), y=distance_list, ax = axs[1], label=r'step size = ${0}$'.format(step_size))\n",
        "  ax1.set_xlabel(\"Iteration\")\n",
        "  ax1.set_ylabel(r\"$\\|\\hat{\\beta} - \\beta_t\\|$\")\n",
        "\n",
        "  fig.show()"
      ],
      "execution_count": null,
      "outputs": [
        {
          "output_type": "display_data",
          "data": {
            "image/png": "[encoded data removed]",
            "text/plain": [
              "<Figure size 432x288 with 2 Axes>"
            ]
          },
          "metadata": {
            "needs_background": "light"
          }
        }
      ]
    },
    {
      "cell_type": "markdown",
      "metadata": {
        "id": "GR28yR-BwjAQ"
      },
      "source": [
        "##### Next, we look at some real data. General Motors collected data (found in `mortality.csv`) from 60 US cities to study the contribution of air pollution to mortality. The dependent variable is the age-adjusted mortality (`Mortality`). The data include variables measuring climate characteristics (`JanTemp`, `JulyTemp`, `RelHum`, `Rain`), variables measuring demographic characteristics of the cities (`Educ`, `Dens`, `NonWhite`, `WhiteCollar`, `Pop`, `House`, `Income`), and variables recording the pollution potential of three different air pollutants (`HC`, `NOx`, `SO2`)."
      ]
    },
    {
      "cell_type": "markdown",
      "metadata": {
        "id": "8e7bR2n8PTt0"
      },
      "source": [
        "##### (c) Get an overview of the data and account for possible problems. Which cities stand out? Which of the variables need to be transformed? When applicable, which transformations would you apply?"
      ]
    },
    {
      "cell_type": "markdown",
      "metadata": {
        "id": "ImjugV7PPluc"
      },
      "source": [
        "<font size=\"2\" color=\"#03bafc\"> One the first problems with the data is the lack of descriptions over the variables. Even if statistical assumptions hold and the other problems (I will mention below) are not present, it is impossible to interpret quantitatively the results obtained. \n",
        "\n",
        "<font size=\"2\" color=\"#03bafc\"> Nevertheless, there are potential problems with the data that may bias our results. First of all, looking at the population chart, is clear that two cities are considerable bigger than the others: New York and Los Angeles. Something similar happens when looking at the `HC` and `NOx` variables, where Los Angeles and San Francisco stand out from the others.\n",
        "\n",
        "<font size=\"2\" color=\"#03bafc\"> Another potential issue with the data is that `HC` and `NOx` are highly correlated (pearson correlation of 0.98). This may be due to cars or coal plants emitting both HC and NOx contaminants in a similar fashion. In order to estimate the effect of contaminants over mortality, only one of these two variables should be included in the regression model.\n",
        "\n",
        "Finally, the pair grid between `Mortality` and other control variables does not present visual evidence that the latter need to be transformed in order to include them in a regression model. However, to avoid scale issues, variables `Pop` and `Income` could be normalized to million of people and thousands of dollars, respectively.   </font>"
      ]
    },
    {
      "cell_type": "code",
      "metadata": {
        "id": "IfLN2bhxxcze",
        "colab": {
          "base_uri": "https://localhost:8080/",
          "height": 427
        },
        "outputId": "72cc3a89-a0d2-4d31-813a-bb36301b266a"
      },
      "source": [
        "# Set pandas float appearance \n",
        "pd.set_option('display.float_format', lambda x: '%.2f' % x)\n",
        "\n",
        "# Load data\n",
        "mortality = pd.read_csv('PS1_data/mortality.csv')\n",
        "mortality['Pop_transformed'] = mortality['Pop']/10**6\n",
        "mortality['Income_transformed'] = mortality['Income']/1000\n",
        "\n",
        "# Order columns\n",
        "columns_to_order = ['City', 'Mortality', 'Pop', 'Pop_transformed', 'Income', 'Income_transformed']\n",
        "new_columns = columns_to_order + (mortality.columns.drop(columns_to_order).tolist())\n",
        "mortality = mortality[new_columns]\n",
        "\n",
        "mortality.describe(include='all')"
      ],
      "execution_count": null,
      "outputs": [
        {
          "output_type": "execute_result",
          "data": {
            "text/html": [
              "<div>\n",
              "<style scoped>\n",
              "    .dataframe tbody tr th:only-of-type {\n",
              "        vertical-align: middle;\n",
              "    }\n",
              "\n",
              "    .dataframe tbody tr th {\n",
              "        vertical-align: top;\n",
              "    }\n",
              "\n",
              "    .dataframe thead th {\n",
              "        text-align: right;\n",
              "    }\n",
              "</style>\n",
              "<table border=\"1\" class=\"dataframe\">\n",
              "  <thead>\n",
              "    <tr style=\"text-align: right;\">\n",
              "      <th></th>\n",
              "      <th>City</th>\n",
              "      <th>Mortality</th>\n",
              "      <th>Pop</th>\n",
              "      <th>Pop_transformed</th>\n",
              "      <th>Income</th>\n",
              "      <th>Income_transformed</th>\n",
              "      <th>JanTemp</th>\n",
              "      <th>JulyTemp</th>\n",
              "      <th>RelHum</th>\n",
              "      <th>Rain</th>\n",
              "      <th>Educ</th>\n",
              "      <th>Dens</th>\n",
              "      <th>NonWhite</th>\n",
              "      <th>WhiteCollar</th>\n",
              "      <th>House</th>\n",
              "      <th>HC</th>\n",
              "      <th>NOx</th>\n",
              "      <th>SO2</th>\n",
              "    </tr>\n",
              "  </thead>\n",
              "  <tbody>\n",
              "    <tr>\n",
              "      <th>count</th>\n",
              "      <td>59</td>\n",
              "      <td>59.00</td>\n",
              "      <td>59.00</td>\n",
              "      <td>59.00</td>\n",
              "      <td>59.00</td>\n",
              "      <td>59.00</td>\n",
              "      <td>59.00</td>\n",
              "      <td>59.00</td>\n",
              "      <td>59.00</td>\n",
              "      <td>59.00</td>\n",
              "      <td>59.00</td>\n",
              "      <td>59.00</td>\n",
              "      <td>59.00</td>\n",
              "      <td>59.00</td>\n",
              "      <td>59.00</td>\n",
              "      <td>59.00</td>\n",
              "      <td>59.00</td>\n",
              "      <td>59.00</td>\n",
              "    </tr>\n",
              "    <tr>\n",
              "      <th>unique</th>\n",
              "      <td>59</td>\n",
              "      <td>nan</td>\n",
              "      <td>nan</td>\n",
              "      <td>nan</td>\n",
              "      <td>nan</td>\n",
              "      <td>nan</td>\n",
              "      <td>nan</td>\n",
              "      <td>nan</td>\n",
              "      <td>nan</td>\n",
              "      <td>nan</td>\n",
              "      <td>nan</td>\n",
              "      <td>nan</td>\n",
              "      <td>nan</td>\n",
              "      <td>nan</td>\n",
              "      <td>nan</td>\n",
              "      <td>nan</td>\n",
              "      <td>nan</td>\n",
              "      <td>nan</td>\n",
              "    </tr>\n",
              "    <tr>\n",
              "      <th>top</th>\n",
              "      <td>Philadelphia, PA-NJ</td>\n",
              "      <td>nan</td>\n",
              "      <td>nan</td>\n",
              "      <td>nan</td>\n",
              "      <td>nan</td>\n",
              "      <td>nan</td>\n",
              "      <td>nan</td>\n",
              "      <td>nan</td>\n",
              "      <td>nan</td>\n",
              "      <td>nan</td>\n",
              "      <td>nan</td>\n",
              "      <td>nan</td>\n",
              "      <td>nan</td>\n",
              "      <td>nan</td>\n",
              "      <td>nan</td>\n",
              "      <td>nan</td>\n",
              "      <td>nan</td>\n",
              "      <td>nan</td>\n",
              "    </tr>\n",
              "    <tr>\n",
              "      <th>freq</th>\n",
              "      <td>1</td>\n",
              "      <td>nan</td>\n",
              "      <td>nan</td>\n",
              "      <td>nan</td>\n",
              "      <td>nan</td>\n",
              "      <td>nan</td>\n",
              "      <td>nan</td>\n",
              "      <td>nan</td>\n",
              "      <td>nan</td>\n",
              "      <td>nan</td>\n",
              "      <td>nan</td>\n",
              "      <td>nan</td>\n",
              "      <td>nan</td>\n",
              "      <td>nan</td>\n",
              "      <td>nan</td>\n",
              "      <td>nan</td>\n",
              "      <td>nan</td>\n",
              "      <td>nan</td>\n",
              "    </tr>\n",
              "    <tr>\n",
              "      <th>mean</th>\n",
              "      <td>NaN</td>\n",
              "      <td>941.17</td>\n",
              "      <td>1438037.05</td>\n",
              "      <td>1.44</td>\n",
              "      <td>33246.66</td>\n",
              "      <td>33.25</td>\n",
              "      <td>33.80</td>\n",
              "      <td>74.41</td>\n",
              "      <td>57.75</td>\n",
              "      <td>38.51</td>\n",
              "      <td>10.97</td>\n",
              "      <td>3910.49</td>\n",
              "      <td>11.88</td>\n",
              "      <td>46.39</td>\n",
              "      <td>3.25</td>\n",
              "      <td>38.47</td>\n",
              "      <td>22.97</td>\n",
              "      <td>54.66</td>\n",
              "    </tr>\n",
              "    <tr>\n",
              "      <th>std</th>\n",
              "      <td>NaN</td>\n",
              "      <td>62.42</td>\n",
              "      <td>1541736.06</td>\n",
              "      <td>1.54</td>\n",
              "      <td>4473.10</td>\n",
              "      <td>4.47</td>\n",
              "      <td>10.15</td>\n",
              "      <td>4.60</td>\n",
              "      <td>5.38</td>\n",
              "      <td>11.57</td>\n",
              "      <td>0.85</td>\n",
              "      <td>1441.69</td>\n",
              "      <td>9.00</td>\n",
              "      <td>5.07</td>\n",
              "      <td>0.18</td>\n",
              "      <td>92.64</td>\n",
              "      <td>46.67</td>\n",
              "      <td>63.55</td>\n",
              "    </tr>\n",
              "    <tr>\n",
              "      <th>min</th>\n",
              "      <td>NaN</td>\n",
              "      <td>790.73</td>\n",
              "      <td>124833.00</td>\n",
              "      <td>0.12</td>\n",
              "      <td>25782.00</td>\n",
              "      <td>25.78</td>\n",
              "      <td>12.00</td>\n",
              "      <td>63.00</td>\n",
              "      <td>38.00</td>\n",
              "      <td>10.00</td>\n",
              "      <td>9.00</td>\n",
              "      <td>1441.00</td>\n",
              "      <td>0.80</td>\n",
              "      <td>33.80</td>\n",
              "      <td>2.65</td>\n",
              "      <td>1.00</td>\n",
              "      <td>1.00</td>\n",
              "      <td>1.00</td>\n",
              "    </tr>\n",
              "    <tr>\n",
              "      <th>25%</th>\n",
              "      <td>NaN</td>\n",
              "      <td>899.39</td>\n",
              "      <td>566515.00</td>\n",
              "      <td>0.57</td>\n",
              "      <td>30004.50</td>\n",
              "      <td>30.00</td>\n",
              "      <td>27.00</td>\n",
              "      <td>72.00</td>\n",
              "      <td>55.50</td>\n",
              "      <td>33.50</td>\n",
              "      <td>10.40</td>\n",
              "      <td>3138.50</td>\n",
              "      <td>4.90</td>\n",
              "      <td>43.40</td>\n",
              "      <td>3.21</td>\n",
              "      <td>7.00</td>\n",
              "      <td>4.00</td>\n",
              "      <td>13.00</td>\n",
              "    </tr>\n",
              "    <tr>\n",
              "      <th>50%</th>\n",
              "      <td>NaN</td>\n",
              "      <td>946.19</td>\n",
              "      <td>914427.00</td>\n",
              "      <td>0.91</td>\n",
              "      <td>32452.00</td>\n",
              "      <td>32.45</td>\n",
              "      <td>31.00</td>\n",
              "      <td>74.00</td>\n",
              "      <td>57.00</td>\n",
              "      <td>38.00</td>\n",
              "      <td>11.00</td>\n",
              "      <td>3626.00</td>\n",
              "      <td>9.50</td>\n",
              "      <td>45.50</td>\n",
              "      <td>3.27</td>\n",
              "      <td>15.00</td>\n",
              "      <td>9.00</td>\n",
              "      <td>32.00</td>\n",
              "    </tr>\n",
              "    <tr>\n",
              "      <th>75%</th>\n",
              "      <td>NaN</td>\n",
              "      <td>984.12</td>\n",
              "      <td>1717201.00</td>\n",
              "      <td>1.72</td>\n",
              "      <td>35496.00</td>\n",
              "      <td>35.50</td>\n",
              "      <td>39.50</td>\n",
              "      <td>77.00</td>\n",
              "      <td>60.00</td>\n",
              "      <td>44.00</td>\n",
              "      <td>11.50</td>\n",
              "      <td>4565.50</td>\n",
              "      <td>15.70</td>\n",
              "      <td>49.90</td>\n",
              "      <td>3.36</td>\n",
              "      <td>30.50</td>\n",
              "      <td>24.50</td>\n",
              "      <td>70.00</td>\n",
              "    </tr>\n",
              "    <tr>\n",
              "      <th>max</th>\n",
              "      <td>NaN</td>\n",
              "      <td>1113.16</td>\n",
              "      <td>8274961.00</td>\n",
              "      <td>8.27</td>\n",
              "      <td>47966.00</td>\n",
              "      <td>47.97</td>\n",
              "      <td>67.00</td>\n",
              "      <td>85.00</td>\n",
              "      <td>73.00</td>\n",
              "      <td>65.00</td>\n",
              "      <td>12.30</td>\n",
              "      <td>9699.00</td>\n",
              "      <td>38.50</td>\n",
              "      <td>62.20</td>\n",
              "      <td>3.53</td>\n",
              "      <td>648.00</td>\n",
              "      <td>319.00</td>\n",
              "      <td>278.00</td>\n",
              "    </tr>\n",
              "  </tbody>\n",
              "</table>\n",
              "</div>"
            ],
            "text/plain": [
              "                       City  Mortality        Pop  ...     HC    NOx    SO2\n",
              "count                    59      59.00      59.00  ...  59.00  59.00  59.00\n",
              "unique                   59        nan        nan  ...    nan    nan    nan\n",
              "top     Philadelphia, PA-NJ        nan        nan  ...    nan    nan    nan\n",
              "freq                      1        nan        nan  ...    nan    nan    nan\n",
              "mean                    NaN     941.17 1438037.05  ...  38.47  22.97  54.66\n",
              "std                     NaN      62.42 1541736.06  ...  92.64  46.67  63.55\n",
              "min                     NaN     790.73  124833.00  ...   1.00   1.00   1.00\n",
              "25%                     NaN     899.39  566515.00  ...   7.00   4.00  13.00\n",
              "50%                     NaN     946.19  914427.00  ...  15.00   9.00  32.00\n",
              "75%                     NaN     984.12 1717201.00  ...  30.50  24.50  70.00\n",
              "max                     NaN    1113.16 8274961.00  ... 648.00 319.00 278.00\n",
              "\n",
              "[11 rows x 18 columns]"
            ]
          },
          "metadata": {},
          "execution_count": 6
        }
      ]
    },
    {
      "cell_type": "code",
      "metadata": {
        "id": "x6Ls3b0FgR_2",
        "colab": {
          "base_uri": "https://localhost:8080/",
          "height": 1000
        },
        "outputId": "e406154c-c702-4f59-b0f9-1c490a94583b"
      },
      "source": [
        "# Show bar plots for population, HC and NOx by city\n",
        "for i,yVar in enumerate(['Pop', 'HC', 'NOx']):\n",
        "  fig = px.bar(mortality, y=yVar, x='City', text=yVar)\n",
        "  fig.update_traces(texttemplate='%{text:.2s}', textposition='outside')\n",
        "  fig.update_layout(width = 1000, xaxis={'categoryorder':'total descending'}, xaxis_tickangle=-45)\n",
        "  fig.show()"
      ],
      "execution_count": null,
      "outputs": [
        {
          "output_type": "display_data",
          "data": {
            "text/html": [
              "<html>\n",
              "<head><meta charset=\"utf-8\" /></head>\n",
              "<body>\n",
              "    <div>\n",
              "            <script src=\"https://cdnjs.cloudflare.com/ajax/libs/mathjax/2.7.5/MathJax.js?config=TeX-AMS-MML_SVG\"></script><script type=\"text/javascript\">if (window.MathJax) {MathJax.Hub.Config({SVG: {font: \"STIX-Web\"}});}</script>\n",
              "                <script type=\"text/javascript\">window.PlotlyConfig = {MathJaxConfig: 'local'};</script>\n",
              "        <script src=\"https://cdn.plot.ly/plotly-latest.min.js\"></script>    \n",
              "            <div id=\"a7e5167c-3e81-460e-afd2-cf71b3ad30d1\" class=\"plotly-graph-div\" style=\"height:525px; width:1000px;\"></div>\n",
              "            <script type=\"text/javascript\">\n",
              "                \n",
              "                    window.PLOTLYENV=window.PLOTLYENV || {};\n",
              "                    \n",
              "                if (document.getElementById(\"a7e5167c-3e81-460e-afd2-cf71b3ad30d1\")) {\n",
              "                    Plotly.newPlot(\n",
              "                        'a7e5167c-3e81-460e-afd2-cf71b3ad30d1',\n",
              "                        [{\"alignmentgroup\": \"True\", \"hoverlabel\": {\"namelength\": 0}, \"hovertemplate\": \"City=%{x}<br>Pop=%{text}\", \"legendgroup\": \"\", \"marker\": {\"color\": \"#636efa\"}, \"name\": \"\", \"offsetgroup\": \"\", \"orientation\": \"v\", \"showlegend\": false, \"text\": [660328.0, 835880.0, 635481.0, 2138231.0, 2199531.0, 883946.0, 2805911.0, 438557.0, 1015472.0, 404421.0, 426540.0, 606387.0, 1401491.0, 1898825.0, 124833.0, 1957378.0, 942083.0, 1428836.0, 4488072.0, 450449.0, 601680.0, 851851.0, 715923.0, 2735766.0, 1166575.0, 914427.0, 362346.0, 7477503.0, 956756.0, 913472.0, 1625781.0, 1397143.0, 2137133.0, 850505.0, 500474.0, 1256256.0, 8274961.0, 4716818.0, 2218870.0, 1105699.0, 618514.0, 312509.0, 761311.0, 971230.0, 1808621.0, 1861846.0, 1488871.0, 1295071.0, 1607469.0, 515259.0, 642971.0, 616864.0, 320180.0, 3250822.0, 411313.0, 523221.0, 402918.0, 381255.0, 531350.0], \"textposition\": \"outside\", \"texttemplate\": \"%{text:.2s}\", \"type\": \"bar\", \"x\": [\"Akron, OH\", \"Albany-Schenectady-Troy, NY\", \"Allentown, Bethlehem,PA-NJ\", \"Atlanta, GA\", \"Baltimore, MD\", \"Birmingham, AL\", \"Boston, MA\", \"Bridgeport-Milford, CT\", \"Buffalo, NY\", \"Canton, OH\", \"Chattanooga, TN-GA\", \"Chicago, IL\", \"Cincinnati, OH-KY-IN\", \"Cleveland, OH\", \"Columbus, OH\", \"Dallas, TX\", \"Dayton-Springfield, OH\", \"Denver, CO\", \"Detroit, MI\", \"Flint, MI\", \"Grand Rapids,MI\", \"Greensboro-Winston-Salem-High Point,NC\", \"Hartford, CT\", \"Houston, TX\", \"Indianapolis, IN\", \"Kansas City,MO\", \"Lancaster, PA\", \"Los Angeles,Long Beech, CA\", \"Louisville, KY-IN\", \"Memphis, TN-AR-MS\", \"Miami-Hialeah, FL\", \"Milwaukee, WI\", \"Minneapolis-St. Paul,MN-WI\", \"Nashville, TN\", \"New Haven-Meriden,CT\", \"New Orleans,LA\", \"New York,NY\", \"Philadelphia, PA-NJ\", \"Pittsburgh, PA\", \"Portland, OR\", \"Providence, RI\", \"Reading, PA\", \"Richmond-Petersburg, VA\", \"Rochester, NY\", \"St. Louis,MO-IL\", \"San Diego,CA\", \"San Francisco,CA\", \"San Jose,CA\", \"Seattle, WA\", \"Springfield, MA\", \"Syracuse, NY\", \"Toledo, OH\", \"Utica-Rome, NY\", \"Washington, DC-MD-VA\", \"Wichita, KS\", \"Wilmington, DE-NJ-MD\", \"Worcester, MA\", \"York, PA\", \"Youngstown-Warren, OH\"], \"xaxis\": \"x\", \"y\": [660328, 835880, 635481, 2138231, 2199531, 883946, 2805911, 438557, 1015472, 404421, 426540, 606387, 1401491, 1898825, 124833, 1957378, 942083, 1428836, 4488072, 450449, 601680, 851851, 715923, 2735766, 1166575, 914427, 362346, 7477503, 956756, 913472, 1625781, 1397143, 2137133, 850505, 500474, 1256256, 8274961, 4716818, 2218870, 1105699, 618514, 312509, 761311, 971230, 1808621, 1861846, 1488871, 1295071, 1607469, 515259, 642971, 616864, 320180, 3250822, 411313, 523221, 402918, 381255, 531350], \"yaxis\": \"y\"}],\n",
              "                        {\"barmode\": \"relative\", \"legend\": {\"tracegroupgap\": 0}, \"margin\": {\"t\": 60}, \"template\": {\"data\": {\"bar\": [{\"error_x\": {\"color\": \"#2a3f5f\"}, \"error_y\": {\"color\": \"#2a3f5f\"}, \"marker\": {\"line\": {\"color\": \"#E5ECF6\", \"width\": 0.5}}, \"type\": \"bar\"}], \"barpolar\": [{\"marker\": {\"line\": {\"color\": \"#E5ECF6\", \"width\": 0.5}}, \"type\": \"barpolar\"}], \"carpet\": [{\"aaxis\": {\"endlinecolor\": \"#2a3f5f\", \"gridcolor\": \"white\", \"linecolor\": \"white\", \"minorgridcolor\": \"white\", \"startlinecolor\": \"#2a3f5f\"}, \"baxis\": {\"endlinecolor\": \"#2a3f5f\", \"gridcolor\": \"white\", \"linecolor\": \"white\", \"minorgridcolor\": \"white\", \"startlinecolor\": \"#2a3f5f\"}, \"type\": \"carpet\"}], \"choropleth\": [{\"colorbar\": {\"outlinewidth\": 0, \"ticks\": \"\"}, \"type\": \"choropleth\"}], \"contour\": [{\"colorbar\": {\"outlinewidth\": 0, \"ticks\": \"\"}, \"colorscale\": [[0.0, \"#0d0887\"], [0.1111111111111111, \"#46039f\"], [0.2222222222222222, \"#7201a8\"], [0.3333333333333333, \"#9c179e\"], [0.4444444444444444, \"#bd3786\"], [0.5555555555555556, \"#d8576b\"], [0.6666666666666666, \"#ed7953\"], [0.7777777777777778, \"#fb9f3a\"], [0.8888888888888888, \"#fdca26\"], [1.0, \"#f0f921\"]], \"type\": \"contour\"}], \"contourcarpet\": [{\"colorbar\": {\"outlinewidth\": 0, \"ticks\": \"\"}, \"type\": \"contourcarpet\"}], \"heatmap\": [{\"colorbar\": {\"outlinewidth\": 0, \"ticks\": \"\"}, \"colorscale\": [[0.0, \"#0d0887\"], [0.1111111111111111, \"#46039f\"], [0.2222222222222222, \"#7201a8\"], [0.3333333333333333, \"#9c179e\"], [0.4444444444444444, \"#bd3786\"], [0.5555555555555556, \"#d8576b\"], [0.6666666666666666, \"#ed7953\"], [0.7777777777777778, \"#fb9f3a\"], [0.8888888888888888, \"#fdca26\"], [1.0, \"#f0f921\"]], \"type\": \"heatmap\"}], \"heatmapgl\": [{\"colorbar\": {\"outlinewidth\": 0, \"ticks\": \"\"}, \"colorscale\": [[0.0, \"#0d0887\"], [0.1111111111111111, \"#46039f\"], [0.2222222222222222, \"#7201a8\"], [0.3333333333333333, \"#9c179e\"], [0.4444444444444444, \"#bd3786\"], [0.5555555555555556, \"#d8576b\"], [0.6666666666666666, \"#ed7953\"], [0.7777777777777778, \"#fb9f3a\"], [0.8888888888888888, \"#fdca26\"], [1.0, \"#f0f921\"]], \"type\": \"heatmapgl\"}], \"histogram\": [{\"marker\": {\"colorbar\": {\"outlinewidth\": 0, \"ticks\": \"\"}}, \"type\": \"histogram\"}], \"histogram2d\": [{\"colorbar\": {\"outlinewidth\": 0, \"ticks\": \"\"}, \"colorscale\": [[0.0, \"#0d0887\"], [0.1111111111111111, \"#46039f\"], [0.2222222222222222, \"#7201a8\"], [0.3333333333333333, \"#9c179e\"], [0.4444444444444444, \"#bd3786\"], [0.5555555555555556, \"#d8576b\"], [0.6666666666666666, \"#ed7953\"], [0.7777777777777778, \"#fb9f3a\"], [0.8888888888888888, \"#fdca26\"], [1.0, \"#f0f921\"]], \"type\": \"histogram2d\"}], \"histogram2dcontour\": [{\"colorbar\": {\"outlinewidth\": 0, \"ticks\": \"\"}, \"colorscale\": [[0.0, \"#0d0887\"], [0.1111111111111111, \"#46039f\"], [0.2222222222222222, \"#7201a8\"], [0.3333333333333333, \"#9c179e\"], [0.4444444444444444, \"#bd3786\"], [0.5555555555555556, \"#d8576b\"], [0.6666666666666666, \"#ed7953\"], [0.7777777777777778, \"#fb9f3a\"], [0.8888888888888888, \"#fdca26\"], [1.0, \"#f0f921\"]], \"type\": \"histogram2dcontour\"}], \"mesh3d\": [{\"colorbar\": {\"outlinewidth\": 0, \"ticks\": \"\"}, \"type\": \"mesh3d\"}], \"parcoords\": [{\"line\": {\"colorbar\": {\"outlinewidth\": 0, \"ticks\": \"\"}}, \"type\": \"parcoords\"}], \"pie\": [{\"automargin\": true, \"type\": \"pie\"}], \"scatter\": [{\"marker\": {\"colorbar\": {\"outlinewidth\": 0, \"ticks\": \"\"}}, \"type\": \"scatter\"}], \"scatter3d\": [{\"line\": {\"colorbar\": {\"outlinewidth\": 0, \"ticks\": \"\"}}, \"marker\": {\"colorbar\": {\"outlinewidth\": 0, \"ticks\": \"\"}}, \"type\": \"scatter3d\"}], \"scattercarpet\": [{\"marker\": {\"colorbar\": {\"outlinewidth\": 0, \"ticks\": \"\"}}, \"type\": \"scattercarpet\"}], \"scattergeo\": [{\"marker\": {\"colorbar\": {\"outlinewidth\": 0, \"ticks\": \"\"}}, \"type\": \"scattergeo\"}], \"scattergl\": [{\"marker\": {\"colorbar\": {\"outlinewidth\": 0, \"ticks\": \"\"}}, \"type\": \"scattergl\"}], \"scattermapbox\": [{\"marker\": {\"colorbar\": {\"outlinewidth\": 0, \"ticks\": \"\"}}, \"type\": \"scattermapbox\"}], \"scatterpolar\": [{\"marker\": {\"colorbar\": {\"outlinewidth\": 0, \"ticks\": \"\"}}, \"type\": \"scatterpolar\"}], \"scatterpolargl\": [{\"marker\": {\"colorbar\": {\"outlinewidth\": 0, \"ticks\": \"\"}}, \"type\": \"scatterpolargl\"}], \"scatterternary\": [{\"marker\": {\"colorbar\": {\"outlinewidth\": 0, \"ticks\": \"\"}}, \"type\": \"scatterternary\"}], \"surface\": [{\"colorbar\": {\"outlinewidth\": 0, \"ticks\": \"\"}, \"colorscale\": [[0.0, \"#0d0887\"], [0.1111111111111111, \"#46039f\"], [0.2222222222222222, \"#7201a8\"], [0.3333333333333333, \"#9c179e\"], [0.4444444444444444, \"#bd3786\"], [0.5555555555555556, \"#d8576b\"], [0.6666666666666666, \"#ed7953\"], [0.7777777777777778, \"#fb9f3a\"], [0.8888888888888888, \"#fdca26\"], [1.0, \"#f0f921\"]], \"type\": \"surface\"}], \"table\": [{\"cells\": {\"fill\": {\"color\": \"#EBF0F8\"}, \"line\": {\"color\": \"white\"}}, \"header\": {\"fill\": {\"color\": \"#C8D4E3\"}, \"line\": {\"color\": \"white\"}}, \"type\": \"table\"}]}, \"layout\": {\"annotationdefaults\": {\"arrowcolor\": \"#2a3f5f\", \"arrowhead\": 0, \"arrowwidth\": 1}, \"coloraxis\": {\"colorbar\": {\"outlinewidth\": 0, \"ticks\": \"\"}}, \"colorscale\": {\"diverging\": [[0, \"#8e0152\"], [0.1, \"#c51b7d\"], [0.2, \"#de77ae\"], [0.3, \"#f1b6da\"], [0.4, \"#fde0ef\"], [0.5, \"#f7f7f7\"], [0.6, \"#e6f5d0\"], [0.7, \"#b8e186\"], [0.8, \"#7fbc41\"], [0.9, \"#4d9221\"], [1, \"#276419\"]], \"sequential\": [[0.0, \"#0d0887\"], [0.1111111111111111, \"#46039f\"], [0.2222222222222222, \"#7201a8\"], [0.3333333333333333, \"#9c179e\"], [0.4444444444444444, \"#bd3786\"], [0.5555555555555556, \"#d8576b\"], [0.6666666666666666, \"#ed7953\"], [0.7777777777777778, \"#fb9f3a\"], [0.8888888888888888, \"#fdca26\"], [1.0, \"#f0f921\"]], \"sequentialminus\": [[0.0, \"#0d0887\"], [0.1111111111111111, \"#46039f\"], [0.2222222222222222, \"#7201a8\"], [0.3333333333333333, \"#9c179e\"], [0.4444444444444444, \"#bd3786\"], [0.5555555555555556, \"#d8576b\"], [0.6666666666666666, \"#ed7953\"], [0.7777777777777778, \"#fb9f3a\"], [0.8888888888888888, \"#fdca26\"], [1.0, \"#f0f921\"]]}, \"colorway\": [\"#636efa\", \"#EF553B\", \"#00cc96\", \"#ab63fa\", \"#FFA15A\", \"#19d3f3\", \"#FF6692\", \"#B6E880\", \"#FF97FF\", \"#FECB52\"], \"font\": {\"color\": \"#2a3f5f\"}, \"geo\": {\"bgcolor\": \"white\", \"lakecolor\": \"white\", \"landcolor\": \"#E5ECF6\", \"showlakes\": true, \"showland\": true, \"subunitcolor\": \"white\"}, \"hoverlabel\": {\"align\": \"left\"}, \"hovermode\": \"closest\", \"mapbox\": {\"style\": \"light\"}, \"paper_bgcolor\": \"white\", \"plot_bgcolor\": \"#E5ECF6\", \"polar\": {\"angularaxis\": {\"gridcolor\": \"white\", \"linecolor\": \"white\", \"ticks\": \"\"}, \"bgcolor\": \"#E5ECF6\", \"radialaxis\": {\"gridcolor\": \"white\", \"linecolor\": \"white\", \"ticks\": \"\"}}, \"scene\": {\"xaxis\": {\"backgroundcolor\": \"#E5ECF6\", \"gridcolor\": \"white\", \"gridwidth\": 2, \"linecolor\": \"white\", \"showbackground\": true, \"ticks\": \"\", \"zerolinecolor\": \"white\"}, \"yaxis\": {\"backgroundcolor\": \"#E5ECF6\", \"gridcolor\": \"white\", \"gridwidth\": 2, \"linecolor\": \"white\", \"showbackground\": true, \"ticks\": \"\", \"zerolinecolor\": \"white\"}, \"zaxis\": {\"backgroundcolor\": \"#E5ECF6\", \"gridcolor\": \"white\", \"gridwidth\": 2, \"linecolor\": \"white\", \"showbackground\": true, \"ticks\": \"\", \"zerolinecolor\": \"white\"}}, \"shapedefaults\": {\"line\": {\"color\": \"#2a3f5f\"}}, \"ternary\": {\"aaxis\": {\"gridcolor\": \"white\", \"linecolor\": \"white\", \"ticks\": \"\"}, \"baxis\": {\"gridcolor\": \"white\", \"linecolor\": \"white\", \"ticks\": \"\"}, \"bgcolor\": \"#E5ECF6\", \"caxis\": {\"gridcolor\": \"white\", \"linecolor\": \"white\", \"ticks\": \"\"}}, \"title\": {\"x\": 0.05}, \"xaxis\": {\"automargin\": true, \"gridcolor\": \"white\", \"linecolor\": \"white\", \"ticks\": \"\", \"title\": {\"standoff\": 15}, \"zerolinecolor\": \"white\", \"zerolinewidth\": 2}, \"yaxis\": {\"automargin\": true, \"gridcolor\": \"white\", \"linecolor\": \"white\", \"ticks\": \"\", \"title\": {\"standoff\": 15}, \"zerolinecolor\": \"white\", \"zerolinewidth\": 2}}}, \"width\": 1000, \"xaxis\": {\"anchor\": \"y\", \"categoryorder\": \"total descending\", \"domain\": [0.0, 1.0], \"tickangle\": -45, \"title\": {\"text\": \"City\"}}, \"yaxis\": {\"anchor\": \"x\", \"domain\": [0.0, 1.0], \"title\": {\"text\": \"Pop\"}}},\n",
              "                        {\"responsive\": true}\n",
              "                    ).then(function(){\n",
              "                            \n",
              "var gd = document.getElementById('a7e5167c-3e81-460e-afd2-cf71b3ad30d1');\n",
              "var x = new MutationObserver(function (mutations, observer) {{\n",
              "        var display = window.getComputedStyle(gd).display;\n",
              "        if (!display || display === 'none') {{\n",
              "            console.log([gd, 'removed!']);\n",
              "            Plotly.purge(gd);\n",
              "            observer.disconnect();\n",
              "        }}\n",
              "}});\n",
              "\n",
              "// Listen for the removal of the full notebook cells\n",
              "var notebookContainer = gd.closest('#notebook-container');\n",
              "if (notebookContainer) {{\n",
              "    x.observe(notebookContainer, {childList: true});\n",
              "}}\n",
              "\n",
              "// Listen for the clearing of the current output cell\n",
              "var outputEl = gd.closest('.output');\n",
              "if (outputEl) {{\n",
              "    x.observe(outputEl, {childList: true});\n",
              "}}\n",
              "\n",
              "                        })\n",
              "                };\n",
              "                \n",
              "            </script>\n",
              "        </div>\n",
              "</body>\n",
              "</html>"
            ]
          },
          "metadata": {}
        },
        {
          "output_type": "display_data",
          "data": {
            "text/html": [
              "<html>\n",
              "<head><meta charset=\"utf-8\" /></head>\n",
              "<body>\n",
              "    <div>\n",
              "            <script src=\"https://cdnjs.cloudflare.com/ajax/libs/mathjax/2.7.5/MathJax.js?config=TeX-AMS-MML_SVG\"></script><script type=\"text/javascript\">if (window.MathJax) {MathJax.Hub.Config({SVG: {font: \"STIX-Web\"}});}</script>\n",
              "                <script type=\"text/javascript\">window.PlotlyConfig = {MathJaxConfig: 'local'};</script>\n",
              "        <script src=\"https://cdn.plot.ly/plotly-latest.min.js\"></script>    \n",
              "            <div id=\"55b6f529-506c-4917-b3d5-0b581f86d029\" class=\"plotly-graph-div\" style=\"height:525px; width:1000px;\"></div>\n",
              "            <script type=\"text/javascript\">\n",
              "                \n",
              "                    window.PLOTLYENV=window.PLOTLYENV || {};\n",
              "                    \n",
              "                if (document.getElementById(\"55b6f529-506c-4917-b3d5-0b581f86d029\")) {\n",
              "                    Plotly.newPlot(\n",
              "                        '55b6f529-506c-4917-b3d5-0b581f86d029',\n",
              "                        [{\"alignmentgroup\": \"True\", \"hoverlabel\": {\"namelength\": 0}, \"hovertemplate\": \"City=%{x}<br>HC=%{text}\", \"legendgroup\": \"\", \"marker\": {\"color\": \"#636efa\"}, \"name\": \"\", \"offsetgroup\": \"\", \"orientation\": \"v\", \"showlegend\": false, \"text\": [21.0, 8.0, 6.0, 18.0, 43.0, 30.0, 21.0, 6.0, 18.0, 12.0, 18.0, 88.0, 26.0, 31.0, 23.0, 1.0, 6.0, 17.0, 52.0, 11.0, 5.0, 8.0, 7.0, 6.0, 13.0, 7.0, 11.0, 648.0, 38.0, 15.0, 3.0, 33.0, 20.0, 17.0, 4.0, 20.0, 41.0, 29.0, 45.0, 56.0, 6.0, 11.0, 12.0, 7.0, 31.0, 144.0, 311.0, 105.0, 20.0, 5.0, 8.0, 11.0, 5.0, 65.0, 4.0, 14.0, 7.0, 8.0, 14.0], \"textposition\": \"outside\", \"texttemplate\": \"%{text:.2s}\", \"type\": \"bar\", \"x\": [\"Akron, OH\", \"Albany-Schenectady-Troy, NY\", \"Allentown, Bethlehem,PA-NJ\", \"Atlanta, GA\", \"Baltimore, MD\", \"Birmingham, AL\", \"Boston, MA\", \"Bridgeport-Milford, CT\", \"Buffalo, NY\", \"Canton, OH\", \"Chattanooga, TN-GA\", \"Chicago, IL\", \"Cincinnati, OH-KY-IN\", \"Cleveland, OH\", \"Columbus, OH\", \"Dallas, TX\", \"Dayton-Springfield, OH\", \"Denver, CO\", \"Detroit, MI\", \"Flint, MI\", \"Grand Rapids,MI\", \"Greensboro-Winston-Salem-High Point,NC\", \"Hartford, CT\", \"Houston, TX\", \"Indianapolis, IN\", \"Kansas City,MO\", \"Lancaster, PA\", \"Los Angeles,Long Beech, CA\", \"Louisville, KY-IN\", \"Memphis, TN-AR-MS\", \"Miami-Hialeah, FL\", \"Milwaukee, WI\", \"Minneapolis-St. Paul,MN-WI\", \"Nashville, TN\", \"New Haven-Meriden,CT\", \"New Orleans,LA\", \"New York,NY\", \"Philadelphia, PA-NJ\", \"Pittsburgh, PA\", \"Portland, OR\", \"Providence, RI\", \"Reading, PA\", \"Richmond-Petersburg, VA\", \"Rochester, NY\", \"St. Louis,MO-IL\", \"San Diego,CA\", \"San Francisco,CA\", \"San Jose,CA\", \"Seattle, WA\", \"Springfield, MA\", \"Syracuse, NY\", \"Toledo, OH\", \"Utica-Rome, NY\", \"Washington, DC-MD-VA\", \"Wichita, KS\", \"Wilmington, DE-NJ-MD\", \"Worcester, MA\", \"York, PA\", \"Youngstown-Warren, OH\"], \"xaxis\": \"x\", \"y\": [21, 8, 6, 18, 43, 30, 21, 6, 18, 12, 18, 88, 26, 31, 23, 1, 6, 17, 52, 11, 5, 8, 7, 6, 13, 7, 11, 648, 38, 15, 3, 33, 20, 17, 4, 20, 41, 29, 45, 56, 6, 11, 12, 7, 31, 144, 311, 105, 20, 5, 8, 11, 5, 65, 4, 14, 7, 8, 14], \"yaxis\": \"y\"}],\n",
              "                        {\"barmode\": \"relative\", \"legend\": {\"tracegroupgap\": 0}, \"margin\": {\"t\": 60}, \"template\": {\"data\": {\"bar\": [{\"error_x\": {\"color\": \"#2a3f5f\"}, \"error_y\": {\"color\": \"#2a3f5f\"}, \"marker\": {\"line\": {\"color\": \"#E5ECF6\", \"width\": 0.5}}, \"type\": \"bar\"}], \"barpolar\": [{\"marker\": {\"line\": {\"color\": \"#E5ECF6\", \"width\": 0.5}}, \"type\": \"barpolar\"}], \"carpet\": [{\"aaxis\": {\"endlinecolor\": \"#2a3f5f\", \"gridcolor\": \"white\", \"linecolor\": \"white\", \"minorgridcolor\": \"white\", \"startlinecolor\": \"#2a3f5f\"}, \"baxis\": {\"endlinecolor\": \"#2a3f5f\", \"gridcolor\": \"white\", \"linecolor\": \"white\", \"minorgridcolor\": \"white\", \"startlinecolor\": \"#2a3f5f\"}, \"type\": \"carpet\"}], \"choropleth\": [{\"colorbar\": {\"outlinewidth\": 0, \"ticks\": \"\"}, \"type\": \"choropleth\"}], \"contour\": [{\"colorbar\": {\"outlinewidth\": 0, \"ticks\": \"\"}, \"colorscale\": [[0.0, \"#0d0887\"], [0.1111111111111111, \"#46039f\"], [0.2222222222222222, \"#7201a8\"], [0.3333333333333333, \"#9c179e\"], [0.4444444444444444, \"#bd3786\"], [0.5555555555555556, \"#d8576b\"], [0.6666666666666666, \"#ed7953\"], [0.7777777777777778, \"#fb9f3a\"], [0.8888888888888888, \"#fdca26\"], [1.0, \"#f0f921\"]], \"type\": \"contour\"}], \"contourcarpet\": [{\"colorbar\": {\"outlinewidth\": 0, \"ticks\": \"\"}, \"type\": \"contourcarpet\"}], \"heatmap\": [{\"colorbar\": {\"outlinewidth\": 0, \"ticks\": \"\"}, \"colorscale\": [[0.0, \"#0d0887\"], [0.1111111111111111, \"#46039f\"], [0.2222222222222222, \"#7201a8\"], [0.3333333333333333, \"#9c179e\"], [0.4444444444444444, \"#bd3786\"], [0.5555555555555556, \"#d8576b\"], [0.6666666666666666, \"#ed7953\"], [0.7777777777777778, \"#fb9f3a\"], [0.8888888888888888, \"#fdca26\"], [1.0, \"#f0f921\"]], \"type\": \"heatmap\"}], \"heatmapgl\": [{\"colorbar\": {\"outlinewidth\": 0, \"ticks\": \"\"}, \"colorscale\": [[0.0, \"#0d0887\"], [0.1111111111111111, \"#46039f\"], [0.2222222222222222, \"#7201a8\"], [0.3333333333333333, \"#9c179e\"], [0.4444444444444444, \"#bd3786\"], [0.5555555555555556, \"#d8576b\"], [0.6666666666666666, \"#ed7953\"], [0.7777777777777778, \"#fb9f3a\"], [0.8888888888888888, \"#fdca26\"], [1.0, \"#f0f921\"]], \"type\": \"heatmapgl\"}], \"histogram\": [{\"marker\": {\"colorbar\": {\"outlinewidth\": 0, \"ticks\": \"\"}}, \"type\": \"histogram\"}], \"histogram2d\": [{\"colorbar\": {\"outlinewidth\": 0, \"ticks\": \"\"}, \"colorscale\": [[0.0, \"#0d0887\"], [0.1111111111111111, \"#46039f\"], [0.2222222222222222, \"#7201a8\"], [0.3333333333333333, \"#9c179e\"], [0.4444444444444444, \"#bd3786\"], [0.5555555555555556, \"#d8576b\"], [0.6666666666666666, \"#ed7953\"], [0.7777777777777778, \"#fb9f3a\"], [0.8888888888888888, \"#fdca26\"], [1.0, \"#f0f921\"]], \"type\": \"histogram2d\"}], \"histogram2dcontour\": [{\"colorbar\": {\"outlinewidth\": 0, \"ticks\": \"\"}, \"colorscale\": [[0.0, \"#0d0887\"], [0.1111111111111111, \"#46039f\"], [0.2222222222222222, \"#7201a8\"], [0.3333333333333333, \"#9c179e\"], [0.4444444444444444, \"#bd3786\"], [0.5555555555555556, \"#d8576b\"], [0.6666666666666666, \"#ed7953\"], [0.7777777777777778, \"#fb9f3a\"], [0.8888888888888888, \"#fdca26\"], [1.0, \"#f0f921\"]], \"type\": \"histogram2dcontour\"}], \"mesh3d\": [{\"colorbar\": {\"outlinewidth\": 0, \"ticks\": \"\"}, \"type\": \"mesh3d\"}], \"parcoords\": [{\"line\": {\"colorbar\": {\"outlinewidth\": 0, \"ticks\": \"\"}}, \"type\": \"parcoords\"}], \"pie\": [{\"automargin\": true, \"type\": \"pie\"}], \"scatter\": [{\"marker\": {\"colorbar\": {\"outlinewidth\": 0, \"ticks\": \"\"}}, \"type\": \"scatter\"}], \"scatter3d\": [{\"line\": {\"colorbar\": {\"outlinewidth\": 0, \"ticks\": \"\"}}, \"marker\": {\"colorbar\": {\"outlinewidth\": 0, \"ticks\": \"\"}}, \"type\": \"scatter3d\"}], \"scattercarpet\": [{\"marker\": {\"colorbar\": {\"outlinewidth\": 0, \"ticks\": \"\"}}, \"type\": \"scattercarpet\"}], \"scattergeo\": [{\"marker\": {\"colorbar\": {\"outlinewidth\": 0, \"ticks\": \"\"}}, \"type\": \"scattergeo\"}], \"scattergl\": [{\"marker\": {\"colorbar\": {\"outlinewidth\": 0, \"ticks\": \"\"}}, \"type\": \"scattergl\"}], \"scattermapbox\": [{\"marker\": {\"colorbar\": {\"outlinewidth\": 0, \"ticks\": \"\"}}, \"type\": \"scattermapbox\"}], \"scatterpolar\": [{\"marker\": {\"colorbar\": {\"outlinewidth\": 0, \"ticks\": \"\"}}, \"type\": \"scatterpolar\"}], \"scatterpolargl\": [{\"marker\": {\"colorbar\": {\"outlinewidth\": 0, \"ticks\": \"\"}}, \"type\": \"scatterpolargl\"}], \"scatterternary\": [{\"marker\": {\"colorbar\": {\"outlinewidth\": 0, \"ticks\": \"\"}}, \"type\": \"scatterternary\"}], \"surface\": [{\"colorbar\": {\"outlinewidth\": 0, \"ticks\": \"\"}, \"colorscale\": [[0.0, \"#0d0887\"], [0.1111111111111111, \"#46039f\"], [0.2222222222222222, \"#7201a8\"], [0.3333333333333333, \"#9c179e\"], [0.4444444444444444, \"#bd3786\"], [0.5555555555555556, \"#d8576b\"], [0.6666666666666666, \"#ed7953\"], [0.7777777777777778, \"#fb9f3a\"], [0.8888888888888888, \"#fdca26\"], [1.0, \"#f0f921\"]], \"type\": \"surface\"}], \"table\": [{\"cells\": {\"fill\": {\"color\": \"#EBF0F8\"}, \"line\": {\"color\": \"white\"}}, \"header\": {\"fill\": {\"color\": \"#C8D4E3\"}, \"line\": {\"color\": \"white\"}}, \"type\": \"table\"}]}, \"layout\": {\"annotationdefaults\": {\"arrowcolor\": \"#2a3f5f\", \"arrowhead\": 0, \"arrowwidth\": 1}, \"coloraxis\": {\"colorbar\": {\"outlinewidth\": 0, \"ticks\": \"\"}}, \"colorscale\": {\"diverging\": [[0, \"#8e0152\"], [0.1, \"#c51b7d\"], [0.2, \"#de77ae\"], [0.3, \"#f1b6da\"], [0.4, \"#fde0ef\"], [0.5, \"#f7f7f7\"], [0.6, \"#e6f5d0\"], [0.7, \"#b8e186\"], [0.8, \"#7fbc41\"], [0.9, \"#4d9221\"], [1, \"#276419\"]], \"sequential\": [[0.0, \"#0d0887\"], [0.1111111111111111, \"#46039f\"], [0.2222222222222222, \"#7201a8\"], [0.3333333333333333, \"#9c179e\"], [0.4444444444444444, \"#bd3786\"], [0.5555555555555556, \"#d8576b\"], [0.6666666666666666, \"#ed7953\"], [0.7777777777777778, \"#fb9f3a\"], [0.8888888888888888, \"#fdca26\"], [1.0, \"#f0f921\"]], \"sequentialminus\": [[0.0, \"#0d0887\"], [0.1111111111111111, \"#46039f\"], [0.2222222222222222, \"#7201a8\"], [0.3333333333333333, \"#9c179e\"], [0.4444444444444444, \"#bd3786\"], [0.5555555555555556, \"#d8576b\"], [0.6666666666666666, \"#ed7953\"], [0.7777777777777778, \"#fb9f3a\"], [0.8888888888888888, \"#fdca26\"], [1.0, \"#f0f921\"]]}, \"colorway\": [\"#636efa\", \"#EF553B\", \"#00cc96\", \"#ab63fa\", \"#FFA15A\", \"#19d3f3\", \"#FF6692\", \"#B6E880\", \"#FF97FF\", \"#FECB52\"], \"font\": {\"color\": \"#2a3f5f\"}, \"geo\": {\"bgcolor\": \"white\", \"lakecolor\": \"white\", \"landcolor\": \"#E5ECF6\", \"showlakes\": true, \"showland\": true, \"subunitcolor\": \"white\"}, \"hoverlabel\": {\"align\": \"left\"}, \"hovermode\": \"closest\", \"mapbox\": {\"style\": \"light\"}, \"paper_bgcolor\": \"white\", \"plot_bgcolor\": \"#E5ECF6\", \"polar\": {\"angularaxis\": {\"gridcolor\": \"white\", \"linecolor\": \"white\", \"ticks\": \"\"}, \"bgcolor\": \"#E5ECF6\", \"radialaxis\": {\"gridcolor\": \"white\", \"linecolor\": \"white\", \"ticks\": \"\"}}, \"scene\": {\"xaxis\": {\"backgroundcolor\": \"#E5ECF6\", \"gridcolor\": \"white\", \"gridwidth\": 2, \"linecolor\": \"white\", \"showbackground\": true, \"ticks\": \"\", \"zerolinecolor\": \"white\"}, \"yaxis\": {\"backgroundcolor\": \"#E5ECF6\", \"gridcolor\": \"white\", \"gridwidth\": 2, \"linecolor\": \"white\", \"showbackground\": true, \"ticks\": \"\", \"zerolinecolor\": \"white\"}, \"zaxis\": {\"backgroundcolor\": \"#E5ECF6\", \"gridcolor\": \"white\", \"gridwidth\": 2, \"linecolor\": \"white\", \"showbackground\": true, \"ticks\": \"\", \"zerolinecolor\": \"white\"}}, \"shapedefaults\": {\"line\": {\"color\": \"#2a3f5f\"}}, \"ternary\": {\"aaxis\": {\"gridcolor\": \"white\", \"linecolor\": \"white\", \"ticks\": \"\"}, \"baxis\": {\"gridcolor\": \"white\", \"linecolor\": \"white\", \"ticks\": \"\"}, \"bgcolor\": \"#E5ECF6\", \"caxis\": {\"gridcolor\": \"white\", \"linecolor\": \"white\", \"ticks\": \"\"}}, \"title\": {\"x\": 0.05}, \"xaxis\": {\"automargin\": true, \"gridcolor\": \"white\", \"linecolor\": \"white\", \"ticks\": \"\", \"title\": {\"standoff\": 15}, \"zerolinecolor\": \"white\", \"zerolinewidth\": 2}, \"yaxis\": {\"automargin\": true, \"gridcolor\": \"white\", \"linecolor\": \"white\", \"ticks\": \"\", \"title\": {\"standoff\": 15}, \"zerolinecolor\": \"white\", \"zerolinewidth\": 2}}}, \"width\": 1000, \"xaxis\": {\"anchor\": \"y\", \"categoryorder\": \"total descending\", \"domain\": [0.0, 1.0], \"tickangle\": -45, \"title\": {\"text\": \"City\"}}, \"yaxis\": {\"anchor\": \"x\", \"domain\": [0.0, 1.0], \"title\": {\"text\": \"HC\"}}},\n",
              "                        {\"responsive\": true}\n",
              "                    ).then(function(){\n",
              "                            \n",
              "var gd = document.getElementById('55b6f529-506c-4917-b3d5-0b581f86d029');\n",
              "var x = new MutationObserver(function (mutations, observer) {{\n",
              "        var display = window.getComputedStyle(gd).display;\n",
              "        if (!display || display === 'none') {{\n",
              "            console.log([gd, 'removed!']);\n",
              "            Plotly.purge(gd);\n",
              "            observer.disconnect();\n",
              "        }}\n",
              "}});\n",
              "\n",
              "// Listen for the removal of the full notebook cells\n",
              "var notebookContainer = gd.closest('#notebook-container');\n",
              "if (notebookContainer) {{\n",
              "    x.observe(notebookContainer, {childList: true});\n",
              "}}\n",
              "\n",
              "// Listen for the clearing of the current output cell\n",
              "var outputEl = gd.closest('.output');\n",
              "if (outputEl) {{\n",
              "    x.observe(outputEl, {childList: true});\n",
              "}}\n",
              "\n",
              "                        })\n",
              "                };\n",
              "                \n",
              "            </script>\n",
              "        </div>\n",
              "</body>\n",
              "</html>"
            ]
          },
          "metadata": {}
        },
        {
          "output_type": "display_data",
          "data": {
            "text/html": [
              "<html>\n",
              "<head><meta charset=\"utf-8\" /></head>\n",
              "<body>\n",
              "    <div>\n",
              "            <script src=\"https://cdnjs.cloudflare.com/ajax/libs/mathjax/2.7.5/MathJax.js?config=TeX-AMS-MML_SVG\"></script><script type=\"text/javascript\">if (window.MathJax) {MathJax.Hub.Config({SVG: {font: \"STIX-Web\"}});}</script>\n",
              "                <script type=\"text/javascript\">window.PlotlyConfig = {MathJaxConfig: 'local'};</script>\n",
              "        <script src=\"https://cdn.plot.ly/plotly-latest.min.js\"></script>    \n",
              "            <div id=\"b0aea0a4-976f-4add-98a2-eaccc9c35e5e\" class=\"plotly-graph-div\" style=\"height:525px; width:1000px;\"></div>\n",
              "            <script type=\"text/javascript\">\n",
              "                \n",
              "                    window.PLOTLYENV=window.PLOTLYENV || {};\n",
              "                    \n",
              "                if (document.getElementById(\"b0aea0a4-976f-4add-98a2-eaccc9c35e5e\")) {\n",
              "                    Plotly.newPlot(\n",
              "                        'b0aea0a4-976f-4add-98a2-eaccc9c35e5e',\n",
              "                        [{\"alignmentgroup\": \"True\", \"hoverlabel\": {\"namelength\": 0}, \"hovertemplate\": \"City=%{x}<br>NOx=%{text}\", \"legendgroup\": \"\", \"marker\": {\"color\": \"#636efa\"}, \"name\": \"\", \"offsetgroup\": \"\", \"orientation\": \"v\", \"showlegend\": false, \"text\": [15.0, 10.0, 6.0, 8.0, 38.0, 32.0, 32.0, 4.0, 12.0, 7.0, 8.0, 63.0, 26.0, 21.0, 9.0, 1.0, 4.0, 8.0, 35.0, 4.0, 3.0, 3.0, 3.0, 5.0, 7.0, 4.0, 7.0, 319.0, 37.0, 18.0, 1.0, 23.0, 11.0, 14.0, 3.0, 17.0, 26.0, 32.0, 59.0, 21.0, 4.0, 11.0, 9.0, 4.0, 15.0, 66.0, 171.0, 32.0, 7.0, 1.0, 5.0, 7.0, 2.0, 28.0, 2.0, 11.0, 3.0, 8.0, 13.0], \"textposition\": \"outside\", \"texttemplate\": \"%{text:.2s}\", \"type\": \"bar\", \"x\": [\"Akron, OH\", \"Albany-Schenectady-Troy, NY\", \"Allentown, Bethlehem,PA-NJ\", \"Atlanta, GA\", \"Baltimore, MD\", \"Birmingham, AL\", \"Boston, MA\", \"Bridgeport-Milford, CT\", \"Buffalo, NY\", \"Canton, OH\", \"Chattanooga, TN-GA\", \"Chicago, IL\", \"Cincinnati, OH-KY-IN\", \"Cleveland, OH\", \"Columbus, OH\", \"Dallas, TX\", \"Dayton-Springfield, OH\", \"Denver, CO\", \"Detroit, MI\", \"Flint, MI\", \"Grand Rapids,MI\", \"Greensboro-Winston-Salem-High Point,NC\", \"Hartford, CT\", \"Houston, TX\", \"Indianapolis, IN\", \"Kansas City,MO\", \"Lancaster, PA\", \"Los Angeles,Long Beech, CA\", \"Louisville, KY-IN\", \"Memphis, TN-AR-MS\", \"Miami-Hialeah, FL\", \"Milwaukee, WI\", \"Minneapolis-St. Paul,MN-WI\", \"Nashville, TN\", \"New Haven-Meriden,CT\", \"New Orleans,LA\", \"New York,NY\", \"Philadelphia, PA-NJ\", \"Pittsburgh, PA\", \"Portland, OR\", \"Providence, RI\", \"Reading, PA\", \"Richmond-Petersburg, VA\", \"Rochester, NY\", \"St. Louis,MO-IL\", \"San Diego,CA\", \"San Francisco,CA\", \"San Jose,CA\", \"Seattle, WA\", \"Springfield, MA\", \"Syracuse, NY\", \"Toledo, OH\", \"Utica-Rome, NY\", \"Washington, DC-MD-VA\", \"Wichita, KS\", \"Wilmington, DE-NJ-MD\", \"Worcester, MA\", \"York, PA\", \"Youngstown-Warren, OH\"], \"xaxis\": \"x\", \"y\": [15, 10, 6, 8, 38, 32, 32, 4, 12, 7, 8, 63, 26, 21, 9, 1, 4, 8, 35, 4, 3, 3, 3, 5, 7, 4, 7, 319, 37, 18, 1, 23, 11, 14, 3, 17, 26, 32, 59, 21, 4, 11, 9, 4, 15, 66, 171, 32, 7, 1, 5, 7, 2, 28, 2, 11, 3, 8, 13], \"yaxis\": \"y\"}],\n",
              "                        {\"barmode\": \"relative\", \"legend\": {\"tracegroupgap\": 0}, \"margin\": {\"t\": 60}, \"template\": {\"data\": {\"bar\": [{\"error_x\": {\"color\": \"#2a3f5f\"}, \"error_y\": {\"color\": \"#2a3f5f\"}, \"marker\": {\"line\": {\"color\": \"#E5ECF6\", \"width\": 0.5}}, \"type\": \"bar\"}], \"barpolar\": [{\"marker\": {\"line\": {\"color\": \"#E5ECF6\", \"width\": 0.5}}, \"type\": \"barpolar\"}], \"carpet\": [{\"aaxis\": {\"endlinecolor\": \"#2a3f5f\", \"gridcolor\": \"white\", \"linecolor\": \"white\", \"minorgridcolor\": \"white\", \"startlinecolor\": \"#2a3f5f\"}, \"baxis\": {\"endlinecolor\": \"#2a3f5f\", \"gridcolor\": \"white\", \"linecolor\": \"white\", \"minorgridcolor\": \"white\", \"startlinecolor\": \"#2a3f5f\"}, \"type\": \"carpet\"}], \"choropleth\": [{\"colorbar\": {\"outlinewidth\": 0, \"ticks\": \"\"}, \"type\": \"choropleth\"}], \"contour\": [{\"colorbar\": {\"outlinewidth\": 0, \"ticks\": \"\"}, \"colorscale\": [[0.0, \"#0d0887\"], [0.1111111111111111, \"#46039f\"], [0.2222222222222222, \"#7201a8\"], [0.3333333333333333, \"#9c179e\"], [0.4444444444444444, \"#bd3786\"], [0.5555555555555556, \"#d8576b\"], [0.6666666666666666, \"#ed7953\"], [0.7777777777777778, \"#fb9f3a\"], [0.8888888888888888, \"#fdca26\"], [1.0, \"#f0f921\"]], \"type\": \"contour\"}], \"contourcarpet\": [{\"colorbar\": {\"outlinewidth\": 0, \"ticks\": \"\"}, \"type\": \"contourcarpet\"}], \"heatmap\": [{\"colorbar\": {\"outlinewidth\": 0, \"ticks\": \"\"}, \"colorscale\": [[0.0, \"#0d0887\"], [0.1111111111111111, \"#46039f\"], [0.2222222222222222, \"#7201a8\"], [0.3333333333333333, \"#9c179e\"], [0.4444444444444444, \"#bd3786\"], [0.5555555555555556, \"#d8576b\"], [0.6666666666666666, \"#ed7953\"], [0.7777777777777778, \"#fb9f3a\"], [0.8888888888888888, \"#fdca26\"], [1.0, \"#f0f921\"]], \"type\": \"heatmap\"}], \"heatmapgl\": [{\"colorbar\": {\"outlinewidth\": 0, \"ticks\": \"\"}, \"colorscale\": [[0.0, \"#0d0887\"], [0.1111111111111111, \"#46039f\"], [0.2222222222222222, \"#7201a8\"], [0.3333333333333333, \"#9c179e\"], [0.4444444444444444, \"#bd3786\"], [0.5555555555555556, \"#d8576b\"], [0.6666666666666666, \"#ed7953\"], [0.7777777777777778, \"#fb9f3a\"], [0.8888888888888888, \"#fdca26\"], [1.0, \"#f0f921\"]], \"type\": \"heatmapgl\"}], \"histogram\": [{\"marker\": {\"colorbar\": {\"outlinewidth\": 0, \"ticks\": \"\"}}, \"type\": \"histogram\"}], \"histogram2d\": [{\"colorbar\": {\"outlinewidth\": 0, \"ticks\": \"\"}, \"colorscale\": [[0.0, \"#0d0887\"], [0.1111111111111111, \"#46039f\"], [0.2222222222222222, \"#7201a8\"], [0.3333333333333333, \"#9c179e\"], [0.4444444444444444, \"#bd3786\"], [0.5555555555555556, \"#d8576b\"], [0.6666666666666666, \"#ed7953\"], [0.7777777777777778, \"#fb9f3a\"], [0.8888888888888888, \"#fdca26\"], [1.0, \"#f0f921\"]], \"type\": \"histogram2d\"}], \"histogram2dcontour\": [{\"colorbar\": {\"outlinewidth\": 0, \"ticks\": \"\"}, \"colorscale\": [[0.0, \"#0d0887\"], [0.1111111111111111, \"#46039f\"], [0.2222222222222222, \"#7201a8\"], [0.3333333333333333, \"#9c179e\"], [0.4444444444444444, \"#bd3786\"], [0.5555555555555556, \"#d8576b\"], [0.6666666666666666, \"#ed7953\"], [0.7777777777777778, \"#fb9f3a\"], [0.8888888888888888, \"#fdca26\"], [1.0, \"#f0f921\"]], \"type\": \"histogram2dcontour\"}], \"mesh3d\": [{\"colorbar\": {\"outlinewidth\": 0, \"ticks\": \"\"}, \"type\": \"mesh3d\"}], \"parcoords\": [{\"line\": {\"colorbar\": {\"outlinewidth\": 0, \"ticks\": \"\"}}, \"type\": \"parcoords\"}], \"pie\": [{\"automargin\": true, \"type\": \"pie\"}], \"scatter\": [{\"marker\": {\"colorbar\": {\"outlinewidth\": 0, \"ticks\": \"\"}}, \"type\": \"scatter\"}], \"scatter3d\": [{\"line\": {\"colorbar\": {\"outlinewidth\": 0, \"ticks\": \"\"}}, \"marker\": {\"colorbar\": {\"outlinewidth\": 0, \"ticks\": \"\"}}, \"type\": \"scatter3d\"}], \"scattercarpet\": [{\"marker\": {\"colorbar\": {\"outlinewidth\": 0, \"ticks\": \"\"}}, \"type\": \"scattercarpet\"}], \"scattergeo\": [{\"marker\": {\"colorbar\": {\"outlinewidth\": 0, \"ticks\": \"\"}}, \"type\": \"scattergeo\"}], \"scattergl\": [{\"marker\": {\"colorbar\": {\"outlinewidth\": 0, \"ticks\": \"\"}}, \"type\": \"scattergl\"}], \"scattermapbox\": [{\"marker\": {\"colorbar\": {\"outlinewidth\": 0, \"ticks\": \"\"}}, \"type\": \"scattermapbox\"}], \"scatterpolar\": [{\"marker\": {\"colorbar\": {\"outlinewidth\": 0, \"ticks\": \"\"}}, \"type\": \"scatterpolar\"}], \"scatterpolargl\": [{\"marker\": {\"colorbar\": {\"outlinewidth\": 0, \"ticks\": \"\"}}, \"type\": \"scatterpolargl\"}], \"scatterternary\": [{\"marker\": {\"colorbar\": {\"outlinewidth\": 0, \"ticks\": \"\"}}, \"type\": \"scatterternary\"}], \"surface\": [{\"colorbar\": {\"outlinewidth\": 0, \"ticks\": \"\"}, \"colorscale\": [[0.0, \"#0d0887\"], [0.1111111111111111, \"#46039f\"], [0.2222222222222222, \"#7201a8\"], [0.3333333333333333, \"#9c179e\"], [0.4444444444444444, \"#bd3786\"], [0.5555555555555556, \"#d8576b\"], [0.6666666666666666, \"#ed7953\"], [0.7777777777777778, \"#fb9f3a\"], [0.8888888888888888, \"#fdca26\"], [1.0, \"#f0f921\"]], \"type\": \"surface\"}], \"table\": [{\"cells\": {\"fill\": {\"color\": \"#EBF0F8\"}, \"line\": {\"color\": \"white\"}}, \"header\": {\"fill\": {\"color\": \"#C8D4E3\"}, \"line\": {\"color\": \"white\"}}, \"type\": \"table\"}]}, \"layout\": {\"annotationdefaults\": {\"arrowcolor\": \"#2a3f5f\", \"arrowhead\": 0, \"arrowwidth\": 1}, \"coloraxis\": {\"colorbar\": {\"outlinewidth\": 0, \"ticks\": \"\"}}, \"colorscale\": {\"diverging\": [[0, \"#8e0152\"], [0.1, \"#c51b7d\"], [0.2, \"#de77ae\"], [0.3, \"#f1b6da\"], [0.4, \"#fde0ef\"], [0.5, \"#f7f7f7\"], [0.6, \"#e6f5d0\"], [0.7, \"#b8e186\"], [0.8, \"#7fbc41\"], [0.9, \"#4d9221\"], [1, \"#276419\"]], \"sequential\": [[0.0, \"#0d0887\"], [0.1111111111111111, \"#46039f\"], [0.2222222222222222, \"#7201a8\"], [0.3333333333333333, \"#9c179e\"], [0.4444444444444444, \"#bd3786\"], [0.5555555555555556, \"#d8576b\"], [0.6666666666666666, \"#ed7953\"], [0.7777777777777778, \"#fb9f3a\"], [0.8888888888888888, \"#fdca26\"], [1.0, \"#f0f921\"]], \"sequentialminus\": [[0.0, \"#0d0887\"], [0.1111111111111111, \"#46039f\"], [0.2222222222222222, \"#7201a8\"], [0.3333333333333333, \"#9c179e\"], [0.4444444444444444, \"#bd3786\"], [0.5555555555555556, \"#d8576b\"], [0.6666666666666666, \"#ed7953\"], [0.7777777777777778, \"#fb9f3a\"], [0.8888888888888888, \"#fdca26\"], [1.0, \"#f0f921\"]]}, \"colorway\": [\"#636efa\", \"#EF553B\", \"#00cc96\", \"#ab63fa\", \"#FFA15A\", \"#19d3f3\", \"#FF6692\", \"#B6E880\", \"#FF97FF\", \"#FECB52\"], \"font\": {\"color\": \"#2a3f5f\"}, \"geo\": {\"bgcolor\": \"white\", \"lakecolor\": \"white\", \"landcolor\": \"#E5ECF6\", \"showlakes\": true, \"showland\": true, \"subunitcolor\": \"white\"}, \"hoverlabel\": {\"align\": \"left\"}, \"hovermode\": \"closest\", \"mapbox\": {\"style\": \"light\"}, \"paper_bgcolor\": \"white\", \"plot_bgcolor\": \"#E5ECF6\", \"polar\": {\"angularaxis\": {\"gridcolor\": \"white\", \"linecolor\": \"white\", \"ticks\": \"\"}, \"bgcolor\": \"#E5ECF6\", \"radialaxis\": {\"gridcolor\": \"white\", \"linecolor\": \"white\", \"ticks\": \"\"}}, \"scene\": {\"xaxis\": {\"backgroundcolor\": \"#E5ECF6\", \"gridcolor\": \"white\", \"gridwidth\": 2, \"linecolor\": \"white\", \"showbackground\": true, \"ticks\": \"\", \"zerolinecolor\": \"white\"}, \"yaxis\": {\"backgroundcolor\": \"#E5ECF6\", \"gridcolor\": \"white\", \"gridwidth\": 2, \"linecolor\": \"white\", \"showbackground\": true, \"ticks\": \"\", \"zerolinecolor\": \"white\"}, \"zaxis\": {\"backgroundcolor\": \"#E5ECF6\", \"gridcolor\": \"white\", \"gridwidth\": 2, \"linecolor\": \"white\", \"showbackground\": true, \"ticks\": \"\", \"zerolinecolor\": \"white\"}}, \"shapedefaults\": {\"line\": {\"color\": \"#2a3f5f\"}}, \"ternary\": {\"aaxis\": {\"gridcolor\": \"white\", \"linecolor\": \"white\", \"ticks\": \"\"}, \"baxis\": {\"gridcolor\": \"white\", \"linecolor\": \"white\", \"ticks\": \"\"}, \"bgcolor\": \"#E5ECF6\", \"caxis\": {\"gridcolor\": \"white\", \"linecolor\": \"white\", \"ticks\": \"\"}}, \"title\": {\"x\": 0.05}, \"xaxis\": {\"automargin\": true, \"gridcolor\": \"white\", \"linecolor\": \"white\", \"ticks\": \"\", \"title\": {\"standoff\": 15}, \"zerolinecolor\": \"white\", \"zerolinewidth\": 2}, \"yaxis\": {\"automargin\": true, \"gridcolor\": \"white\", \"linecolor\": \"white\", \"ticks\": \"\", \"title\": {\"standoff\": 15}, \"zerolinecolor\": \"white\", \"zerolinewidth\": 2}}}, \"width\": 1000, \"xaxis\": {\"anchor\": \"y\", \"categoryorder\": \"total descending\", \"domain\": [0.0, 1.0], \"tickangle\": -45, \"title\": {\"text\": \"City\"}}, \"yaxis\": {\"anchor\": \"x\", \"domain\": [0.0, 1.0], \"title\": {\"text\": \"NOx\"}}},\n",
              "                        {\"responsive\": true}\n",
              "                    ).then(function(){\n",
              "                            \n",
              "var gd = document.getElementById('b0aea0a4-976f-4add-98a2-eaccc9c35e5e');\n",
              "var x = new MutationObserver(function (mutations, observer) {{\n",
              "        var display = window.getComputedStyle(gd).display;\n",
              "        if (!display || display === 'none') {{\n",
              "            console.log([gd, 'removed!']);\n",
              "            Plotly.purge(gd);\n",
              "            observer.disconnect();\n",
              "        }}\n",
              "}});\n",
              "\n",
              "// Listen for the removal of the full notebook cells\n",
              "var notebookContainer = gd.closest('#notebook-container');\n",
              "if (notebookContainer) {{\n",
              "    x.observe(notebookContainer, {childList: true});\n",
              "}}\n",
              "\n",
              "// Listen for the clearing of the current output cell\n",
              "var outputEl = gd.closest('.output');\n",
              "if (outputEl) {{\n",
              "    x.observe(outputEl, {childList: true});\n",
              "}}\n",
              "\n",
              "                        })\n",
              "                };\n",
              "                \n",
              "            </script>\n",
              "        </div>\n",
              "</body>\n",
              "</html>"
            ]
          },
          "metadata": {}
        }
      ]
    },
    {
      "cell_type": "code",
      "metadata": {
        "id": "65lkof_BsTdB",
        "colab": {
          "base_uri": "https://localhost:8080/",
          "height": 814
        },
        "outputId": "26d77831-fe8f-49f2-c8cb-2930884e4da8"
      },
      "source": [
        "# Observe potential correlations between variables\n",
        "variablesToCorrelate = mortality.columns.drop(list(mortality.filter(regex='City|_transformed')))\n",
        "\n",
        "correlations = mortality[variablesToCorrelate].corr().apply(np.abs)\n",
        "sns.heatmap(correlations.to_numpy(), xticklabels=variablesToCorrelate, yticklabels=variablesToCorrelate, \n",
        "            cmap='PuBu', vmin=0, vmax=1)\n",
        "display(correlations)"
      ],
      "execution_count": null,
      "outputs": [
        {
          "output_type": "display_data",
          "data": {
            "text/html": [
              "<div>\n",
              "<style scoped>\n",
              "    .dataframe tbody tr th:only-of-type {\n",
              "        vertical-align: middle;\n",
              "    }\n",
              "\n",
              "    .dataframe tbody tr th {\n",
              "        vertical-align: top;\n",
              "    }\n",
              "\n",
              "    .dataframe thead th {\n",
              "        text-align: right;\n",
              "    }\n",
              "</style>\n",
              "<table border=\"1\" class=\"dataframe\">\n",
              "  <thead>\n",
              "    <tr style=\"text-align: right;\">\n",
              "      <th></th>\n",
              "      <th>Mortality</th>\n",
              "      <th>Pop</th>\n",
              "      <th>Income</th>\n",
              "      <th>JanTemp</th>\n",
              "      <th>JulyTemp</th>\n",
              "      <th>RelHum</th>\n",
              "      <th>Rain</th>\n",
              "      <th>Educ</th>\n",
              "      <th>Dens</th>\n",
              "      <th>NonWhite</th>\n",
              "      <th>WhiteCollar</th>\n",
              "      <th>House</th>\n",
              "      <th>HC</th>\n",
              "      <th>NOx</th>\n",
              "      <th>SO2</th>\n",
              "    </tr>\n",
              "  </thead>\n",
              "  <tbody>\n",
              "    <tr>\n",
              "      <th>Mortality</th>\n",
              "      <td>1.00</td>\n",
              "      <td>0.06</td>\n",
              "      <td>0.28</td>\n",
              "      <td>0.02</td>\n",
              "      <td>0.32</td>\n",
              "      <td>0.10</td>\n",
              "      <td>0.43</td>\n",
              "      <td>0.51</td>\n",
              "      <td>0.25</td>\n",
              "      <td>0.65</td>\n",
              "      <td>0.29</td>\n",
              "      <td>0.37</td>\n",
              "      <td>0.18</td>\n",
              "      <td>0.08</td>\n",
              "      <td>0.42</td>\n",
              "    </tr>\n",
              "    <tr>\n",
              "      <th>Pop</th>\n",
              "      <td>0.06</td>\n",
              "      <td>1.00</td>\n",
              "      <td>0.32</td>\n",
              "      <td>0.24</td>\n",
              "      <td>0.02</td>\n",
              "      <td>0.14</td>\n",
              "      <td>0.23</td>\n",
              "      <td>0.20</td>\n",
              "      <td>0.33</td>\n",
              "      <td>0.12</td>\n",
              "      <td>0.22</td>\n",
              "      <td>0.31</td>\n",
              "      <td>0.53</td>\n",
              "      <td>0.55</td>\n",
              "      <td>0.37</td>\n",
              "    </tr>\n",
              "    <tr>\n",
              "      <th>Income</th>\n",
              "      <td>0.28</td>\n",
              "      <td>0.32</td>\n",
              "      <td>1.00</td>\n",
              "      <td>0.20</td>\n",
              "      <td>0.19</td>\n",
              "      <td>0.13</td>\n",
              "      <td>0.36</td>\n",
              "      <td>0.51</td>\n",
              "      <td>0.00</td>\n",
              "      <td>0.10</td>\n",
              "      <td>0.37</td>\n",
              "      <td>0.30</td>\n",
              "      <td>0.33</td>\n",
              "      <td>0.31</td>\n",
              "      <td>0.07</td>\n",
              "    </tr>\n",
              "    <tr>\n",
              "      <th>JanTemp</th>\n",
              "      <td>0.02</td>\n",
              "      <td>0.24</td>\n",
              "      <td>0.20</td>\n",
              "      <td>1.00</td>\n",
              "      <td>0.32</td>\n",
              "      <td>0.09</td>\n",
              "      <td>0.06</td>\n",
              "      <td>0.11</td>\n",
              "      <td>0.08</td>\n",
              "      <td>0.46</td>\n",
              "      <td>0.21</td>\n",
              "      <td>0.33</td>\n",
              "      <td>0.36</td>\n",
              "      <td>0.33</td>\n",
              "      <td>0.09</td>\n",
              "    </tr>\n",
              "    <tr>\n",
              "      <th>JulyTemp</th>\n",
              "      <td>0.32</td>\n",
              "      <td>0.02</td>\n",
              "      <td>0.19</td>\n",
              "      <td>0.32</td>\n",
              "      <td>1.00</td>\n",
              "      <td>0.44</td>\n",
              "      <td>0.47</td>\n",
              "      <td>0.27</td>\n",
              "      <td>0.01</td>\n",
              "      <td>0.60</td>\n",
              "      <td>0.01</td>\n",
              "      <td>0.26</td>\n",
              "      <td>0.36</td>\n",
              "      <td>0.33</td>\n",
              "      <td>0.07</td>\n",
              "    </tr>\n",
              "    <tr>\n",
              "      <th>RelHum</th>\n",
              "      <td>0.10</td>\n",
              "      <td>0.14</td>\n",
              "      <td>0.13</td>\n",
              "      <td>0.09</td>\n",
              "      <td>0.44</td>\n",
              "      <td>1.00</td>\n",
              "      <td>0.12</td>\n",
              "      <td>0.19</td>\n",
              "      <td>0.15</td>\n",
              "      <td>0.12</td>\n",
              "      <td>0.01</td>\n",
              "      <td>0.14</td>\n",
              "      <td>0.03</td>\n",
              "      <td>0.05</td>\n",
              "      <td>0.12</td>\n",
              "    </tr>\n",
              "    <tr>\n",
              "      <th>Rain</th>\n",
              "      <td>0.43</td>\n",
              "      <td>0.23</td>\n",
              "      <td>0.36</td>\n",
              "      <td>0.06</td>\n",
              "      <td>0.47</td>\n",
              "      <td>0.12</td>\n",
              "      <td>1.00</td>\n",
              "      <td>0.47</td>\n",
              "      <td>0.08</td>\n",
              "      <td>0.30</td>\n",
              "      <td>0.11</td>\n",
              "      <td>0.20</td>\n",
              "      <td>0.49</td>\n",
              "      <td>0.46</td>\n",
              "      <td>0.13</td>\n",
              "    </tr>\n",
              "    <tr>\n",
              "      <th>Educ</th>\n",
              "      <td>0.51</td>\n",
              "      <td>0.20</td>\n",
              "      <td>0.51</td>\n",
              "      <td>0.11</td>\n",
              "      <td>0.27</td>\n",
              "      <td>0.19</td>\n",
              "      <td>0.47</td>\n",
              "      <td>1.00</td>\n",
              "      <td>0.24</td>\n",
              "      <td>0.21</td>\n",
              "      <td>0.49</td>\n",
              "      <td>0.39</td>\n",
              "      <td>0.29</td>\n",
              "      <td>0.23</td>\n",
              "      <td>0.23</td>\n",
              "    </tr>\n",
              "    <tr>\n",
              "      <th>Dens</th>\n",
              "      <td>0.25</td>\n",
              "      <td>0.33</td>\n",
              "      <td>0.00</td>\n",
              "      <td>0.08</td>\n",
              "      <td>0.01</td>\n",
              "      <td>0.15</td>\n",
              "      <td>0.08</td>\n",
              "      <td>0.24</td>\n",
              "      <td>1.00</td>\n",
              "      <td>0.01</td>\n",
              "      <td>0.25</td>\n",
              "      <td>0.17</td>\n",
              "      <td>0.11</td>\n",
              "      <td>0.16</td>\n",
              "      <td>0.42</td>\n",
              "    </tr>\n",
              "    <tr>\n",
              "      <th>NonWhite</th>\n",
              "      <td>0.65</td>\n",
              "      <td>0.12</td>\n",
              "      <td>0.10</td>\n",
              "      <td>0.46</td>\n",
              "      <td>0.60</td>\n",
              "      <td>0.12</td>\n",
              "      <td>0.30</td>\n",
              "      <td>0.21</td>\n",
              "      <td>0.01</td>\n",
              "      <td>1.00</td>\n",
              "      <td>0.06</td>\n",
              "      <td>0.35</td>\n",
              "      <td>0.03</td>\n",
              "      <td>0.02</td>\n",
              "      <td>0.16</td>\n",
              "    </tr>\n",
              "    <tr>\n",
              "      <th>WhiteCollar</th>\n",
              "      <td>0.29</td>\n",
              "      <td>0.22</td>\n",
              "      <td>0.37</td>\n",
              "      <td>0.21</td>\n",
              "      <td>0.01</td>\n",
              "      <td>0.01</td>\n",
              "      <td>0.11</td>\n",
              "      <td>0.49</td>\n",
              "      <td>0.25</td>\n",
              "      <td>0.06</td>\n",
              "      <td>1.00</td>\n",
              "      <td>0.35</td>\n",
              "      <td>0.17</td>\n",
              "      <td>0.13</td>\n",
              "      <td>0.06</td>\n",
              "    </tr>\n",
              "    <tr>\n",
              "      <th>House</th>\n",
              "      <td>0.37</td>\n",
              "      <td>0.31</td>\n",
              "      <td>0.30</td>\n",
              "      <td>0.33</td>\n",
              "      <td>0.26</td>\n",
              "      <td>0.14</td>\n",
              "      <td>0.20</td>\n",
              "      <td>0.39</td>\n",
              "      <td>0.17</td>\n",
              "      <td>0.35</td>\n",
              "      <td>0.35</td>\n",
              "      <td>1.00</td>\n",
              "      <td>0.49</td>\n",
              "      <td>0.45</td>\n",
              "      <td>0.01</td>\n",
              "    </tr>\n",
              "    <tr>\n",
              "      <th>HC</th>\n",
              "      <td>0.18</td>\n",
              "      <td>0.53</td>\n",
              "      <td>0.33</td>\n",
              "      <td>0.36</td>\n",
              "      <td>0.36</td>\n",
              "      <td>0.03</td>\n",
              "      <td>0.49</td>\n",
              "      <td>0.29</td>\n",
              "      <td>0.11</td>\n",
              "      <td>0.03</td>\n",
              "      <td>0.17</td>\n",
              "      <td>0.49</td>\n",
              "      <td>1.00</td>\n",
              "      <td>0.98</td>\n",
              "      <td>0.28</td>\n",
              "    </tr>\n",
              "    <tr>\n",
              "      <th>NOx</th>\n",
              "      <td>0.08</td>\n",
              "      <td>0.55</td>\n",
              "      <td>0.31</td>\n",
              "      <td>0.33</td>\n",
              "      <td>0.33</td>\n",
              "      <td>0.05</td>\n",
              "      <td>0.46</td>\n",
              "      <td>0.23</td>\n",
              "      <td>0.16</td>\n",
              "      <td>0.02</td>\n",
              "      <td>0.13</td>\n",
              "      <td>0.45</td>\n",
              "      <td>0.98</td>\n",
              "      <td>1.00</td>\n",
              "      <td>0.41</td>\n",
              "    </tr>\n",
              "    <tr>\n",
              "      <th>SO2</th>\n",
              "      <td>0.42</td>\n",
              "      <td>0.37</td>\n",
              "      <td>0.07</td>\n",
              "      <td>0.09</td>\n",
              "      <td>0.07</td>\n",
              "      <td>0.12</td>\n",
              "      <td>0.13</td>\n",
              "      <td>0.23</td>\n",
              "      <td>0.42</td>\n",
              "      <td>0.16</td>\n",
              "      <td>0.06</td>\n",
              "      <td>0.01</td>\n",
              "      <td>0.28</td>\n",
              "      <td>0.41</td>\n",
              "      <td>1.00</td>\n",
              "    </tr>\n",
              "  </tbody>\n",
              "</table>\n",
              "</div>"
            ],
            "text/plain": [
              "             Mortality  Pop  Income  JanTemp  ...  House   HC  NOx  SO2\n",
              "Mortality         1.00 0.06    0.28     0.02  ...   0.37 0.18 0.08 0.42\n",
              "Pop               0.06 1.00    0.32     0.24  ...   0.31 0.53 0.55 0.37\n",
              "Income            0.28 0.32    1.00     0.20  ...   0.30 0.33 0.31 0.07\n",
              "JanTemp           0.02 0.24    0.20     1.00  ...   0.33 0.36 0.33 0.09\n",
              "JulyTemp          0.32 0.02    0.19     0.32  ...   0.26 0.36 0.33 0.07\n",
              "RelHum            0.10 0.14    0.13     0.09  ...   0.14 0.03 0.05 0.12\n",
              "Rain              0.43 0.23    0.36     0.06  ...   0.20 0.49 0.46 0.13\n",
              "Educ              0.51 0.20    0.51     0.11  ...   0.39 0.29 0.23 0.23\n",
              "Dens              0.25 0.33    0.00     0.08  ...   0.17 0.11 0.16 0.42\n",
              "NonWhite          0.65 0.12    0.10     0.46  ...   0.35 0.03 0.02 0.16\n",
              "WhiteCollar       0.29 0.22    0.37     0.21  ...   0.35 0.17 0.13 0.06\n",
              "House             0.37 0.31    0.30     0.33  ...   1.00 0.49 0.45 0.01\n",
              "HC                0.18 0.53    0.33     0.36  ...   0.49 1.00 0.98 0.28\n",
              "NOx               0.08 0.55    0.31     0.33  ...   0.45 0.98 1.00 0.41\n",
              "SO2               0.42 0.37    0.07     0.09  ...   0.01 0.28 0.41 1.00\n",
              "\n",
              "[15 rows x 15 columns]"
            ]
          },
          "metadata": {}
        },
        {
          "output_type": "display_data",
          "data": {
            "image/png": "[encoded data removed]",
            "text/plain": [
              "<Figure size 432x288 with 2 Axes>"
            ]
          },
          "metadata": {
            "needs_background": "light"
          }
        }
      ]
    },
    {
      "cell_type": "code",
      "metadata": {
        "id": "TWC-oSLVyqhN",
        "colab": {
          "base_uri": "https://localhost:8080/",
          "height": 102
        },
        "outputId": "b3bd3170-ad07-415c-fc96-e84f57c1e0eb"
      },
      "source": [
        "# PairGrid between mortality (dependent variable) and all other numeric variables\n",
        "x_vars = mortality.columns.drop(list(mortality.filter(regex='City|_transformed')))\n",
        "grid = sns.PairGrid(mortality, x_vars=x_vars, y_vars='Mortality')\n",
        "grid.map_diag(sns.histplot)\n",
        "grid.map_offdiag(sns.scatterplot)"
      ],
      "execution_count": null,
      "outputs": [
        {
          "output_type": "execute_result",
          "data": {
            "text/plain": [
              "<seaborn.axisgrid.PairGrid at 0x7f40f734b9d0>"
            ]
          },
          "metadata": {},
          "execution_count": 187
        },
        {
          "output_type": "display_data",
          "data": {
            "image/png": "[encoded data removed]",
            "text/plain": [
              "<Figure size 2700x180 with 16 Axes>"
            ]
          },
          "metadata": {
            "needs_background": "light"
          }
        }
      ]
    },
    {
      "cell_type": "markdown",
      "metadata": {
        "id": "RoD_XDeUPlwr"
      },
      "source": [
        "##### (d) Run your gradient descent algorithm for least squares on the raw data and on the transformed data, with different step sizes as before. What do you observe?\n"
      ]
    },
    {
      "cell_type": "markdown",
      "metadata": {
        "id": "0zYK6v6XPqxe"
      },
      "source": [
        "<font size=\"2\" color=\"#03bafc\"> The GD algorithm applied in the raw data does not converge. This is most likely happening due to numerical instability issues driven by the variables with large numbers or the highly correlated variables `HC` and `NOx`. \n",
        "\n",
        "On the other hand, the algorithm converges for the transformed data, albeit with a step size several orders of magnitude smaller than the ones used in the previous exercise. For this reason, only one experiment with step size equal to $10^{-8}$ was performed. The most likely explanation for this could be numerical issues driven by the different units the variables are expressed in. Additionally, this could be due to the presence of the outliers mentioned before. In order to induce the convergence of the algorithm in less iterations, we would need to normalize the variables (using standarization or min-max normalization) and dropping the outliers, if necessary.   </font>"
      ]
    },
    {
      "cell_type": "code",
      "metadata": {
        "id": "bvPaUYFJLXy6",
        "colab": {
          "base_uri": "https://localhost:8080/",
          "height": 652
        },
        "outputId": "fe63b580-11bf-466f-d91e-2a845bc98abb"
      },
      "source": [
        "# Data matrices\n",
        "y = mortality['Mortality'].to_numpy()\n",
        "X = mortality[mortality.columns.drop(list(mortality.filter(regex='City|_transformed|NOx')))].to_numpy()\n",
        "X_transformed = mortality[mortality.columns.drop(list(mortality.filter(regex='City|Pop$|Income$|NOx')))].to_numpy()\n",
        "\n",
        "# Step sizes\n",
        "step_sizes = [10**-8]\n",
        "\n",
        "for step_size in step_sizes:\n",
        "  # Initialize figure with for a given step_size\n",
        "  fig, axs = plt.subplots(ncols=2, sharex=True)\n",
        "  plt.subplots_adjust(left=0, right=1.5)\n",
        "\n",
        "  hat_beta = compute_beta_hat(X_transformed, y)\n",
        "\n",
        "  beta_list, loss_list = gradient_descent(X_transformed, y, step_size=step_size)\n",
        "  iterations = len(beta_list)\n",
        "\n",
        "  distance_list = [np.linalg.norm(beta_list[i] - hat_beta) for i in range(iterations)]\n",
        "\n",
        "  plt.suptitle(r\"MSE and distance to true estimate. Step size $= {0}$\".format(step_size))\n",
        "  \n",
        "  ax0 = sns.lineplot(x=range(1,iterations+1), y=loss_list, ax = axs[0])\n",
        "  ax0.set_xlabel(\"Iteration\")\n",
        "  ax0.set_ylabel(\"MSE\")\n",
        "\n",
        "  ax1 = sns.lineplot(x=range(1,iterations+1), y=distance_list, ax = axs[1])\n",
        "  ax1.set_xlabel(\"Iteration\")\n",
        "  ax1.set_ylabel(r\"$\\|\\hat{\\beta} - \\beta_t\\|$\")\n",
        "\n",
        "  fig.show()"
      ],
      "execution_count": null,
      "outputs": [
        {
          "output_type": "error",
          "ename": "KeyboardInterrupt",
          "evalue": "ignored",
          "traceback": [
            "\u001b[0;31m---------------------------------------------------------------------------\u001b[0m",
            "\u001b[0;31mKeyboardInterrupt\u001b[0m                         Traceback (most recent call last)",
            "\u001b[0;32m<ipython-input-38-dbb57b6f3774>\u001b[0m in \u001b[0;36m<module>\u001b[0;34m()\u001b[0m\n\u001b[1;32m     21\u001b[0m   \u001b[0mplt\u001b[0m\u001b[0;34m.\u001b[0m\u001b[0msuptitle\u001b[0m\u001b[0;34m(\u001b[0m\u001b[0;34mr\"MSE and distance to true estimate. Step size $= {0}$\"\u001b[0m\u001b[0;34m.\u001b[0m\u001b[0mformat\u001b[0m\u001b[0;34m(\u001b[0m\u001b[0mstep_size\u001b[0m\u001b[0;34m)\u001b[0m\u001b[0;34m)\u001b[0m\u001b[0;34m\u001b[0m\u001b[0;34m\u001b[0m\u001b[0m\n\u001b[1;32m     22\u001b[0m \u001b[0;34m\u001b[0m\u001b[0m\n\u001b[0;32m---> 23\u001b[0;31m   \u001b[0max0\u001b[0m \u001b[0;34m=\u001b[0m \u001b[0msns\u001b[0m\u001b[0;34m.\u001b[0m\u001b[0mlineplot\u001b[0m\u001b[0;34m(\u001b[0m\u001b[0mx\u001b[0m\u001b[0;34m=\u001b[0m\u001b[0mrange\u001b[0m\u001b[0;34m(\u001b[0m\u001b[0;36m1\u001b[0m\u001b[0;34m,\u001b[0m\u001b[0miterations\u001b[0m\u001b[0;34m+\u001b[0m\u001b[0;36m1\u001b[0m\u001b[0;34m)\u001b[0m\u001b[0;34m,\u001b[0m \u001b[0my\u001b[0m\u001b[0;34m=\u001b[0m\u001b[0mloss_list\u001b[0m\u001b[0;34m,\u001b[0m \u001b[0max\u001b[0m \u001b[0;34m=\u001b[0m \u001b[0maxs\u001b[0m\u001b[0;34m[\u001b[0m\u001b[0;36m0\u001b[0m\u001b[0;34m]\u001b[0m\u001b[0;34m)\u001b[0m\u001b[0;34m\u001b[0m\u001b[0;34m\u001b[0m\u001b[0m\n\u001b[0m\u001b[1;32m     24\u001b[0m   \u001b[0max0\u001b[0m\u001b[0;34m.\u001b[0m\u001b[0mset_xlabel\u001b[0m\u001b[0;34m(\u001b[0m\u001b[0;34m\"Iteration\"\u001b[0m\u001b[0;34m)\u001b[0m\u001b[0;34m\u001b[0m\u001b[0;34m\u001b[0m\u001b[0m\n\u001b[1;32m     25\u001b[0m   \u001b[0max0\u001b[0m\u001b[0;34m.\u001b[0m\u001b[0mset_ylabel\u001b[0m\u001b[0;34m(\u001b[0m\u001b[0;34m\"MSE\"\u001b[0m\u001b[0;34m)\u001b[0m\u001b[0;34m\u001b[0m\u001b[0;34m\u001b[0m\u001b[0m\n",
            "\u001b[0;32m/usr/local/lib/python3.7/dist-packages/seaborn/_decorators.py\u001b[0m in \u001b[0;36minner_f\u001b[0;34m(*args, **kwargs)\u001b[0m\n\u001b[1;32m     44\u001b[0m             )\n\u001b[1;32m     45\u001b[0m         \u001b[0mkwargs\u001b[0m\u001b[0;34m.\u001b[0m\u001b[0mupdate\u001b[0m\u001b[0;34m(\u001b[0m\u001b[0;34m{\u001b[0m\u001b[0mk\u001b[0m\u001b[0;34m:\u001b[0m \u001b[0marg\u001b[0m \u001b[0;32mfor\u001b[0m \u001b[0mk\u001b[0m\u001b[0;34m,\u001b[0m \u001b[0marg\u001b[0m \u001b[0;32min\u001b[0m \u001b[0mzip\u001b[0m\u001b[0;34m(\u001b[0m\u001b[0msig\u001b[0m\u001b[0;34m.\u001b[0m\u001b[0mparameters\u001b[0m\u001b[0;34m,\u001b[0m \u001b[0margs\u001b[0m\u001b[0;34m)\u001b[0m\u001b[0;34m}\u001b[0m\u001b[0;34m)\u001b[0m\u001b[0;34m\u001b[0m\u001b[0;34m\u001b[0m\u001b[0m\n\u001b[0;32m---> 46\u001b[0;31m         \u001b[0;32mreturn\u001b[0m \u001b[0mf\u001b[0m\u001b[0;34m(\u001b[0m\u001b[0;34m**\u001b[0m\u001b[0mkwargs\u001b[0m\u001b[0;34m)\u001b[0m\u001b[0;34m\u001b[0m\u001b[0;34m\u001b[0m\u001b[0m\n\u001b[0m\u001b[1;32m     47\u001b[0m     \u001b[0;32mreturn\u001b[0m \u001b[0minner_f\u001b[0m\u001b[0;34m\u001b[0m\u001b[0;34m\u001b[0m\u001b[0m\n\u001b[1;32m     48\u001b[0m \u001b[0;34m\u001b[0m\u001b[0m\n",
            "\u001b[0;32m/usr/local/lib/python3.7/dist-packages/seaborn/relational.py\u001b[0m in \u001b[0;36mlineplot\u001b[0;34m(x, y, hue, size, style, data, palette, hue_order, hue_norm, sizes, size_order, size_norm, dashes, markers, style_order, units, estimator, ci, n_boot, seed, sort, err_style, err_kws, legend, ax, **kwargs)\u001b[0m\n\u001b[1;32m    708\u001b[0m     \u001b[0mp\u001b[0m\u001b[0;34m.\u001b[0m\u001b[0m_attach\u001b[0m\u001b[0;34m(\u001b[0m\u001b[0max\u001b[0m\u001b[0;34m)\u001b[0m\u001b[0;34m\u001b[0m\u001b[0;34m\u001b[0m\u001b[0m\n\u001b[1;32m    709\u001b[0m \u001b[0;34m\u001b[0m\u001b[0m\n\u001b[0;32m--> 710\u001b[0;31m     \u001b[0mp\u001b[0m\u001b[0;34m.\u001b[0m\u001b[0mplot\u001b[0m\u001b[0;34m(\u001b[0m\u001b[0max\u001b[0m\u001b[0;34m,\u001b[0m \u001b[0mkwargs\u001b[0m\u001b[0;34m)\u001b[0m\u001b[0;34m\u001b[0m\u001b[0;34m\u001b[0m\u001b[0m\n\u001b[0m\u001b[1;32m    711\u001b[0m     \u001b[0;32mreturn\u001b[0m \u001b[0max\u001b[0m\u001b[0;34m\u001b[0m\u001b[0;34m\u001b[0m\u001b[0m\n\u001b[1;32m    712\u001b[0m \u001b[0;34m\u001b[0m\u001b[0m\n",
            "\u001b[0;32m/usr/local/lib/python3.7/dist-packages/seaborn/relational.py\u001b[0m in \u001b[0;36mplot\u001b[0;34m(self, ax, kws)\u001b[0m\n\u001b[1;32m    497\u001b[0m                     \u001b[0merr\u001b[0m \u001b[0;34m=\u001b[0m \u001b[0;34m\"estimator must be None when specifying units\"\u001b[0m\u001b[0;34m\u001b[0m\u001b[0;34m\u001b[0m\u001b[0m\n\u001b[1;32m    498\u001b[0m                     \u001b[0;32mraise\u001b[0m \u001b[0mValueError\u001b[0m\u001b[0;34m(\u001b[0m\u001b[0merr\u001b[0m\u001b[0;34m)\u001b[0m\u001b[0;34m\u001b[0m\u001b[0;34m\u001b[0m\u001b[0m\n\u001b[0;32m--> 499\u001b[0;31m                 \u001b[0mx\u001b[0m\u001b[0;34m,\u001b[0m \u001b[0my\u001b[0m\u001b[0;34m,\u001b[0m \u001b[0my_ci\u001b[0m \u001b[0;34m=\u001b[0m \u001b[0mself\u001b[0m\u001b[0;34m.\u001b[0m\u001b[0maggregate\u001b[0m\u001b[0;34m(\u001b[0m\u001b[0my\u001b[0m\u001b[0;34m,\u001b[0m \u001b[0mx\u001b[0m\u001b[0;34m,\u001b[0m \u001b[0mu\u001b[0m\u001b[0;34m)\u001b[0m\u001b[0;34m\u001b[0m\u001b[0;34m\u001b[0m\u001b[0m\n\u001b[0m\u001b[1;32m    500\u001b[0m             \u001b[0;32melse\u001b[0m\u001b[0;34m:\u001b[0m\u001b[0;34m\u001b[0m\u001b[0;34m\u001b[0m\u001b[0m\n\u001b[1;32m    501\u001b[0m                 \u001b[0my_ci\u001b[0m \u001b[0;34m=\u001b[0m \u001b[0;32mNone\u001b[0m\u001b[0;34m\u001b[0m\u001b[0;34m\u001b[0m\u001b[0m\n",
            "\u001b[0;32m/usr/local/lib/python3.7/dist-packages/seaborn/relational.py\u001b[0m in \u001b[0;36maggregate\u001b[0;34m(self, vals, grouper, units)\u001b[0m\n\u001b[1;32m    412\u001b[0m                                columns=[\"low\", \"high\"]).stack()\n\u001b[1;32m    413\u001b[0m         \u001b[0;32melse\u001b[0m\u001b[0;34m:\u001b[0m\u001b[0;34m\u001b[0m\u001b[0;34m\u001b[0m\u001b[0m\n\u001b[0;32m--> 414\u001b[0;31m             \u001b[0mcis\u001b[0m \u001b[0;34m=\u001b[0m \u001b[0mgrouped\u001b[0m\u001b[0;34m.\u001b[0m\u001b[0mapply\u001b[0m\u001b[0;34m(\u001b[0m\u001b[0mbootstrapped_cis\u001b[0m\u001b[0;34m)\u001b[0m\u001b[0;34m\u001b[0m\u001b[0;34m\u001b[0m\u001b[0m\n\u001b[0m\u001b[1;32m    415\u001b[0m \u001b[0;34m\u001b[0m\u001b[0m\n\u001b[1;32m    416\u001b[0m         \u001b[0;31m# Unpack the CIs into \"wide\" format for plotting\u001b[0m\u001b[0;34m\u001b[0m\u001b[0;34m\u001b[0m\u001b[0;34m\u001b[0m\u001b[0m\n",
            "\u001b[0;32m/usr/local/lib/python3.7/dist-packages/pandas/core/groupby/generic.py\u001b[0m in \u001b[0;36mapply\u001b[0;34m(self, func, *args, **kwargs)\u001b[0m\n\u001b[1;32m    224\u001b[0m     )\n\u001b[1;32m    225\u001b[0m     \u001b[0;32mdef\u001b[0m \u001b[0mapply\u001b[0m\u001b[0;34m(\u001b[0m\u001b[0mself\u001b[0m\u001b[0;34m,\u001b[0m \u001b[0mfunc\u001b[0m\u001b[0;34m,\u001b[0m \u001b[0;34m*\u001b[0m\u001b[0margs\u001b[0m\u001b[0;34m,\u001b[0m \u001b[0;34m**\u001b[0m\u001b[0mkwargs\u001b[0m\u001b[0;34m)\u001b[0m\u001b[0;34m:\u001b[0m\u001b[0;34m\u001b[0m\u001b[0;34m\u001b[0m\u001b[0m\n\u001b[0;32m--> 226\u001b[0;31m         \u001b[0;32mreturn\u001b[0m \u001b[0msuper\u001b[0m\u001b[0;34m(\u001b[0m\u001b[0;34m)\u001b[0m\u001b[0;34m.\u001b[0m\u001b[0mapply\u001b[0m\u001b[0;34m(\u001b[0m\u001b[0mfunc\u001b[0m\u001b[0;34m,\u001b[0m \u001b[0;34m*\u001b[0m\u001b[0margs\u001b[0m\u001b[0;34m,\u001b[0m \u001b[0;34m**\u001b[0m\u001b[0mkwargs\u001b[0m\u001b[0;34m)\u001b[0m\u001b[0;34m\u001b[0m\u001b[0;34m\u001b[0m\u001b[0m\n\u001b[0m\u001b[1;32m    227\u001b[0m \u001b[0;34m\u001b[0m\u001b[0m\n\u001b[1;32m    228\u001b[0m     @doc(\n",
            "\u001b[0;32m/usr/local/lib/python3.7/dist-packages/pandas/core/groupby/groupby.py\u001b[0m in \u001b[0;36mapply\u001b[0;34m(self, func, *args, **kwargs)\u001b[0m\n\u001b[1;32m    857\u001b[0m         \u001b[0;32mwith\u001b[0m \u001b[0moption_context\u001b[0m\u001b[0;34m(\u001b[0m\u001b[0;34m\"mode.chained_assignment\"\u001b[0m\u001b[0;34m,\u001b[0m \u001b[0;32mNone\u001b[0m\u001b[0;34m)\u001b[0m\u001b[0;34m:\u001b[0m\u001b[0;34m\u001b[0m\u001b[0;34m\u001b[0m\u001b[0m\n\u001b[1;32m    858\u001b[0m             \u001b[0;32mtry\u001b[0m\u001b[0;34m:\u001b[0m\u001b[0;34m\u001b[0m\u001b[0;34m\u001b[0m\u001b[0m\n\u001b[0;32m--> 859\u001b[0;31m                 \u001b[0mresult\u001b[0m \u001b[0;34m=\u001b[0m \u001b[0mself\u001b[0m\u001b[0;34m.\u001b[0m\u001b[0m_python_apply_general\u001b[0m\u001b[0;34m(\u001b[0m\u001b[0mf\u001b[0m\u001b[0;34m,\u001b[0m \u001b[0mself\u001b[0m\u001b[0;34m.\u001b[0m\u001b[0m_selected_obj\u001b[0m\u001b[0;34m)\u001b[0m\u001b[0;34m\u001b[0m\u001b[0;34m\u001b[0m\u001b[0m\n\u001b[0m\u001b[1;32m    860\u001b[0m             \u001b[0;32mexcept\u001b[0m \u001b[0mTypeError\u001b[0m\u001b[0;34m:\u001b[0m\u001b[0;34m\u001b[0m\u001b[0;34m\u001b[0m\u001b[0m\n\u001b[1;32m    861\u001b[0m                 \u001b[0;31m# gh-20949\u001b[0m\u001b[0;34m\u001b[0m\u001b[0;34m\u001b[0m\u001b[0;34m\u001b[0m\u001b[0m\n",
            "\u001b[0;32m/usr/local/lib/python3.7/dist-packages/pandas/core/groupby/groupby.py\u001b[0m in \u001b[0;36m_python_apply_general\u001b[0;34m(self, f, data)\u001b[0m\n\u001b[1;32m    890\u001b[0m             \u001b[0mdata\u001b[0m \u001b[0mafter\u001b[0m \u001b[0mapplying\u001b[0m \u001b[0mf\u001b[0m\u001b[0;34m\u001b[0m\u001b[0;34m\u001b[0m\u001b[0m\n\u001b[1;32m    891\u001b[0m         \"\"\"\n\u001b[0;32m--> 892\u001b[0;31m         \u001b[0mkeys\u001b[0m\u001b[0;34m,\u001b[0m \u001b[0mvalues\u001b[0m\u001b[0;34m,\u001b[0m \u001b[0mmutated\u001b[0m \u001b[0;34m=\u001b[0m \u001b[0mself\u001b[0m\u001b[0;34m.\u001b[0m\u001b[0mgrouper\u001b[0m\u001b[0;34m.\u001b[0m\u001b[0mapply\u001b[0m\u001b[0;34m(\u001b[0m\u001b[0mf\u001b[0m\u001b[0;34m,\u001b[0m \u001b[0mdata\u001b[0m\u001b[0;34m,\u001b[0m \u001b[0mself\u001b[0m\u001b[0;34m.\u001b[0m\u001b[0maxis\u001b[0m\u001b[0;34m)\u001b[0m\u001b[0;34m\u001b[0m\u001b[0;34m\u001b[0m\u001b[0m\n\u001b[0m\u001b[1;32m    893\u001b[0m \u001b[0;34m\u001b[0m\u001b[0m\n\u001b[1;32m    894\u001b[0m         return self._wrap_applied_output(\n",
            "\u001b[0;32m/usr/local/lib/python3.7/dist-packages/pandas/core/groupby/ops.py\u001b[0m in \u001b[0;36mapply\u001b[0;34m(self, f, data, axis)\u001b[0m\n\u001b[1;32m    213\u001b[0m             \u001b[0;31m# fast apply loop was broken prematurely but we have\u001b[0m\u001b[0;34m\u001b[0m\u001b[0;34m\u001b[0m\u001b[0;34m\u001b[0m\u001b[0m\n\u001b[1;32m    214\u001b[0m             \u001b[0;31m# already the result for the first group which we can reuse.\u001b[0m\u001b[0;34m\u001b[0m\u001b[0;34m\u001b[0m\u001b[0;34m\u001b[0m\u001b[0m\n\u001b[0;32m--> 215\u001b[0;31m             \u001b[0;32melif\u001b[0m \u001b[0mi\u001b[0m \u001b[0;34m==\u001b[0m \u001b[0;36m0\u001b[0m\u001b[0;34m:\u001b[0m\u001b[0;34m\u001b[0m\u001b[0;34m\u001b[0m\u001b[0m\n\u001b[0m\u001b[1;32m    216\u001b[0m                 \u001b[0;32mcontinue\u001b[0m\u001b[0;34m\u001b[0m\u001b[0;34m\u001b[0m\u001b[0m\n\u001b[1;32m    217\u001b[0m \u001b[0;34m\u001b[0m\u001b[0m\n",
            "\u001b[0;31mKeyboardInterrupt\u001b[0m: "
          ]
        },
        {
          "output_type": "display_data",
          "data": {
            "image/png": "[encoded data removed]",
            "text/plain": [
              "<Figure size 432x288 with 2 Axes>"
            ]
          },
          "metadata": {
            "needs_background": "light"
          }
        }
      ]
    },
    {
      "cell_type": "markdown",
      "metadata": {
        "id": "R0lMhmJOPsLt"
      },
      "source": [
        "##### (e) Carry out a multiple linear regression containing all variables with the necessary transformations (with gradient descent as in d) or with matrix inversion). Does the model fit well? Check the residuals and comment on what you observe."
      ]
    },
    {
      "cell_type": "markdown",
      "metadata": {
        "id": "SD5_Xw3hPwj-"
      },
      "source": [
        "<font size=\"2\" color=\"#03bafc\"> After fitting the model, the goodness-of-fit, given by the $R^2$ coefficient is almost 1, which is close to a perfect prediction for all the data points in the sample. This is also confirmed by the residuals, with magnitudes of $10^{-9}$. However, by plotting the residuals it is possible to observe two things:\n",
        "  <ol type=\"1\">\n",
        "    <li> All residuals are positive, instead of randomly scattered above and below 0. </li>\n",
        "    <li> There is a trend in the residuals, with lower errors for cities with large mortality and higher errors for cities with low mortality.\n",
        "  </ol>\n",
        "\n",
        "The first problem could be related to a violation of the assumptions on the normality of the error. There could be omitted variables that could explain the mortality that we are not including in the model. Regarding the second issue, the problem could be the prescence of outlier cities. For these cities, a certain margin of error reuslts in a greater increase in the loss function for them than for others with lower mortality overall. This may induce the model to predict better the mortality of those cities.\n",
        "</font>"
      ]
    },
    {
      "cell_type": "code",
      "metadata": {
        "id": "Ykr632M3A9op",
        "colab": {
          "base_uri": "https://localhost:8080/",
          "height": 307
        },
        "outputId": "3603a9f7-c9c4-44c4-cad4-8f09e9bd317d"
      },
      "source": [
        "y = mortality['Mortality'].to_numpy()\n",
        "X = mortality[mortality.columns.drop(list(mortality.filter(regex='City|Pop$|Income$')))].to_numpy()\n",
        "X = np.append(np.ones_like(y).reshape((-1,1)), X, axis=1)\n",
        "\n",
        "beta_hat_mort = compute_beta_hat(X,y)\n",
        "errors = y - X @ beta_hat_mort\n",
        "mortality['residuals'] = errors\n",
        "r2 = 1 - np.linalg.norm(errors)**2/np.linalg.norm(y - np.mean(y))**2\n",
        "\n",
        "ax = sns.scatterplot(x=y, y=errors)\n",
        "ax.set_xlabel(\"Mortality\")\n",
        "ax.set_ylabel(r\"Residuals $\\hat{\\varepsilon}$\")\n",
        "print(f\"R-2 coefficient = {r2:.2f}\")"
      ],
      "execution_count": null,
      "outputs": [
        {
          "output_type": "stream",
          "name": "stdout",
          "text": [
            "R-2 coefficient = 1.00\n"
          ]
        },
        {
          "output_type": "display_data",
          "data": {
            "image/png": "[encoded data removed]",
            "text/plain": [
              "<Figure size 432x288 with 1 Axes>"
            ]
          },
          "metadata": {
            "needs_background": "light"
          }
        }
      ]
    },
    {
      "cell_type": "markdown",
      "metadata": {
        "id": "GIc-UlcoPywR"
      },
      "source": [
        "##### (f) _Gradient descent for other functions:_ A popular regression model for binary observations $y$ is given by the following estimator: $$ \\hat{\\beta} = \\arg\\min_{\\beta} \\sum_{i} \\log\\left(1 + \\exp\\left(-y_i \\beta^T x_i \\right)\\right)$$ How would you solve this via gradient descent? Derive the corresponding gradient and write down the steps of the algorithm. "
      ]
    },
    {
      "cell_type": "markdown",
      "metadata": {
        "id": "yo0gDei2QbJS"
      },
      "source": [
        "<font size=\"2\" color=\"#03bafc\"> First, note that $\\log$ is a non-decreasing convex function, and $1 + \\exp(w)$ is convex. Hence, each of the terms in the summation are convex and the loss function is convex as well. This implies that the gradient descent algorithm will converge, given an adequate step size.\n",
        "\n",
        "<font size=\"2\" color=\"#03bafc\"> Now, in order to describe the algorithm we need to compute the gradient of this loss function. Let $L(\\beta)$ be the loss function. Then\n",
        "  $$\\frac{\\partial L}{\\partial \\beta_j} = \\sum_i -y_i x_{ij}\\frac{\\exp\\left(-y_i \\beta^T x_i\\right)}{1 + \\exp\\left(-y_i \\beta^T x_i\\right)}$$\n",
        "\n",
        "Consequently, for step size $\\alpha$, the update of the algorithm for coordinate $j$ of iteration $\\beta_t$ is\n",
        "  $$\\beta_{t+1,j} \\leftarrow \\beta_{t,j} - \\alpha \\frac{\\partial L}{\\partial \\beta_j}$$\n",
        " </font>"
      ]
    },
    {
      "cell_type": "markdown",
      "metadata": {
        "id": "MivbyPUdQc1m"
      },
      "source": [
        "## **Problem 1.7:** Computational Aspects of Regression\n",
        "\n",
        "In this problem, we will consider some computational challenges that arise in practice when\n",
        "performing linear regression."
      ]
    },
    {
      "cell_type": "markdown",
      "metadata": {
        "id": "gE72sManQyyC"
      },
      "source": [
        "##### (a) Suppose you have a problem in which the feature matrix, $X$, has 100 million rows and 200 columns. What challenge will arise when you try to apply either the matrix inversion method or the gradient descent method to compute the regression coefficients as in the previous problem? _Hint: if each entry is a 64-bit float, how much memory will be required to store $X$?_"
      ]
    },
    {
      "cell_type": "markdown",
      "metadata": {
        "id": "CdijnOUMQ6Cx"
      },
      "source": [
        "<font size=\"2\" color=\"#03bafc\"> A matrix $X$ of that size would have $2 \\cdot 10^{10}$ entries. If every entry is a 64-bit float, then each entry needs 8 bytes of memory to be stored. Consequently, to store the matrix $X$ would be needed:\n",
        "  $$ \\frac{2 \\cdot 10^{10}}{10^{9}} = 20\\, GB$$\n",
        "of memory. This, without considering matrix additional matrix operations needed to invert $X$ or compute the gradient and the update of gradient descent algorithm.\n",
        "\n",
        "Hence, for a problem like this we would need a different mechanism to compute the regression coefficients.\n",
        "</font>"
      ]
    },
    {
      "cell_type": "markdown",
      "metadata": {
        "id": "eKDhTisDQ78U"
      },
      "source": [
        "##### (b) Suggest one method that will allow you to compute the linear regression coefficients for this problem. Be specific. Discuss pros and cons of your proposed approach."
      ]
    },
    {
      "cell_type": "markdown",
      "metadata": {
        "id": "GrMIxe8vQ_cl"
      },
      "source": [
        "<font size=\"2\" color=\"#03bafc\"> An option would be to use the stochastic gradient descent (SGD) algorithm. For this algorithm, we have the following steps:\n",
        "  <ol type=\"1\">\n",
        "  <li> Define batch size `batch_size`. Also define initial state $\\beta_0$, initial loss function value $L_0$ (large), step size $\\alpha$ and tolerance $\\epsilon$ for the GD algorithm. </li>\n",
        "  <li> Sample randomly `batch_size` many numbers between 0 and 100 million (with replacement). Load the sampled rows of $X$ (including all columns) into dataset `df`. </li>\n",
        "  <li> Compute gradient using `df` and update $\\beta_t \\to \\beta_{t+1}$ using step_size $\\alpha$.\n",
        "  <li> Compute loss function $L_{t+1}$ with $\\beta_{t+1}$. </li>\n",
        "  <li> If $|L_{t+1} - L_{t}| \\leq \\epsilon$, define $\\hat{\\beta} = \\beta_{t+1}$ and terminate. Otherwise, return to step 2.\n",
        "  </ol>\n",
        "\n",
        "Assuming the loss function is convex, then SGD will converge given a correctly specified step size, even if `batch_size` is small. An advantage of using SGD is that the process is much more efficient, even if the necessary memory to run GD is available. However, it is possible that SGD takes much more steps if the loss function is not smooth enough. \n",
        "</font>"
      ]
    },
    {
      "cell_type": "markdown",
      "metadata": {
        "id": "tikS8ZooRBxl"
      },
      "source": [
        "##### Now, suppose we are in a setting in which the number of data points, $n$, is much smaller than the number of variables, $p$, i.e., $X$ has many more columns than rows. This situation occurs often in biological applications, for example, in which the features may represent the expression levels of various genes. This is often referred to as the “high-dimensional” regime. (Assume $X$ is small enough that it can fit in memory.)\n"
      ]
    },
    {
      "cell_type": "markdown",
      "metadata": {
        "id": "CgSS7hMjRVGW"
      },
      "source": [
        "##### (c) Can we run gradient descent to compute the regression coefficients? What do you think about the solution? Why? _Hint: what is the maximum rank of the matrix $X^T X$?_"
      ]
    },
    {
      "cell_type": "markdown",
      "metadata": {
        "id": "n9gwdfoRRgMK"
      },
      "source": [
        "<font size=\"2\" color=\"#03bafc\"> In this setting, there are infinite solutions to the problem of minimizing the MSE. In that sense, running GD on the MSE alone may not converge. Moreover, even if it converges, the solution will vary between different runs of the algorithm if the initial state or the step size are changed. Consequently, there is no possible way of making conclusions about the solution unless we impose some kind of regularization. </font>"
      ]
    },
    {
      "cell_type": "markdown",
      "metadata": {
        "id": "XB5P8AjFRhNZ"
      },
      "source": [
        "##### (d) Load the data from the previous question, `syn_X.csv` and `syn_Y.csv`. Compute the regression coefficients by solving the LASSO problem for various values of $\\lambda$. What happens to the solution as $\\lambda$ increases? Choose $\\lambda$ such that only one component of the coefficient vector is nonzero. What is the value of $\\lambda$? Which coefficient is it? (For this problem, feel free to use a package that performs LASSO regularization, such as `scikit-learn` in `python` or `glmnet` in `R`.)"
      ]
    },
    {
      "cell_type": "markdown",
      "metadata": {
        "id": "V7wdgcFZRy60"
      },
      "source": [
        "<font size=\"2\" color=\"#03bafc\"> As $\\lambda$ increases, the size of the coefficient vector shrinks towards 0 linearly. The first component to become zero is $\\beta_0$, which achieves this value with $\\lambda = 1.81$. The second coefficient becomes zero with $\\lambda = 4.67$. </font>"
      ]
    },
    {
      "cell_type": "code",
      "metadata": {
        "id": "bViK3IlKtQI_",
        "colab": {
          "base_uri": "https://localhost:8080/"
        },
        "outputId": "7e71b391-6dd9-49df-abca-ffb4a2cb0afb"
      },
      "source": [
        "clf = linear_model.Lasso(alpha=1.8, fit_intercept=False)\n",
        "clf.fit(syn_X, syn_y)\n",
        "clf.coef_\n"
      ],
      "execution_count": null,
      "outputs": [
        {
          "output_type": "execute_result",
          "data": {
            "text/plain": [
              "array([ 0.00776368, -2.84918302])"
            ]
          },
          "metadata": {},
          "execution_count": 190
        }
      ]
    },
    {
      "cell_type": "code",
      "metadata": {
        "id": "1JxrSxvBHRM7",
        "colab": {
          "base_uri": "https://localhost:8080/",
          "height": 333
        },
        "outputId": "d7f2b5cf-d724-4ffd-e4d8-7603793c9763"
      },
      "source": [
        "from sklearn import linear_model\n",
        "\n",
        "alpha = 1\n",
        "step_size = 0.01\n",
        "beta_list = np.array([[np.inf, np.inf]])\n",
        "alpha_list = []\n",
        "alpha_killers = []\n",
        "\n",
        "while np.sum(beta_list[-1,:] != 0) >= 1:\n",
        "  alpha += step_size\n",
        "  alpha_list.append(alpha)\n",
        "  clf = linear_model.Lasso(alpha=alpha, fit_intercept=False)\n",
        "  clf.fit(syn_X, syn_y)\n",
        "  beta_list = np.append(beta_list,clf.coef_.reshape(1,-1),axis=0)\n",
        "\n",
        "  if np.sum(beta_list[-1,:] != 0) == 1 and len(alpha_killers) == 0:\n",
        "    alpha_killers.append(alpha)\n",
        "  \n",
        "alpha_killers.append(alpha)\n",
        "\n",
        "fig, axs = plt.subplots(ncols=2)\n",
        "plt.subplots_adjust(left=0, right=2)\n",
        "\n",
        "sns.lineplot(x = alpha_list, y = beta_list[1:,0], ax=axs[0])\n",
        "axs[0].set_title(r\"Evolution of $\\beta_0$ with $\\lambda$\")\n",
        "axs[0].set_xlabel(r'$\\lambda$')\n",
        "axs[0].set_ylabel(r'$\\beta_0$',rotation=0)\n",
        "\n",
        "sns.lineplot(x= alpha_list, y = beta_list[1:,1], ax = axs[1])\n",
        "axs[1].set_title(r\"Evolution of $\\beta_1$ with $\\lambda$\")\n",
        "axs[1].set_xlabel(r'$\\lambda$')\n",
        "axs[1].set_ylabel(r'$\\beta_1$', rotation=0)\n",
        "\n",
        "print(f\"First coefficient goes to 0 with lambda = {alpha_killers[0]:.2f}\")\n",
        "print(f\"Second coefficient goes to 0 with lambda = {alpha_killers[1]:.2f}\")"
      ],
      "execution_count": null,
      "outputs": [
        {
          "output_type": "stream",
          "name": "stdout",
          "text": [
            "First coefficient goes to 0 with lambda = 1.81\n",
            "Second coefficient goes to 0 with lambda = 4.67\n"
          ]
        },
        {
          "output_type": "display_data",
          "data": {
            "image/png": "[encoded data removed]",
            "text/plain": [
              "<Figure size 432x288 with 2 Axes>"
            ]
          },
          "metadata": {
            "needs_background": "light"
          }
        }
      ]
    },
    {
      "cell_type": "markdown",
      "metadata": {
        "id": "l0bd2VggR2-7"
      },
      "source": [
        "## **Problem 1.8:** Likelihood ratio test for a Gaussian model\n",
        "\n",
        "In this problem, we will analyze the likelihood ratio statistic for the model $X \\sim \\mathcal{N}(\\mu,\\sigma^2)$ with unknown mean and unknown variance and null hypothesis $H_0 : \\mu = 0$ versus alternative hypothesis $H_A : \\mu \\neq 0$."
      ]
    },
    {
      "cell_type": "markdown",
      "metadata": {
        "id": "_DjXJAIaSKLu"
      },
      "source": [
        "##### (a) What is the likelihood function for $n$ independent and identically distributed (iid) Gaussian random variables (with mean $\\mu$ and variance $\\sigma^2$)?"
      ]
    },
    {
      "cell_type": "markdown",
      "metadata": {
        "id": "i3e_7rHRSWR4"
      },
      "source": [
        "<font size=\"2\" color=\"#03bafc\"> The likelihood function for $n$ iid Gaussian random variables with mean $\\mu$ and variance $\\sigma^2$ is\n",
        "  $$p_{\\mu, \\sigma^2}(x_1, \\ldots, x_n) = \\prod_{i=1}^n \\frac{1}{\\sigma (2\\pi)^{1/2}}\\, \\exp\\left(\\frac{1}{2\\sigma^2}(x_i - \\mu)^2\\right) = \\frac{1}{\\sigma^n (2\\pi)^{n/2}} \\exp\\left( \\frac{1}{2\\sigma^2} \\sum_{i=1}^{n} (x_i- \\mu)^2 \\right) $$\n",
        "</font>"
      ]
    },
    {
      "cell_type": "markdown",
      "metadata": {
        "id": "hxI1KlIDSXh3"
      },
      "source": [
        "##### (b) What is the likelihood ratio statistic for the hypothesis test specified above? (You should simplify the statistic so it only involves the realizations $x_1, \\ldots , x_n$.)"
      ]
    },
    {
      "cell_type": "markdown",
      "metadata": {
        "id": "BXogfu_5SfO7"
      },
      "source": [
        "<font size=\"2\" color=\"#03bafc\"> The test statistic for the likelihood ratio test is given by\n",
        "  $$\\Lambda(x_1, \\ldots, x_n) = \\frac{\\max_{\\sigma} p_{0,\\sigma}(x_1,\\ldots, x_n)}{\\max_{\\mu,\\sigma} p_{\\mu,\\sigma}(x_1,\\ldots, x_n)}$$\n",
        "\n",
        "<font size=\"2\" color=\"#03bafc\">\n",
        "For the denominator, we have that taking logs and differentiating with respect to $\\mu$ and $\\sigma$, the first order conditions are\n",
        "  $$\\frac{n\\left(\\overline{x} - \\mu\\right)}{\\sigma^2} = 0 $$\n",
        "  $$-\\frac{n}{\\sigma} - \\frac{1}{\\sigma^3}\\sum_{i=1}^{n} (x_i-\\mu)^2 = 0$$\n",
        "\n",
        "<font size=\"2\" color=\"#03bafc\">\n",
        "Hence,\n",
        "  $$\\hat{\\mu} = \\overline{x}$$\n",
        "  $$\\hat{\\sigma}^2 = \\frac{1}{n}\\sum_{i=1}^{n} (x_i-\\hat{\\mu})^2$$\n",
        "\n",
        "<font size=\"2\" color=\"#03bafc\">\n",
        "For the null hypothesis, since $\\mu = 0$, the first order condition for $\\sigma$ is just\n",
        "  $$-\\frac{n}{\\sigma} - \\frac{1}{\\sigma^3}\\sum_{i=1}^{n} x_i^2 = 0$$\n",
        "\n",
        "<font size=\"2\" color=\"#03bafc\">\n",
        "And thus\n",
        "  $$\\hat{\\sigma}_0^2 = \\frac{1}{n}\\sum_{i=1}^{n} x_i^2$$\n",
        "\n",
        "<font size=\"2\" color=\"#03bafc\">\n",
        "Consequently, the test statistic for this likelihood ratio test is\n",
        "  $$\\Lambda(x_1, \\ldots, x_n) = \\frac{\\hat{\\sigma}^{n}}{\\hat{\\sigma}_{0}^{n}}\\exp\\left(\\frac{1}{2\\hat{\\sigma}_{0}^2} \\sum_{i=1}^{n} x_i^2 - \\frac{1}{2\\hat{\\sigma}^2} \\sum_{i=1}^{n} (x_i - \\overline{x})^2\\right) = \\frac{\\hat{\\sigma}^{n}}{\\hat{\\sigma}_{0}^{n}}\\exp\\left(\\frac{n}{2} - \\frac{n}{2}\\right) = \\frac{\\hat{\\sigma}^{n}}{\\hat{\\sigma}_{0}^{n}}$$\n",
        "\n",
        "<font size=\"2\" color=\"#03bafc\">\n",
        "Moreover, using the definitions of $\\hat{\\sigma}^{n}$ and $\\hat{\\sigma}_{0}^{n}$ we obtain\n",
        "  $$\\Lambda(x_1, \\ldots, x_n) = \\left(\\frac{\\sum_i (x_i - \\overline{x})^2}{\\sum_i x_i^2} \\right)^{n/2}$$\n",
        "  \n",
        " </font>"
      ]
    },
    {
      "cell_type": "markdown",
      "metadata": {
        "id": "0E8hNYDISgKv"
      },
      "source": [
        "##### (c) What is the rejection region for a one-sample (two-sided) $t$-test for the same hypothesis test?"
      ]
    },
    {
      "cell_type": "markdown",
      "metadata": {
        "id": "0ijweTTkSl8G"
      },
      "source": [
        "<font size=\"2\" color=\"#03bafc\"> Under the null, we have that\n",
        "  $$\\frac{\\overline{X_n}}{\\hat{\\sigma}/\\sqrt{n}} \\sim t_{n-1}$$\n",
        "where $\\overline{X_n}$ is the sample average of the observations, \n",
        "  $$\\hat{\\sigma} = \\frac{1}{n-1}\\sum_{i=1}^{n} \\left(X_i - \\overline{X_n}\\right)^2$$\n",
        "is the sample variance and $t_{n-1}$ is the $t$-student distribution with $n-1$ degrees of freedom. Consequently, the rejection region with significance $\\alpha$ for the two-sided $t$-test for this hypothesis test is given by\n",
        "  $$\\left| \\frac{\\overline{X_n}}{\\hat{\\sigma}/\\sqrt{n}} \\right| > t_{n-1,\\alpha}$$\n",
        "where $t_{n-1,q}$ is the $q$ quantile of the $t$-student distribution with $n-1$ degrees of freedom, and $\\alpha$ is the significance level. The figure below shows the rejection region for a sample size $n=100$ and $\\alpha = 0.5$.\n",
        "</font>"
      ]
    },
    {
      "cell_type": "code",
      "metadata": {
        "id": "rcqZU_PHyBB-",
        "colab": {
          "base_uri": "https://localhost:8080/",
          "height": 417
        },
        "outputId": "9ffb2b64-de3b-467f-959d-d3ea89a9de4e"
      },
      "source": [
        "from scipy.stats import t\n",
        "import plotly.graph_objects as go\n",
        "\n",
        "alpha = 0.05\n",
        "df = 100 - 1\n",
        "\n",
        "x_t  = np.linspace(t.ppf(0.0001, df),t.ppf(0.999, df),200)\n",
        "f_t  = t.pdf(x_t, df)\n",
        "\n",
        "rej_thresholds = [t.ppf(alpha/2, df), t.ppf(1-alpha/2,df)]\n",
        "rej_linspaces  = [np.linspace(x_t[0], rej_thresholds[0]),\n",
        "                  np.linspace(rej_thresholds[1], x_t[-1])]\n",
        "\n",
        "fig = go.Figure()\n",
        "\n",
        "fig.add_trace(go.Scatter(x=x_t, y=f_t, mode='lines'))\n",
        "\n",
        "fig.update_layout(\n",
        "    autosize=False,\n",
        "    width=700,\n",
        "    height=400,\n",
        "    title={\n",
        "        'text': r'$\\text{Rejection region for two-sided }t\\text{ test}$',\n",
        "        'y':0.85,\n",
        "        'x':0.5,\n",
        "        'xanchor': 'center',\n",
        "        'yanchor': 'middle'},\n",
        "    xaxis_title = r'$t$')\n",
        "\n",
        "fig.add_trace(go.Scatter(x=[rej_thresholds[0],rej_thresholds[0]], \n",
        "                        y=[0,t.pdf(rej_thresholds[0], df)],\n",
        "                         mode = 'lines', line=dict(color='red')))\n",
        "fig.add_trace(go.Scatter(x=rej_linspaces[0], y=t.pdf(rej_linspaces[0], df), mode='lines', fill='tozeroy', line=dict(width=0, color='red')))\n",
        "\n",
        "fig.add_trace(go.Scatter(x=[rej_thresholds[1],rej_thresholds[1]], \n",
        "                        y=[0,t.pdf(rej_thresholds[1], df)],\n",
        "                         mode = 'lines', line=dict(color='red')))\n",
        "fig.add_trace(go.Scatter(x=rej_linspaces[1], y=t.pdf(rej_linspaces[1], df), mode='lines', fill='tozeroy', line=dict(width=0, color='red')))\n",
        "\n",
        "fig.update_layout(showlegend=False)\n",
        "fig.show()"
      ],
      "execution_count": null,
      "outputs": [
        {
          "output_type": "display_data",
          "data": {
            "text/html": [
              "<html>\n",
              "<head><meta charset=\"utf-8\" /></head>\n",
              "<body>\n",
              "    <div>\n",
              "            <script src=\"https://cdnjs.cloudflare.com/ajax/libs/mathjax/2.7.5/MathJax.js?config=TeX-AMS-MML_SVG\"></script><script type=\"text/javascript\">if (window.MathJax) {MathJax.Hub.Config({SVG: {font: \"STIX-Web\"}});}</script>\n",
              "                <script type=\"text/javascript\">window.PlotlyConfig = {MathJaxConfig: 'local'};</script>\n",
              "        <script src=\"https://cdn.plot.ly/plotly-latest.min.js\"></script>    \n",
              "            <div id=\"1adf908c-5a82-4404-8eda-5c9904d8b9d7\" class=\"plotly-graph-div\" style=\"height:400px; width:700px;\"></div>\n",
              "            <script type=\"text/javascript\">\n",
              "                \n",
              "                    window.PLOTLYENV=window.PLOTLYENV || {};\n",
              "                    \n",
              "                if (document.getElementById(\"1adf908c-5a82-4404-8eda-5c9904d8b9d7\")) {\n",
              "                    Plotly.newPlot(\n",
              "                        '1adf908c-5a82-4404-8eda-5c9904d8b9d7',\n",
              "                        [{\"mode\": \"lines\", \"type\": \"scatter\", \"x\": [-3.8630891071272706, -3.8277238159117775, -3.792358524696284, -3.7569932334807907, -3.721627942265297, -3.686262651049804, -3.6508973598343104, -3.6155320686188173, -3.5801667774033237, -3.5448014861878305, -3.509436194972337, -3.474070903756844, -3.43870561254135, -3.403340321325857, -3.3679750301103635, -3.3326097388948703, -3.2972444476793767, -3.2618791564638836, -3.22651386524839, -3.191148574032897, -3.1557832828174033, -3.12041799160191, -3.0850527003864165, -3.0496874091709234, -3.0143221179554303, -2.9789568267399367, -2.943591535524443, -2.90822624430895, -2.872860953093457, -2.837495661877963, -2.8021303706624696, -2.7667650794469765, -2.7313997882314833, -2.6960344970159897, -2.660669205800496, -2.625303914585003, -2.58993862336951, -2.5545733321540163, -2.5192080409385227, -2.4838427497230295, -2.4484774585075364, -2.413112167292043, -2.377746876076549, -2.342381584861056, -2.307016293645563, -2.2716510024300693, -2.2362857112145758, -2.2009204199990826, -2.1655551287835895, -2.1301898375680963, -2.0948245463526027, -2.059459255137109, -2.024093963921616, -1.9887286727061226, -1.9533633814906293, -1.917998090275136, -1.8826327990596425, -1.847267507844149, -1.8119022166286558, -1.7765369254131622, -1.741171634197669, -1.7058063429821755, -1.6704410517666823, -1.6350757605511888, -1.5997104693356956, -1.5643451781202025, -1.5289798869047089, -1.4936145956892157, -1.4582493044737221, -1.422884013258229, -1.3875187220427354, -1.3521534308272423, -1.3167881396117487, -1.2814228483962555, -1.246057557180762, -1.2106922659652688, -1.1753269747497752, -1.139961683534282, -1.1045963923187885, -1.0692311011032953, -1.0338658098878017, -0.9985005186723086, -0.963135227456815, -0.9277699362413219, -0.8924046450258283, -0.8570393538103351, -0.8216740625948415, -0.7863087713793484, -0.7509434801638548, -0.7155781889483617, -0.6802128977328681, -0.6448476065173749, -0.6094823153018813, -0.5741170240863882, -0.5387517328708946, -0.5033864416554015, -0.46802115043990833, -0.43265585922441474, -0.3972905680089216, -0.361925276793428, -0.32655998557793486, -0.2911946943624413, -0.25582940314694813, -0.22046411193145454, -0.1850988207159614, -0.1497335295004678, -0.11436823828497467, -0.07900294706948108, -0.04363765585398793, -0.008272364638494345, 0.0270929265769988, 0.06245821779249239, 0.09782350900798553, 0.13318880022347912, 0.1685540914389727, 0.20391938265446585, 0.239284673869959, 0.27464996508545214, 0.3100152563009462, 0.3453805475164393, 0.38074583873193246, 0.4161111299474256, 0.45147642116291964, 0.4868417123784128, 0.5222070035939059, 0.5575722948093991, 0.5929375860248931, 0.6283028772403862, 0.6636681684558794, 0.6990334596713725, 0.7343987508868657, 0.7697640421023597, 0.8051293333178529, 0.840494624533346, 0.8758599157488391, 0.9112252069643332, 0.9465904981798263, 0.9819557893953195, 1.0173210806108126, 1.0526863718263066, 1.0880516630417998, 1.123416954257293, 1.158782245472786, 1.19414753668828, 1.2295128279037733, 1.2648781191192664, 1.3002434103347595, 1.3356087015502536, 1.3709739927657467, 1.4063392839812399, 1.441704575196733, 1.477069866412227, 1.5124351576277202, 1.5478004488432133, 1.5831657400587065, 1.6185310312742005, 1.6538963224896936, 1.6892616137051868, 1.72462690492068, 1.759992196136174, 1.7953574873516671, 1.8307227785671603, 1.8660880697826534, 1.9014533609981465, 1.9368186522136406, 1.9721839434291337, 2.007549234644627, 2.04291452586012, 2.078279817075614, 2.113645108291107, 2.1490103995066003, 2.1843756907220935, 2.2197409819375875, 2.2551062731530807, 2.290471564368574, 2.325836855584067, 2.361202146799561, 2.396567438015054, 2.4319327292305473, 2.4672980204460404, 2.5026633116615344, 2.5380286028770276, 2.5733938940925207, 2.608759185308014, 2.644124476523508, 2.679489767739001, 2.714855058954494, 2.7502203501699873, 2.7855856413854814, 2.8209509326009745, 2.8563162238164677, 2.891681515031961, 2.927046806247454, 2.962412097462948, 2.997777388678441, 3.0331426798939343, 3.0685079711094274, 3.1038732623249214, 3.1392385535404146, 3.1746038447559077], \"y\": [0.0003555619414341137, 0.00040070089849145987, 0.0004512016299154286, 0.0005076489273017765, 0.0005706843095178728, 0.0006410106110169901, 0.000719396826748447, 0.0008066832135240285, 0.0009037866454287096, 0.001011706218288554, 0.001131529095315133, 0.0012644365828225082, 0.0014117104213485746, 0.0015747392736004358, 0.00175502538637993, 0.001954191399030711, 0.0021739872659860826, 0.0024162972557001355, 0.002683146982626069, 0.002976710422989838, 0.0032993168589233153, 0.003653457689105345, 0.0040417930374566724, 0.00446715808470003, 0.004932569040791525, 0.005441228669424123, 0.005996531269081548, 0.006602067008571358, 0.007261625508684019, 0.007979198555726577, 0.008758981827273998, 0.009605375505698177, 0.010522983651000984, 0.01151661220133573, 0.012591265467486767, 0.013752140986639344, 0.015004622601150161, 0.016354271629879822, 0.01780681600309275, 0.01936813723712873, 0.021044255132102917, 0.02284131008494267, 0.024765542921187374, 0.026823272162280736, 0.029020868660607598, 0.031364727552327776, 0.0338612374981359, 0.03651674720442837, 0.03933752924191628, 0.04232974120542086, 0.045499384287278996, 0.04885225936735033, 0.05239392075478515, 0.056129627750322895, 0.06006429423257181, 0.06420243650723494, 0.06854811969412886, 0.07310490296278874, 0.0778757839629471, 0.08286314283076726, 0.08806868618495745, 0.09349339155815417, 0.09913745273785933, 0.10500022651704496, 0.11108018137692237, 0.11737484864259133, 0.1238807766660097, 0.13059348859930311, 0.13750744432451587, 0.14461600710299605, 0.15191141549843656, 0.1593847611117691, 0.16702597264349076, 0.1748238067693542, 0.18276584627878595, 0.190838505881674, 0.1990270460387727, 0.2073155951137898, 0.21568718008196067, 0.22412376596062977, 0.23260630405301663, 0.2411147890172855, 0.24962832469012636, 0.25812519850829446, 0.26658296428349226, 0.2749785329970762, 0.28328827119201494, 0.29148810645157264, 0.29955363936851337, 0.3074602613263251, 0.3151832773359641, 0.32269803309965944, 0.3299800454075716, 0.3370051349155684, 0.34374956030314247, 0.3501901527710313, 0.35630444980894777, 0.36207082714536293, 0.36746862778453965, 0.37247828704080505, 0.3770814524968974, 0.3812610978420503, 0.3850016295860672, 0.3882889856979193, 0.3911107252806431, 0.39345610846797346, 0.39531616581172063, 0.39668375652083976, 0.39755361501315817, 0.39792238534704405, 0.39778864321191215, 0.39715290527207403, 0.3960176257765819, 0.39438718046663773, 0.39226783793123665, 0.3896677186782906, 0.38659674230243185, 0.38306656323944444, 0.3790904957005386, 0.3746834284754192, 0.3698617303808026, 0.3646431472094148, 0.35904669110265935, 0.3530925233276549, 0.34680183148551297, 0.3401967022119384, 0.3332999904538267, 0.3261351864158925, 0.31872628126998975, 0.3110976327067083, 0.3032738313847154, 0.29527956929845894, 0.287139511040167, 0.27887816887828587, 0.27051978251245423, 0.26208820429598173, 0.2536067906414081, 0.24509830024438234, 0.2365847996767785, 0.22808757681298955, 0.21962706246464886, 0.21122276050990035, 0.20289318671478562, 0.19465581635732848, 0.18652704068056422, 0.17852213211979887, 0.17065521817272897, 0.16293926370935083, 0.15538606145241673, 0.1480062302991583, 0.1408092211013534, 0.13380332947397316, 0.12699571516270095, 0.1203924274677486, 0.1139984361954863, 0.10781766759043303, 0.10185304468790526, 0.09610653152180407, 0.09057918062237696, 0.0852711832448359, 0.0801819217810945, 0.07531002382305796, 0.07065341736641893, 0.06620938666818148, 0.06197462829866693, 0.05794530695898464, 0.05411711066732173, 0.05048530495145064, 0.047044785719967105, 0.043790130520569376, 0.0407156479296665, 0.03781542485331502, 0.035083371554617965, 0.032513264256856154, 0.030098785204505072, 0.027833560095625445, 0.025711192828716294, 0.023725297534753966, 0.02186952789072039, 0.0201376037343194, 0.0185233350207118, 0.01702064318098255, 0.015623579958621429, 0.01432634381464807, 0.013123294004133541, 0.012008962436880693, 0.01097806344300087, 0.01002550157017285, 0.009146377543620455, 0.008335992522422913, 0.007589850786822653, 0.006903660990854025, 0.006273336113035105, 0.00569499223518551, 0.005164946275798259, 0.004679712799946, 0.0042360000225708655, 0.003830705116324602, 0.003460908929008737, 0.0031238702092283455]}, {\"line\": {\"color\": \"red\"}, \"mode\": \"lines\", \"type\": \"scatter\", \"x\": [-1.9842169515086832, -1.9842169515086832], \"y\": [0, 0.056620421554544]}, {\"fill\": \"tozeroy\", \"line\": {\"color\": \"red\", \"width\": 0}, \"mode\": \"lines\", \"type\": \"scatter\", \"x\": [-3.8630891071272706, -3.824744777420769, -3.786400447714267, -3.7480561180077654, -3.7097117883012634, -3.6713674585947618, -3.6330231288882597, -3.594678799181758, -3.5563344694752566, -3.5179901397687545, -3.479645810062253, -3.441301480355751, -3.4029571506492493, -3.3646128209427473, -3.3262684912362457, -3.2879241615297436, -3.249579831823242, -3.2112355021167405, -3.1728911724102384, -3.134546842703737, -3.096202512997235, -3.0578581832907332, -3.0195138535842316, -2.9811695238777296, -2.9428251941712276, -2.904480864464726, -2.8661365347582244, -2.8277922050517224, -2.7894478753452208, -2.7511035456387187, -2.712759215932217, -2.6744148862257155, -2.6360705565192135, -2.5977262268127115, -2.55938189710621, -2.5210375673997083, -2.4826932376932063, -2.4443489079867047, -2.4060045782802026, -2.367660248573701, -2.3293159188671995, -2.2909715891606974, -2.2526272594541954, -2.214282929747694, -2.175938600041192, -2.1375942703346906, -2.0992499406281886, -2.0609056109216866, -2.022561281215185, -1.9842169515086832], \"y\": [0.0003555619414341137, 0.0004047402940122202, 0.0004602781493553012, 0.000522929825587765, 0.0005935290895121946, 0.0006729961125209758, 0.0007623448434893667, 0.0008626907972514487, 0.0009752592527276272, 0.0011013938495993791, 0.001242565566584548, 0.001400382057827012, 0.0015765973166611661, 0.0017731216280308132, 0.001992031762134784, 0.0022355813524449772, 0.002506211391119737, 0.002806560764053408, 0.003139476736410609, 0.0035080252875648006, 0.003915501181977363, 0.004365437649829345, 0.004861615538276581, 0.005408071781193586, 0.006009107022376901, 0.006669292214583953, 0.007393474004717026, 0.008186778704151286, 0.009054614632924918, 0.010002672617525665, 0.01103692441462425, 0.0121636188276334, 0.01338927527971833, 0.014720674606196468, 0.01616484683144093, 0.01772905570079208, 0.01942077974686898, 0.021247689682362104, 0.023217621928148722, 0.02533854810661848, 0.02761854035563112, 0.030065732348698134, 0.032688275941833274, 0.03549429340711906, 0.0384918252572765, 0.041688773714291805, 0.04509284192822657, 0.048711469109343236, 0.05255176179727345, 0.056620421554544]}, {\"line\": {\"color\": \"red\"}, \"mode\": \"lines\", \"type\": \"scatter\", \"x\": [1.9842169515086827, 1.9842169515086827], \"y\": [0, 0.056620421554544]}, {\"fill\": \"tozeroy\", \"line\": {\"color\": \"red\", \"width\": 0}, \"mode\": \"lines\", \"type\": \"scatter\", \"x\": [1.9842169515086827, 2.0085105615749526, 2.0328041716412226, 2.0570977817074922, 2.0813913917737623, 2.1056850018400324, 2.129978611906302, 2.154272221972572, 2.178565832038842, 2.2028594421051118, 2.227153052171382, 2.2514466622376514, 2.2757402723039215, 2.3000338823701916, 2.324327492436461, 2.3486211025027313, 2.372914712569001, 2.397208322635271, 2.421501932701541, 2.4457955427678106, 2.4700891528340807, 2.4943827629003508, 2.5186763729666204, 2.5429699830328905, 2.5672635930991605, 2.59155720316543, 2.6158508132317, 2.6401444232979703, 2.66443803336424, 2.6887316434305095, 2.7130252534967796, 2.7373188635630497, 2.7616124736293193, 2.7859060836955893, 2.8101996937618594, 2.834493303828129, 2.858786913894399, 2.883080523960669, 2.907374134026939, 2.931667744093209, 2.955961354159479, 2.9802549642257485, 3.004548574292018, 3.0288421843582887, 3.0531357944245583, 3.077429404490828, 3.1017230145570984, 3.126016624623368, 3.1503102346896377, 3.1746038447559077], \"y\": [0.056620421554544, 0.05401581375623303, 0.05150382269739354, 0.049082807340542975, 0.04675105257170609, 0.04450677688987789, 0.04234813988992873, 0.04027324952370331, 0.03828016912581543, 0.03636692419233085, 0.034531508902218, 0.03277189237305906, 0.03108602464407649, 0.02947184238105808, 0.027927274299197617, 0.026450246301257373, 0.025038686329772797, 0.023690528933254323, 0.022403719547510546, 0.021176218494304334, 0.020006004700563438, 0.018891079142304094, 0.017829468018276975, 0.016819225659125126, 0.01585843717854771, 0.014945220873582207, 0.014077730381678491, 0.013254156602715098, 0.01247272939451706, 0.011731719050785783, 0.01102943757062601, 0.010364239729076696, 0.009734523958215148, 0.009138733048505534, 0.008575354680122372, 0.008042921793983195, 0.007540012812184502, 0.007065251717458761, 0.006617308001148149, 0.0061948964890398955, 0.0057967770542224715, 0.005421754225910492, 0.005068676702947347, 0.004736436780435832, 0.004423969697669483, 0.004130252915240915, 0.0038543053288984195, 0.0035951864274012327, 0.0033519954012992638, 0.0031238702092283455]}],\n",
              "                        {\"autosize\": false, \"height\": 400, \"showlegend\": false, \"template\": {\"data\": {\"bar\": [{\"error_x\": {\"color\": \"#2a3f5f\"}, \"error_y\": {\"color\": \"#2a3f5f\"}, \"marker\": {\"line\": {\"color\": \"#E5ECF6\", \"width\": 0.5}}, \"type\": \"bar\"}], \"barpolar\": [{\"marker\": {\"line\": {\"color\": \"#E5ECF6\", \"width\": 0.5}}, \"type\": \"barpolar\"}], \"carpet\": [{\"aaxis\": {\"endlinecolor\": \"#2a3f5f\", \"gridcolor\": \"white\", \"linecolor\": \"white\", \"minorgridcolor\": \"white\", \"startlinecolor\": \"#2a3f5f\"}, \"baxis\": {\"endlinecolor\": \"#2a3f5f\", \"gridcolor\": \"white\", \"linecolor\": \"white\", \"minorgridcolor\": \"white\", \"startlinecolor\": \"#2a3f5f\"}, \"type\": \"carpet\"}], \"choropleth\": [{\"colorbar\": {\"outlinewidth\": 0, \"ticks\": \"\"}, \"type\": \"choropleth\"}], \"contour\": [{\"colorbar\": {\"outlinewidth\": 0, \"ticks\": \"\"}, \"colorscale\": [[0.0, \"#0d0887\"], [0.1111111111111111, \"#46039f\"], [0.2222222222222222, \"#7201a8\"], [0.3333333333333333, \"#9c179e\"], [0.4444444444444444, \"#bd3786\"], [0.5555555555555556, \"#d8576b\"], [0.6666666666666666, \"#ed7953\"], [0.7777777777777778, \"#fb9f3a\"], [0.8888888888888888, \"#fdca26\"], [1.0, \"#f0f921\"]], \"type\": \"contour\"}], \"contourcarpet\": [{\"colorbar\": {\"outlinewidth\": 0, \"ticks\": \"\"}, \"type\": \"contourcarpet\"}], \"heatmap\": [{\"colorbar\": {\"outlinewidth\": 0, \"ticks\": \"\"}, \"colorscale\": [[0.0, \"#0d0887\"], [0.1111111111111111, \"#46039f\"], [0.2222222222222222, \"#7201a8\"], [0.3333333333333333, \"#9c179e\"], [0.4444444444444444, \"#bd3786\"], [0.5555555555555556, \"#d8576b\"], [0.6666666666666666, \"#ed7953\"], [0.7777777777777778, \"#fb9f3a\"], [0.8888888888888888, \"#fdca26\"], [1.0, \"#f0f921\"]], \"type\": \"heatmap\"}], \"heatmapgl\": [{\"colorbar\": {\"outlinewidth\": 0, \"ticks\": \"\"}, \"colorscale\": [[0.0, \"#0d0887\"], [0.1111111111111111, \"#46039f\"], [0.2222222222222222, \"#7201a8\"], [0.3333333333333333, \"#9c179e\"], [0.4444444444444444, \"#bd3786\"], [0.5555555555555556, \"#d8576b\"], [0.6666666666666666, \"#ed7953\"], [0.7777777777777778, \"#fb9f3a\"], [0.8888888888888888, \"#fdca26\"], [1.0, \"#f0f921\"]], \"type\": \"heatmapgl\"}], \"histogram\": [{\"marker\": {\"colorbar\": {\"outlinewidth\": 0, \"ticks\": \"\"}}, \"type\": \"histogram\"}], \"histogram2d\": [{\"colorbar\": {\"outlinewidth\": 0, \"ticks\": \"\"}, \"colorscale\": [[0.0, \"#0d0887\"], [0.1111111111111111, \"#46039f\"], [0.2222222222222222, \"#7201a8\"], [0.3333333333333333, \"#9c179e\"], [0.4444444444444444, \"#bd3786\"], [0.5555555555555556, \"#d8576b\"], [0.6666666666666666, \"#ed7953\"], [0.7777777777777778, \"#fb9f3a\"], [0.8888888888888888, \"#fdca26\"], [1.0, \"#f0f921\"]], \"type\": \"histogram2d\"}], \"histogram2dcontour\": [{\"colorbar\": {\"outlinewidth\": 0, \"ticks\": \"\"}, \"colorscale\": [[0.0, \"#0d0887\"], [0.1111111111111111, \"#46039f\"], [0.2222222222222222, \"#7201a8\"], [0.3333333333333333, \"#9c179e\"], [0.4444444444444444, \"#bd3786\"], [0.5555555555555556, \"#d8576b\"], [0.6666666666666666, \"#ed7953\"], [0.7777777777777778, \"#fb9f3a\"], [0.8888888888888888, \"#fdca26\"], [1.0, \"#f0f921\"]], \"type\": \"histogram2dcontour\"}], \"mesh3d\": [{\"colorbar\": {\"outlinewidth\": 0, \"ticks\": \"\"}, \"type\": \"mesh3d\"}], \"parcoords\": [{\"line\": {\"colorbar\": {\"outlinewidth\": 0, \"ticks\": \"\"}}, \"type\": \"parcoords\"}], \"pie\": [{\"automargin\": true, \"type\": \"pie\"}], \"scatter\": [{\"marker\": {\"colorbar\": {\"outlinewidth\": 0, \"ticks\": \"\"}}, \"type\": \"scatter\"}], \"scatter3d\": [{\"line\": {\"colorbar\": {\"outlinewidth\": 0, \"ticks\": \"\"}}, \"marker\": {\"colorbar\": {\"outlinewidth\": 0, \"ticks\": \"\"}}, \"type\": \"scatter3d\"}], \"scattercarpet\": [{\"marker\": {\"colorbar\": {\"outlinewidth\": 0, \"ticks\": \"\"}}, \"type\": \"scattercarpet\"}], \"scattergeo\": [{\"marker\": {\"colorbar\": {\"outlinewidth\": 0, \"ticks\": \"\"}}, \"type\": \"scattergeo\"}], \"scattergl\": [{\"marker\": {\"colorbar\": {\"outlinewidth\": 0, \"ticks\": \"\"}}, \"type\": \"scattergl\"}], \"scattermapbox\": [{\"marker\": {\"colorbar\": {\"outlinewidth\": 0, \"ticks\": \"\"}}, \"type\": \"scattermapbox\"}], \"scatterpolar\": [{\"marker\": {\"colorbar\": {\"outlinewidth\": 0, \"ticks\": \"\"}}, \"type\": \"scatterpolar\"}], \"scatterpolargl\": [{\"marker\": {\"colorbar\": {\"outlinewidth\": 0, \"ticks\": \"\"}}, \"type\": \"scatterpolargl\"}], \"scatterternary\": [{\"marker\": {\"colorbar\": {\"outlinewidth\": 0, \"ticks\": \"\"}}, \"type\": \"scatterternary\"}], \"surface\": [{\"colorbar\": {\"outlinewidth\": 0, \"ticks\": \"\"}, \"colorscale\": [[0.0, \"#0d0887\"], [0.1111111111111111, \"#46039f\"], [0.2222222222222222, \"#7201a8\"], [0.3333333333333333, \"#9c179e\"], [0.4444444444444444, \"#bd3786\"], [0.5555555555555556, \"#d8576b\"], [0.6666666666666666, \"#ed7953\"], [0.7777777777777778, \"#fb9f3a\"], [0.8888888888888888, \"#fdca26\"], [1.0, \"#f0f921\"]], \"type\": \"surface\"}], \"table\": [{\"cells\": {\"fill\": {\"color\": \"#EBF0F8\"}, \"line\": {\"color\": \"white\"}}, \"header\": {\"fill\": {\"color\": \"#C8D4E3\"}, \"line\": {\"color\": \"white\"}}, \"type\": \"table\"}]}, \"layout\": {\"annotationdefaults\": {\"arrowcolor\": \"#2a3f5f\", \"arrowhead\": 0, \"arrowwidth\": 1}, \"coloraxis\": {\"colorbar\": {\"outlinewidth\": 0, \"ticks\": \"\"}}, \"colorscale\": {\"diverging\": [[0, \"#8e0152\"], [0.1, \"#c51b7d\"], [0.2, \"#de77ae\"], [0.3, \"#f1b6da\"], [0.4, \"#fde0ef\"], [0.5, \"#f7f7f7\"], [0.6, \"#e6f5d0\"], [0.7, \"#b8e186\"], [0.8, \"#7fbc41\"], [0.9, \"#4d9221\"], [1, \"#276419\"]], \"sequential\": [[0.0, \"#0d0887\"], [0.1111111111111111, \"#46039f\"], [0.2222222222222222, \"#7201a8\"], [0.3333333333333333, \"#9c179e\"], [0.4444444444444444, \"#bd3786\"], [0.5555555555555556, \"#d8576b\"], [0.6666666666666666, \"#ed7953\"], [0.7777777777777778, \"#fb9f3a\"], [0.8888888888888888, \"#fdca26\"], [1.0, \"#f0f921\"]], \"sequentialminus\": [[0.0, \"#0d0887\"], [0.1111111111111111, \"#46039f\"], [0.2222222222222222, \"#7201a8\"], [0.3333333333333333, \"#9c179e\"], [0.4444444444444444, \"#bd3786\"], [0.5555555555555556, \"#d8576b\"], [0.6666666666666666, \"#ed7953\"], [0.7777777777777778, \"#fb9f3a\"], [0.8888888888888888, \"#fdca26\"], [1.0, \"#f0f921\"]]}, \"colorway\": [\"#636efa\", \"#EF553B\", \"#00cc96\", \"#ab63fa\", \"#FFA15A\", \"#19d3f3\", \"#FF6692\", \"#B6E880\", \"#FF97FF\", \"#FECB52\"], \"font\": {\"color\": \"#2a3f5f\"}, \"geo\": {\"bgcolor\": \"white\", \"lakecolor\": \"white\", \"landcolor\": \"#E5ECF6\", \"showlakes\": true, \"showland\": true, \"subunitcolor\": \"white\"}, \"hoverlabel\": {\"align\": \"left\"}, \"hovermode\": \"closest\", \"mapbox\": {\"style\": \"light\"}, \"paper_bgcolor\": \"white\", \"plot_bgcolor\": \"#E5ECF6\", \"polar\": {\"angularaxis\": {\"gridcolor\": \"white\", \"linecolor\": \"white\", \"ticks\": \"\"}, \"bgcolor\": \"#E5ECF6\", \"radialaxis\": {\"gridcolor\": \"white\", \"linecolor\": \"white\", \"ticks\": \"\"}}, \"scene\": {\"xaxis\": {\"backgroundcolor\": \"#E5ECF6\", \"gridcolor\": \"white\", \"gridwidth\": 2, \"linecolor\": \"white\", \"showbackground\": true, \"ticks\": \"\", \"zerolinecolor\": \"white\"}, \"yaxis\": {\"backgroundcolor\": \"#E5ECF6\", \"gridcolor\": \"white\", \"gridwidth\": 2, \"linecolor\": \"white\", \"showbackground\": true, \"ticks\": \"\", \"zerolinecolor\": \"white\"}, \"zaxis\": {\"backgroundcolor\": \"#E5ECF6\", \"gridcolor\": \"white\", \"gridwidth\": 2, \"linecolor\": \"white\", \"showbackground\": true, \"ticks\": \"\", \"zerolinecolor\": \"white\"}}, \"shapedefaults\": {\"line\": {\"color\": \"#2a3f5f\"}}, \"ternary\": {\"aaxis\": {\"gridcolor\": \"white\", \"linecolor\": \"white\", \"ticks\": \"\"}, \"baxis\": {\"gridcolor\": \"white\", \"linecolor\": \"white\", \"ticks\": \"\"}, \"bgcolor\": \"#E5ECF6\", \"caxis\": {\"gridcolor\": \"white\", \"linecolor\": \"white\", \"ticks\": \"\"}}, \"title\": {\"x\": 0.05}, \"xaxis\": {\"automargin\": true, \"gridcolor\": \"white\", \"linecolor\": \"white\", \"ticks\": \"\", \"title\": {\"standoff\": 15}, \"zerolinecolor\": \"white\", \"zerolinewidth\": 2}, \"yaxis\": {\"automargin\": true, \"gridcolor\": \"white\", \"linecolor\": \"white\", \"ticks\": \"\", \"title\": {\"standoff\": 15}, \"zerolinecolor\": \"white\", \"zerolinewidth\": 2}}}, \"title\": {\"text\": \"$\\\\text{Rejection region for two-sided }t\\\\text{ test}$\", \"x\": 0.5, \"xanchor\": \"center\", \"y\": 0.85, \"yanchor\": \"middle\"}, \"width\": 700, \"xaxis\": {\"title\": {\"text\": \"$t$\"}}},\n",
              "                        {\"responsive\": true}\n",
              "                    ).then(function(){\n",
              "                            \n",
              "var gd = document.getElementById('1adf908c-5a82-4404-8eda-5c9904d8b9d7');\n",
              "var x = new MutationObserver(function (mutations, observer) {{\n",
              "        var display = window.getComputedStyle(gd).display;\n",
              "        if (!display || display === 'none') {{\n",
              "            console.log([gd, 'removed!']);\n",
              "            Plotly.purge(gd);\n",
              "            observer.disconnect();\n",
              "        }}\n",
              "}});\n",
              "\n",
              "// Listen for the removal of the full notebook cells\n",
              "var notebookContainer = gd.closest('#notebook-container');\n",
              "if (notebookContainer) {{\n",
              "    x.observe(notebookContainer, {childList: true});\n",
              "}}\n",
              "\n",
              "// Listen for the clearing of the current output cell\n",
              "var outputEl = gd.closest('.output');\n",
              "if (outputEl) {{\n",
              "    x.observe(outputEl, {childList: true});\n",
              "}}\n",
              "\n",
              "                        })\n",
              "                };\n",
              "                \n",
              "            </script>\n",
              "        </div>\n",
              "</body>\n",
              "</html>"
            ]
          },
          "metadata": {}
        }
      ]
    },
    {
      "cell_type": "markdown",
      "metadata": {
        "id": "j-Ix0hFhSnIM"
      },
      "source": [
        "##### (d) How is the likelihood ratio test related to the one-sample $t$-test? Show that the exact rejection region of the likelihood ratio test (without approximation by the $\\chi^2$-distribution) has the same form as the rejection region of the $t$-test.\n"
      ]
    },
    {
      "cell_type": "markdown",
      "metadata": {
        "id": "65elCfphSs6N"
      },
      "source": [
        "<font size=\"2\" color=\"#03bafc\"> Observe that given $\\Lambda(x_1, \\ldots, x_n)$, we reject the null hypothesis if, for some value $k \\in (0,1)$,\n",
        "  $$\\Lambda(x_1, \\ldots, x_n) = \\left(\\frac{\\sum_i (x_i - \\overline{x})^2}{\\sum_i x_i^2} \\right)^{n/2} < k$$\n",
        "which occurs if and only if\n",
        "  $$ \\frac{\\sum_i x_i^2}{\\sum_i (x_i - \\overline{x})^2} = \\frac{\\hat{\\sigma}^2 + \\frac{n}{n-1}\\overline{x}^2}{\\hat{\\sigma}^2} > k^{-2/n} =: k'$$\n",
        "which can be rewritten as\n",
        "  $$ \\frac{\\overline{x}^2}{\\hat{\\sigma}^2/n} > (n-1)(k'-1) =: k'' $$\n",
        "and since both sides are greater or equal than zero (because $k' > 1$), this occurs if and only if\n",
        "  $$ \\left|\\frac{\\overline{x}}{\\sqrt{\\hat{\\sigma}^2/n}}\\right| > \\sqrt{k''}$$\n",
        "\n",
        "which is the same rejection region as above. Hence, the exact distribution of the likelihood ratio is the same as the $t$ test and, consequently, both test are equivalent.\n",
        "</font>"
      ]
    },
    {
      "cell_type": "markdown",
      "metadata": {
        "id": "Czclwi2eSuJO"
      },
      "source": [
        "##### (e) Analyze either by simulation or by computation how large the error is if you use the asymptotic distribution of the likelihood ratio statistic versus the exact distribution as in (d)."
      ]
    },
    {
      "cell_type": "markdown",
      "metadata": {
        "id": "kWTJ0aPNS6us"
      },
      "source": [
        "<font size=\"2\" color=\"#03bafc\"> The error the asymptotic distribution is making is quite large, compared to the aimed confidence level.\n",
        "\n",
        "<font size=\"2\" color=\"#03bafc\"> By simulating 5000 samples of size 100 from a standard normal distribution, I tested the null hypothesis $H_0: \\mu = 0$ against $H_A: \\mu \\neq 0$ using the exact distribution and the approximate one, for a significance level $\\alpha = 0.05$. For each of these samples, the $\\Lambda$ and $t$ statistics were computed and then confronted to their respective rejection thresholds. After the simulation, the exact distribution rejected $H_0$ around 5% of the time, as expected from the confidence level. On the contrary, the asymptotic distribution rejected 30% of all the hypothesis tested. Moreover, the error was increasing in the sample size, with 44% of null hypothesis rejected when sample size equals 1,000 and 48% when the sample size was 10,000.\n",
        "\n",
        "Another aspect to consider is that these tests are highly susceptible to the underlying standard deviation and the type-I error is increasing in its value. The approximate distribution, moreover, is the most affected by this behaviour. Increasing the standard deviation from 1 to 1.1 only affects the type-I error of the exact test by 1 percentage point (from 5% to 6%). However, the asymptotic test increases is false rejection rate up to 79%. Increasing $\\sigma$ again in one tenth ends up with an useless aymptotic test, with a false discovery rate of 100%, against a 7% of the exact test.  </font>"
      ]
    },
    {
      "cell_type": "code",
      "metadata": {
        "id": "NVXvYF5n7iBA",
        "colab": {
          "base_uri": "https://localhost:8080/"
        },
        "outputId": "28bc616b-d86e-48aa-b3a8-1d5170c63339"
      },
      "source": [
        "from scipy.stats import t, chi2\n",
        "from numpy.random import default_rng\n",
        "\n",
        "B = 5000\n",
        "N = 100\n",
        "sigma = 1.2\n",
        "alpha = 0.05\n",
        "df_chi = 1\n",
        "df_t = N-1\n",
        "\n",
        "t_stats = np.zeros((B,))\n",
        "chi_stats = np.zeros((B,))\n",
        "\n",
        "for i in range(B):\n",
        "  # Sample\n",
        "  rng = default_rng(seed = i)\n",
        "  sample = rng.standard_normal(size = N) * sigma\n",
        "\n",
        "  # Compute mean and std\n",
        "  S_n = np.std(sample,ddof=1)\n",
        "  sigma_0_sq = np.dot(sample,sample)/(N*1.)\n",
        "  sigma_sq = np.std(sample,ddof=0)\n",
        "\n",
        "  # Compute statistics\n",
        "  chi_stats[i] = -N * (np.log(sigma_sq) - np.log(sigma_0_sq))\n",
        "  t_stats[i]   = sample.mean()/np.sqrt(S_n/N)\n",
        "\n",
        "rejected_chi = np.sum(chi_stats > chi2.ppf(1-alpha,df_chi))/B * 100\n",
        "rejected_t = np.sum(np.abs(t_stats) > t.ppf(1-alpha/2,df_t))/B * 100\n",
        "\n",
        "print(f\"Share of rejected hypothesis under chi-distribution: {rejected_chi:.0f}%\")\n",
        "print(f\"Share of rejected hypothesis under t-distribution: {rejected_t:.0f}%\")"
      ],
      "execution_count": null,
      "outputs": [
        {
          "output_type": "stream",
          "name": "stdout",
          "text": [
            "Share of rejected hypothesis under chi-distribution: 97%\n",
            "Share of rejected hypothesis under t-distribution: 7%\n"
          ]
        }
      ]
    }
  ]
}
