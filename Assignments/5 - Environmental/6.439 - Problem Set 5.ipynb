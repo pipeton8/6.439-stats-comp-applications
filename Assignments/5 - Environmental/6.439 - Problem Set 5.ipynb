{
  "nbformat": 4,
  "nbformat_minor": 0,
  "metadata": {
    "colab": {
      "name": "6.439 - Problem Set 5.ipynb",
      "provenance": [],
      "toc_visible": true,
      "authorship_tag": "ABX9TyPUyAMBoNFHu83+grfEoZnY",
      "include_colab_link": true
    },
    "kernelspec": {
      "name": "python3",
      "display_name": "Python 3"
    },
    "language_info": {
      "name": "python"
    },
    "widgets": {
      "application/vnd.jupyter.widget-state+json": {
        "1e497643739f4c95aea8373da5591dc0": {
          "model_module": "@jupyter-widgets/controls",
          "model_name": "HBoxModel",
          "model_module_version": "1.5.0",
          "state": {
            "_view_name": "HBoxView",
            "_dom_classes": [],
            "_model_name": "HBoxModel",
            "_view_module": "@jupyter-widgets/controls",
            "_model_module_version": "1.5.0",
            "_view_count": null,
            "_view_module_version": "1.5.0",
            "box_style": "",
            "layout": "IPY_MODEL_f2130113d1e24d06a25919d2cc83940e",
            "_model_module": "@jupyter-widgets/controls",
            "children": [
              "IPY_MODEL_417c7095f65c40d797b1a299596ed60b",
              "IPY_MODEL_47637377569e46a69c3b71c7d448424f",
              "IPY_MODEL_71bc4729c7c94e2392ba3f9bb5c16c7e"
            ]
          }
        },
        "f2130113d1e24d06a25919d2cc83940e": {
          "model_module": "@jupyter-widgets/base",
          "model_name": "LayoutModel",
          "model_module_version": "1.2.0",
          "state": {
            "_view_name": "LayoutView",
            "grid_template_rows": null,
            "right": null,
            "justify_content": null,
            "_view_module": "@jupyter-widgets/base",
            "overflow": null,
            "_model_module_version": "1.2.0",
            "_view_count": null,
            "flex_flow": null,
            "width": null,
            "min_width": null,
            "border": null,
            "align_items": null,
            "bottom": null,
            "_model_module": "@jupyter-widgets/base",
            "top": null,
            "grid_column": null,
            "overflow_y": null,
            "overflow_x": null,
            "grid_auto_flow": null,
            "grid_area": null,
            "grid_template_columns": null,
            "flex": null,
            "_model_name": "LayoutModel",
            "justify_items": null,
            "grid_row": null,
            "max_height": null,
            "align_content": null,
            "visibility": null,
            "align_self": null,
            "height": null,
            "min_height": null,
            "padding": null,
            "grid_auto_rows": null,
            "grid_gap": null,
            "max_width": null,
            "order": null,
            "_view_module_version": "1.2.0",
            "grid_template_areas": null,
            "object_position": null,
            "object_fit": null,
            "grid_auto_columns": null,
            "margin": null,
            "display": null,
            "left": null
          }
        },
        "417c7095f65c40d797b1a299596ed60b": {
          "model_module": "@jupyter-widgets/controls",
          "model_name": "HTMLModel",
          "model_module_version": "1.5.0",
          "state": {
            "_view_name": "HTMLView",
            "style": "IPY_MODEL_35bbe52f2b7d4532884dbd7d8cdc6a06",
            "_dom_classes": [],
            "description": "",
            "_model_name": "HTMLModel",
            "placeholder": "​",
            "_view_module": "@jupyter-widgets/controls",
            "_model_module_version": "1.5.0",
            "value": "100%",
            "_view_count": null,
            "_view_module_version": "1.5.0",
            "description_tooltip": null,
            "_model_module": "@jupyter-widgets/controls",
            "layout": "IPY_MODEL_bbf52bb1f1d64507a4567cacc6662986"
          }
        },
        "47637377569e46a69c3b71c7d448424f": {
          "model_module": "@jupyter-widgets/controls",
          "model_name": "FloatProgressModel",
          "model_module_version": "1.5.0",
          "state": {
            "_view_name": "ProgressView",
            "style": "IPY_MODEL_15f8e4c384d3443283a3610eb122a871",
            "_dom_classes": [],
            "description": "",
            "_model_name": "FloatProgressModel",
            "bar_style": "success",
            "max": 100,
            "_view_module": "@jupyter-widgets/controls",
            "_model_module_version": "1.5.0",
            "value": 100,
            "_view_count": null,
            "_view_module_version": "1.5.0",
            "orientation": "horizontal",
            "min": 0,
            "description_tooltip": null,
            "_model_module": "@jupyter-widgets/controls",
            "layout": "IPY_MODEL_f8fd6802cf3649138bea8518d791ce08"
          }
        },
        "71bc4729c7c94e2392ba3f9bb5c16c7e": {
          "model_module": "@jupyter-widgets/controls",
          "model_name": "HTMLModel",
          "model_module_version": "1.5.0",
          "state": {
            "_view_name": "HTMLView",
            "style": "IPY_MODEL_04fe342bf1a54347bba1727718a78b2d",
            "_dom_classes": [],
            "description": "",
            "_model_name": "HTMLModel",
            "placeholder": "​",
            "_view_module": "@jupyter-widgets/controls",
            "_model_module_version": "1.5.0",
            "value": " 100/100 [00:45&lt;00:00,  2.24it/s]",
            "_view_count": null,
            "_view_module_version": "1.5.0",
            "description_tooltip": null,
            "_model_module": "@jupyter-widgets/controls",
            "layout": "IPY_MODEL_da70b20acdf544a4b1a52263024ea505"
          }
        },
        "35bbe52f2b7d4532884dbd7d8cdc6a06": {
          "model_module": "@jupyter-widgets/controls",
          "model_name": "DescriptionStyleModel",
          "model_module_version": "1.5.0",
          "state": {
            "_view_name": "StyleView",
            "_model_name": "DescriptionStyleModel",
            "description_width": "",
            "_view_module": "@jupyter-widgets/base",
            "_model_module_version": "1.5.0",
            "_view_count": null,
            "_view_module_version": "1.2.0",
            "_model_module": "@jupyter-widgets/controls"
          }
        },
        "bbf52bb1f1d64507a4567cacc6662986": {
          "model_module": "@jupyter-widgets/base",
          "model_name": "LayoutModel",
          "model_module_version": "1.2.0",
          "state": {
            "_view_name": "LayoutView",
            "grid_template_rows": null,
            "right": null,
            "justify_content": null,
            "_view_module": "@jupyter-widgets/base",
            "overflow": null,
            "_model_module_version": "1.2.0",
            "_view_count": null,
            "flex_flow": null,
            "width": null,
            "min_width": null,
            "border": null,
            "align_items": null,
            "bottom": null,
            "_model_module": "@jupyter-widgets/base",
            "top": null,
            "grid_column": null,
            "overflow_y": null,
            "overflow_x": null,
            "grid_auto_flow": null,
            "grid_area": null,
            "grid_template_columns": null,
            "flex": null,
            "_model_name": "LayoutModel",
            "justify_items": null,
            "grid_row": null,
            "max_height": null,
            "align_content": null,
            "visibility": null,
            "align_self": null,
            "height": null,
            "min_height": null,
            "padding": null,
            "grid_auto_rows": null,
            "grid_gap": null,
            "max_width": null,
            "order": null,
            "_view_module_version": "1.2.0",
            "grid_template_areas": null,
            "object_position": null,
            "object_fit": null,
            "grid_auto_columns": null,
            "margin": null,
            "display": null,
            "left": null
          }
        },
        "15f8e4c384d3443283a3610eb122a871": {
          "model_module": "@jupyter-widgets/controls",
          "model_name": "ProgressStyleModel",
          "model_module_version": "1.5.0",
          "state": {
            "_view_name": "StyleView",
            "_model_name": "ProgressStyleModel",
            "description_width": "",
            "_view_module": "@jupyter-widgets/base",
            "_model_module_version": "1.5.0",
            "_view_count": null,
            "_view_module_version": "1.2.0",
            "bar_color": null,
            "_model_module": "@jupyter-widgets/controls"
          }
        },
        "f8fd6802cf3649138bea8518d791ce08": {
          "model_module": "@jupyter-widgets/base",
          "model_name": "LayoutModel",
          "model_module_version": "1.2.0",
          "state": {
            "_view_name": "LayoutView",
            "grid_template_rows": null,
            "right": null,
            "justify_content": null,
            "_view_module": "@jupyter-widgets/base",
            "overflow": null,
            "_model_module_version": "1.2.0",
            "_view_count": null,
            "flex_flow": null,
            "width": null,
            "min_width": null,
            "border": null,
            "align_items": null,
            "bottom": null,
            "_model_module": "@jupyter-widgets/base",
            "top": null,
            "grid_column": null,
            "overflow_y": null,
            "overflow_x": null,
            "grid_auto_flow": null,
            "grid_area": null,
            "grid_template_columns": null,
            "flex": null,
            "_model_name": "LayoutModel",
            "justify_items": null,
            "grid_row": null,
            "max_height": null,
            "align_content": null,
            "visibility": null,
            "align_self": null,
            "height": null,
            "min_height": null,
            "padding": null,
            "grid_auto_rows": null,
            "grid_gap": null,
            "max_width": null,
            "order": null,
            "_view_module_version": "1.2.0",
            "grid_template_areas": null,
            "object_position": null,
            "object_fit": null,
            "grid_auto_columns": null,
            "margin": null,
            "display": null,
            "left": null
          }
        },
        "04fe342bf1a54347bba1727718a78b2d": {
          "model_module": "@jupyter-widgets/controls",
          "model_name": "DescriptionStyleModel",
          "model_module_version": "1.5.0",
          "state": {
            "_view_name": "StyleView",
            "_model_name": "DescriptionStyleModel",
            "description_width": "",
            "_view_module": "@jupyter-widgets/base",
            "_model_module_version": "1.5.0",
            "_view_count": null,
            "_view_module_version": "1.2.0",
            "_model_module": "@jupyter-widgets/controls"
          }
        },
        "da70b20acdf544a4b1a52263024ea505": {
          "model_module": "@jupyter-widgets/base",
          "model_name": "LayoutModel",
          "model_module_version": "1.2.0",
          "state": {
            "_view_name": "LayoutView",
            "grid_template_rows": null,
            "right": null,
            "justify_content": null,
            "_view_module": "@jupyter-widgets/base",
            "overflow": null,
            "_model_module_version": "1.2.0",
            "_view_count": null,
            "flex_flow": null,
            "width": null,
            "min_width": null,
            "border": null,
            "align_items": null,
            "bottom": null,
            "_model_module": "@jupyter-widgets/base",
            "top": null,
            "grid_column": null,
            "overflow_y": null,
            "overflow_x": null,
            "grid_auto_flow": null,
            "grid_area": null,
            "grid_template_columns": null,
            "flex": null,
            "_model_name": "LayoutModel",
            "justify_items": null,
            "grid_row": null,
            "max_height": null,
            "align_content": null,
            "visibility": null,
            "align_self": null,
            "height": null,
            "min_height": null,
            "padding": null,
            "grid_auto_rows": null,
            "grid_gap": null,
            "max_width": null,
            "order": null,
            "_view_module_version": "1.2.0",
            "grid_template_areas": null,
            "object_position": null,
            "object_fit": null,
            "grid_auto_columns": null,
            "margin": null,
            "display": null,
            "left": null
          }
        },
        "bb8e794dcca644fa9475159072262abc": {
          "model_module": "@jupyter-widgets/controls",
          "model_name": "HBoxModel",
          "model_module_version": "1.5.0",
          "state": {
            "_view_name": "HBoxView",
            "_dom_classes": [],
            "_model_name": "HBoxModel",
            "_view_module": "@jupyter-widgets/controls",
            "_model_module_version": "1.5.0",
            "_view_count": null,
            "_view_module_version": "1.5.0",
            "box_style": "",
            "layout": "IPY_MODEL_b58dac49a0934c49ba42073a1d3a91ec",
            "_model_module": "@jupyter-widgets/controls",
            "children": [
              "IPY_MODEL_7b0b6ae0ea514267b9f4f9826546b2df",
              "IPY_MODEL_5b41a791fa524b76a691ec8d2f1059dd",
              "IPY_MODEL_49233f346b204ab9b045c87b9bd9aca1"
            ]
          }
        },
        "b58dac49a0934c49ba42073a1d3a91ec": {
          "model_module": "@jupyter-widgets/base",
          "model_name": "LayoutModel",
          "model_module_version": "1.2.0",
          "state": {
            "_view_name": "LayoutView",
            "grid_template_rows": null,
            "right": null,
            "justify_content": null,
            "_view_module": "@jupyter-widgets/base",
            "overflow": null,
            "_model_module_version": "1.2.0",
            "_view_count": null,
            "flex_flow": null,
            "width": null,
            "min_width": null,
            "border": null,
            "align_items": null,
            "bottom": null,
            "_model_module": "@jupyter-widgets/base",
            "top": null,
            "grid_column": null,
            "overflow_y": null,
            "overflow_x": null,
            "grid_auto_flow": null,
            "grid_area": null,
            "grid_template_columns": null,
            "flex": null,
            "_model_name": "LayoutModel",
            "justify_items": null,
            "grid_row": null,
            "max_height": null,
            "align_content": null,
            "visibility": null,
            "align_self": null,
            "height": null,
            "min_height": null,
            "padding": null,
            "grid_auto_rows": null,
            "grid_gap": null,
            "max_width": null,
            "order": null,
            "_view_module_version": "1.2.0",
            "grid_template_areas": null,
            "object_position": null,
            "object_fit": null,
            "grid_auto_columns": null,
            "margin": null,
            "display": null,
            "left": null
          }
        },
        "7b0b6ae0ea514267b9f4f9826546b2df": {
          "model_module": "@jupyter-widgets/controls",
          "model_name": "HTMLModel",
          "model_module_version": "1.5.0",
          "state": {
            "_view_name": "HTMLView",
            "style": "IPY_MODEL_0a2ad978baf5438288bcf889d69c5873",
            "_dom_classes": [],
            "description": "",
            "_model_name": "HTMLModel",
            "placeholder": "​",
            "_view_module": "@jupyter-widgets/controls",
            "_model_module_version": "1.5.0",
            "value": "Filling cov_data: 100%",
            "_view_count": null,
            "_view_module_version": "1.5.0",
            "description_tooltip": null,
            "_model_module": "@jupyter-widgets/controls",
            "layout": "IPY_MODEL_32c060908d9e47bda64dc6232e578f28"
          }
        },
        "5b41a791fa524b76a691ec8d2f1059dd": {
          "model_module": "@jupyter-widgets/controls",
          "model_name": "FloatProgressModel",
          "model_module_version": "1.5.0",
          "state": {
            "_view_name": "ProgressView",
            "style": "IPY_MODEL_44d1b94d574044a48baf974616f84fd5",
            "_dom_classes": [],
            "description": "",
            "_model_name": "FloatProgressModel",
            "bar_style": "",
            "max": 100,
            "_view_module": "@jupyter-widgets/controls",
            "_model_module_version": "1.5.0",
            "value": 100,
            "_view_count": null,
            "_view_module_version": "1.5.0",
            "orientation": "horizontal",
            "min": 0,
            "description_tooltip": null,
            "_model_module": "@jupyter-widgets/controls",
            "layout": "IPY_MODEL_f17b4d08049749eaa872c8c9b38ac64d"
          }
        },
        "49233f346b204ab9b045c87b9bd9aca1": {
          "model_module": "@jupyter-widgets/controls",
          "model_name": "HTMLModel",
          "model_module_version": "1.5.0",
          "state": {
            "_view_name": "HTMLView",
            "style": "IPY_MODEL_f2a8a3b8102e472cb9f6121b2428a81e",
            "_dom_classes": [],
            "description": "",
            "_model_name": "HTMLModel",
            "placeholder": "​",
            "_view_module": "@jupyter-widgets/controls",
            "_model_module_version": "1.5.0",
            "value": " 100/100 [00:23&lt;00:00,  4.25it/s]",
            "_view_count": null,
            "_view_module_version": "1.5.0",
            "description_tooltip": null,
            "_model_module": "@jupyter-widgets/controls",
            "layout": "IPY_MODEL_5501a4b0f06c49a69f36855f0c413c96"
          }
        },
        "0a2ad978baf5438288bcf889d69c5873": {
          "model_module": "@jupyter-widgets/controls",
          "model_name": "DescriptionStyleModel",
          "model_module_version": "1.5.0",
          "state": {
            "_view_name": "StyleView",
            "_model_name": "DescriptionStyleModel",
            "description_width": "",
            "_view_module": "@jupyter-widgets/base",
            "_model_module_version": "1.5.0",
            "_view_count": null,
            "_view_module_version": "1.2.0",
            "_model_module": "@jupyter-widgets/controls"
          }
        },
        "32c060908d9e47bda64dc6232e578f28": {
          "model_module": "@jupyter-widgets/base",
          "model_name": "LayoutModel",
          "model_module_version": "1.2.0",
          "state": {
            "_view_name": "LayoutView",
            "grid_template_rows": null,
            "right": null,
            "justify_content": null,
            "_view_module": "@jupyter-widgets/base",
            "overflow": null,
            "_model_module_version": "1.2.0",
            "_view_count": null,
            "flex_flow": null,
            "width": null,
            "min_width": null,
            "border": null,
            "align_items": null,
            "bottom": null,
            "_model_module": "@jupyter-widgets/base",
            "top": null,
            "grid_column": null,
            "overflow_y": null,
            "overflow_x": null,
            "grid_auto_flow": null,
            "grid_area": null,
            "grid_template_columns": null,
            "flex": null,
            "_model_name": "LayoutModel",
            "justify_items": null,
            "grid_row": null,
            "max_height": null,
            "align_content": null,
            "visibility": null,
            "align_self": null,
            "height": null,
            "min_height": null,
            "padding": null,
            "grid_auto_rows": null,
            "grid_gap": null,
            "max_width": null,
            "order": null,
            "_view_module_version": "1.2.0",
            "grid_template_areas": null,
            "object_position": null,
            "object_fit": null,
            "grid_auto_columns": null,
            "margin": null,
            "display": null,
            "left": null
          }
        },
        "44d1b94d574044a48baf974616f84fd5": {
          "model_module": "@jupyter-widgets/controls",
          "model_name": "ProgressStyleModel",
          "model_module_version": "1.5.0",
          "state": {
            "_view_name": "StyleView",
            "_model_name": "ProgressStyleModel",
            "description_width": "",
            "_view_module": "@jupyter-widgets/base",
            "_model_module_version": "1.5.0",
            "_view_count": null,
            "_view_module_version": "1.2.0",
            "bar_color": null,
            "_model_module": "@jupyter-widgets/controls"
          }
        },
        "f17b4d08049749eaa872c8c9b38ac64d": {
          "model_module": "@jupyter-widgets/base",
          "model_name": "LayoutModel",
          "model_module_version": "1.2.0",
          "state": {
            "_view_name": "LayoutView",
            "grid_template_rows": null,
            "right": null,
            "justify_content": null,
            "_view_module": "@jupyter-widgets/base",
            "overflow": null,
            "_model_module_version": "1.2.0",
            "_view_count": null,
            "flex_flow": null,
            "width": null,
            "min_width": null,
            "border": null,
            "align_items": null,
            "bottom": null,
            "_model_module": "@jupyter-widgets/base",
            "top": null,
            "grid_column": null,
            "overflow_y": null,
            "overflow_x": null,
            "grid_auto_flow": null,
            "grid_area": null,
            "grid_template_columns": null,
            "flex": null,
            "_model_name": "LayoutModel",
            "justify_items": null,
            "grid_row": null,
            "max_height": null,
            "align_content": null,
            "visibility": null,
            "align_self": null,
            "height": null,
            "min_height": null,
            "padding": null,
            "grid_auto_rows": null,
            "grid_gap": null,
            "max_width": null,
            "order": null,
            "_view_module_version": "1.2.0",
            "grid_template_areas": null,
            "object_position": null,
            "object_fit": null,
            "grid_auto_columns": null,
            "margin": null,
            "display": null,
            "left": null
          }
        },
        "f2a8a3b8102e472cb9f6121b2428a81e": {
          "model_module": "@jupyter-widgets/controls",
          "model_name": "DescriptionStyleModel",
          "model_module_version": "1.5.0",
          "state": {
            "_view_name": "StyleView",
            "_model_name": "DescriptionStyleModel",
            "description_width": "",
            "_view_module": "@jupyter-widgets/base",
            "_model_module_version": "1.5.0",
            "_view_count": null,
            "_view_module_version": "1.2.0",
            "_model_module": "@jupyter-widgets/controls"
          }
        },
        "5501a4b0f06c49a69f36855f0c413c96": {
          "model_module": "@jupyter-widgets/base",
          "model_name": "LayoutModel",
          "model_module_version": "1.2.0",
          "state": {
            "_view_name": "LayoutView",
            "grid_template_rows": null,
            "right": null,
            "justify_content": null,
            "_view_module": "@jupyter-widgets/base",
            "overflow": null,
            "_model_module_version": "1.2.0",
            "_view_count": null,
            "flex_flow": null,
            "width": null,
            "min_width": null,
            "border": null,
            "align_items": null,
            "bottom": null,
            "_model_module": "@jupyter-widgets/base",
            "top": null,
            "grid_column": null,
            "overflow_y": null,
            "overflow_x": null,
            "grid_auto_flow": null,
            "grid_area": null,
            "grid_template_columns": null,
            "flex": null,
            "_model_name": "LayoutModel",
            "justify_items": null,
            "grid_row": null,
            "max_height": null,
            "align_content": null,
            "visibility": null,
            "align_self": null,
            "height": null,
            "min_height": null,
            "padding": null,
            "grid_auto_rows": null,
            "grid_gap": null,
            "max_width": null,
            "order": null,
            "_view_module_version": "1.2.0",
            "grid_template_areas": null,
            "object_position": null,
            "object_fit": null,
            "grid_auto_columns": null,
            "margin": null,
            "display": null,
            "left": null
          }
        }
      }
    }
  },
  "cells": [
    {
      "cell_type": "markdown",
      "metadata": {
        "id": "view-in-github",
        "colab_type": "text"
      },
      "source": [
        "<a href=\"https://colab.research.google.com/github/pipeton8/6.439-stats-comp-applications/blob/main/Assignments/5%20-%20Environmental/6.439%20-%20Problem%20Set%205.ipynb\" target=\"_parent\"><img src=\"https://colab.research.google.com/assets/colab-badge.svg\" alt=\"Open In Colab\"/></a>"
      ]
    },
    {
      "cell_type": "markdown",
      "metadata": {
        "id": "zQZiu5Rr0ywL"
      },
      "source": [
        "# Problem Set 5 - Statistics, Computation and Applications\n",
        "\n",
        "(c) Felipe del Canto, November 2021\n",
        "\n",
        "(c) Data from [MSEAS](http://mseas.mit.edu) at MIT.\n",
        "***\n",
        "***"
      ]
    },
    {
      "cell_type": "markdown",
      "metadata": {
        "id": "LpSk2ccJi4kO"
      },
      "source": [
        "# Part 0 (Execute first!)"
      ]
    },
    {
      "cell_type": "code",
      "metadata": {
        "id": "HGVQocLRUU7p"
      },
      "source": [
        "from IPython.display import clear_output\n",
        "\n",
        "# Download files\n",
        "!wget https://github.com/pipeton8/6.439-stats-comp-applications/raw/main/Assignments/databases/PS5_data.zip\n",
        "!wget https://github.com/pipeton8/6.439-stats-comp-applications/raw/main/Assignments/databases/PS5_data.z01\n",
        "!wget https://github.com/pipeton8/6.439-stats-comp-applications/raw/main/Assignments/databases/PS5_data.z02\n",
        "!wget https://github.com/pipeton8/6.439-stats-comp-applications/raw/main/Assignments/databases/PS5_data.z03\n",
        "!wget https://github.com/pipeton8/6.439-stats-comp-applications/raw/main/Assignments/databases/PS5_data.z04\n",
        "!wget https://github.com/pipeton8/6.439-stats-comp-applications/raw/main/Assignments/databases/PS5_data.z05\n",
        "!wget https://github.com/pipeton8/6.439-stats-comp-applications/raw/main/Assignments/databases/PS5_data.z06\n",
        "!wget https://github.com/pipeton8/6.439-stats-comp-applications/raw/main/Assignments/databases/PS5_data.z07\n",
        "\n",
        "# Unzip\n",
        "!zip -F PS5_data.zip -O PS5_data_combined.zip\n",
        "!unzip -o PS5_data_combined.zip -d PS5_data\n",
        "!rm *.z* -r __MACOSX PS5_data/__MACOSX\n",
        "\n",
        "# Clear output\n",
        "clear_output()\n",
        "\n",
        "# Import packages\n",
        "import numpy as np\n",
        "\n",
        "import seaborn as sns\n",
        "import matplotlib.pyplot as plt\n",
        "\n",
        "from tqdm.auto import tqdm\n",
        "\n",
        "# Data path\n",
        "data_path = \"PS5_data/\""
      ],
      "execution_count": 2,
      "outputs": []
    },
    {
      "cell_type": "markdown",
      "metadata": {
        "id": "-4ZmdRN7LpGP"
      },
      "source": [
        "## Functions"
      ]
    },
    {
      "cell_type": "code",
      "metadata": {
        "id": "zXC1F0UgLqd0"
      },
      "source": [
        "def load(filename, file_path = data_path):\n",
        "  return np.genfromtxt(file_path+filename, delimiter=\",\")"
      ],
      "execution_count": 3,
      "outputs": []
    },
    {
      "cell_type": "code",
      "metadata": {
        "id": "EcVHQuDpgNYJ"
      },
      "source": [
        "def compute_flow_cov(data_type, init_coord, max_distance, out_type = 'corr'):\n",
        "  \"\"\" \n",
        "  Given the 2-tuple `init_coord` (x,y) and maximum distance `max_distance`, compute the\n",
        "  covariance of `data_type` between point at coordinates `coord` and points within `max_distance`\n",
        "  of it (distance is computed using L1-distance). Argument `data_type` can be 'u'\n",
        "  for horizontal flow, 'v' for vertical flow, or 's' for speed.\n",
        "\n",
        "  Argument `out_type` can be 'cov' for returning covariance and 'corr' for returning\n",
        "  correlation.\n",
        "\n",
        "  Warning: If `max_distace` is greater than the maximum allowed for `init_coord` and\n",
        "  the data shape, then it is automatically shrinked to the smallest value that\n",
        "  returns a square covariance matrix.\n",
        "  \"\"\"\n",
        "\n",
        "  # Obtain coordinates\n",
        "  x, y = init_coord\n",
        "\n",
        "  # Obtain data (stack of data type for all times t)\n",
        "  # shape of data is (max_y, max_x, T)\n",
        "  data = obtain_cov_data(data_type=data_type)\n",
        "\n",
        "  # If distance is more than allowed, shrink to fit\n",
        "  max_x = data.shape[1] - 1\n",
        "  max_y = data.shape[0] - 1\n",
        "\n",
        "  max_distance = min([max_distance, max_x - x, x])\n",
        "  max_distance = min([max_distance, max_y - y, y])\n",
        "\n",
        "  # Compute covariance\n",
        "  init_coord_values = data[x,y,:]\n",
        "\n",
        "  E_xy = np.mean(data*init_coord, axis=2)\n",
        "  E_x  = np.mean(data, axis=2)\n",
        "  E_y  = np.mean(init_coord_values)\n",
        "\n",
        "  cov = E_xy - E_x * E_y\n",
        "\n",
        "  if out_type == 'cov':\n",
        "    return cov\n",
        "\n",
        "  elif out_type == 'corr':\n",
        "    # Compute variance and SD of data\n",
        "    variance = np.mean(data**2,axis=2) - np.mean(data,axis=2)**2\n",
        "    sd = np.sqrt(variance)\n",
        "\n",
        "    # Compute variance and SD of init_coord_values\n",
        "    variance_init_coord = np.mean(init_coord_values ** 2) - np.mean(init_coord_values)**2\n",
        "    sd_init_coord = np.sqrt(variance_init_coord)\n",
        "\n",
        "    # return correlation\n",
        "    return cov / (sd * sd_init_coord)\n",
        "  \n",
        "  else:\n",
        "    raise ValueError(\"out_type must be 'cov' or 'corr'.\")\n",
        "\n",
        "\n",
        "def obtain_cov_data(data_type):\n",
        "  \"\"\"\n",
        "  Given `data_type`, returns array with size (max_y, max_x, T), where max_x and\n",
        "  max_y are the number of columns and rows (respectively) of each file in \n",
        "  PS5_data, and T is the total number of measurements (in this case T = 100).\n",
        "\n",
        "  The returned array has values in cmps units.\n",
        "  \"\"\"\n",
        "\n",
        "  # Parameters\n",
        "  T = 100\n",
        "\n",
        "  # If asked for speed data, recursively obtain horizontal and vertical flows\n",
        "  # and compute speed\n",
        "  if data_type == 's':\n",
        "    u_data = obtain_cov_data('u')\n",
        "    v_data = obtain_cov_data('v')\n",
        "\n",
        "    cov_data = np.sqrt(u_data**2 + v_data**2)\n",
        "\n",
        "    return cov_data\n",
        "\n",
        "  # Obtain shape\n",
        "  max_y, max_x = np.shape(load('1'+data_type+'.csv'))\n",
        "  return_shape = (max_y, max_x, T)\n",
        "\n",
        "  # Initialize matrix to return \n",
        "  cov_data = np.zeros(return_shape)\n",
        "\n",
        "  # Fill return matrix\n",
        "  for t in tqdm(range(T), desc=\"Filling cov_data\", leave=False):\n",
        "    cov_data[:,:,t] = load(f'{t+1}{data_type}.csv')\n",
        "  \n",
        "  # Return with unit correction\n",
        "  return cov_data * 25/0.9\n"
      ],
      "execution_count": 4,
      "outputs": []
    },
    {
      "cell_type": "markdown",
      "metadata": {
        "id": "0I06u2dqVYeY"
      },
      "source": [
        "# Problem 5.1: Flows and corelations"
      ]
    },
    {
      "cell_type": "markdown",
      "metadata": {
        "id": "n_yOauTkJQzE"
      },
      "source": [
        "## (a) and (b)"
      ]
    },
    {
      "cell_type": "markdown",
      "metadata": {
        "id": "sUXeqz_rSfjb"
      },
      "source": [
        "The first step is to compute the average flow over time. In all matrices, the index (0,0) corresponds to the **bottom left** of each plot. Additionally, all values of each matrix are multiplied by $\\frac{25}{0.9}$ for them to be in cm/second (cmps) units.\n",
        "\n",
        "In order to gain a better sense of the strength of the currents, two different average speeds are computed. First, the average of all speed values over time. In other words, the speed is computed *before* averaging. Second, the speed of the average flow. This is, compute the speed *after* averaging the flow vectors."
      ]
    },
    {
      "cell_type": "code",
      "metadata": {
        "colab": {
          "base_uri": "https://localhost:8080/",
          "height": 49,
          "referenced_widgets": [
            "1e497643739f4c95aea8373da5591dc0",
            "f2130113d1e24d06a25919d2cc83940e",
            "417c7095f65c40d797b1a299596ed60b",
            "47637377569e46a69c3b71c7d448424f",
            "71bc4729c7c94e2392ba3f9bb5c16c7e",
            "35bbe52f2b7d4532884dbd7d8cdc6a06",
            "bbf52bb1f1d64507a4567cacc6662986",
            "15f8e4c384d3443283a3610eb122a871",
            "f8fd6802cf3649138bea8518d791ce08",
            "04fe342bf1a54347bba1727718a78b2d",
            "da70b20acdf544a4b1a52263024ea505"
          ]
        },
        "id": "1YZi4L8HSfPT",
        "outputId": "a7a5b541-48b1-4d6d-8c42-c64bef0149f2"
      },
      "source": [
        "# Parameters\n",
        "max_T = 100\n",
        "max_x = 555\n",
        "max_y = 504\n",
        "\n",
        "# Initialize average values\n",
        "u_average = np.zeros((max_y, max_x))\n",
        "v_average = np.zeros((max_y, max_x))\n",
        "\n",
        "# Average speed\n",
        "speed_average = np.zeros((max_y, max_x))\n",
        "\n",
        "for t in tqdm(range(1, max_T+1)):\n",
        "  # Load flow data for time t\n",
        "  new_u, new_v = load(f'{t}u.csv'), load(f'{t}v.csv')\n",
        "\n",
        "  # Convert to cmps\n",
        "  new_u *= 25/0.9\n",
        "  new_v *= 25/0.9\n",
        "\n",
        "  # Update averages\n",
        "  u_average += (1/max_T) * new_u\n",
        "  v_average += (1/max_T) * new_v\n",
        "\n",
        "  # Update speeds\n",
        "  speed_average += (1/max_T) * np.sqrt(new_u**2 + new_v**2)\n",
        "\n",
        "# Compute speeds\n",
        "speed_of_average = np.sqrt(u_average**2 + v_average**2)\n",
        "\n",
        "# Load mask for land plotting\n",
        "mask = load(\"mask.csv\")"
      ],
      "execution_count": 5,
      "outputs": [
        {
          "output_type": "display_data",
          "data": {
            "application/vnd.jupyter.widget-view+json": {
              "model_id": "1e497643739f4c95aea8373da5591dc0",
              "version_minor": 0,
              "version_major": 2
            },
            "text/plain": [
              "  0%|          | 0/100 [00:00<?, ?it/s]"
            ]
          },
          "metadata": {}
        }
      ]
    },
    {
      "cell_type": "markdown",
      "metadata": {
        "id": "gPj4kUqKOD57"
      },
      "source": [
        "The image below shows some of the vectors than comprise the 2-D vector field of currents. The speed of the average flow (the second one in the paragraph above) is represented by the color of the arrows, according to the color bar at the right. \n",
        "\n",
        "The fastest flow is present running from east to west on the southern end of the Archipielago (around 300 km east of the initial coordinate). There is also a strong current around the islands to the southwest (around 100 km north of the initial coordinate) Other important flows run on the east, mostly going south. There are lesser important but prevalent currents running almost in circular patterns at the center and the west and at the center-north, on the east."
      ]
    },
    {
      "cell_type": "code",
      "metadata": {
        "colab": {
          "base_uri": "https://localhost:8080/",
          "height": 283
        },
        "id": "IeDWRr2dLFFP",
        "outputId": "09c751d3-427b-4791-c874-cf517d9e4ee9"
      },
      "source": [
        "# Arrow positions\n",
        "arrows_every = 20\n",
        "x = [arrows_every * k for k in range(max_x//arrows_every)]\n",
        "y = [arrows_every * k for k in range(max_y//arrows_every)]\n",
        "\n",
        "# Initialize figure\n",
        "fig, ax = plt.subplots()\n",
        "\n",
        "# Obtain land coloration\n",
        "land = np.zeros((max_y,max_x,4))\n",
        "land[mask == 0] = [0.89, 0.60, 0.41, 1.]\t\n",
        "\n",
        "# Draw quiver\n",
        "plt.quiver(x,y,u_average[y][:,x],v_average[y][:,x], speed_of_average[y][:,x])\n",
        "\n",
        "# Draw map\n",
        "plt.imshow(np.flip(land,0))\n",
        "plt.gca().invert_yaxis()\n",
        "\n",
        "# Show and edit colorbar\n",
        "cbar = plt.colorbar(ax=ax, ticks=[9*k for k in range(8)])\n",
        "cbar.set_label(\"Flow speed\")\n",
        "plt.clim(0,63)\n",
        "\n",
        "# Set axis ticks and labels\n",
        "ax.set_xlabel(\"km\")\n",
        "ax.set_xticks([110*k for k in range(6)])\n",
        "\n",
        "ax.set_ylabel(\"km\")\n",
        "\n",
        "\n",
        "# Show image\n",
        "plt.show()"
      ],
      "execution_count": 6,
      "outputs": [
        {
          "output_type": "display_data",
          "data": {
            "image/png": "[encoded data removed]",
            "text/plain": [
              "<Figure size 432x288 with 2 Axes>"
            ]
          },
          "metadata": {
            "needs_background": "light"
          }
        }
      ]
    },
    {
      "cell_type": "markdown",
      "metadata": {
        "id": "TYw_TWJWP9_K"
      },
      "source": [
        "The figure below shows the average speed (the first one in the paragraph that introduced this subsection). The patters shown in the previous picture still hold. The most strong currents are present n the southern part of the Archipielago, and in the islands at the south west (around 100 km to the north of the initial coordinates)"
      ]
    },
    {
      "cell_type": "code",
      "metadata": {
        "colab": {
          "base_uri": "https://localhost:8080/",
          "height": 283
        },
        "id": "T4bdko4JMBWK",
        "outputId": "e86e4e77-ace4-40ab-f235-a9954580bf4b"
      },
      "source": [
        "# Initialize figure\n",
        "fig, ax = plt.subplots()\n",
        "\n",
        "# Obtain land coloration\n",
        "land = np.zeros((max_y,max_x,4))\n",
        "land[mask == 0] = [0.89, 0.60, 0.41, 1.]\n",
        "\n",
        "# Draw matrix\n",
        "plt.imshow(speed_average, cmap='viridis')\n",
        "\n",
        "# Draw map on top of matrix\n",
        "plt.imshow(np.flip(land,0))\n",
        "plt.gca().invert_yaxis()\n",
        "\n",
        "# Show and edit colorbar\n",
        "cbar = plt.colorbar(ax=ax, ticks=[15*k for k in range(6)])\n",
        "cbar.set_label(\"Flow speed\")\n",
        "plt.clim(0,75)\n",
        "\n",
        "# Set axis ticks and labels\n",
        "ax.set_xlabel(\"km\")\n",
        "ax.set_xticks([110*k for k in range(6)])\n",
        "\n",
        "ax.set_ylabel(\"km\")\n",
        "\n",
        "# Show image\n",
        "plt.show()"
      ],
      "execution_count": 7,
      "outputs": [
        {
          "output_type": "display_data",
          "data": {
            "image/png": "[encoded data removed]",
            "text/plain": [
              "<Figure size 432x288 with 2 Axes>"
            ]
          },
          "metadata": {
            "needs_background": "light"
          }
        }
      ]
    },
    {
      "cell_type": "markdown",
      "metadata": {
        "id": "KV2K-xwvVqC8"
      },
      "source": [
        "## (c)"
      ]
    },
    {
      "cell_type": "code",
      "metadata": {
        "colab": {
          "base_uri": "https://localhost:8080/",
          "height": 17,
          "referenced_widgets": [
            "bb8e794dcca644fa9475159072262abc",
            "b58dac49a0934c49ba42073a1d3a91ec",
            "7b0b6ae0ea514267b9f4f9826546b2df",
            "5b41a791fa524b76a691ec8d2f1059dd",
            "49233f346b204ab9b045c87b9bd9aca1",
            "0a2ad978baf5438288bcf889d69c5873",
            "32c060908d9e47bda64dc6232e578f28",
            "44d1b94d574044a48baf974616f84fd5",
            "f17b4d08049749eaa872c8c9b38ac64d",
            "f2a8a3b8102e472cb9f6121b2428a81e",
            "5501a4b0f06c49a69f36855f0c413c96"
          ]
        },
        "id": "-DdyVVJ1Vpme",
        "outputId": "16a3a4ca-9bdf-4c58-86b0-ffd504a838b0"
      },
      "source": [
        "# Parameters\n",
        "x_1, y_1 = 140, 115\n",
        "x_2, y_2 = 400, 400\n",
        "max_distance = 100\n",
        "\n",
        "# Compute correlations\n",
        "corr_u = compute_flow_cov(data_type= 'u', init_coord=(x_1,y_1), max_distance=100)\n"
      ],
      "execution_count": 8,
      "outputs": [
        {
          "output_type": "display_data",
          "data": {
            "application/vnd.jupyter.widget-view+json": {
              "model_id": "bb8e794dcca644fa9475159072262abc",
              "version_minor": 0,
              "version_major": 2
            },
            "text/plain": [
              "Filling cov_data:   0%|          | 0/100 [00:00<?, ?it/s]"
            ]
          },
          "metadata": {}
        }
      ]
    },
    {
      "cell_type": "markdown",
      "metadata": {
        "id": "SBItCsUISisa"
      },
      "source": [
        "# Problem 5.2: Predicting trajectories."
      ]
    }
  ]
}