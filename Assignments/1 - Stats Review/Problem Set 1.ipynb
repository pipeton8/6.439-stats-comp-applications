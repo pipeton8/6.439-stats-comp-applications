{
  "nbformat": 4,
  "nbformat_minor": 0,
  "metadata": {
    "colab": {
      "name": "Problem Set 1.ipynb",
      "provenance": [],
      "authorship_tag": "ABX9TyM43erqNx0JMEZnDN0PVYzq",
      "include_colab_link": true
    },
    "kernelspec": {
      "name": "python3",
      "display_name": "Python 3"
    },
    "language_info": {
      "name": "python"
    }
  },
  "cells": [
    {
      "cell_type": "markdown",
      "metadata": {
        "id": "view-in-github",
        "colab_type": "text"
      },
      "source": [
        "<a href=\"https://colab.research.google.com/github/pipeton8/6.439-stats-comp-applications/blob/main/Assignments/1%20-%20Stats%20Review/Problem%20Set%201.ipynb\" target=\"_parent\"><img src=\"https://colab.research.google.com/assets/colab-badge.svg\" alt=\"Open In Colab\"/></a>"
      ]
    },
    {
      "cell_type": "markdown",
      "metadata": {
        "id": "XRNx3Fj6HleX"
      },
      "source": [
        "# Problem Set 1 - Statistics, Computation and Applications\n",
        "\n",
        "(c) Felipe del Canto, September 2021\n",
        "***\n",
        "***"
      ]
    },
    {
      "cell_type": "markdown",
      "metadata": {
        "id": "CSH1kzReJ7nz"
      },
      "source": [
        "# Part 1\n",
        "***"
      ]
    },
    {
      "cell_type": "markdown",
      "metadata": {
        "id": "KzxTDcWNIcvo"
      },
      "source": [
        "## **Problem 1.1:** The Salk Vaccine Field Trial\n",
        "The first polio epidemic hit the United States in 1916. By the 1950s several vaccines against the disease had been discovered. The one developed by Jonas Salk seemed the most promising in laboratory trials. By 1954, the National Foundation for Infantile Paralysis (NFIP) was ready to try the vaccine in the real world. They ran a controlled experiment to analyze the effectiveness of the vaccine. The data is shown in the table below (grade refers to the educational stage):\n",
        "\n",
        "<table>\n",
        "  <caption> Table 1: NFIP study results.\n",
        "\n",
        "|| Size | Polio rate per 100,000\n",
        "|---|:---:|:---:|\n",
        "|Grade 2 (vaccine) | 225,000 | 25 |\n",
        "|Grades 1 and 3 (no vaccine) | 725,000 | 54\n",
        "|Grade 2 (no consent) | 125,000 | 44 |\n",
        "<br>\n",
        "\n",
        "</table>\n",
        "\n",
        "The experiment was later repeated as a randomized controlled double-blind experiment. This data is shown in the second table below:\n",
        "\n",
        "<table>\n",
        "  <caption> Table 2: Follow-up study results.\n",
        "\n",
        "| | Size | Polio rate per 100,000 |\n",
        "|---|:---:|:---:|\n",
        "|Treatment (vaccine) | 200,000 | 28 |\n",
        "|Control (salt injection) | 200,000 | 71 |\n",
        "|No consent | 350,000 | 46 |\n",
        "<br>"
      ]
    },
    {
      "cell_type": "markdown",
      "metadata": {
        "id": "uzwMXcgAkjaA"
      },
      "source": [
        "##### (a) Describe each of the two studies (e.g., their design) and comment on the differences between them. For each study, explain whether it helps measure what was intended to be estimated."
      ]
    },
    {
      "cell_type": "markdown",
      "metadata": {
        "id": "XIWfIqMTlf8P"
      },
      "source": [
        "<font size=\"2\" color=\"#03bafc\"> \n",
        "The NFIP study was not randomized: all students in grades 1 and 3 did not get the vaccine, while the 2nd graders did. In that sense, the study was not blinded, as both treatment and control groups knew their assignment prior to treatment. Usign this design, it is impossible to detect to a greater level of cofidence the effects of the vaccine. At least two sources of bias can be identified for this design:\n",
        " <ol type=\"1\">\n",
        "    <li> Students in 2nd grade are no necessarily comparable to younger or older students, even from the same school. Differences can be related to exposure to the virus but also to other confounders like gender distribution, parents age and education, amonng other. This could imply these students have different chances of getting polio, regardless the vaccine, which will bias the results. In fact, comparing groups from grades 1 and 3, with those from the no consent group, can lead us to conclude these groups are not similar.\n",
        "    </li><br>\n",
        "    <li> Being polio an infectous disease, peer effects can be substantial in confounding the effects of the vaccine. This implies that students from second grade that did not consent to the vaccine got protected by their schoolmates by a weaker version of herd immunity. This could also affect the rates of polio of 1st and 3rd graders if these students are continously sharing spaces at school. This could also be important if students from the control and treatment groups both belong to the same school.\n",
        "    </li>\n",
        " </ol>\n",
        "\n",
        "On the contrary, the follow-up experiment was double-blinded and randomized. In this case, each student was randomly assigned to a treatment group (and got the vaccine) or a control group (and got a placebo). Observational data was obtained from those students that did not consent to participate (the <i>No consent</i> group). A design like this one is better suited to estimate the effects of the vaccine, as potential confounders are now (in average) equal between both groups. However, the second source of bias is not completely eliminated if treatment is not randomized at school level. That is, if within the same school there are children that belong to both treatment and control groups, then the vaccine effect is biased downwards (i.e. a lower bound of its efficacy is estimated) due to peer effects. In that case, vaccinated children indirectly protect those that only receive a salt injection.\n",
        "</font>\n"
      ]
    },
    {
      "cell_type": "markdown",
      "metadata": {
        "id": "IeSMEpRXlG-I"
      },
      "source": [
        "  \n",
        "##### (b) Which numbers show the effectiveness of the vaccine? Explain why."
      ]
    },
    {
      "cell_type": "markdown",
      "metadata": {
        "id": "Muobjb4nl4BH"
      },
      "source": [
        "<font size=\"2\" color=\"#03bafc\">\n",
        "The numbers capable of showing the effectiveness of the vaccine are those in Table 2. However, which of these actually allow to test the hypothesis depends on how the experiment was designed. If the randomization occured after asking for consent to participate, then we would like to comparethe rates of polio between treatment and control groups. The caveat is that the sample that consented participating in the study may have selected on particular characteristics, that could bias the results in two possible ways:\n",
        "<ol type=\"1\"> <font size=\"2\" color=\"#03bafc\">\n",
        "    <li> If those that consented are people that could potentially benefit more from the vaccine (e.g. a family with previous close cases of polio) then the effect would be larger (biased upwards) than in absence of selection.\n",
        "    </li><br>\n",
        "    <li> If those that consented benefit less from the vaccine (e.g. more educated people, that have generally better hygiene and less risk of infection), then the effect would be smaller (biased downwards) than if absence of selection.\n",
        "    </li>\n",
        "</font> </ol>\n",
        "\n",
        "<font size=\"2\" color=\"#03bafc\">\n",
        "On the other hand, if randomization occured before asking for consent, then we would need to compare the original groups, that is, we would need to separate the <i>No consent</i> group into those assigned to the treatment and those assigned to the control group. However, if the randomization was correctly realized in the first place, then the people from each group that did not consent should be (in average) similar. In particular, the amount of people from the <i>No consent</i> group that belong to the treatment group should be similar to the amount of people that belong to the control group. Moreover, the two possible biases presented above should be distributed equally in the <i>No consent</i> group, making the comparison between the first two rows of Table 2 closer to the effectiveness of the vaccine.\n",
        "\n",
        "Note, however, that since polio is infectious, then if randomization did not occur at school level, then the results will be biased downwards. This, following the previous argument that students in the control group are indirectly protected by their vaccinated counterparts. \n",
        "</font>\n"
      ]
    },
    {
      "cell_type": "markdown",
      "metadata": {
        "id": "88zGwZ5DlJgS"
      },
      "source": [
        "##### (c) In the two studies neither the control groups nor the no-consent groups got the vaccine. Yet the no-consent groups had a lower rate of polio. What could be some of the underlying reasons?"
      ]
    },
    {
      "cell_type": "markdown",
      "metadata": {
        "id": "A2Jx_89Bl5jC"
      },
      "source": [
        "<font size=\"2\" color=\"#03bafc\">\n",
        "As discussed in the preivous question, there are at least two reasons that could explain this lower polio rate. \n",
        "<ol type=\"1\"> <font size=\"2\" color=\"#03bafc\">\n",
        "  <li> It could be the case that the group of people that did not consent to participate where those who felt less at risk from contracting polio, because they did not have close events of contagion. This can happen if these people live in better conditions, with more access to clean water and food and in cleaner, more hygienic neighborhoods. These conditions would make them less prone to being infected by the virus.\n",
        "  </li><br>\n",
        "\n",
        "  <li> Another option I also discussed before is that a less intesive form of herd immunity is working behind these results. This is particularly true for the first study, where children that did not consent to get a vaccine where indirectly protected by their schoolmates that did get a shot. This effect in fact could happen, at a lower scale, for the 1st and 3rd graders in the NFIP study. For the follow-up experiment, this effect may still be tampering the results, although at a much smaller scale. This, given that randomization should distribute the <i>No consent</i> individuals evenly among the treatment and control groups.\n",
        "  </li>\n",
        "</ol>\n",
        "</font>"
      ]
    },
    {
      "cell_type": "markdown",
      "metadata": {
        "id": "gPYFb_DVlN2p"
      },
      "source": [
        "##### (d) Polio is an infectious disease. The NFIP study was not done blind. Could this bias the results? If yes, to what extent?\n",
        "\n"
      ]
    },
    {
      "cell_type": "markdown",
      "metadata": {
        "id": "rj0_A051l7Xy"
      },
      "source": [
        "<font size=\"2\" color=\"#03bafc\"> As discussed earlier, the infectiousness of the disease can alter the results in general. However, regarding the blindness of the study, there could be behavioral changes in the subjects in at least two ways:\n",
        "<ol type=\"1\"> <font size=\"2\" color=\"#03bafc\">\n",
        "  <li> Vaccinated children (or their families or teachers) could lower the safety measures against the virus, expecting the vaccine to work. This can imply a higher probability of contracting the virus. \n",
        "  </li> <br>\n",
        "  \n",
        "  <li> On the other hand, unvaccinated children (or their families or teachers) participating in the study could be more aware of the risks of polio just by being part of the experiment. This could decrease their chances of getting polio. \n",
        "  </li>\n",
        "</ol> \n",
        "\n",
        "<font size=\"2\" color=\"#03bafc\"> Overall, this two effects bias the results because treatment and control groups are no longer comparable. In fact, if the two hypotheses above are true, then the estimated effectiveness of the vaccine is a lower bound on the real effect.\n",
        "\n",
        "<font size=\"2\" color=\"#03bafc\"> Nevertheless, it is arguable to which extent these effects are present in the study, particularly the first. Since only the children are getting vaccinated, the rest of the members of the family must continue their safety measures for their own protection. For example, if the vaccinated children has a sibling in 1st or 3rd grade, or if there is an elderly relative in the house. In class, there are 2nd graders that did not get the vaccine because they did not consent to participate in the study. For this reason, it is unlikely that teachers would lower the protective measures towards these children just because their schoolmates are vaccinated.\n",
        "</font>"
      ]
    },
    {
      "cell_type": "markdown",
      "metadata": {
        "id": "ipgCdl_WlTTe"
      },
      "source": [
        "##### (e) In the randomized controlled trial the children whose parents refused to participate in the trial got polio at the rate of 46 per 100,000. On the other hand, the children whose parents consented to participate got polio at a slighter higher rate of 49 per 100,000 (treatment group and control group taken together). On the basis of these numbers, in the following year some parents refused to allow their children to participate in the experiment and be exposed to this higher risk of polio. Were they right? And why so? Please explain your reasoning process."
      ]
    },
    {
      "cell_type": "markdown",
      "metadata": {
        "id": "xhOAyeQQl9FW"
      },
      "source": [
        "<font size=\"2\" color=\"#03bafc\"> There are two possible arguments to make here.\n",
        "\n",
        "<font size=\"2\" color=\"#03bafc\"> At first glance, it might be the case that the average rate of polio for children that participate in the study is lower than the ones that do not. That is, is possible that the rates obtained in the study correctly reflect the underlying distribution of polio rates between these two groups. In that case, the parents would be right to not allow their children to be part of the study.\n",
        "\n",
        "<font size=\"2\" color=\"#03bafc\"> However, the previous argument relays in two assumptions that will possibly not hold in a second RCT. First, those rates where obtained in a situation where parents made their decisions without previous knowledge of results from a similar design experiment. Hence, their selection into consenting or not consenting to participate is driven by a different set of characteristics that for this second time. Second, and most importantly, the previous discussion suggested that the lower rate of contagion for students in the <i>No consent</i> group could be driven by an indirect protection from their schoolmates. This, in particular, depends on people consenting to participate. Otherwise, the expected rates of contagion could be as high as the ones obtained for the control group.\n",
        "\n",
        "<font size=\"2\" color=\"#03bafc\">  What is more, the herd immunity effect alone could explain the similarities between the two rates. Consider the null hypothesis $H_0 : rate_{\\text{Consent}} = rate_{\\text{No consent}}$ against the alternative $H_A : rate_{\\text{Consent}} > rate_{\\text{No consent}}$ and the statistic $T$ reflecting the number of contagions in the <i>Consent</i> group. Then the probability of observing this number is\n",
        "\n",
        "<font size=\"2\" color=\"#03bafc\"> $$ \\mathbb{P}_{H_0}(T = 198) = \\frac{{400,000\\choose 198}{350000\\choose 161}}{{750,000\\choose 359}} = 0.033$$\n",
        "\n",
        "with a $p$-value of 0.77. Hence, the null hypothesis is not rejected and the rates of contagion between the two groups are considered statistically equal. This implies the parents of the children that did not consent were not correct. \n",
        "</font>\n"
      ]
    },
    {
      "cell_type": "markdown",
      "metadata": {
        "id": "X2X10UDiJ_AS"
      },
      "source": [
        "## **Problem 1.2:** NASA Compton Gamma Ray Observatory Data (source: Rice, Ch.8)\n",
        "\n",
        "The file `gamma-ray` contains a small quantity of data collected from the Compton Gamma Ray Observatory, a satellite launched by NASA in 1991 [http://cossc.gsfc.nasa.gov/](http://cossc.gsfc.nasa.gov/). For each of 100 sequential time intervals of variable lengths (given in seconds), the number of gamma rays originating in a particular area of the sky was recorded. You would like to check the assumption that the emission rate is constant."
      ]
    },
    {
      "cell_type": "code",
      "metadata": {
        "id": "5rz7Jdu7-eqJ"
      },
      "source": [
        "from IPython.display import clear_output\n",
        "\n",
        "!wget https://github.com/pipeton8/6.439-stats-comp-applications/raw/main/Assignments/databases/PS1_data.zip -O \"PS1_data.zip\"\n",
        "!unzip -o PS1_data.zip\n",
        "!rm PS1_data.zip\n",
        "clear_output()"
      ],
      "execution_count": 57,
      "outputs": []
    },
    {
      "cell_type": "code",
      "metadata": {
        "id": "vkgcz5bbAjAh"
      },
      "source": [
        "import pandas as pd\n",
        "import numpy as np\n",
        "import plotly.graph_objects as go\n",
        "\n",
        "g_rayData = pd.read_csv('PS1_data/gamma-ray.csv')"
      ],
      "execution_count": 58,
      "outputs": []
    },
    {
      "cell_type": "markdown",
      "metadata": {
        "id": "ghrVp3IZnSMv"
      },
      "source": [
        "##### (a) What is a good model for such data?\n"
      ]
    },
    {
      "cell_type": "markdown",
      "metadata": {
        "id": "boXaQcNqnbtL"
      },
      "source": [
        "<font size=\"2\" color=\"#03bafc\"> The time between the emission could come from an exponential distribution. Specifically, if $t_i$ is the time between emissions $i-1$ and $i$, then a model for the data could be $t_i \\sim Exp(\\lambda_i)$. Here, we are only assuming that time between emissions are independent from each other. </font>\n"
      ]
    },
    {
      "cell_type": "markdown",
      "metadata": {
        "id": "K8s1HnevnUl1"
      },
      "source": [
        "##### (b) Describe the null hypothesis $H_0$ and the alternative $H_A$.\n"
      ]
    },
    {
      "cell_type": "markdown",
      "metadata": {
        "id": "es8TSjEoncAO"
      },
      "source": [
        "<font size=\"2\" color=\"#03bafc\"> Following the model in the previous question. The null and alternative hypotheses are:\n",
        "  <ul>\n",
        "  <li> $H_0 : \\lambda_i = \\lambda_1 \\quad \\forall\\ i \\in \\{2,\\ldots,100\\}$\n",
        "  </li>\n",
        "  <li> $H_A : \\exists i \\in \\{2, \\ldots,100\\}: \\lambda_i \\neq \\lambda_1$\n",
        "  </li>\n",
        "  </ul>\n",
        "\n",
        "</font>\n"
      ]
    },
    {
      "cell_type": "markdown",
      "metadata": {
        "id": "N-HAv0LbnUyE"
      },
      "source": [
        "##### (c) What is(are) the most plausible parameter value(s) for the null model given the observations? Calculate the maximum likelihood estimate(s) (MLE) of the parameter(s). Compute the estimator(s) for these parameter(s) from the data and report the resulting value(s)."
      ]
    },
    {
      "cell_type": "markdown",
      "metadata": {
        "id": "yWMjGwtCncLb"
      },
      "source": [
        "<font size=\"2\" color=\"#03bafc\"> Under the null, the random variables $t_i$ are iid follwing an exponential distribution with parameter $\\lambda$. Since the expected value of an exponential random variable is the inverse of the distribution parameter, then given the observations, the most plausible value for $\\lambda$ is the inverse of the sample mean: </font>\n"
      ]
    },
    {
      "cell_type": "code",
      "metadata": {
        "id": "Fzl6RgviaEgU",
        "outputId": "157aa93f-3b01-4223-dc3d-202430fded88",
        "colab": {
          "base_uri": "https://localhost:8080/"
        }
      },
      "source": [
        "lambda_null = 1/g_rayData['seconds'].mean() \n",
        "print(f\"{lambda_null:.3f}\")"
      ],
      "execution_count": 59,
      "outputs": [
        {
          "output_type": "stream",
          "name": "stdout",
          "text": [
            "0.006\n"
          ]
        }
      ]
    },
    {
      "cell_type": "markdown",
      "metadata": {
        "id": "oa3Bvf7namO-"
      },
      "source": [
        "<font size=\"2\" color=\"#03bafc\"> To formally compute this parameter, note that the probability of observing this data, under the null, is:\n",
        "  $$p\\left(\\{t_i\\}_{i=1}^{100};\\lambda\\right) = \\prod_{i=1}^{100} \\lambda e^{-\\lambda t_i} = \\lambda^{100} e^{-\\lambda \\sum_{i=1}^{100} t_i} $$\n",
        "\n",
        "Taking $log$ and differentiating with respect to $\\lambda$, we obtain\n",
        "  $$ \\frac{\\partial \\log p\\left(\\{t_i\\}_{i=1}^{100};\\lambda\\right)}{\\partial \\lambda} = \\frac{100}{\\lambda} - \\sum_{i=1}^{100} t_i = 0$$\n",
        "which implies that the MLE for $\\lambda$ is \n",
        "  $$\\hat{\\lambda} = \\frac{100}{\\sum_{i=1}^{100} t_i} = \\overline{t_i}^{-1}$$\n",
        "</font>\n"
      ]
    },
    {
      "cell_type": "markdown",
      "metadata": {
        "id": "VBmhG0zQnVDX"
      },
      "source": [
        "##### (d) What is(are) the most plausible parameter value(s) for the alternative model given the observations? Calculate the MLE(s). Compute the estimator(s) for the parameter(s) from the data (you do not need to provide the value(s)). <i>Hint: You should carefully define the space for the parameter(s) of your model.</i>\n"
      ]
    },
    {
      "cell_type": "markdown",
      "metadata": {
        "id": "hpTWuzG5ncVr"
      },
      "source": [
        "<font size=\"2\" color=\"#03bafc\"> In this case, the MLE estimator allows $\\lambda_i$ to vary from observation to observation. In fact, under the alternative hypothesis, there are 100 independent parameters. In this case, following the calculations from the previous part, then we have that the probability of observing the data under the alternative is:\n",
        "  $$p\\left(\\{t_i\\}_{i=1}^{100};\\{\\lambda_i\\}_{i=1}^{100}\\right) = \\prod_{i=1}^{100} \\lambda_i e^{-\\lambda_i t_i} $$\n",
        "\n",
        "After taking $\\log$ and computing partial derivatives with respect to each $\\lambda_j$ we obtain\n",
        "  $$ \\frac{\\partial \\log p\\left(\\{t_i\\}_{i=1}^{100};\\{\\lambda_i\\}_{i=1}^{100}\\right)}{\\partial \\lambda_j} = \\frac{1}{\\lambda_j} - t_i = 0$$\n",
        "Which implies that the MLE for $\\lambda_i$ is \n",
        "  $$\\hat{\\lambda}_i = t_i$$\n",
        "</font>\n"
      ]
    },
    {
      "cell_type": "code",
      "metadata": {
        "id": "xcSWDW4Kh2cZ"
      },
      "source": [
        "lambda_alt = 1/g_rayData['seconds'].to_numpy()"
      ],
      "execution_count": 60,
      "outputs": []
    },
    {
      "cell_type": "markdown",
      "metadata": {
        "id": "lrsEwyo2nVJT"
      },
      "source": [
        "##### (e) Define a test statistic and plot its distribution under $H_0$ using the software of your choice.\n"
      ]
    },
    {
      "cell_type": "markdown",
      "metadata": {
        "id": "7eBQLYrDncp2"
      },
      "source": [
        "<font size=\"2\" color=\"#03bafc\"> Given that we already computed the MLE under the null and alternative hypotheses, we could perform a likelihood ratio test for $H_0$. The likelihood ratio for this situation is given by:\n",
        "  $$ L\\left(\\{t_i\\}_{i=1}^{100}\\right) = \\frac{\\max_{\\lambda}p\\left(\\{t_i\\}_{i=1}^{100};\\lambda\\right)}{\\max_{\\{\\lambda_i\\}_{i=1}^{100}} p\\left(\\{t_i\\}_{i=1}^{100};\\{\\lambda_i\\}_{i=1}^{100}\\right)} $$\n",
        "The statistic of interest is the transformed likelihood ratio:\n",
        "  $$\\Lambda\\left(\\{t_i\\}_{i=1}^{100}\\right) = -2\\log L\\left(\\{t_i\\}_{i=1}^{100}\\right)$$\n",
        "\n",
        "Which asymptotically distributes:\n",
        "  $$\\Lambda\\left(\\{t_i\\}_{i=1}^{100}\\right) \\sim \\chi^2_d$$\n",
        "with\n",
        "  $$d = 100 - 1 = 99$$\n",
        "since the total parameter space has dimension 100 and the null parameter space has dimension 1. Thus, the distribution of the test statistic is:\n",
        "</font>\n"
      ]
    },
    {
      "cell_type": "code",
      "metadata": {
        "id": "J_SWSiHjyXHl",
        "outputId": "f1b5d08d-bdcd-4d2e-e397-1ab4763bf257",
        "colab": {
          "base_uri": "https://localhost:8080/",
          "height": 417
        }
      },
      "source": [
        "from scipy.stats import chi2\n",
        "\n",
        "df_chi = 99\n",
        "x_chi  = np.linspace(chi2.ppf(0.0001, df_chi),chi2.ppf(0.99, df_chi),200)\n",
        "f_chi  = chi2.pdf(x_chi, df_chi)\n",
        "\n",
        "fig = go.Figure()\n",
        "\n",
        "fig.add_trace(go.Scatter(x=x_chi, y=f_chi, mode='lines'))\n",
        "\n",
        "fig.update_layout(\n",
        "    autosize=False,\n",
        "    width=700,\n",
        "    height=400,\n",
        "    title={\n",
        "        'text': r'$\\text{Asymptotic distribution of }\\Lambda$',\n",
        "        'y':0.85,\n",
        "        'x':0.5,\n",
        "        'xanchor': 'center',\n",
        "        'yanchor': 'middle'},\n",
        "    xaxis_title = r'$\\Lambda$')\n",
        "\n",
        "fig.show()"
      ],
      "execution_count": 102,
      "outputs": [
        {
          "output_type": "display_data",
          "data": {
            "text/html": [
              "<html>\n",
              "<head><meta charset=\"utf-8\" /></head>\n",
              "<body>\n",
              "    <div>\n",
              "            <script src=\"https://cdnjs.cloudflare.com/ajax/libs/mathjax/2.7.5/MathJax.js?config=TeX-AMS-MML_SVG\"></script><script type=\"text/javascript\">if (window.MathJax) {MathJax.Hub.Config({SVG: {font: \"STIX-Web\"}});}</script>\n",
              "                <script type=\"text/javascript\">window.PlotlyConfig = {MathJaxConfig: 'local'};</script>\n",
              "        <script src=\"https://cdn.plot.ly/plotly-latest.min.js\"></script>    \n",
              "            <div id=\"4076babf-8550-4745-bb7a-392badf21468\" class=\"plotly-graph-div\" style=\"height:400px; width:700px;\"></div>\n",
              "            <script type=\"text/javascript\">\n",
              "                \n",
              "                    window.PLOTLYENV=window.PLOTLYENV || {};\n",
              "                    \n",
              "                if (document.getElementById(\"4076babf-8550-4745-bb7a-392badf21468\")) {\n",
              "                    Plotly.newPlot(\n",
              "                        '4076babf-8550-4745-bb7a-392badf21468',\n",
              "                        [{\"mode\": \"lines\", \"type\": \"scatter\", \"x\": [54.9868601478288, 55.38713530716529, 55.78741046650177, 56.187685625838256, 56.58796078517474, 56.988235944511224, 57.388511103847705, 57.78878626318419, 58.18906142252067, 58.58933658185716, 58.98961174119364, 59.38988690053013, 59.79016205986661, 60.1904372192031, 60.59071237853958, 60.990987537876066, 61.39126269721255, 61.791537856549034, 62.191813015885515, 62.592088175222, 62.99236333455848, 63.39263849389497, 63.79291365323145, 64.19318881256794, 64.59346397190443, 64.9937391312409, 65.39401429057739, 65.79428944991388, 66.19456460925036, 66.59483976858684, 66.99511492792332, 67.39539008725981, 67.7956652465963, 68.19594040593277, 68.59621556526926, 68.99649072460575, 69.39676588394224, 69.79704104327871, 70.1973162026152, 70.59759136195169, 70.99786652128817, 71.39814168062466, 71.79841683996113, 72.19869199929762, 72.59896715863411, 72.99924231797058, 73.39951747730707, 73.79979263664356, 74.20006779598005, 74.60034295531653, 75.00061811465301, 75.4008932739895, 75.80116843332598, 76.20144359266246, 76.60171875199894, 77.00199391133543, 77.40226907067192, 77.80254423000841, 78.20281938934488, 78.60309454868137, 79.00336970801786, 79.40364486735433, 79.80392002669082, 80.2041951860273, 80.6044703453638, 81.00474550470028, 81.40502066403675, 81.80529582337324, 82.20557098270973, 82.6058461420462, 83.00612130138269, 83.40639646071918, 83.80667162005567, 84.20694677939215, 84.60722193872863, 85.00749709806512, 85.4077722574016, 85.80804741673808, 86.20832257607456, 86.60859773541105, 87.00887289474754, 87.40914805408403, 87.8094232134205, 88.20969837275699, 88.60997353209348, 89.01024869142995, 89.41052385076645, 89.81079901010293, 90.21107416943941, 90.6113493287759, 91.01162448811237, 91.41189964744886, 91.81217480678535, 92.21244996612182, 92.61272512545833, 93.0130002847948, 93.41327544413129, 93.81355060346777, 94.21382576280425, 94.61410092214074, 95.01437608147722, 95.4146512408137, 95.8149264001502, 96.21520155948667, 96.61547671882316, 97.01575187815965, 97.41602703749612, 97.81630219683261, 98.2165773561691, 98.61685251550557, 99.01712767484207, 99.41740283417855, 99.81767799351503, 100.21795315285152, 100.618228312188, 101.01850347152448, 101.41877863086097, 101.81905379019744, 102.21932894953395, 102.61960410887042, 103.0198792682069, 103.4201544275434, 103.82042958687987, 104.22070474621636, 104.62097990555284, 105.02125506488932, 105.42153022422582, 105.82180538356229, 106.22208054289878, 106.62235570223527, 107.02263086157174, 107.42290602090824, 107.82318118024472, 108.2234563395812, 108.62373149891769, 109.02400665825417, 109.42428181759065, 109.82455697692714, 110.22483213626361, 110.62510729560012, 111.02538245493659, 111.42565761427308, 111.82593277360957, 112.22620793294604, 112.62648309228253, 113.02675825161901, 113.42703341095549, 113.82730857029199, 114.22758372962846, 114.62785888896495, 115.02813404830144, 115.42840920763791, 115.8286843669744, 116.22895952631089, 116.62923468564736, 117.02950984498386, 117.42978500432034, 117.83006016365682, 118.23033532299331, 118.63061048232979, 119.03088564166629, 119.43116080100276, 119.83143596033923, 120.23171111967574, 120.63198627901221, 121.03226143834868, 121.43253659768519, 121.83281175702166, 122.23308691635816, 122.63336207569463, 123.03363723503111, 123.43391239436761, 123.83418755370408, 124.23446271304056, 124.63473787237706, 125.03501303171353, 125.43528819105003, 125.83556335038651, 126.23583850972298, 126.63611366905948, 127.03638882839596, 127.43666398773243, 127.83693914706893, 128.2372143064054, 128.6374894657419, 129.03776462507838, 129.43803978441485, 129.83831494375136, 130.23859010308783, 130.6388652624243, 131.0391404217608, 131.43941558109728, 131.83969074043378, 132.23996589977025, 132.64024105910673, 133.04051621844323, 133.4407913777797, 133.8410665371162, 134.24134169645268, 134.64161685578915], \"y\": [4.201738091928954e-05, 4.889725319893132e-05, 5.675966673809268e-05, 6.572200874587248e-05, 7.591241970604153e-05, 8.747036210837427e-05, 0.00010054716994232316, 0.00011530657197738249, 0.0001319251814436713, 0.00015059294436548594, 0.00017151353849907414, 0.0001949047145916349, 0.00022099857152030865, 0.00025004175679463477, 0.0002822955839216026, 0.0003180360582439734, 0.0003575538030758887, 0.0004011538782793252, 0.00044915548385274977, 0.0005018915416410679, 0.0005597081489251348, 0.0006229638984064998, 0.0006920290599662986, 0.00076728462054448, 0.000849121179546425, 0.0009379376983344829, 0.001034140103592906, 0.0011381397456537523, 0.0012503517142284204, 0.0013711930153922926, 0.0015010806151032712, 0.0016404293559836149, 0.0017896497555462193, 0.0019491456954802532, 0.0021193120130158873, 0.0023005320067402794, 0.0024931748705324776, 0.0026975930704883173, 0.0029141196808267615, 0.003143065695765971, 0.0033847173352403222, 0.003639333363063486, 0.003907142436740234, 0.004188340508554851, 0.0044830882978345934, 0.004791508854370073, 0.005113685232895115, 0.005449658298249973, 0.005799424680408002, 0.006162934897909038, 0.006540091667437027, 0.0069307484162913924, 0.007334708013361857, 0.00775172173291072, 0.008181488464013963, 0.008623654176939926, 0.009077811656039589, 0.00954350050691796, 0.010020207443764318, 0.010507366860772199, 0.011004361689536788, 0.011510524542305216, 0.012025139138869302, 0.012547442012840897, 0.01307662449102369, 0.013611834937585608, 0.014152181252819064, 0.014696733614415779, 0.015244527447414719, 0.01579456660733642, 0.016345826759478453, 0.016897258935958965, 0.017447793250845917, 0.01799634275260091, 0.018541807392171605, 0.01908307808428879, 0.019619040838937216, 0.020148580939598287, 0.0206705871446095, 0.021183955887971537, 0.021687595456045365, 0.022180430116912127, 0.022661404179637704, 0.023129485961321878, 0.023583671640608702, 0.02402298897727974, 0.024446500878587917, 0.024853308794265606, 0.025242555923314043, 0.025613430217236194, 0.02596516716571812, 0.02629705235243563, 0.026608423770188253, 0.02689867388627293, 0.027167251450669224, 0.027413663041303757, 0.02763747434236845, 0.027838311153352068, 0.028015860128088262, 0.028169869244771654, 0.028300148009455923, 0.02840656739704628, 0.028489059535290136, 0.02854761713859645, 0.028582292699821845, 0.02859319744934832, 0.02858050009189313, 0.028544425332435987, 0.028485252203614992, 0.028403312207631197, 0.02829898728645877, 0.028172707634651552, 0.028024949369506932, 0.027856232073707524, 0.02766711622575161, 0.027458200533617288, 0.027230119187169416, 0.026983539044675528, 0.026719156768668925, 0.026437695926150438, 0.02613990406773069, 0.02582654979994621, 0.025498419864472266, 0.025156316237415342, 0.02480105326122387, 0.024433454821163058, 0.024054351577513258, 0.0236645782639931, 0.023264971062071833, 0.022856365060066147, 0.022439591805124896, 0.022015476955356175, 0.021584838038508983, 0.021148482322854396, 0.02070720480502349, 0.020261786318797312, 0.01981299176801514, 0.019361568486040506, 0.018908244723421102, 0.018453728264692385, 0.017998705174589683, 0.01754383867324614, 0.017089768139358266, 0.016637108239725237, 0.01618644818298298, 0.015738351094912874, 0.015293353512194005, 0.014851964991067623, 0.01441466782702113, 0.013981916881238298, 0.013554139509285627, 0.013131735587260584, 0.012715077630390878, 0.012304510998941393, 0.011900354186106727, 0.011502899182507829, 0.011112411911830477, 0.010729132732108971, 0.010353276997175876, 0.009985035672815001, 0.009624576002215083, 0.009272042215413083, 0.008927556277506483, 0.008591218670550925, 0.00826310920420399, 0.007943287850332438, 0.007631795596978887, 0.007328655317274101, 0.007033872649082182, 0.0067474368813692604, 0.0064693218435076414, 0.0061994867939429675, 0.005937877304887038, 0.005684426139905217, 0.005439054121527167, 0.005201670986200314, 0.004972176224160429, 0.004750459901999007, 0.004536403465936222, 0.00432988052400928, 0.004130757605607459, 0.003938894896975995, 0.0037541469515126485, 0.003576363373858411, 0.0034053894769737114, 0.003241066911546718, 0.003083234267257677, 0.0029317276455593103, 0.0027863812037871053, 0.0026470276705403864, 0.002513498832404002, 0.0023856259921873043, 0.0022632403989738628, 0.0021461736503597525, 0.0020342580673556863, 0.0019273270425006917, 0.0018252153618087403, 0.001727759501230879, 0.001634797898370618, 0.0015461712002356022]}],\n",
              "                        {\"autosize\": false, \"height\": 400, \"template\": {\"data\": {\"bar\": [{\"error_x\": {\"color\": \"#2a3f5f\"}, \"error_y\": {\"color\": \"#2a3f5f\"}, \"marker\": {\"line\": {\"color\": \"#E5ECF6\", \"width\": 0.5}}, \"type\": \"bar\"}], \"barpolar\": [{\"marker\": {\"line\": {\"color\": \"#E5ECF6\", \"width\": 0.5}}, \"type\": \"barpolar\"}], \"carpet\": [{\"aaxis\": {\"endlinecolor\": \"#2a3f5f\", \"gridcolor\": \"white\", \"linecolor\": \"white\", \"minorgridcolor\": \"white\", \"startlinecolor\": \"#2a3f5f\"}, \"baxis\": {\"endlinecolor\": \"#2a3f5f\", \"gridcolor\": \"white\", \"linecolor\": \"white\", \"minorgridcolor\": \"white\", \"startlinecolor\": \"#2a3f5f\"}, \"type\": \"carpet\"}], \"choropleth\": [{\"colorbar\": {\"outlinewidth\": 0, \"ticks\": \"\"}, \"type\": \"choropleth\"}], \"contour\": [{\"colorbar\": {\"outlinewidth\": 0, \"ticks\": \"\"}, \"colorscale\": [[0.0, \"#0d0887\"], [0.1111111111111111, \"#46039f\"], [0.2222222222222222, \"#7201a8\"], [0.3333333333333333, \"#9c179e\"], [0.4444444444444444, \"#bd3786\"], [0.5555555555555556, \"#d8576b\"], [0.6666666666666666, \"#ed7953\"], [0.7777777777777778, \"#fb9f3a\"], [0.8888888888888888, \"#fdca26\"], [1.0, \"#f0f921\"]], \"type\": \"contour\"}], \"contourcarpet\": [{\"colorbar\": {\"outlinewidth\": 0, \"ticks\": \"\"}, \"type\": \"contourcarpet\"}], \"heatmap\": [{\"colorbar\": {\"outlinewidth\": 0, \"ticks\": \"\"}, \"colorscale\": [[0.0, \"#0d0887\"], [0.1111111111111111, \"#46039f\"], [0.2222222222222222, \"#7201a8\"], [0.3333333333333333, \"#9c179e\"], [0.4444444444444444, \"#bd3786\"], [0.5555555555555556, \"#d8576b\"], [0.6666666666666666, \"#ed7953\"], [0.7777777777777778, \"#fb9f3a\"], [0.8888888888888888, \"#fdca26\"], [1.0, \"#f0f921\"]], \"type\": \"heatmap\"}], \"heatmapgl\": [{\"colorbar\": {\"outlinewidth\": 0, \"ticks\": \"\"}, \"colorscale\": [[0.0, \"#0d0887\"], [0.1111111111111111, \"#46039f\"], [0.2222222222222222, \"#7201a8\"], [0.3333333333333333, \"#9c179e\"], [0.4444444444444444, \"#bd3786\"], [0.5555555555555556, \"#d8576b\"], [0.6666666666666666, \"#ed7953\"], [0.7777777777777778, \"#fb9f3a\"], [0.8888888888888888, \"#fdca26\"], [1.0, \"#f0f921\"]], \"type\": \"heatmapgl\"}], \"histogram\": [{\"marker\": {\"colorbar\": {\"outlinewidth\": 0, \"ticks\": \"\"}}, \"type\": \"histogram\"}], \"histogram2d\": [{\"colorbar\": {\"outlinewidth\": 0, \"ticks\": \"\"}, \"colorscale\": [[0.0, \"#0d0887\"], [0.1111111111111111, \"#46039f\"], [0.2222222222222222, \"#7201a8\"], [0.3333333333333333, \"#9c179e\"], [0.4444444444444444, \"#bd3786\"], [0.5555555555555556, \"#d8576b\"], [0.6666666666666666, \"#ed7953\"], [0.7777777777777778, \"#fb9f3a\"], [0.8888888888888888, \"#fdca26\"], [1.0, \"#f0f921\"]], \"type\": \"histogram2d\"}], \"histogram2dcontour\": [{\"colorbar\": {\"outlinewidth\": 0, \"ticks\": \"\"}, \"colorscale\": [[0.0, \"#0d0887\"], [0.1111111111111111, \"#46039f\"], [0.2222222222222222, \"#7201a8\"], [0.3333333333333333, \"#9c179e\"], [0.4444444444444444, \"#bd3786\"], [0.5555555555555556, \"#d8576b\"], [0.6666666666666666, \"#ed7953\"], [0.7777777777777778, \"#fb9f3a\"], [0.8888888888888888, \"#fdca26\"], [1.0, \"#f0f921\"]], \"type\": \"histogram2dcontour\"}], \"mesh3d\": [{\"colorbar\": {\"outlinewidth\": 0, \"ticks\": \"\"}, \"type\": \"mesh3d\"}], \"parcoords\": [{\"line\": {\"colorbar\": {\"outlinewidth\": 0, \"ticks\": \"\"}}, \"type\": \"parcoords\"}], \"pie\": [{\"automargin\": true, \"type\": \"pie\"}], \"scatter\": [{\"marker\": {\"colorbar\": {\"outlinewidth\": 0, \"ticks\": \"\"}}, \"type\": \"scatter\"}], \"scatter3d\": [{\"line\": {\"colorbar\": {\"outlinewidth\": 0, \"ticks\": \"\"}}, \"marker\": {\"colorbar\": {\"outlinewidth\": 0, \"ticks\": \"\"}}, \"type\": \"scatter3d\"}], \"scattercarpet\": [{\"marker\": {\"colorbar\": {\"outlinewidth\": 0, \"ticks\": \"\"}}, \"type\": \"scattercarpet\"}], \"scattergeo\": [{\"marker\": {\"colorbar\": {\"outlinewidth\": 0, \"ticks\": \"\"}}, \"type\": \"scattergeo\"}], \"scattergl\": [{\"marker\": {\"colorbar\": {\"outlinewidth\": 0, \"ticks\": \"\"}}, \"type\": \"scattergl\"}], \"scattermapbox\": [{\"marker\": {\"colorbar\": {\"outlinewidth\": 0, \"ticks\": \"\"}}, \"type\": \"scattermapbox\"}], \"scatterpolar\": [{\"marker\": {\"colorbar\": {\"outlinewidth\": 0, \"ticks\": \"\"}}, \"type\": \"scatterpolar\"}], \"scatterpolargl\": [{\"marker\": {\"colorbar\": {\"outlinewidth\": 0, \"ticks\": \"\"}}, \"type\": \"scatterpolargl\"}], \"scatterternary\": [{\"marker\": {\"colorbar\": {\"outlinewidth\": 0, \"ticks\": \"\"}}, \"type\": \"scatterternary\"}], \"surface\": [{\"colorbar\": {\"outlinewidth\": 0, \"ticks\": \"\"}, \"colorscale\": [[0.0, \"#0d0887\"], [0.1111111111111111, \"#46039f\"], [0.2222222222222222, \"#7201a8\"], [0.3333333333333333, \"#9c179e\"], [0.4444444444444444, \"#bd3786\"], [0.5555555555555556, \"#d8576b\"], [0.6666666666666666, \"#ed7953\"], [0.7777777777777778, \"#fb9f3a\"], [0.8888888888888888, \"#fdca26\"], [1.0, \"#f0f921\"]], \"type\": \"surface\"}], \"table\": [{\"cells\": {\"fill\": {\"color\": \"#EBF0F8\"}, \"line\": {\"color\": \"white\"}}, \"header\": {\"fill\": {\"color\": \"#C8D4E3\"}, \"line\": {\"color\": \"white\"}}, \"type\": \"table\"}]}, \"layout\": {\"annotationdefaults\": {\"arrowcolor\": \"#2a3f5f\", \"arrowhead\": 0, \"arrowwidth\": 1}, \"coloraxis\": {\"colorbar\": {\"outlinewidth\": 0, \"ticks\": \"\"}}, \"colorscale\": {\"diverging\": [[0, \"#8e0152\"], [0.1, \"#c51b7d\"], [0.2, \"#de77ae\"], [0.3, \"#f1b6da\"], [0.4, \"#fde0ef\"], [0.5, \"#f7f7f7\"], [0.6, \"#e6f5d0\"], [0.7, \"#b8e186\"], [0.8, \"#7fbc41\"], [0.9, \"#4d9221\"], [1, \"#276419\"]], \"sequential\": [[0.0, \"#0d0887\"], [0.1111111111111111, \"#46039f\"], [0.2222222222222222, \"#7201a8\"], [0.3333333333333333, \"#9c179e\"], [0.4444444444444444, \"#bd3786\"], [0.5555555555555556, \"#d8576b\"], [0.6666666666666666, \"#ed7953\"], [0.7777777777777778, \"#fb9f3a\"], [0.8888888888888888, \"#fdca26\"], [1.0, \"#f0f921\"]], \"sequentialminus\": [[0.0, \"#0d0887\"], [0.1111111111111111, \"#46039f\"], [0.2222222222222222, \"#7201a8\"], [0.3333333333333333, \"#9c179e\"], [0.4444444444444444, \"#bd3786\"], [0.5555555555555556, \"#d8576b\"], [0.6666666666666666, \"#ed7953\"], [0.7777777777777778, \"#fb9f3a\"], [0.8888888888888888, \"#fdca26\"], [1.0, \"#f0f921\"]]}, \"colorway\": [\"#636efa\", \"#EF553B\", \"#00cc96\", \"#ab63fa\", \"#FFA15A\", \"#19d3f3\", \"#FF6692\", \"#B6E880\", \"#FF97FF\", \"#FECB52\"], \"font\": {\"color\": \"#2a3f5f\"}, \"geo\": {\"bgcolor\": \"white\", \"lakecolor\": \"white\", \"landcolor\": \"#E5ECF6\", \"showlakes\": true, \"showland\": true, \"subunitcolor\": \"white\"}, \"hoverlabel\": {\"align\": \"left\"}, \"hovermode\": \"closest\", \"mapbox\": {\"style\": \"light\"}, \"paper_bgcolor\": \"white\", \"plot_bgcolor\": \"#E5ECF6\", \"polar\": {\"angularaxis\": {\"gridcolor\": \"white\", \"linecolor\": \"white\", \"ticks\": \"\"}, \"bgcolor\": \"#E5ECF6\", \"radialaxis\": {\"gridcolor\": \"white\", \"linecolor\": \"white\", \"ticks\": \"\"}}, \"scene\": {\"xaxis\": {\"backgroundcolor\": \"#E5ECF6\", \"gridcolor\": \"white\", \"gridwidth\": 2, \"linecolor\": \"white\", \"showbackground\": true, \"ticks\": \"\", \"zerolinecolor\": \"white\"}, \"yaxis\": {\"backgroundcolor\": \"#E5ECF6\", \"gridcolor\": \"white\", \"gridwidth\": 2, \"linecolor\": \"white\", \"showbackground\": true, \"ticks\": \"\", \"zerolinecolor\": \"white\"}, \"zaxis\": {\"backgroundcolor\": \"#E5ECF6\", \"gridcolor\": \"white\", \"gridwidth\": 2, \"linecolor\": \"white\", \"showbackground\": true, \"ticks\": \"\", \"zerolinecolor\": \"white\"}}, \"shapedefaults\": {\"line\": {\"color\": \"#2a3f5f\"}}, \"ternary\": {\"aaxis\": {\"gridcolor\": \"white\", \"linecolor\": \"white\", \"ticks\": \"\"}, \"baxis\": {\"gridcolor\": \"white\", \"linecolor\": \"white\", \"ticks\": \"\"}, \"bgcolor\": \"#E5ECF6\", \"caxis\": {\"gridcolor\": \"white\", \"linecolor\": \"white\", \"ticks\": \"\"}}, \"title\": {\"x\": 0.05}, \"xaxis\": {\"automargin\": true, \"gridcolor\": \"white\", \"linecolor\": \"white\", \"ticks\": \"\", \"title\": {\"standoff\": 15}, \"zerolinecolor\": \"white\", \"zerolinewidth\": 2}, \"yaxis\": {\"automargin\": true, \"gridcolor\": \"white\", \"linecolor\": \"white\", \"ticks\": \"\", \"title\": {\"standoff\": 15}, \"zerolinecolor\": \"white\", \"zerolinewidth\": 2}}}, \"title\": {\"text\": \"$\\\\text{Asymptotic distribution of }\\\\Lambda$\", \"x\": 0.5, \"xanchor\": \"center\", \"y\": 0.85, \"yanchor\": \"middle\"}, \"width\": 700, \"xaxis\": {\"title\": {\"text\": \"$\\\\Lambda$\"}}},\n",
              "                        {\"responsive\": true}\n",
              "                    ).then(function(){\n",
              "                            \n",
              "var gd = document.getElementById('4076babf-8550-4745-bb7a-392badf21468');\n",
              "var x = new MutationObserver(function (mutations, observer) {{\n",
              "        var display = window.getComputedStyle(gd).display;\n",
              "        if (!display || display === 'none') {{\n",
              "            console.log([gd, 'removed!']);\n",
              "            Plotly.purge(gd);\n",
              "            observer.disconnect();\n",
              "        }}\n",
              "}});\n",
              "\n",
              "// Listen for the removal of the full notebook cells\n",
              "var notebookContainer = gd.closest('#notebook-container');\n",
              "if (notebookContainer) {{\n",
              "    x.observe(notebookContainer, {childList: true});\n",
              "}}\n",
              "\n",
              "// Listen for the clearing of the current output cell\n",
              "var outputEl = gd.closest('.output');\n",
              "if (outputEl) {{\n",
              "    x.observe(outputEl, {childList: true});\n",
              "}}\n",
              "\n",
              "                        })\n",
              "                };\n",
              "                \n",
              "            </script>\n",
              "        </div>\n",
              "</body>\n",
              "</html>"
            ]
          },
          "metadata": {}
        }
      ]
    },
    {
      "cell_type": "markdown",
      "metadata": {
        "id": "V51TteL1nVNM"
      },
      "source": [
        "##### (f) Determine the rejection region at a significance level of 0.05. Depict it in the previous plot.\n"
      ]
    },
    {
      "cell_type": "markdown",
      "metadata": {
        "id": "w_BkJAJunc5t"
      },
      "source": [
        "<font size=\"2\" color=\"#03bafc\"> In this case, the rejection threshold is given by:\n",
        "</font>\n"
      ]
    },
    {
      "cell_type": "code",
      "metadata": {
        "id": "5QpALrcm5_vd",
        "outputId": "891d7cf5-fd1c-4d1d-a110-808d71b73764",
        "colab": {
          "base_uri": "https://localhost:8080/",
          "height": 417
        }
      },
      "source": [
        "alpha = 0.05\n",
        "rej_threshold = chi2.ppf(1-alpha, 99)\n",
        "rej_linspace  = np.linspace(rej_threshold,x_chi[-1])\n",
        "\n",
        "fig.add_trace(go.Scatter(x=[rej_threshold,rej_threshold], \n",
        "                        y=[0,chi2.pdf(rej_threshold, df_chi)],\n",
        "                         mode = 'lines'))\n",
        "fig.add_trace(go.Scatter(x=rej_linspace, y=chi2.pdf(rej_linspace, df_chi), mode='lines', fill='tozeroy', line=dict(width=0, color='red')))\n",
        "\n",
        "fig.update_layout(showlegend=False)\n",
        "fig.show()"
      ],
      "execution_count": 103,
      "outputs": [
        {
          "output_type": "display_data",
          "data": {
            "text/html": [
              "<html>\n",
              "<head><meta charset=\"utf-8\" /></head>\n",
              "<body>\n",
              "    <div>\n",
              "            <script src=\"https://cdnjs.cloudflare.com/ajax/libs/mathjax/2.7.5/MathJax.js?config=TeX-AMS-MML_SVG\"></script><script type=\"text/javascript\">if (window.MathJax) {MathJax.Hub.Config({SVG: {font: \"STIX-Web\"}});}</script>\n",
              "                <script type=\"text/javascript\">window.PlotlyConfig = {MathJaxConfig: 'local'};</script>\n",
              "        <script src=\"https://cdn.plot.ly/plotly-latest.min.js\"></script>    \n",
              "            <div id=\"61380bbd-dc11-433e-8c39-97674e2c0af4\" class=\"plotly-graph-div\" style=\"height:400px; width:700px;\"></div>\n",
              "            <script type=\"text/javascript\">\n",
              "                \n",
              "                    window.PLOTLYENV=window.PLOTLYENV || {};\n",
              "                    \n",
              "                if (document.getElementById(\"61380bbd-dc11-433e-8c39-97674e2c0af4\")) {\n",
              "                    Plotly.newPlot(\n",
              "                        '61380bbd-dc11-433e-8c39-97674e2c0af4',\n",
              "                        [{\"mode\": \"lines\", \"type\": \"scatter\", \"x\": [54.9868601478288, 55.38713530716529, 55.78741046650177, 56.187685625838256, 56.58796078517474, 56.988235944511224, 57.388511103847705, 57.78878626318419, 58.18906142252067, 58.58933658185716, 58.98961174119364, 59.38988690053013, 59.79016205986661, 60.1904372192031, 60.59071237853958, 60.990987537876066, 61.39126269721255, 61.791537856549034, 62.191813015885515, 62.592088175222, 62.99236333455848, 63.39263849389497, 63.79291365323145, 64.19318881256794, 64.59346397190443, 64.9937391312409, 65.39401429057739, 65.79428944991388, 66.19456460925036, 66.59483976858684, 66.99511492792332, 67.39539008725981, 67.7956652465963, 68.19594040593277, 68.59621556526926, 68.99649072460575, 69.39676588394224, 69.79704104327871, 70.1973162026152, 70.59759136195169, 70.99786652128817, 71.39814168062466, 71.79841683996113, 72.19869199929762, 72.59896715863411, 72.99924231797058, 73.39951747730707, 73.79979263664356, 74.20006779598005, 74.60034295531653, 75.00061811465301, 75.4008932739895, 75.80116843332598, 76.20144359266246, 76.60171875199894, 77.00199391133543, 77.40226907067192, 77.80254423000841, 78.20281938934488, 78.60309454868137, 79.00336970801786, 79.40364486735433, 79.80392002669082, 80.2041951860273, 80.6044703453638, 81.00474550470028, 81.40502066403675, 81.80529582337324, 82.20557098270973, 82.6058461420462, 83.00612130138269, 83.40639646071918, 83.80667162005567, 84.20694677939215, 84.60722193872863, 85.00749709806512, 85.4077722574016, 85.80804741673808, 86.20832257607456, 86.60859773541105, 87.00887289474754, 87.40914805408403, 87.8094232134205, 88.20969837275699, 88.60997353209348, 89.01024869142995, 89.41052385076645, 89.81079901010293, 90.21107416943941, 90.6113493287759, 91.01162448811237, 91.41189964744886, 91.81217480678535, 92.21244996612182, 92.61272512545833, 93.0130002847948, 93.41327544413129, 93.81355060346777, 94.21382576280425, 94.61410092214074, 95.01437608147722, 95.4146512408137, 95.8149264001502, 96.21520155948667, 96.61547671882316, 97.01575187815965, 97.41602703749612, 97.81630219683261, 98.2165773561691, 98.61685251550557, 99.01712767484207, 99.41740283417855, 99.81767799351503, 100.21795315285152, 100.618228312188, 101.01850347152448, 101.41877863086097, 101.81905379019744, 102.21932894953395, 102.61960410887042, 103.0198792682069, 103.4201544275434, 103.82042958687987, 104.22070474621636, 104.62097990555284, 105.02125506488932, 105.42153022422582, 105.82180538356229, 106.22208054289878, 106.62235570223527, 107.02263086157174, 107.42290602090824, 107.82318118024472, 108.2234563395812, 108.62373149891769, 109.02400665825417, 109.42428181759065, 109.82455697692714, 110.22483213626361, 110.62510729560012, 111.02538245493659, 111.42565761427308, 111.82593277360957, 112.22620793294604, 112.62648309228253, 113.02675825161901, 113.42703341095549, 113.82730857029199, 114.22758372962846, 114.62785888896495, 115.02813404830144, 115.42840920763791, 115.8286843669744, 116.22895952631089, 116.62923468564736, 117.02950984498386, 117.42978500432034, 117.83006016365682, 118.23033532299331, 118.63061048232979, 119.03088564166629, 119.43116080100276, 119.83143596033923, 120.23171111967574, 120.63198627901221, 121.03226143834868, 121.43253659768519, 121.83281175702166, 122.23308691635816, 122.63336207569463, 123.03363723503111, 123.43391239436761, 123.83418755370408, 124.23446271304056, 124.63473787237706, 125.03501303171353, 125.43528819105003, 125.83556335038651, 126.23583850972298, 126.63611366905948, 127.03638882839596, 127.43666398773243, 127.83693914706893, 128.2372143064054, 128.6374894657419, 129.03776462507838, 129.43803978441485, 129.83831494375136, 130.23859010308783, 130.6388652624243, 131.0391404217608, 131.43941558109728, 131.83969074043378, 132.23996589977025, 132.64024105910673, 133.04051621844323, 133.4407913777797, 133.8410665371162, 134.24134169645268, 134.64161685578915], \"y\": [4.201738091928954e-05, 4.889725319893132e-05, 5.675966673809268e-05, 6.572200874587248e-05, 7.591241970604153e-05, 8.747036210837427e-05, 0.00010054716994232316, 0.00011530657197738249, 0.0001319251814436713, 0.00015059294436548594, 0.00017151353849907414, 0.0001949047145916349, 0.00022099857152030865, 0.00025004175679463477, 0.0002822955839216026, 0.0003180360582439734, 0.0003575538030758887, 0.0004011538782793252, 0.00044915548385274977, 0.0005018915416410679, 0.0005597081489251348, 0.0006229638984064998, 0.0006920290599662986, 0.00076728462054448, 0.000849121179546425, 0.0009379376983344829, 0.001034140103592906, 0.0011381397456537523, 0.0012503517142284204, 0.0013711930153922926, 0.0015010806151032712, 0.0016404293559836149, 0.0017896497555462193, 0.0019491456954802532, 0.0021193120130158873, 0.0023005320067402794, 0.0024931748705324776, 0.0026975930704883173, 0.0029141196808267615, 0.003143065695765971, 0.0033847173352403222, 0.003639333363063486, 0.003907142436740234, 0.004188340508554851, 0.0044830882978345934, 0.004791508854370073, 0.005113685232895115, 0.005449658298249973, 0.005799424680408002, 0.006162934897909038, 0.006540091667437027, 0.0069307484162913924, 0.007334708013361857, 0.00775172173291072, 0.008181488464013963, 0.008623654176939926, 0.009077811656039589, 0.00954350050691796, 0.010020207443764318, 0.010507366860772199, 0.011004361689536788, 0.011510524542305216, 0.012025139138869302, 0.012547442012840897, 0.01307662449102369, 0.013611834937585608, 0.014152181252819064, 0.014696733614415779, 0.015244527447414719, 0.01579456660733642, 0.016345826759478453, 0.016897258935958965, 0.017447793250845917, 0.01799634275260091, 0.018541807392171605, 0.01908307808428879, 0.019619040838937216, 0.020148580939598287, 0.0206705871446095, 0.021183955887971537, 0.021687595456045365, 0.022180430116912127, 0.022661404179637704, 0.023129485961321878, 0.023583671640608702, 0.02402298897727974, 0.024446500878587917, 0.024853308794265606, 0.025242555923314043, 0.025613430217236194, 0.02596516716571812, 0.02629705235243563, 0.026608423770188253, 0.02689867388627293, 0.027167251450669224, 0.027413663041303757, 0.02763747434236845, 0.027838311153352068, 0.028015860128088262, 0.028169869244771654, 0.028300148009455923, 0.02840656739704628, 0.028489059535290136, 0.02854761713859645, 0.028582292699821845, 0.02859319744934832, 0.02858050009189313, 0.028544425332435987, 0.028485252203614992, 0.028403312207631197, 0.02829898728645877, 0.028172707634651552, 0.028024949369506932, 0.027856232073707524, 0.02766711622575161, 0.027458200533617288, 0.027230119187169416, 0.026983539044675528, 0.026719156768668925, 0.026437695926150438, 0.02613990406773069, 0.02582654979994621, 0.025498419864472266, 0.025156316237415342, 0.02480105326122387, 0.024433454821163058, 0.024054351577513258, 0.0236645782639931, 0.023264971062071833, 0.022856365060066147, 0.022439591805124896, 0.022015476955356175, 0.021584838038508983, 0.021148482322854396, 0.02070720480502349, 0.020261786318797312, 0.01981299176801514, 0.019361568486040506, 0.018908244723421102, 0.018453728264692385, 0.017998705174589683, 0.01754383867324614, 0.017089768139358266, 0.016637108239725237, 0.01618644818298298, 0.015738351094912874, 0.015293353512194005, 0.014851964991067623, 0.01441466782702113, 0.013981916881238298, 0.013554139509285627, 0.013131735587260584, 0.012715077630390878, 0.012304510998941393, 0.011900354186106727, 0.011502899182507829, 0.011112411911830477, 0.010729132732108971, 0.010353276997175876, 0.009985035672815001, 0.009624576002215083, 0.009272042215413083, 0.008927556277506483, 0.008591218670550925, 0.00826310920420399, 0.007943287850332438, 0.007631795596978887, 0.007328655317274101, 0.007033872649082182, 0.0067474368813692604, 0.0064693218435076414, 0.0061994867939429675, 0.005937877304887038, 0.005684426139905217, 0.005439054121527167, 0.005201670986200314, 0.004972176224160429, 0.004750459901999007, 0.004536403465936222, 0.00432988052400928, 0.004130757605607459, 0.003938894896975995, 0.0037541469515126485, 0.003576363373858411, 0.0034053894769737114, 0.003241066911546718, 0.003083234267257677, 0.0029317276455593103, 0.0027863812037871053, 0.0026470276705403864, 0.002513498832404002, 0.0023856259921873043, 0.0022632403989738628, 0.0021461736503597525, 0.0020342580673556863, 0.0019273270425006917, 0.0018252153618087403, 0.001727759501230879, 0.001634797898370618, 0.0015461712002356022]}, {\"mode\": \"lines\", \"type\": \"scatter\", \"x\": [123.2252214533618, 123.2252214533618], \"y\": [0, 0.006339140273109225]}, {\"fill\": \"tozeroy\", \"line\": {\"color\": \"red\", \"width\": 0}, \"mode\": \"lines\", \"type\": \"scatter\", \"x\": [123.2252214533618, 123.45820911463582, 123.69119677590986, 123.92418443718388, 124.1571720984579, 124.39015975973193, 124.62314742100597, 124.85613508227999, 125.08912274355401, 125.32211040482805, 125.55509806610208, 125.7880857273761, 126.02107338865012, 126.25406104992416, 126.48704871119818, 126.72003637247221, 126.95302403374625, 127.18601169502027, 127.4189993562943, 127.65198701756832, 127.88497467884235, 128.11796234011638, 128.3509500013904, 128.58393766266443, 128.81692532393845, 129.0499129852125, 129.28290064648652, 129.51588830776055, 129.74887596903457, 129.9818636303086, 130.21485129158262, 130.44783895285664, 130.6808266141307, 130.91381427540472, 131.14680193667874, 131.37978959795277, 131.6127772592268, 131.8457649205008, 132.07875258177484, 132.3117402430489, 132.5447279043229, 132.77771556559694, 133.01070322687096, 133.24369088814498, 133.476678549419, 133.70966621069303, 133.94265387196708, 134.1756415332411, 134.40862919451513, 134.64161685578915], \"y\": [0.006339140273109225, 0.006183373210571821, 0.006030391977157445, 0.005880183662836917, 0.005732733951613198, 0.0055880271791696814, 0.005446046390001092, 0.005306773393973275, 0.005170188822262191, 0.005036272182619822, 0.004905001913921826, 0.004776355439953302, 0.004650309222393577, 0.004526838812958495, 0.0044059189046692275, 0.004287523382210801, 0.004171625371355167, 0.004058197287416932, 0.00394721088271897, 0.0038386372930461266, 0.0037324470830659923, 0.003628610290698083, 0.003527096470418372, 0.0034278747354828188, 0.0033309137990613783, 0.003236182014271317, 0.0031436474131047694, 0.003053277744241009, 0.002965040509745235, 0.0028789030006495645, 0.0027948323314131783, 0.0027127954732698765, 0.0026327592864597445, 0.0025546905513532097, 0.002478555998471192, 0.002404322337410644, 0.002331956284682649, 0.0022614245904725586, 0.0021926940643341533, 0.0021257315998287753, 0.0020605041981223396, 0.001996978990554625, 0.0019351232601951378, 0.001874904462400238, 0.0018162902443895242, 0.0017592484638564764, 0.001703747206631648, 0.001649754803417607, 0.0015972398456111521, 0.0015461712002356022]}],\n",
              "                        {\"autosize\": false, \"height\": 400, \"showlegend\": false, \"template\": {\"data\": {\"bar\": [{\"error_x\": {\"color\": \"#2a3f5f\"}, \"error_y\": {\"color\": \"#2a3f5f\"}, \"marker\": {\"line\": {\"color\": \"#E5ECF6\", \"width\": 0.5}}, \"type\": \"bar\"}], \"barpolar\": [{\"marker\": {\"line\": {\"color\": \"#E5ECF6\", \"width\": 0.5}}, \"type\": \"barpolar\"}], \"carpet\": [{\"aaxis\": {\"endlinecolor\": \"#2a3f5f\", \"gridcolor\": \"white\", \"linecolor\": \"white\", \"minorgridcolor\": \"white\", \"startlinecolor\": \"#2a3f5f\"}, \"baxis\": {\"endlinecolor\": \"#2a3f5f\", \"gridcolor\": \"white\", \"linecolor\": \"white\", \"minorgridcolor\": \"white\", \"startlinecolor\": \"#2a3f5f\"}, \"type\": \"carpet\"}], \"choropleth\": [{\"colorbar\": {\"outlinewidth\": 0, \"ticks\": \"\"}, \"type\": \"choropleth\"}], \"contour\": [{\"colorbar\": {\"outlinewidth\": 0, \"ticks\": \"\"}, \"colorscale\": [[0.0, \"#0d0887\"], [0.1111111111111111, \"#46039f\"], [0.2222222222222222, \"#7201a8\"], [0.3333333333333333, \"#9c179e\"], [0.4444444444444444, \"#bd3786\"], [0.5555555555555556, \"#d8576b\"], [0.6666666666666666, \"#ed7953\"], [0.7777777777777778, \"#fb9f3a\"], [0.8888888888888888, \"#fdca26\"], [1.0, \"#f0f921\"]], \"type\": \"contour\"}], \"contourcarpet\": [{\"colorbar\": {\"outlinewidth\": 0, \"ticks\": \"\"}, \"type\": \"contourcarpet\"}], \"heatmap\": [{\"colorbar\": {\"outlinewidth\": 0, \"ticks\": \"\"}, \"colorscale\": [[0.0, \"#0d0887\"], [0.1111111111111111, \"#46039f\"], [0.2222222222222222, \"#7201a8\"], [0.3333333333333333, \"#9c179e\"], [0.4444444444444444, \"#bd3786\"], [0.5555555555555556, \"#d8576b\"], [0.6666666666666666, \"#ed7953\"], [0.7777777777777778, \"#fb9f3a\"], [0.8888888888888888, \"#fdca26\"], [1.0, \"#f0f921\"]], \"type\": \"heatmap\"}], \"heatmapgl\": [{\"colorbar\": {\"outlinewidth\": 0, \"ticks\": \"\"}, \"colorscale\": [[0.0, \"#0d0887\"], [0.1111111111111111, \"#46039f\"], [0.2222222222222222, \"#7201a8\"], [0.3333333333333333, \"#9c179e\"], [0.4444444444444444, \"#bd3786\"], [0.5555555555555556, \"#d8576b\"], [0.6666666666666666, \"#ed7953\"], [0.7777777777777778, \"#fb9f3a\"], [0.8888888888888888, \"#fdca26\"], [1.0, \"#f0f921\"]], \"type\": \"heatmapgl\"}], \"histogram\": [{\"marker\": {\"colorbar\": {\"outlinewidth\": 0, \"ticks\": \"\"}}, \"type\": \"histogram\"}], \"histogram2d\": [{\"colorbar\": {\"outlinewidth\": 0, \"ticks\": \"\"}, \"colorscale\": [[0.0, \"#0d0887\"], [0.1111111111111111, \"#46039f\"], [0.2222222222222222, \"#7201a8\"], [0.3333333333333333, \"#9c179e\"], [0.4444444444444444, \"#bd3786\"], [0.5555555555555556, \"#d8576b\"], [0.6666666666666666, \"#ed7953\"], [0.7777777777777778, \"#fb9f3a\"], [0.8888888888888888, \"#fdca26\"], [1.0, \"#f0f921\"]], \"type\": \"histogram2d\"}], \"histogram2dcontour\": [{\"colorbar\": {\"outlinewidth\": 0, \"ticks\": \"\"}, \"colorscale\": [[0.0, \"#0d0887\"], [0.1111111111111111, \"#46039f\"], [0.2222222222222222, \"#7201a8\"], [0.3333333333333333, \"#9c179e\"], [0.4444444444444444, \"#bd3786\"], [0.5555555555555556, \"#d8576b\"], [0.6666666666666666, \"#ed7953\"], [0.7777777777777778, \"#fb9f3a\"], [0.8888888888888888, \"#fdca26\"], [1.0, \"#f0f921\"]], \"type\": \"histogram2dcontour\"}], \"mesh3d\": [{\"colorbar\": {\"outlinewidth\": 0, \"ticks\": \"\"}, \"type\": \"mesh3d\"}], \"parcoords\": [{\"line\": {\"colorbar\": {\"outlinewidth\": 0, \"ticks\": \"\"}}, \"type\": \"parcoords\"}], \"pie\": [{\"automargin\": true, \"type\": \"pie\"}], \"scatter\": [{\"marker\": {\"colorbar\": {\"outlinewidth\": 0, \"ticks\": \"\"}}, \"type\": \"scatter\"}], \"scatter3d\": [{\"line\": {\"colorbar\": {\"outlinewidth\": 0, \"ticks\": \"\"}}, \"marker\": {\"colorbar\": {\"outlinewidth\": 0, \"ticks\": \"\"}}, \"type\": \"scatter3d\"}], \"scattercarpet\": [{\"marker\": {\"colorbar\": {\"outlinewidth\": 0, \"ticks\": \"\"}}, \"type\": \"scattercarpet\"}], \"scattergeo\": [{\"marker\": {\"colorbar\": {\"outlinewidth\": 0, \"ticks\": \"\"}}, \"type\": \"scattergeo\"}], \"scattergl\": [{\"marker\": {\"colorbar\": {\"outlinewidth\": 0, \"ticks\": \"\"}}, \"type\": \"scattergl\"}], \"scattermapbox\": [{\"marker\": {\"colorbar\": {\"outlinewidth\": 0, \"ticks\": \"\"}}, \"type\": \"scattermapbox\"}], \"scatterpolar\": [{\"marker\": {\"colorbar\": {\"outlinewidth\": 0, \"ticks\": \"\"}}, \"type\": \"scatterpolar\"}], \"scatterpolargl\": [{\"marker\": {\"colorbar\": {\"outlinewidth\": 0, \"ticks\": \"\"}}, \"type\": \"scatterpolargl\"}], \"scatterternary\": [{\"marker\": {\"colorbar\": {\"outlinewidth\": 0, \"ticks\": \"\"}}, \"type\": \"scatterternary\"}], \"surface\": [{\"colorbar\": {\"outlinewidth\": 0, \"ticks\": \"\"}, \"colorscale\": [[0.0, \"#0d0887\"], [0.1111111111111111, \"#46039f\"], [0.2222222222222222, \"#7201a8\"], [0.3333333333333333, \"#9c179e\"], [0.4444444444444444, \"#bd3786\"], [0.5555555555555556, \"#d8576b\"], [0.6666666666666666, \"#ed7953\"], [0.7777777777777778, \"#fb9f3a\"], [0.8888888888888888, \"#fdca26\"], [1.0, \"#f0f921\"]], \"type\": \"surface\"}], \"table\": [{\"cells\": {\"fill\": {\"color\": \"#EBF0F8\"}, \"line\": {\"color\": \"white\"}}, \"header\": {\"fill\": {\"color\": \"#C8D4E3\"}, \"line\": {\"color\": \"white\"}}, \"type\": \"table\"}]}, \"layout\": {\"annotationdefaults\": {\"arrowcolor\": \"#2a3f5f\", \"arrowhead\": 0, \"arrowwidth\": 1}, \"coloraxis\": {\"colorbar\": {\"outlinewidth\": 0, \"ticks\": \"\"}}, \"colorscale\": {\"diverging\": [[0, \"#8e0152\"], [0.1, \"#c51b7d\"], [0.2, \"#de77ae\"], [0.3, \"#f1b6da\"], [0.4, \"#fde0ef\"], [0.5, \"#f7f7f7\"], [0.6, \"#e6f5d0\"], [0.7, \"#b8e186\"], [0.8, \"#7fbc41\"], [0.9, \"#4d9221\"], [1, \"#276419\"]], \"sequential\": [[0.0, \"#0d0887\"], [0.1111111111111111, \"#46039f\"], [0.2222222222222222, \"#7201a8\"], [0.3333333333333333, \"#9c179e\"], [0.4444444444444444, \"#bd3786\"], [0.5555555555555556, \"#d8576b\"], [0.6666666666666666, \"#ed7953\"], [0.7777777777777778, \"#fb9f3a\"], [0.8888888888888888, \"#fdca26\"], [1.0, \"#f0f921\"]], \"sequentialminus\": [[0.0, \"#0d0887\"], [0.1111111111111111, \"#46039f\"], [0.2222222222222222, \"#7201a8\"], [0.3333333333333333, \"#9c179e\"], [0.4444444444444444, \"#bd3786\"], [0.5555555555555556, \"#d8576b\"], [0.6666666666666666, \"#ed7953\"], [0.7777777777777778, \"#fb9f3a\"], [0.8888888888888888, \"#fdca26\"], [1.0, \"#f0f921\"]]}, \"colorway\": [\"#636efa\", \"#EF553B\", \"#00cc96\", \"#ab63fa\", \"#FFA15A\", \"#19d3f3\", \"#FF6692\", \"#B6E880\", \"#FF97FF\", \"#FECB52\"], \"font\": {\"color\": \"#2a3f5f\"}, \"geo\": {\"bgcolor\": \"white\", \"lakecolor\": \"white\", \"landcolor\": \"#E5ECF6\", \"showlakes\": true, \"showland\": true, \"subunitcolor\": \"white\"}, \"hoverlabel\": {\"align\": \"left\"}, \"hovermode\": \"closest\", \"mapbox\": {\"style\": \"light\"}, \"paper_bgcolor\": \"white\", \"plot_bgcolor\": \"#E5ECF6\", \"polar\": {\"angularaxis\": {\"gridcolor\": \"white\", \"linecolor\": \"white\", \"ticks\": \"\"}, \"bgcolor\": \"#E5ECF6\", \"radialaxis\": {\"gridcolor\": \"white\", \"linecolor\": \"white\", \"ticks\": \"\"}}, \"scene\": {\"xaxis\": {\"backgroundcolor\": \"#E5ECF6\", \"gridcolor\": \"white\", \"gridwidth\": 2, \"linecolor\": \"white\", \"showbackground\": true, \"ticks\": \"\", \"zerolinecolor\": \"white\"}, \"yaxis\": {\"backgroundcolor\": \"#E5ECF6\", \"gridcolor\": \"white\", \"gridwidth\": 2, \"linecolor\": \"white\", \"showbackground\": true, \"ticks\": \"\", \"zerolinecolor\": \"white\"}, \"zaxis\": {\"backgroundcolor\": \"#E5ECF6\", \"gridcolor\": \"white\", \"gridwidth\": 2, \"linecolor\": \"white\", \"showbackground\": true, \"ticks\": \"\", \"zerolinecolor\": \"white\"}}, \"shapedefaults\": {\"line\": {\"color\": \"#2a3f5f\"}}, \"ternary\": {\"aaxis\": {\"gridcolor\": \"white\", \"linecolor\": \"white\", \"ticks\": \"\"}, \"baxis\": {\"gridcolor\": \"white\", \"linecolor\": \"white\", \"ticks\": \"\"}, \"bgcolor\": \"#E5ECF6\", \"caxis\": {\"gridcolor\": \"white\", \"linecolor\": \"white\", \"ticks\": \"\"}}, \"title\": {\"x\": 0.05}, \"xaxis\": {\"automargin\": true, \"gridcolor\": \"white\", \"linecolor\": \"white\", \"ticks\": \"\", \"title\": {\"standoff\": 15}, \"zerolinecolor\": \"white\", \"zerolinewidth\": 2}, \"yaxis\": {\"automargin\": true, \"gridcolor\": \"white\", \"linecolor\": \"white\", \"ticks\": \"\", \"title\": {\"standoff\": 15}, \"zerolinecolor\": \"white\", \"zerolinewidth\": 2}}}, \"title\": {\"text\": \"$\\\\text{Asymptotic distribution of }\\\\Lambda$\", \"x\": 0.5, \"xanchor\": \"center\", \"y\": 0.85, \"yanchor\": \"middle\"}, \"width\": 700, \"xaxis\": {\"title\": {\"text\": \"$\\\\Lambda$\"}}},\n",
              "                        {\"responsive\": true}\n",
              "                    ).then(function(){\n",
              "                            \n",
              "var gd = document.getElementById('61380bbd-dc11-433e-8c39-97674e2c0af4');\n",
              "var x = new MutationObserver(function (mutations, observer) {{\n",
              "        var display = window.getComputedStyle(gd).display;\n",
              "        if (!display || display === 'none') {{\n",
              "            console.log([gd, 'removed!']);\n",
              "            Plotly.purge(gd);\n",
              "            observer.disconnect();\n",
              "        }}\n",
              "}});\n",
              "\n",
              "// Listen for the removal of the full notebook cells\n",
              "var notebookContainer = gd.closest('#notebook-container');\n",
              "if (notebookContainer) {{\n",
              "    x.observe(notebookContainer, {childList: true});\n",
              "}}\n",
              "\n",
              "// Listen for the clearing of the current output cell\n",
              "var outputEl = gd.closest('.output');\n",
              "if (outputEl) {{\n",
              "    x.observe(outputEl, {childList: true});\n",
              "}}\n",
              "\n",
              "                        })\n",
              "                };\n",
              "                \n",
              "            </script>\n",
              "        </div>\n",
              "</body>\n",
              "</html>"
            ]
          },
          "metadata": {}
        }
      ]
    },
    {
      "cell_type": "markdown",
      "metadata": {
        "id": "UOc5Fab2nZ1Y"
      },
      "source": [
        "\n",
        "##### (g) Also show the value of the test statistic in the previous plot. What is its $p$-value? Based on the data collected by the observatory and the analysis that you have conducted, does the emission rate appear to be constant?"
      ]
    },
    {
      "cell_type": "markdown",
      "metadata": {
        "id": "EFrHh-PRndSI"
      },
      "source": [
        "<font size=\"2\" color=\"#03bafc\"> The value of the test statistic is </font>\n"
      ]
    },
    {
      "cell_type": "code",
      "metadata": {
        "id": "ILFXLrvbjHce",
        "outputId": "110fa6c6-394f-4296-b57b-5e217cac0c82",
        "colab": {
          "base_uri": "https://localhost:8080/"
        }
      },
      "source": [
        "likelihood_h0 = np.prod(lambda_null * np.exp(-lambda_null*g_rayData['seconds']))\n",
        "likelihood_hA = np.prod(lambda_alt * np.exp(-lambda_alt*g_rayData['seconds']))\n",
        "Lambda = -2 * np.log(likelihood_h0/likelihood_hA)\n",
        "print(f'{Lambda:.2f}')"
      ],
      "execution_count": 120,
      "outputs": [
        {
          "output_type": "stream",
          "name": "stdout",
          "text": [
            "102.36\n"
          ]
        }
      ]
    },
    {
      "cell_type": "markdown",
      "metadata": {
        "id": "z4TvC4oPAgXo"
      },
      "source": [
        "<font size=\"2\" color=\"#03bafc\"> Which is the previous plot falls outside the rejection region\n",
        "</font>"
      ]
    },
    {
      "cell_type": "code",
      "metadata": {
        "id": "DqPVFdkmAnnE",
        "outputId": "17f9f96e-651f-462c-9a5c-ea161061edf2",
        "colab": {
          "base_uri": "https://localhost:8080/",
          "height": 417
        }
      },
      "source": [
        "fig.add_trace(go.Scatter(x=[Lambda], \n",
        "                        y=[0],\n",
        "                         mode = 'markers'))"
      ],
      "execution_count": 121,
      "outputs": [
        {
          "output_type": "display_data",
          "data": {
            "text/html": [
              "<html>\n",
              "<head><meta charset=\"utf-8\" /></head>\n",
              "<body>\n",
              "    <div>\n",
              "            <script src=\"https://cdnjs.cloudflare.com/ajax/libs/mathjax/2.7.5/MathJax.js?config=TeX-AMS-MML_SVG\"></script><script type=\"text/javascript\">if (window.MathJax) {MathJax.Hub.Config({SVG: {font: \"STIX-Web\"}});}</script>\n",
              "                <script type=\"text/javascript\">window.PlotlyConfig = {MathJaxConfig: 'local'};</script>\n",
              "        <script src=\"https://cdn.plot.ly/plotly-latest.min.js\"></script>    \n",
              "            <div id=\"a35d9459-549b-43a7-bf69-67a895d7b22e\" class=\"plotly-graph-div\" style=\"height:400px; width:700px;\"></div>\n",
              "            <script type=\"text/javascript\">\n",
              "                \n",
              "                    window.PLOTLYENV=window.PLOTLYENV || {};\n",
              "                    \n",
              "                if (document.getElementById(\"a35d9459-549b-43a7-bf69-67a895d7b22e\")) {\n",
              "                    Plotly.newPlot(\n",
              "                        'a35d9459-549b-43a7-bf69-67a895d7b22e',\n",
              "                        [{\"mode\": \"lines\", \"type\": \"scatter\", \"x\": [54.9868601478288, 55.38713530716529, 55.78741046650177, 56.187685625838256, 56.58796078517474, 56.988235944511224, 57.388511103847705, 57.78878626318419, 58.18906142252067, 58.58933658185716, 58.98961174119364, 59.38988690053013, 59.79016205986661, 60.1904372192031, 60.59071237853958, 60.990987537876066, 61.39126269721255, 61.791537856549034, 62.191813015885515, 62.592088175222, 62.99236333455848, 63.39263849389497, 63.79291365323145, 64.19318881256794, 64.59346397190443, 64.9937391312409, 65.39401429057739, 65.79428944991388, 66.19456460925036, 66.59483976858684, 66.99511492792332, 67.39539008725981, 67.7956652465963, 68.19594040593277, 68.59621556526926, 68.99649072460575, 69.39676588394224, 69.79704104327871, 70.1973162026152, 70.59759136195169, 70.99786652128817, 71.39814168062466, 71.79841683996113, 72.19869199929762, 72.59896715863411, 72.99924231797058, 73.39951747730707, 73.79979263664356, 74.20006779598005, 74.60034295531653, 75.00061811465301, 75.4008932739895, 75.80116843332598, 76.20144359266246, 76.60171875199894, 77.00199391133543, 77.40226907067192, 77.80254423000841, 78.20281938934488, 78.60309454868137, 79.00336970801786, 79.40364486735433, 79.80392002669082, 80.2041951860273, 80.6044703453638, 81.00474550470028, 81.40502066403675, 81.80529582337324, 82.20557098270973, 82.6058461420462, 83.00612130138269, 83.40639646071918, 83.80667162005567, 84.20694677939215, 84.60722193872863, 85.00749709806512, 85.4077722574016, 85.80804741673808, 86.20832257607456, 86.60859773541105, 87.00887289474754, 87.40914805408403, 87.8094232134205, 88.20969837275699, 88.60997353209348, 89.01024869142995, 89.41052385076645, 89.81079901010293, 90.21107416943941, 90.6113493287759, 91.01162448811237, 91.41189964744886, 91.81217480678535, 92.21244996612182, 92.61272512545833, 93.0130002847948, 93.41327544413129, 93.81355060346777, 94.21382576280425, 94.61410092214074, 95.01437608147722, 95.4146512408137, 95.8149264001502, 96.21520155948667, 96.61547671882316, 97.01575187815965, 97.41602703749612, 97.81630219683261, 98.2165773561691, 98.61685251550557, 99.01712767484207, 99.41740283417855, 99.81767799351503, 100.21795315285152, 100.618228312188, 101.01850347152448, 101.41877863086097, 101.81905379019744, 102.21932894953395, 102.61960410887042, 103.0198792682069, 103.4201544275434, 103.82042958687987, 104.22070474621636, 104.62097990555284, 105.02125506488932, 105.42153022422582, 105.82180538356229, 106.22208054289878, 106.62235570223527, 107.02263086157174, 107.42290602090824, 107.82318118024472, 108.2234563395812, 108.62373149891769, 109.02400665825417, 109.42428181759065, 109.82455697692714, 110.22483213626361, 110.62510729560012, 111.02538245493659, 111.42565761427308, 111.82593277360957, 112.22620793294604, 112.62648309228253, 113.02675825161901, 113.42703341095549, 113.82730857029199, 114.22758372962846, 114.62785888896495, 115.02813404830144, 115.42840920763791, 115.8286843669744, 116.22895952631089, 116.62923468564736, 117.02950984498386, 117.42978500432034, 117.83006016365682, 118.23033532299331, 118.63061048232979, 119.03088564166629, 119.43116080100276, 119.83143596033923, 120.23171111967574, 120.63198627901221, 121.03226143834868, 121.43253659768519, 121.83281175702166, 122.23308691635816, 122.63336207569463, 123.03363723503111, 123.43391239436761, 123.83418755370408, 124.23446271304056, 124.63473787237706, 125.03501303171353, 125.43528819105003, 125.83556335038651, 126.23583850972298, 126.63611366905948, 127.03638882839596, 127.43666398773243, 127.83693914706893, 128.2372143064054, 128.6374894657419, 129.03776462507838, 129.43803978441485, 129.83831494375136, 130.23859010308783, 130.6388652624243, 131.0391404217608, 131.43941558109728, 131.83969074043378, 132.23996589977025, 132.64024105910673, 133.04051621844323, 133.4407913777797, 133.8410665371162, 134.24134169645268, 134.64161685578915], \"y\": [4.201738091928954e-05, 4.889725319893132e-05, 5.675966673809268e-05, 6.572200874587248e-05, 7.591241970604153e-05, 8.747036210837427e-05, 0.00010054716994232316, 0.00011530657197738249, 0.0001319251814436713, 0.00015059294436548594, 0.00017151353849907414, 0.0001949047145916349, 0.00022099857152030865, 0.00025004175679463477, 0.0002822955839216026, 0.0003180360582439734, 0.0003575538030758887, 0.0004011538782793252, 0.00044915548385274977, 0.0005018915416410679, 0.0005597081489251348, 0.0006229638984064998, 0.0006920290599662986, 0.00076728462054448, 0.000849121179546425, 0.0009379376983344829, 0.001034140103592906, 0.0011381397456537523, 0.0012503517142284204, 0.0013711930153922926, 0.0015010806151032712, 0.0016404293559836149, 0.0017896497555462193, 0.0019491456954802532, 0.0021193120130158873, 0.0023005320067402794, 0.0024931748705324776, 0.0026975930704883173, 0.0029141196808267615, 0.003143065695765971, 0.0033847173352403222, 0.003639333363063486, 0.003907142436740234, 0.004188340508554851, 0.0044830882978345934, 0.004791508854370073, 0.005113685232895115, 0.005449658298249973, 0.005799424680408002, 0.006162934897909038, 0.006540091667437027, 0.0069307484162913924, 0.007334708013361857, 0.00775172173291072, 0.008181488464013963, 0.008623654176939926, 0.009077811656039589, 0.00954350050691796, 0.010020207443764318, 0.010507366860772199, 0.011004361689536788, 0.011510524542305216, 0.012025139138869302, 0.012547442012840897, 0.01307662449102369, 0.013611834937585608, 0.014152181252819064, 0.014696733614415779, 0.015244527447414719, 0.01579456660733642, 0.016345826759478453, 0.016897258935958965, 0.017447793250845917, 0.01799634275260091, 0.018541807392171605, 0.01908307808428879, 0.019619040838937216, 0.020148580939598287, 0.0206705871446095, 0.021183955887971537, 0.021687595456045365, 0.022180430116912127, 0.022661404179637704, 0.023129485961321878, 0.023583671640608702, 0.02402298897727974, 0.024446500878587917, 0.024853308794265606, 0.025242555923314043, 0.025613430217236194, 0.02596516716571812, 0.02629705235243563, 0.026608423770188253, 0.02689867388627293, 0.027167251450669224, 0.027413663041303757, 0.02763747434236845, 0.027838311153352068, 0.028015860128088262, 0.028169869244771654, 0.028300148009455923, 0.02840656739704628, 0.028489059535290136, 0.02854761713859645, 0.028582292699821845, 0.02859319744934832, 0.02858050009189313, 0.028544425332435987, 0.028485252203614992, 0.028403312207631197, 0.02829898728645877, 0.028172707634651552, 0.028024949369506932, 0.027856232073707524, 0.02766711622575161, 0.027458200533617288, 0.027230119187169416, 0.026983539044675528, 0.026719156768668925, 0.026437695926150438, 0.02613990406773069, 0.02582654979994621, 0.025498419864472266, 0.025156316237415342, 0.02480105326122387, 0.024433454821163058, 0.024054351577513258, 0.0236645782639931, 0.023264971062071833, 0.022856365060066147, 0.022439591805124896, 0.022015476955356175, 0.021584838038508983, 0.021148482322854396, 0.02070720480502349, 0.020261786318797312, 0.01981299176801514, 0.019361568486040506, 0.018908244723421102, 0.018453728264692385, 0.017998705174589683, 0.01754383867324614, 0.017089768139358266, 0.016637108239725237, 0.01618644818298298, 0.015738351094912874, 0.015293353512194005, 0.014851964991067623, 0.01441466782702113, 0.013981916881238298, 0.013554139509285627, 0.013131735587260584, 0.012715077630390878, 0.012304510998941393, 0.011900354186106727, 0.011502899182507829, 0.011112411911830477, 0.010729132732108971, 0.010353276997175876, 0.009985035672815001, 0.009624576002215083, 0.009272042215413083, 0.008927556277506483, 0.008591218670550925, 0.00826310920420399, 0.007943287850332438, 0.007631795596978887, 0.007328655317274101, 0.007033872649082182, 0.0067474368813692604, 0.0064693218435076414, 0.0061994867939429675, 0.005937877304887038, 0.005684426139905217, 0.005439054121527167, 0.005201670986200314, 0.004972176224160429, 0.004750459901999007, 0.004536403465936222, 0.00432988052400928, 0.004130757605607459, 0.003938894896975995, 0.0037541469515126485, 0.003576363373858411, 0.0034053894769737114, 0.003241066911546718, 0.003083234267257677, 0.0029317276455593103, 0.0027863812037871053, 0.0026470276705403864, 0.002513498832404002, 0.0023856259921873043, 0.0022632403989738628, 0.0021461736503597525, 0.0020342580673556863, 0.0019273270425006917, 0.0018252153618087403, 0.001727759501230879, 0.001634797898370618, 0.0015461712002356022]}, {\"mode\": \"lines\", \"type\": \"scatter\", \"x\": [123.2252214533618, 123.2252214533618], \"y\": [0, 0.006339140273109225]}, {\"fill\": \"tozeroy\", \"line\": {\"color\": \"red\", \"width\": 0}, \"mode\": \"lines\", \"type\": \"scatter\", \"x\": [123.2252214533618, 123.45820911463582, 123.69119677590986, 123.92418443718388, 124.1571720984579, 124.39015975973193, 124.62314742100597, 124.85613508227999, 125.08912274355401, 125.32211040482805, 125.55509806610208, 125.7880857273761, 126.02107338865012, 126.25406104992416, 126.48704871119818, 126.72003637247221, 126.95302403374625, 127.18601169502027, 127.4189993562943, 127.65198701756832, 127.88497467884235, 128.11796234011638, 128.3509500013904, 128.58393766266443, 128.81692532393845, 129.0499129852125, 129.28290064648652, 129.51588830776055, 129.74887596903457, 129.9818636303086, 130.21485129158262, 130.44783895285664, 130.6808266141307, 130.91381427540472, 131.14680193667874, 131.37978959795277, 131.6127772592268, 131.8457649205008, 132.07875258177484, 132.3117402430489, 132.5447279043229, 132.77771556559694, 133.01070322687096, 133.24369088814498, 133.476678549419, 133.70966621069303, 133.94265387196708, 134.1756415332411, 134.40862919451513, 134.64161685578915], \"y\": [0.006339140273109225, 0.006183373210571821, 0.006030391977157445, 0.005880183662836917, 0.005732733951613198, 0.0055880271791696814, 0.005446046390001092, 0.005306773393973275, 0.005170188822262191, 0.005036272182619822, 0.004905001913921826, 0.004776355439953302, 0.004650309222393577, 0.004526838812958495, 0.0044059189046692275, 0.004287523382210801, 0.004171625371355167, 0.004058197287416932, 0.00394721088271897, 0.0038386372930461266, 0.0037324470830659923, 0.003628610290698083, 0.003527096470418372, 0.0034278747354828188, 0.0033309137990613783, 0.003236182014271317, 0.0031436474131047694, 0.003053277744241009, 0.002965040509745235, 0.0028789030006495645, 0.0027948323314131783, 0.0027127954732698765, 0.0026327592864597445, 0.0025546905513532097, 0.002478555998471192, 0.002404322337410644, 0.002331956284682649, 0.0022614245904725586, 0.0021926940643341533, 0.0021257315998287753, 0.0020605041981223396, 0.001996978990554625, 0.0019351232601951378, 0.001874904462400238, 0.0018162902443895242, 0.0017592484638564764, 0.001703747206631648, 0.001649754803417607, 0.0015972398456111521, 0.0015461712002356022]}, {\"mode\": \"markers\", \"type\": \"scatter\", \"x\": [102.35932321987339], \"y\": [0]}],\n",
              "                        {\"autosize\": false, \"height\": 400, \"showlegend\": false, \"template\": {\"data\": {\"bar\": [{\"error_x\": {\"color\": \"#2a3f5f\"}, \"error_y\": {\"color\": \"#2a3f5f\"}, \"marker\": {\"line\": {\"color\": \"#E5ECF6\", \"width\": 0.5}}, \"type\": \"bar\"}], \"barpolar\": [{\"marker\": {\"line\": {\"color\": \"#E5ECF6\", \"width\": 0.5}}, \"type\": \"barpolar\"}], \"carpet\": [{\"aaxis\": {\"endlinecolor\": \"#2a3f5f\", \"gridcolor\": \"white\", \"linecolor\": \"white\", \"minorgridcolor\": \"white\", \"startlinecolor\": \"#2a3f5f\"}, \"baxis\": {\"endlinecolor\": \"#2a3f5f\", \"gridcolor\": \"white\", \"linecolor\": \"white\", \"minorgridcolor\": \"white\", \"startlinecolor\": \"#2a3f5f\"}, \"type\": \"carpet\"}], \"choropleth\": [{\"colorbar\": {\"outlinewidth\": 0, \"ticks\": \"\"}, \"type\": \"choropleth\"}], \"contour\": [{\"colorbar\": {\"outlinewidth\": 0, \"ticks\": \"\"}, \"colorscale\": [[0.0, \"#0d0887\"], [0.1111111111111111, \"#46039f\"], [0.2222222222222222, \"#7201a8\"], [0.3333333333333333, \"#9c179e\"], [0.4444444444444444, \"#bd3786\"], [0.5555555555555556, \"#d8576b\"], [0.6666666666666666, \"#ed7953\"], [0.7777777777777778, \"#fb9f3a\"], [0.8888888888888888, \"#fdca26\"], [1.0, \"#f0f921\"]], \"type\": \"contour\"}], \"contourcarpet\": [{\"colorbar\": {\"outlinewidth\": 0, \"ticks\": \"\"}, \"type\": \"contourcarpet\"}], \"heatmap\": [{\"colorbar\": {\"outlinewidth\": 0, \"ticks\": \"\"}, \"colorscale\": [[0.0, \"#0d0887\"], [0.1111111111111111, \"#46039f\"], [0.2222222222222222, \"#7201a8\"], [0.3333333333333333, \"#9c179e\"], [0.4444444444444444, \"#bd3786\"], [0.5555555555555556, \"#d8576b\"], [0.6666666666666666, \"#ed7953\"], [0.7777777777777778, \"#fb9f3a\"], [0.8888888888888888, \"#fdca26\"], [1.0, \"#f0f921\"]], \"type\": \"heatmap\"}], \"heatmapgl\": [{\"colorbar\": {\"outlinewidth\": 0, \"ticks\": \"\"}, \"colorscale\": [[0.0, \"#0d0887\"], [0.1111111111111111, \"#46039f\"], [0.2222222222222222, \"#7201a8\"], [0.3333333333333333, \"#9c179e\"], [0.4444444444444444, \"#bd3786\"], [0.5555555555555556, \"#d8576b\"], [0.6666666666666666, \"#ed7953\"], [0.7777777777777778, \"#fb9f3a\"], [0.8888888888888888, \"#fdca26\"], [1.0, \"#f0f921\"]], \"type\": \"heatmapgl\"}], \"histogram\": [{\"marker\": {\"colorbar\": {\"outlinewidth\": 0, \"ticks\": \"\"}}, \"type\": \"histogram\"}], \"histogram2d\": [{\"colorbar\": {\"outlinewidth\": 0, \"ticks\": \"\"}, \"colorscale\": [[0.0, \"#0d0887\"], [0.1111111111111111, \"#46039f\"], [0.2222222222222222, \"#7201a8\"], [0.3333333333333333, \"#9c179e\"], [0.4444444444444444, \"#bd3786\"], [0.5555555555555556, \"#d8576b\"], [0.6666666666666666, \"#ed7953\"], [0.7777777777777778, \"#fb9f3a\"], [0.8888888888888888, \"#fdca26\"], [1.0, \"#f0f921\"]], \"type\": \"histogram2d\"}], \"histogram2dcontour\": [{\"colorbar\": {\"outlinewidth\": 0, \"ticks\": \"\"}, \"colorscale\": [[0.0, \"#0d0887\"], [0.1111111111111111, \"#46039f\"], [0.2222222222222222, \"#7201a8\"], [0.3333333333333333, \"#9c179e\"], [0.4444444444444444, \"#bd3786\"], [0.5555555555555556, \"#d8576b\"], [0.6666666666666666, \"#ed7953\"], [0.7777777777777778, \"#fb9f3a\"], [0.8888888888888888, \"#fdca26\"], [1.0, \"#f0f921\"]], \"type\": \"histogram2dcontour\"}], \"mesh3d\": [{\"colorbar\": {\"outlinewidth\": 0, \"ticks\": \"\"}, \"type\": \"mesh3d\"}], \"parcoords\": [{\"line\": {\"colorbar\": {\"outlinewidth\": 0, \"ticks\": \"\"}}, \"type\": \"parcoords\"}], \"pie\": [{\"automargin\": true, \"type\": \"pie\"}], \"scatter\": [{\"marker\": {\"colorbar\": {\"outlinewidth\": 0, \"ticks\": \"\"}}, \"type\": \"scatter\"}], \"scatter3d\": [{\"line\": {\"colorbar\": {\"outlinewidth\": 0, \"ticks\": \"\"}}, \"marker\": {\"colorbar\": {\"outlinewidth\": 0, \"ticks\": \"\"}}, \"type\": \"scatter3d\"}], \"scattercarpet\": [{\"marker\": {\"colorbar\": {\"outlinewidth\": 0, \"ticks\": \"\"}}, \"type\": \"scattercarpet\"}], \"scattergeo\": [{\"marker\": {\"colorbar\": {\"outlinewidth\": 0, \"ticks\": \"\"}}, \"type\": \"scattergeo\"}], \"scattergl\": [{\"marker\": {\"colorbar\": {\"outlinewidth\": 0, \"ticks\": \"\"}}, \"type\": \"scattergl\"}], \"scattermapbox\": [{\"marker\": {\"colorbar\": {\"outlinewidth\": 0, \"ticks\": \"\"}}, \"type\": \"scattermapbox\"}], \"scatterpolar\": [{\"marker\": {\"colorbar\": {\"outlinewidth\": 0, \"ticks\": \"\"}}, \"type\": \"scatterpolar\"}], \"scatterpolargl\": [{\"marker\": {\"colorbar\": {\"outlinewidth\": 0, \"ticks\": \"\"}}, \"type\": \"scatterpolargl\"}], \"scatterternary\": [{\"marker\": {\"colorbar\": {\"outlinewidth\": 0, \"ticks\": \"\"}}, \"type\": \"scatterternary\"}], \"surface\": [{\"colorbar\": {\"outlinewidth\": 0, \"ticks\": \"\"}, \"colorscale\": [[0.0, \"#0d0887\"], [0.1111111111111111, \"#46039f\"], [0.2222222222222222, \"#7201a8\"], [0.3333333333333333, \"#9c179e\"], [0.4444444444444444, \"#bd3786\"], [0.5555555555555556, \"#d8576b\"], [0.6666666666666666, \"#ed7953\"], [0.7777777777777778, \"#fb9f3a\"], [0.8888888888888888, \"#fdca26\"], [1.0, \"#f0f921\"]], \"type\": \"surface\"}], \"table\": [{\"cells\": {\"fill\": {\"color\": \"#EBF0F8\"}, \"line\": {\"color\": \"white\"}}, \"header\": {\"fill\": {\"color\": \"#C8D4E3\"}, \"line\": {\"color\": \"white\"}}, \"type\": \"table\"}]}, \"layout\": {\"annotationdefaults\": {\"arrowcolor\": \"#2a3f5f\", \"arrowhead\": 0, \"arrowwidth\": 1}, \"coloraxis\": {\"colorbar\": {\"outlinewidth\": 0, \"ticks\": \"\"}}, \"colorscale\": {\"diverging\": [[0, \"#8e0152\"], [0.1, \"#c51b7d\"], [0.2, \"#de77ae\"], [0.3, \"#f1b6da\"], [0.4, \"#fde0ef\"], [0.5, \"#f7f7f7\"], [0.6, \"#e6f5d0\"], [0.7, \"#b8e186\"], [0.8, \"#7fbc41\"], [0.9, \"#4d9221\"], [1, \"#276419\"]], \"sequential\": [[0.0, \"#0d0887\"], [0.1111111111111111, \"#46039f\"], [0.2222222222222222, \"#7201a8\"], [0.3333333333333333, \"#9c179e\"], [0.4444444444444444, \"#bd3786\"], [0.5555555555555556, \"#d8576b\"], [0.6666666666666666, \"#ed7953\"], [0.7777777777777778, \"#fb9f3a\"], [0.8888888888888888, \"#fdca26\"], [1.0, \"#f0f921\"]], \"sequentialminus\": [[0.0, \"#0d0887\"], [0.1111111111111111, \"#46039f\"], [0.2222222222222222, \"#7201a8\"], [0.3333333333333333, \"#9c179e\"], [0.4444444444444444, \"#bd3786\"], [0.5555555555555556, \"#d8576b\"], [0.6666666666666666, \"#ed7953\"], [0.7777777777777778, \"#fb9f3a\"], [0.8888888888888888, \"#fdca26\"], [1.0, \"#f0f921\"]]}, \"colorway\": [\"#636efa\", \"#EF553B\", \"#00cc96\", \"#ab63fa\", \"#FFA15A\", \"#19d3f3\", \"#FF6692\", \"#B6E880\", \"#FF97FF\", \"#FECB52\"], \"font\": {\"color\": \"#2a3f5f\"}, \"geo\": {\"bgcolor\": \"white\", \"lakecolor\": \"white\", \"landcolor\": \"#E5ECF6\", \"showlakes\": true, \"showland\": true, \"subunitcolor\": \"white\"}, \"hoverlabel\": {\"align\": \"left\"}, \"hovermode\": \"closest\", \"mapbox\": {\"style\": \"light\"}, \"paper_bgcolor\": \"white\", \"plot_bgcolor\": \"#E5ECF6\", \"polar\": {\"angularaxis\": {\"gridcolor\": \"white\", \"linecolor\": \"white\", \"ticks\": \"\"}, \"bgcolor\": \"#E5ECF6\", \"radialaxis\": {\"gridcolor\": \"white\", \"linecolor\": \"white\", \"ticks\": \"\"}}, \"scene\": {\"xaxis\": {\"backgroundcolor\": \"#E5ECF6\", \"gridcolor\": \"white\", \"gridwidth\": 2, \"linecolor\": \"white\", \"showbackground\": true, \"ticks\": \"\", \"zerolinecolor\": \"white\"}, \"yaxis\": {\"backgroundcolor\": \"#E5ECF6\", \"gridcolor\": \"white\", \"gridwidth\": 2, \"linecolor\": \"white\", \"showbackground\": true, \"ticks\": \"\", \"zerolinecolor\": \"white\"}, \"zaxis\": {\"backgroundcolor\": \"#E5ECF6\", \"gridcolor\": \"white\", \"gridwidth\": 2, \"linecolor\": \"white\", \"showbackground\": true, \"ticks\": \"\", \"zerolinecolor\": \"white\"}}, \"shapedefaults\": {\"line\": {\"color\": \"#2a3f5f\"}}, \"ternary\": {\"aaxis\": {\"gridcolor\": \"white\", \"linecolor\": \"white\", \"ticks\": \"\"}, \"baxis\": {\"gridcolor\": \"white\", \"linecolor\": \"white\", \"ticks\": \"\"}, \"bgcolor\": \"#E5ECF6\", \"caxis\": {\"gridcolor\": \"white\", \"linecolor\": \"white\", \"ticks\": \"\"}}, \"title\": {\"x\": 0.05}, \"xaxis\": {\"automargin\": true, \"gridcolor\": \"white\", \"linecolor\": \"white\", \"ticks\": \"\", \"title\": {\"standoff\": 15}, \"zerolinecolor\": \"white\", \"zerolinewidth\": 2}, \"yaxis\": {\"automargin\": true, \"gridcolor\": \"white\", \"linecolor\": \"white\", \"ticks\": \"\", \"title\": {\"standoff\": 15}, \"zerolinecolor\": \"white\", \"zerolinewidth\": 2}}}, \"title\": {\"text\": \"$\\\\text{Asymptotic distribution of }\\\\Lambda$\", \"x\": 0.5, \"xanchor\": \"center\", \"y\": 0.85, \"yanchor\": \"middle\"}, \"width\": 700, \"xaxis\": {\"title\": {\"text\": \"$\\\\Lambda$\"}}},\n",
              "                        {\"responsive\": true}\n",
              "                    ).then(function(){\n",
              "                            \n",
              "var gd = document.getElementById('a35d9459-549b-43a7-bf69-67a895d7b22e');\n",
              "var x = new MutationObserver(function (mutations, observer) {{\n",
              "        var display = window.getComputedStyle(gd).display;\n",
              "        if (!display || display === 'none') {{\n",
              "            console.log([gd, 'removed!']);\n",
              "            Plotly.purge(gd);\n",
              "            observer.disconnect();\n",
              "        }}\n",
              "}});\n",
              "\n",
              "// Listen for the removal of the full notebook cells\n",
              "var notebookContainer = gd.closest('#notebook-container');\n",
              "if (notebookContainer) {{\n",
              "    x.observe(notebookContainer, {childList: true});\n",
              "}}\n",
              "\n",
              "// Listen for the clearing of the current output cell\n",
              "var outputEl = gd.closest('.output');\n",
              "if (outputEl) {{\n",
              "    x.observe(outputEl, {childList: true});\n",
              "}}\n",
              "\n",
              "                        })\n",
              "                };\n",
              "                \n",
              "            </script>\n",
              "        </div>\n",
              "</body>\n",
              "</html>"
            ]
          },
          "metadata": {}
        }
      ]
    },
    {
      "cell_type": "markdown",
      "metadata": {
        "id": "_IGJyG6uAz1X"
      },
      "source": [
        "<font size=\"2\" color=\"#03bafc\"> And the $p$-value associated with this value is:\n",
        "</font>"
      ]
    },
    {
      "cell_type": "code",
      "metadata": {
        "id": "g9bTVoyMAzI8",
        "outputId": "853f26ad-a74c-4266-c498-46a57efccfe0",
        "colab": {
          "base_uri": "https://localhost:8080/"
        }
      },
      "source": [
        "p_value = 1-chi2.cdf(Lambda, df_chi)\n",
        "print(f'{p_value:.2f}')"
      ],
      "execution_count": 126,
      "outputs": [
        {
          "output_type": "stream",
          "name": "stdout",
          "text": [
            "0.39\n"
          ]
        }
      ]
    },
    {
      "cell_type": "markdown",
      "metadata": {
        "id": "rbs0xx8lBQCX"
      },
      "source": [
        "<font size=\"2\" color=\"#03bafc\"> Under this assumptions, the null cannot be rejected and thus the emission rate appears to be constant.\n",
        "</font>"
      ]
    },
    {
      "cell_type": "markdown",
      "metadata": {
        "id": "pL1xi0o2pObb"
      },
      "source": [
        "## **Problem 1.3:** $p$-values\n",
        "\n",
        "Read the statement by the American Statistical Association about $p$-values ([Wasserstein and Lazar: The ASA’s statement on p-values: context, process, and purpose](https://github.com/pipeton8/6.439-stats-comp-applications/blob/main/Assignments/1%20-%20Stats%20Review/The%20ASA%20s%20Statement%20on%20p%20Values%20Context%20Process%20and%20Purpose.pdf)) and respond to the following scenarios."
      ]
    },
    {
      "cell_type": "markdown",
      "metadata": {
        "id": "1jdTfacKqD5z"
      },
      "source": [
        "##### (a) A friend looking at your notes from the first lecture saw that there’s a $p$-value of 0.0012 for the HIP study. They ask you, does that mean there’s a 99.88% chance that offering a mammography decreases the risk of death from breast cancer? Explain to your friend exactly what this $p$-value means, including any assumptions that were made.\n"
      ]
    },
    {
      "cell_type": "markdown",
      "metadata": {
        "id": "XVl8uZWWqgm1"
      },
      "source": [
        "<font size=\"2\" color=\"#03bafc\"> <i> Answer.  </i></font>\n"
      ]
    },
    {
      "cell_type": "markdown",
      "metadata": {
        "id": "eX998gU8qH0T"
      },
      "source": [
        "##### (b) Your colleague in education studies cares about what can improve the education outcome in early childhood. He thinks the ideal planning should be to include as many variables as possible and regress children’s educational outcome on the set. Then we select the variables that are shown to be statistically significant and inform the policy makers. Is this approach likely to produce the intended good policies? What other approach to this problem could you suggest?\n"
      ]
    },
    {
      "cell_type": "markdown",
      "metadata": {
        "id": "ca1-AgQOqi24"
      },
      "source": [
        "<font size=\"2\" color=\"#03bafc\"> <i> Answer.  </i></font>\n"
      ]
    },
    {
      "cell_type": "markdown",
      "metadata": {
        "id": "xP49hqqBqJ78"
      },
      "source": [
        "##### (c) An economist collects data on many nationwide variables and surprisingly finds that if she runs a regression between chocolate consumption and number of Nobel prize laureates, the coefficient is statistically significant. Should she conclude that there exists a relationship between Nobel prize and chocolate consumption? Explain why.\n"
      ]
    },
    {
      "cell_type": "markdown",
      "metadata": {
        "id": "jaGNzgZ_qjPa"
      },
      "source": [
        "<font size=\"2\" color=\"#03bafc\"> <i> Answer.  </i></font>\n"
      ]
    },
    {
      "cell_type": "markdown",
      "metadata": {
        "id": "ty4Kmn2aqMam"
      },
      "source": [
        "##### (d) Your lab collects individual-level data on 50,000 humans for 100 features, including IQ and chocolate consumption. They find that their initial hypothesis about the relation between chocolate consumption and IQ has a $p$-value higher than 0.05. However, they find that there are other variables in the data set that have p-value less than 0.05, namely, a subject’s family income and number of siblings. They therefore decide to not write about chocolate consumption, but rather, report these statistically significant results in their paper, and provide possible explanations. Is this sound scientific practice? Please discuss.\n"
      ]
    },
    {
      "cell_type": "markdown",
      "metadata": {
        "id": "E9VTsG1Eqjmi"
      },
      "source": [
        "<font size=\"2\" color=\"#03bafc\"> <i> Answer.  </i></font>\n"
      ]
    },
    {
      "cell_type": "markdown",
      "metadata": {
        "id": "A3uifvxcqOMJ"
      },
      "source": [
        "##### (e) A neuroscience lab lab runs a randomized experiment on 100 mice by adding chocolate in half of the mice’s diet and another food of the equivalent calories in another half’s diet. They find that the difference between the two groups’ time in solving a maze puzzle has p- value lower then 0.05. Should they conclude that chocolate consumption leads to improved cognitive power in mice? Explain why."
      ]
    },
    {
      "cell_type": "markdown",
      "metadata": {
        "id": "S5lUgFrGqkFd"
      },
      "source": [
        "<font size=\"2\" color=\"#03bafc\"> <i> Answer.  </i></font>\n"
      ]
    },
    {
      "cell_type": "markdown",
      "metadata": {
        "id": "g1BkTl0Jqvib"
      },
      "source": [
        "## **Problem 1.4:** Published research findings are false\n",
        "\n",
        "Read the [paper by Ioannidis (PLoS Medicine, 2005)](https://github.com/pipeton8/6.439-stats-comp-applications/blob/main/Assignments/1%20-%20Stats%20Review/Ioannidis_paper.pdf) on why most published research findings are false  and summarize the paper in your own words. What is the most important lesson you learned from reading this paper? Explain the computations going into Table 1, Table 2, and Table 3. How does Ioannidis get to the conclusion that a research finding is more likely true than false if $(1 − \\beta)R > \\alpha $ (at the beginning of page 697)? What does this mean?"
      ]
    },
    {
      "cell_type": "markdown",
      "metadata": {
        "id": "2f-R8g5ssc-K"
      },
      "source": [
        "<font size=\"2\" color=\"#03bafc\"> <i> Answer.  </i></font>"
      ]
    },
    {
      "cell_type": "markdown",
      "metadata": {
        "id": "sccuHlSbsvD4"
      },
      "source": [
        "# Part 2\n",
        "<hr>"
      ]
    },
    {
      "cell_type": "markdown",
      "metadata": {
        "id": "1ZPaiRGuszZ5"
      },
      "source": [
        "## **Problem 1.5:** Detecting Leukemia types\n",
        "\n",
        "The data set `golub` consists of the expression levels of 3,051 genes for 38 tumor mRNA samples. Each tumor mRNA sample comes from one patient (i.e., 38 patients total): 27 of these tumor samples correspond to acute lymphoblastic leukemia (ALL), while the remaining 11 correspond to acute myeloid leukemia (AML). How many genes are associated with the different tumor types (meaning that their expression level differs between the two tumor types) using (i) the uncorrected $p$-values, (ii) the Holm-Bonferroni corrected $p$-values, and (iii) the Benjamini-Hochberg corrected $p$-values? Feel free to use existing libraries for multiple hypothesis testing, in `R` or `python`. You can use $\\alpha = 0.05$ for the significance threshold.\n",
        "<br>\n",
        "\n",
        "**Source of data:** Golub et al. (1999). [_Molecular classification of cancer: class discovery and class prediction by gene expression monitoring_](https://www.science.org/doi/10.1126/science.286.5439.531?url_ver=Z39.88-2003&rfr_id=ori:rid:crossref.org&rfr_dat=cr_pub%20%200pubmed), Science, Vol. 286:531-537. \n"
      ]
    },
    {
      "cell_type": "markdown",
      "metadata": {
        "id": "i9-JgGaLvjJK"
      },
      "source": [
        "<font size=\"2\" color=\"#03bafc\"> <i> Answer.  </i></font>"
      ]
    },
    {
      "cell_type": "markdown",
      "metadata": {
        "id": "-hVIRkgJvpia"
      },
      "source": [
        "## **Problem 1.6:** Regression adn Gradient Descent\n",
        "\n",
        "In this problem, we will look at OLS and the gradient descent algorithm."
      ]
    },
    {
      "cell_type": "markdown",
      "metadata": {
        "id": "gsV6kuIMvwm0"
      },
      "source": [
        "##### (a) Read in the synthetic data matrix `syn_X.csv` and the vector `syn_y.csv` of \"observations\". Compute the OLS estimator $\\hat{\\beta}$ by matrix inversion. "
      ]
    },
    {
      "cell_type": "markdown",
      "metadata": {
        "id": "hnR_j4ZbwGSc"
      },
      "source": [
        "<font size=\"2\" color=\"#03bafc\"> <i> Answer.  </i></font>\n"
      ]
    },
    {
      "cell_type": "markdown",
      "metadata": {
        "id": "_KbHb_a7wGtR"
      },
      "source": [
        "##### (b) Implement gradient descent for the least squares problem and run it on the synthetic test data loaded in the previous question. As a function of the iteration $t$, plot the mean squared error (MSE) and the distance $\\|\\beta^t − \\hat{\\beta}\\|$ of your current iterates (in separate plots). Play with different initializations $\\beta^0$ and different step sizes. What do you observe? Explain. Based on your observations, what would be an optimal step size?"
      ]
    },
    {
      "cell_type": "markdown",
      "metadata": {
        "id": "c9PLYycBwdrR"
      },
      "source": [
        "<font size=\"2\" color=\"#03bafc\"> <i> Answer.  </i></font>"
      ]
    },
    {
      "cell_type": "markdown",
      "metadata": {
        "id": "GR28yR-BwjAQ"
      },
      "source": [
        "##### Next, we look at some real data. General Motors collected data (found in `mortality.csv`) from 60 US cities to study the contribution of air pollution to mortality. The dependent variable is the age-adjusted mortality (`Mortality`). The data include variables measuring climate characteristics (`JanTemp`, `JulyTemp`, `RelHum`, `Rain`), variables measuring demographic characteristics of the cities (`Educ`, `Dens`, `NonWhite`, `WhiteCollar`, `Pop`, `House`, `Income`), and variables recording the pollution potential of three different air pollutants (`HC`, `NOx`, `SO2`)."
      ]
    },
    {
      "cell_type": "markdown",
      "metadata": {
        "id": "8e7bR2n8PTt0"
      },
      "source": [
        "##### (c) Get an overview of the data and account for possible problems. Which cities stand out? Which of the variables need to be transformed? When applicable, which transformations would you apply?"
      ]
    },
    {
      "cell_type": "markdown",
      "metadata": {
        "id": "ImjugV7PPluc"
      },
      "source": [
        "<font size=\"2\" color=\"#03bafc\"> <i> Answer.  </i></font>"
      ]
    },
    {
      "cell_type": "markdown",
      "metadata": {
        "id": "RoD_XDeUPlwr"
      },
      "source": [
        "##### (d) Run your gradient descent algorithm for least squares on the raw data and on the trans- formed data, with different step sizes as before. What do you observe?\n"
      ]
    },
    {
      "cell_type": "markdown",
      "metadata": {
        "id": "0zYK6v6XPqxe"
      },
      "source": [
        "<font size=\"2\" color=\"#03bafc\"> <i> Answer.  </i></font>"
      ]
    },
    {
      "cell_type": "markdown",
      "metadata": {
        "id": "R0lMhmJOPsLt"
      },
      "source": [
        "##### (e) Carry out a multiple linear regression containing all variables with the necessary transfor- mations (with gradient descent as in d) or with matrix inversion). Does the model fit well? Check the residuals and comment on what you observe."
      ]
    },
    {
      "cell_type": "markdown",
      "metadata": {
        "id": "SD5_Xw3hPwj-"
      },
      "source": [
        "<font size=\"2\" color=\"#03bafc\"> <i> Answer.  </i></font>"
      ]
    },
    {
      "cell_type": "markdown",
      "metadata": {
        "id": "GIc-UlcoPywR"
      },
      "source": [
        "##### (f) _Gradient descent for other functions:_ A popular regression model for binary observations $y$ is given by the following estimator: $$ \\hat{\\beta} = \\arg\\min_{\\beta} \\sum_{i} \\log\\left(1 + \\exp\\left(-y_i \\beta^T x_i \\right)\\right)$$ How would you solve this via gradient descent? Derive the corresponding gradient and write down the steps of the algorithm. "
      ]
    },
    {
      "cell_type": "markdown",
      "metadata": {
        "id": "yo0gDei2QbJS"
      },
      "source": [
        "<font size=\"2\" color=\"#03bafc\"> <i> Answer.  </i></font>"
      ]
    },
    {
      "cell_type": "markdown",
      "metadata": {
        "id": "MivbyPUdQc1m"
      },
      "source": [
        "## **Problem 1.7:** Computational Aspects of Regression\n",
        "\n",
        "In this problem, we will consider some computational challenges that arise in practice when\n",
        "performing linear regression."
      ]
    },
    {
      "cell_type": "markdown",
      "metadata": {
        "id": "gE72sManQyyC"
      },
      "source": [
        "##### (a) Suppose you have a problem in which the feature matrix, $X$, has 100 million rows and 200 columns. What challenge will arise when you try to apply either the matrix inversion method or the gradient descent method to compute the regression coefficients as in the previous problem? _Hint: if each entry is a 64-bit float, how much memory will be required to store $X$?_"
      ]
    },
    {
      "cell_type": "markdown",
      "metadata": {
        "id": "CdijnOUMQ6Cx"
      },
      "source": [
        "<font size=\"2\" color=\"#03bafc\"> <i> Answer.  </i></font>"
      ]
    },
    {
      "cell_type": "markdown",
      "metadata": {
        "id": "eKDhTisDQ78U"
      },
      "source": [
        "##### (b) Suggest one method that will allow you to compute the linear regression coefficients for this problem. Be specific. Discuss pros and cons of your proposed approach."
      ]
    },
    {
      "cell_type": "markdown",
      "metadata": {
        "id": "GrMIxe8vQ_cl"
      },
      "source": [
        "<font size=\"2\" color=\"#03bafc\"> <i> Answer.  </i></font>"
      ]
    },
    {
      "cell_type": "markdown",
      "metadata": {
        "id": "tikS8ZooRBxl"
      },
      "source": [
        "##### Now, suppose we are in a setting in which the number of data points, $n$, is much smaller than the number of variables, $p$, i.e., $X$ has many more columns than rows. This situation occurs often in biological applications, for example, in which the features may represent the expression levels of various genes. This is often referred to as the “high-dimensional” regime. (Assume $X$ is small enough that it can fit in memory.)\n"
      ]
    },
    {
      "cell_type": "markdown",
      "metadata": {
        "id": "CgSS7hMjRVGW"
      },
      "source": [
        "##### (c) Can we run gradient descent to compute the regression coefficients? What do you think about the solution? Why? _Hint: what is the maximum rank of the matrix $X^T X$?_"
      ]
    },
    {
      "cell_type": "markdown",
      "metadata": {
        "id": "n9gwdfoRRgMK"
      },
      "source": [
        "<font size=\"2\" color=\"#03bafc\"> <i> Answer.  </i></font>"
      ]
    },
    {
      "cell_type": "markdown",
      "metadata": {
        "id": "XB5P8AjFRhNZ"
      },
      "source": [
        "##### (d) Load the data from the previous question, `syn_X.csv` and `syn_Y.csv`. Compute the regression coefficients by solving the LASSO problem for various values of $\\lambda$. What happens to the solution as $\\lambda$ increases? Choose $\\lambda$ such that only one component of the coefficient vector is nonzero. What is the value of $\\lambda$? Which coefficient is it? (For this problem, feel free to use a package that performs LASSO regularization, such as `scikit-learn` in `python` or `glmnet` in `R`.)"
      ]
    },
    {
      "cell_type": "markdown",
      "metadata": {
        "id": "V7wdgcFZRy60"
      },
      "source": [
        "<font size=\"2\" color=\"#03bafc\"> <i> Answer.  </i></font>"
      ]
    },
    {
      "cell_type": "markdown",
      "metadata": {
        "id": "l0bd2VggR2-7"
      },
      "source": [
        "## **Problem 1.8:** Likelihood ratio test for a Gaussian model\n",
        "\n",
        "In this problem, we will analyze the likelihood ratio statistic for the model $X \\sim \\mathcal{N}(\\mu,\\sigma^2)$ with unknown mean and unknown variance and null hypothesis $H_0 : \\mu = 0$ versus alternative hypothesis $H_A : \\mu \\neq 0$."
      ]
    },
    {
      "cell_type": "markdown",
      "metadata": {
        "id": "_DjXJAIaSKLu"
      },
      "source": [
        "##### (a) What is the likelihood function for $n$ independent and identically distributed (iid) Gaussian random variables (with mean $\\mu$ and variance $\\sigma^2$)?"
      ]
    },
    {
      "cell_type": "markdown",
      "metadata": {
        "id": "i3e_7rHRSWR4"
      },
      "source": [
        "<font size=\"2\" color=\"#03bafc\"> <i> Answer.  </i></font>"
      ]
    },
    {
      "cell_type": "markdown",
      "metadata": {
        "id": "hxI1KlIDSXh3"
      },
      "source": [
        "##### (b) What is the likelihood ratio statistic for the hypothesis test specified above? (You should simplify the statistic so it only involves the realizations $x_1, \\ldots , x_n$.)"
      ]
    },
    {
      "cell_type": "markdown",
      "metadata": {
        "id": "BXogfu_5SfO7"
      },
      "source": [
        "<font size=\"2\" color=\"#03bafc\"> <i> Answer.  </i></font>"
      ]
    },
    {
      "cell_type": "markdown",
      "metadata": {
        "id": "0E8hNYDISgKv"
      },
      "source": [
        "##### (c) What is the rejection region for a one-sample (two-sided) $t$-test for the same hypothesis test?"
      ]
    },
    {
      "cell_type": "markdown",
      "metadata": {
        "id": "0ijweTTkSl8G"
      },
      "source": [
        "<font size=\"2\" color=\"#03bafc\"> <i> Answer.  </i></font>"
      ]
    },
    {
      "cell_type": "markdown",
      "metadata": {
        "id": "j-Ix0hFhSnIM"
      },
      "source": [
        "##### (d) How is the likelihood ratio test related to the one-sample $t$-test? Show that the exact rejection region of the likelihood ratio test (without approximation by the $\\chi^2$-distribution) has the same form as the rejection region of the $t$-test.\n"
      ]
    },
    {
      "cell_type": "markdown",
      "metadata": {
        "id": "65elCfphSs6N"
      },
      "source": [
        "<font size=\"2\" color=\"#03bafc\"> <i> Answer.  </i></font>"
      ]
    },
    {
      "cell_type": "markdown",
      "metadata": {
        "id": "Czclwi2eSuJO"
      },
      "source": [
        "##### (e) Analyze either by simulation or by computation how large the error is if you use the asymptotic distribution of the likelihood ratio statistic versus the exact distribution as in (d)."
      ]
    },
    {
      "cell_type": "markdown",
      "metadata": {
        "id": "kWTJ0aPNS6us"
      },
      "source": [
        "<font size=\"2\" color=\"#03bafc\"> <i> Answer.  </i></font>"
      ]
    }
  ]
}