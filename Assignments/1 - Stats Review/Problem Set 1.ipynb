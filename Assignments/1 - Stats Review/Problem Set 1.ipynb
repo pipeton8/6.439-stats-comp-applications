{
  "nbformat": 4,
  "nbformat_minor": 0,
  "metadata": {
    "colab": {
      "name": "Problem Set 1.ipynb",
      "provenance": [],
      "toc_visible": true,
      "authorship_tag": "ABX9TyM7ZXgYOfGr2MnjquA9/KzF",
      "include_colab_link": true
    },
    "kernelspec": {
      "name": "python3",
      "display_name": "Python 3"
    },
    "language_info": {
      "name": "python"
    }
  },
  "cells": [
    {
      "cell_type": "markdown",
      "metadata": {
        "id": "view-in-github",
        "colab_type": "text"
      },
      "source": [
        "<a href=\"https://colab.research.google.com/github/pipeton8/6.439-stats-comp-applications/blob/main/Assignments/1%20-%20Stats%20Review/Problem%20Set%201.ipynb\" target=\"_parent\"><img src=\"https://colab.research.google.com/assets/colab-badge.svg\" alt=\"Open In Colab\"/></a>"
      ]
    },
    {
      "cell_type": "markdown",
      "metadata": {
        "id": "XRNx3Fj6HleX"
      },
      "source": [
        "# Problem Set 1 - Statistics, Computation and Applications\n",
        "\n",
        "(c) Felipe del Canto, September 2021\n",
        "***\n",
        "***"
      ]
    },
    {
      "cell_type": "markdown",
      "metadata": {
        "id": "CSH1kzReJ7nz"
      },
      "source": [
        "# Part 1\n",
        "***"
      ]
    },
    {
      "cell_type": "markdown",
      "metadata": {
        "id": "KzxTDcWNIcvo"
      },
      "source": [
        "## **Problem 1.1:** The Salk Vaccine Field Trial\n",
        "The first polio epidemic hit the United States in 1916. By the 1950s several vaccines against the disease had been discovered. The one developed by Jonas Salk seemed the most promising in laboratory trials. By 1954, the National Foundation for Infantile Paralysis (NFIP) was ready to try the vaccine in the real world. They ran a controlled experiment to analyze the effectiveness of the vaccine. The data is shown in the table below (grade refers to the educational stage):\n",
        "\n",
        "<table>\n",
        "  <caption> Table 1: NFIP study results.\n",
        "\n",
        "|| Size | Polio rate per 100,000\n",
        "|---|:---:|:---:|\n",
        "|Grade 2 (vaccine) | 225,000 | 25 |\n",
        "|Grades 1 and 3 (no vaccine) | 725,000 | 54\n",
        "|Grade 2 (no consent) | 125,000 | 44 |\n",
        "<br>\n",
        "\n",
        "</table>\n",
        "\n",
        "The experiment was later repeated as a randomized controlled double-blind experiment. This data is shown in the second table below:\n",
        "\n",
        "<table>\n",
        "  <caption> Table 2: Follow-up study results.\n",
        "\n",
        "| | Size | Polio rate per 100,000 |\n",
        "|---|:---:|:---:|\n",
        "|Treatment (vaccine) | 200,000 | 28 |\n",
        "|Control (salt injection) | 200,000 | 71 |\n",
        "|No consent | 350,000 | 46 |\n",
        "<br>"
      ]
    },
    {
      "cell_type": "markdown",
      "metadata": {
        "id": "uzwMXcgAkjaA"
      },
      "source": [
        "##### (a) Describe each of the two studies (e.g., their design) and comment on the differences between them. For each study, explain whether it helps measure what was intended to be estimated."
      ]
    },
    {
      "cell_type": "markdown",
      "metadata": {
        "id": "XIWfIqMTlf8P"
      },
      "source": [
        "<font size=\"2\" color=\"#03bafc\"> \n",
        "The NFIP study was not randomized: all students in grades 1 and 3 did not get the vaccine, while the 2nd graders did. In that sense, the study was not blinded, as both treatment and control groups knew their assignment prior to treatment. Usign this design, it is impossible to detect to a greater level of cofidence the effects of the vaccine. At least two sources of bias can be identified for this design:\n",
        " <ol type=\"1\">\n",
        "    <li> Students in 2nd grade are no necessarily comparable to younger or older students, even from the same school. Differences can be related to exposure to the virus but also to other confounders like gender distribution, parents age and education, amonng other. This could imply these students have different chances of getting polio, regardless the vaccine, which will bias the results. In fact, comparing groups from grades 1 and 3, with those from the no consent group, can lead us to conclude these groups are not similar.\n",
        "    </li><br>\n",
        "    <li> Being polio an infectous disease, peer effects can be substantial in confounding the effects of the vaccine. This implies that students from second grade that did not consent to the vaccine got protected by their schoolmates by a weaker version of herd immunity. This could also affect the rates of polio of 1st and 3rd graders if these students are continously sharing spaces at school. This could also be important if students from the control and treatment groups both belong to the same school.\n",
        "    </li>\n",
        " </ol>\n",
        "\n",
        "On the contrary, the follow-up experiment was double-blinded and randomized. In this case, each student was randomly assigned to a treatment group (and got the vaccine) or a control group (and got a placebo). Observational data was obtained from those students that did not consent to participate (the <i>No consent</i> group). A design like this one is better suited to estimate the effects of the vaccine, as potential confounders are now (in average) equal between both groups. However, the second source of bias is not completely eliminated if treatment is not randomized at school level. That is, if within the same school there are children that belong to both treatment and control groups, then the vaccine effect is biased downwards (i.e. a lower bound of its efficacy is estimated) due to peer effects. In that case, vaccinated children indirectly protect those that only receive a salt injection.\n",
        "</font>\n"
      ]
    },
    {
      "cell_type": "markdown",
      "metadata": {
        "id": "IeSMEpRXlG-I"
      },
      "source": [
        "  \n",
        "##### (b) Which numbers show the effectiveness of the vaccine? Explain why."
      ]
    },
    {
      "cell_type": "markdown",
      "metadata": {
        "id": "Muobjb4nl4BH"
      },
      "source": [
        "<font size=\"2\" color=\"#03bafc\">\n",
        "The numbers capable of showing the effectiveness of the vaccine are those in Table 2. However, which of these actually allow to test the hypothesis depends on how the experiment was designed. If the randomization occured after asking for consent to participate, then we would like to comparethe rates of polio between treatment and control groups. The caveat is that the sample that consented participating in the study may have selected on particular characteristics, that could bias the results in two possible ways:\n",
        "<ol type=\"1\"> <font size=\"2\" color=\"#03bafc\">\n",
        "    <li> If those that consented are people that could potentially benefit more from the vaccine (e.g. a family with previous close cases of polio) then the effect would be larger (biased upwards) than in absence of selection.\n",
        "    </li><br>\n",
        "    <li> If those that consented benefit less from the vaccine (e.g. more educated people, that have generally better hygiene and less risk of infection), then the effect would be smaller (biased downwards) than if absence of selection.\n",
        "    </li>\n",
        "</font> </ol>\n",
        "\n",
        "<font size=\"2\" color=\"#03bafc\">\n",
        "On the other hand, if randomization occured before asking for consent, then we would need to compare the original groups, that is, we would need to separate the <i>No consent</i> group into those assigned to the treatment and those assigned to the control group. However, if the randomization was correctly realized in the first place, then the people from each group that did not consent should be (in average) similar. In particular, the amount of people from the <i>No consent</i> group that belong to the treatment group should be similar to the amount of people that belong to the control group. Moreover, the two possible biases presented above should be distributed equally in the <i>No consent</i> group, making the comparison between the first two rows of Table 2 closer to the effectiveness of the vaccine.\n",
        "\n",
        "Note, however, that since polio is infectious, then if randomization did not occur at school level, then the results will be biased downwards. This, following the previous argument that students in the control group are indirectly protected by their vaccinated counterparts. \n",
        "</font>\n"
      ]
    },
    {
      "cell_type": "markdown",
      "metadata": {
        "id": "88zGwZ5DlJgS"
      },
      "source": [
        "##### (c) In the two studies neither the control groups nor the no-consent groups got the vaccine. Yet the no-consent groups had a lower rate of polio. What could be some of the underlying reasons?"
      ]
    },
    {
      "cell_type": "markdown",
      "metadata": {
        "id": "A2Jx_89Bl5jC"
      },
      "source": [
        "<font size=\"2\" color=\"#03bafc\">\n",
        "As discussed in the preivous question, there is a reason that could explain this lower polio rate. It could be the case that the group of people that did not consent to participate where those who felt less at risk from contracting polio, because they did not have close events of contagion. This can happen if these people liven in better conditions, with more access to clean water and food and in cleaner, more hygienic neighborhoods. These conditions would make them less prone to being infected by the virus.\n",
        "\n",
        "Another option (mention that in first study, the no consent group were in the same level as the vaccinated, being indirectly protected. Something similar could happen in the second study, albeit with less probability).\n",
        "</font>\n"
      ]
    },
    {
      "cell_type": "markdown",
      "metadata": {
        "id": "gPYFb_DVlN2p"
      },
      "source": [
        "##### (d) Polio is an infectious disease. The NFIP study was not done blind. Could this bias the results? If yes, to what extent?\n",
        "\n"
      ]
    },
    {
      "cell_type": "markdown",
      "metadata": {
        "id": "rj0_A051l7Xy"
      },
      "source": [
        "<font size=\"2\" color=\"#03bafc\"> <i> Answer.  </i></font>\n"
      ]
    },
    {
      "cell_type": "markdown",
      "metadata": {
        "id": "ipgCdl_WlTTe"
      },
      "source": [
        "##### (e) In the randomized controlled trial the children whose parents refused to participate in the trial got polio at the rate of 46 per 100,000. On the other hand, the children whose parents consented to participate got polio at a slighter higher rate of 49 per 100,000 (treatment group and control group taken together). On the basis of these numbers, in the following year some parents refused to allow their children to participate in the experiment and be exposed to this higher risk of polio. Were they right? And why so? Please explain your reasoning process."
      ]
    },
    {
      "cell_type": "markdown",
      "metadata": {
        "id": "xhOAyeQQl9FW"
      },
      "source": [
        "<font size=\"2\" color=\"#03bafc\"> <i> Answer.  </i></font>\n"
      ]
    },
    {
      "cell_type": "markdown",
      "metadata": {
        "id": "X2X10UDiJ_AS"
      },
      "source": [
        "## **Problem 1.2:** NASA Compton Gamma Ray Observatory Data (source: Rice, Ch.8)\n",
        "\n",
        "The file `gamma-ray` contains a small quantity of data collected from the Compton Gamma Ray Observatory, a satellite launched by NASA in 1991 [http://cossc.gsfc.nasa.gov/](http://cossc.gsfc.nasa.gov/). For each of 100 sequential time intervals of variable lengths (given in seconds), the number of gamma rays originating in a particular area of the sky was recorded. You would like to check the assumption that the emission rate is constant."
      ]
    },
    {
      "cell_type": "markdown",
      "metadata": {
        "id": "ghrVp3IZnSMv"
      },
      "source": [
        "##### (a) What is a good model for such data?\n"
      ]
    },
    {
      "cell_type": "markdown",
      "metadata": {
        "id": "boXaQcNqnbtL"
      },
      "source": [
        "<font size=\"2\" color=\"#03bafc\"> <i> Answer.  </i></font>\n"
      ]
    },
    {
      "cell_type": "markdown",
      "metadata": {
        "id": "K8s1HnevnUl1"
      },
      "source": [
        "##### (b) Describe the null hypothesis H0 and the alternative HA.\n"
      ]
    },
    {
      "cell_type": "markdown",
      "metadata": {
        "id": "es8TSjEoncAO"
      },
      "source": [
        "<font size=\"2\" color=\"#03bafc\"> <i> Answer.  </i></font>\n"
      ]
    },
    {
      "cell_type": "markdown",
      "metadata": {
        "id": "N-HAv0LbnUyE"
      },
      "source": [
        "##### (c) What is(are) the most plausible parameter value(s) for the null model given the observa- tions? Calculate the maximum likelihood estimate(s) (MLE) of the parameter(s). Compute the estimator(s) for these parameter(s) from the data and report the resulting value(s).\n"
      ]
    },
    {
      "cell_type": "markdown",
      "metadata": {
        "id": "yWMjGwtCncLb"
      },
      "source": [
        "<font size=\"2\" color=\"#03bafc\"> <i> Answer.  </i></font>\n"
      ]
    },
    {
      "cell_type": "markdown",
      "metadata": {
        "id": "VBmhG0zQnVDX"
      },
      "source": [
        "##### (d) What is(are) the most plausible parameter value(s) for the alternative model given the observations? Calculate the MLE(s). Compute the estimator(s) for the parameter(s) from the data (you do not need to provide the value(s)). <i>Hint: You should carefully define the space for the parameter(s) of your model.</i>\n"
      ]
    },
    {
      "cell_type": "markdown",
      "metadata": {
        "id": "hpTWuzG5ncVr"
      },
      "source": [
        "<font size=\"2\" color=\"#03bafc\"> <i> Answer.  </i></font>\n"
      ]
    },
    {
      "cell_type": "markdown",
      "metadata": {
        "id": "lrsEwyo2nVJT"
      },
      "source": [
        "##### (e) Define a test statistic and plot its distribution under H0 using the software of your choice.\n"
      ]
    },
    {
      "cell_type": "markdown",
      "metadata": {
        "id": "7eBQLYrDncp2"
      },
      "source": [
        "<font size=\"2\" color=\"#03bafc\"> <i> Answer.  </i></font>\n"
      ]
    },
    {
      "cell_type": "markdown",
      "metadata": {
        "id": "V51TteL1nVNM"
      },
      "source": [
        "##### (f) Determine the rejection region at a significance level of 0.05. Depict it in the previous plot.\n"
      ]
    },
    {
      "cell_type": "markdown",
      "metadata": {
        "id": "w_BkJAJunc5t"
      },
      "source": [
        "<font size=\"2\" color=\"#03bafc\"> <i> Answer.  </i></font>\n"
      ]
    },
    {
      "cell_type": "markdown",
      "metadata": {
        "id": "UOc5Fab2nZ1Y"
      },
      "source": [
        "\n",
        "##### (g) Also show the value of the test statistic in the previous plot. What is its p-value? Based on the data collected by the observatory and the analysis that you have conducted, does the emission rate appear to be constant?"
      ]
    },
    {
      "cell_type": "markdown",
      "metadata": {
        "id": "EFrHh-PRndSI"
      },
      "source": [
        "<font size=\"2\" color=\"#03bafc\"> <i> Answer.  </i></font>\n"
      ]
    },
    {
      "cell_type": "markdown",
      "metadata": {
        "id": "pL1xi0o2pObb"
      },
      "source": [
        "## **Problem 1.3:** $p$-values\n",
        "\n",
        "Read the statement by the American Statistical Association about $p$-values ([Wasserstein and Lazar: The ASA’s statement on p-values: context, process, and purpose](https://github.com/pipeton8/6.439-stats-comp-applications/blob/main/Assignments/1%20-%20Stats%20Review/The%20ASA%20s%20Statement%20on%20p%20Values%20Context%20Process%20and%20Purpose.pdf)) and respond to the following scenarios."
      ]
    },
    {
      "cell_type": "markdown",
      "metadata": {
        "id": "1jdTfacKqD5z"
      },
      "source": [
        "##### (a) A friend looking at your notes from the first lecture saw that there’s a $p$-value of 0.0012 for the HIP study. They ask you, does that mean there’s a 99.88% chance that offering a mammography decreases the risk of death from breast cancer? Explain to your friend exactly what this $p$-value means, including any assumptions that were made.\n"
      ]
    },
    {
      "cell_type": "markdown",
      "metadata": {
        "id": "XVl8uZWWqgm1"
      },
      "source": [
        "<font size=\"2\" color=\"#03bafc\"> <i> Answer.  </i></font>\n"
      ]
    },
    {
      "cell_type": "markdown",
      "metadata": {
        "id": "eX998gU8qH0T"
      },
      "source": [
        "##### (b) Your colleague in education studies cares about what can improve the education outcome in early childhood. He thinks the ideal planning should be to include as many variables as possible and regress children’s educational outcome on the set. Then we select the variables that are shown to be statistically significant and inform the policy makers. Is this approach likely to produce the intended good policies? What other approach to this problem could you suggest?\n"
      ]
    },
    {
      "cell_type": "markdown",
      "metadata": {
        "id": "ca1-AgQOqi24"
      },
      "source": [
        "<font size=\"2\" color=\"#03bafc\"> <i> Answer.  </i></font>\n"
      ]
    },
    {
      "cell_type": "markdown",
      "metadata": {
        "id": "xP49hqqBqJ78"
      },
      "source": [
        "##### (c) An economist collects data on many nationwide variables and surprisingly finds that if she runs a regression between chocolate consumption and number of Nobel prize laureates, the coefficient is statistically significant. Should she conclude that there exists a relationship between Nobel prize and chocolate consumption? Explain why.\n"
      ]
    },
    {
      "cell_type": "markdown",
      "metadata": {
        "id": "jaGNzgZ_qjPa"
      },
      "source": [
        "<font size=\"2\" color=\"#03bafc\"> <i> Answer.  </i></font>\n"
      ]
    },
    {
      "cell_type": "markdown",
      "metadata": {
        "id": "ty4Kmn2aqMam"
      },
      "source": [
        "##### (d) Your lab collects individual-level data on 50,000 humans for 100 features, including IQ and chocolate consumption. They find that their initial hypothesis about the relation between chocolate consumption and IQ has a $p$-value higher than 0.05. However, they find that there are other variables in the data set that have p-value less than 0.05, namely, a subject’s family income and number of siblings. They therefore decide to not write about chocolate consumption, but rather, report these statistically significant results in their paper, and provide possible explanations. Is this sound scientific practice? Please discuss.\n"
      ]
    },
    {
      "cell_type": "markdown",
      "metadata": {
        "id": "E9VTsG1Eqjmi"
      },
      "source": [
        "<font size=\"2\" color=\"#03bafc\"> <i> Answer.  </i></font>\n"
      ]
    },
    {
      "cell_type": "markdown",
      "metadata": {
        "id": "A3uifvxcqOMJ"
      },
      "source": [
        "##### (e) A neuroscience lab lab runs a randomized experiment on 100 mice by adding chocolate in half of the mice’s diet and another food of the equivalent calories in another half’s diet. They find that the difference between the two groups’ time in solving a maze puzzle has p- value lower then 0.05. Should they conclude that chocolate consumption leads to improved cognitive power in mice? Explain why."
      ]
    },
    {
      "cell_type": "markdown",
      "metadata": {
        "id": "S5lUgFrGqkFd"
      },
      "source": [
        "<font size=\"2\" color=\"#03bafc\"> <i> Answer.  </i></font>\n"
      ]
    },
    {
      "cell_type": "markdown",
      "metadata": {
        "id": "g1BkTl0Jqvib"
      },
      "source": [
        "## **Problem 1.4:** Published research findings are false\n",
        "\n",
        "Read the [paper by Ioannidis (PLoS Medicine, 2005)](https://github.com/pipeton8/6.439-stats-comp-applications/blob/main/Assignments/1%20-%20Stats%20Review/Ioannidis_paper.pdf) on why most published research findings are false  and summarize the paper in your own words. What is the most important lesson you learned from reading this paper? Explain the computations going into Table 1, Table 2, and Table 3. How does Ioannidis get to the conclusion that a research finding is more likely true than false if $(1 − \\beta)R > \\alpha $ (at the beginning of page 697)? What does this mean?"
      ]
    },
    {
      "cell_type": "markdown",
      "metadata": {
        "id": "2f-R8g5ssc-K"
      },
      "source": [
        "<font size=\"2\" color=\"#03bafc\"> <i> Answer.  </i></font>"
      ]
    },
    {
      "cell_type": "markdown",
      "metadata": {
        "id": "sccuHlSbsvD4"
      },
      "source": [
        "# Part 2\n",
        "<hr>"
      ]
    },
    {
      "cell_type": "markdown",
      "metadata": {
        "id": "1ZPaiRGuszZ5"
      },
      "source": [
        "## **Problem 1.5:** Detecting Leukemia types\n",
        "\n",
        "The data set `golub` consists of the expression levels of 3,051 genes for 38 tumor mRNA samples. Each tumor mRNA sample comes from one patient (i.e., 38 patients total): 27 of these tumor samples correspond to acute lymphoblastic leukemia (ALL), while the remaining 11 correspond to acute myeloid leukemia (AML). How many genes are associated with the different tumor types (meaning that their expression level differs between the two tumor types) using (i) the uncorrected $p$-values, (ii) the Holm-Bonferroni corrected $p$-values, and (iii) the Benjamini-Hochberg corrected $p$-values? Feel free to use existing libraries for multiple hypothesis testing, in `R` or `python`. You can use $\\alpha = 0.05$ for the significance threshold.\n",
        "<br>\n",
        "\n",
        "**Source of data:** Golub et al. (1999). [_Molecular classification of cancer: class discovery and class prediction by gene expression monitoring_](https://www.science.org/doi/10.1126/science.286.5439.531?url_ver=Z39.88-2003&rfr_id=ori:rid:crossref.org&rfr_dat=cr_pub%20%200pubmed), Science, Vol. 286:531-537. \n"
      ]
    },
    {
      "cell_type": "markdown",
      "metadata": {
        "id": "i9-JgGaLvjJK"
      },
      "source": [
        "<font size=\"2\" color=\"#03bafc\"> <i> Answer.  </i></font>"
      ]
    },
    {
      "cell_type": "markdown",
      "metadata": {
        "id": "-hVIRkgJvpia"
      },
      "source": [
        "## **Problem 1.6:** Regression adn Gradient Descent\n",
        "\n",
        "In this problem, we will look at OLS and the gradient descent algorithm."
      ]
    },
    {
      "cell_type": "markdown",
      "metadata": {
        "id": "gsV6kuIMvwm0"
      },
      "source": [
        "##### (a) Read in the synthetic data matrix `syn_X.csv` and the vector `syn_y.csv` of \"observations\". Compute the OLS estimator $\\hat{\\beta}$ by matrix inversion. "
      ]
    },
    {
      "cell_type": "markdown",
      "metadata": {
        "id": "hnR_j4ZbwGSc"
      },
      "source": [
        "<font size=\"2\" color=\"#03bafc\"> <i> Answer.  </i></font>\n"
      ]
    },
    {
      "cell_type": "markdown",
      "metadata": {
        "id": "_KbHb_a7wGtR"
      },
      "source": [
        "##### (b) Implement gradient descent for the least squares problem and run it on the synthetic test data loaded in the previous question. As a function of the iteration $t$, plot the mean squared error (MSE) and the distance $\\|\\beta^t − \\hat{\\beta}\\|$ of your current iterates (in separate plots). Play with different initializations $\\beta^0$ and different step sizes. What do you observe? Explain. Based on your observations, what would be an optimal step size?"
      ]
    },
    {
      "cell_type": "markdown",
      "metadata": {
        "id": "c9PLYycBwdrR"
      },
      "source": [
        "<font size=\"2\" color=\"#03bafc\"> <i> Answer.  </i></font>"
      ]
    },
    {
      "cell_type": "markdown",
      "metadata": {
        "id": "GR28yR-BwjAQ"
      },
      "source": [
        "##### Next, we look at some real data. General Motors collected data (found in `mortality.csv`) from 60 US cities to study the contribution of air pollution to mortality. The dependent variable is the age-adjusted mortality (`Mortality`). The data include variables measuring climate characteristics (`JanTemp`, `JulyTemp`, `RelHum`, `Rain`), variables measuring demographic characteristics of the cities (`Educ`, `Dens`, `NonWhite`, `WhiteCollar`, `Pop`, `House`, `Income`), and variables recording the pollution potential of three different air pollutants (`HC`, `NOx`, `SO2`)."
      ]
    },
    {
      "cell_type": "markdown",
      "metadata": {
        "id": "8e7bR2n8PTt0"
      },
      "source": [
        "##### (c) Get an overview of the data and account for possible problems. Which cities stand out? Which of the variables need to be transformed? When applicable, which transformations would you apply?"
      ]
    },
    {
      "cell_type": "markdown",
      "metadata": {
        "id": "ImjugV7PPluc"
      },
      "source": [
        "<font size=\"2\" color=\"#03bafc\"> <i> Answer.  </i></font>"
      ]
    },
    {
      "cell_type": "markdown",
      "metadata": {
        "id": "RoD_XDeUPlwr"
      },
      "source": [
        "##### (d) Run your gradient descent algorithm for least squares on the raw data and on the trans- formed data, with different step sizes as before. What do you observe?\n"
      ]
    },
    {
      "cell_type": "markdown",
      "metadata": {
        "id": "0zYK6v6XPqxe"
      },
      "source": [
        "<font size=\"2\" color=\"#03bafc\"> <i> Answer.  </i></font>"
      ]
    },
    {
      "cell_type": "markdown",
      "metadata": {
        "id": "R0lMhmJOPsLt"
      },
      "source": [
        "##### (e) Carry out a multiple linear regression containing all variables with the necessary transfor- mations (with gradient descent as in d) or with matrix inversion). Does the model fit well? Check the residuals and comment on what you observe."
      ]
    },
    {
      "cell_type": "markdown",
      "metadata": {
        "id": "SD5_Xw3hPwj-"
      },
      "source": [
        "<font size=\"2\" color=\"#03bafc\"> <i> Answer.  </i></font>"
      ]
    },
    {
      "cell_type": "markdown",
      "metadata": {
        "id": "GIc-UlcoPywR"
      },
      "source": [
        "##### (f) _Gradient descent for other functions:_ A popular regression model for binary observations $y$ is given by the following estimator: $$ \\hat{\\beta} = \\arg\\min_{\\beta} \\sum_{i} \\log\\left(1 + \\exp\\left(-y_i \\beta^T x_i \\right)\\right)$$ How would you solve this via gradient descent? Derive the corresponding gradient and write down the steps of the algorithm. "
      ]
    },
    {
      "cell_type": "markdown",
      "metadata": {
        "id": "yo0gDei2QbJS"
      },
      "source": [
        "<font size=\"2\" color=\"#03bafc\"> <i> Answer.  </i></font>"
      ]
    },
    {
      "cell_type": "markdown",
      "metadata": {
        "id": "MivbyPUdQc1m"
      },
      "source": [
        "## **Problem 1.7:** Computational Aspects of Regression\n",
        "\n",
        "In this problem, we will consider some computational challenges that arise in practice when\n",
        "performing linear regression."
      ]
    },
    {
      "cell_type": "markdown",
      "metadata": {
        "id": "gE72sManQyyC"
      },
      "source": [
        "##### (a) Suppose you have a problem in which the feature matrix, $X$, has 100 million rows and 200 columns. What challenge will arise when you try to apply either the matrix inversion method or the gradient descent method to compute the regression coefficients as in the previous problem? _Hint: if each entry is a 64-bit float, how much memory will be required to store $X$?_"
      ]
    },
    {
      "cell_type": "markdown",
      "metadata": {
        "id": "CdijnOUMQ6Cx"
      },
      "source": [
        "<font size=\"2\" color=\"#03bafc\"> <i> Answer.  </i></font>"
      ]
    },
    {
      "cell_type": "markdown",
      "metadata": {
        "id": "eKDhTisDQ78U"
      },
      "source": [
        "##### (b) Suggest one method that will allow you to compute the linear regression coefficients for this problem. Be specific. Discuss pros and cons of your proposed approach."
      ]
    },
    {
      "cell_type": "markdown",
      "metadata": {
        "id": "GrMIxe8vQ_cl"
      },
      "source": [
        "<font size=\"2\" color=\"#03bafc\"> <i> Answer.  </i></font>"
      ]
    },
    {
      "cell_type": "markdown",
      "metadata": {
        "id": "tikS8ZooRBxl"
      },
      "source": [
        "##### Now, suppose we are in a setting in which the number of data points, $n$, is much smaller than the number of variables, $p$, i.e., $X$ has many more columns than rows. This situation occurs often in biological applications, for example, in which the features may represent the expression levels of various genes. This is often referred to as the “high-dimensional” regime. (Assume $X$ is small enough that it can fit in memory.)\n"
      ]
    },
    {
      "cell_type": "markdown",
      "metadata": {
        "id": "CgSS7hMjRVGW"
      },
      "source": [
        "##### (c) Can we run gradient descent to compute the regression coefficients? What do you think about the solution? Why? _Hint: what is the maximum rank of the matrix $X^T X$?_"
      ]
    },
    {
      "cell_type": "markdown",
      "metadata": {
        "id": "n9gwdfoRRgMK"
      },
      "source": [
        "<font size=\"2\" color=\"#03bafc\"> <i> Answer.  </i></font>"
      ]
    },
    {
      "cell_type": "markdown",
      "metadata": {
        "id": "XB5P8AjFRhNZ"
      },
      "source": [
        "##### (d) Load the data from the previous question, `syn_X.csv` and `syn_Y.csv`. Compute the regression coefficients by solving the LASSO problem for various values of $\\lambda$. What happens to the solution as $\\lambda$ increases? Choose $\\lambda$ such that only one component of the coefficient vector is nonzero. What is the value of $\\lambda$? Which coefficient is it? (For this problem, feel free to use a package that performs LASSO regularization, such as `scikit-learn` in `python` or `glmnet` in `R`.)"
      ]
    },
    {
      "cell_type": "markdown",
      "metadata": {
        "id": "V7wdgcFZRy60"
      },
      "source": [
        "<font size=\"2\" color=\"#03bafc\"> <i> Answer.  </i></font>"
      ]
    },
    {
      "cell_type": "markdown",
      "metadata": {
        "id": "l0bd2VggR2-7"
      },
      "source": [
        "## **Problem 1.8:** Likelihood ratio test for a Gaussian model\n",
        "\n",
        "In this problem, we will analyze the likelihood ratio statistic for the model $X \\sim \\mathcal{N}(\\mu,\\sigma^2)$ with unknown mean and unknown variance and null hypothesis $H_0 : \\mu = 0$ versus alternative hypothesis $H_A : \\mu \\neq 0$."
      ]
    },
    {
      "cell_type": "markdown",
      "metadata": {
        "id": "_DjXJAIaSKLu"
      },
      "source": [
        "##### (a) What is the likelihood function for $n$ independent and identically distributed (iid) Gaussian random variables (with mean $\\mu$ and variance $\\sigma^2$)?"
      ]
    },
    {
      "cell_type": "markdown",
      "metadata": {
        "id": "i3e_7rHRSWR4"
      },
      "source": [
        "<font size=\"2\" color=\"#03bafc\"> <i> Answer.  </i></font>"
      ]
    },
    {
      "cell_type": "markdown",
      "metadata": {
        "id": "hxI1KlIDSXh3"
      },
      "source": [
        "##### (b) What is the likelihood ratio statistic for the hypothesis test specified above? (You should simplify the statistic so it only involves the realizations $x_1, \\ldots , x_n$.)"
      ]
    },
    {
      "cell_type": "markdown",
      "metadata": {
        "id": "BXogfu_5SfO7"
      },
      "source": [
        "<font size=\"2\" color=\"#03bafc\"> <i> Answer.  </i></font>"
      ]
    },
    {
      "cell_type": "markdown",
      "metadata": {
        "id": "0E8hNYDISgKv"
      },
      "source": [
        "##### (c) What is the rejection region for a one-sample (two-sided) $t$-test for the same hypothesis test?"
      ]
    },
    {
      "cell_type": "markdown",
      "metadata": {
        "id": "0ijweTTkSl8G"
      },
      "source": [
        "<font size=\"2\" color=\"#03bafc\"> <i> Answer.  </i></font>"
      ]
    },
    {
      "cell_type": "markdown",
      "metadata": {
        "id": "j-Ix0hFhSnIM"
      },
      "source": [
        "##### (d) How is the likelihood ratio test related to the one-sample $t$-test? Show that the exact rejection region of the likelihood ratio test (without approximation by the $\\chi^2$-distribution) has the same form as the rejection region of the $t$-test.\n"
      ]
    },
    {
      "cell_type": "markdown",
      "metadata": {
        "id": "65elCfphSs6N"
      },
      "source": [
        "<font size=\"2\" color=\"#03bafc\"> <i> Answer.  </i></font>"
      ]
    },
    {
      "cell_type": "markdown",
      "metadata": {
        "id": "Czclwi2eSuJO"
      },
      "source": [
        "##### (e) Analyze either by simulation or by computation how large the error is if you use the asymptotic distribution of the likelihood ratio statistic versus the exact distribution as in (d)."
      ]
    },
    {
      "cell_type": "markdown",
      "metadata": {
        "id": "kWTJ0aPNS6us"
      },
      "source": [
        "<font size=\"2\" color=\"#03bafc\"> <i> Answer.  </i></font>"
      ]
    }
  ]
}