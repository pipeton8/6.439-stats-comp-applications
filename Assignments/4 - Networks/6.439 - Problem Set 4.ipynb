{
  "nbformat": 4,
  "nbformat_minor": 0,
  "metadata": {
    "colab": {
      "name": "6.439 - Problem Set 4.ipynb",
      "provenance": [],
      "authorship_tag": "ABX9TyOwMgcd0iCcz0vxqa+YlYPa",
      "include_colab_link": true
    },
    "kernelspec": {
      "name": "python3",
      "display_name": "Python 3"
    },
    "language_info": {
      "name": "python"
    },
    "widgets": {
      "application/vnd.jupyter.widget-state+json": {
        "a5995393756a4a979882e7744cb6c05b": {
          "model_module": "@jupyter-widgets/controls",
          "model_name": "HBoxModel",
          "model_module_version": "1.5.0",
          "state": {
            "_view_name": "HBoxView",
            "_dom_classes": [],
            "_model_name": "HBoxModel",
            "_view_module": "@jupyter-widgets/controls",
            "_model_module_version": "1.5.0",
            "_view_count": null,
            "_view_module_version": "1.5.0",
            "box_style": "",
            "layout": "IPY_MODEL_5db75d571e0840fd8c568101d6115b1f",
            "_model_module": "@jupyter-widgets/controls",
            "children": [
              "IPY_MODEL_2358e194406c4f4b98a0b96016a613a6",
              "IPY_MODEL_d369e2448e3f48a5a36d5ea1e080425d",
              "IPY_MODEL_c22968c471f64b3d865c2e4f8b27b7fe"
            ]
          }
        },
        "5db75d571e0840fd8c568101d6115b1f": {
          "model_module": "@jupyter-widgets/base",
          "model_name": "LayoutModel",
          "model_module_version": "1.2.0",
          "state": {
            "_view_name": "LayoutView",
            "grid_template_rows": null,
            "right": null,
            "justify_content": null,
            "_view_module": "@jupyter-widgets/base",
            "overflow": null,
            "_model_module_version": "1.2.0",
            "_view_count": null,
            "flex_flow": null,
            "width": null,
            "min_width": null,
            "border": null,
            "align_items": null,
            "bottom": null,
            "_model_module": "@jupyter-widgets/base",
            "top": null,
            "grid_column": null,
            "overflow_y": null,
            "overflow_x": null,
            "grid_auto_flow": null,
            "grid_area": null,
            "grid_template_columns": null,
            "flex": null,
            "_model_name": "LayoutModel",
            "justify_items": null,
            "grid_row": null,
            "max_height": null,
            "align_content": null,
            "visibility": null,
            "align_self": null,
            "height": null,
            "min_height": null,
            "padding": null,
            "grid_auto_rows": null,
            "grid_gap": null,
            "max_width": null,
            "order": null,
            "_view_module_version": "1.2.0",
            "grid_template_areas": null,
            "object_position": null,
            "object_fit": null,
            "grid_auto_columns": null,
            "margin": null,
            "display": null,
            "left": null
          }
        },
        "2358e194406c4f4b98a0b96016a613a6": {
          "model_module": "@jupyter-widgets/controls",
          "model_name": "HTMLModel",
          "model_module_version": "1.5.0",
          "state": {
            "_view_name": "HTMLView",
            "style": "IPY_MODEL_00b9da51ef0c4b15a97f22bc3f62259f",
            "_dom_classes": [],
            "description": "",
            "_model_name": "HTMLModel",
            "placeholder": "​",
            "_view_module": "@jupyter-widgets/controls",
            "_model_module_version": "1.5.0",
            "value": "Removing solo offenders: 100%",
            "_view_count": null,
            "_view_module_version": "1.5.0",
            "description_tooltip": null,
            "_model_module": "@jupyter-widgets/controls",
            "layout": "IPY_MODEL_1bd069648c11431282c330f5c44c73bc"
          }
        },
        "d369e2448e3f48a5a36d5ea1e080425d": {
          "model_module": "@jupyter-widgets/controls",
          "model_name": "FloatProgressModel",
          "model_module_version": "1.5.0",
          "state": {
            "_view_name": "ProgressView",
            "style": "IPY_MODEL_c5518938eaad499b9a49422f32e9047a",
            "_dom_classes": [],
            "description": "",
            "_model_name": "FloatProgressModel",
            "bar_style": "success",
            "max": 538851,
            "_view_module": "@jupyter-widgets/controls",
            "_model_module_version": "1.5.0",
            "value": 538851,
            "_view_count": null,
            "_view_module_version": "1.5.0",
            "orientation": "horizontal",
            "min": 0,
            "description_tooltip": null,
            "_model_module": "@jupyter-widgets/controls",
            "layout": "IPY_MODEL_cd15f2e5e2f043fe9662bfcaee155f14"
          }
        },
        "c22968c471f64b3d865c2e4f8b27b7fe": {
          "model_module": "@jupyter-widgets/controls",
          "model_name": "HTMLModel",
          "model_module_version": "1.5.0",
          "state": {
            "_view_name": "HTMLView",
            "style": "IPY_MODEL_7ca700e796af48dc8868c13382bcfa99",
            "_dom_classes": [],
            "description": "",
            "_model_name": "HTMLModel",
            "placeholder": "​",
            "_view_module": "@jupyter-widgets/controls",
            "_model_module_version": "1.5.0",
            "value": " 538851/538851 [00:11&lt;00:00, 76272.73it/s]",
            "_view_count": null,
            "_view_module_version": "1.5.0",
            "description_tooltip": null,
            "_model_module": "@jupyter-widgets/controls",
            "layout": "IPY_MODEL_1b53d8bdd953450e986d5e67f08bbdea"
          }
        },
        "00b9da51ef0c4b15a97f22bc3f62259f": {
          "model_module": "@jupyter-widgets/controls",
          "model_name": "DescriptionStyleModel",
          "model_module_version": "1.5.0",
          "state": {
            "_view_name": "StyleView",
            "_model_name": "DescriptionStyleModel",
            "description_width": "",
            "_view_module": "@jupyter-widgets/base",
            "_model_module_version": "1.5.0",
            "_view_count": null,
            "_view_module_version": "1.2.0",
            "_model_module": "@jupyter-widgets/controls"
          }
        },
        "1bd069648c11431282c330f5c44c73bc": {
          "model_module": "@jupyter-widgets/base",
          "model_name": "LayoutModel",
          "model_module_version": "1.2.0",
          "state": {
            "_view_name": "LayoutView",
            "grid_template_rows": null,
            "right": null,
            "justify_content": null,
            "_view_module": "@jupyter-widgets/base",
            "overflow": null,
            "_model_module_version": "1.2.0",
            "_view_count": null,
            "flex_flow": null,
            "width": null,
            "min_width": null,
            "border": null,
            "align_items": null,
            "bottom": null,
            "_model_module": "@jupyter-widgets/base",
            "top": null,
            "grid_column": null,
            "overflow_y": null,
            "overflow_x": null,
            "grid_auto_flow": null,
            "grid_area": null,
            "grid_template_columns": null,
            "flex": null,
            "_model_name": "LayoutModel",
            "justify_items": null,
            "grid_row": null,
            "max_height": null,
            "align_content": null,
            "visibility": null,
            "align_self": null,
            "height": null,
            "min_height": null,
            "padding": null,
            "grid_auto_rows": null,
            "grid_gap": null,
            "max_width": null,
            "order": null,
            "_view_module_version": "1.2.0",
            "grid_template_areas": null,
            "object_position": null,
            "object_fit": null,
            "grid_auto_columns": null,
            "margin": null,
            "display": null,
            "left": null
          }
        },
        "c5518938eaad499b9a49422f32e9047a": {
          "model_module": "@jupyter-widgets/controls",
          "model_name": "ProgressStyleModel",
          "model_module_version": "1.5.0",
          "state": {
            "_view_name": "StyleView",
            "_model_name": "ProgressStyleModel",
            "description_width": "",
            "_view_module": "@jupyter-widgets/base",
            "_model_module_version": "1.5.0",
            "_view_count": null,
            "_view_module_version": "1.2.0",
            "bar_color": null,
            "_model_module": "@jupyter-widgets/controls"
          }
        },
        "cd15f2e5e2f043fe9662bfcaee155f14": {
          "model_module": "@jupyter-widgets/base",
          "model_name": "LayoutModel",
          "model_module_version": "1.2.0",
          "state": {
            "_view_name": "LayoutView",
            "grid_template_rows": null,
            "right": null,
            "justify_content": null,
            "_view_module": "@jupyter-widgets/base",
            "overflow": null,
            "_model_module_version": "1.2.0",
            "_view_count": null,
            "flex_flow": null,
            "width": null,
            "min_width": null,
            "border": null,
            "align_items": null,
            "bottom": null,
            "_model_module": "@jupyter-widgets/base",
            "top": null,
            "grid_column": null,
            "overflow_y": null,
            "overflow_x": null,
            "grid_auto_flow": null,
            "grid_area": null,
            "grid_template_columns": null,
            "flex": null,
            "_model_name": "LayoutModel",
            "justify_items": null,
            "grid_row": null,
            "max_height": null,
            "align_content": null,
            "visibility": null,
            "align_self": null,
            "height": null,
            "min_height": null,
            "padding": null,
            "grid_auto_rows": null,
            "grid_gap": null,
            "max_width": null,
            "order": null,
            "_view_module_version": "1.2.0",
            "grid_template_areas": null,
            "object_position": null,
            "object_fit": null,
            "grid_auto_columns": null,
            "margin": null,
            "display": null,
            "left": null
          }
        },
        "7ca700e796af48dc8868c13382bcfa99": {
          "model_module": "@jupyter-widgets/controls",
          "model_name": "DescriptionStyleModel",
          "model_module_version": "1.5.0",
          "state": {
            "_view_name": "StyleView",
            "_model_name": "DescriptionStyleModel",
            "description_width": "",
            "_view_module": "@jupyter-widgets/base",
            "_model_module_version": "1.5.0",
            "_view_count": null,
            "_view_module_version": "1.2.0",
            "_model_module": "@jupyter-widgets/controls"
          }
        },
        "1b53d8bdd953450e986d5e67f08bbdea": {
          "model_module": "@jupyter-widgets/base",
          "model_name": "LayoutModel",
          "model_module_version": "1.2.0",
          "state": {
            "_view_name": "LayoutView",
            "grid_template_rows": null,
            "right": null,
            "justify_content": null,
            "_view_module": "@jupyter-widgets/base",
            "overflow": null,
            "_model_module_version": "1.2.0",
            "_view_count": null,
            "flex_flow": null,
            "width": null,
            "min_width": null,
            "border": null,
            "align_items": null,
            "bottom": null,
            "_model_module": "@jupyter-widgets/base",
            "top": null,
            "grid_column": null,
            "overflow_y": null,
            "overflow_x": null,
            "grid_auto_flow": null,
            "grid_area": null,
            "grid_template_columns": null,
            "flex": null,
            "_model_name": "LayoutModel",
            "justify_items": null,
            "grid_row": null,
            "max_height": null,
            "align_content": null,
            "visibility": null,
            "align_self": null,
            "height": null,
            "min_height": null,
            "padding": null,
            "grid_auto_rows": null,
            "grid_gap": null,
            "max_width": null,
            "order": null,
            "_view_module_version": "1.2.0",
            "grid_template_areas": null,
            "object_position": null,
            "object_fit": null,
            "grid_auto_columns": null,
            "margin": null,
            "display": null,
            "left": null
          }
        }
      }
    }
  },
  "cells": [
    {
      "cell_type": "markdown",
      "metadata": {
        "id": "view-in-github",
        "colab_type": "text"
      },
      "source": [
        "<a href=\"https://colab.research.google.com/github/pipeton8/6.439-stats-comp-applications/blob/main/Assignments/4%20-%20Networks/6.439%20-%20Problem%20Set%204.ipynb\" target=\"_parent\"><img src=\"https://colab.research.google.com/assets/colab-badge.svg\" alt=\"Open In Colab\"/></a>"
      ]
    },
    {
      "cell_type": "markdown",
      "metadata": {
        "id": "zQZiu5Rr0ywL"
      },
      "source": [
        "# Problem Set 4 - Statistics, Computation and Applications\n",
        "\n",
        "(c) Felipe del Canto, November 2021\n",
        "***\n",
        "***"
      ]
    },
    {
      "cell_type": "markdown",
      "metadata": {
        "id": "LpSk2ccJi4kO"
      },
      "source": [
        "# Part 0 (Execute first!)"
      ]
    },
    {
      "cell_type": "code",
      "metadata": {
        "id": "DGyfZXBXLnEg"
      },
      "source": [
        "# Set load = True to load co-offending network (faster)\n",
        "load = True"
      ],
      "execution_count": 1,
      "outputs": []
    },
    {
      "cell_type": "markdown",
      "metadata": {
        "id": "V8PezG4F9CF8"
      },
      "source": [
        "## Packages"
      ]
    },
    {
      "cell_type": "code",
      "metadata": {
        "id": "egFlocZLi6Zk"
      },
      "source": [
        "from IPython.display import clear_output\n",
        "\n",
        "# Download files\n",
        "!wget https://github.com/pipeton8/6.439-stats-comp-applications/raw/main/Assignments/databases/PS4_data.zip\n",
        "\n",
        "# Unzip\n",
        "!unzip -o PS4_data.zip\n",
        "!rm *.z* -r __MACOSX\n",
        "\n",
        "# Clear output\n",
        "clear_output()\n",
        "\n",
        "# Import packages\n",
        "import warnings\n",
        "import scipy\n",
        "import csv\n",
        "\n",
        "import numpy  as np\n",
        "import pandas as pd\n",
        "pd.options.display.float_format = '{:.4f}'.format\n",
        "\n",
        "import seaborn           as sns\n",
        "import matplotlib.pyplot as plt\n",
        "import networkx          as nx \n",
        "\n",
        "from tqdm.auto import tqdm, trange"
      ],
      "execution_count": 2,
      "outputs": []
    },
    {
      "cell_type": "markdown",
      "metadata": {
        "id": "_fQPF9Cb8-8B"
      },
      "source": [
        "## Functions"
      ]
    },
    {
      "cell_type": "code",
      "metadata": {
        "id": "qdpBELxwLEbk"
      },
      "source": [
        "# Function to create or loadd the co-offending network\n",
        "def create_co_off_network(co_off, load=True, save=True, file_path = 'co_off_network.npz'):\n",
        "  \"\"\" \n",
        "  Given a dataframe with event_id and offender_id as variables, create the\n",
        "  co offending network as a dok sparse matrix. If the `save` option is set to \n",
        "  true, store the network in .npz format in filename co_off_network.npz.\n",
        "\n",
        "  If the `load` option is set to true, do not create the network and, instead,\n",
        "  load the co_off_network.npz file.\n",
        "\n",
        "  Specific file paths and filenames can be set using the `file_path` optional\n",
        "  argument.\n",
        "  \"\"\"\n",
        "\n",
        "  if not load:\n",
        "    # Obtain crime events\n",
        "    crime_events = co_off['event_id'].unique()\n",
        "\n",
        "    # Loop over the crime events\n",
        "    for event in tqdm(crime_events, desc=\"Creating co-offending network\"):\n",
        "\n",
        "      # Restrict dataset to current event_id\n",
        "      event_data = co_off[co_off['event_id'] == event]\n",
        "\n",
        "      # Obtain list of offenders\n",
        "      offenders = event_data['offender_id'].to_numpy()\n",
        "\n",
        "      # Cycle through offenders to increase by 1 their co-offending weight\n",
        "      for i,offender_i in enumerate(offenders):\n",
        "        for offender_j in offenders[i:]:\n",
        "          co_off_network[offender_i, offender_j] += 1\n",
        "          co_off_network[offender_j, offender_i] += 1\n",
        "    \n",
        "    # Save sparse matrix\n",
        "    if save:\n",
        "      co_off_network_coo = co_off_network.tocoo(copy=True)\n",
        "      scipy.sparse.save_npz(file_path, co_off_network_coo)\n",
        "      del co_off_network_coo\n",
        "    \n",
        "  else:\n",
        "    co_off_network_coo = scipy.sparse.load_npz(file_path)\n",
        "    co_off_network = co_off_network_coo.todok(copy=True)\n",
        "    del co_off_network_coo\n",
        "  \n",
        "  return co_off_network"
      ],
      "execution_count": 3,
      "outputs": []
    },
    {
      "cell_type": "code",
      "metadata": {
        "id": "VyPUBL-O1Jyz"
      },
      "source": [
        "def remove_solo_offenders(network):\n",
        "  \"\"\" \n",
        "  Given a dok sparse matrix, return the updated dok matrix where the \n",
        "  nodes with degree 1 are removed. \n",
        "  \"\"\"\n",
        "\n",
        "  assert type(network) == scipy.sparse.dok_matrix\n",
        "\n",
        "  # Convert to lil for faster row slicing\n",
        "  network_copy = network.tolil(copy=True)\n",
        "\n",
        "  # Store rows\n",
        "  network_rows = network_copy.rows.copy()\n",
        "\n",
        "  # Check with nodes are solo offender\n",
        "  for i,row in tqdm(enumerate(network_rows), total=len(network_rows), desc=\"Removing solo offenders\"):\n",
        "    if len(row) == 1:\n",
        "      network[i,row[0]] = 0\n",
        "    \n",
        "  # Save memory\n",
        "  del network_copy, network_rows\n",
        "\n",
        "  return network"
      ],
      "execution_count": 4,
      "outputs": []
    },
    {
      "cell_type": "code",
      "metadata": {
        "id": "aKAwXB_Okg7a"
      },
      "source": [
        "def print_nodes_and_edges(network, title, final_space=True):\n",
        "  \"\"\"\n",
        "   Given a dok sparse matrix, print the number of nodes and edges in a \"fancy\"\n",
        "   way. Edges are also split in self and non-self edges.\n",
        "  \"\"\"\n",
        "\n",
        "  assert type(network) == scipy.sparse.dok_matrix\n",
        "\n",
        "  # Compute number of nodes and edges\n",
        "  total_nodes          = network.shape[0]\n",
        "  total_self_edges     = (network.diagonal() != 0).sum()\n",
        "  total_edges          = (len(network.keys()) + total_self_edges)//2\n",
        "  total_not_self_edges = (len(network.keys()) - total_self_edges)//2\n",
        "\n",
        "  # Print number of nodes and edges\n",
        "  print(title)\n",
        "  print(\"-\"*len(title))\n",
        "  print(f\" - There are a total of {total_nodes:,} nodes.\")\n",
        "  print(f\" - There are a total of {total_edges:,} edges.\")\n",
        "  print(f\"    • Of these, {total_self_edges:,} are self edges.\")\n",
        "  print(f\"    • Of these, {total_not_self_edges:,} are not self edges.\")\n",
        "\n",
        "  if final_space:\n",
        "    print()\n",
        "  \n",
        "  return None"
      ],
      "execution_count": 5,
      "outputs": []
    },
    {
      "cell_type": "code",
      "metadata": {
        "id": "zGbiVWqxyaW1"
      },
      "source": [
        "def print_degree_counts(up_to, degree_sequence, counts):\n",
        "  \"\"\"\n",
        "  Given a list of max degrees, a degree sequence and the counts of each degree,\n",
        "  prints the cumulative sum of nodes with positive degree with at most `max_degree`,\n",
        "  where `max_degree` is each one of the elements of list `up_to`. This is also\n",
        "  displayed as a percentage. \n",
        "  \"\"\"\n",
        "\n",
        "  if type(up_to) is not list:\n",
        "    up_to = [up_to]\n",
        "\n",
        "  total_counts = counts.sum()\n",
        "  print(f\"The total number of nodes with positive degree is {total_counts:,}.\")\n",
        "\n",
        "  for i,max_degree in enumerate(up_to):\n",
        "    counts_up_to_max_degree = counts[:list(degree_sequence).index(max_degree+1)].sum()\n",
        "    percentage = counts_up_to_max_degree/total_counts * 100\n",
        "\n",
        "    print(f' - Nodes with degree at most {max_degree}: {counts_up_to_max_degree:,}' +\n",
        "          f' ({percentage:.2f}%).')"
      ],
      "execution_count": 6,
      "outputs": []
    },
    {
      "cell_type": "code",
      "metadata": {
        "id": "_JSIVZJ0dCJ4"
      },
      "source": [
        "def get_eccentricities(network, load=True, save=True, file_path = \"eccentricities.csv\"):\n",
        "  \"\"\" \n",
        "  Given a networks object `network`, retrieve the eccentricities dictionary. \n",
        "  If the `save` option is set to True, save the network in .csv format in \n",
        "  filename eccentricities.csv, or the specified path in `file_path`. \n",
        "  \n",
        "  If the `load` option is set to True, do not create the network and, instead,\n",
        "  load the eccentricities.csv file, or the specified path in `file_path`.\n",
        "  \"\"\"\n",
        "  if not load:\n",
        "    eccentricities = nx.algorithms.distance_measures.eccentricity(CC_graph)\n",
        "\n",
        "    if save:\n",
        "      # open file for writing, \"w\" is writing\n",
        "      w = csv.writer(open(file_path, \"w\"))\n",
        "\n",
        "      # loop over dictionary keys and values\n",
        "      for key, val in eccentricities.items():\n",
        "        # write every key and value to file\n",
        "        w.writerow([key, val])\n",
        "\n",
        "  else:\n",
        "    eccentricities_csv = csv.reader(open(file_path, \"r\"))\n",
        "    eccentricities = {int(node): int(eccentricity) for node, eccentricity in eccentricities_csv}\n",
        "\n",
        "  return eccentricities"
      ],
      "execution_count": 7,
      "outputs": []
    },
    {
      "cell_type": "code",
      "metadata": {
        "id": "i8Cz6MD3K5Je"
      },
      "source": [
        "def get_betweenness_centrality(network, load=True, save=True, file_path = \"betweenness_centrality.csv\"):\n",
        "  \"\"\" \n",
        "  Given a networks object `network`, retrieve the betweenness centrality dictionary. \n",
        "  If the `save` option is set to True, save the network in .csv format in \n",
        "  filename betweenness_centrality.csv, or the specified path in `file_path`. \n",
        "  \n",
        "  If the `load` option is set to True, do not create the network and, instead,\n",
        "  load the betweenness_centrality.csv file, or the specified path in `file_path`.\n",
        "  \"\"\"\n",
        "  if not load:\n",
        "    betweenness_centrality = nx.algorithms..centrality.betweenness_centrality(CC_graph, endpoints=True)\n",
        "\n",
        "    if save:\n",
        "      # open file for writing, \"w\" is writing\n",
        "      w = csv.writer(open(file_path, \"w\"))\n",
        "\n",
        "      # loop over dictionary keys and values\n",
        "      for key, val in betweenness_centrality.items():\n",
        "        # write every key and value to file\n",
        "        w.writerow([key, val])\n",
        "\n",
        "  else:\n",
        "    betweenness_centrality_csv = csv.reader(open(file_path, \"r\"))\n",
        "    betweenness_centrality = {int(node): int(betweenness_centrality) \n",
        "                                for node, betweenness_centrality in betweenness_centrality_csv\n",
        "                              }\n",
        "\n",
        "  return betweenness_centrality"
      ],
      "execution_count": null,
      "outputs": []
    },
    {
      "cell_type": "markdown",
      "metadata": {
        "id": "0I06u2dqVYeY"
      },
      "source": [
        "# Problem 4.2: Co-offending Network"
      ]
    },
    {
      "cell_type": "markdown",
      "metadata": {
        "id": "NEmjtVJSTCtZ"
      },
      "source": [
        "## Preamble"
      ]
    },
    {
      "cell_type": "code",
      "metadata": {
        "id": "j_cUvtxamKa9"
      },
      "source": [
        "# Load data\n",
        "co_off = pd.read_csv(\"Cooffending.csv\")\n",
        "\n",
        "# Set date\n",
        "co_off['date'] = pd.to_datetime(co_off['date'])"
      ],
      "execution_count": 8,
      "outputs": []
    },
    {
      "cell_type": "markdown",
      "metadata": {
        "id": "UlVFGZ_XVakk"
      },
      "source": [
        "## (a), (b), (c), (d): Data exploration"
      ]
    },
    {
      "cell_type": "markdown",
      "metadata": {
        "id": "dkM1_QkI5Ey6"
      },
      "source": [
        "This dataset contains 1,465,786 entries. Each observation is taken at the `offender_id`-`event_id`-`crime_code` level. This is, individual offenders arrested at a given crime event and charged with a certain crime. \n",
        "\n",
        "Note that at any given crime event, the offender can be charged several different crimes.\n",
        "\n",
        "\n",
        "\n"
      ]
    },
    {
      "cell_type": "code",
      "metadata": {
        "colab": {
          "base_uri": "https://localhost:8080/"
        },
        "id": "_lPe6r2UDcTA",
        "outputId": "82205f26-0d2a-44be-c73d-a9f663823987"
      },
      "source": [
        "print(f\"Total number of entries: {co_off.shape[0]:,}\")"
      ],
      "execution_count": 9,
      "outputs": [
        {
          "output_type": "execute_result",
          "data": {
            "text/plain": [
              "1465786"
            ]
          },
          "metadata": {},
          "execution_count": 9
        }
      ]
    },
    {
      "cell_type": "markdown",
      "metadata": {
        "id": "yNdaUvnrDbq7"
      },
      "source": [
        "Within, the number of unique offenders is 538,851, and the number of different crime events are 1,163,423, which occurred between 1997 and 2004 according to the following table:\n",
        "\n",
        "| Year | Number of arrests |\n",
        "|:--:|:--:|\n",
        "| 1997 |\t22404  |\n",
        "| 1998 |\t142582 |\n",
        "| 1999 |\t163346 |\n",
        "| 2000 |\t220197 |\n",
        "| 2001 |\t234495 |\n",
        "| 2002 |\t246397 |\n",
        "| 2003 |\t251298 |\n",
        "| 2004 |\t185067 |"
      ]
    },
    {
      "cell_type": "code",
      "metadata": {
        "colab": {
          "base_uri": "https://localhost:8080/",
          "height": 297
        },
        "id": "DfTN3a8w4ql0",
        "outputId": "b79047bf-29e4-4325-966c-4c18d71e5517"
      },
      "source": [
        "co_off[['offender_id', 'event_id']].describe(include='all')"
      ],
      "execution_count": 10,
      "outputs": [
        {
          "output_type": "execute_result",
          "data": {
            "text/html": [
              "<div>\n",
              "<style scoped>\n",
              "    .dataframe tbody tr th:only-of-type {\n",
              "        vertical-align: middle;\n",
              "    }\n",
              "\n",
              "    .dataframe tbody tr th {\n",
              "        vertical-align: top;\n",
              "    }\n",
              "\n",
              "    .dataframe thead th {\n",
              "        text-align: right;\n",
              "    }\n",
              "</style>\n",
              "<table border=\"1\" class=\"dataframe\">\n",
              "  <thead>\n",
              "    <tr style=\"text-align: right;\">\n",
              "      <th></th>\n",
              "      <th>offender_id</th>\n",
              "      <th>event_id</th>\n",
              "    </tr>\n",
              "  </thead>\n",
              "  <tbody>\n",
              "    <tr>\n",
              "      <th>count</th>\n",
              "      <td>1465786.0000</td>\n",
              "      <td>1465786.0000</td>\n",
              "    </tr>\n",
              "    <tr>\n",
              "      <th>mean</th>\n",
              "      <td>281089.4558</td>\n",
              "      <td>581615.2382</td>\n",
              "    </tr>\n",
              "    <tr>\n",
              "      <th>std</th>\n",
              "      <td>143657.5503</td>\n",
              "      <td>335671.5310</td>\n",
              "    </tr>\n",
              "    <tr>\n",
              "      <th>min</th>\n",
              "      <td>0.0000</td>\n",
              "      <td>0.0000</td>\n",
              "    </tr>\n",
              "    <tr>\n",
              "      <th>25%</th>\n",
              "      <td>164215.0000</td>\n",
              "      <td>290578.2500</td>\n",
              "    </tr>\n",
              "    <tr>\n",
              "      <th>50%</th>\n",
              "      <td>284490.0000</td>\n",
              "      <td>581769.5000</td>\n",
              "    </tr>\n",
              "    <tr>\n",
              "      <th>75%</th>\n",
              "      <td>402317.7500</td>\n",
              "      <td>872052.0000</td>\n",
              "    </tr>\n",
              "    <tr>\n",
              "      <th>max</th>\n",
              "      <td>538850.0000</td>\n",
              "      <td>1163422.0000</td>\n",
              "    </tr>\n",
              "  </tbody>\n",
              "</table>\n",
              "</div>"
            ],
            "text/plain": [
              "       offender_id     event_id\n",
              "count 1465786.0000 1465786.0000\n",
              "mean   281089.4558  581615.2382\n",
              "std    143657.5503  335671.5310\n",
              "min         0.0000       0.0000\n",
              "25%    164215.0000  290578.2500\n",
              "50%    284490.0000  581769.5000\n",
              "75%    402317.7500  872052.0000\n",
              "max    538850.0000 1163422.0000"
            ]
          },
          "metadata": {},
          "execution_count": 10
        }
      ]
    },
    {
      "cell_type": "code",
      "metadata": {
        "colab": {
          "base_uri": "https://localhost:8080/",
          "height": 328
        },
        "id": "xsfCJA7r8M3u",
        "outputId": "7788f51a-2069-4f53-922c-debda864c0d2"
      },
      "source": [
        "co_off[['offender_id', 'year']].groupby(['year']).count()"
      ],
      "execution_count": 11,
      "outputs": [
        {
          "output_type": "execute_result",
          "data": {
            "text/html": [
              "<div>\n",
              "<style scoped>\n",
              "    .dataframe tbody tr th:only-of-type {\n",
              "        vertical-align: middle;\n",
              "    }\n",
              "\n",
              "    .dataframe tbody tr th {\n",
              "        vertical-align: top;\n",
              "    }\n",
              "\n",
              "    .dataframe thead th {\n",
              "        text-align: right;\n",
              "    }\n",
              "</style>\n",
              "<table border=\"1\" class=\"dataframe\">\n",
              "  <thead>\n",
              "    <tr style=\"text-align: right;\">\n",
              "      <th></th>\n",
              "      <th>offender_id</th>\n",
              "    </tr>\n",
              "    <tr>\n",
              "      <th>year</th>\n",
              "      <th></th>\n",
              "    </tr>\n",
              "  </thead>\n",
              "  <tbody>\n",
              "    <tr>\n",
              "      <th>1997</th>\n",
              "      <td>22404</td>\n",
              "    </tr>\n",
              "    <tr>\n",
              "      <th>1998</th>\n",
              "      <td>142582</td>\n",
              "    </tr>\n",
              "    <tr>\n",
              "      <th>1999</th>\n",
              "      <td>163346</td>\n",
              "    </tr>\n",
              "    <tr>\n",
              "      <th>2000</th>\n",
              "      <td>220197</td>\n",
              "    </tr>\n",
              "    <tr>\n",
              "      <th>2001</th>\n",
              "      <td>234495</td>\n",
              "    </tr>\n",
              "    <tr>\n",
              "      <th>2002</th>\n",
              "      <td>246397</td>\n",
              "    </tr>\n",
              "    <tr>\n",
              "      <th>2003</th>\n",
              "      <td>251298</td>\n",
              "    </tr>\n",
              "    <tr>\n",
              "      <th>2004</th>\n",
              "      <td>185067</td>\n",
              "    </tr>\n",
              "  </tbody>\n",
              "</table>\n",
              "</div>"
            ],
            "text/plain": [
              "      offender_id\n",
              "year             \n",
              "1997        22404\n",
              "1998       142582\n",
              "1999       163346\n",
              "2000       220197\n",
              "2001       234495\n",
              "2002       246397\n",
              "2003       251298\n",
              "2004       185067"
            ]
          },
          "metadata": {},
          "execution_count": 11
        }
      ]
    },
    {
      "cell_type": "markdown",
      "metadata": {
        "id": "nZs-EfrnDjlw"
      },
      "source": [
        "We can observe a total of 301 different crime codes (different offenses). The 5 crimes that occured the most are:\n",
        "\n",
        "| Crime code | Number of offenses  |\n",
        "|:----------:|:-------------------:|\n",
        "| 22         |  140,901            |\n",
        "| 131        |  108,031            |\n",
        "| 61         |   94,655            |\n",
        "| 39         |   90,179            |\n",
        "| 73         |   83,110            |\n",
        "| <b> Total  |  516,876            |\n",
        "\n",
        "Together, they comprise a total of 516,876 perpetrators, and correspond to, approximately, 35% of the sample.\n",
        "\n",
        "In terms of crimes in general, there is high variability. Moreover, a great number of crimes have low occurrences (see figure below)."
      ]
    },
    {
      "cell_type": "code",
      "metadata": {
        "colab": {
          "base_uri": "https://localhost:8080/"
        },
        "id": "SHylLTXJ-5uL",
        "outputId": "ba187875-2231-441d-fc39-358a4be1997c"
      },
      "source": [
        "print(\"Number of unique crime codes:\", co_off['crime_code'].unique().size)"
      ],
      "execution_count": 12,
      "outputs": [
        {
          "output_type": "stream",
          "name": "stdout",
          "text": [
            "Number of unique crime codes: 301\n"
          ]
        }
      ]
    },
    {
      "cell_type": "code",
      "metadata": {
        "id": "3JjETzMh1AUf"
      },
      "source": [
        "group_by_code = co_off.groupby('crime_code').count()"
      ],
      "execution_count": 13,
      "outputs": []
    },
    {
      "cell_type": "code",
      "metadata": {
        "colab": {
          "base_uri": "https://localhost:8080/"
        },
        "id": "iBEHYgF2229S",
        "outputId": "f9c3e5e0-6e24-4ae0-d5b9-16bcbfc592ab"
      },
      "source": [
        "most_offenders = group_by_code.sort_values(by='offender_id', ascending=False).iloc[:5,:]\n",
        "most_offenders['offender_id']"
      ],
      "execution_count": 14,
      "outputs": [
        {
          "output_type": "execute_result",
          "data": {
            "text/plain": [
              "crime_code\n",
              "22     140901\n",
              "131    108031\n",
              "61      94655\n",
              "39      90179\n",
              "73      83110\n",
              "Name: offender_id, dtype: int64"
            ]
          },
          "metadata": {},
          "execution_count": 14
        }
      ]
    },
    {
      "cell_type": "code",
      "metadata": {
        "colab": {
          "base_uri": "https://localhost:8080/",
          "height": 279
        },
        "id": "8jFVYtOCELup",
        "outputId": "7d6ebbbb-a09e-4e62-e575-bb599f02a5f0"
      },
      "source": [
        "# Axis offsets\n",
        "offset = (15,10000)\n",
        "\n",
        "# Initialize figure\n",
        "fig, ax = plt.subplots()\n",
        "\n",
        "# Draw histplot using offender_id count as y-axis\n",
        "sns.scatterplot(data=group_by_code, x='crime_code', y='offender_id', s=20, ax = ax)\n",
        "\n",
        "# Set xticks\n",
        "xticks = [50 * k for k in range(7)]\n",
        "xlabels = xticks\n",
        "\n",
        "plt.xticks(ticks=xticks, labels=xlabels, rotation=0, horizontalalignment = 'center')\n",
        "plt.xlim(xticks[0] - offset[0], xticks[-1] + offset[0])\n",
        "\n",
        "# Set yticks\n",
        "yticks = [25000 * k for k in range(7)]\n",
        "ylabels = yticks\n",
        "\n",
        "plt.yticks(yticks, ylabels)\n",
        "plt.ylim(yticks[0] - offset[1], yticks[-1] + offset[1])\n",
        "\n",
        "# Set axis titles\n",
        "plt.xlabel(\"Crime code\")\n",
        "plt.ylabel(\"Number of offenses\")\n",
        "\n",
        "fig.show()"
      ],
      "execution_count": 15,
      "outputs": [
        {
          "output_type": "display_data",
          "data": {
            "image/png": "[encoded data removed]",
            "text/plain": [
              "<Figure size 432x288 with 1 Axes>"
            ]
          },
          "metadata": {
            "needs_background": "light"
          }
        }
      ]
    },
    {
      "cell_type": "markdown",
      "metadata": {
        "id": "RQ96E8zGpb9d"
      },
      "source": [
        "To gain more insight, the sample is restricted to crimes with less or equal than 5,000 offenders. For reference, the average number of offenders per crime is, approximately, 4,869. With this, of the 294 different codes, 254 (86.3%) remain.\n",
        "\n",
        "The plot changes slightly. Most of the codes have little offenders and, among the rest, there is high variability."
      ]
    },
    {
      "cell_type": "code",
      "metadata": {
        "colab": {
          "base_uri": "https://localhost:8080/"
        },
        "id": "GC_BtkcPqJux",
        "outputId": "f7f0fc44-e16e-4c36-ba91-ed78a511e670"
      },
      "source": [
        "group_by_code_small = group_by_code[group_by_code['offender_id'] <= 5000]\n",
        "group_by_code_small.shape"
      ],
      "execution_count": 16,
      "outputs": [
        {
          "output_type": "execute_result",
          "data": {
            "text/plain": [
              "(254, 9)"
            ]
          },
          "metadata": {},
          "execution_count": 16
        }
      ]
    },
    {
      "cell_type": "code",
      "metadata": {
        "colab": {
          "base_uri": "https://localhost:8080/",
          "height": 279
        },
        "id": "wmfjHU5Zpn27",
        "outputId": "f7873161-b91b-410c-94bb-a2eeefea563c"
      },
      "source": [
        "# Axis offsets\n",
        "offset = (15,500)\n",
        "\n",
        "# Initialize figure\n",
        "fig, ax = plt.subplots()\n",
        "\n",
        "# Draw histplot using offender_id count as y-axis\n",
        "sns.scatterplot(data=group_by_code_small, x='crime_code', y='offender_id', s=20, ax = ax)\n",
        "\n",
        "# Set xticks\n",
        "xticks = [50 * k for k in range(7)]\n",
        "xlabels = xticks\n",
        "\n",
        "plt.xticks(ticks=xticks, labels=xlabels, rotation=0, horizontalalignment = 'center')\n",
        "plt.xlim(xticks[0] - offset[0], xticks[-1] + offset[0])\n",
        "\n",
        "# Set yticks\n",
        "yticks = [1000 * k for k in range(6)]\n",
        "ylabels = yticks\n",
        "\n",
        "plt.yticks(yticks, ylabels)\n",
        "plt.ylim(yticks[0] - offset[1], yticks[-1] + offset[1])\n",
        "\n",
        "# Set axis titles\n",
        "plt.xlabel(\"Crime code\")\n",
        "plt.ylabel(\"Number of offenses\")\n",
        "\n",
        "fig.show()"
      ],
      "execution_count": 17,
      "outputs": [
        {
          "output_type": "display_data",
          "data": {
            "image/png": "[encoded data removed]",
            "text/plain": [
              "<Figure size 432x288 with 1 Axes>"
            ]
          },
          "metadata": {
            "needs_background": "light"
          }
        }
      ]
    },
    {
      "cell_type": "markdown",
      "metadata": {
        "id": "6fy4wGzUCRJn"
      },
      "source": [
        "In terms of location, the most notorious crimes occur mainly in county 682. This could be the most populated county of the database. In fact, for crime 131, this county accounts for 84,952 offenders. This corresponds to, approximately, 78.63% of all offenders arrested for this crime. The following table shows the contribution of this county alone to all the crimes with most offenders:\n",
        "\n",
        "| Crime code | Offenders in county 682 | Total offenses | Contribution (%) |\n",
        "|:----------:|:-----------------------:|:---------------:|:----------------:|\n",
        "| 131       | 84,952                   | 108,031         | 78.63%\n",
        "|  22       | 28,247                   | 140,901         | 20.05%\n",
        "|  61       | 24,101                   |  94,655         | 25.46%\n",
        "|  73       | 23,743                   |  83,110         | 28.57%\n",
        "|  39       | 21,698                   |  90,179         | 24.06% \n",
        "\n",
        "To further see the relevance of this county, the following table shows, for each crime, in how many different counties it occured. Additionally, the table shows the contribution each county should have if crimes occured uniformly in each one. This contribution is computed as follows:\n",
        "  $$ \\text{Contribution}_{\\,\\text{crime}} = \\frac{100}{\\text{Number of different counties}_{\\,\\text{crime}}} $$\n",
        "<br>\n",
        "\n",
        "| Crime code | Number of different counties | Uniform contribution |\n",
        "|:----------:|:----------------------------:|:---------:|\n",
        "| 131        |   652                        | 0.15%\n",
        "|  22        | 1,228                        | 0.08%\n",
        "|  61        | 1,084                        | 0.09%\n",
        "|  73        | 1,099                        | 0.09%\n",
        "|  39        | 1,212                        | 0.08%"
      ]
    },
    {
      "cell_type": "code",
      "metadata": {
        "id": "m5MTNuUu3Ckn"
      },
      "source": [
        "most_offenders_list = most_offenders.index.to_numpy()\n",
        "location_of_most_offenders = co_off[co_off['crime_code'].isin(most_offenders_list)]"
      ],
      "execution_count": 18,
      "outputs": []
    },
    {
      "cell_type": "code",
      "metadata": {
        "colab": {
          "base_uri": "https://localhost:8080/",
          "height": 235
        },
        "id": "n2KbGROdB6YW",
        "outputId": "75d1a0f5-f859-4252-e50c-190ce7f108be"
      },
      "source": [
        "location_of_most_offenders.groupby(by=['crime_code', 'county']).count().sort_values(by='offender_id').iloc[-5:]"
      ],
      "execution_count": 19,
      "outputs": [
        {
          "output_type": "execute_result",
          "data": {
            "text/html": [
              "<div>\n",
              "<style scoped>\n",
              "    .dataframe tbody tr th:only-of-type {\n",
              "        vertical-align: middle;\n",
              "    }\n",
              "\n",
              "    .dataframe tbody tr th {\n",
              "        vertical-align: top;\n",
              "    }\n",
              "\n",
              "    .dataframe thead th {\n",
              "        text-align: right;\n",
              "    }\n",
              "</style>\n",
              "<table border=\"1\" class=\"dataframe\">\n",
              "  <thead>\n",
              "    <tr style=\"text-align: right;\">\n",
              "      <th></th>\n",
              "      <th></th>\n",
              "      <th>offender_id</th>\n",
              "      <th>event_id</th>\n",
              "      <th>adults</th>\n",
              "      <th>date</th>\n",
              "      <th>minors</th>\n",
              "      <th>sex</th>\n",
              "      <th>year</th>\n",
              "      <th>location</th>\n",
              "    </tr>\n",
              "    <tr>\n",
              "      <th>crime_code</th>\n",
              "      <th>county</th>\n",
              "      <th></th>\n",
              "      <th></th>\n",
              "      <th></th>\n",
              "      <th></th>\n",
              "      <th></th>\n",
              "      <th></th>\n",
              "      <th></th>\n",
              "      <th></th>\n",
              "    </tr>\n",
              "  </thead>\n",
              "  <tbody>\n",
              "    <tr>\n",
              "      <th>39</th>\n",
              "      <th>682</th>\n",
              "      <td>21698</td>\n",
              "      <td>21698</td>\n",
              "      <td>21698</td>\n",
              "      <td>21698</td>\n",
              "      <td>21698</td>\n",
              "      <td>21698</td>\n",
              "      <td>21698</td>\n",
              "      <td>21698</td>\n",
              "    </tr>\n",
              "    <tr>\n",
              "      <th>73</th>\n",
              "      <th>682</th>\n",
              "      <td>23743</td>\n",
              "      <td>23743</td>\n",
              "      <td>23743</td>\n",
              "      <td>23743</td>\n",
              "      <td>23743</td>\n",
              "      <td>23743</td>\n",
              "      <td>23743</td>\n",
              "      <td>23743</td>\n",
              "    </tr>\n",
              "    <tr>\n",
              "      <th>61</th>\n",
              "      <th>682</th>\n",
              "      <td>24101</td>\n",
              "      <td>24101</td>\n",
              "      <td>24101</td>\n",
              "      <td>24101</td>\n",
              "      <td>24101</td>\n",
              "      <td>24101</td>\n",
              "      <td>24101</td>\n",
              "      <td>24101</td>\n",
              "    </tr>\n",
              "    <tr>\n",
              "      <th>22</th>\n",
              "      <th>682</th>\n",
              "      <td>28247</td>\n",
              "      <td>28247</td>\n",
              "      <td>28247</td>\n",
              "      <td>28247</td>\n",
              "      <td>28247</td>\n",
              "      <td>28247</td>\n",
              "      <td>28247</td>\n",
              "      <td>28247</td>\n",
              "    </tr>\n",
              "    <tr>\n",
              "      <th>131</th>\n",
              "      <th>682</th>\n",
              "      <td>84952</td>\n",
              "      <td>84952</td>\n",
              "      <td>84952</td>\n",
              "      <td>84952</td>\n",
              "      <td>84952</td>\n",
              "      <td>84952</td>\n",
              "      <td>84952</td>\n",
              "      <td>84952</td>\n",
              "    </tr>\n",
              "  </tbody>\n",
              "</table>\n",
              "</div>"
            ],
            "text/plain": [
              "                   offender_id  event_id  adults  ...    sex   year  location\n",
              "crime_code county                                 ...                        \n",
              "39         682           21698     21698   21698  ...  21698  21698     21698\n",
              "73         682           23743     23743   23743  ...  23743  23743     23743\n",
              "61         682           24101     24101   24101  ...  24101  24101     24101\n",
              "22         682           28247     28247   28247  ...  28247  28247     28247\n",
              "131        682           84952     84952   84952  ...  84952  84952     84952\n",
              "\n",
              "[5 rows x 8 columns]"
            ]
          },
          "metadata": {},
          "execution_count": 19
        }
      ]
    },
    {
      "cell_type": "code",
      "metadata": {
        "colab": {
          "base_uri": "https://localhost:8080/"
        },
        "id": "OI5cGZclELh6",
        "outputId": "83c174fd-cbf0-400f-afb4-6b28370d0d3b"
      },
      "source": [
        "for crime in most_offenders_list:\n",
        "  data = location_of_most_offenders[location_of_most_offenders['crime_code'] == crime]\n",
        "  number_of_counties = data['county'].unique().size\n",
        "  print(f\"Crime code {crime} occured in {number_of_counties} different counties.\")"
      ],
      "execution_count": 20,
      "outputs": [
        {
          "output_type": "stream",
          "name": "stdout",
          "text": [
            "Crime code 22 occured in 1228 different counties.\n",
            "Crime code 131 occured in 652 different counties.\n",
            "Crime code 61 occured in 1084 different counties.\n",
            "Crime code 39 occured in 1212 different counties.\n",
            "Crime code 73 occured in 1099 different counties.\n"
          ]
        }
      ]
    },
    {
      "cell_type": "code",
      "metadata": {
        "colab": {
          "base_uri": "https://localhost:8080/",
          "height": 1000
        },
        "id": "nO15o85g4ORY",
        "outputId": "962850e4-c68f-4e85-8aab-a3efa65d643f"
      },
      "source": [
        "# Axis offsets\n",
        "offset_x = 50\n",
        "\n",
        "# yticks dict\n",
        "yticks_dict = { 22 : ([ 5000 * k for k in range(7)], 1500),\n",
        "               131 : ([15000 * k for k in range(7)], 5000),\n",
        "                61 : ([ 5000 * k for k in range(6)], 2000),\n",
        "                39 : ([ 5000 * k for k in range(6)], 1000),\n",
        "                73 : ([ 5000 * k for k in range(6)], 1000)\n",
        "              }\n",
        "\n",
        "for crime in most_offenders_list:\n",
        "  # Initialize figure\n",
        "  fig, ax = plt.subplots()\n",
        "\n",
        "  # Draw histplot using offender_id count as y-axis\n",
        "  data = location_of_most_offenders[location_of_most_offenders['crime_code'] == crime]\n",
        "  sns.histplot(data, x='county')\n",
        "\n",
        "  # Set xticks\n",
        "  xticks = [150 * k for k in range(10)]\n",
        "  xlabels = xticks\n",
        "\n",
        "  plt.xticks(ticks=xticks, labels=xlabels, rotation=0, horizontalalignment = 'center')\n",
        "  plt.xlim(xticks[0] - offset_x, xticks[-1] + offset_x)\n",
        "\n",
        "  # Set yticks\n",
        "  yticks, offset_y = yticks_dict[crime]\n",
        "  ylabels = yticks\n",
        "\n",
        "  plt.yticks(yticks, ylabels)\n",
        "  plt.ylim(yticks[0] - offset_y, yticks[-1] + offset_y)\n",
        "\n",
        "  # Set axis titles\n",
        "  plt.xlabel(\"County code\")\n",
        "  plt.ylabel(\"Number of offenders\")\n",
        "\n",
        "  # Set title\n",
        "  plt.title(f\"Crime code = {crime}\")\n",
        "\n",
        "  fig.show()"
      ],
      "execution_count": 21,
      "outputs": [
        {
          "output_type": "display_data",
          "data": {
            "image/png": "[encoded data removed]",
            "text/plain": [
              "<Figure size 432x288 with 1 Axes>"
            ]
          },
          "metadata": {
            "needs_background": "light"
          }
        },
        {
          "output_type": "display_data",
          "data": {
            "image/png": "[encoded data removed]",
            "text/plain": [
              "<Figure size 432x288 with 1 Axes>"
            ]
          },
          "metadata": {
            "needs_background": "light"
          }
        },
        {
          "output_type": "display_data",
          "data": {
            "image/png": "[encoded data removed]",
            "text/plain": [
              "<Figure size 432x288 with 1 Axes>"
            ]
          },
          "metadata": {
            "needs_background": "light"
          }
        },
        {
          "output_type": "display_data",
          "data": {
            "image/png": "[encoded data removed]",
            "text/plain": [
              "<Figure size 432x288 with 1 Axes>"
            ]
          },
          "metadata": {
            "needs_background": "light"
          }
        },
        {
          "output_type": "display_data",
          "data": {
            "image/png": "[encoded data removed]",
            "text/plain": [
              "<Figure size 432x288 with 1 Axes>"
            ]
          },
          "metadata": {
            "needs_background": "light"
          }
        }
      ]
    },
    {
      "cell_type": "markdown",
      "metadata": {
        "id": "k5-Ma7R3VeIc"
      },
      "source": [
        "## (e), (f), (g): Create and analyze the network"
      ]
    },
    {
      "cell_type": "markdown",
      "metadata": {
        "id": "xZiiKD5TOn-6"
      },
      "source": [
        "To construct the co-offending network, the total number of offenders in the database is obtained. This, since this number determines the size of the co-offending adjacency matrix. Additionally, the sparse matrix object is initialized. Finally, the network is created."
      ]
    },
    {
      "cell_type": "code",
      "metadata": {
        "id": "kPn-XZhZkEZ0"
      },
      "source": [
        "# Initialize parameters\n",
        "number_of_offenders = co_off['offender_id'].unique().size\n",
        "\n",
        "# Initialize network as sparse DoK matrix\n",
        "co_off_network = scipy.sparse.dok_matrix((number_of_offenders,number_of_offenders), dtype='int')\n",
        "\n",
        "# Create network\n",
        "co_off_network = create_co_off_network(co_off, load=True)"
      ],
      "execution_count": 22,
      "outputs": []
    },
    {
      "cell_type": "markdown",
      "metadata": {
        "id": "f3AswOE-Rk_V"
      },
      "source": [
        "The table below shows the number of nodes and edges before and after removing solo offenders.\n",
        "\n",
        "| | With solo offenders | Without solo offenders |\n",
        "|-:|:-:|:-:|\n",
        "| Total nodes    | 538,851 | 538,851\n",
        "| Self edges     | 538,851 | 121,119\n",
        "| Non-Self edges | 178,372 | 178,372\n",
        "| Total edges    | 717,223 | 299,491\n",
        "\n",
        "From the table, it is possible to infer that he number of solo offender is 417,732 (= 538,851 - 121,119)."
      ]
    },
    {
      "cell_type": "code",
      "metadata": {
        "colab": {
          "base_uri": "https://localhost:8080/",
          "height": 287,
          "referenced_widgets": [
            "a5995393756a4a979882e7744cb6c05b",
            "5db75d571e0840fd8c568101d6115b1f",
            "2358e194406c4f4b98a0b96016a613a6",
            "d369e2448e3f48a5a36d5ea1e080425d",
            "c22968c471f64b3d865c2e4f8b27b7fe",
            "00b9da51ef0c4b15a97f22bc3f62259f",
            "1bd069648c11431282c330f5c44c73bc",
            "c5518938eaad499b9a49422f32e9047a",
            "cd15f2e5e2f043fe9662bfcaee155f14",
            "7ca700e796af48dc8868c13382bcfa99",
            "1b53d8bdd953450e986d5e67f08bbdea"
          ]
        },
        "id": "gOSM5lhYK-lp",
        "outputId": "5cab439b-ba76-4407-aa56-fd76328aa36f"
      },
      "source": [
        "# Show nodes and edges\n",
        "print_nodes_and_edges(co_off_network, \n",
        "                      title=\"Before removing solo offenders\")\n",
        "\n",
        "# Remove solo offenders\n",
        "co_off_network = remove_solo_offenders(co_off_network)\n",
        "\n",
        "# Compute number of nodes and edges\n",
        "total_nodes          = co_off_network.shape[0]\n",
        "total_self_edges     = (co_off_network.diagonal() != 0).sum()\n",
        "total_edges          = len(co_off_network.keys())//2 + total_self_edges//2\n",
        "total_not_self_edges = len(co_off_network.keys())//2 - total_self_edges//2\n",
        "\n",
        "# Show nodes and edges\n",
        "print_nodes_and_edges(co_off_network, \n",
        "                      title=\"\\nBefore removing solo offenders\", \n",
        "                      final_space=False)"
      ],
      "execution_count": 23,
      "outputs": [
        {
          "output_type": "stream",
          "name": "stdout",
          "text": [
            "Before removing solo offenders\n",
            "------------------------------\n",
            " - There are a total of 538,851 nodes.\n",
            " - There are a total of 717,223 edges.\n",
            "    • Of these, 538,851 are self edges.\n",
            "    • Of these, 178,372 are not self edges.\n",
            "\n"
          ]
        },
        {
          "output_type": "display_data",
          "data": {
            "application/vnd.jupyter.widget-view+json": {
              "model_id": "a5995393756a4a979882e7744cb6c05b",
              "version_minor": 0,
              "version_major": 2
            },
            "text/plain": [
              "Removing solo offenders:   0%|          | 0/538851 [00:00<?, ?it/s]"
            ]
          },
          "metadata": {}
        },
        {
          "output_type": "stream",
          "name": "stdout",
          "text": [
            "\n",
            "Before removing solo offenders\n",
            "-------------------------------\n",
            " - There are a total of 538,851 nodes.\n",
            " - There are a total of 299,491 edges.\n",
            "    • Of these, 121,119 are self edges.\n",
            "    • Of these, 178,372 are not self edges.\n"
          ]
        }
      ]
    },
    {
      "cell_type": "markdown",
      "metadata": {
        "id": "0r4WV-Y0iHRu"
      },
      "source": [
        "Next, the `networkx` module is used to construct a graph object, which makes network analysis easy."
      ]
    },
    {
      "cell_type": "code",
      "metadata": {
        "id": "u_RHFTdZBOT9"
      },
      "source": [
        "# Initialize graph \n",
        "co_off_graph = nx.Graph()\n",
        "\n",
        "# Add nodes\n",
        "offender_data = co_off.drop_duplicates(subset=['offender_id'])\n",
        "nodes = [(off_id, {'sex' : sex}) for off_id, sex in zip(offender_data['offender_id'].to_numpy(), offender_data['sex'].to_numpy())]\n",
        "\n",
        "co_off_graph.add_nodes_from(nodes)\n",
        "\n",
        "# Add edges (not considering self-edges)\n",
        "edges = [(node_i,node_j, {'weight' : weight}) for (node_i,node_j),weight in co_off_network.items() if node_i != node_j]\n",
        "\n",
        "co_off_graph.add_edges_from(edges)"
      ],
      "execution_count": 24,
      "outputs": []
    },
    {
      "cell_type": "markdown",
      "metadata": {
        "id": "Wkzjmp7ZiRY4"
      },
      "source": [
        "Next, the degree distribution is obtained. Both figures below show that the degree follows a power-law distribution up to degree -- approximately -- 15 or 20. Afterwards, the lineplot becomes erratic, as fewer nodes have degrees over these caps."
      ]
    },
    {
      "cell_type": "code",
      "metadata": {
        "id": "eWQgQW3Uu2Lw"
      },
      "source": [
        "# Obtain degree distribution\n",
        "degree_sequence = sorted([d for n, d in co_off_graph.degree()])\n",
        "degree_sequence, counts = np.unique(degree_sequence, return_counts=True)\n",
        "degree_sequence, counts = degree_sequence[1:], counts[1:]\n",
        "\n",
        "rel_counts = counts/counts.sum()\n",
        "cum_counts = rel_counts.cumsum()"
      ],
      "execution_count": 25,
      "outputs": []
    },
    {
      "cell_type": "code",
      "metadata": {
        "colab": {
          "base_uri": "https://localhost:8080/",
          "height": 334
        },
        "id": "ma4bDyjMiFUT",
        "outputId": "1fa2744f-1d42-4e46-af3e-38f283d07395"
      },
      "source": [
        "# Axis offsets\n",
        "offset = {'x' : (0.2, 50),\n",
        "          'y' : (0,10**5)\n",
        "          }\n",
        "\n",
        "# Initialize figure\n",
        "fig, ax = plt.subplots()\n",
        "fig.set_size_inches((10,5))\n",
        "ax.set(xscale=\"log\", yscale=\"log\")\n",
        "\n",
        "# Plot\n",
        "ax.bar(degree_sequence, counts, width = 0.3)\n",
        "\n",
        "# Set xticks\n",
        "xticks = [1, 3, 10, 30, 100, 250]\n",
        "xlabels = xticks\n",
        "\n",
        "plt.xticks(ticks=xticks, labels=xlabels, rotation=0, horizontalalignment = 'center')\n",
        "plt.xlim(xticks[0] - offset['x'][0], xticks[-1] + offset['x'][1])\n",
        "\n",
        "# Set yticks\n",
        "yticks = [10 ** k for k in range(6)]\n",
        "ylabels = [f'10$^{k}$' for k in range(6)]\n",
        "\n",
        "plt.yticks(ticks = yticks, labels = ylabels)\n",
        "plt.ylim(yticks[0] - offset['y'][0], yticks[-1] + offset['y'][1])\n",
        "\n",
        "# Set axis titles\n",
        "plt.xlabel(\"Degree\")\n",
        "plt.ylabel(\"Count\")  \n",
        "\n",
        "fig.show()"
      ],
      "execution_count": 26,
      "outputs": [
        {
          "output_type": "display_data",
          "data": {
            "image/png": "[encoded data removed]",
            "text/plain": [
              "<Figure size 720x360 with 1 Axes>"
            ]
          },
          "metadata": {
            "needs_background": "light"
          }
        }
      ]
    },
    {
      "cell_type": "code",
      "metadata": {
        "colab": {
          "base_uri": "https://localhost:8080/",
          "height": 334
        },
        "id": "OKXsuQvfr9kg",
        "outputId": "9441c87b-989e-48aa-fba2-a142fdc11223"
      },
      "source": [
        "# Axis offsets\n",
        "offset = {'x' : (0.2, 0.2),\n",
        "          'y' : (5 * 10**-7,1)\n",
        "          }\n",
        "\n",
        "# Initialize figure\n",
        "fig, ax = plt.subplots()\n",
        "fig.set_size_inches((10,5))\n",
        "ax.set(xscale=\"log\", yscale=\"log\")\n",
        "\n",
        "# Plot\n",
        "ax.plot(degree_sequence, rel_counts)\n",
        "\n",
        "# Set xticks\n",
        "xticks = [1, 3, 10, 30, 100, 250]\n",
        "xlabels = xticks\n",
        "\n",
        "plt.xticks(ticks=xticks, labels=xlabels, rotation=0, horizontalalignment = 'center')\n",
        "plt.xlim(xticks[0] - offset['x'][0], xticks[-1] + offset['x'][1])\n",
        "\n",
        "# Set yticks\n",
        "yticks = [10 ** (-6+k) for k in range(7)]\n",
        "ylabels = [f'10$^{-6+k}$' for k in range(7)]\n",
        "\n",
        "plt.yticks(ticks = yticks, labels = ylabels)\n",
        "plt.ylim(yticks[0] - offset['y'][0], yticks[-1] + offset['y'][1])\n",
        "\n",
        "# Set axis titles\n",
        "plt.xlabel(\"Degree\")\n",
        "plt.ylabel(\"Fraction\")  \n",
        "\n",
        "fig.show()"
      ],
      "execution_count": 27,
      "outputs": [
        {
          "output_type": "display_data",
          "data": {
            "image/png": "[encoded data removed]",
            "text/plain": [
              "<Figure size 720x360 with 1 Axes>"
            ]
          },
          "metadata": {
            "needs_background": "light"
          }
        }
      ]
    },
    {
      "cell_type": "markdown",
      "metadata": {
        "id": "cx9e3n64zG6R"
      },
      "source": [
        "To shed some light about the cumulative distribution of degrees of this network, the following table shows the total of nodes with degree at most $d$, for different values of $d$. The total number of nodes with positive degree is 121,119.\n",
        "\n",
        "| Max. degree | Number of nodes | Percentage | \n",
        "|:-:|:-:|:-:|\n",
        "| 3  | 102,689 | 84,78% |\n",
        "| 5  | 112,042 | 92,51% |\n",
        "| 10 | 117,373 | 96,91% | \n",
        "| 15 | 118,576 | 97.90% | \n",
        "| 20 | 119,134 | 98.36% | \n",
        "| 25 | 119,498 | 98,66% |\n",
        "| 30 | 119,849 | 98.95%\n",
        "\n",
        "Also, the cumulative distribution of degrees is shown."
      ]
    },
    {
      "cell_type": "code",
      "metadata": {
        "colab": {
          "base_uri": "https://localhost:8080/"
        },
        "id": "k0fSfKyZxjqt",
        "outputId": "eccdd6f0-4112-46af-85cf-353ea72ef1a9"
      },
      "source": [
        "print_degree_counts([3,5,10,15,20,25,30], degree_sequence, counts)"
      ],
      "execution_count": 28,
      "outputs": [
        {
          "output_type": "stream",
          "name": "stdout",
          "text": [
            "The total number of nodes with positive degree is 121,119.\n",
            " - Nodes with degree at most 3: 102,689 (84.78%).\n",
            " - Nodes with degree at most 5: 112,042 (92.51%).\n",
            " - Nodes with degree at most 10: 117,373 (96.91%).\n",
            " - Nodes with degree at most 15: 118,576 (97.90%).\n",
            " - Nodes with degree at most 20: 119,134 (98.36%).\n",
            " - Nodes with degree at most 25: 119,498 (98.66%).\n",
            " - Nodes with degree at most 30: 119,849 (98.95%).\n"
          ]
        }
      ]
    },
    {
      "cell_type": "code",
      "metadata": {
        "colab": {
          "base_uri": "https://localhost:8080/",
          "height": 334
        },
        "id": "uG-vF99M0T6n",
        "outputId": "5f6d7045-e5b0-4fff-e7fe-38fc1438f151"
      },
      "source": [
        "# Axis offsets\n",
        "offset = {'x' : (0.2, 0.2),\n",
        "          'y' : (0.1,0.1)\n",
        "          }\n",
        "\n",
        "# Initialize figure\n",
        "fig, ax = plt.subplots()\n",
        "fig.set_size_inches((10,5))\n",
        "ax.set(xscale=\"log\")\n",
        "\n",
        "# Plot\n",
        "ax.plot(degree_sequence, cum_counts)\n",
        "\n",
        "# Set xticks\n",
        "xticks = [1, 3, 10, 30, 100, 250]\n",
        "xlabels = xticks\n",
        "\n",
        "plt.xticks(ticks=xticks, labels=xlabels, rotation=0, horizontalalignment = 'center')\n",
        "plt.xlim(xticks[0] - offset['x'][0], xticks[-1] + offset['x'][1])\n",
        "\n",
        "# Set yticks\n",
        "yticks = [0.1, 0.5, 1]\n",
        "ylabels = yticks\n",
        "\n",
        "plt.yticks(ticks = yticks, labels = ylabels)\n",
        "plt.ylim(yticks[0] - offset['y'][0], yticks[-1] + offset['y'][1])\n",
        "\n",
        "# Set axis titles\n",
        "plt.xlabel(\"Degree\")\n",
        "plt.ylabel(\"Cumulative fraction\")  \n",
        "\n",
        "fig.show()"
      ],
      "execution_count": 29,
      "outputs": [
        {
          "output_type": "display_data",
          "data": {
            "image/png": "[encoded data removed]",
            "text/plain": [
              "<Figure size 720x360 with 1 Axes>"
            ]
          },
          "metadata": {
            "needs_background": "light"
          }
        }
      ]
    },
    {
      "cell_type": "markdown",
      "metadata": {
        "id": "VP3HCbmI2pCU"
      },
      "source": [
        "Finally, another interesting analysis is to detect the number of connected components of the graph. This network posseses 36,086 connected components. Of these, the larges comprises 19,921 nodes, while the smallest only contains 2 nodes."
      ]
    },
    {
      "cell_type": "code",
      "metadata": {
        "colab": {
          "base_uri": "https://localhost:8080/"
        },
        "id": "_TsxGQUV2of1",
        "outputId": "ae227096-f80b-48f8-c391-c796eb545f56"
      },
      "source": [
        "# Obtain connected components and remove singletons\n",
        "connected_components = [component for component in nx.connected_components(co_off_graph) if len(component) > 1]\n",
        "connected_components = sorted(connected_components, key=len, reverse=True)\n",
        "\n",
        "# Print\n",
        "print(f'This network has {len(connected_components):,} connected components:')\n",
        "print(f' - The largest has {len(connected_components[0]):,} nodes.')\n",
        "print(f' - The smallest has {len(connected_components[-1]):,} nodes.')"
      ],
      "execution_count": 30,
      "outputs": [
        {
          "output_type": "stream",
          "name": "stdout",
          "text": [
            "This network has 36,086 connected components:\n",
            " - The largest has 19,921 nodes.\n",
            " - The smallest has 2 nodes.\n"
          ]
        }
      ]
    },
    {
      "cell_type": "markdown",
      "metadata": {
        "id": "Zzv42eUAVg6u"
      },
      "source": [
        "## (h), (i), (j): Analyze the largest connected component"
      ]
    },
    {
      "cell_type": "code",
      "metadata": {
        "id": "6wkPhfbapPgx"
      },
      "source": [
        "# Obtain nodes\n",
        "largest_CC_nodes = connected_components[0]\n",
        "\n",
        "# Obtain largest connected component as graph\n",
        "CC_graph = nx.Graph()\n",
        "CC_graph.add_nodes_from(largest_CC_nodes)\n",
        "CC_graph.add_edges_from(co_off_graph.edges(largest_CC_nodes))"
      ],
      "execution_count": 31,
      "outputs": []
    },
    {
      "cell_type": "code",
      "metadata": {
        "id": "4UMItpUxrRhV"
      },
      "source": [
        "# Obtain degree distribution\n",
        "CC_degree_sequence = sorted([d for n, d in CC_graph.degree()])\n",
        "CC_degree_sequence, CC_counts = np.unique(CC_degree_sequence, return_counts=True)\n",
        "CC_degree_sequence, CC_counts = CC_degree_sequence, CC_counts\n",
        "\n",
        "rel_CC_counts = CC_counts/CC_counts.sum()\n",
        "cum_CC_counts = rel_CC_counts.cumsum()"
      ],
      "execution_count": 32,
      "outputs": []
    },
    {
      "cell_type": "markdown",
      "metadata": {
        "id": "RBpD60tBoOQr"
      },
      "source": [
        "As mentioned before, the largest connected component comprises 19,921 nodes. This is, approximately, a 16.45% of all nodes with positive degree.\n",
        "\n",
        "The degree distribution of this connected component does not follow a power-law distribution. However, there seems to be two linear segments: from 1 to 3 and from 3 up to 20. As before, after 20 the lineplot becomes erratic, as there are few nodes with degrees above 20."
      ]
    },
    {
      "cell_type": "code",
      "metadata": {
        "colab": {
          "base_uri": "https://localhost:8080/",
          "height": 334
        },
        "id": "2F-NMXmwrRhX",
        "outputId": "1c278903-4245-4c94-c639-2746e5c3d2eb"
      },
      "source": [
        "# Axis offsets\n",
        "offset = {'x' : (0.2, 50),\n",
        "          'y' : (0,10**5)\n",
        "          }\n",
        "\n",
        "# Initialize figure\n",
        "fig, ax = plt.subplots()\n",
        "fig.set_size_inches((10,5))\n",
        "ax.set(xscale=\"log\", yscale=\"log\")\n",
        "\n",
        "# Plot\n",
        "ax.bar(CC_degree_sequence, CC_counts, width = 0.3)\n",
        "\n",
        "# Set xticks\n",
        "xticks = [1, 3, 10, 30, 100, 250]\n",
        "xlabels = xticks\n",
        "\n",
        "plt.xticks(ticks=xticks, labels=xlabels, rotation=0, horizontalalignment = 'center')\n",
        "plt.xlim(xticks[0] - offset['x'][0], xticks[-1] + offset['x'][1])\n",
        "\n",
        "# Set yticks\n",
        "yticks = [10 ** k for k in range(6)]\n",
        "ylabels = [f'10$^{k}$' for k in range(6)]\n",
        "\n",
        "plt.yticks(ticks = yticks, labels = ylabels)\n",
        "plt.ylim(yticks[0] - offset['y'][0], yticks[-1] + offset['y'][1])\n",
        "\n",
        "# Set axis titles\n",
        "plt.xlabel(\"Degree\")\n",
        "plt.ylabel(\"Count\")  \n",
        "\n",
        "fig.show()"
      ],
      "execution_count": 33,
      "outputs": [
        {
          "output_type": "display_data",
          "data": {
            "image/png": "[encoded data removed]",
            "text/plain": [
              "<Figure size 720x360 with 1 Axes>"
            ]
          },
          "metadata": {
            "needs_background": "light"
          }
        }
      ]
    },
    {
      "cell_type": "code",
      "metadata": {
        "colab": {
          "base_uri": "https://localhost:8080/",
          "height": 334
        },
        "id": "i1lMLj1DrRhY",
        "outputId": "6dc6cb94-6331-47e9-c22c-96ac2a58c52b"
      },
      "source": [
        "# Axis offsets\n",
        "offset = {'x' : (0.2, 0.2),\n",
        "          'y' : (5 * 10**-7,1)\n",
        "          }\n",
        "\n",
        "# Initialize figure\n",
        "fig, ax = plt.subplots()\n",
        "fig.set_size_inches((10,5))\n",
        "ax.set(xscale=\"log\", yscale=\"log\")\n",
        "\n",
        "# Plot\n",
        "ax.plot(CC_degree_sequence, rel_CC_counts)\n",
        "\n",
        "# Set xticks\n",
        "xticks = [1, 3, 10, 30, 100, 250]\n",
        "xlabels = xticks\n",
        "\n",
        "plt.xticks(ticks=xticks, labels=xlabels, rotation=0, horizontalalignment = 'center')\n",
        "plt.xlim(xticks[0] - offset['x'][0], xticks[-1] + offset['x'][1])\n",
        "\n",
        "# Set yticks\n",
        "yticks = [10 ** (-6+k) for k in range(7)]\n",
        "ylabels = [f'10$^{-6+k}$' for k in range(7)]\n",
        "\n",
        "plt.yticks(ticks = yticks, labels = ylabels)\n",
        "plt.ylim(yticks[0] - offset['y'][0], yticks[-1] + offset['y'][1])\n",
        "\n",
        "# Set axis titles\n",
        "plt.xlabel(\"Degree\")\n",
        "plt.ylabel(\"Fraction\")  \n",
        "\n",
        "fig.show()"
      ],
      "execution_count": 34,
      "outputs": [
        {
          "output_type": "display_data",
          "data": {
            "image/png": "[encoded data removed]",
            "text/plain": [
              "<Figure size 720x360 with 1 Axes>"
            ]
          },
          "metadata": {
            "needs_background": "light"
          }
        }
      ]
    },
    {
      "cell_type": "markdown",
      "metadata": {
        "id": "rmJHsDH6rvtJ"
      },
      "source": [
        "To shed some light about the cumulative distribution of degrees of this network, the following table shows the total of nodes with degree at most $d$, for different values of $d$. The total number of nodes with positive degree is, by construction, the total number of nodes: 15,119.\n",
        "\n",
        "| Max. degree | Number of nodes | Percentage | \n",
        "|:-:|:-:|:-:|\n",
        "| 3  | 11,937 | 59,92% |\n",
        "| 5  | 15,253 | 76.57% |\n",
        "| 10 | 17,793 | 89.32% | \n",
        "| 15 | 18,433 | 92.53% | \n",
        "| 20 | 18,660 | 93.67% | \n",
        "| 25 | 18,958 | 94.66% |\n",
        "| 30 | 19,009 | 95.42%\n",
        "\n",
        "Also, the cumulative distribution of degrees is shown."
      ]
    },
    {
      "cell_type": "code",
      "metadata": {
        "colab": {
          "base_uri": "https://localhost:8080/"
        },
        "id": "mPYgVF2drvtL",
        "outputId": "70a7fd1d-e6af-4a85-b4e8-6129c638c891"
      },
      "source": [
        "print_degree_counts([3,5,10,15,20,25,30], CC_degree_sequence, CC_counts)"
      ],
      "execution_count": 35,
      "outputs": [
        {
          "output_type": "stream",
          "name": "stdout",
          "text": [
            "The total number of nodes with positive degree is 19,921.\n",
            " - Nodes with degree at most 3: 11,937 (59.92%).\n",
            " - Nodes with degree at most 5: 15,253 (76.57%).\n",
            " - Nodes with degree at most 10: 17,793 (89.32%).\n",
            " - Nodes with degree at most 15: 18,433 (92.53%).\n",
            " - Nodes with degree at most 20: 18,660 (93.67%).\n",
            " - Nodes with degree at most 25: 18,858 (94.66%).\n",
            " - Nodes with degree at most 30: 19,009 (95.42%).\n"
          ]
        }
      ]
    },
    {
      "cell_type": "code",
      "metadata": {
        "colab": {
          "base_uri": "https://localhost:8080/",
          "height": 334
        },
        "id": "qYjS8oBWrvtL",
        "outputId": "68b95a73-c690-4427-b4a6-e9255ace38a2"
      },
      "source": [
        "# Axis offsets\n",
        "offset = {'x' : (0.2, 0.2),\n",
        "          'y' : (0.1,0.1)\n",
        "          }\n",
        "\n",
        "# Initialize figure\n",
        "fig, ax = plt.subplots()\n",
        "fig.set_size_inches((10,5))\n",
        "ax.set(xscale=\"log\")\n",
        "\n",
        "# Plot\n",
        "ax.plot(CC_degree_sequence, cum_CC_counts)\n",
        "\n",
        "# Set xticks\n",
        "xticks = [1, 3, 10, 30, 100, 250]\n",
        "xlabels = xticks\n",
        "\n",
        "plt.xticks(ticks=xticks, labels=xlabels, rotation=0, horizontalalignment = 'center')\n",
        "plt.xlim(xticks[0] - offset['x'][0], xticks[-1] + offset['x'][1])\n",
        "\n",
        "# Set yticks\n",
        "yticks = [0.1, 0.5, 1]\n",
        "ylabels = yticks\n",
        "\n",
        "plt.yticks(ticks = yticks, labels = ylabels)\n",
        "plt.ylim(yticks[0] - offset['y'][0], yticks[-1] + offset['y'][1])\n",
        "\n",
        "# Set axis titles\n",
        "plt.xlabel(\"Degree\")\n",
        "plt.ylabel(\"Cumulative fraction\")  \n",
        "\n",
        "fig.show()"
      ],
      "execution_count": 36,
      "outputs": [
        {
          "output_type": "display_data",
          "data": {
            "image/png": "[encoded data removed]",
            "text/plain": [
              "<Figure size 720x360 with 1 Axes>"
            ]
          },
          "metadata": {
            "needs_background": "light"
          }
        }
      ]
    },
    {
      "cell_type": "markdown",
      "metadata": {
        "id": "yliDY7LhmW94"
      },
      "source": [
        "As opposed to the general network, this connected component has a heavy right tail in the degree distribution. This is expected, as the connected component is a particular subnetwork wher eall the nodes are connected by at least one path. In that sense, it can be possible for the nodes to have a greter degree in general, compared to the original network.\n",
        "\n",
        "Plotting both cumulative distributions makes this point clear, showing that the largest connected component (blue line) reaches values close to one for degrees much larger than the network as a whole (red line)."
      ]
    },
    {
      "cell_type": "code",
      "metadata": {
        "id": "6GuB_yMLm0kk",
        "colab": {
          "base_uri": "https://localhost:8080/",
          "height": 334
        },
        "outputId": "88fbc392-f91c-49e4-e7b4-dcc8b3ae34c4"
      },
      "source": [
        "# Axis offsets\n",
        "offset = {'x' : (0.2, 0.2),\n",
        "          'y' : (0.1,0.1)\n",
        "          }\n",
        "\n",
        "# Initialize figure\n",
        "fig, ax = plt.subplots()\n",
        "fig.set_size_inches((10,5))\n",
        "ax.set(xscale=\"log\")\n",
        "\n",
        "# Plot\n",
        "ax.plot(CC_degree_sequence, cum_CC_counts, label='Largest CC')\n",
        "ax.plot(degree_sequence, cum_counts, color='red', linestyle='--', label='Whole network')\n",
        "\n",
        "# Set xticks\n",
        "xticks = [1, 3, 10, 30, 100, 250]\n",
        "xlabels = xticks\n",
        "\n",
        "plt.xticks(ticks=xticks, labels=xlabels, rotation=0, horizontalalignment = 'center')\n",
        "plt.xlim(xticks[0] - offset['x'][0], xticks[-1] + offset['x'][1])\n",
        "\n",
        "# Set yticks\n",
        "yticks = [0.1, 0.5, 1]\n",
        "ylabels = yticks\n",
        "\n",
        "plt.yticks(ticks = yticks, labels = ylabels)\n",
        "plt.ylim(yticks[0] - offset['y'][0], yticks[-1] + offset['y'][1])\n",
        "\n",
        "# Set axis titles\n",
        "plt.xlabel(\"Degree\")\n",
        "plt.ylabel(\"Cumulative fraction\")  \n",
        "\n",
        "# Show legend\n",
        "plt.legend(loc='lower right')\n",
        "\n",
        "fig.show()"
      ],
      "execution_count": 37,
      "outputs": [
        {
          "output_type": "display_data",
          "data": {
            "image/png": "[encoded data removed]",
            "text/plain": [
              "<Figure size 720x360 with 1 Axes>"
            ]
          },
          "metadata": {
            "needs_background": "light"
          }
        }
      ]
    },
    {
      "cell_type": "markdown",
      "metadata": {
        "id": "5RiQ1EFtHoUU"
      },
      "source": [
        "The diameter of this connected component is 48. In other words, the two most separated nodes are at a distance of 48. In the extreme case where this connected component is a line, the diameter would be the number of nodes minus 1, that is 19,920. This is 415 times the diameter obtained."
      ]
    },
    {
      "cell_type": "code",
      "metadata": {
        "id": "CSIN1BwCHqtz",
        "colab": {
          "base_uri": "https://localhost:8080/"
        },
        "outputId": "ec16f574-6605-44e5-fecc-23a1e6257a07"
      },
      "source": [
        "eccentricities = get_eccentricities(CC_graph, load=load, file_path = \"largest_CC_eccentricities.csv\")\n",
        "print(f\"The diameter of the largest connected component is {max(eccentricities.values()):,}.\")"
      ],
      "execution_count": 38,
      "outputs": [
        {
          "output_type": "stream",
          "name": "stdout",
          "text": [
            "The diameter of the largest connected component is 48.\n"
          ]
        }
      ]
    },
    {
      "cell_type": "code",
      "metadata": {
        "id": "RLyxi_MGfChd",
        "colab": {
          "base_uri": "https://localhost:8080/"
        },
        "outputId": "e63245ce-f583-49f0-c5c0-4f2d7acc593f"
      },
      "source": [
        "clustering_coefficient = nx.algorithms.approximation.clustering_coefficient.average_clustering(CC_graph, \n",
        "                                                                                               trials=CC_graph.number_of_nodes(), \n",
        "                                                                                               seed=0)\n",
        "print(f\"The clustering coefficient of the largest component is {clustering_coefficient:.3f}.\")"
      ],
      "execution_count": 39,
      "outputs": [
        {
          "output_type": "stream",
          "name": "stdout",
          "text": [
            "The clustering coefficient of the largest component is 0.478.\n"
          ]
        }
      ]
    },
    {
      "cell_type": "code",
      "metadata": {
        "id": "pZZbv465io_n",
        "colab": {
          "base_uri": "https://localhost:8080/"
        },
        "outputId": "1be808e1-9204-4d5a-9a35-3f6175c93714"
      },
      "source": [
        "print(f\"The edge density of the largest component is {nx.function.density(CC_graph):.5f}\")"
      ],
      "execution_count": 40,
      "outputs": [
        {
          "output_type": "stream",
          "name": "stdout",
          "text": [
            "The edge density of the largest component is 0.00036\n"
          ]
        }
      ]
    },
    {
      "cell_type": "code",
      "metadata": {
        "id": "-XkJC22C8ShF"
      },
      "source": [
        "betweenness_centrality = get_betweenness_centrality(CC_graph, load=load, file_path = \"largest_CC_betweenness_centrality.csv\")"
      ],
      "execution_count": null,
      "outputs": []
    },
    {
      "cell_type": "code",
      "metadata": {
        "id": "NAO_11GCLuqn"
      },
      "source": [
        "# open file for writing, \"w\" is writing\n",
        "w = csv.writer(open(\"largest_CC_betweenness_centrality.csv\", \"w\"))\n",
        "\n",
        "# loop over dictionary keys and values\n",
        "for key, val in betweenness_centrality.items():\n",
        "  # write every key and value to file\n",
        "  w.writerow([key, val])"
      ],
      "execution_count": null,
      "outputs": []
    },
    {
      "cell_type": "markdown",
      "metadata": {
        "id": "COkEbQyDVj1e"
      },
      "source": [
        "## (k), (l), (m): Additional questions"
      ]
    }
  ]
}