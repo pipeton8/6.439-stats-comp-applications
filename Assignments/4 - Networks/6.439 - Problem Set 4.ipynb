{
  "nbformat": 4,
  "nbformat_minor": 0,
  "metadata": {
    "colab": {
      "name": "6.439 - Problem Set 4.ipynb",
      "provenance": [],
      "authorship_tag": "ABX9TyOAxgY9ytfA06kpyvy6RKKP",
      "include_colab_link": true
    },
    "kernelspec": {
      "name": "python3",
      "display_name": "Python 3"
    },
    "language_info": {
      "name": "python"
    },
    "widgets": {
      "application/vnd.jupyter.widget-state+json": {
        "8723943ea5d04de7926fd7805c945190": {
          "model_module": "@jupyter-widgets/controls",
          "model_name": "HBoxModel",
          "model_module_version": "1.5.0",
          "state": {
            "_view_name": "HBoxView",
            "_dom_classes": [],
            "_model_name": "HBoxModel",
            "_view_module": "@jupyter-widgets/controls",
            "_model_module_version": "1.5.0",
            "_view_count": null,
            "_view_module_version": "1.5.0",
            "box_style": "",
            "layout": "IPY_MODEL_e45c0a63d0f34a27aa8dbbc26bd24a41",
            "_model_module": "@jupyter-widgets/controls",
            "children": [
              "IPY_MODEL_2e25e72565224b379865ac17a51cf9fe",
              "IPY_MODEL_ab93e9662a5a4aa49e5642d5095020bc",
              "IPY_MODEL_978bc7f911a64c72a8dabe4309dd665b"
            ]
          }
        },
        "e45c0a63d0f34a27aa8dbbc26bd24a41": {
          "model_module": "@jupyter-widgets/base",
          "model_name": "LayoutModel",
          "model_module_version": "1.2.0",
          "state": {
            "_view_name": "LayoutView",
            "grid_template_rows": null,
            "right": null,
            "justify_content": null,
            "_view_module": "@jupyter-widgets/base",
            "overflow": null,
            "_model_module_version": "1.2.0",
            "_view_count": null,
            "flex_flow": null,
            "width": null,
            "min_width": null,
            "border": null,
            "align_items": null,
            "bottom": null,
            "_model_module": "@jupyter-widgets/base",
            "top": null,
            "grid_column": null,
            "overflow_y": null,
            "overflow_x": null,
            "grid_auto_flow": null,
            "grid_area": null,
            "grid_template_columns": null,
            "flex": null,
            "_model_name": "LayoutModel",
            "justify_items": null,
            "grid_row": null,
            "max_height": null,
            "align_content": null,
            "visibility": null,
            "align_self": null,
            "height": null,
            "min_height": null,
            "padding": null,
            "grid_auto_rows": null,
            "grid_gap": null,
            "max_width": null,
            "order": null,
            "_view_module_version": "1.2.0",
            "grid_template_areas": null,
            "object_position": null,
            "object_fit": null,
            "grid_auto_columns": null,
            "margin": null,
            "display": null,
            "left": null
          }
        },
        "2e25e72565224b379865ac17a51cf9fe": {
          "model_module": "@jupyter-widgets/controls",
          "model_name": "HTMLModel",
          "model_module_version": "1.5.0",
          "state": {
            "_view_name": "HTMLView",
            "style": "IPY_MODEL_7f7d1d1e7cf6413594dc2fa054d1fe74",
            "_dom_classes": [],
            "description": "",
            "_model_name": "HTMLModel",
            "placeholder": "​",
            "_view_module": "@jupyter-widgets/controls",
            "_model_module_version": "1.5.0",
            "value": "Removing solo offenders: 100%",
            "_view_count": null,
            "_view_module_version": "1.5.0",
            "description_tooltip": null,
            "_model_module": "@jupyter-widgets/controls",
            "layout": "IPY_MODEL_560832a3d7824816a14407a4c389d251"
          }
        },
        "ab93e9662a5a4aa49e5642d5095020bc": {
          "model_module": "@jupyter-widgets/controls",
          "model_name": "FloatProgressModel",
          "model_module_version": "1.5.0",
          "state": {
            "_view_name": "ProgressView",
            "style": "IPY_MODEL_e622c7cf0400452eaa4f0051c2e8f7ba",
            "_dom_classes": [],
            "description": "",
            "_model_name": "FloatProgressModel",
            "bar_style": "success",
            "max": 538851,
            "_view_module": "@jupyter-widgets/controls",
            "_model_module_version": "1.5.0",
            "value": 538851,
            "_view_count": null,
            "_view_module_version": "1.5.0",
            "orientation": "horizontal",
            "min": 0,
            "description_tooltip": null,
            "_model_module": "@jupyter-widgets/controls",
            "layout": "IPY_MODEL_9ec81162d1b34d808f1c2a1f3c917d5e"
          }
        },
        "978bc7f911a64c72a8dabe4309dd665b": {
          "model_module": "@jupyter-widgets/controls",
          "model_name": "HTMLModel",
          "model_module_version": "1.5.0",
          "state": {
            "_view_name": "HTMLView",
            "style": "IPY_MODEL_5bbfd19b1e354e248b042c6e0dd79a5f",
            "_dom_classes": [],
            "description": "",
            "_model_name": "HTMLModel",
            "placeholder": "​",
            "_view_module": "@jupyter-widgets/controls",
            "_model_module_version": "1.5.0",
            "value": " 538851/538851 [00:10&lt;00:00, 82764.14it/s]",
            "_view_count": null,
            "_view_module_version": "1.5.0",
            "description_tooltip": null,
            "_model_module": "@jupyter-widgets/controls",
            "layout": "IPY_MODEL_2612175f72e840ec8a443c0cc84fef9b"
          }
        },
        "7f7d1d1e7cf6413594dc2fa054d1fe74": {
          "model_module": "@jupyter-widgets/controls",
          "model_name": "DescriptionStyleModel",
          "model_module_version": "1.5.0",
          "state": {
            "_view_name": "StyleView",
            "_model_name": "DescriptionStyleModel",
            "description_width": "",
            "_view_module": "@jupyter-widgets/base",
            "_model_module_version": "1.5.0",
            "_view_count": null,
            "_view_module_version": "1.2.0",
            "_model_module": "@jupyter-widgets/controls"
          }
        },
        "560832a3d7824816a14407a4c389d251": {
          "model_module": "@jupyter-widgets/base",
          "model_name": "LayoutModel",
          "model_module_version": "1.2.0",
          "state": {
            "_view_name": "LayoutView",
            "grid_template_rows": null,
            "right": null,
            "justify_content": null,
            "_view_module": "@jupyter-widgets/base",
            "overflow": null,
            "_model_module_version": "1.2.0",
            "_view_count": null,
            "flex_flow": null,
            "width": null,
            "min_width": null,
            "border": null,
            "align_items": null,
            "bottom": null,
            "_model_module": "@jupyter-widgets/base",
            "top": null,
            "grid_column": null,
            "overflow_y": null,
            "overflow_x": null,
            "grid_auto_flow": null,
            "grid_area": null,
            "grid_template_columns": null,
            "flex": null,
            "_model_name": "LayoutModel",
            "justify_items": null,
            "grid_row": null,
            "max_height": null,
            "align_content": null,
            "visibility": null,
            "align_self": null,
            "height": null,
            "min_height": null,
            "padding": null,
            "grid_auto_rows": null,
            "grid_gap": null,
            "max_width": null,
            "order": null,
            "_view_module_version": "1.2.0",
            "grid_template_areas": null,
            "object_position": null,
            "object_fit": null,
            "grid_auto_columns": null,
            "margin": null,
            "display": null,
            "left": null
          }
        },
        "e622c7cf0400452eaa4f0051c2e8f7ba": {
          "model_module": "@jupyter-widgets/controls",
          "model_name": "ProgressStyleModel",
          "model_module_version": "1.5.0",
          "state": {
            "_view_name": "StyleView",
            "_model_name": "ProgressStyleModel",
            "description_width": "",
            "_view_module": "@jupyter-widgets/base",
            "_model_module_version": "1.5.0",
            "_view_count": null,
            "_view_module_version": "1.2.0",
            "bar_color": null,
            "_model_module": "@jupyter-widgets/controls"
          }
        },
        "9ec81162d1b34d808f1c2a1f3c917d5e": {
          "model_module": "@jupyter-widgets/base",
          "model_name": "LayoutModel",
          "model_module_version": "1.2.0",
          "state": {
            "_view_name": "LayoutView",
            "grid_template_rows": null,
            "right": null,
            "justify_content": null,
            "_view_module": "@jupyter-widgets/base",
            "overflow": null,
            "_model_module_version": "1.2.0",
            "_view_count": null,
            "flex_flow": null,
            "width": null,
            "min_width": null,
            "border": null,
            "align_items": null,
            "bottom": null,
            "_model_module": "@jupyter-widgets/base",
            "top": null,
            "grid_column": null,
            "overflow_y": null,
            "overflow_x": null,
            "grid_auto_flow": null,
            "grid_area": null,
            "grid_template_columns": null,
            "flex": null,
            "_model_name": "LayoutModel",
            "justify_items": null,
            "grid_row": null,
            "max_height": null,
            "align_content": null,
            "visibility": null,
            "align_self": null,
            "height": null,
            "min_height": null,
            "padding": null,
            "grid_auto_rows": null,
            "grid_gap": null,
            "max_width": null,
            "order": null,
            "_view_module_version": "1.2.0",
            "grid_template_areas": null,
            "object_position": null,
            "object_fit": null,
            "grid_auto_columns": null,
            "margin": null,
            "display": null,
            "left": null
          }
        },
        "5bbfd19b1e354e248b042c6e0dd79a5f": {
          "model_module": "@jupyter-widgets/controls",
          "model_name": "DescriptionStyleModel",
          "model_module_version": "1.5.0",
          "state": {
            "_view_name": "StyleView",
            "_model_name": "DescriptionStyleModel",
            "description_width": "",
            "_view_module": "@jupyter-widgets/base",
            "_model_module_version": "1.5.0",
            "_view_count": null,
            "_view_module_version": "1.2.0",
            "_model_module": "@jupyter-widgets/controls"
          }
        },
        "2612175f72e840ec8a443c0cc84fef9b": {
          "model_module": "@jupyter-widgets/base",
          "model_name": "LayoutModel",
          "model_module_version": "1.2.0",
          "state": {
            "_view_name": "LayoutView",
            "grid_template_rows": null,
            "right": null,
            "justify_content": null,
            "_view_module": "@jupyter-widgets/base",
            "overflow": null,
            "_model_module_version": "1.2.0",
            "_view_count": null,
            "flex_flow": null,
            "width": null,
            "min_width": null,
            "border": null,
            "align_items": null,
            "bottom": null,
            "_model_module": "@jupyter-widgets/base",
            "top": null,
            "grid_column": null,
            "overflow_y": null,
            "overflow_x": null,
            "grid_auto_flow": null,
            "grid_area": null,
            "grid_template_columns": null,
            "flex": null,
            "_model_name": "LayoutModel",
            "justify_items": null,
            "grid_row": null,
            "max_height": null,
            "align_content": null,
            "visibility": null,
            "align_self": null,
            "height": null,
            "min_height": null,
            "padding": null,
            "grid_auto_rows": null,
            "grid_gap": null,
            "max_width": null,
            "order": null,
            "_view_module_version": "1.2.0",
            "grid_template_areas": null,
            "object_position": null,
            "object_fit": null,
            "grid_auto_columns": null,
            "margin": null,
            "display": null,
            "left": null
          }
        }
      }
    }
  },
  "cells": [
    {
      "cell_type": "markdown",
      "metadata": {
        "id": "view-in-github",
        "colab_type": "text"
      },
      "source": [
        "<a href=\"https://colab.research.google.com/github/pipeton8/6.439-stats-comp-applications/blob/main/Assignments/4%20-%20Networks/6.439%20-%20Problem%20Set%204.ipynb\" target=\"_parent\"><img src=\"https://colab.research.google.com/assets/colab-badge.svg\" alt=\"Open In Colab\"/></a>"
      ]
    },
    {
      "cell_type": "markdown",
      "metadata": {
        "id": "zQZiu5Rr0ywL"
      },
      "source": [
        "# Problem Set 4 - Statistics, Computation and Applications\n",
        "\n",
        "(c) Felipe del Canto, November 2021\n",
        "***\n",
        "***"
      ]
    },
    {
      "cell_type": "markdown",
      "metadata": {
        "id": "LpSk2ccJi4kO"
      },
      "source": [
        "# Part 0 (Execute first!)"
      ]
    },
    {
      "cell_type": "code",
      "metadata": {
        "id": "DGyfZXBXLnEg"
      },
      "source": [
        "# Set load = True to load co-offending network (faster)\n",
        "load = True"
      ],
      "execution_count": 1,
      "outputs": []
    },
    {
      "cell_type": "code",
      "metadata": {
        "id": "egFlocZLi6Zk"
      },
      "source": [
        "from IPython.display import clear_output\n",
        "\n",
        "# Download files\n",
        "!wget https://github.com/pipeton8/6.439-stats-comp-applications/raw/main/Assignments/databases/PS4_data.zip\n",
        "\n",
        "# Unzip\n",
        "!unzip -o PS4_data.zip\n",
        "!rm *.z* -r __MACOSX\n",
        "\n",
        "# Clear output\n",
        "clear_output()\n",
        "\n",
        "# Import packages\n",
        "import warnings\n",
        "import scipy\n",
        "\n",
        "import numpy  as np\n",
        "import pandas as pd\n",
        "pd.options.display.float_format = '{:.4f}'.format\n",
        "\n",
        "import seaborn           as sns\n",
        "import matplotlib.pyplot as plt\n",
        "import networkx          as nx \n",
        "\n",
        "from tqdm.auto import tqdm, trange"
      ],
      "execution_count": 2,
      "outputs": []
    },
    {
      "cell_type": "code",
      "metadata": {
        "id": "qdpBELxwLEbk"
      },
      "source": [
        "# Function to create or loadd the co-offending network\n",
        "def create_co_off_network(co_off, load=True, save=True, file_path = 'co_off_network.npz'):\n",
        "  \"\"\" \n",
        "  Given a dataframe with event_id and offender_id as variables, create the\n",
        "  co offending network as a dok sparse matrix. If the `save` option is set to \n",
        "  true, store the network in .npz format in filename co_off_network.npz.\n",
        "\n",
        "  If the `load` option is set to true, do not create the network and, instead,\n",
        "  load the co_off_network.npz file.\n",
        "\n",
        "  Specific file paths and filenames can be set using the `file_path` optional\n",
        "  argument.\n",
        "  \"\"\"\n",
        "\n",
        "  if not load:\n",
        "    # Obtain crime events\n",
        "    crime_events = co_off['event_id'].unique()\n",
        "\n",
        "    # Loop over the crime events\n",
        "    for event in tqdm(crime_events, desc=\"Creating co-offending network\"):\n",
        "\n",
        "      # Restrict dataset to current event_id\n",
        "      event_data = co_off[co_off['event_id'] == event]\n",
        "\n",
        "      # Obtain list of offenders\n",
        "      offenders = event_data['offender_id'].to_numpy()\n",
        "\n",
        "      # Cycle through offenders to increase by 1 their co-offending weight\n",
        "      for i,offender_i in enumerate(offenders):\n",
        "        for offender_j in offenders[i:]:\n",
        "          co_off_network[offender_i, offender_j] += 1\n",
        "          co_off_network[offender_j, offender_i] += 1\n",
        "    \n",
        "    # Save sparse matrix\n",
        "    if save:\n",
        "      co_off_network_coo = co_off_network.tocoo(copy=True)\n",
        "      scipy.sparse.save_npz(file_path, co_off_network_coo)\n",
        "      del co_off_network_coo\n",
        "    \n",
        "  else:\n",
        "    co_off_network_coo = scipy.sparse.load_npz(file_path)\n",
        "    co_off_network = co_off_network_coo.todok(copy=True)\n",
        "    del co_off_network_coo\n",
        "  \n",
        "  return co_off_network"
      ],
      "execution_count": 3,
      "outputs": []
    },
    {
      "cell_type": "code",
      "metadata": {
        "id": "VyPUBL-O1Jyz"
      },
      "source": [
        "def remove_solo_offenders(network):\n",
        "  \"\"\" \n",
        "  Given a dok sparse matrix, return the updated dok matrix where the \n",
        "  nodes with degree 1 are removed. \n",
        "  \"\"\"\n",
        "\n",
        "  assert type(network) == scipy.sparse.dok_matrix\n",
        "\n",
        "  # Convert to lil for faster row slicing\n",
        "  network_copy = network.tolil(copy=True)\n",
        "\n",
        "  # Store rows\n",
        "  network_rows = network_copy.rows.copy()\n",
        "\n",
        "  # Check with nodes are solo offender\n",
        "  for i,row in tqdm(enumerate(network_rows), total=len(network_rows), desc=\"Removing solo offenders\"):\n",
        "    if len(row) == 1:\n",
        "      network[i,row[0]] = 0\n",
        "    \n",
        "  # Save memory\n",
        "  del network_copy, network_rows\n",
        "\n",
        "  return network"
      ],
      "execution_count": 4,
      "outputs": []
    },
    {
      "cell_type": "code",
      "metadata": {
        "id": "aKAwXB_Okg7a"
      },
      "source": [
        "def print_nodes_and_edges(network, title, final_space=True):\n",
        "  \"\"\"\n",
        "   Given a dok sparse matrix, print the number of nodes and edges in a \"fancy\"\n",
        "   way. Edges are also split in self and non-self edges.\n",
        "  \"\"\"\n",
        "\n",
        "  assert type(network) == scipy.sparse.dok_matrix\n",
        "\n",
        "  # Compute number of nodes and edges\n",
        "  total_nodes          = network.shape[0]\n",
        "  total_self_edges     = (network.diagonal() != 0).sum()\n",
        "  total_edges          = (len(network.keys()) + total_self_edges)//2\n",
        "  total_not_self_edges = (len(network.keys()) - total_self_edges)//2\n",
        "\n",
        "  # Print number of nodes and edges\n",
        "  print(title)\n",
        "  print(\"-\"*len(title))\n",
        "  print(f\" - There are a total of {total_nodes:,} nodes.\")\n",
        "  print(f\" - There are a total of {total_edges:,} edges.\")\n",
        "  print(f\"    • Of these, {total_self_edges:,} are self edges.\")\n",
        "  print(f\"    • Of these, {total_not_self_edges:,} are not self edges.\")\n",
        "\n",
        "  if final_space:\n",
        "    print()\n",
        "  \n",
        "  return None"
      ],
      "execution_count": 127,
      "outputs": []
    },
    {
      "cell_type": "code",
      "metadata": {
        "id": "zGbiVWqxyaW1"
      },
      "source": [
        "def print_degree_counts(up_to, degree_sequence, counts):\n",
        "  \"\"\"\n",
        "  Given a list of max degrees, a degree sequence and the counts of each degree,\n",
        "  prints the cumulative sum of nodes with positive degree with at most `max_degree`,\n",
        "  where `max_degree` is each one of the elements of list `up_to`. This is also\n",
        "  displayed as a percentage. \n",
        "  \"\"\"\n",
        "\n",
        "  if type(up_to) is not list:\n",
        "    up_to = [up_to]\n",
        "\n",
        "  total_counts = counts.sum()\n",
        "\n",
        "  for i,max_degree in enumerate(up_to):\n",
        "    counts_up_to_max_degree = counts[:list(degree_sequence).index(max_degree+1)].sum()\n",
        "    percentage = counts_up_to_max_degree/total_counts * 100\n",
        "\n",
        "    print(f\"The total number of nodes with positive degree is {total_counts:,}.\")\n",
        "    print(f'The total number of nodes with degree at most {max_degree} is {counts_up_to_max_degree:,}.')\n",
        "    print(f'This corresponds to a {percentage:.2f}%.')\n",
        "\n",
        "    if i != len(up_to)-1:\n",
        "      print()"
      ],
      "execution_count": 262,
      "outputs": []
    },
    {
      "cell_type": "markdown",
      "metadata": {
        "id": "0I06u2dqVYeY"
      },
      "source": [
        "# Problem 4.2: Co-offending Network"
      ]
    },
    {
      "cell_type": "markdown",
      "metadata": {
        "id": "NEmjtVJSTCtZ"
      },
      "source": [
        "## Preamble"
      ]
    },
    {
      "cell_type": "code",
      "metadata": {
        "id": "j_cUvtxamKa9"
      },
      "source": [
        "# Load data\n",
        "co_off = pd.read_csv(\"Cooffending.csv\")\n",
        "\n",
        "# Set date\n",
        "co_off['date'] = pd.to_datetime(co_off['date'])"
      ],
      "execution_count": 5,
      "outputs": []
    },
    {
      "cell_type": "markdown",
      "metadata": {
        "id": "UlVFGZ_XVakk"
      },
      "source": [
        "## (a), (b), (c), (d): Data exploration"
      ]
    },
    {
      "cell_type": "markdown",
      "metadata": {
        "id": "dkM1_QkI5Ey6"
      },
      "source": [
        "This dataset contains 1,465,786 entries. Each observation is taken at the `offender_id`-`event_id`-`crime_code` level. This is, individual offenders arrested at a given crime event and charged with a certain crime. \n",
        "\n",
        "Note that at any given crime event, the offender can be charged several different crimes.\n",
        "\n",
        "\n",
        "\n"
      ]
    },
    {
      "cell_type": "code",
      "metadata": {
        "colab": {
          "base_uri": "https://localhost:8080/"
        },
        "id": "_lPe6r2UDcTA",
        "outputId": "1d72c930-b49f-413a-d2c0-d9d9f3a8a7d8"
      },
      "source": [
        "co_off.shape[0]"
      ],
      "execution_count": 6,
      "outputs": [
        {
          "output_type": "execute_result",
          "data": {
            "text/plain": [
              "1465786"
            ]
          },
          "metadata": {},
          "execution_count": 6
        }
      ]
    },
    {
      "cell_type": "markdown",
      "metadata": {
        "id": "yNdaUvnrDbq7"
      },
      "source": [
        "Within, the number of unique offenders is 538,851, and the number of different crime events are 1,163,423, which occurred between 197 and 2004 according to the following table:\n",
        "\n",
        "| Year | Number of arrests |\n",
        "|:--:|:--:|\n",
        "| 1997 |\t22404  |\n",
        "| 1998 |\t142582 |\n",
        "| 1999 |\t163346 |\n",
        "| 2000 |\t220197 |\n",
        "| 2001 |\t234495 |\n",
        "| 2002 |\t246397 |\n",
        "| 2003 |\t251298 |\n",
        "| 2004 |\t185067 |"
      ]
    },
    {
      "cell_type": "code",
      "metadata": {
        "colab": {
          "base_uri": "https://localhost:8080/",
          "height": 297
        },
        "id": "DfTN3a8w4ql0",
        "outputId": "7b9721a5-4fb1-4c66-b94b-880f69365186"
      },
      "source": [
        "co_off[['offender_id', 'event_id']].describe(include='all')"
      ],
      "execution_count": 7,
      "outputs": [
        {
          "output_type": "execute_result",
          "data": {
            "text/html": [
              "<div>\n",
              "<style scoped>\n",
              "    .dataframe tbody tr th:only-of-type {\n",
              "        vertical-align: middle;\n",
              "    }\n",
              "\n",
              "    .dataframe tbody tr th {\n",
              "        vertical-align: top;\n",
              "    }\n",
              "\n",
              "    .dataframe thead th {\n",
              "        text-align: right;\n",
              "    }\n",
              "</style>\n",
              "<table border=\"1\" class=\"dataframe\">\n",
              "  <thead>\n",
              "    <tr style=\"text-align: right;\">\n",
              "      <th></th>\n",
              "      <th>offender_id</th>\n",
              "      <th>event_id</th>\n",
              "    </tr>\n",
              "  </thead>\n",
              "  <tbody>\n",
              "    <tr>\n",
              "      <th>count</th>\n",
              "      <td>1465786.0000</td>\n",
              "      <td>1465786.0000</td>\n",
              "    </tr>\n",
              "    <tr>\n",
              "      <th>mean</th>\n",
              "      <td>281089.4558</td>\n",
              "      <td>581615.2382</td>\n",
              "    </tr>\n",
              "    <tr>\n",
              "      <th>std</th>\n",
              "      <td>143657.5503</td>\n",
              "      <td>335671.5310</td>\n",
              "    </tr>\n",
              "    <tr>\n",
              "      <th>min</th>\n",
              "      <td>0.0000</td>\n",
              "      <td>0.0000</td>\n",
              "    </tr>\n",
              "    <tr>\n",
              "      <th>25%</th>\n",
              "      <td>164215.0000</td>\n",
              "      <td>290578.2500</td>\n",
              "    </tr>\n",
              "    <tr>\n",
              "      <th>50%</th>\n",
              "      <td>284490.0000</td>\n",
              "      <td>581769.5000</td>\n",
              "    </tr>\n",
              "    <tr>\n",
              "      <th>75%</th>\n",
              "      <td>402317.7500</td>\n",
              "      <td>872052.0000</td>\n",
              "    </tr>\n",
              "    <tr>\n",
              "      <th>max</th>\n",
              "      <td>538850.0000</td>\n",
              "      <td>1163422.0000</td>\n",
              "    </tr>\n",
              "  </tbody>\n",
              "</table>\n",
              "</div>"
            ],
            "text/plain": [
              "       offender_id     event_id\n",
              "count 1465786.0000 1465786.0000\n",
              "mean   281089.4558  581615.2382\n",
              "std    143657.5503  335671.5310\n",
              "min         0.0000       0.0000\n",
              "25%    164215.0000  290578.2500\n",
              "50%    284490.0000  581769.5000\n",
              "75%    402317.7500  872052.0000\n",
              "max    538850.0000 1163422.0000"
            ]
          },
          "metadata": {},
          "execution_count": 7
        }
      ]
    },
    {
      "cell_type": "code",
      "metadata": {
        "colab": {
          "base_uri": "https://localhost:8080/",
          "height": 328
        },
        "id": "xsfCJA7r8M3u",
        "outputId": "dfba1bd7-6db0-4000-84c8-fdea51a9e636"
      },
      "source": [
        "co_off[['offender_id', 'year']].groupby(['year']).count()"
      ],
      "execution_count": 8,
      "outputs": [
        {
          "output_type": "execute_result",
          "data": {
            "text/html": [
              "<div>\n",
              "<style scoped>\n",
              "    .dataframe tbody tr th:only-of-type {\n",
              "        vertical-align: middle;\n",
              "    }\n",
              "\n",
              "    .dataframe tbody tr th {\n",
              "        vertical-align: top;\n",
              "    }\n",
              "\n",
              "    .dataframe thead th {\n",
              "        text-align: right;\n",
              "    }\n",
              "</style>\n",
              "<table border=\"1\" class=\"dataframe\">\n",
              "  <thead>\n",
              "    <tr style=\"text-align: right;\">\n",
              "      <th></th>\n",
              "      <th>offender_id</th>\n",
              "    </tr>\n",
              "    <tr>\n",
              "      <th>year</th>\n",
              "      <th></th>\n",
              "    </tr>\n",
              "  </thead>\n",
              "  <tbody>\n",
              "    <tr>\n",
              "      <th>1997</th>\n",
              "      <td>22404</td>\n",
              "    </tr>\n",
              "    <tr>\n",
              "      <th>1998</th>\n",
              "      <td>142582</td>\n",
              "    </tr>\n",
              "    <tr>\n",
              "      <th>1999</th>\n",
              "      <td>163346</td>\n",
              "    </tr>\n",
              "    <tr>\n",
              "      <th>2000</th>\n",
              "      <td>220197</td>\n",
              "    </tr>\n",
              "    <tr>\n",
              "      <th>2001</th>\n",
              "      <td>234495</td>\n",
              "    </tr>\n",
              "    <tr>\n",
              "      <th>2002</th>\n",
              "      <td>246397</td>\n",
              "    </tr>\n",
              "    <tr>\n",
              "      <th>2003</th>\n",
              "      <td>251298</td>\n",
              "    </tr>\n",
              "    <tr>\n",
              "      <th>2004</th>\n",
              "      <td>185067</td>\n",
              "    </tr>\n",
              "  </tbody>\n",
              "</table>\n",
              "</div>"
            ],
            "text/plain": [
              "      offender_id\n",
              "year             \n",
              "1997        22404\n",
              "1998       142582\n",
              "1999       163346\n",
              "2000       220197\n",
              "2001       234495\n",
              "2002       246397\n",
              "2003       251298\n",
              "2004       185067"
            ]
          },
          "metadata": {},
          "execution_count": 8
        }
      ]
    },
    {
      "cell_type": "markdown",
      "metadata": {
        "id": "nZs-EfrnDjlw"
      },
      "source": [
        "We can observe a total of 301 different crime codes (different offenses). The 5 crimes with the most offenders are:\n",
        "\n",
        "| Crime code | Number of offenders |\n",
        "|:----------:|:-------------------:|\n",
        "| 22         |  140,901            |\n",
        "| 131        |  108,031            |\n",
        "| 61         |   94,655            |\n",
        "| 39         |   90,179            |\n",
        "| 73         |   83,110            |\n",
        "| <b> Total  |  516,876            |\n",
        "\n",
        "Together, the comprise a total of 516,876 perpetrators, which correspond to, approximately, 35% of the sample.\n",
        "\n",
        "In the rest, there is high variability, and apparently a great number of crimes with low occurences (see figure below)."
      ]
    },
    {
      "cell_type": "code",
      "metadata": {
        "colab": {
          "base_uri": "https://localhost:8080/"
        },
        "id": "SHylLTXJ-5uL",
        "outputId": "6fbd0d02-3412-4764-8b23-aeb04050c21f"
      },
      "source": [
        "print(\"Number of unique crime codes:\", co_off['crime_code'].unique().size)"
      ],
      "execution_count": 9,
      "outputs": [
        {
          "output_type": "stream",
          "name": "stdout",
          "text": [
            "Number of unique crime codes: 301\n"
          ]
        }
      ]
    },
    {
      "cell_type": "code",
      "metadata": {
        "id": "3JjETzMh1AUf"
      },
      "source": [
        "group_by_code = co_off.groupby('crime_code').count()"
      ],
      "execution_count": 10,
      "outputs": []
    },
    {
      "cell_type": "code",
      "metadata": {
        "colab": {
          "base_uri": "https://localhost:8080/"
        },
        "id": "iBEHYgF2229S",
        "outputId": "fd74f78c-5f3f-4354-f2b8-146a8f03fbb1"
      },
      "source": [
        "most_offenders = group_by_code.sort_values(by='offender_id', ascending=False).iloc[:5,:]\n",
        "most_offenders['offender_id']"
      ],
      "execution_count": 11,
      "outputs": [
        {
          "output_type": "execute_result",
          "data": {
            "text/plain": [
              "crime_code\n",
              "22     140901\n",
              "131    108031\n",
              "61      94655\n",
              "39      90179\n",
              "73      83110\n",
              "Name: offender_id, dtype: int64"
            ]
          },
          "metadata": {},
          "execution_count": 11
        }
      ]
    },
    {
      "cell_type": "code",
      "metadata": {
        "colab": {
          "base_uri": "https://localhost:8080/",
          "height": 279
        },
        "id": "8jFVYtOCELup",
        "outputId": "7e34759c-4623-41f6-e770-5fdf3297183b"
      },
      "source": [
        "# Axis offsets\n",
        "offset = (15,10000)\n",
        "\n",
        "# Initialize figure\n",
        "fig, ax = plt.subplots()\n",
        "\n",
        "# Draw histplot using offender_id count as y-axis\n",
        "sns.scatterplot(data=group_by_code, x='crime_code', y='offender_id', s=20, ax = ax)\n",
        "\n",
        "# Set xticks\n",
        "xticks = [50 * k for k in range(7)]\n",
        "xlabels = xticks\n",
        "\n",
        "plt.xticks(ticks=xticks, labels=xlabels, rotation=0, horizontalalignment = 'center')\n",
        "plt.xlim(xticks[0] - offset[0], xticks[-1] + offset[0])\n",
        "\n",
        "# Set yticks\n",
        "yticks = [25000 * k for k in range(7)]\n",
        "ylabels = yticks\n",
        "\n",
        "plt.yticks(yticks, ylabels)\n",
        "plt.ylim(yticks[0] - offset[1], yticks[-1] + offset[1])\n",
        "\n",
        "# Set axis titles\n",
        "plt.xlabel(\"Crime code\")\n",
        "plt.ylabel(\"Number of offenders\")\n",
        "\n",
        "fig.show()"
      ],
      "execution_count": 12,
      "outputs": [
        {
          "output_type": "display_data",
          "data": {
            "image/png": "[encoded data removed]",
            "text/plain": [
              "<Figure size 432x288 with 1 Axes>"
            ]
          },
          "metadata": {
            "needs_background": "light"
          }
        }
      ]
    },
    {
      "cell_type": "markdown",
      "metadata": {
        "id": "RQ96E8zGpb9d"
      },
      "source": [
        "To gain more insight, the sample is restricted to crimes with less or equal than 5,000 offenders. For reference, the average number of offenders per crime is, approximately, 4,869. With this, of the 294 different codes, 254 (86.3%) remain.\n",
        "\n",
        "The plot changes slightly. Most of the codes have little offenders and, among the rest, there is high variability."
      ]
    },
    {
      "cell_type": "code",
      "metadata": {
        "colab": {
          "base_uri": "https://localhost:8080/"
        },
        "id": "GC_BtkcPqJux",
        "outputId": "212aa187-937f-44f2-9606-802266f3fb87"
      },
      "source": [
        "group_by_code_small = group_by_code[group_by_code['offender_id'] <= 5000]\n",
        "group_by_code_small.shape"
      ],
      "execution_count": 13,
      "outputs": [
        {
          "output_type": "execute_result",
          "data": {
            "text/plain": [
              "(254, 9)"
            ]
          },
          "metadata": {},
          "execution_count": 13
        }
      ]
    },
    {
      "cell_type": "code",
      "metadata": {
        "colab": {
          "base_uri": "https://localhost:8080/",
          "height": 279
        },
        "id": "wmfjHU5Zpn27",
        "outputId": "2c2de7b7-d103-4b28-af03-7b24d1a1c75d"
      },
      "source": [
        "# Axis offsets\n",
        "offset = (15,500)\n",
        "\n",
        "# Initialize figure\n",
        "fig, ax = plt.subplots()\n",
        "\n",
        "# Draw histplot using offender_id count as y-axis\n",
        "sns.scatterplot(data=group_by_code_small, x='crime_code', y='offender_id', s=20, ax = ax)\n",
        "\n",
        "# Set xticks\n",
        "xticks = [50 * k for k in range(7)]\n",
        "xlabels = xticks\n",
        "\n",
        "plt.xticks(ticks=xticks, labels=xlabels, rotation=0, horizontalalignment = 'center')\n",
        "plt.xlim(xticks[0] - offset[0], xticks[-1] + offset[0])\n",
        "\n",
        "# Set yticks\n",
        "yticks = [1000 * k for k in range(6)]\n",
        "ylabels = yticks\n",
        "\n",
        "plt.yticks(yticks, ylabels)\n",
        "plt.ylim(yticks[0] - offset[1], yticks[-1] + offset[1])\n",
        "\n",
        "# Set axis titles\n",
        "plt.xlabel(\"Crime code\")\n",
        "plt.ylabel(\"Number of offenders\")\n",
        "\n",
        "fig.show()"
      ],
      "execution_count": 14,
      "outputs": [
        {
          "output_type": "display_data",
          "data": {
            "image/png": "[encoded data removed]",
            "text/plain": [
              "<Figure size 432x288 with 1 Axes>"
            ]
          },
          "metadata": {
            "needs_background": "light"
          }
        }
      ]
    },
    {
      "cell_type": "markdown",
      "metadata": {
        "id": "6fy4wGzUCRJn"
      },
      "source": [
        "In terms of location, the most notorious crimes occur principally in county 682. This could be the most populated county of the database. In fact, for crime 131, this county accounts for 84,952 offenders. This corresponds to, approximately, 78.63% of all offenders arrested for this crime. The following table shows the contribution of this county alone to all the crimes with most offenders:\n",
        "\n",
        "| Crime code | Offenders in county 682 | Total offenders | Contribution (%) |\n",
        "|:----------:|:-----------------------:|:---------------:|:----------------:|\n",
        "| 131       | 84,952                   | 108,031         | 78.63%\n",
        "|  22       | 28,247                   | 140,901         | 20.05%\n",
        "|  61       | 24,101                   |  94,655         | 25.46%\n",
        "|  73       | 23,743                   |  83,110         | 28.57%\n",
        "|  39       | 21,698                   |  90,179         | 24.06% \n",
        "\n",
        "To see the relevance of this county, the following table shows, for each crime, in how many different counties it occured. Additionally, the table shows the contribution each county should have if crimes occured uniformly in each one. This contribution is computed as follows:\n",
        "  $$ \\text{Contribution}_{\\,\\text{crime}} = \\frac{100}{\\text{Number of different counties}_{\\,\\text{crime}}} $$\n",
        "<br>\n",
        "\n",
        "| Crime code | Number of different counties | Uniform contribution |\n",
        "|:----------:|:----------------------------:|:---------:|\n",
        "| 131        |   652                        | 0.15%\n",
        "|  22        | 1,228                        | 0.08%\n",
        "|  61        | 1,084                        | 0.09%\n",
        "|  73        | 1,099                        | 0.09%\n",
        "|  39        | 1,212                        | 0.08%"
      ]
    },
    {
      "cell_type": "code",
      "metadata": {
        "id": "m5MTNuUu3Ckn"
      },
      "source": [
        "most_offenders_list = most_offenders.index.to_numpy()\n",
        "location_of_most_offenders = co_off[co_off['crime_code'].isin(most_offenders_list)]"
      ],
      "execution_count": 15,
      "outputs": []
    },
    {
      "cell_type": "code",
      "metadata": {
        "colab": {
          "base_uri": "https://localhost:8080/",
          "height": 235
        },
        "id": "n2KbGROdB6YW",
        "outputId": "744e9565-555c-4d7f-b4c4-173585055a1d"
      },
      "source": [
        "location_of_most_offenders.groupby(by=['crime_code', 'county']).count().sort_values(by='offender_id').iloc[-5:]"
      ],
      "execution_count": 16,
      "outputs": [
        {
          "output_type": "execute_result",
          "data": {
            "text/html": [
              "<div>\n",
              "<style scoped>\n",
              "    .dataframe tbody tr th:only-of-type {\n",
              "        vertical-align: middle;\n",
              "    }\n",
              "\n",
              "    .dataframe tbody tr th {\n",
              "        vertical-align: top;\n",
              "    }\n",
              "\n",
              "    .dataframe thead th {\n",
              "        text-align: right;\n",
              "    }\n",
              "</style>\n",
              "<table border=\"1\" class=\"dataframe\">\n",
              "  <thead>\n",
              "    <tr style=\"text-align: right;\">\n",
              "      <th></th>\n",
              "      <th></th>\n",
              "      <th>offender_id</th>\n",
              "      <th>event_id</th>\n",
              "      <th>adults</th>\n",
              "      <th>date</th>\n",
              "      <th>minors</th>\n",
              "      <th>sex</th>\n",
              "      <th>year</th>\n",
              "      <th>location</th>\n",
              "    </tr>\n",
              "    <tr>\n",
              "      <th>crime_code</th>\n",
              "      <th>county</th>\n",
              "      <th></th>\n",
              "      <th></th>\n",
              "      <th></th>\n",
              "      <th></th>\n",
              "      <th></th>\n",
              "      <th></th>\n",
              "      <th></th>\n",
              "      <th></th>\n",
              "    </tr>\n",
              "  </thead>\n",
              "  <tbody>\n",
              "    <tr>\n",
              "      <th>39</th>\n",
              "      <th>682</th>\n",
              "      <td>21698</td>\n",
              "      <td>21698</td>\n",
              "      <td>21698</td>\n",
              "      <td>21698</td>\n",
              "      <td>21698</td>\n",
              "      <td>21698</td>\n",
              "      <td>21698</td>\n",
              "      <td>21698</td>\n",
              "    </tr>\n",
              "    <tr>\n",
              "      <th>73</th>\n",
              "      <th>682</th>\n",
              "      <td>23743</td>\n",
              "      <td>23743</td>\n",
              "      <td>23743</td>\n",
              "      <td>23743</td>\n",
              "      <td>23743</td>\n",
              "      <td>23743</td>\n",
              "      <td>23743</td>\n",
              "      <td>23743</td>\n",
              "    </tr>\n",
              "    <tr>\n",
              "      <th>61</th>\n",
              "      <th>682</th>\n",
              "      <td>24101</td>\n",
              "      <td>24101</td>\n",
              "      <td>24101</td>\n",
              "      <td>24101</td>\n",
              "      <td>24101</td>\n",
              "      <td>24101</td>\n",
              "      <td>24101</td>\n",
              "      <td>24101</td>\n",
              "    </tr>\n",
              "    <tr>\n",
              "      <th>22</th>\n",
              "      <th>682</th>\n",
              "      <td>28247</td>\n",
              "      <td>28247</td>\n",
              "      <td>28247</td>\n",
              "      <td>28247</td>\n",
              "      <td>28247</td>\n",
              "      <td>28247</td>\n",
              "      <td>28247</td>\n",
              "      <td>28247</td>\n",
              "    </tr>\n",
              "    <tr>\n",
              "      <th>131</th>\n",
              "      <th>682</th>\n",
              "      <td>84952</td>\n",
              "      <td>84952</td>\n",
              "      <td>84952</td>\n",
              "      <td>84952</td>\n",
              "      <td>84952</td>\n",
              "      <td>84952</td>\n",
              "      <td>84952</td>\n",
              "      <td>84952</td>\n",
              "    </tr>\n",
              "  </tbody>\n",
              "</table>\n",
              "</div>"
            ],
            "text/plain": [
              "                   offender_id  event_id  adults  ...    sex   year  location\n",
              "crime_code county                                 ...                        \n",
              "39         682           21698     21698   21698  ...  21698  21698     21698\n",
              "73         682           23743     23743   23743  ...  23743  23743     23743\n",
              "61         682           24101     24101   24101  ...  24101  24101     24101\n",
              "22         682           28247     28247   28247  ...  28247  28247     28247\n",
              "131        682           84952     84952   84952  ...  84952  84952     84952\n",
              "\n",
              "[5 rows x 8 columns]"
            ]
          },
          "metadata": {},
          "execution_count": 16
        }
      ]
    },
    {
      "cell_type": "code",
      "metadata": {
        "colab": {
          "base_uri": "https://localhost:8080/"
        },
        "id": "OI5cGZclELh6",
        "outputId": "511b0608-1605-4e32-bfa0-43ef6b0f7333"
      },
      "source": [
        "for crime in most_offenders_list:\n",
        "  data = location_of_most_offenders[location_of_most_offenders['crime_code'] == crime]\n",
        "  number_of_counties = data['county'].unique().size\n",
        "  print(f\"Crime code {crime} occured in {number_of_counties} different counties.\")"
      ],
      "execution_count": 17,
      "outputs": [
        {
          "output_type": "stream",
          "name": "stdout",
          "text": [
            "Crime code 22 occured in 1228 different counties.\n",
            "Crime code 131 occured in 652 different counties.\n",
            "Crime code 61 occured in 1084 different counties.\n",
            "Crime code 39 occured in 1212 different counties.\n",
            "Crime code 73 occured in 1099 different counties.\n"
          ]
        }
      ]
    },
    {
      "cell_type": "code",
      "metadata": {
        "colab": {
          "base_uri": "https://localhost:8080/",
          "height": 1000
        },
        "id": "nO15o85g4ORY",
        "outputId": "2d641648-4eb1-4a38-98ec-ba5f49afa350"
      },
      "source": [
        "# Axis offsets\n",
        "offset_x = 50\n",
        "\n",
        "# yticks dict\n",
        "yticks_dict = { 22 : ([ 5000 * k for k in range(7)], 1500),\n",
        "               131 : ([15000 * k for k in range(7)], 5000),\n",
        "                61 : ([ 5000 * k for k in range(6)], 2000),\n",
        "                39 : ([ 5000 * k for k in range(6)], 1000),\n",
        "                73 : ([ 5000 * k for k in range(6)], 1000)\n",
        "              }\n",
        "\n",
        "for crime in most_offenders_list:\n",
        "  # Initialize figure\n",
        "  fig, ax = plt.subplots()\n",
        "\n",
        "  # Draw histplot using offender_id count as y-axis\n",
        "  data = location_of_most_offenders[location_of_most_offenders['crime_code'] == crime]\n",
        "  sns.histplot(data, x='county')\n",
        "\n",
        "  # Set xticks\n",
        "  xticks = [150 * k for k in range(10)]\n",
        "  xlabels = xticks\n",
        "\n",
        "  plt.xticks(ticks=xticks, labels=xlabels, rotation=0, horizontalalignment = 'center')\n",
        "  plt.xlim(xticks[0] - offset_x, xticks[-1] + offset_x)\n",
        "\n",
        "  # Set yticks\n",
        "  yticks, offset_y = yticks_dict[crime]\n",
        "  ylabels = yticks\n",
        "\n",
        "  plt.yticks(yticks, ylabels)\n",
        "  plt.ylim(yticks[0] - offset_y, yticks[-1] + offset_y)\n",
        "\n",
        "  # Set axis titles\n",
        "  plt.xlabel(\"County code\")\n",
        "  plt.ylabel(\"Number of offenders\")\n",
        "\n",
        "  # Set title\n",
        "  plt.title(f\"Crime code = {crime}\")\n",
        "\n",
        "  fig.show()"
      ],
      "execution_count": 18,
      "outputs": [
        {
          "output_type": "display_data",
          "data": {
            "image/png": "[encoded data removed]",
            "text/plain": [
              "<Figure size 432x288 with 1 Axes>"
            ]
          },
          "metadata": {
            "needs_background": "light"
          }
        },
        {
          "output_type": "display_data",
          "data": {
            "image/png": "[encoded data removed]",
            "text/plain": [
              "<Figure size 432x288 with 1 Axes>"
            ]
          },
          "metadata": {
            "needs_background": "light"
          }
        },
        {
          "output_type": "display_data",
          "data": {
            "image/png": "[encoded data removed]",
            "text/plain": [
              "<Figure size 432x288 with 1 Axes>"
            ]
          },
          "metadata": {
            "needs_background": "light"
          }
        },
        {
          "output_type": "display_data",
          "data": {
            "image/png": "[encoded data removed]",
            "text/plain": [
              "<Figure size 432x288 with 1 Axes>"
            ]
          },
          "metadata": {
            "needs_background": "light"
          }
        },
        {
          "output_type": "display_data",
          "data": {
            "image/png": "[encoded data removed]",
            "text/plain": [
              "<Figure size 432x288 with 1 Axes>"
            ]
          },
          "metadata": {
            "needs_background": "light"
          }
        }
      ]
    },
    {
      "cell_type": "markdown",
      "metadata": {
        "id": "k5-Ma7R3VeIc"
      },
      "source": [
        "## (e), (f), (g): Create and analyze the network"
      ]
    },
    {
      "cell_type": "markdown",
      "metadata": {
        "id": "xZiiKD5TOn-6"
      },
      "source": [
        "To construct the co-offending network, the total number of offenders in the database is obtained. This, since this number determines the size of the co-offending adjacency matrix. Additionally, the sparse matrix object is initialized. Finally, the network is created."
      ]
    },
    {
      "cell_type": "code",
      "metadata": {
        "id": "kPn-XZhZkEZ0"
      },
      "source": [
        "# Initialize parameters\n",
        "number_of_offenders = co_off['offender_id'].unique().size\n",
        "\n",
        "# Initialize network as sparse DoK matrix\n",
        "co_off_network = scipy.sparse.dok_matrix((number_of_offenders,number_of_offenders), dtype='int')\n",
        "\n",
        "# Create network\n",
        "co_off_network = create_co_off_network(co_off, load=True)"
      ],
      "execution_count": 130,
      "outputs": []
    },
    {
      "cell_type": "markdown",
      "metadata": {
        "id": "f3AswOE-Rk_V"
      },
      "source": [
        "The table below shows the number of nodes and edges before and after removing solo offenders.\n",
        "\n",
        "| | With solo offenders | Without solo offenders |\n",
        "|-:|:-:|:-:|\n",
        "| Total nodes    | 538,851 | 538,851\n",
        "| Self edges     | 538,851 | 121,119\n",
        "| Non-Self edges | 178,372 | 178,372\n",
        "| Total edges    | 717,223 | 299,491\n",
        "\n",
        "From the table, it is possible to infer that he number of solo offender is 417,732 (= 538,851 - 121,119)."
      ]
    },
    {
      "cell_type": "code",
      "metadata": {
        "colab": {
          "base_uri": "https://localhost:8080/",
          "height": 287,
          "referenced_widgets": [
            "8723943ea5d04de7926fd7805c945190",
            "e45c0a63d0f34a27aa8dbbc26bd24a41",
            "2e25e72565224b379865ac17a51cf9fe",
            "ab93e9662a5a4aa49e5642d5095020bc",
            "978bc7f911a64c72a8dabe4309dd665b",
            "7f7d1d1e7cf6413594dc2fa054d1fe74",
            "560832a3d7824816a14407a4c389d251",
            "e622c7cf0400452eaa4f0051c2e8f7ba",
            "9ec81162d1b34d808f1c2a1f3c917d5e",
            "5bbfd19b1e354e248b042c6e0dd79a5f",
            "2612175f72e840ec8a443c0cc84fef9b"
          ]
        },
        "id": "gOSM5lhYK-lp",
        "outputId": "7c32ea79-2fe3-48af-8b63-f3a59ece88aa"
      },
      "source": [
        "# Show nodes and edges\n",
        "print_nodes_and_edges(co_off_network, \n",
        "                      title=\"Before removing solo offenders\")\n",
        "\n",
        "# Remove solo offenders\n",
        "co_off_network = remove_solo_offenders(co_off_network)\n",
        "\n",
        "# Compute number of nodes and edges\n",
        "total_nodes          = co_off_network.shape[0]\n",
        "total_self_edges     = (co_off_network.diagonal() != 0).sum()\n",
        "total_edges          = len(co_off_network.keys())//2 + total_self_edges//2\n",
        "total_not_self_edges = len(co_off_network.keys())//2 - total_self_edges//2\n",
        "\n",
        "# Show nodes and edges\n",
        "print_nodes_and_edges(co_off_network, \n",
        "                      title=\"\\nBefore removing solo offenders\", \n",
        "                      final_space=False)"
      ],
      "execution_count": 131,
      "outputs": [
        {
          "output_type": "stream",
          "name": "stdout",
          "text": [
            "Before removing solo offenders\n",
            "------------------------------\n",
            " - There are a total of 538,851 nodes.\n",
            " - There are a total of 717,223 edges.\n",
            "    • Of these, 538,851 are self edges.\n",
            "    • Of these, 178,372 are not self edges.\n",
            "\n"
          ]
        },
        {
          "output_type": "display_data",
          "data": {
            "application/vnd.jupyter.widget-view+json": {
              "model_id": "8723943ea5d04de7926fd7805c945190",
              "version_minor": 0,
              "version_major": 2
            },
            "text/plain": [
              "Removing solo offenders:   0%|          | 0/538851 [00:00<?, ?it/s]"
            ]
          },
          "metadata": {}
        },
        {
          "output_type": "stream",
          "name": "stdout",
          "text": [
            "\n",
            "Before removing solo offenders\n",
            "-------------------------------\n",
            " - There are a total of 538,851 nodes.\n",
            " - There are a total of 299,491 edges.\n",
            "    • Of these, 121,119 are self edges.\n",
            "    • Of these, 178,372 are not self edges.\n"
          ]
        }
      ]
    },
    {
      "cell_type": "markdown",
      "metadata": {
        "id": "0r4WV-Y0iHRu"
      },
      "source": [
        "Next, the `networkx` module is used to construct a graph object, which makes network analysis easy."
      ]
    },
    {
      "cell_type": "code",
      "metadata": {
        "id": "u_RHFTdZBOT9"
      },
      "source": [
        "# Initialize graph \n",
        "co_off_graph = nx.Graph()\n",
        "\n",
        "# Add nodes\n",
        "offender_data = co_off.drop_duplicates(subset=['offender_id'])\n",
        "nodes = [(off_id, {'sex' : sex}) for off_id, sex in zip(offender_data['offender_id'].to_numpy(), offender_data['sex'].to_numpy())]\n",
        "\n",
        "co_off_graph.add_nodes_from(nodes)\n",
        "\n",
        "# Add edges\n",
        "edges = [(node_i,node_j, {'weight' : weight}) for (node_i,node_j),weight in co_off_network.items()]\n",
        "\n",
        "co_off_graph.add_edges_from(edges)"
      ],
      "execution_count": 115,
      "outputs": []
    },
    {
      "cell_type": "markdown",
      "metadata": {
        "id": "Wkzjmp7ZiRY4"
      },
      "source": [
        "Next, the degree distribution is obtained. Both figures below show a relatively linear decrease in log-scale up to degree 30. Afterwards, the lineplot specially becomes erratic, as feweer nodes have degrees over 30."
      ]
    },
    {
      "cell_type": "code",
      "metadata": {
        "id": "eWQgQW3Uu2Lw"
      },
      "source": [
        "# Obtain degree distribution\n",
        "degree_sequence = sorted([d for n, d in co_off_graph.degree()])\n",
        "degree_sequence, counts = np.unique(degree_sequence, return_counts=True)\n",
        "degree_sequence, counts = degree_sequence[1:], counts[1:]\n",
        "\n",
        "rel_counts = counts/counts.sum()\n",
        "cum_counts = rel_counts.cumsum()"
      ],
      "execution_count": 259,
      "outputs": []
    },
    {
      "cell_type": "code",
      "metadata": {
        "colab": {
          "base_uri": "https://localhost:8080/",
          "height": 334
        },
        "id": "ma4bDyjMiFUT",
        "outputId": "4ed64caf-d16d-47f2-cfb7-0724743c2a6c"
      },
      "source": [
        "# Axis offsets\n",
        "offset = {'x' : (0.2, 50),\n",
        "          'y' : (0,10**5)\n",
        "          }\n",
        "\n",
        "# Initialize figure\n",
        "fig, ax = plt.subplots()\n",
        "fig.set_size_inches((10,5))\n",
        "ax.set(xscale=\"log\", yscale=\"log\")\n",
        "\n",
        "# Plot\n",
        "ax.bar(degree_sequence, counts, width = 0.3)\n",
        "\n",
        "# Set xticks\n",
        "xticks = [1, 3, 10, 30, 100, 250]\n",
        "xlabels = xticks\n",
        "\n",
        "plt.xticks(ticks=xticks, labels=xlabels, rotation=0, horizontalalignment = 'center')\n",
        "plt.xlim(xticks[0] - offset['x'][0], xticks[-1] + offset['x'][1])\n",
        "\n",
        "# Set yticks\n",
        "yticks = [10 ** k for k in range(6)]\n",
        "ylabels = [f'10$^{k}$' for k in range(6)]\n",
        "\n",
        "plt.yticks(ticks = yticks, labels = ylabels)\n",
        "plt.ylim(yticks[0] - offset['y'][0], yticks[-1] + offset['y'][1])\n",
        "\n",
        "# Set axis titles\n",
        "plt.xlabel(\"Degree\")\n",
        "plt.ylabel(\"Count\")  \n",
        "\n",
        "fig.show()"
      ],
      "execution_count": 224,
      "outputs": [
        {
          "output_type": "display_data",
          "data": {
            "image/png": "[encoded data removed]",
            "text/plain": [
              "<Figure size 720x360 with 1 Axes>"
            ]
          },
          "metadata": {
            "needs_background": "light"
          }
        }
      ]
    },
    {
      "cell_type": "code",
      "metadata": {
        "colab": {
          "base_uri": "https://localhost:8080/",
          "height": 334
        },
        "id": "OKXsuQvfr9kg",
        "outputId": "3e1ec712-47a3-4731-a50f-a0571d5a5885"
      },
      "source": [
        "# Axis offsets\n",
        "offset = {'x' : (0.2, 0.2),\n",
        "          'y' : (5 * 10**-7,1)\n",
        "          }\n",
        "\n",
        "# Initialize figure\n",
        "fig, ax = plt.subplots()\n",
        "fig.set_size_inches((10,5))\n",
        "ax.set(xscale=\"log\", yscale=\"log\")\n",
        "\n",
        "# Plot\n",
        "ax.plot(degree_sequence, rel_counts)\n",
        "\n",
        "# Set xticks\n",
        "xticks = [1, 3, 10, 30, 100, 250]\n",
        "xlabels = xticks\n",
        "\n",
        "plt.xticks(ticks=xticks, labels=xlabels, rotation=0, horizontalalignment = 'center')\n",
        "plt.xlim(xticks[0] - offset['x'][0], xticks[-1] + offset['x'][1])\n",
        "\n",
        "# Set yticks\n",
        "yticks = [10 ** (-6+k) for k in range(7)]\n",
        "ylabels = [f'10$^{-6+k}$' for k in range(7)]\n",
        "\n",
        "plt.yticks(ticks = yticks, labels = ylabels)\n",
        "plt.ylim(yticks[0] - offset['y'][0], yticks[-1] + offset['y'][1])\n",
        "\n",
        "# Set axis titles\n",
        "plt.xlabel(\"Degree\")\n",
        "plt.ylabel(\"Fraction\")  \n",
        "\n",
        "fig.show()"
      ],
      "execution_count": 253,
      "outputs": [
        {
          "output_type": "display_data",
          "data": {
            "image/png": "[encoded data removed]",
            "text/plain": [
              "<Figure size 720x360 with 1 Axes>"
            ]
          },
          "metadata": {
            "needs_background": "light"
          }
        }
      ]
    },
    {
      "cell_type": "markdown",
      "metadata": {
        "id": "cx9e3n64zG6R"
      },
      "source": [
        "To shed some light about the cumulative distribution of degrees of this network, the following table shows the total of nodes with degree at most $d$, for different values of $d$.\n",
        "\n",
        "| Max. degree | Number of nodes | Percentage | \n",
        "|:-:|:-:|:-:|\n",
        "| 3  |  66,084 | 54,56% |\n",
        "| 5  | 102,689 | 84.78% |\n",
        "| 10 | 116,254 | 95.98% | \n",
        "| 15 | 118,229 | 97.61% | \n",
        "| 20 | 118,980 | 98.23% | \n",
        "| 25 | 119,393 | 98,57% |\n",
        "| 30 | 119,769 | 98.89%\n",
        "\n",
        "Also, the cumulative distribution of degrees is shown."
      ]
    },
    {
      "cell_type": "code",
      "metadata": {
        "colab": {
          "base_uri": "https://localhost:8080/"
        },
        "id": "k0fSfKyZxjqt",
        "outputId": "56a8e603-c8f4-4832-9cfa-d8cb4fe34b7e"
      },
      "source": [
        "print_degree_counts([3,5,10,15,20,25,30], degree_sequence, counts)"
      ],
      "execution_count": 264,
      "outputs": [
        {
          "output_type": "stream",
          "name": "stdout",
          "text": [
            "The total number of nodes with positive degree is 121,119.\n",
            "The total number of nodes with degree at most 3 is 66,084.\n",
            "This corresponds to a 54.56%.\n",
            "\n",
            "The total number of nodes with positive degree is 121,119.\n",
            "The total number of nodes with degree at most 5 is 102,689.\n",
            "This corresponds to a 84.78%.\n",
            "\n",
            "The total number of nodes with positive degree is 121,119.\n",
            "The total number of nodes with degree at most 10 is 116,254.\n",
            "This corresponds to a 95.98%.\n",
            "\n",
            "The total number of nodes with positive degree is 121,119.\n",
            "The total number of nodes with degree at most 15 is 118,229.\n",
            "This corresponds to a 97.61%.\n",
            "\n",
            "The total number of nodes with positive degree is 121,119.\n",
            "The total number of nodes with degree at most 20 is 118,980.\n",
            "This corresponds to a 98.23%.\n",
            "\n",
            "The total number of nodes with positive degree is 121,119.\n",
            "The total number of nodes with degree at most 25 is 119,393.\n",
            "This corresponds to a 98.57%.\n",
            "\n",
            "The total number of nodes with positive degree is 121,119.\n",
            "The total number of nodes with degree at most 30 is 119,769.\n",
            "This corresponds to a 98.89%.\n"
          ]
        }
      ]
    },
    {
      "cell_type": "code",
      "metadata": {
        "colab": {
          "base_uri": "https://localhost:8080/",
          "height": 334
        },
        "id": "uG-vF99M0T6n",
        "outputId": "8fb0f996-fcd8-4e0b-c273-02dd9850b128"
      },
      "source": [
        "# Axis offsets\n",
        "offset = {'x' : (0.2, 0.2),\n",
        "          'y' : (0.1,0.1)\n",
        "          }\n",
        "\n",
        "# Initialize figure\n",
        "fig, ax = plt.subplots()\n",
        "fig.set_size_inches((10,5))\n",
        "ax.set(xscale=\"log\")\n",
        "\n",
        "# Plot\n",
        "ax.plot(degree_sequence, cum_counts)\n",
        "\n",
        "# Set xticks\n",
        "xticks = [1, 3, 10, 30, 100, 250]\n",
        "xlabels = xticks\n",
        "\n",
        "plt.xticks(ticks=xticks, labels=xlabels, rotation=0, horizontalalignment = 'center')\n",
        "plt.xlim(xticks[0] - offset['x'][0], xticks[-1] + offset['x'][1])\n",
        "\n",
        "# Set yticks\n",
        "yticks = [0.1, 0.5, 1]\n",
        "ylabels = yticks\n",
        "\n",
        "plt.yticks(ticks = yticks, labels = ylabels)\n",
        "plt.ylim(yticks[0] - offset['y'][0], yticks[-1] + offset['y'][1])\n",
        "\n",
        "# Set axis titles\n",
        "plt.xlabel(\"Degree\")\n",
        "plt.ylabel(\"Cumulative fraction\")  \n",
        "\n",
        "fig.show()"
      ],
      "execution_count": 271,
      "outputs": [
        {
          "output_type": "display_data",
          "data": {
            "image/png": "[encoded data removed]",
            "text/plain": [
              "<Figure size 720x360 with 1 Axes>"
            ]
          },
          "metadata": {
            "needs_background": "light"
          }
        }
      ]
    },
    {
      "cell_type": "markdown",
      "metadata": {
        "id": "VP3HCbmI2pCU"
      },
      "source": [
        "Finally, another intersting analysis is to detect the number of connected components of the graph. This network posseses 36,086 connected components. Of these, the larges comprises 19,921 nodes, while the smallest only contains 2 nodes."
      ]
    },
    {
      "cell_type": "code",
      "metadata": {
        "colab": {
          "base_uri": "https://localhost:8080/"
        },
        "id": "_TsxGQUV2of1",
        "outputId": "ea5a8517-f9b4-4663-f9ec-936eba2fecb9"
      },
      "source": [
        "# Obtain connected components and remove singletons\n",
        "connected_components = sorted(nx.connected_components(co_off_graph), key=len, reverse=True)\n",
        "connected_components = [component for component in connected_components if len(component) > 1]\n",
        "\n",
        "# Print\n",
        "print(f'This network has {len(connected_components):,} connected components')\n",
        "print(f'  The largest has {len(connected_components[0]):,} elements.')\n",
        "print(f'  The smallest has {len(connected_components[-1]):,} elements.')"
      ],
      "execution_count": 289,
      "outputs": [
        {
          "output_type": "stream",
          "name": "stdout",
          "text": [
            "This network has 36,086 connected components\n",
            "  The largest has 19,921 elements.\n",
            "  The smallest has 2 elements.\n"
          ]
        }
      ]
    },
    {
      "cell_type": "code",
      "metadata": {
        "id": "_T96Gqgd3Z6o",
        "outputId": "88332eef-9dd9-4c22-bba6-ebf0bb2fc9b2",
        "colab": {
          "base_uri": "https://localhost:8080/"
        }
      },
      "source": [
        "print(len(connected_components))"
      ],
      "execution_count": 285,
      "outputs": [
        {
          "output_type": "stream",
          "name": "stdout",
          "text": [
            "36086\n"
          ]
        }
      ]
    },
    {
      "cell_type": "markdown",
      "metadata": {
        "id": "Zzv42eUAVg6u"
      },
      "source": [
        "## (h), (i), (j): Analyze the largest connected component"
      ]
    },
    {
      "cell_type": "markdown",
      "metadata": {
        "id": "COkEbQyDVj1e"
      },
      "source": [
        "## (k), (l), (m): Additional questions"
      ]
    }
  ]
}