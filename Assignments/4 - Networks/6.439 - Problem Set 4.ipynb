{
  "nbformat": 4,
  "nbformat_minor": 0,
  "metadata": {
    "colab": {
      "name": "6.439 - Problem Set 4.ipynb",
      "provenance": [],
      "authorship_tag": "ABX9TyN5VRPCxnTkv2Jfg1ZIz8ow",
      "include_colab_link": true
    },
    "kernelspec": {
      "name": "python3",
      "display_name": "Python 3"
    },
    "language_info": {
      "name": "python"
    }
  },
  "cells": [
    {
      "cell_type": "markdown",
      "metadata": {
        "id": "view-in-github",
        "colab_type": "text"
      },
      "source": [
        "<a href=\"https://colab.research.google.com/github/pipeton8/6.439-stats-comp-applications/blob/main/Assignments/4%20-%20Networks/6.439%20-%20Problem%20Set%204.ipynb\" target=\"_parent\"><img src=\"https://colab.research.google.com/assets/colab-badge.svg\" alt=\"Open In Colab\"/></a>"
      ]
    },
    {
      "cell_type": "markdown",
      "metadata": {
        "id": "zQZiu5Rr0ywL"
      },
      "source": [
        "# Problem Set 4 - Statistics, Computation and Applications\n",
        "\n",
        "(c) Felipe del Canto, November 2021\n",
        "***\n",
        "***"
      ]
    },
    {
      "cell_type": "markdown",
      "metadata": {
        "id": "LpSk2ccJi4kO"
      },
      "source": [
        "# Part 0 (Execute first!)"
      ]
    },
    {
      "cell_type": "code",
      "metadata": {
        "id": "egFlocZLi6Zk"
      },
      "source": [
        "from IPython.display import clear_output\n",
        "\n",
        "# Download files\n",
        "!wget https://github.com/pipeton8/6.439-stats-comp-applications/raw/main/Assignments/databases/PS4_data.zip\n",
        "\n",
        "# Unzip\n",
        "!unzip -o PS4_data.zip\n",
        "!rm *.z* -r __MACOSX\n",
        "\n",
        "# Clear output\n",
        "clear_output()\n",
        "\n",
        "# Import packages\n",
        "import warnings\n",
        "\n",
        "import scipy\n",
        "import numpy as np\n",
        "import pandas as pd\n",
        "pd.options.display.float_format = '{:.4f}'.format\n",
        "\n",
        "import seaborn           as sns\n",
        "import matplotlib.pyplot as plt\n",
        "\n",
        "from tqdm.auto import tqdm, trange"
      ],
      "execution_count": 1,
      "outputs": []
    },
    {
      "cell_type": "markdown",
      "metadata": {
        "id": "0I06u2dqVYeY"
      },
      "source": [
        "# Problem 4.2: Co-offending Network"
      ]
    },
    {
      "cell_type": "markdown",
      "metadata": {
        "id": "NEmjtVJSTCtZ"
      },
      "source": [
        "## Preamble"
      ]
    },
    {
      "cell_type": "code",
      "metadata": {
        "id": "j_cUvtxamKa9"
      },
      "source": [
        "# Load data\n",
        "co_off = pd.read_csv(\"Cooffending.csv\")\n",
        "\n",
        "# Set date\n",
        "co_off['date'] = pd.to_datetime(co_off['date'])\n",
        "\n",
        "# Set crime codes, counties and locations as categorical\n",
        "categorical_vars = (['offender_id', 'sex', 'event_id'] \n",
        "                    + ['crime_code'] \n",
        "                    + ['county', 'location'])\n",
        "co_off[categorical_vars] = co_off[categorical_vars].astype('category')"
      ],
      "execution_count": 3,
      "outputs": []
    },
    {
      "cell_type": "markdown",
      "metadata": {
        "id": "UlVFGZ_XVakk"
      },
      "source": [
        "## (a), (b), (c), (d): Data exploration"
      ]
    },
    {
      "cell_type": "markdown",
      "metadata": {
        "id": "dkM1_QkI5Ey6"
      },
      "source": [
        "This dataset contains 1,465,786 entries. Each observation is taken at the `offender_id`-`event_id`-`crime_code` level. This is, individual offenders arrested at a given crime event and charged with a certain crime. \n",
        "\n",
        "Note that at any given crime event, the offender can be charged several different crimes.\n",
        "\n",
        "\n",
        "\n"
      ]
    },
    {
      "cell_type": "code",
      "metadata": {
        "colab": {
          "base_uri": "https://localhost:8080/"
        },
        "id": "_lPe6r2UDcTA",
        "outputId": "96d703a2-fd47-4210-df85-05629ead5496"
      },
      "source": [
        "co_off.shape[0]"
      ],
      "execution_count": 6,
      "outputs": [
        {
          "output_type": "execute_result",
          "data": {
            "text/plain": [
              "1465786"
            ]
          },
          "metadata": {},
          "execution_count": 6
        }
      ]
    },
    {
      "cell_type": "markdown",
      "metadata": {
        "id": "yNdaUvnrDbq7"
      },
      "source": [
        "Within, the number of unique offenders is 538,851, and the number of different crime events are 1,163,423, which occurred between 197 and 2004 according to the following table:\n",
        "\n",
        "| Year | Number of arrests |\n",
        "|:--:|:--:|\n",
        "| 1997 |\t22404  |\n",
        "| 1998 |\t142582 |\n",
        "| 1999 |\t163346 |\n",
        "| 2000 |\t220197 |\n",
        "| 2001 |\t234495 |\n",
        "| 2002 |\t246397 |\n",
        "| 2003 |\t251298 |\n",
        "| 2004 |\t185067 |"
      ]
    },
    {
      "cell_type": "code",
      "metadata": {
        "colab": {
          "base_uri": "https://localhost:8080/",
          "height": 173
        },
        "id": "DfTN3a8w4ql0",
        "outputId": "479cf357-6ad9-4e0a-93bb-75f6dda2a4d6"
      },
      "source": [
        "co_off[['offender_id', 'event_id']].describe(include='all')"
      ],
      "execution_count": 7,
      "outputs": [
        {
          "output_type": "execute_result",
          "data": {
            "text/html": [
              "<div>\n",
              "<style scoped>\n",
              "    .dataframe tbody tr th:only-of-type {\n",
              "        vertical-align: middle;\n",
              "    }\n",
              "\n",
              "    .dataframe tbody tr th {\n",
              "        vertical-align: top;\n",
              "    }\n",
              "\n",
              "    .dataframe thead th {\n",
              "        text-align: right;\n",
              "    }\n",
              "</style>\n",
              "<table border=\"1\" class=\"dataframe\">\n",
              "  <thead>\n",
              "    <tr style=\"text-align: right;\">\n",
              "      <th></th>\n",
              "      <th>offender_id</th>\n",
              "      <th>event_id</th>\n",
              "    </tr>\n",
              "  </thead>\n",
              "  <tbody>\n",
              "    <tr>\n",
              "      <th>count</th>\n",
              "      <td>1465786</td>\n",
              "      <td>1465786</td>\n",
              "    </tr>\n",
              "    <tr>\n",
              "      <th>unique</th>\n",
              "      <td>538851</td>\n",
              "      <td>1163423</td>\n",
              "    </tr>\n",
              "    <tr>\n",
              "      <th>top</th>\n",
              "      <td>325612</td>\n",
              "      <td>479688</td>\n",
              "    </tr>\n",
              "    <tr>\n",
              "      <th>freq</th>\n",
              "      <td>670</td>\n",
              "      <td>408</td>\n",
              "    </tr>\n",
              "  </tbody>\n",
              "</table>\n",
              "</div>"
            ],
            "text/plain": [
              "        offender_id  event_id\n",
              "count       1465786   1465786\n",
              "unique       538851   1163423\n",
              "top          325612    479688\n",
              "freq            670       408"
            ]
          },
          "metadata": {},
          "execution_count": 7
        }
      ]
    },
    {
      "cell_type": "code",
      "metadata": {
        "colab": {
          "base_uri": "https://localhost:8080/",
          "height": 328
        },
        "id": "xsfCJA7r8M3u",
        "outputId": "dad279ad-5d7f-4bd1-8343-aea8bab5fe3b"
      },
      "source": [
        "co_off[['offender_id', 'year']].groupby(['year']).count()"
      ],
      "execution_count": 8,
      "outputs": [
        {
          "output_type": "execute_result",
          "data": {
            "text/html": [
              "<div>\n",
              "<style scoped>\n",
              "    .dataframe tbody tr th:only-of-type {\n",
              "        vertical-align: middle;\n",
              "    }\n",
              "\n",
              "    .dataframe tbody tr th {\n",
              "        vertical-align: top;\n",
              "    }\n",
              "\n",
              "    .dataframe thead th {\n",
              "        text-align: right;\n",
              "    }\n",
              "</style>\n",
              "<table border=\"1\" class=\"dataframe\">\n",
              "  <thead>\n",
              "    <tr style=\"text-align: right;\">\n",
              "      <th></th>\n",
              "      <th>offender_id</th>\n",
              "    </tr>\n",
              "    <tr>\n",
              "      <th>year</th>\n",
              "      <th></th>\n",
              "    </tr>\n",
              "  </thead>\n",
              "  <tbody>\n",
              "    <tr>\n",
              "      <th>1997</th>\n",
              "      <td>22404</td>\n",
              "    </tr>\n",
              "    <tr>\n",
              "      <th>1998</th>\n",
              "      <td>142582</td>\n",
              "    </tr>\n",
              "    <tr>\n",
              "      <th>1999</th>\n",
              "      <td>163346</td>\n",
              "    </tr>\n",
              "    <tr>\n",
              "      <th>2000</th>\n",
              "      <td>220197</td>\n",
              "    </tr>\n",
              "    <tr>\n",
              "      <th>2001</th>\n",
              "      <td>234495</td>\n",
              "    </tr>\n",
              "    <tr>\n",
              "      <th>2002</th>\n",
              "      <td>246397</td>\n",
              "    </tr>\n",
              "    <tr>\n",
              "      <th>2003</th>\n",
              "      <td>251298</td>\n",
              "    </tr>\n",
              "    <tr>\n",
              "      <th>2004</th>\n",
              "      <td>185067</td>\n",
              "    </tr>\n",
              "  </tbody>\n",
              "</table>\n",
              "</div>"
            ],
            "text/plain": [
              "      offender_id\n",
              "year             \n",
              "1997        22404\n",
              "1998       142582\n",
              "1999       163346\n",
              "2000       220197\n",
              "2001       234495\n",
              "2002       246397\n",
              "2003       251298\n",
              "2004       185067"
            ]
          },
          "metadata": {},
          "execution_count": 8
        }
      ]
    },
    {
      "cell_type": "markdown",
      "metadata": {
        "id": "nZs-EfrnDjlw"
      },
      "source": [
        "We can observe a total of 301 different crime codes (different offenses). And within each code there is high variability, with one of the crimes accounting for more than 140,000 of the observations (almost 10% of the sample)."
      ]
    },
    {
      "cell_type": "code",
      "metadata": {
        "colab": {
          "base_uri": "https://localhost:8080/"
        },
        "id": "SHylLTXJ-5uL",
        "outputId": "4ede6f04-9f85-4332-c67a-569c1bdc91a2"
      },
      "source": [
        "co_off['crime_code'].describe()"
      ],
      "execution_count": 10,
      "outputs": [
        {
          "output_type": "execute_result",
          "data": {
            "text/plain": [
              "count     1465786\n",
              "unique        301\n",
              "top            22\n",
              "freq       140901\n",
              "Name: crime_code, dtype: int64"
            ]
          },
          "metadata": {},
          "execution_count": 10
        }
      ]
    },
    {
      "cell_type": "code",
      "metadata": {
        "id": "3JjETzMh1AUf"
      },
      "source": [
        "group_by_code = co_off.groupby('crime_code').count()"
      ],
      "execution_count": 16,
      "outputs": []
    },
    {
      "cell_type": "code",
      "metadata": {
        "colab": {
          "base_uri": "https://localhost:8080/",
          "height": 279
        },
        "id": "8jFVYtOCELup",
        "outputId": "e44da24d-273f-4bad-a09f-81689107c459"
      },
      "source": [
        "# Axis offsets\n",
        "offset = (15,10000)\n",
        "\n",
        "# Initialize figure\n",
        "fig, ax = plt.subplots()\n",
        "\n",
        "# Draw histplot using offender_id count as y-axis\n",
        "sns.scatterplot(data=group_by_code, x='crime_code', y='offender_id', s=20, ax = ax)\n",
        "\n",
        "# Set xticks\n",
        "xticks = [50 * k for k in range(7)]\n",
        "xlabels = xticks\n",
        "\n",
        "plt.xticks(ticks=xticks, labels=xlabels, rotation=0, horizontalalignment = 'center')\n",
        "plt.xlim(xticks[0] - offset[0], xticks[-1] + offset[0])\n",
        "\n",
        "# Set yticks\n",
        "yticks = [25000 * k for k in range(7)]\n",
        "ylabels = yticks\n",
        "\n",
        "plt.yticks(yticks, ylabels)\n",
        "plt.ylim(yticks[0] - offset[1], yticks[-1] + offset[1])\n",
        "\n",
        "# Set axis titles\n",
        "plt.xlabel(\"Crime code\")\n",
        "plt.ylabel(\"Number of offenders\")\n",
        "\n",
        "fig.show()"
      ],
      "execution_count": 23,
      "outputs": [
        {
          "output_type": "display_data",
          "data": {
            "image/png": "[encoded data removed]",
            "text/plain": [
              "<Figure size 432x288 with 1 Axes>"
            ]
          },
          "metadata": {
            "needs_background": "light"
          }
        }
      ]
    },
    {
      "cell_type": "markdown",
      "metadata": {
        "id": "RQ96E8zGpb9d"
      },
      "source": [
        "To gain more insight, the sample is restricted to crimes with less or equal than 5,000 offenders. For reference, the average number of offenders per crime is, approximately, 4,869. With this, of the 294 different codes, 254 (86.3%) remain.\n",
        "\n",
        "The plot changes slightly. Most of the codes have little offenders and, among the rest, there is high variability."
      ]
    },
    {
      "cell_type": "code",
      "metadata": {
        "colab": {
          "base_uri": "https://localhost:8080/"
        },
        "id": "GC_BtkcPqJux",
        "outputId": "9aebdf18-f5b8-44d7-f3cd-c7e73ff8d772"
      },
      "source": [
        "group_by_code_small = group_by_code[group_by_code['offender_id'] <= 5000]\n",
        "group_by_code_small.shape"
      ],
      "execution_count": 29,
      "outputs": [
        {
          "output_type": "execute_result",
          "data": {
            "text/plain": [
              "(254, 9)"
            ]
          },
          "metadata": {},
          "execution_count": 29
        }
      ]
    },
    {
      "cell_type": "code",
      "metadata": {
        "colab": {
          "base_uri": "https://localhost:8080/",
          "height": 279
        },
        "id": "wmfjHU5Zpn27",
        "outputId": "e819449d-844d-4767-c0da-c909ee732b2e"
      },
      "source": [
        "# Axis offsets\n",
        "offset = (15,500)\n",
        "\n",
        "# Initialize figure\n",
        "fig, ax = plt.subplots()\n",
        "\n",
        "# Draw histplot using offender_id count as y-axis\n",
        "sns.scatterplot(data=group_by_code_small, x='crime_code', y='offender_id', s=20, ax = ax)\n",
        "\n",
        "# Set xticks\n",
        "xticks = [50 * k for k in range(7)]\n",
        "xlabels = xticks\n",
        "\n",
        "plt.xticks(ticks=xticks, labels=xlabels, rotation=0, horizontalalignment = 'center')\n",
        "plt.xlim(xticks[0] - offset[0], xticks[-1] + offset[0])\n",
        "\n",
        "# Set yticks\n",
        "yticks = [1000 * k for k in range(6)]\n",
        "ylabels = yticks\n",
        "\n",
        "plt.yticks(yticks, ylabels)\n",
        "plt.ylim(yticks[0] - offset[1], yticks[-1] + offset[1])\n",
        "\n",
        "# Set axis titles\n",
        "plt.xlabel(\"Crime code\")\n",
        "plt.ylabel(\"Number of offenders\")\n",
        "\n",
        "fig.show()"
      ],
      "execution_count": 34,
      "outputs": [
        {
          "output_type": "display_data",
          "data": {
            "image/png": "[encoded data removed]",
            "text/plain": [
              "<Figure size 432x288 with 1 Axes>"
            ]
          },
          "metadata": {
            "needs_background": "light"
          }
        }
      ]
    },
    {
      "cell_type": "markdown",
      "metadata": {
        "id": "oisgg6yr2z3c"
      },
      "source": [
        "The 5 crimes with the most offenders are:\n",
        "\n",
        "| Crime code | Number of offenders |\n",
        "|:--:|:--:|\n",
        "| 22   |  140901 |\n",
        "| 131  |  108031 |\n",
        "| 61   |   94655 |\n",
        "| 39   |   90179 |\n",
        "| 73   |   83110 |\n",
        "\n",
        "These occur mostly in "
      ]
    },
    {
      "cell_type": "code",
      "metadata": {
        "colab": {
          "base_uri": "https://localhost:8080/"
        },
        "id": "iBEHYgF2229S",
        "outputId": "192e7790-5964-44d9-96ed-966ae42041b7"
      },
      "source": [
        "most_offenders = group_by_code.sort_values(by='offender_id', ascending=False).iloc[:5,:]\n",
        "most_offenders['offender_id']"
      ],
      "execution_count": 46,
      "outputs": [
        {
          "output_type": "execute_result",
          "data": {
            "text/plain": [
              "crime_code\n",
              "22     140901\n",
              "131    108031\n",
              "61      94655\n",
              "39      90179\n",
              "73      83110\n",
              "Name: offender_id, dtype: int64"
            ]
          },
          "metadata": {},
          "execution_count": 46
        }
      ]
    },
    {
      "cell_type": "code",
      "metadata": {
        "colab": {
          "base_uri": "https://localhost:8080/"
        },
        "id": "xpjGnad23TmL",
        "outputId": "cda7719e-33a9-4018-c013-1689a213186e"
      },
      "source": [
        "most_offenders = most_offenders.index.to_numpy()"
      ],
      "execution_count": 50,
      "outputs": [
        {
          "output_type": "execute_result",
          "data": {
            "text/plain": [
              "array([ 22, 131,  61,  39,  73])"
            ]
          },
          "metadata": {},
          "execution_count": 50
        }
      ]
    },
    {
      "cell_type": "code",
      "metadata": {
        "id": "_q12yvqa6nmh",
        "outputId": "dda9e84d-3820-49a5-ee97-c732efa04ad3",
        "colab": {
          "base_uri": "https://localhost:8080/",
          "height": 609
        }
      },
      "source": [
        "co_off[co_off['crime_code'].isin(most_offenders)]"
      ],
      "execution_count": 72,
      "outputs": [
        {
          "output_type": "execute_result",
          "data": {
            "text/html": [
              "<div>\n",
              "<style scoped>\n",
              "    .dataframe tbody tr th:only-of-type {\n",
              "        vertical-align: middle;\n",
              "    }\n",
              "\n",
              "    .dataframe tbody tr th {\n",
              "        vertical-align: top;\n",
              "    }\n",
              "\n",
              "    .dataframe thead th {\n",
              "        text-align: right;\n",
              "    }\n",
              "</style>\n",
              "<table border=\"1\" class=\"dataframe\">\n",
              "  <thead>\n",
              "    <tr style=\"text-align: right;\">\n",
              "      <th></th>\n",
              "      <th>offender_id</th>\n",
              "      <th>event_id</th>\n",
              "      <th>adults</th>\n",
              "      <th>county</th>\n",
              "      <th>date</th>\n",
              "      <th>minors</th>\n",
              "      <th>sex</th>\n",
              "      <th>year</th>\n",
              "      <th>location</th>\n",
              "      <th>crime_code</th>\n",
              "    </tr>\n",
              "  </thead>\n",
              "  <tbody>\n",
              "    <tr>\n",
              "      <th>1</th>\n",
              "      <td>1</td>\n",
              "      <td>1107833</td>\n",
              "      <td>1</td>\n",
              "      <td>1326</td>\n",
              "      <td>2003-02-18</td>\n",
              "      <td>0</td>\n",
              "      <td>0</td>\n",
              "      <td>2003</td>\n",
              "      <td>5</td>\n",
              "      <td>22</td>\n",
              "    </tr>\n",
              "    <tr>\n",
              "      <th>2</th>\n",
              "      <td>2</td>\n",
              "      <td>61773</td>\n",
              "      <td>1</td>\n",
              "      <td>1029</td>\n",
              "      <td>2003-01-01</td>\n",
              "      <td>0</td>\n",
              "      <td>1</td>\n",
              "      <td>2003</td>\n",
              "      <td>2</td>\n",
              "      <td>22</td>\n",
              "    </tr>\n",
              "    <tr>\n",
              "      <th>8</th>\n",
              "      <td>7</td>\n",
              "      <td>34332</td>\n",
              "      <td>1</td>\n",
              "      <td>682</td>\n",
              "      <td>2002-11-26</td>\n",
              "      <td>0</td>\n",
              "      <td>1</td>\n",
              "      <td>2002</td>\n",
              "      <td>81</td>\n",
              "      <td>73</td>\n",
              "    </tr>\n",
              "    <tr>\n",
              "      <th>17</th>\n",
              "      <td>16</td>\n",
              "      <td>299308</td>\n",
              "      <td>1</td>\n",
              "      <td>982</td>\n",
              "      <td>1998-06-01</td>\n",
              "      <td>0</td>\n",
              "      <td>0</td>\n",
              "      <td>1998</td>\n",
              "      <td>1</td>\n",
              "      <td>22</td>\n",
              "    </tr>\n",
              "    <tr>\n",
              "      <th>19</th>\n",
              "      <td>18</td>\n",
              "      <td>1057921</td>\n",
              "      <td>1</td>\n",
              "      <td>1326</td>\n",
              "      <td>1998-04-27</td>\n",
              "      <td>0</td>\n",
              "      <td>1</td>\n",
              "      <td>1998</td>\n",
              "      <td>2</td>\n",
              "      <td>39</td>\n",
              "    </tr>\n",
              "    <tr>\n",
              "      <th>...</th>\n",
              "      <td>...</td>\n",
              "      <td>...</td>\n",
              "      <td>...</td>\n",
              "      <td>...</td>\n",
              "      <td>...</td>\n",
              "      <td>...</td>\n",
              "      <td>...</td>\n",
              "      <td>...</td>\n",
              "      <td>...</td>\n",
              "      <td>...</td>\n",
              "    </tr>\n",
              "    <tr>\n",
              "      <th>1465722</th>\n",
              "      <td>538795</td>\n",
              "      <td>962651</td>\n",
              "      <td>1</td>\n",
              "      <td>692</td>\n",
              "      <td>2004-01-08</td>\n",
              "      <td>0</td>\n",
              "      <td>1</td>\n",
              "      <td>2004</td>\n",
              "      <td>12</td>\n",
              "      <td>22</td>\n",
              "    </tr>\n",
              "    <tr>\n",
              "      <th>1465733</th>\n",
              "      <td>538806</td>\n",
              "      <td>87548</td>\n",
              "      <td>1</td>\n",
              "      <td>1326</td>\n",
              "      <td>2004-04-07</td>\n",
              "      <td>0</td>\n",
              "      <td>1</td>\n",
              "      <td>2004</td>\n",
              "      <td>11</td>\n",
              "      <td>22</td>\n",
              "    </tr>\n",
              "    <tr>\n",
              "      <th>1465750</th>\n",
              "      <td>538819</td>\n",
              "      <td>65391</td>\n",
              "      <td>3</td>\n",
              "      <td>495</td>\n",
              "      <td>2003-09-07</td>\n",
              "      <td>0</td>\n",
              "      <td>1</td>\n",
              "      <td>2003</td>\n",
              "      <td>12</td>\n",
              "      <td>22</td>\n",
              "    </tr>\n",
              "    <tr>\n",
              "      <th>1465760</th>\n",
              "      <td>538827</td>\n",
              "      <td>543709</td>\n",
              "      <td>1</td>\n",
              "      <td>682</td>\n",
              "      <td>2002-07-23</td>\n",
              "      <td>0</td>\n",
              "      <td>1</td>\n",
              "      <td>2002</td>\n",
              "      <td>32</td>\n",
              "      <td>22</td>\n",
              "    </tr>\n",
              "    <tr>\n",
              "      <th>1465763</th>\n",
              "      <td>538830</td>\n",
              "      <td>54744</td>\n",
              "      <td>1</td>\n",
              "      <td>924</td>\n",
              "      <td>2004-08-04</td>\n",
              "      <td>0</td>\n",
              "      <td>1</td>\n",
              "      <td>2004</td>\n",
              "      <td>98</td>\n",
              "      <td>22</td>\n",
              "    </tr>\n",
              "  </tbody>\n",
              "</table>\n",
              "<p>516876 rows × 10 columns</p>\n",
              "</div>"
            ],
            "text/plain": [
              "        offender_id event_id  adults county  ... sex  year location  crime_code\n",
              "1                 1  1107833       1   1326  ...   0  2003        5          22\n",
              "2                 2    61773       1   1029  ...   1  2003        2          22\n",
              "8                 7    34332       1    682  ...   1  2002       81          73\n",
              "17               16   299308       1    982  ...   0  1998        1          22\n",
              "19               18  1057921       1   1326  ...   1  1998        2          39\n",
              "...             ...      ...     ...    ...  ...  ..   ...      ...         ...\n",
              "1465722      538795   962651       1    692  ...   1  2004       12          22\n",
              "1465733      538806    87548       1   1326  ...   1  2004       11          22\n",
              "1465750      538819    65391       3    495  ...   1  2003       12          22\n",
              "1465760      538827   543709       1    682  ...   1  2002       32          22\n",
              "1465763      538830    54744       1    924  ...   1  2004       98          22\n",
              "\n",
              "[516876 rows x 10 columns]"
            ]
          },
          "metadata": {},
          "execution_count": 72
        }
      ]
    },
    {
      "cell_type": "code",
      "metadata": {
        "id": "m5MTNuUu3Ckn"
      },
      "source": [
        "location_of_most_offenders = co_off[co_off['crime_code'].isin(most_offenders)].groupby(['county', 'crime_code']).count()"
      ],
      "execution_count": 68,
      "outputs": []
    },
    {
      "cell_type": "code",
      "metadata": {
        "id": "HhCrg9_S6UGq",
        "outputId": "6fd57008-2c74-4f39-b9ab-ffd07bc3493d",
        "colab": {
          "base_uri": "https://localhost:8080/"
        }
      },
      "source": [
        "location_of_most_offenders['offender_id']"
      ],
      "execution_count": 71,
      "outputs": [
        {
          "output_type": "execute_result",
          "data": {
            "text/plain": [
              "county  crime_code\n",
              "0       0            nan\n",
              "        1            nan\n",
              "        2            nan\n",
              "        3            nan\n",
              "        4            nan\n",
              "                      ..\n",
              "1341    296          nan\n",
              "        297          nan\n",
              "        298          nan\n",
              "        299          nan\n",
              "        300          nan\n",
              "Name: offender_id, Length: 403942, dtype: float64"
            ]
          },
          "metadata": {},
          "execution_count": 71
        }
      ]
    },
    {
      "cell_type": "code",
      "metadata": {
        "colab": {
          "base_uri": "https://localhost:8080/",
          "height": 279
        },
        "id": "nO15o85g4ORY",
        "outputId": "f43ecafa-74a7-4382-a6a8-e56c20bf2c84"
      },
      "source": [
        "# Axis offsets\n",
        "offset = (15,500)\n",
        "\n",
        "# Initialize figure\n",
        "fig, ax = plt.subplots()\n",
        "\n",
        "# Draw histplot using offender_id count as y-axis\n",
        "sns.histplot(data=location_of_most_offenders, x='county',ax = ax)\n",
        "\n",
        "# Set xticks\n",
        "# xticks = [50 * k for k in range(7)]\n",
        "# xlabels = xticks\n",
        "\n",
        "# plt.xticks(ticks=xticks, labels=xlabels, rotation=0, horizontalalignment = 'center')\n",
        "# plt.xlim(xticks[0] - offset[0], xticks[-1] + offset[0])\n",
        "\n",
        "# # Set yticks\n",
        "yticks = [5000 * k for k in range(6)]\n",
        "ylabels = yticks\n",
        "\n",
        "plt.yticks(yticks, ylabels)\n",
        "plt.ylim(yticks[0] - offset[1], yticks[-1] + offset[1])\n",
        "\n",
        "# # Set axis titles\n",
        "plt.xlabel(\"County code\")\n",
        "plt.ylabel(\"Number of offenders\")\n",
        "\n",
        "fig.show()"
      ],
      "execution_count": 62,
      "outputs": [
        {
          "output_type": "display_data",
          "data": {
            "image/png": "[encoded data removed]",
            "text/plain": [
              "<Figure size 432x288 with 1 Axes>"
            ]
          },
          "metadata": {
            "needs_background": "light"
          }
        }
      ]
    },
    {
      "cell_type": "markdown",
      "metadata": {
        "id": "0udPk5ZoVcza"
      },
      "source": [
        "## (b)"
      ]
    },
    {
      "cell_type": "markdown",
      "metadata": {
        "id": "_Xp67CwJVdWU"
      },
      "source": [
        "## (c)"
      ]
    },
    {
      "cell_type": "markdown",
      "metadata": {
        "id": "bD6VIzejVdrc"
      },
      "source": [
        "## (d)"
      ]
    },
    {
      "cell_type": "markdown",
      "metadata": {
        "id": "k5-Ma7R3VeIc"
      },
      "source": [
        "## (e)"
      ]
    },
    {
      "cell_type": "markdown",
      "metadata": {
        "id": "USmiOYMzVe5p"
      },
      "source": [
        "## (f)"
      ]
    },
    {
      "cell_type": "markdown",
      "metadata": {
        "id": "Kuo43NWdVfct"
      },
      "source": [
        "## (g)"
      ]
    },
    {
      "cell_type": "markdown",
      "metadata": {
        "id": "Zzv42eUAVg6u"
      },
      "source": [
        "## (h)"
      ]
    },
    {
      "cell_type": "markdown",
      "metadata": {
        "id": "3y9jwVTMVhpG"
      },
      "source": [
        "## (i)"
      ]
    },
    {
      "cell_type": "markdown",
      "metadata": {
        "id": "KZ4hcVgDVjMl"
      },
      "source": [
        "## (j)"
      ]
    },
    {
      "cell_type": "markdown",
      "metadata": {
        "id": "COkEbQyDVj1e"
      },
      "source": [
        "## (k)"
      ]
    },
    {
      "cell_type": "markdown",
      "metadata": {
        "id": "YIjXCz-mVkHF"
      },
      "source": [
        "## (l)"
      ]
    },
    {
      "cell_type": "markdown",
      "metadata": {
        "id": "hTL7sYwwVln0"
      },
      "source": [
        "## (m)"
      ]
    }
  ]
}