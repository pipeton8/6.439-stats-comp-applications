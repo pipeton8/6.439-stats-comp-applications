{
  "nbformat": 4,
  "nbformat_minor": 0,
  "metadata": {
    "colab": {
      "name": "6.439 - Problem Set 4.ipynb",
      "provenance": [],
      "authorship_tag": "ABX9TyP2UVY38v3Lx0qe8BDESPzY",
      "include_colab_link": true
    },
    "kernelspec": {
      "name": "python3",
      "display_name": "Python 3"
    },
    "language_info": {
      "name": "python"
    }
  },
  "cells": [
    {
      "cell_type": "markdown",
      "metadata": {
        "id": "view-in-github",
        "colab_type": "text"
      },
      "source": [
        "<a href=\"https://colab.research.google.com/github/pipeton8/6.439-stats-comp-applications/blob/main/Assignments/4%20-%20Networks/6.439%20-%20Problem%20Set%204.ipynb\" target=\"_parent\"><img src=\"https://colab.research.google.com/assets/colab-badge.svg\" alt=\"Open In Colab\"/></a>"
      ]
    },
    {
      "cell_type": "markdown",
      "metadata": {
        "id": "zQZiu5Rr0ywL"
      },
      "source": [
        "# Problem Set 4 - Statistics, Computation and Applications\n",
        "\n",
        "(c) Felipe del Canto, November 2021\n",
        "***\n",
        "***\n",
        "\n",
        "_Note: The dataset for this assignment was provided for in class use only. For this reason, this notebook will not run. I will try to provide a toy dataset in the future._"
      ]
    },
    {
      "cell_type": "markdown",
      "metadata": {
        "id": "LpSk2ccJi4kO"
      },
      "source": [
        "# Part 0 (Execute first!)"
      ]
    },
    {
      "cell_type": "code",
      "metadata": {
        "id": "egFlocZLi6Zk"
      },
      "source": [
        "# Import packages\n",
        "import scipy\n",
        "import numpy as np\n",
        "import pandas as pd\n",
        "pd.options.display.float_format = '{:.4f}'.format\n",
        "\n",
        "import seaborn           as sns\n",
        "import matplotlib.pyplot as plt\n",
        "\n",
        "from tqdm.auto import tqdm, trange"
      ],
      "execution_count": 1,
      "outputs": []
    },
    {
      "cell_type": "markdown",
      "metadata": {
        "id": "0I06u2dqVYeY"
      },
      "source": [
        "# Problem 4.2: Co-offending Network"
      ]
    },
    {
      "cell_type": "markdown",
      "metadata": {
        "id": "NEmjtVJSTCtZ"
      },
      "source": [
        "## Preamble"
      ]
    },
    {
      "cell_type": "code",
      "metadata": {
        "id": "j_cUvtxamKa9"
      },
      "source": [
        "# Load data\n",
        "co_off = pd.read_csv(\"Cooffending.csv\")\n",
        "\n",
        "# Set date\n",
        "co_off['date'] = pd.to_datetime(co_off['date'])\n",
        "\n",
        "# Set crime codes, counties and locations as categorical\n",
        "categorical_vars = [f'crime{k}_code' for k in range(1,5)] + ['county', 'location']\n",
        "co_off[categorical_vars] = co_off[categorical_vars].astype('category')"
      ],
      "execution_count": 96,
      "outputs": []
    },
    {
      "cell_type": "code",
      "metadata": {
        "colab": {
          "base_uri": "https://localhost:8080/"
        },
        "id": "9JukyQwp_sWw",
        "outputId": "10f8deeb-fad9-47f9-89dd-360123502727"
      },
      "source": [
        "co_off.info()"
      ],
      "execution_count": 97,
      "outputs": [
        {
          "output_type": "stream",
          "name": "stdout",
          "text": [
            "<class 'pandas.core.frame.DataFrame'>\n",
            "RangeIndex: 1280459 entries, 0 to 1280458\n",
            "Data columns (total 14 columns):\n",
            " #   Column       Non-Null Count    Dtype         \n",
            "---  ------       --------------    -----         \n",
            " 0   id           1280459 non-null  int64         \n",
            " 1   dob          1280459 non-null  int64         \n",
            " 2   sex          1280459 non-null  int64         \n",
            " 3   event_id     1280459 non-null  int64         \n",
            " 4   date         1280459 non-null  datetime64[ns]\n",
            " 5   year         1280459 non-null  int64         \n",
            " 6   location     1280459 non-null  category      \n",
            " 7   county       1280459 non-null  category      \n",
            " 8   crime1_code  1280459 non-null  category      \n",
            " 9   crime2_code  1280459 non-null  category      \n",
            " 10  crime3_code  1280459 non-null  category      \n",
            " 11  crime4_code  1280459 non-null  category      \n",
            " 12  youths       1280459 non-null  int64         \n",
            " 13  adults       1280459 non-null  int64         \n",
            "dtypes: category(6), datetime64[ns](1), int64(7)\n",
            "memory usage: 90.5 MB\n"
          ]
        }
      ]
    },
    {
      "cell_type": "code",
      "metadata": {
        "colab": {
          "base_uri": "https://localhost:8080/",
          "height": 512
        },
        "id": "pKBfTirF-xSm",
        "outputId": "c685843b-2c8a-428c-82c2-20c894446d8a"
      },
      "source": [
        "co_off.describe(include='all', datetime_is_numeric=True)"
      ],
      "execution_count": 98,
      "outputs": [
        {
          "output_type": "execute_result",
          "data": {
            "text/html": [
              "<div>\n",
              "<style scoped>\n",
              "    .dataframe tbody tr th:only-of-type {\n",
              "        vertical-align: middle;\n",
              "    }\n",
              "\n",
              "    .dataframe tbody tr th {\n",
              "        vertical-align: top;\n",
              "    }\n",
              "\n",
              "    .dataframe thead th {\n",
              "        text-align: right;\n",
              "    }\n",
              "</style>\n",
              "<table border=\"1\" class=\"dataframe\">\n",
              "  <thead>\n",
              "    <tr style=\"text-align: right;\">\n",
              "      <th></th>\n",
              "      <th>id</th>\n",
              "      <th>dob</th>\n",
              "      <th>sex</th>\n",
              "      <th>event_id</th>\n",
              "      <th>date</th>\n",
              "      <th>year</th>\n",
              "      <th>location</th>\n",
              "      <th>county</th>\n",
              "      <th>crime1_code</th>\n",
              "      <th>crime2_code</th>\n",
              "      <th>crime3_code</th>\n",
              "      <th>crime4_code</th>\n",
              "      <th>youths</th>\n",
              "      <th>adults</th>\n",
              "    </tr>\n",
              "  </thead>\n",
              "  <tbody>\n",
              "    <tr>\n",
              "      <th>count</th>\n",
              "      <td>1280459.0000</td>\n",
              "      <td>1280459.0000</td>\n",
              "      <td>1280459.0000</td>\n",
              "      <td>1280459.0000</td>\n",
              "      <td>1280459</td>\n",
              "      <td>1280459.0000</td>\n",
              "      <td>1280459</td>\n",
              "      <td>1280459.0000</td>\n",
              "      <td>1280459</td>\n",
              "      <td>1280459</td>\n",
              "      <td>1280459</td>\n",
              "      <td>1280459</td>\n",
              "      <td>1280459.0000</td>\n",
              "      <td>1280459.0000</td>\n",
              "    </tr>\n",
              "    <tr>\n",
              "      <th>unique</th>\n",
              "      <td>nan</td>\n",
              "      <td>nan</td>\n",
              "      <td>nan</td>\n",
              "      <td>nan</td>\n",
              "      <td>NaN</td>\n",
              "      <td>nan</td>\n",
              "      <td>99</td>\n",
              "      <td>1342.0000</td>\n",
              "      <td>295</td>\n",
              "      <td>244</td>\n",
              "      <td>178</td>\n",
              "      <td>116</td>\n",
              "      <td>nan</td>\n",
              "      <td>nan</td>\n",
              "    </tr>\n",
              "    <tr>\n",
              "      <th>top</th>\n",
              "      <td>nan</td>\n",
              "      <td>nan</td>\n",
              "      <td>nan</td>\n",
              "      <td>nan</td>\n",
              "      <td>NaN</td>\n",
              "      <td>nan</td>\n",
              "      <td>1</td>\n",
              "      <td>66023.0000</td>\n",
              "      <td>1430</td>\n",
              "      <td></td>\n",
              "      <td></td>\n",
              "      <td></td>\n",
              "      <td>nan</td>\n",
              "      <td>nan</td>\n",
              "    </tr>\n",
              "    <tr>\n",
              "      <th>freq</th>\n",
              "      <td>nan</td>\n",
              "      <td>nan</td>\n",
              "      <td>nan</td>\n",
              "      <td>nan</td>\n",
              "      <td>NaN</td>\n",
              "      <td>nan</td>\n",
              "      <td>190114</td>\n",
              "      <td>330496.0000</td>\n",
              "      <td>138549</td>\n",
              "      <td>1130107</td>\n",
              "      <td>1250407</td>\n",
              "      <td>1273533</td>\n",
              "      <td>nan</td>\n",
              "      <td>nan</td>\n",
              "    </tr>\n",
              "    <tr>\n",
              "      <th>mean</th>\n",
              "      <td>373509.6867</td>\n",
              "      <td>1973.4897</td>\n",
              "      <td>0.8428</td>\n",
              "      <td>784992.2300</td>\n",
              "      <td>2006-11-02 13:31:11.916521472</td>\n",
              "      <td>2006.3336</td>\n",
              "      <td>NaN</td>\n",
              "      <td>nan</td>\n",
              "      <td>NaN</td>\n",
              "      <td>NaN</td>\n",
              "      <td>NaN</td>\n",
              "      <td>NaN</td>\n",
              "      <td>0.0197</td>\n",
              "      <td>1.3399</td>\n",
              "    </tr>\n",
              "    <tr>\n",
              "      <th>min</th>\n",
              "      <td>1.0000</td>\n",
              "      <td>1007.0000</td>\n",
              "      <td>0.0000</td>\n",
              "      <td>303.0000</td>\n",
              "      <td>2003-01-01 00:00:00</td>\n",
              "      <td>2003.0000</td>\n",
              "      <td>NaN</td>\n",
              "      <td>nan</td>\n",
              "      <td>NaN</td>\n",
              "      <td>NaN</td>\n",
              "      <td>NaN</td>\n",
              "      <td>NaN</td>\n",
              "      <td>0.0000</td>\n",
              "      <td>0.0000</td>\n",
              "    </tr>\n",
              "    <tr>\n",
              "      <th>25%</th>\n",
              "      <td>227274.5000</td>\n",
              "      <td>1964.0000</td>\n",
              "      <td>1.0000</td>\n",
              "      <td>384698.5000</td>\n",
              "      <td>2005-05-17 00:00:00</td>\n",
              "      <td>2005.0000</td>\n",
              "      <td>NaN</td>\n",
              "      <td>nan</td>\n",
              "      <td>NaN</td>\n",
              "      <td>NaN</td>\n",
              "      <td>NaN</td>\n",
              "      <td>NaN</td>\n",
              "      <td>0.0000</td>\n",
              "      <td>1.0000</td>\n",
              "    </tr>\n",
              "    <tr>\n",
              "      <th>50%</th>\n",
              "      <td>385083.0000</td>\n",
              "      <td>1976.0000</td>\n",
              "      <td>1.0000</td>\n",
              "      <td>759497.0000</td>\n",
              "      <td>2006-12-16 00:00:00</td>\n",
              "      <td>2006.0000</td>\n",
              "      <td>NaN</td>\n",
              "      <td>nan</td>\n",
              "      <td>NaN</td>\n",
              "      <td>NaN</td>\n",
              "      <td>NaN</td>\n",
              "      <td>NaN</td>\n",
              "      <td>0.0000</td>\n",
              "      <td>1.0000</td>\n",
              "    </tr>\n",
              "    <tr>\n",
              "      <th>75%</th>\n",
              "      <td>532909.0000</td>\n",
              "      <td>1984.0000</td>\n",
              "      <td>1.0000</td>\n",
              "      <td>1191752.5000</td>\n",
              "      <td>2008-06-18 00:00:00</td>\n",
              "      <td>2008.0000</td>\n",
              "      <td>NaN</td>\n",
              "      <td>nan</td>\n",
              "      <td>NaN</td>\n",
              "      <td>NaN</td>\n",
              "      <td>NaN</td>\n",
              "      <td>NaN</td>\n",
              "      <td>0.0000</td>\n",
              "      <td>1.0000</td>\n",
              "    </tr>\n",
              "    <tr>\n",
              "      <th>max</th>\n",
              "      <td>670536.0000</td>\n",
              "      <td>2005.0000</td>\n",
              "      <td>1.0000</td>\n",
              "      <td>1639823.0000</td>\n",
              "      <td>2010-01-25 00:00:00</td>\n",
              "      <td>2010.0000</td>\n",
              "      <td>NaN</td>\n",
              "      <td>nan</td>\n",
              "      <td>NaN</td>\n",
              "      <td>NaN</td>\n",
              "      <td>NaN</td>\n",
              "      <td>NaN</td>\n",
              "      <td>92.0000</td>\n",
              "      <td>156.0000</td>\n",
              "    </tr>\n",
              "    <tr>\n",
              "      <th>std</th>\n",
              "      <td>181007.7520</td>\n",
              "      <td>13.7975</td>\n",
              "      <td>0.3640</td>\n",
              "      <td>471103.9711</td>\n",
              "      <td>NaN</td>\n",
              "      <td>1.8870</td>\n",
              "      <td>NaN</td>\n",
              "      <td>nan</td>\n",
              "      <td>NaN</td>\n",
              "      <td>NaN</td>\n",
              "      <td>NaN</td>\n",
              "      <td>NaN</td>\n",
              "      <td>0.2620</td>\n",
              "      <td>2.5800</td>\n",
              "    </tr>\n",
              "  </tbody>\n",
              "</table>\n",
              "</div>"
            ],
            "text/plain": [
              "                 id          dob  ...       youths       adults\n",
              "count  1280459.0000 1280459.0000  ... 1280459.0000 1280459.0000\n",
              "unique          nan          nan  ...          nan          nan\n",
              "top             nan          nan  ...          nan          nan\n",
              "freq            nan          nan  ...          nan          nan\n",
              "mean    373509.6867    1973.4897  ...       0.0197       1.3399\n",
              "min          1.0000    1007.0000  ...       0.0000       0.0000\n",
              "25%     227274.5000    1964.0000  ...       0.0000       1.0000\n",
              "50%     385083.0000    1976.0000  ...       0.0000       1.0000\n",
              "75%     532909.0000    1984.0000  ...       0.0000       1.0000\n",
              "max     670536.0000    2005.0000  ...      92.0000     156.0000\n",
              "std     181007.7520      13.7975  ...       0.2620       2.5800\n",
              "\n",
              "[11 rows x 14 columns]"
            ]
          },
          "metadata": {},
          "execution_count": 98
        }
      ]
    },
    {
      "cell_type": "code",
      "metadata": {
        "colab": {
          "base_uri": "https://localhost:8080/",
          "height": 549
        },
        "id": "LxQo-6Xi_a28",
        "outputId": "993cb8d9-119b-4761-d0e6-7b74868647e5"
      },
      "source": [
        "co_off.head(10)"
      ],
      "execution_count": 99,
      "outputs": [
        {
          "output_type": "execute_result",
          "data": {
            "text/html": [
              "<div>\n",
              "<style scoped>\n",
              "    .dataframe tbody tr th:only-of-type {\n",
              "        vertical-align: middle;\n",
              "    }\n",
              "\n",
              "    .dataframe tbody tr th {\n",
              "        vertical-align: top;\n",
              "    }\n",
              "\n",
              "    .dataframe thead th {\n",
              "        text-align: right;\n",
              "    }\n",
              "</style>\n",
              "<table border=\"1\" class=\"dataframe\">\n",
              "  <thead>\n",
              "    <tr style=\"text-align: right;\">\n",
              "      <th></th>\n",
              "      <th>id</th>\n",
              "      <th>dob</th>\n",
              "      <th>sex</th>\n",
              "      <th>event_id</th>\n",
              "      <th>date</th>\n",
              "      <th>year</th>\n",
              "      <th>location</th>\n",
              "      <th>county</th>\n",
              "      <th>crime1_code</th>\n",
              "      <th>crime2_code</th>\n",
              "      <th>crime3_code</th>\n",
              "      <th>crime4_code</th>\n",
              "      <th>youths</th>\n",
              "      <th>adults</th>\n",
              "    </tr>\n",
              "  </thead>\n",
              "  <tbody>\n",
              "    <tr>\n",
              "      <th>0</th>\n",
              "      <td>1</td>\n",
              "      <td>1007</td>\n",
              "      <td>0</td>\n",
              "      <td>1085034</td>\n",
              "      <td>2005-12-17</td>\n",
              "      <td>2005</td>\n",
              "      <td>2</td>\n",
              "      <td>58227</td>\n",
              "      <td>3530</td>\n",
              "      <td></td>\n",
              "      <td></td>\n",
              "      <td></td>\n",
              "      <td>0</td>\n",
              "      <td>1</td>\n",
              "    </tr>\n",
              "    <tr>\n",
              "      <th>1</th>\n",
              "      <td>2</td>\n",
              "      <td>1828</td>\n",
              "      <td>0</td>\n",
              "      <td>1431379</td>\n",
              "      <td>2008-04-23</td>\n",
              "      <td>2008</td>\n",
              "      <td>5</td>\n",
              "      <td>94068</td>\n",
              "      <td>1430</td>\n",
              "      <td></td>\n",
              "      <td></td>\n",
              "      <td></td>\n",
              "      <td>0</td>\n",
              "      <td>1</td>\n",
              "    </tr>\n",
              "    <tr>\n",
              "      <th>2</th>\n",
              "      <td>4</td>\n",
              "      <td>1889</td>\n",
              "      <td>1</td>\n",
              "      <td>167174</td>\n",
              "      <td>2008-03-06</td>\n",
              "      <td>2008</td>\n",
              "      <td>2</td>\n",
              "      <td>49058</td>\n",
              "      <td>1430</td>\n",
              "      <td>21702</td>\n",
              "      <td></td>\n",
              "      <td></td>\n",
              "      <td>0</td>\n",
              "      <td>1</td>\n",
              "    </tr>\n",
              "    <tr>\n",
              "      <th>3</th>\n",
              "      <td>5</td>\n",
              "      <td>1892</td>\n",
              "      <td>1</td>\n",
              "      <td>1179096</td>\n",
              "      <td>2008-08-21</td>\n",
              "      <td>2008</td>\n",
              "      <td>71</td>\n",
              "      <td>65005</td>\n",
              "      <td>1420</td>\n",
              "      <td></td>\n",
              "      <td></td>\n",
              "      <td></td>\n",
              "      <td>0</td>\n",
              "      <td>1</td>\n",
              "    </tr>\n",
              "    <tr>\n",
              "      <th>4</th>\n",
              "      <td>17</td>\n",
              "      <td>1897</td>\n",
              "      <td>1</td>\n",
              "      <td>1270690</td>\n",
              "      <td>2003-04-30</td>\n",
              "      <td>2003</td>\n",
              "      <td></td>\n",
              "      <td>23027</td>\n",
              "      <td>1625</td>\n",
              "      <td></td>\n",
              "      <td></td>\n",
              "      <td></td>\n",
              "      <td>0</td>\n",
              "      <td>3</td>\n",
              "    </tr>\n",
              "    <tr>\n",
              "      <th>5</th>\n",
              "      <td>38</td>\n",
              "      <td>1900</td>\n",
              "      <td>1</td>\n",
              "      <td>356360</td>\n",
              "      <td>2005-07-28</td>\n",
              "      <td>2005</td>\n",
              "      <td>1</td>\n",
              "      <td>62802</td>\n",
              "      <td>1330</td>\n",
              "      <td></td>\n",
              "      <td></td>\n",
              "      <td></td>\n",
              "      <td>0</td>\n",
              "      <td>1</td>\n",
              "    </tr>\n",
              "    <tr>\n",
              "      <th>6</th>\n",
              "      <td>39</td>\n",
              "      <td>1900</td>\n",
              "      <td>1</td>\n",
              "      <td>1171604</td>\n",
              "      <td>2007-07-16</td>\n",
              "      <td>2007</td>\n",
              "      <td>70</td>\n",
              "      <td>65005</td>\n",
              "      <td>21405</td>\n",
              "      <td></td>\n",
              "      <td></td>\n",
              "      <td></td>\n",
              "      <td>0</td>\n",
              "      <td>1</td>\n",
              "    </tr>\n",
              "    <tr>\n",
              "      <th>7</th>\n",
              "      <td>40</td>\n",
              "      <td>1900</td>\n",
              "      <td>1</td>\n",
              "      <td>852956</td>\n",
              "      <td>2008-01-30</td>\n",
              "      <td>2008</td>\n",
              "      <td>83</td>\n",
              "      <td>66023</td>\n",
              "      <td>3520</td>\n",
              "      <td></td>\n",
              "      <td></td>\n",
              "      <td></td>\n",
              "      <td>0</td>\n",
              "      <td>1</td>\n",
              "    </tr>\n",
              "    <tr>\n",
              "      <th>8</th>\n",
              "      <td>149</td>\n",
              "      <td>1901</td>\n",
              "      <td>1</td>\n",
              "      <td>806220</td>\n",
              "      <td>2005-11-03</td>\n",
              "      <td>2005</td>\n",
              "      <td>21</td>\n",
              "      <td>66023</td>\n",
              "      <td>1420</td>\n",
              "      <td></td>\n",
              "      <td></td>\n",
              "      <td></td>\n",
              "      <td>0</td>\n",
              "      <td>1</td>\n",
              "    </tr>\n",
              "    <tr>\n",
              "      <th>9</th>\n",
              "      <td>231</td>\n",
              "      <td>1902</td>\n",
              "      <td>1</td>\n",
              "      <td>778217</td>\n",
              "      <td>2007-05-09</td>\n",
              "      <td>2007</td>\n",
              "      <td>71</td>\n",
              "      <td>66023</td>\n",
              "      <td>21405</td>\n",
              "      <td></td>\n",
              "      <td></td>\n",
              "      <td></td>\n",
              "      <td>0</td>\n",
              "      <td>1</td>\n",
              "    </tr>\n",
              "  </tbody>\n",
              "</table>\n",
              "</div>"
            ],
            "text/plain": [
              "    id   dob  sex  event_id  ... crime3_code  crime4_code youths adults\n",
              "0    1  1007    0   1085034  ...                               0      1\n",
              "1    2  1828    0   1431379  ...                               0      1\n",
              "2    4  1889    1    167174  ...                               0      1\n",
              "3    5  1892    1   1179096  ...                               0      1\n",
              "4   17  1897    1   1270690  ...                               0      3\n",
              "5   38  1900    1    356360  ...                               0      1\n",
              "6   39  1900    1   1171604  ...                               0      1\n",
              "7   40  1900    1    852956  ...                               0      1\n",
              "8  149  1901    1    806220  ...                               0      1\n",
              "9  231  1902    1    778217  ...                               0      1\n",
              "\n",
              "[10 rows x 14 columns]"
            ]
          },
          "metadata": {},
          "execution_count": 99
        }
      ]
    },
    {
      "cell_type": "markdown",
      "metadata": {
        "id": "UlVFGZ_XVakk"
      },
      "source": [
        "## (a)"
      ]
    },
    {
      "cell_type": "markdown",
      "metadata": {
        "id": "0udPk5ZoVcza"
      },
      "source": [
        "## (b)"
      ]
    },
    {
      "cell_type": "markdown",
      "metadata": {
        "id": "_Xp67CwJVdWU"
      },
      "source": [
        "## (c)"
      ]
    },
    {
      "cell_type": "markdown",
      "metadata": {
        "id": "bD6VIzejVdrc"
      },
      "source": [
        "## (d)"
      ]
    },
    {
      "cell_type": "markdown",
      "metadata": {
        "id": "k5-Ma7R3VeIc"
      },
      "source": [
        "## (e)"
      ]
    },
    {
      "cell_type": "markdown",
      "metadata": {
        "id": "USmiOYMzVe5p"
      },
      "source": [
        "## (f)"
      ]
    },
    {
      "cell_type": "markdown",
      "metadata": {
        "id": "Kuo43NWdVfct"
      },
      "source": [
        "## (g)"
      ]
    },
    {
      "cell_type": "markdown",
      "metadata": {
        "id": "Zzv42eUAVg6u"
      },
      "source": [
        "## (h)"
      ]
    },
    {
      "cell_type": "markdown",
      "metadata": {
        "id": "3y9jwVTMVhpG"
      },
      "source": [
        "## (i)"
      ]
    },
    {
      "cell_type": "markdown",
      "metadata": {
        "id": "KZ4hcVgDVjMl"
      },
      "source": [
        "## (j)"
      ]
    },
    {
      "cell_type": "markdown",
      "metadata": {
        "id": "COkEbQyDVj1e"
      },
      "source": [
        "## (k)"
      ]
    },
    {
      "cell_type": "markdown",
      "metadata": {
        "id": "YIjXCz-mVkHF"
      },
      "source": [
        "## (l)"
      ]
    },
    {
      "cell_type": "markdown",
      "metadata": {
        "id": "hTL7sYwwVln0"
      },
      "source": [
        "## (m)"
      ]
    }
  ]
}