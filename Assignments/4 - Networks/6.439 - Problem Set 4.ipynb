{
  "nbformat": 4,
  "nbformat_minor": 0,
  "metadata": {
    "colab": {
      "name": "6.439 - Problem Set 4.ipynb",
      "provenance": [],
      "authorship_tag": "ABX9TyPFk8GlA3tgOpqduynHCpMa",
      "include_colab_link": true
    },
    "kernelspec": {
      "name": "python3",
      "display_name": "Python 3"
    },
    "language_info": {
      "name": "python"
    }
  },
  "cells": [
    {
      "cell_type": "markdown",
      "metadata": {
        "id": "view-in-github",
        "colab_type": "text"
      },
      "source": [
        "<a href=\"https://colab.research.google.com/github/pipeton8/6.439-stats-comp-applications/blob/main/Assignments/4%20-%20Networks/6.439%20-%20Problem%20Set%204.ipynb\" target=\"_parent\"><img src=\"https://colab.research.google.com/assets/colab-badge.svg\" alt=\"Open In Colab\"/></a>"
      ]
    },
    {
      "cell_type": "markdown",
      "metadata": {
        "id": "zQZiu5Rr0ywL"
      },
      "source": [
        "# Problem Set 4 - Statistics, Computation and Applications\n",
        "\n",
        "(c) Felipe del Canto, November 2021\n",
        "***\n",
        "***\n",
        "\n",
        "_Note: The dataset for this assignment was provided for in class use only. For this reason, this notebook will not run. I will try to provide a toy dataset in the future._"
      ]
    },
    {
      "cell_type": "markdown",
      "metadata": {
        "id": "LpSk2ccJi4kO"
      },
      "source": [
        "# Part 0 (Execute first!)"
      ]
    },
    {
      "cell_type": "code",
      "metadata": {
        "id": "egFlocZLi6Zk"
      },
      "source": [
        "from IPython.display import clear_output\n",
        "\n",
        "# Unzip\n",
        "!unzip -o PS4_data.zip\n",
        "!rm *.z* -r __MACOSX\n",
        "\n",
        "# Clear output\n",
        "clear_output()\n",
        "\n",
        "# Import packages\n",
        "import warnings\n",
        "\n",
        "import numpy as np\n",
        "import pandas as pd\n",
        "pd.options.display.float_format = '{:.4f}'.format\n",
        "\n",
        "import seaborn           as sns\n",
        "import matplotlib.pyplot as plt\n",
        "\n",
        "from tqdm.auto import tqdm, trange"
      ],
      "execution_count": 2,
      "outputs": []
    },
    {
      "cell_type": "markdown",
      "metadata": {
        "id": "9K9QsTaGVOQi"
      },
      "source": [
        "# Problem 4.1: Suggesting Similar Papers"
      ]
    },
    {
      "cell_type": "markdown",
      "metadata": {
        "id": "kU8tdQJkVTeS"
      },
      "source": [
        "## (a)"
      ]
    },
    {
      "cell_type": "markdown",
      "metadata": {
        "id": "TmuDWLnPVU_R"
      },
      "source": [
        "## (b)"
      ]
    },
    {
      "cell_type": "markdown",
      "metadata": {
        "id": "EYhiUXlUVXDm"
      },
      "source": [
        "## (c)"
      ]
    },
    {
      "cell_type": "markdown",
      "metadata": {
        "id": "0I06u2dqVYeY"
      },
      "source": [
        "# Problem 4.2: Co-offending Network"
      ]
    },
    {
      "cell_type": "markdown",
      "metadata": {
        "id": "UlVFGZ_XVakk"
      },
      "source": [
        "## (a)"
      ]
    },
    {
      "cell_type": "markdown",
      "metadata": {
        "id": "0udPk5ZoVcza"
      },
      "source": [
        "## (b)"
      ]
    },
    {
      "cell_type": "markdown",
      "metadata": {
        "id": "_Xp67CwJVdWU"
      },
      "source": [
        "## (c)"
      ]
    },
    {
      "cell_type": "markdown",
      "metadata": {
        "id": "bD6VIzejVdrc"
      },
      "source": [
        "## (d)"
      ]
    },
    {
      "cell_type": "markdown",
      "metadata": {
        "id": "k5-Ma7R3VeIc"
      },
      "source": [
        "## (e)"
      ]
    },
    {
      "cell_type": "markdown",
      "metadata": {
        "id": "USmiOYMzVe5p"
      },
      "source": [
        "## (f)"
      ]
    },
    {
      "cell_type": "markdown",
      "metadata": {
        "id": "Kuo43NWdVfct"
      },
      "source": [
        "## (g)"
      ]
    },
    {
      "cell_type": "markdown",
      "metadata": {
        "id": "Zzv42eUAVg6u"
      },
      "source": [
        "## (h)"
      ]
    },
    {
      "cell_type": "markdown",
      "metadata": {
        "id": "3y9jwVTMVhpG"
      },
      "source": [
        "## (i)"
      ]
    },
    {
      "cell_type": "markdown",
      "metadata": {
        "id": "KZ4hcVgDVjMl"
      },
      "source": [
        "## (j)"
      ]
    },
    {
      "cell_type": "markdown",
      "metadata": {
        "id": "COkEbQyDVj1e"
      },
      "source": [
        "## (k)"
      ]
    },
    {
      "cell_type": "markdown",
      "metadata": {
        "id": "YIjXCz-mVkHF"
      },
      "source": [
        "## (l)"
      ]
    },
    {
      "cell_type": "markdown",
      "metadata": {
        "id": "hTL7sYwwVln0"
      },
      "source": [
        "## (m)"
      ]
    }
  ]
}