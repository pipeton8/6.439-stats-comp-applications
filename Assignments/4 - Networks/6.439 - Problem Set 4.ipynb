{
  "nbformat": 4,
  "nbformat_minor": 0,
  "metadata": {
    "colab": {
      "name": "6.439 - Problem Set 4.ipynb",
      "provenance": [],
      "toc_visible": true,
      "authorship_tag": "ABX9TyP6FxfUqRjfOKeeKO+BaK+z",
      "include_colab_link": true
    },
    "kernelspec": {
      "name": "python3",
      "display_name": "Python 3"
    },
    "language_info": {
      "name": "python"
    },
    "widgets": {
      "application/vnd.jupyter.widget-state+json": {
        "1c8e67ad2b544346a3c3d2ab3bec8381": {
          "model_module": "@jupyter-widgets/controls",
          "model_name": "HBoxModel",
          "model_module_version": "1.5.0",
          "state": {
            "_view_name": "HBoxView",
            "_dom_classes": [],
            "_model_name": "HBoxModel",
            "_view_module": "@jupyter-widgets/controls",
            "_model_module_version": "1.5.0",
            "_view_count": null,
            "_view_module_version": "1.5.0",
            "box_style": "",
            "layout": "IPY_MODEL_293627c423a14f0da157c8819584ccde",
            "_model_module": "@jupyter-widgets/controls",
            "children": [
              "IPY_MODEL_93e30f969a19405aa518d9d35e6c1265",
              "IPY_MODEL_8df4764f46a4464198ad2ba879df56dd",
              "IPY_MODEL_cd78ee304b6948e8b32615cd6bdc1b21"
            ]
          }
        },
        "293627c423a14f0da157c8819584ccde": {
          "model_module": "@jupyter-widgets/base",
          "model_name": "LayoutModel",
          "model_module_version": "1.2.0",
          "state": {
            "_view_name": "LayoutView",
            "grid_template_rows": null,
            "right": null,
            "justify_content": null,
            "_view_module": "@jupyter-widgets/base",
            "overflow": null,
            "_model_module_version": "1.2.0",
            "_view_count": null,
            "flex_flow": null,
            "width": null,
            "min_width": null,
            "border": null,
            "align_items": null,
            "bottom": null,
            "_model_module": "@jupyter-widgets/base",
            "top": null,
            "grid_column": null,
            "overflow_y": null,
            "overflow_x": null,
            "grid_auto_flow": null,
            "grid_area": null,
            "grid_template_columns": null,
            "flex": null,
            "_model_name": "LayoutModel",
            "justify_items": null,
            "grid_row": null,
            "max_height": null,
            "align_content": null,
            "visibility": null,
            "align_self": null,
            "height": null,
            "min_height": null,
            "padding": null,
            "grid_auto_rows": null,
            "grid_gap": null,
            "max_width": null,
            "order": null,
            "_view_module_version": "1.2.0",
            "grid_template_areas": null,
            "object_position": null,
            "object_fit": null,
            "grid_auto_columns": null,
            "margin": null,
            "display": null,
            "left": null
          }
        },
        "93e30f969a19405aa518d9d35e6c1265": {
          "model_module": "@jupyter-widgets/controls",
          "model_name": "HTMLModel",
          "model_module_version": "1.5.0",
          "state": {
            "_view_name": "HTMLView",
            "style": "IPY_MODEL_73334d86834d46deb06f42aa228ab934",
            "_dom_classes": [],
            "description": "",
            "_model_name": "HTMLModel",
            "placeholder": "​",
            "_view_module": "@jupyter-widgets/controls",
            "_model_module_version": "1.5.0",
            "value": "  8%",
            "_view_count": null,
            "_view_module_version": "1.5.0",
            "description_tooltip": null,
            "_model_module": "@jupyter-widgets/controls",
            "layout": "IPY_MODEL_feb03e6b790b4761a32aa845184756cf"
          }
        },
        "8df4764f46a4464198ad2ba879df56dd": {
          "model_module": "@jupyter-widgets/controls",
          "model_name": "FloatProgressModel",
          "model_module_version": "1.5.0",
          "state": {
            "_view_name": "ProgressView",
            "style": "IPY_MODEL_3441910b6a174cab817f73d93ca96f17",
            "_dom_classes": [],
            "description": "",
            "_model_name": "FloatProgressModel",
            "bar_style": "",
            "max": 192052,
            "_view_module": "@jupyter-widgets/controls",
            "_model_module_version": "1.5.0",
            "value": 16166,
            "_view_count": null,
            "_view_module_version": "1.5.0",
            "orientation": "horizontal",
            "min": 0,
            "description_tooltip": null,
            "_model_module": "@jupyter-widgets/controls",
            "layout": "IPY_MODEL_e515a4a587f54df390f32a2fc4da0c52"
          }
        },
        "cd78ee304b6948e8b32615cd6bdc1b21": {
          "model_module": "@jupyter-widgets/controls",
          "model_name": "HTMLModel",
          "model_module_version": "1.5.0",
          "state": {
            "_view_name": "HTMLView",
            "style": "IPY_MODEL_2c6cf508b60e4d3682518b483982e0dd",
            "_dom_classes": [],
            "description": "",
            "_model_name": "HTMLModel",
            "placeholder": "​",
            "_view_module": "@jupyter-widgets/controls",
            "_model_module_version": "1.5.0",
            "value": " 16166/192052 [00:39&lt;05:10, 567.06it/s]",
            "_view_count": null,
            "_view_module_version": "1.5.0",
            "description_tooltip": null,
            "_model_module": "@jupyter-widgets/controls",
            "layout": "IPY_MODEL_6203f2b534fa4bd9ad6ec37b95bf812a"
          }
        },
        "73334d86834d46deb06f42aa228ab934": {
          "model_module": "@jupyter-widgets/controls",
          "model_name": "DescriptionStyleModel",
          "model_module_version": "1.5.0",
          "state": {
            "_view_name": "StyleView",
            "_model_name": "DescriptionStyleModel",
            "description_width": "",
            "_view_module": "@jupyter-widgets/base",
            "_model_module_version": "1.5.0",
            "_view_count": null,
            "_view_module_version": "1.2.0",
            "_model_module": "@jupyter-widgets/controls"
          }
        },
        "feb03e6b790b4761a32aa845184756cf": {
          "model_module": "@jupyter-widgets/base",
          "model_name": "LayoutModel",
          "model_module_version": "1.2.0",
          "state": {
            "_view_name": "LayoutView",
            "grid_template_rows": null,
            "right": null,
            "justify_content": null,
            "_view_module": "@jupyter-widgets/base",
            "overflow": null,
            "_model_module_version": "1.2.0",
            "_view_count": null,
            "flex_flow": null,
            "width": null,
            "min_width": null,
            "border": null,
            "align_items": null,
            "bottom": null,
            "_model_module": "@jupyter-widgets/base",
            "top": null,
            "grid_column": null,
            "overflow_y": null,
            "overflow_x": null,
            "grid_auto_flow": null,
            "grid_area": null,
            "grid_template_columns": null,
            "flex": null,
            "_model_name": "LayoutModel",
            "justify_items": null,
            "grid_row": null,
            "max_height": null,
            "align_content": null,
            "visibility": null,
            "align_self": null,
            "height": null,
            "min_height": null,
            "padding": null,
            "grid_auto_rows": null,
            "grid_gap": null,
            "max_width": null,
            "order": null,
            "_view_module_version": "1.2.0",
            "grid_template_areas": null,
            "object_position": null,
            "object_fit": null,
            "grid_auto_columns": null,
            "margin": null,
            "display": null,
            "left": null
          }
        },
        "3441910b6a174cab817f73d93ca96f17": {
          "model_module": "@jupyter-widgets/controls",
          "model_name": "ProgressStyleModel",
          "model_module_version": "1.5.0",
          "state": {
            "_view_name": "StyleView",
            "_model_name": "ProgressStyleModel",
            "description_width": "",
            "_view_module": "@jupyter-widgets/base",
            "_model_module_version": "1.5.0",
            "_view_count": null,
            "_view_module_version": "1.2.0",
            "bar_color": null,
            "_model_module": "@jupyter-widgets/controls"
          }
        },
        "e515a4a587f54df390f32a2fc4da0c52": {
          "model_module": "@jupyter-widgets/base",
          "model_name": "LayoutModel",
          "model_module_version": "1.2.0",
          "state": {
            "_view_name": "LayoutView",
            "grid_template_rows": null,
            "right": null,
            "justify_content": null,
            "_view_module": "@jupyter-widgets/base",
            "overflow": null,
            "_model_module_version": "1.2.0",
            "_view_count": null,
            "flex_flow": null,
            "width": null,
            "min_width": null,
            "border": null,
            "align_items": null,
            "bottom": null,
            "_model_module": "@jupyter-widgets/base",
            "top": null,
            "grid_column": null,
            "overflow_y": null,
            "overflow_x": null,
            "grid_auto_flow": null,
            "grid_area": null,
            "grid_template_columns": null,
            "flex": null,
            "_model_name": "LayoutModel",
            "justify_items": null,
            "grid_row": null,
            "max_height": null,
            "align_content": null,
            "visibility": null,
            "align_self": null,
            "height": null,
            "min_height": null,
            "padding": null,
            "grid_auto_rows": null,
            "grid_gap": null,
            "max_width": null,
            "order": null,
            "_view_module_version": "1.2.0",
            "grid_template_areas": null,
            "object_position": null,
            "object_fit": null,
            "grid_auto_columns": null,
            "margin": null,
            "display": null,
            "left": null
          }
        },
        "2c6cf508b60e4d3682518b483982e0dd": {
          "model_module": "@jupyter-widgets/controls",
          "model_name": "DescriptionStyleModel",
          "model_module_version": "1.5.0",
          "state": {
            "_view_name": "StyleView",
            "_model_name": "DescriptionStyleModel",
            "description_width": "",
            "_view_module": "@jupyter-widgets/base",
            "_model_module_version": "1.5.0",
            "_view_count": null,
            "_view_module_version": "1.2.0",
            "_model_module": "@jupyter-widgets/controls"
          }
        },
        "6203f2b534fa4bd9ad6ec37b95bf812a": {
          "model_module": "@jupyter-widgets/base",
          "model_name": "LayoutModel",
          "model_module_version": "1.2.0",
          "state": {
            "_view_name": "LayoutView",
            "grid_template_rows": null,
            "right": null,
            "justify_content": null,
            "_view_module": "@jupyter-widgets/base",
            "overflow": null,
            "_model_module_version": "1.2.0",
            "_view_count": null,
            "flex_flow": null,
            "width": null,
            "min_width": null,
            "border": null,
            "align_items": null,
            "bottom": null,
            "_model_module": "@jupyter-widgets/base",
            "top": null,
            "grid_column": null,
            "overflow_y": null,
            "overflow_x": null,
            "grid_auto_flow": null,
            "grid_area": null,
            "grid_template_columns": null,
            "flex": null,
            "_model_name": "LayoutModel",
            "justify_items": null,
            "grid_row": null,
            "max_height": null,
            "align_content": null,
            "visibility": null,
            "align_self": null,
            "height": null,
            "min_height": null,
            "padding": null,
            "grid_auto_rows": null,
            "grid_gap": null,
            "max_width": null,
            "order": null,
            "_view_module_version": "1.2.0",
            "grid_template_areas": null,
            "object_position": null,
            "object_fit": null,
            "grid_auto_columns": null,
            "margin": null,
            "display": null,
            "left": null
          }
        }
      }
    }
  },
  "cells": [
    {
      "cell_type": "markdown",
      "metadata": {
        "id": "view-in-github",
        "colab_type": "text"
      },
      "source": [
        "<a href=\"https://colab.research.google.com/github/pipeton8/6.439-stats-comp-applications/blob/main/Assignments/4%20-%20Networks/6.439%20-%20Problem%20Set%204.ipynb\" target=\"_parent\"><img src=\"https://colab.research.google.com/assets/colab-badge.svg\" alt=\"Open In Colab\"/></a>"
      ]
    },
    {
      "cell_type": "markdown",
      "metadata": {
        "id": "zQZiu5Rr0ywL"
      },
      "source": [
        "# Problem Set 4 - Statistics, Computation and Applications\n",
        "\n",
        "(c) Felipe del Canto, November 2021\n",
        "***\n",
        "***"
      ]
    },
    {
      "cell_type": "markdown",
      "metadata": {
        "id": "LpSk2ccJi4kO"
      },
      "source": [
        "# Part 0 (Execute first!)"
      ]
    },
    {
      "cell_type": "code",
      "metadata": {
        "id": "egFlocZLi6Zk"
      },
      "source": [
        "from IPython.display import clear_output\n",
        "\n",
        "# Download files\n",
        "!wget https://github.com/pipeton8/6.439-stats-comp-applications/raw/main/Assignments/databases/PS4_data.zip\n",
        "\n",
        "# Unzip\n",
        "!unzip -o PS4_data.zip\n",
        "!rm *.z* -r __MACOSX\n",
        "\n",
        "# Clear output\n",
        "clear_output()\n",
        "\n",
        "# Import packages\n",
        "import warnings\n",
        "\n",
        "import scipy\n",
        "import numpy as np\n",
        "import pandas as pd\n",
        "pd.options.display.float_format = '{:.4f}'.format\n",
        "\n",
        "import seaborn           as sns\n",
        "import matplotlib.pyplot as plt\n",
        "\n",
        "from tqdm.auto import tqdm, trange"
      ],
      "execution_count": 1,
      "outputs": []
    },
    {
      "cell_type": "markdown",
      "metadata": {
        "id": "0I06u2dqVYeY"
      },
      "source": [
        "# Problem 4.2: Co-offending Network"
      ]
    },
    {
      "cell_type": "markdown",
      "metadata": {
        "id": "NEmjtVJSTCtZ"
      },
      "source": [
        "## Preamble"
      ]
    },
    {
      "cell_type": "code",
      "metadata": {
        "id": "j_cUvtxamKa9"
      },
      "source": [
        "# Load data\n",
        "co_off = pd.read_csv(\"Cooffending.csv\")\n",
        "\n",
        "# Set date\n",
        "co_off['date'] = pd.to_datetime(co_off['date'])\n",
        "\n",
        "# Set crime codes, counties and locations as categorical\n",
        "# categorical_vars = (['offender_id', 'sex', 'event_id'] \n",
        "#                     + ['crime_code'] \n",
        "#                     + ['county', 'location'])\n",
        "# co_off[categorical_vars] = co_off[categorical_vars].astype('category')"
      ],
      "execution_count": 2,
      "outputs": []
    },
    {
      "cell_type": "markdown",
      "metadata": {
        "id": "UlVFGZ_XVakk"
      },
      "source": [
        "## (a), (b), (c), (d): Data exploration"
      ]
    },
    {
      "cell_type": "markdown",
      "metadata": {
        "id": "dkM1_QkI5Ey6"
      },
      "source": [
        "This dataset contains 1,465,786 entries. Each observation is taken at the `offender_id`-`event_id`-`crime_code` level. This is, individual offenders arrested at a given crime event and charged with a certain crime. \n",
        "\n",
        "Note that at any given crime event, the offender can be charged several different crimes.\n",
        "\n",
        "\n",
        "\n"
      ]
    },
    {
      "cell_type": "code",
      "metadata": {
        "colab": {
          "base_uri": "https://localhost:8080/"
        },
        "id": "_lPe6r2UDcTA",
        "outputId": "6da3cc6e-4206-464c-f631-8e13e90d455c"
      },
      "source": [
        "co_off.shape[0]"
      ],
      "execution_count": 3,
      "outputs": [
        {
          "output_type": "execute_result",
          "data": {
            "text/plain": [
              "1465786"
            ]
          },
          "metadata": {},
          "execution_count": 3
        }
      ]
    },
    {
      "cell_type": "markdown",
      "metadata": {
        "id": "yNdaUvnrDbq7"
      },
      "source": [
        "Within, the number of unique offenders is 538,851, and the number of different crime events are 1,163,423, which occurred between 197 and 2004 according to the following table:\n",
        "\n",
        "| Year | Number of arrests |\n",
        "|:--:|:--:|\n",
        "| 1997 |\t22404  |\n",
        "| 1998 |\t142582 |\n",
        "| 1999 |\t163346 |\n",
        "| 2000 |\t220197 |\n",
        "| 2001 |\t234495 |\n",
        "| 2002 |\t246397 |\n",
        "| 2003 |\t251298 |\n",
        "| 2004 |\t185067 |"
      ]
    },
    {
      "cell_type": "code",
      "metadata": {
        "colab": {
          "base_uri": "https://localhost:8080/",
          "height": 297
        },
        "id": "DfTN3a8w4ql0",
        "outputId": "0bd871a9-5cd1-4284-8efc-fa577933ba48"
      },
      "source": [
        "co_off[['offender_id', 'event_id']].describe(include='all')"
      ],
      "execution_count": 4,
      "outputs": [
        {
          "output_type": "execute_result",
          "data": {
            "text/html": [
              "<div>\n",
              "<style scoped>\n",
              "    .dataframe tbody tr th:only-of-type {\n",
              "        vertical-align: middle;\n",
              "    }\n",
              "\n",
              "    .dataframe tbody tr th {\n",
              "        vertical-align: top;\n",
              "    }\n",
              "\n",
              "    .dataframe thead th {\n",
              "        text-align: right;\n",
              "    }\n",
              "</style>\n",
              "<table border=\"1\" class=\"dataframe\">\n",
              "  <thead>\n",
              "    <tr style=\"text-align: right;\">\n",
              "      <th></th>\n",
              "      <th>offender_id</th>\n",
              "      <th>event_id</th>\n",
              "    </tr>\n",
              "  </thead>\n",
              "  <tbody>\n",
              "    <tr>\n",
              "      <th>count</th>\n",
              "      <td>1465786.0000</td>\n",
              "      <td>1465786.0000</td>\n",
              "    </tr>\n",
              "    <tr>\n",
              "      <th>mean</th>\n",
              "      <td>281089.4558</td>\n",
              "      <td>581615.2382</td>\n",
              "    </tr>\n",
              "    <tr>\n",
              "      <th>std</th>\n",
              "      <td>143657.5503</td>\n",
              "      <td>335671.5310</td>\n",
              "    </tr>\n",
              "    <tr>\n",
              "      <th>min</th>\n",
              "      <td>0.0000</td>\n",
              "      <td>0.0000</td>\n",
              "    </tr>\n",
              "    <tr>\n",
              "      <th>25%</th>\n",
              "      <td>164215.0000</td>\n",
              "      <td>290578.2500</td>\n",
              "    </tr>\n",
              "    <tr>\n",
              "      <th>50%</th>\n",
              "      <td>284490.0000</td>\n",
              "      <td>581769.5000</td>\n",
              "    </tr>\n",
              "    <tr>\n",
              "      <th>75%</th>\n",
              "      <td>402317.7500</td>\n",
              "      <td>872052.0000</td>\n",
              "    </tr>\n",
              "    <tr>\n",
              "      <th>max</th>\n",
              "      <td>538850.0000</td>\n",
              "      <td>1163422.0000</td>\n",
              "    </tr>\n",
              "  </tbody>\n",
              "</table>\n",
              "</div>"
            ],
            "text/plain": [
              "       offender_id     event_id\n",
              "count 1465786.0000 1465786.0000\n",
              "mean   281089.4558  581615.2382\n",
              "std    143657.5503  335671.5310\n",
              "min         0.0000       0.0000\n",
              "25%    164215.0000  290578.2500\n",
              "50%    284490.0000  581769.5000\n",
              "75%    402317.7500  872052.0000\n",
              "max    538850.0000 1163422.0000"
            ]
          },
          "metadata": {},
          "execution_count": 4
        }
      ]
    },
    {
      "cell_type": "code",
      "metadata": {
        "colab": {
          "base_uri": "https://localhost:8080/",
          "height": 328
        },
        "id": "xsfCJA7r8M3u",
        "outputId": "10e76620-a8fb-4873-d90e-093eab836d7e"
      },
      "source": [
        "co_off[['offender_id', 'year']].groupby(['year']).count()"
      ],
      "execution_count": 5,
      "outputs": [
        {
          "output_type": "execute_result",
          "data": {
            "text/html": [
              "<div>\n",
              "<style scoped>\n",
              "    .dataframe tbody tr th:only-of-type {\n",
              "        vertical-align: middle;\n",
              "    }\n",
              "\n",
              "    .dataframe tbody tr th {\n",
              "        vertical-align: top;\n",
              "    }\n",
              "\n",
              "    .dataframe thead th {\n",
              "        text-align: right;\n",
              "    }\n",
              "</style>\n",
              "<table border=\"1\" class=\"dataframe\">\n",
              "  <thead>\n",
              "    <tr style=\"text-align: right;\">\n",
              "      <th></th>\n",
              "      <th>offender_id</th>\n",
              "    </tr>\n",
              "    <tr>\n",
              "      <th>year</th>\n",
              "      <th></th>\n",
              "    </tr>\n",
              "  </thead>\n",
              "  <tbody>\n",
              "    <tr>\n",
              "      <th>1997</th>\n",
              "      <td>22404</td>\n",
              "    </tr>\n",
              "    <tr>\n",
              "      <th>1998</th>\n",
              "      <td>142582</td>\n",
              "    </tr>\n",
              "    <tr>\n",
              "      <th>1999</th>\n",
              "      <td>163346</td>\n",
              "    </tr>\n",
              "    <tr>\n",
              "      <th>2000</th>\n",
              "      <td>220197</td>\n",
              "    </tr>\n",
              "    <tr>\n",
              "      <th>2001</th>\n",
              "      <td>234495</td>\n",
              "    </tr>\n",
              "    <tr>\n",
              "      <th>2002</th>\n",
              "      <td>246397</td>\n",
              "    </tr>\n",
              "    <tr>\n",
              "      <th>2003</th>\n",
              "      <td>251298</td>\n",
              "    </tr>\n",
              "    <tr>\n",
              "      <th>2004</th>\n",
              "      <td>185067</td>\n",
              "    </tr>\n",
              "  </tbody>\n",
              "</table>\n",
              "</div>"
            ],
            "text/plain": [
              "      offender_id\n",
              "year             \n",
              "1997        22404\n",
              "1998       142582\n",
              "1999       163346\n",
              "2000       220197\n",
              "2001       234495\n",
              "2002       246397\n",
              "2003       251298\n",
              "2004       185067"
            ]
          },
          "metadata": {},
          "execution_count": 5
        }
      ]
    },
    {
      "cell_type": "markdown",
      "metadata": {
        "id": "nZs-EfrnDjlw"
      },
      "source": [
        "We can observe a total of 301 different crime codes (different offenses). The 5 crimes with the most offenders are:\n",
        "\n",
        "| Crime code | Number of offenders |\n",
        "|:----------:|:-------------------:|\n",
        "| 22         |  140,901            |\n",
        "| 131        |  108,031            |\n",
        "| 61         |   94,655            |\n",
        "| 39         |   90,179            |\n",
        "| 73         |   83,110            |\n",
        "| <b> Total  |  516,876            |\n",
        "\n",
        "Together, the comprise a total of 516,876 perpetrators, which correspond to, approximately, 35% of the sample.\n",
        "\n",
        "In the rest, there is high variability, and apparently a great number of crimes with low occurences (see figure below)."
      ]
    },
    {
      "cell_type": "code",
      "metadata": {
        "colab": {
          "base_uri": "https://localhost:8080/"
        },
        "id": "SHylLTXJ-5uL",
        "outputId": "91aa20e8-9cac-4545-e5eb-5e0d26a03a2f"
      },
      "source": [
        "print(\"Number of unique crime codes:\", co_off['crime_code'].unique().size)"
      ],
      "execution_count": 6,
      "outputs": [
        {
          "output_type": "stream",
          "name": "stdout",
          "text": [
            "Number of unique crime codes: 301\n"
          ]
        }
      ]
    },
    {
      "cell_type": "code",
      "metadata": {
        "id": "3JjETzMh1AUf"
      },
      "source": [
        "group_by_code = co_off.groupby('crime_code').count()"
      ],
      "execution_count": 7,
      "outputs": []
    },
    {
      "cell_type": "code",
      "metadata": {
        "colab": {
          "base_uri": "https://localhost:8080/"
        },
        "id": "iBEHYgF2229S",
        "outputId": "40a3e100-59f0-4d44-f3f8-322210ce1da9"
      },
      "source": [
        "most_offenders = group_by_code.sort_values(by='offender_id', ascending=False).iloc[:5,:]\n",
        "most_offenders['offender_id']"
      ],
      "execution_count": 8,
      "outputs": [
        {
          "output_type": "execute_result",
          "data": {
            "text/plain": [
              "crime_code\n",
              "22     140901\n",
              "131    108031\n",
              "61      94655\n",
              "39      90179\n",
              "73      83110\n",
              "Name: offender_id, dtype: int64"
            ]
          },
          "metadata": {},
          "execution_count": 8
        }
      ]
    },
    {
      "cell_type": "code",
      "metadata": {
        "colab": {
          "base_uri": "https://localhost:8080/",
          "height": 279
        },
        "id": "8jFVYtOCELup",
        "outputId": "16d32a9f-5851-43aa-e882-4f5dd5a11182"
      },
      "source": [
        "# Axis offsets\n",
        "offset = (15,10000)\n",
        "\n",
        "# Initialize figure\n",
        "fig, ax = plt.subplots()\n",
        "\n",
        "# Draw histplot using offender_id count as y-axis\n",
        "sns.scatterplot(data=group_by_code, x='crime_code', y='offender_id', s=20, ax = ax)\n",
        "\n",
        "# Set xticks\n",
        "xticks = [50 * k for k in range(7)]\n",
        "xlabels = xticks\n",
        "\n",
        "plt.xticks(ticks=xticks, labels=xlabels, rotation=0, horizontalalignment = 'center')\n",
        "plt.xlim(xticks[0] - offset[0], xticks[-1] + offset[0])\n",
        "\n",
        "# Set yticks\n",
        "yticks = [25000 * k for k in range(7)]\n",
        "ylabels = yticks\n",
        "\n",
        "plt.yticks(yticks, ylabels)\n",
        "plt.ylim(yticks[0] - offset[1], yticks[-1] + offset[1])\n",
        "\n",
        "# Set axis titles\n",
        "plt.xlabel(\"Crime code\")\n",
        "plt.ylabel(\"Number of offenders\")\n",
        "\n",
        "fig.show()"
      ],
      "execution_count": 9,
      "outputs": [
        {
          "output_type": "display_data",
          "data": {
            "image/png": "[encoded data removed]",
            "text/plain": [
              "<Figure size 432x288 with 1 Axes>"
            ]
          },
          "metadata": {
            "needs_background": "light"
          }
        }
      ]
    },
    {
      "cell_type": "markdown",
      "metadata": {
        "id": "RQ96E8zGpb9d"
      },
      "source": [
        "To gain more insight, the sample is restricted to crimes with less or equal than 5,000 offenders. For reference, the average number of offenders per crime is, approximately, 4,869. With this, of the 294 different codes, 254 (86.3%) remain.\n",
        "\n",
        "The plot changes slightly. Most of the codes have little offenders and, among the rest, there is high variability."
      ]
    },
    {
      "cell_type": "code",
      "metadata": {
        "colab": {
          "base_uri": "https://localhost:8080/"
        },
        "id": "GC_BtkcPqJux",
        "outputId": "b371a859-7c98-4737-f3b9-118bd661516b"
      },
      "source": [
        "group_by_code_small = group_by_code[group_by_code['offender_id'] <= 5000]\n",
        "group_by_code_small.shape"
      ],
      "execution_count": 10,
      "outputs": [
        {
          "output_type": "execute_result",
          "data": {
            "text/plain": [
              "(254, 9)"
            ]
          },
          "metadata": {},
          "execution_count": 10
        }
      ]
    },
    {
      "cell_type": "code",
      "metadata": {
        "colab": {
          "base_uri": "https://localhost:8080/",
          "height": 279
        },
        "id": "wmfjHU5Zpn27",
        "outputId": "ca2f620a-5211-4da9-aee0-856185ad5e76"
      },
      "source": [
        "# Axis offsets\n",
        "offset = (15,500)\n",
        "\n",
        "# Initialize figure\n",
        "fig, ax = plt.subplots()\n",
        "\n",
        "# Draw histplot using offender_id count as y-axis\n",
        "sns.scatterplot(data=group_by_code_small, x='crime_code', y='offender_id', s=20, ax = ax)\n",
        "\n",
        "# Set xticks\n",
        "xticks = [50 * k for k in range(7)]\n",
        "xlabels = xticks\n",
        "\n",
        "plt.xticks(ticks=xticks, labels=xlabels, rotation=0, horizontalalignment = 'center')\n",
        "plt.xlim(xticks[0] - offset[0], xticks[-1] + offset[0])\n",
        "\n",
        "# Set yticks\n",
        "yticks = [1000 * k for k in range(6)]\n",
        "ylabels = yticks\n",
        "\n",
        "plt.yticks(yticks, ylabels)\n",
        "plt.ylim(yticks[0] - offset[1], yticks[-1] + offset[1])\n",
        "\n",
        "# Set axis titles\n",
        "plt.xlabel(\"Crime code\")\n",
        "plt.ylabel(\"Number of offenders\")\n",
        "\n",
        "fig.show()"
      ],
      "execution_count": 11,
      "outputs": [
        {
          "output_type": "display_data",
          "data": {
            "image/png": "[encoded data removed]",
            "text/plain": [
              "<Figure size 432x288 with 1 Axes>"
            ]
          },
          "metadata": {
            "needs_background": "light"
          }
        }
      ]
    },
    {
      "cell_type": "markdown",
      "metadata": {
        "id": "6fy4wGzUCRJn"
      },
      "source": [
        "In terms of location, the most notorious crimes occur principally in county 682. This could be the most populated county of the database. In fact, for crime 131, this county accounts for 84,952 offenders. This corresponds to, approximately, 78.63% of all offenders arrested for this crime. The following table shows the contribution of this county alone to all the crimes with most offenders:\n",
        "\n",
        "| Crime code | Offenders in county 682 | Total offenders | Contribution (%) |\n",
        "|:----------:|:-----------------------:|:---------------:|:----------------:|\n",
        "| 131       | 84,952                   | 108,031         | 78.63%\n",
        "|  22       | 28,247                   | 140,901         | 20.05%\n",
        "|  61       | 24,101                   |  94,655         | 25.46%\n",
        "|  73       | 23,743                   |  83,110         | 28.57%\n",
        "|  39       | 21,698                   |  90,179         | 24.06% \n",
        "\n",
        "To see the relevance of this county, the following table shows, for each crime, in how many different counties it occured. Additionally, the table shows the contribution each county should have if crimes occured uniformly in each one. This contribution is computed as follows:\n",
        "  $$ \\text{Contribution}_{\\,\\text{crime}} = \\frac{100}{\\text{Number of different counties}_{\\,\\text{crime}}} $$\n",
        "<br>\n",
        "\n",
        "| Crime code | Number of different counties | Uniform contribution |\n",
        "|:----------:|:----------------------------:|:---------:|\n",
        "| 131        |   652                        | 0.15%\n",
        "|  22        | 1,228                        | 0.08%\n",
        "|  61        | 1,084                        | 0.09%\n",
        "|  73        | 1,099                        | 0.09%\n",
        "|  39        | 1,212                        | 0.08%"
      ]
    },
    {
      "cell_type": "code",
      "metadata": {
        "id": "m5MTNuUu3Ckn"
      },
      "source": [
        "most_offenders_list = most_offenders.index.to_numpy()\n",
        "location_of_most_offenders = co_off[co_off['crime_code'].isin(most_offenders_list)]"
      ],
      "execution_count": 12,
      "outputs": []
    },
    {
      "cell_type": "code",
      "metadata": {
        "colab": {
          "base_uri": "https://localhost:8080/",
          "height": 255
        },
        "id": "n2KbGROdB6YW",
        "outputId": "f5075a5c-b196-445b-fdbb-d51020b146b4"
      },
      "source": [
        "location_of_most_offenders.groupby(by=['crime_code', 'county']).count().sort_values(by='offender_id').iloc[-5:]"
      ],
      "execution_count": 13,
      "outputs": [
        {
          "output_type": "execute_result",
          "data": {
            "text/html": [
              "<div>\n",
              "<style scoped>\n",
              "    .dataframe tbody tr th:only-of-type {\n",
              "        vertical-align: middle;\n",
              "    }\n",
              "\n",
              "    .dataframe tbody tr th {\n",
              "        vertical-align: top;\n",
              "    }\n",
              "\n",
              "    .dataframe thead th {\n",
              "        text-align: right;\n",
              "    }\n",
              "</style>\n",
              "<table border=\"1\" class=\"dataframe\">\n",
              "  <thead>\n",
              "    <tr style=\"text-align: right;\">\n",
              "      <th></th>\n",
              "      <th></th>\n",
              "      <th>offender_id</th>\n",
              "      <th>event_id</th>\n",
              "      <th>adults</th>\n",
              "      <th>date</th>\n",
              "      <th>minors</th>\n",
              "      <th>sex</th>\n",
              "      <th>year</th>\n",
              "      <th>location</th>\n",
              "    </tr>\n",
              "    <tr>\n",
              "      <th>crime_code</th>\n",
              "      <th>county</th>\n",
              "      <th></th>\n",
              "      <th></th>\n",
              "      <th></th>\n",
              "      <th></th>\n",
              "      <th></th>\n",
              "      <th></th>\n",
              "      <th></th>\n",
              "      <th></th>\n",
              "    </tr>\n",
              "  </thead>\n",
              "  <tbody>\n",
              "    <tr>\n",
              "      <th>39</th>\n",
              "      <th>682</th>\n",
              "      <td>21698</td>\n",
              "      <td>21698</td>\n",
              "      <td>21698</td>\n",
              "      <td>21698</td>\n",
              "      <td>21698</td>\n",
              "      <td>21698</td>\n",
              "      <td>21698</td>\n",
              "      <td>21698</td>\n",
              "    </tr>\n",
              "    <tr>\n",
              "      <th>73</th>\n",
              "      <th>682</th>\n",
              "      <td>23743</td>\n",
              "      <td>23743</td>\n",
              "      <td>23743</td>\n",
              "      <td>23743</td>\n",
              "      <td>23743</td>\n",
              "      <td>23743</td>\n",
              "      <td>23743</td>\n",
              "      <td>23743</td>\n",
              "    </tr>\n",
              "    <tr>\n",
              "      <th>61</th>\n",
              "      <th>682</th>\n",
              "      <td>24101</td>\n",
              "      <td>24101</td>\n",
              "      <td>24101</td>\n",
              "      <td>24101</td>\n",
              "      <td>24101</td>\n",
              "      <td>24101</td>\n",
              "      <td>24101</td>\n",
              "      <td>24101</td>\n",
              "    </tr>\n",
              "    <tr>\n",
              "      <th>22</th>\n",
              "      <th>682</th>\n",
              "      <td>28247</td>\n",
              "      <td>28247</td>\n",
              "      <td>28247</td>\n",
              "      <td>28247</td>\n",
              "      <td>28247</td>\n",
              "      <td>28247</td>\n",
              "      <td>28247</td>\n",
              "      <td>28247</td>\n",
              "    </tr>\n",
              "    <tr>\n",
              "      <th>131</th>\n",
              "      <th>682</th>\n",
              "      <td>84952</td>\n",
              "      <td>84952</td>\n",
              "      <td>84952</td>\n",
              "      <td>84952</td>\n",
              "      <td>84952</td>\n",
              "      <td>84952</td>\n",
              "      <td>84952</td>\n",
              "      <td>84952</td>\n",
              "    </tr>\n",
              "  </tbody>\n",
              "</table>\n",
              "</div>"
            ],
            "text/plain": [
              "                   offender_id  event_id  adults  ...    sex   year  location\n",
              "crime_code county                                 ...                        \n",
              "39         682           21698     21698   21698  ...  21698  21698     21698\n",
              "73         682           23743     23743   23743  ...  23743  23743     23743\n",
              "61         682           24101     24101   24101  ...  24101  24101     24101\n",
              "22         682           28247     28247   28247  ...  28247  28247     28247\n",
              "131        682           84952     84952   84952  ...  84952  84952     84952\n",
              "\n",
              "[5 rows x 8 columns]"
            ]
          },
          "metadata": {},
          "execution_count": 13
        }
      ]
    },
    {
      "cell_type": "code",
      "metadata": {
        "colab": {
          "base_uri": "https://localhost:8080/"
        },
        "id": "OI5cGZclELh6",
        "outputId": "20661f98-88f4-4478-ef18-b2a548e67216"
      },
      "source": [
        "for crime in most_offenders_list:\n",
        "  data = location_of_most_offenders[location_of_most_offenders['crime_code'] == crime]\n",
        "  number_of_counties = data['county'].unique().size\n",
        "  print(f\"Crime code {crime} occured in {number_of_counties} different counties.\")"
      ],
      "execution_count": 14,
      "outputs": [
        {
          "output_type": "stream",
          "name": "stdout",
          "text": [
            "Crime code 22 occured in 1228 different counties.\n",
            "Crime code 131 occured in 652 different counties.\n",
            "Crime code 61 occured in 1084 different counties.\n",
            "Crime code 39 occured in 1212 different counties.\n",
            "Crime code 73 occured in 1099 different counties.\n"
          ]
        }
      ]
    },
    {
      "cell_type": "code",
      "metadata": {
        "colab": {
          "base_uri": "https://localhost:8080/",
          "height": 1000
        },
        "id": "nO15o85g4ORY",
        "outputId": "8727cc46-5c92-4e7c-81f9-2666644167b7"
      },
      "source": [
        "# Axis offsets\n",
        "offset_x = 50\n",
        "\n",
        "# yticks dict\n",
        "yticks_dict = { 22 : ([ 5000 * k for k in range(7)], 1500),\n",
        "               131 : ([15000 * k for k in range(7)], 5000),\n",
        "                61 : ([ 5000 * k for k in range(6)], 2000),\n",
        "                39 : ([ 5000 * k for k in range(6)], 1000),\n",
        "                73 : ([ 5000 * k for k in range(6)], 1000)\n",
        "              }\n",
        "\n",
        "for crime in most_offenders_list:\n",
        "  # Initialize figure\n",
        "  fig, ax = plt.subplots()\n",
        "\n",
        "  # Draw histplot using offender_id count as y-axis\n",
        "  data = location_of_most_offenders[location_of_most_offenders['crime_code'] == crime]\n",
        "  sns.histplot(data, x='county')\n",
        "\n",
        "  # Set xticks\n",
        "  xticks = [150 * k for k in range(10)]\n",
        "  xlabels = xticks\n",
        "\n",
        "  plt.xticks(ticks=xticks, labels=xlabels, rotation=0, horizontalalignment = 'center')\n",
        "  plt.xlim(xticks[0] - offset_x, xticks[-1] + offset_x)\n",
        "\n",
        "  # Set yticks\n",
        "  yticks, offset_y = yticks_dict[crime]\n",
        "  ylabels = yticks\n",
        "\n",
        "  plt.yticks(yticks, ylabels)\n",
        "  plt.ylim(yticks[0] - offset_y, yticks[-1] + offset_y)\n",
        "\n",
        "  # Set axis titles\n",
        "  plt.xlabel(\"County code\")\n",
        "  plt.ylabel(\"Number of offenders\")\n",
        "\n",
        "  # Set title\n",
        "  plt.title(f\"Crime code = {crime}\")\n",
        "\n",
        "  fig.show()"
      ],
      "execution_count": 15,
      "outputs": [
        {
          "output_type": "display_data",
          "data": {
            "image/png": "[encoded data removed]",
            "text/plain": [
              "<Figure size 432x288 with 1 Axes>"
            ]
          },
          "metadata": {
            "needs_background": "light"
          }
        },
        {
          "output_type": "display_data",
          "data": {
            "image/png": "[encoded data removed]",
            "text/plain": [
              "<Figure size 432x288 with 1 Axes>"
            ]
          },
          "metadata": {
            "needs_background": "light"
          }
        },
        {
          "output_type": "display_data",
          "data": {
            "image/png": "[encoded data removed]",
            "text/plain": [
              "<Figure size 432x288 with 1 Axes>"
            ]
          },
          "metadata": {
            "needs_background": "light"
          }
        },
        {
          "output_type": "display_data",
          "data": {
            "image/png": "[encoded data removed]",
            "text/plain": [
              "<Figure size 432x288 with 1 Axes>"
            ]
          },
          "metadata": {
            "needs_background": "light"
          }
        },
        {
          "output_type": "display_data",
          "data": {
            "image/png": "[encoded data removed]",
            "text/plain": [
              "<Figure size 432x288 with 1 Axes>"
            ]
          },
          "metadata": {
            "needs_background": "light"
          }
        }
      ]
    },
    {
      "cell_type": "markdown",
      "metadata": {
        "id": "xakUtriWK7cc"
      },
      "source": [
        "## Build co-offending network"
      ]
    },
    {
      "cell_type": "code",
      "metadata": {
        "id": "kPn-XZhZkEZ0"
      },
      "source": [
        "# Initialize parameters\n",
        "number_of_offenders = co_off['offender_id'].unique().size\n",
        "\n",
        "# Initialize network as sparse DoK matrix\n",
        "co_off_network = scipy.sparse.dok_matrix((number_of_offenders,number_of_offenders), dtype='int')"
      ],
      "execution_count": 62,
      "outputs": []
    },
    {
      "cell_type": "code",
      "metadata": {
        "colab": {
          "base_uri": "https://localhost:8080/"
        },
        "id": "HOgNKIdofZT7",
        "outputId": "74b39b07-ea16-4c85-fd29-1419cf328266"
      },
      "source": [
        "# Restrict dataset to relevant variables\n",
        "co_off2 = co_off[['offender_id', 'event_id']]\n",
        "\n",
        "# Create variable to easily restrict construction to events with more than 1 offender\n",
        "with warnings()\n",
        "co_off2.loc[:,'total_event_offenders'] = co_off2.groupby('event_id')['event_id'].transform('count')\n",
        "\n",
        "# Restrict sample to events with more than 1 offender\n",
        "co_off2 = co_off2[co_off2['total_event_offenders'] > 1]"
      ],
      "execution_count": 55,
      "outputs": [
        {
          "output_type": "stream",
          "name": "stderr",
          "text": [
            "/usr/local/lib/python3.7/dist-packages/pandas/core/indexing.py:1596: SettingWithCopyWarning: \n",
            "A value is trying to be set on a copy of a slice from a DataFrame.\n",
            "Try using .loc[row_indexer,col_indexer] = value instead\n",
            "\n",
            "See the caveats in the documentation: https://pandas.pydata.org/pandas-docs/stable/user_guide/indexing.html#returning-a-view-versus-a-copy\n",
            "  self.obj[key] = _infer_fill_value(value)\n",
            "/usr/local/lib/python3.7/dist-packages/pandas/core/indexing.py:1743: SettingWithCopyWarning: \n",
            "A value is trying to be set on a copy of a slice from a DataFrame.\n",
            "Try using .loc[row_indexer,col_indexer] = value instead\n",
            "\n",
            "See the caveats in the documentation: https://pandas.pydata.org/pandas-docs/stable/user_guide/indexing.html#returning-a-view-versus-a-copy\n",
            "  isetter(ilocs[0], value)\n"
          ]
        }
      ]
    },
    {
      "cell_type": "code",
      "metadata": {
        "colab": {
          "base_uri": "https://localhost:8080/",
          "height": 49,
          "referenced_widgets": [
            "1c8e67ad2b544346a3c3d2ab3bec8381",
            "293627c423a14f0da157c8819584ccde",
            "93e30f969a19405aa518d9d35e6c1265",
            "8df4764f46a4464198ad2ba879df56dd",
            "cd78ee304b6948e8b32615cd6bdc1b21",
            "73334d86834d46deb06f42aa228ab934",
            "feb03e6b790b4761a32aa845184756cf",
            "3441910b6a174cab817f73d93ca96f17",
            "e515a4a587f54df390f32a2fc4da0c52",
            "2c6cf508b60e4d3682518b483982e0dd",
            "6203f2b534fa4bd9ad6ec37b95bf812a"
          ]
        },
        "id": "gOSM5lhYK-lp",
        "outputId": "08b09098-835f-44df-a6ee-326ce614ee1b"
      },
      "source": [
        "# Obtain crime events\n",
        "crime_events = co_off2['event_id'].unique()\n",
        "\n",
        "# Loop over the crime events\n",
        "for event in tqdm(crime_events):\n",
        "\n",
        "  # Restrict dataset to current event_id\n",
        "  event_data = co_off2[co_off2['event_id'] == event] \n",
        "\n",
        "  # Obtain list of offenders\n",
        "  offenders = event_data['offender_id'].to_numpy()\n",
        "\n",
        "  # Cycle through offenders to increase by 1 their co-offending weight\n",
        "  for i,offender_i in enumerate(offenders):\n",
        "    for offender_j in offenders[i+1:]:\n",
        "      co_off_network[offender_i, offender_j] += 1\n",
        "      co_off_network[offender_j, offender_i] += 1"
      ],
      "execution_count": null,
      "outputs": [
        {
          "output_type": "display_data",
          "data": {
            "application/vnd.jupyter.widget-view+json": {
              "model_id": "1c8e67ad2b544346a3c3d2ab3bec8381",
              "version_minor": 0,
              "version_major": 2
            },
            "text/plain": [
              "  0%|          | 0/192052 [00:00<?, ?it/s]"
            ]
          },
          "metadata": {}
        }
      ]
    },
    {
      "cell_type": "code",
      "metadata": {
        "id": "bZGoWbyQaxvv"
      },
      "source": [
        "# Obtain weighted edges\n",
        "network_edges = list(co_off_network.keys())\n",
        "\n",
        "# Show number of edges before pruning for those with degree >= 2\n",
        "print(f\"There are a total of {len(co_off_network.keys())//2} edges.\")\n",
        "\n",
        "# Eliminate the entries with degree equal 1\n",
        "for i,j in tqdm(network_edges):\n",
        "  if co_off_network[i,j] <= 1:\n",
        "    co_off_network[i,j] = 0\n",
        "\n",
        "# Print new edges\n",
        "# Show number of edges before pruning for those with degree >= 2\n",
        "print(f\"There are a total of {len(co_off_network.keys())//2} edges.\")\n"
      ],
      "execution_count": null,
      "outputs": []
    },
    {
      "cell_type": "markdown",
      "metadata": {
        "id": "k5-Ma7R3VeIc"
      },
      "source": [
        "## (e)"
      ]
    },
    {
      "cell_type": "markdown",
      "metadata": {
        "id": "USmiOYMzVe5p"
      },
      "source": [
        "## (f)"
      ]
    },
    {
      "cell_type": "markdown",
      "metadata": {
        "id": "Kuo43NWdVfct"
      },
      "source": [
        "## (g)"
      ]
    },
    {
      "cell_type": "markdown",
      "metadata": {
        "id": "Zzv42eUAVg6u"
      },
      "source": [
        "## (h)"
      ]
    },
    {
      "cell_type": "markdown",
      "metadata": {
        "id": "3y9jwVTMVhpG"
      },
      "source": [
        "## (i)"
      ]
    },
    {
      "cell_type": "markdown",
      "metadata": {
        "id": "KZ4hcVgDVjMl"
      },
      "source": [
        "## (j)"
      ]
    },
    {
      "cell_type": "markdown",
      "metadata": {
        "id": "COkEbQyDVj1e"
      },
      "source": [
        "## (k)"
      ]
    },
    {
      "cell_type": "markdown",
      "metadata": {
        "id": "YIjXCz-mVkHF"
      },
      "source": [
        "## (l)"
      ]
    },
    {
      "cell_type": "markdown",
      "metadata": {
        "id": "hTL7sYwwVln0"
      },
      "source": [
        "## (m)"
      ]
    }
  ]
}