{
  "nbformat": 4,
  "nbformat_minor": 0,
  "metadata": {
    "colab": {
      "name": "6.439 - Problem Set 3.ipynb",
      "provenance": [],
      "authorship_tag": "ABX9TyMcrZ7XyJ1Uz5FGs4S3tZ5y",
      "include_colab_link": true
    },
    "kernelspec": {
      "name": "python3",
      "display_name": "Python 3"
    },
    "language_info": {
      "name": "python"
    }
  },
  "cells": [
    {
      "cell_type": "markdown",
      "metadata": {
        "id": "view-in-github",
        "colab_type": "text"
      },
      "source": [
        "<a href=\"https://colab.research.google.com/github/pipeton8/6.439-stats-comp-applications/blob/main/Assignments/3%20-%20Economics/6.439%20-%20Problem%20Set%203.ipynb\" target=\"_parent\"><img src=\"https://colab.research.google.com/assets/colab-badge.svg\" alt=\"Open In Colab\"/></a>"
      ]
    },
    {
      "cell_type": "markdown",
      "metadata": {
        "id": "zQZiu5Rr0ywL"
      },
      "source": [
        "# Problem Set 3 - Statistics, Computation and Applications\n",
        "\n",
        "(c) Felipe del Canto, October 2021\n",
        "***\n",
        "***"
      ]
    }
  ]
}