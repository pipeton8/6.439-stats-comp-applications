{
  "nbformat": 4,
  "nbformat_minor": 0,
  "metadata": {
    "colab": {
      "name": "6.439 - Problem Set 3.ipynb",
      "provenance": [],
      "toc_visible": true,
      "authorship_tag": "ABX9TyOfyQb8gRK4wpDCPLEaOD5h",
      "include_colab_link": true
    },
    "kernelspec": {
      "name": "python3",
      "display_name": "Python 3"
    },
    "language_info": {
      "name": "python"
    }
  },
  "cells": [
    {
      "cell_type": "markdown",
      "metadata": {
        "id": "view-in-github",
        "colab_type": "text"
      },
      "source": [
        "<a href=\"https://colab.research.google.com/github/pipeton8/6.439-stats-comp-applications/blob/main/Assignments/3%20-%20Economics/6.439%20-%20Problem%20Set%203.ipynb\" target=\"_parent\"><img src=\"https://colab.research.google.com/assets/colab-badge.svg\" alt=\"Open In Colab\"/></a>"
      ]
    },
    {
      "cell_type": "markdown",
      "metadata": {
        "id": "zQZiu5Rr0ywL"
      },
      "source": [
        "# Problem Set 3 - Statistics, Computation and Applications\n",
        "\n",
        "(c) Felipe del Canto, October 2021\n",
        "***\n",
        "***"
      ]
    },
    {
      "cell_type": "markdown",
      "metadata": {
        "id": "LpSk2ccJi4kO"
      },
      "source": [
        "# Part 0 (Execute first!)"
      ]
    },
    {
      "cell_type": "code",
      "metadata": {
        "id": "egFlocZLi6Zk"
      },
      "source": [
        "from IPython.display import clear_output\n",
        "\n",
        "# Download files\n",
        "!wget https://github.com/pipeton8/6.439-stats-comp-applications/raw/main/Assignments/databases/PS3_data.zip\n",
        "\n",
        "# Unzip\n",
        "!unzip -o PS3_data.zip\n",
        "!rm *.z* -r __MACOSX\n",
        "\n",
        "# Clear output\n",
        "clear_output()\n",
        "\n",
        "# Import packages\n",
        "import numpy as np\n",
        "import pandas as pd\n",
        "pd.options.display.float_format = '{:.2f}'.format\n",
        "\n",
        "import seaborn as sns\n",
        "import matplotlib.pyplot as plt\n",
        "\n",
        "from tqdm.auto import tqdm, trange\n",
        "\n",
        "import statsmodels.api         as sm\n",
        "import statsmodels.formula.api as smf"
      ],
      "execution_count": 27,
      "outputs": []
    },
    {
      "cell_type": "markdown",
      "metadata": {
        "id": "xhudcvf1ifd-"
      },
      "source": [
        "# Part 1"
      ]
    },
    {
      "cell_type": "markdown",
      "metadata": {
        "id": "8erdBuN3iggK"
      },
      "source": [
        "## Problem 3.1: The Manua Loa $\\text{CO}_2$ concentration."
      ]
    },
    {
      "cell_type": "code",
      "metadata": {
        "id": "5vVEBDevjBDQ"
      },
      "source": [
        "# Write column names\n",
        "old_colnames = ['year', 'month', 'date_excel', 'date_num', 'co2',\n",
        "            'co2_season_adj', # season adjusted using substracting 4-harmonic fit\n",
        "            'co2_fit',        # cubic spline\n",
        "            'co2_season_adj_fit', # fit substracting season adj\n",
        "            'co2_filled',         # filled with co2_fit\n",
        "            'co2_season_adj_filled'] # season adjusted column filled with co2_season_adj_fit\n",
        "\n",
        "# Load data\n",
        "co2_data = pd.read_csv('CO2Data.csv',index_col=False, names=old_colnames, skiprows=59)\n",
        "\n",
        "# Replace missing values with NANs\n",
        "missing_value_code = -99.99\n",
        "co2_data.replace(to_replace = missing_value_code, value=pd.NA, inplace=True)\n",
        "\n",
        "# Create date variable\n",
        "co2_data['date'] = co2_data['year'].apply(str) + \"/\" + co2_data['month']. apply(str) + \"/15\"\n",
        "co2_data['date'] = pd.to_datetime(co2_data['date'], format=\"%Y/%m/%d\")\n",
        "# co2_data.set_index('date', inplace=True)\n",
        "\n",
        "# Delete date_excel and date_num columns\n",
        "colnames = ['date'] + [colname for colname in old_colnames if colname.find(\"date\") == -1]\n",
        "co2_data = co2_data[colnames]"
      ],
      "execution_count": 135,
      "outputs": []
    },
    {
      "cell_type": "code",
      "metadata": {
        "id": "oxmx32GYlh4O",
        "outputId": "e7efe87d-1961-41dd-ef47-d8862f369bda",
        "colab": {
          "base_uri": "https://localhost:8080/",
          "height": 297
        }
      },
      "source": [
        "co2_data.describe(include='all')"
      ],
      "execution_count": 100,
      "outputs": [
        {
          "output_type": "execute_result",
          "data": {
            "text/html": [
              "<div>\n",
              "<style scoped>\n",
              "    .dataframe tbody tr th:only-of-type {\n",
              "        vertical-align: middle;\n",
              "    }\n",
              "\n",
              "    .dataframe tbody tr th {\n",
              "        vertical-align: top;\n",
              "    }\n",
              "\n",
              "    .dataframe thead th {\n",
              "        text-align: right;\n",
              "    }\n",
              "</style>\n",
              "<table border=\"1\" class=\"dataframe\">\n",
              "  <thead>\n",
              "    <tr style=\"text-align: right;\">\n",
              "      <th></th>\n",
              "      <th>year</th>\n",
              "      <th>month</th>\n",
              "      <th>co2</th>\n",
              "      <th>co2_season_adj</th>\n",
              "      <th>co2_fit</th>\n",
              "      <th>co2_season_adj_fit</th>\n",
              "      <th>co2_filled</th>\n",
              "      <th>co2_season_adj_filled</th>\n",
              "    </tr>\n",
              "  </thead>\n",
              "  <tbody>\n",
              "    <tr>\n",
              "      <th>count</th>\n",
              "      <td>706.00</td>\n",
              "      <td>706.00</td>\n",
              "      <td>698.00</td>\n",
              "      <td>698.00</td>\n",
              "      <td>703.00</td>\n",
              "      <td>703.00</td>\n",
              "      <td>703.00</td>\n",
              "      <td>703.00</td>\n",
              "    </tr>\n",
              "    <tr>\n",
              "      <th>mean</th>\n",
              "      <td>1987.08</td>\n",
              "      <td>6.51</td>\n",
              "      <td>352.00</td>\n",
              "      <td>351.99</td>\n",
              "      <td>351.76</td>\n",
              "      <td>351.74</td>\n",
              "      <td>351.76</td>\n",
              "      <td>351.75</td>\n",
              "    </tr>\n",
              "    <tr>\n",
              "      <th>std</th>\n",
              "      <td>17.00</td>\n",
              "      <td>3.45</td>\n",
              "      <td>25.96</td>\n",
              "      <td>25.87</td>\n",
              "      <td>26.02</td>\n",
              "      <td>25.94</td>\n",
              "      <td>26.02</td>\n",
              "      <td>25.94</td>\n",
              "    </tr>\n",
              "    <tr>\n",
              "      <th>min</th>\n",
              "      <td>1958.00</td>\n",
              "      <td>1.00</td>\n",
              "      <td>313.21</td>\n",
              "      <td>314.42</td>\n",
              "      <td>312.44</td>\n",
              "      <td>314.90</td>\n",
              "      <td>312.44</td>\n",
              "      <td>314.42</td>\n",
              "    </tr>\n",
              "    <tr>\n",
              "      <th>25%</th>\n",
              "      <td>1972.00</td>\n",
              "      <td>4.00</td>\n",
              "      <td>328.48</td>\n",
              "      <td>328.93</td>\n",
              "      <td>328.32</td>\n",
              "      <td>328.19</td>\n",
              "      <td>328.11</td>\n",
              "      <td>328.28</td>\n",
              "    </tr>\n",
              "    <tr>\n",
              "      <th>50%</th>\n",
              "      <td>1987.00</td>\n",
              "      <td>7.00</td>\n",
              "      <td>349.53</td>\n",
              "      <td>349.54</td>\n",
              "      <td>349.30</td>\n",
              "      <td>348.85</td>\n",
              "      <td>348.96</td>\n",
              "      <td>348.76</td>\n",
              "    </tr>\n",
              "    <tr>\n",
              "      <th>75%</th>\n",
              "      <td>2002.00</td>\n",
              "      <td>9.75</td>\n",
              "      <td>372.76</td>\n",
              "      <td>372.27</td>\n",
              "      <td>372.24</td>\n",
              "      <td>372.09</td>\n",
              "      <td>372.28</td>\n",
              "      <td>372.15</td>\n",
              "    </tr>\n",
              "    <tr>\n",
              "      <th>max</th>\n",
              "      <td>2016.00</td>\n",
              "      <td>12.00</td>\n",
              "      <td>407.65</td>\n",
              "      <td>404.73</td>\n",
              "      <td>407.23</td>\n",
              "      <td>404.62</td>\n",
              "      <td>407.65</td>\n",
              "      <td>404.73</td>\n",
              "    </tr>\n",
              "  </tbody>\n",
              "</table>\n",
              "</div>"
            ],
            "text/plain": [
              "         year  month  ...  co2_filled  co2_season_adj_filled\n",
              "count  706.00 706.00  ...      703.00                 703.00\n",
              "mean  1987.08   6.51  ...      351.76                 351.75\n",
              "std     17.00   3.45  ...       26.02                  25.94\n",
              "min   1958.00   1.00  ...      312.44                 314.42\n",
              "25%   1972.00   4.00  ...      328.11                 328.28\n",
              "50%   1987.00   7.00  ...      348.96                 348.76\n",
              "75%   2002.00   9.75  ...      372.28                 372.15\n",
              "max   2016.00  12.00  ...      407.65                 404.73\n",
              "\n",
              "[8 rows x 8 columns]"
            ]
          },
          "metadata": {},
          "execution_count": 100
        }
      ]
    },
    {
      "cell_type": "code",
      "metadata": {
        "id": "fyUu1bNnnkKh",
        "outputId": "1762492b-c72e-47fe-8043-407ceaad5379",
        "colab": {
          "base_uri": "https://localhost:8080/",
          "height": 204
        }
      },
      "source": [
        "co2_data.head()"
      ],
      "execution_count": 136,
      "outputs": [
        {
          "output_type": "execute_result",
          "data": {
            "text/html": [
              "<div>\n",
              "<style scoped>\n",
              "    .dataframe tbody tr th:only-of-type {\n",
              "        vertical-align: middle;\n",
              "    }\n",
              "\n",
              "    .dataframe tbody tr th {\n",
              "        vertical-align: top;\n",
              "    }\n",
              "\n",
              "    .dataframe thead th {\n",
              "        text-align: right;\n",
              "    }\n",
              "</style>\n",
              "<table border=\"1\" class=\"dataframe\">\n",
              "  <thead>\n",
              "    <tr style=\"text-align: right;\">\n",
              "      <th></th>\n",
              "      <th>date</th>\n",
              "      <th>year</th>\n",
              "      <th>month</th>\n",
              "      <th>co2</th>\n",
              "      <th>co2_season_adj</th>\n",
              "      <th>co2_fit</th>\n",
              "      <th>co2_season_adj_fit</th>\n",
              "      <th>co2_filled</th>\n",
              "      <th>co2_season_adj_filled</th>\n",
              "    </tr>\n",
              "  </thead>\n",
              "  <tbody>\n",
              "    <tr>\n",
              "      <th>0</th>\n",
              "      <td>1958-03-15</td>\n",
              "      <td>1958</td>\n",
              "      <td>3</td>\n",
              "      <td>315.69</td>\n",
              "      <td>314.42</td>\n",
              "      <td>316.17</td>\n",
              "      <td>314.90</td>\n",
              "      <td>315.69</td>\n",
              "      <td>314.42</td>\n",
              "    </tr>\n",
              "    <tr>\n",
              "      <th>1</th>\n",
              "      <td>1958-04-15</td>\n",
              "      <td>1958</td>\n",
              "      <td>4</td>\n",
              "      <td>317.45</td>\n",
              "      <td>315.15</td>\n",
              "      <td>317.28</td>\n",
              "      <td>314.98</td>\n",
              "      <td>317.45</td>\n",
              "      <td>315.15</td>\n",
              "    </tr>\n",
              "    <tr>\n",
              "      <th>2</th>\n",
              "      <td>1958-05-15</td>\n",
              "      <td>1958</td>\n",
              "      <td>5</td>\n",
              "      <td>317.50</td>\n",
              "      <td>314.74</td>\n",
              "      <td>317.83</td>\n",
              "      <td>315.06</td>\n",
              "      <td>317.50</td>\n",
              "      <td>314.74</td>\n",
              "    </tr>\n",
              "    <tr>\n",
              "      <th>3</th>\n",
              "      <td>1958-06-15</td>\n",
              "      <td>1958</td>\n",
              "      <td>6</td>\n",
              "      <td>nan</td>\n",
              "      <td>nan</td>\n",
              "      <td>317.24</td>\n",
              "      <td>315.14</td>\n",
              "      <td>317.24</td>\n",
              "      <td>315.14</td>\n",
              "    </tr>\n",
              "    <tr>\n",
              "      <th>4</th>\n",
              "      <td>1958-07-15</td>\n",
              "      <td>1958</td>\n",
              "      <td>7</td>\n",
              "      <td>315.86</td>\n",
              "      <td>315.17</td>\n",
              "      <td>315.90</td>\n",
              "      <td>315.21</td>\n",
              "      <td>315.86</td>\n",
              "      <td>315.17</td>\n",
              "    </tr>\n",
              "  </tbody>\n",
              "</table>\n",
              "</div>"
            ],
            "text/plain": [
              "        date  year  ...  co2_filled  co2_season_adj_filled\n",
              "0 1958-03-15  1958  ...      315.69                 314.42\n",
              "1 1958-04-15  1958  ...      317.45                 315.15\n",
              "2 1958-05-15  1958  ...      317.50                 314.74\n",
              "3 1958-06-15  1958  ...      317.24                 315.14\n",
              "4 1958-07-15  1958  ...      315.86                 315.17\n",
              "\n",
              "[5 rows x 9 columns]"
            ]
          },
          "metadata": {},
          "execution_count": 136
        }
      ]
    },
    {
      "cell_type": "markdown",
      "metadata": {
        "id": "JdK8OMxHiovo"
      },
      "source": [
        "### (a)"
      ]
    },
    {
      "cell_type": "code",
      "metadata": {
        "id": "Xbp_MYGhrXck"
      },
      "source": [
        "co2_data['t'] = co2_data.index + 1"
      ],
      "execution_count": 137,
      "outputs": []
    },
    {
      "cell_type": "code",
      "metadata": {
        "id": "wUrqMoa1omWI",
        "outputId": "b843d2f5-38c3-49f8-dfba-49ae84a6658b",
        "colab": {
          "base_uri": "https://localhost:8080/"
        }
      },
      "source": [
        "ols_a = smf.ols(formula='co2 ~ t', data=co2_data, missing='drop', hasconst=False).fit()\n",
        "print(ols_a.summary())"
      ],
      "execution_count": 142,
      "outputs": [
        {
          "output_type": "stream",
          "name": "stdout",
          "text": [
            "                                 OLS Regression Results                                \n",
            "=======================================================================================\n",
            "Dep. Variable:                    co2   R-squared (uncentered):                   1.000\n",
            "Model:                            OLS   Adj. R-squared (uncentered):              1.000\n",
            "Method:                 Least Squares   F-statistic:                          2.885e+06\n",
            "Date:                Tue, 19 Oct 2021   Prob (F-statistic):                        0.00\n",
            "Time:                        14:07:20   Log-Likelihood:                         -1936.2\n",
            "No. Observations:                 698   AIC:                                      3876.\n",
            "Df Residuals:                     696   BIC:                                      3885.\n",
            "Df Model:                           2                                                  \n",
            "Covariance Type:            nonrobust                                                  \n",
            "==============================================================================\n",
            "                 coef    std err          t      P>|t|      [0.025      0.975]\n",
            "------------------------------------------------------------------------------\n",
            "Intercept    307.0211      0.297   1035.047      0.000     306.439     307.603\n",
            "t              0.1270      0.001    174.566      0.000       0.126       0.128\n",
            "==============================================================================\n",
            "Omnibus:                       28.823   Durbin-Watson:                   0.104\n",
            "Prob(Omnibus):                  0.000   Jarque-Bera (JB):               31.507\n",
            "Skew:                           0.512   Prob(JB):                     1.44e-07\n",
            "Kurtosis:                       2.810   Cond. No.                         823.\n",
            "==============================================================================\n",
            "\n",
            "Warnings:\n",
            "[1] Standard Errors assume that the covariance matrix of the errors is correctly specified.\n"
          ]
        }
      ]
    },
    {
      "cell_type": "code",
      "metadata": {
        "id": "Rgpjd-8H36Gq",
        "outputId": "54b28122-09eb-4ecf-80c6-278b23592e69",
        "colab": {
          "base_uri": "https://localhost:8080/"
        }
      },
      "source": [
        "co2_data['co2_pred'] = pd.NA\n",
        "co2_data['co2_pred'][~co2_data['co2'].isna()] = ols_a.predict()"
      ],
      "execution_count": 143,
      "outputs": [
        {
          "output_type": "stream",
          "name": "stderr",
          "text": [
            "/usr/local/lib/python3.7/dist-packages/ipykernel_launcher.py:2: SettingWithCopyWarning: \n",
            "A value is trying to be set on a copy of a slice from a DataFrame\n",
            "\n",
            "See the caveats in the documentation: https://pandas.pydata.org/pandas-docs/stable/user_guide/indexing.html#returning-a-view-versus-a-copy\n",
            "  \n"
          ]
        }
      ]
    },
    {
      "cell_type": "code",
      "metadata": {
        "id": "H4XqsXnFzo2-",
        "outputId": "15c2eeed-d3e7-42c1-b7ee-c66508cf5059",
        "colab": {
          "base_uri": "https://localhost:8080/",
          "height": 204
        }
      },
      "source": [
        "co2_data.head()"
      ],
      "execution_count": 144,
      "outputs": [
        {
          "output_type": "execute_result",
          "data": {
            "text/html": [
              "<div>\n",
              "<style scoped>\n",
              "    .dataframe tbody tr th:only-of-type {\n",
              "        vertical-align: middle;\n",
              "    }\n",
              "\n",
              "    .dataframe tbody tr th {\n",
              "        vertical-align: top;\n",
              "    }\n",
              "\n",
              "    .dataframe thead th {\n",
              "        text-align: right;\n",
              "    }\n",
              "</style>\n",
              "<table border=\"1\" class=\"dataframe\">\n",
              "  <thead>\n",
              "    <tr style=\"text-align: right;\">\n",
              "      <th></th>\n",
              "      <th>date</th>\n",
              "      <th>year</th>\n",
              "      <th>month</th>\n",
              "      <th>co2</th>\n",
              "      <th>co2_season_adj</th>\n",
              "      <th>co2_fit</th>\n",
              "      <th>co2_season_adj_fit</th>\n",
              "      <th>co2_filled</th>\n",
              "      <th>co2_season_adj_filled</th>\n",
              "      <th>t</th>\n",
              "      <th>co2_pred</th>\n",
              "    </tr>\n",
              "  </thead>\n",
              "  <tbody>\n",
              "    <tr>\n",
              "      <th>0</th>\n",
              "      <td>1958-03-15</td>\n",
              "      <td>1958</td>\n",
              "      <td>3</td>\n",
              "      <td>315.69</td>\n",
              "      <td>314.42</td>\n",
              "      <td>316.17</td>\n",
              "      <td>314.90</td>\n",
              "      <td>315.69</td>\n",
              "      <td>314.42</td>\n",
              "      <td>1</td>\n",
              "      <td>307.15</td>\n",
              "    </tr>\n",
              "    <tr>\n",
              "      <th>1</th>\n",
              "      <td>1958-04-15</td>\n",
              "      <td>1958</td>\n",
              "      <td>4</td>\n",
              "      <td>317.45</td>\n",
              "      <td>315.15</td>\n",
              "      <td>317.28</td>\n",
              "      <td>314.98</td>\n",
              "      <td>317.45</td>\n",
              "      <td>315.15</td>\n",
              "      <td>2</td>\n",
              "      <td>307.28</td>\n",
              "    </tr>\n",
              "    <tr>\n",
              "      <th>2</th>\n",
              "      <td>1958-05-15</td>\n",
              "      <td>1958</td>\n",
              "      <td>5</td>\n",
              "      <td>317.50</td>\n",
              "      <td>314.74</td>\n",
              "      <td>317.83</td>\n",
              "      <td>315.06</td>\n",
              "      <td>317.50</td>\n",
              "      <td>314.74</td>\n",
              "      <td>3</td>\n",
              "      <td>307.40</td>\n",
              "    </tr>\n",
              "    <tr>\n",
              "      <th>3</th>\n",
              "      <td>1958-06-15</td>\n",
              "      <td>1958</td>\n",
              "      <td>6</td>\n",
              "      <td>nan</td>\n",
              "      <td>nan</td>\n",
              "      <td>317.24</td>\n",
              "      <td>315.14</td>\n",
              "      <td>317.24</td>\n",
              "      <td>315.14</td>\n",
              "      <td>4</td>\n",
              "      <td>&lt;NA&gt;</td>\n",
              "    </tr>\n",
              "    <tr>\n",
              "      <th>4</th>\n",
              "      <td>1958-07-15</td>\n",
              "      <td>1958</td>\n",
              "      <td>7</td>\n",
              "      <td>315.86</td>\n",
              "      <td>315.17</td>\n",
              "      <td>315.90</td>\n",
              "      <td>315.21</td>\n",
              "      <td>315.86</td>\n",
              "      <td>315.17</td>\n",
              "      <td>5</td>\n",
              "      <td>307.66</td>\n",
              "    </tr>\n",
              "  </tbody>\n",
              "</table>\n",
              "</div>"
            ],
            "text/plain": [
              "        date  year  month    co2  ...  co2_filled  co2_season_adj_filled  t  co2_pred\n",
              "0 1958-03-15  1958      3 315.69  ...      315.69                 314.42  1    307.15\n",
              "1 1958-04-15  1958      4 317.45  ...      317.45                 315.15  2    307.28\n",
              "2 1958-05-15  1958      5 317.50  ...      317.50                 314.74  3    307.40\n",
              "3 1958-06-15  1958      6    nan  ...      317.24                 315.14  4      <NA>\n",
              "4 1958-07-15  1958      7 315.86  ...      315.86                 315.17  5    307.66\n",
              "\n",
              "[5 rows x 11 columns]"
            ]
          },
          "metadata": {},
          "execution_count": 144
        }
      ]
    },
    {
      "cell_type": "code",
      "metadata": {
        "id": "tfFciHvOsie2",
        "outputId": "813a4bd9-e84e-472f-fd26-f8e448d7081b",
        "colab": {
          "base_uri": "https://localhost:8080/",
          "height": 279
        }
      },
      "source": [
        "fig, ax = plt.subplots()\n",
        "\n",
        "sns.scatterplot(data=co2_data, x='date', y='co2', label=r'$CO_2$', ax=ax)\n",
        "sns.lineplot(data=co2_data, x='date', y='co2_pred', label='linear fit', color = 'red', ax=ax)\n",
        "\n",
        "# plt.xticks()\n",
        "fig.show()"
      ],
      "execution_count": 152,
      "outputs": [
        {
          "output_type": "display_data",
          "data": {
            "image/png": "[encoded data removed]",
            "text/plain": [
              "<Figure size 432x288 with 1 Axes>"
            ]
          },
          "metadata": {
            "needs_background": "light"
          }
        }
      ]
    },
    {
      "cell_type": "markdown",
      "metadata": {
        "id": "nXdNk46niq24"
      },
      "source": [
        "### (b)"
      ]
    },
    {
      "cell_type": "markdown",
      "metadata": {
        "id": "kIcvfJ0RirjO"
      },
      "source": [
        "### (c)"
      ]
    },
    {
      "cell_type": "markdown",
      "metadata": {
        "id": "zULhrgT0isB_"
      },
      "source": [
        "### (d)"
      ]
    },
    {
      "cell_type": "markdown",
      "metadata": {
        "id": "0stlZrm9isjI"
      },
      "source": [
        "### (e)"
      ]
    },
    {
      "cell_type": "markdown",
      "metadata": {
        "id": "vVld73rriudv"
      },
      "source": [
        "## Problem 3.1: BPP Data Analysis"
      ]
    },
    {
      "cell_type": "markdown",
      "metadata": {
        "id": "y4YjJ5uViudx"
      },
      "source": [
        "### (a)"
      ]
    },
    {
      "cell_type": "markdown",
      "metadata": {
        "id": "0SNsLu6uiudx"
      },
      "source": [
        "### (b)"
      ]
    },
    {
      "cell_type": "markdown",
      "metadata": {
        "id": "idOb5qwPiudx"
      },
      "source": [
        "### (c)"
      ]
    },
    {
      "cell_type": "markdown",
      "metadata": {
        "id": "7Vxt4gL8iudy"
      },
      "source": [
        "### (d)"
      ]
    },
    {
      "cell_type": "markdown",
      "metadata": {
        "id": "WeZYjWo3iudy"
      },
      "source": [
        "### (e)"
      ]
    },
    {
      "cell_type": "markdown",
      "metadata": {
        "id": "4rWsRpBHizoD"
      },
      "source": [
        "### (f)"
      ]
    }
  ]
}