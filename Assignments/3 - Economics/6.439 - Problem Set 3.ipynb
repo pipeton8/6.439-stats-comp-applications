{
  "nbformat": 4,
  "nbformat_minor": 0,
  "metadata": {
    "colab": {
      "name": "6.439 - Problem Set 3.ipynb",
      "provenance": [],
      "toc_visible": true,
      "authorship_tag": "ABX9TyN2yyZ8Cc86kapL0TQaLaqC",
      "include_colab_link": true
    },
    "kernelspec": {
      "name": "python3",
      "display_name": "Python 3"
    },
    "language_info": {
      "name": "python"
    }
  },
  "cells": [
    {
      "cell_type": "markdown",
      "metadata": {
        "id": "view-in-github",
        "colab_type": "text"
      },
      "source": [
        "<a href=\"https://colab.research.google.com/github/pipeton8/6.439-stats-comp-applications/blob/main/Assignments/3%20-%20Economics/6.439%20-%20Problem%20Set%203.ipynb\" target=\"_parent\"><img src=\"https://colab.research.google.com/assets/colab-badge.svg\" alt=\"Open In Colab\"/></a>"
      ]
    },
    {
      "cell_type": "markdown",
      "metadata": {
        "id": "zQZiu5Rr0ywL"
      },
      "source": [
        "# Problem Set 3 - Statistics, Computation and Applications\n",
        "\n",
        "(c) Felipe del Canto, October 2021\n",
        "***\n",
        "***"
      ]
    },
    {
      "cell_type": "markdown",
      "metadata": {
        "id": "LpSk2ccJi4kO"
      },
      "source": [
        "# Part 0 (Execute first!)"
      ]
    },
    {
      "cell_type": "code",
      "metadata": {
        "id": "egFlocZLi6Zk"
      },
      "source": [
        "from IPython.display import clear_output\n",
        "\n",
        "# Download files\n",
        "!wget https://github.com/pipeton8/6.439-stats-comp-applications/raw/main/Assignments/databases/PS3_data.zip\n",
        "\n",
        "# Unzip\n",
        "!unzip -o PS3_data.zip\n",
        "!rm *.z* -r __MACOSX\n",
        "\n",
        "# Clear output\n",
        "clear_output()\n",
        "\n",
        "# Import packages\n",
        "import datetime\n",
        "import numpy as np\n",
        "import pandas as pd\n",
        "pd.options.display.float_format = '{:.2f}'.format\n",
        "\n",
        "import seaborn as sns\n",
        "import matplotlib.pyplot as plt\n",
        "\n",
        "from tqdm.auto import tqdm, trange\n",
        "\n",
        "import statsmodels.api         as sm\n",
        "import statsmodels.formula.api as smf"
      ],
      "execution_count": 153,
      "outputs": []
    },
    {
      "cell_type": "code",
      "metadata": {
        "id": "OgG5eXjT6BQF"
      },
      "source": [
        ""
      ],
      "execution_count": 163,
      "outputs": []
    },
    {
      "cell_type": "markdown",
      "metadata": {
        "id": "xhudcvf1ifd-"
      },
      "source": [
        "# Part 1"
      ]
    },
    {
      "cell_type": "markdown",
      "metadata": {
        "id": "8erdBuN3iggK"
      },
      "source": [
        "## Problem 3.1: The Manua Loa $\\text{CO}_2$ concentration."
      ]
    },
    {
      "cell_type": "code",
      "metadata": {
        "id": "5vVEBDevjBDQ"
      },
      "source": [
        "# Write column names\n",
        "old_colnames = ['year', 'month', 'date_excel', 'date_num', 'co2',\n",
        "            'co2_season_adj', # season adjusted using substracting 4-harmonic fit\n",
        "            'co2_fit',        # cubic spline\n",
        "            'co2_season_adj_fit', # fit substracting season adj\n",
        "            'co2_filled',         # filled with co2_fit\n",
        "            'co2_season_adj_filled'] # season adjusted column filled with co2_season_adj_fit\n",
        "\n",
        "# Load data\n",
        "co2_data = pd.read_csv('CO2Data.csv',index_col=False, names=old_colnames, skiprows=59)\n",
        "\n",
        "# Replace missing values with NANs\n",
        "missing_value_code = -99.99\n",
        "co2_data.replace(to_replace = missing_value_code, value=pd.NA, inplace=True)\n",
        "\n",
        "# Create date variable\n",
        "co2_data['date'] = co2_data['year'].apply(str) + \"/\" + co2_data['month']. apply(str) + \"/15\"\n",
        "co2_data['date'] = pd.to_datetime(co2_data['date'], format=\"%Y/%m/%d\")\n",
        "# co2_data.set_index('date', inplace=True)\n",
        "\n",
        "# Delete date_excel and date_num columns\n",
        "colnames = ['date'] + [colname for colname in old_colnames if colname.find(\"date\") == -1]\n",
        "co2_data = co2_data[colnames]"
      ],
      "execution_count": 154,
      "outputs": []
    },
    {
      "cell_type": "code",
      "metadata": {
        "id": "oxmx32GYlh4O",
        "colab": {
          "base_uri": "https://localhost:8080/",
          "height": 297
        },
        "outputId": "a319d2d8-fd55-4657-fd6e-c3312f252d77"
      },
      "source": [
        "co2_data.describe(include='all', datetime_is_numeric=True)"
      ],
      "execution_count": 194,
      "outputs": [
        {
          "output_type": "execute_result",
          "data": {
            "text/html": [
              "<div>\n",
              "<style scoped>\n",
              "    .dataframe tbody tr th:only-of-type {\n",
              "        vertical-align: middle;\n",
              "    }\n",
              "\n",
              "    .dataframe tbody tr th {\n",
              "        vertical-align: top;\n",
              "    }\n",
              "\n",
              "    .dataframe thead th {\n",
              "        text-align: right;\n",
              "    }\n",
              "</style>\n",
              "<table border=\"1\" class=\"dataframe\">\n",
              "  <thead>\n",
              "    <tr style=\"text-align: right;\">\n",
              "      <th></th>\n",
              "      <th>date</th>\n",
              "      <th>year</th>\n",
              "      <th>month</th>\n",
              "      <th>co2</th>\n",
              "      <th>co2_season_adj</th>\n",
              "      <th>co2_fit</th>\n",
              "      <th>co2_season_adj_fit</th>\n",
              "      <th>co2_filled</th>\n",
              "      <th>co2_season_adj_filled</th>\n",
              "      <th>t</th>\n",
              "      <th>co2_pred</th>\n",
              "    </tr>\n",
              "  </thead>\n",
              "  <tbody>\n",
              "    <tr>\n",
              "      <th>count</th>\n",
              "      <td>706</td>\n",
              "      <td>706.00</td>\n",
              "      <td>706.00</td>\n",
              "      <td>698.00</td>\n",
              "      <td>698.00</td>\n",
              "      <td>703.00</td>\n",
              "      <td>703.00</td>\n",
              "      <td>703.00</td>\n",
              "      <td>703.00</td>\n",
              "      <td>706.00</td>\n",
              "      <td>698.00</td>\n",
              "    </tr>\n",
              "    <tr>\n",
              "      <th>mean</th>\n",
              "      <td>1987-07-31 06:21:24.985835712</td>\n",
              "      <td>1987.08</td>\n",
              "      <td>6.51</td>\n",
              "      <td>352.00</td>\n",
              "      <td>351.99</td>\n",
              "      <td>351.76</td>\n",
              "      <td>351.74</td>\n",
              "      <td>351.76</td>\n",
              "      <td>351.75</td>\n",
              "      <td>353.50</td>\n",
              "      <td>352.00</td>\n",
              "    </tr>\n",
              "    <tr>\n",
              "      <th>min</th>\n",
              "      <td>1958-03-15 00:00:00</td>\n",
              "      <td>1958.00</td>\n",
              "      <td>1.00</td>\n",
              "      <td>313.21</td>\n",
              "      <td>314.42</td>\n",
              "      <td>312.44</td>\n",
              "      <td>314.90</td>\n",
              "      <td>312.44</td>\n",
              "      <td>314.42</td>\n",
              "      <td>1.00</td>\n",
              "      <td>307.15</td>\n",
              "    </tr>\n",
              "    <tr>\n",
              "      <th>25%</th>\n",
              "      <td>1972-11-22 12:00:00</td>\n",
              "      <td>1972.00</td>\n",
              "      <td>4.00</td>\n",
              "      <td>328.48</td>\n",
              "      <td>328.93</td>\n",
              "      <td>328.32</td>\n",
              "      <td>328.19</td>\n",
              "      <td>328.11</td>\n",
              "      <td>328.28</td>\n",
              "      <td>177.25</td>\n",
              "      <td>329.91</td>\n",
              "    </tr>\n",
              "    <tr>\n",
              "      <th>50%</th>\n",
              "      <td>1987-07-30 12:00:00</td>\n",
              "      <td>1987.00</td>\n",
              "      <td>7.00</td>\n",
              "      <td>349.53</td>\n",
              "      <td>349.54</td>\n",
              "      <td>349.30</td>\n",
              "      <td>348.85</td>\n",
              "      <td>348.96</td>\n",
              "      <td>348.76</td>\n",
              "      <td>353.50</td>\n",
              "      <td>352.04</td>\n",
              "    </tr>\n",
              "    <tr>\n",
              "      <th>75%</th>\n",
              "      <td>2002-04-07 06:00:00</td>\n",
              "      <td>2002.00</td>\n",
              "      <td>9.75</td>\n",
              "      <td>372.76</td>\n",
              "      <td>372.27</td>\n",
              "      <td>372.24</td>\n",
              "      <td>372.09</td>\n",
              "      <td>372.28</td>\n",
              "      <td>372.15</td>\n",
              "      <td>529.75</td>\n",
              "      <td>374.17</td>\n",
              "    </tr>\n",
              "    <tr>\n",
              "      <th>max</th>\n",
              "      <td>2016-12-15 00:00:00</td>\n",
              "      <td>2016.00</td>\n",
              "      <td>12.00</td>\n",
              "      <td>407.65</td>\n",
              "      <td>404.73</td>\n",
              "      <td>407.23</td>\n",
              "      <td>404.62</td>\n",
              "      <td>407.65</td>\n",
              "      <td>404.73</td>\n",
              "      <td>706.00</td>\n",
              "      <td>396.30</td>\n",
              "    </tr>\n",
              "    <tr>\n",
              "      <th>std</th>\n",
              "      <td>NaN</td>\n",
              "      <td>17.00</td>\n",
              "      <td>3.45</td>\n",
              "      <td>25.96</td>\n",
              "      <td>25.87</td>\n",
              "      <td>26.02</td>\n",
              "      <td>25.94</td>\n",
              "      <td>26.02</td>\n",
              "      <td>25.94</td>\n",
              "      <td>203.95</td>\n",
              "      <td>25.67</td>\n",
              "    </tr>\n",
              "  </tbody>\n",
              "</table>\n",
              "</div>"
            ],
            "text/plain": [
              "                                date    year  ...      t  co2_pred\n",
              "count                            706  706.00  ... 706.00    698.00\n",
              "mean   1987-07-31 06:21:24.985835712 1987.08  ... 353.50    352.00\n",
              "min              1958-03-15 00:00:00 1958.00  ...   1.00    307.15\n",
              "25%              1972-11-22 12:00:00 1972.00  ... 177.25    329.91\n",
              "50%              1987-07-30 12:00:00 1987.00  ... 353.50    352.04\n",
              "75%              2002-04-07 06:00:00 2002.00  ... 529.75    374.17\n",
              "max              2016-12-15 00:00:00 2016.00  ... 706.00    396.30\n",
              "std                              NaN   17.00  ... 203.95     25.67\n",
              "\n",
              "[8 rows x 11 columns]"
            ]
          },
          "metadata": {},
          "execution_count": 194
        }
      ]
    },
    {
      "cell_type": "code",
      "metadata": {
        "id": "Az83-LPZ8khY",
        "outputId": "9021ae20-e24d-4479-c0eb-f368145a337a",
        "colab": {
          "base_uri": "https://localhost:8080/"
        }
      },
      "source": [
        "co2_data.info()"
      ],
      "execution_count": 190,
      "outputs": [
        {
          "output_type": "stream",
          "name": "stdout",
          "text": [
            "<class 'pandas.core.frame.DataFrame'>\n",
            "RangeIndex: 706 entries, 0 to 705\n",
            "Data columns (total 11 columns):\n",
            " #   Column                 Non-Null Count  Dtype         \n",
            "---  ------                 --------------  -----         \n",
            " 0   date                   706 non-null    datetime64[ns]\n",
            " 1   year                   706 non-null    int64         \n",
            " 2   month                  706 non-null    int64         \n",
            " 3   co2                    698 non-null    float64       \n",
            " 4   co2_season_adj         698 non-null    float64       \n",
            " 5   co2_fit                703 non-null    float64       \n",
            " 6   co2_season_adj_fit     703 non-null    float64       \n",
            " 7   co2_filled             703 non-null    float64       \n",
            " 8   co2_season_adj_filled  703 non-null    float64       \n",
            " 9   t                      706 non-null    float64       \n",
            " 10  co2_pred               698 non-null    float64       \n",
            "dtypes: datetime64[ns](1), float64(8), int64(2)\n",
            "memory usage: 60.8 KB\n"
          ]
        }
      ]
    },
    {
      "cell_type": "code",
      "metadata": {
        "id": "fyUu1bNnnkKh",
        "colab": {
          "base_uri": "https://localhost:8080/",
          "height": 204
        },
        "outputId": "a924221f-bd99-40a3-9528-a8b07adff1ae"
      },
      "source": [
        "co2_data.head()"
      ],
      "execution_count": 156,
      "outputs": [
        {
          "output_type": "execute_result",
          "data": {
            "text/html": [
              "<div>\n",
              "<style scoped>\n",
              "    .dataframe tbody tr th:only-of-type {\n",
              "        vertical-align: middle;\n",
              "    }\n",
              "\n",
              "    .dataframe tbody tr th {\n",
              "        vertical-align: top;\n",
              "    }\n",
              "\n",
              "    .dataframe thead th {\n",
              "        text-align: right;\n",
              "    }\n",
              "</style>\n",
              "<table border=\"1\" class=\"dataframe\">\n",
              "  <thead>\n",
              "    <tr style=\"text-align: right;\">\n",
              "      <th></th>\n",
              "      <th>date</th>\n",
              "      <th>year</th>\n",
              "      <th>month</th>\n",
              "      <th>co2</th>\n",
              "      <th>co2_season_adj</th>\n",
              "      <th>co2_fit</th>\n",
              "      <th>co2_season_adj_fit</th>\n",
              "      <th>co2_filled</th>\n",
              "      <th>co2_season_adj_filled</th>\n",
              "    </tr>\n",
              "  </thead>\n",
              "  <tbody>\n",
              "    <tr>\n",
              "      <th>0</th>\n",
              "      <td>1958-03-15</td>\n",
              "      <td>1958</td>\n",
              "      <td>3</td>\n",
              "      <td>315.69</td>\n",
              "      <td>314.42</td>\n",
              "      <td>316.17</td>\n",
              "      <td>314.90</td>\n",
              "      <td>315.69</td>\n",
              "      <td>314.42</td>\n",
              "    </tr>\n",
              "    <tr>\n",
              "      <th>1</th>\n",
              "      <td>1958-04-15</td>\n",
              "      <td>1958</td>\n",
              "      <td>4</td>\n",
              "      <td>317.45</td>\n",
              "      <td>315.15</td>\n",
              "      <td>317.28</td>\n",
              "      <td>314.98</td>\n",
              "      <td>317.45</td>\n",
              "      <td>315.15</td>\n",
              "    </tr>\n",
              "    <tr>\n",
              "      <th>2</th>\n",
              "      <td>1958-05-15</td>\n",
              "      <td>1958</td>\n",
              "      <td>5</td>\n",
              "      <td>317.50</td>\n",
              "      <td>314.74</td>\n",
              "      <td>317.83</td>\n",
              "      <td>315.06</td>\n",
              "      <td>317.50</td>\n",
              "      <td>314.74</td>\n",
              "    </tr>\n",
              "    <tr>\n",
              "      <th>3</th>\n",
              "      <td>1958-06-15</td>\n",
              "      <td>1958</td>\n",
              "      <td>6</td>\n",
              "      <td>nan</td>\n",
              "      <td>nan</td>\n",
              "      <td>317.24</td>\n",
              "      <td>315.14</td>\n",
              "      <td>317.24</td>\n",
              "      <td>315.14</td>\n",
              "    </tr>\n",
              "    <tr>\n",
              "      <th>4</th>\n",
              "      <td>1958-07-15</td>\n",
              "      <td>1958</td>\n",
              "      <td>7</td>\n",
              "      <td>315.86</td>\n",
              "      <td>315.17</td>\n",
              "      <td>315.90</td>\n",
              "      <td>315.21</td>\n",
              "      <td>315.86</td>\n",
              "      <td>315.17</td>\n",
              "    </tr>\n",
              "  </tbody>\n",
              "</table>\n",
              "</div>"
            ],
            "text/plain": [
              "        date  year  ...  co2_filled  co2_season_adj_filled\n",
              "0 1958-03-15  1958  ...      315.69                 314.42\n",
              "1 1958-04-15  1958  ...      317.45                 315.15\n",
              "2 1958-05-15  1958  ...      317.50                 314.74\n",
              "3 1958-06-15  1958  ...      317.24                 315.14\n",
              "4 1958-07-15  1958  ...      315.86                 315.17\n",
              "\n",
              "[5 rows x 9 columns]"
            ]
          },
          "metadata": {},
          "execution_count": 156
        }
      ]
    },
    {
      "cell_type": "markdown",
      "metadata": {
        "id": "JdK8OMxHiovo"
      },
      "source": [
        "### (a)"
      ]
    },
    {
      "cell_type": "code",
      "metadata": {
        "id": "Xbp_MYGhrXck"
      },
      "source": [
        "co2_data['t'] = co2_data.index + 1.00"
      ],
      "execution_count": 188,
      "outputs": []
    },
    {
      "cell_type": "code",
      "metadata": {
        "id": "wUrqMoa1omWI",
        "colab": {
          "base_uri": "https://localhost:8080/"
        },
        "outputId": "fd36b8e7-7133-46f3-b36f-8b8d0869869b"
      },
      "source": [
        "ols_a = smf.ols(formula='co2 ~ t', data=co2_data, missing='drop', hasconst=False).fit()\n",
        "print(ols_a.summary())"
      ],
      "execution_count": 189,
      "outputs": [
        {
          "output_type": "stream",
          "name": "stdout",
          "text": [
            "                                 OLS Regression Results                                \n",
            "=======================================================================================\n",
            "Dep. Variable:                    co2   R-squared (uncentered):                   1.000\n",
            "Model:                            OLS   Adj. R-squared (uncentered):              1.000\n",
            "Method:                 Least Squares   F-statistic:                          2.885e+06\n",
            "Date:                Tue, 19 Oct 2021   Prob (F-statistic):                        0.00\n",
            "Time:                        14:29:52   Log-Likelihood:                         -1936.2\n",
            "No. Observations:                 698   AIC:                                      3876.\n",
            "Df Residuals:                     696   BIC:                                      3885.\n",
            "Df Model:                           2                                                  \n",
            "Covariance Type:            nonrobust                                                  \n",
            "==============================================================================\n",
            "                 coef    std err          t      P>|t|      [0.025      0.975]\n",
            "------------------------------------------------------------------------------\n",
            "Intercept    307.0211      0.297   1035.047      0.000     306.439     307.603\n",
            "t              0.1270      0.001    174.566      0.000       0.126       0.128\n",
            "==============================================================================\n",
            "Omnibus:                       28.823   Durbin-Watson:                   0.104\n",
            "Prob(Omnibus):                  0.000   Jarque-Bera (JB):               31.507\n",
            "Skew:                           0.512   Prob(JB):                     1.44e-07\n",
            "Kurtosis:                       2.810   Cond. No.                         823.\n",
            "==============================================================================\n",
            "\n",
            "Warnings:\n",
            "[1] Standard Errors assume that the covariance matrix of the errors is correctly specified.\n"
          ]
        }
      ]
    },
    {
      "cell_type": "code",
      "metadata": {
        "id": "Rgpjd-8H36Gq",
        "colab": {
          "base_uri": "https://localhost:8080/",
          "height": 204
        },
        "outputId": "f0963756-56b5-4384-c9fa-84d0c3153861"
      },
      "source": [
        "co2_data['co2_pred'] = missing_value_code\n",
        "co2_data.loc[~co2_data['co2'].isna(),'co2_pred'] = ols_a.predict()\n",
        "co2_data.replace(to_replace = missing_value_code, value=pd.NA, inplace=True)\n",
        "\n",
        "co2_data.head()"
      ],
      "execution_count": 186,
      "outputs": [
        {
          "output_type": "execute_result",
          "data": {
            "text/html": [
              "<div>\n",
              "<style scoped>\n",
              "    .dataframe tbody tr th:only-of-type {\n",
              "        vertical-align: middle;\n",
              "    }\n",
              "\n",
              "    .dataframe tbody tr th {\n",
              "        vertical-align: top;\n",
              "    }\n",
              "\n",
              "    .dataframe thead th {\n",
              "        text-align: right;\n",
              "    }\n",
              "</style>\n",
              "<table border=\"1\" class=\"dataframe\">\n",
              "  <thead>\n",
              "    <tr style=\"text-align: right;\">\n",
              "      <th></th>\n",
              "      <th>date</th>\n",
              "      <th>year</th>\n",
              "      <th>month</th>\n",
              "      <th>co2</th>\n",
              "      <th>co2_season_adj</th>\n",
              "      <th>co2_fit</th>\n",
              "      <th>co2_season_adj_fit</th>\n",
              "      <th>co2_filled</th>\n",
              "      <th>co2_season_adj_filled</th>\n",
              "      <th>t</th>\n",
              "      <th>co2_pred</th>\n",
              "    </tr>\n",
              "  </thead>\n",
              "  <tbody>\n",
              "    <tr>\n",
              "      <th>0</th>\n",
              "      <td>1958-03-15</td>\n",
              "      <td>1958</td>\n",
              "      <td>3</td>\n",
              "      <td>315.69</td>\n",
              "      <td>314.42</td>\n",
              "      <td>316.17</td>\n",
              "      <td>314.90</td>\n",
              "      <td>315.69</td>\n",
              "      <td>314.42</td>\n",
              "      <td>1</td>\n",
              "      <td>307.15</td>\n",
              "    </tr>\n",
              "    <tr>\n",
              "      <th>1</th>\n",
              "      <td>1958-04-15</td>\n",
              "      <td>1958</td>\n",
              "      <td>4</td>\n",
              "      <td>317.45</td>\n",
              "      <td>315.15</td>\n",
              "      <td>317.28</td>\n",
              "      <td>314.98</td>\n",
              "      <td>317.45</td>\n",
              "      <td>315.15</td>\n",
              "      <td>2</td>\n",
              "      <td>307.28</td>\n",
              "    </tr>\n",
              "    <tr>\n",
              "      <th>2</th>\n",
              "      <td>1958-05-15</td>\n",
              "      <td>1958</td>\n",
              "      <td>5</td>\n",
              "      <td>317.50</td>\n",
              "      <td>314.74</td>\n",
              "      <td>317.83</td>\n",
              "      <td>315.06</td>\n",
              "      <td>317.50</td>\n",
              "      <td>314.74</td>\n",
              "      <td>3</td>\n",
              "      <td>307.40</td>\n",
              "    </tr>\n",
              "    <tr>\n",
              "      <th>3</th>\n",
              "      <td>1958-06-15</td>\n",
              "      <td>1958</td>\n",
              "      <td>6</td>\n",
              "      <td>nan</td>\n",
              "      <td>nan</td>\n",
              "      <td>317.24</td>\n",
              "      <td>315.14</td>\n",
              "      <td>317.24</td>\n",
              "      <td>315.14</td>\n",
              "      <td>4</td>\n",
              "      <td>nan</td>\n",
              "    </tr>\n",
              "    <tr>\n",
              "      <th>4</th>\n",
              "      <td>1958-07-15</td>\n",
              "      <td>1958</td>\n",
              "      <td>7</td>\n",
              "      <td>315.86</td>\n",
              "      <td>315.17</td>\n",
              "      <td>315.90</td>\n",
              "      <td>315.21</td>\n",
              "      <td>315.86</td>\n",
              "      <td>315.17</td>\n",
              "      <td>5</td>\n",
              "      <td>307.66</td>\n",
              "    </tr>\n",
              "  </tbody>\n",
              "</table>\n",
              "</div>"
            ],
            "text/plain": [
              "        date  year  month  ...  co2_season_adj_filled  t  co2_pred\n",
              "0 1958-03-15  1958      3  ...                 314.42  1    307.15\n",
              "1 1958-04-15  1958      4  ...                 315.15  2    307.28\n",
              "2 1958-05-15  1958      5  ...                 314.74  3    307.40\n",
              "3 1958-06-15  1958      6  ...                 315.14  4       nan\n",
              "4 1958-07-15  1958      7  ...                 315.17  5    307.66\n",
              "\n",
              "[5 rows x 11 columns]"
            ]
          },
          "metadata": {},
          "execution_count": 186
        }
      ]
    },
    {
      "cell_type": "code",
      "metadata": {
        "id": "tfFciHvOsie2",
        "colab": {
          "base_uri": "https://localhost:8080/",
          "height": 283
        },
        "outputId": "d3cf2706-14e8-4b11-b163-bea4487cb878"
      },
      "source": [
        "fig, ax = plt.subplots()\n",
        "\n",
        "sns.scatterplot(data=co2_data, x='date', y='co2', label=r'CO$_2$', ax=ax)\n",
        "sns.lineplot(data=co2_data, x='date', y='co2_pred', label='linear fit', color = 'red', ax=ax)\n",
        "\n",
        "xticks = [f'{1955+10*k:d}' for k in range(7)]\n",
        "yticks = [300 + 20*k for k in range(7)]\n",
        "plt.xticks(pd.to_datetime(xticks), xticks)\n",
        "plt.yticks(yticks)\n",
        "plt.legend(loc='upper left')\n",
        "fig.show()"
      ],
      "execution_count": 200,
      "outputs": [
        {
          "output_type": "display_data",
          "data": {
            "image/png": "[encoded data removed]",
            "text/plain": [
              "<Figure size 432x288 with 1 Axes>"
            ]
          },
          "metadata": {
            "needs_background": "light"
          }
        }
      ]
    },
    {
      "cell_type": "markdown",
      "metadata": {
        "id": "nXdNk46niq24"
      },
      "source": [
        "### (b)"
      ]
    },
    {
      "cell_type": "markdown",
      "metadata": {
        "id": "kIcvfJ0RirjO"
      },
      "source": [
        "### (c)"
      ]
    },
    {
      "cell_type": "markdown",
      "metadata": {
        "id": "zULhrgT0isB_"
      },
      "source": [
        "### (d)"
      ]
    },
    {
      "cell_type": "markdown",
      "metadata": {
        "id": "0stlZrm9isjI"
      },
      "source": [
        "### (e)"
      ]
    },
    {
      "cell_type": "markdown",
      "metadata": {
        "id": "vVld73rriudv"
      },
      "source": [
        "## Problem 3.1: BPP Data Analysis"
      ]
    },
    {
      "cell_type": "markdown",
      "metadata": {
        "id": "y4YjJ5uViudx"
      },
      "source": [
        "### (a)"
      ]
    },
    {
      "cell_type": "markdown",
      "metadata": {
        "id": "0SNsLu6uiudx"
      },
      "source": [
        "### (b)"
      ]
    },
    {
      "cell_type": "markdown",
      "metadata": {
        "id": "idOb5qwPiudx"
      },
      "source": [
        "### (c)"
      ]
    },
    {
      "cell_type": "markdown",
      "metadata": {
        "id": "7Vxt4gL8iudy"
      },
      "source": [
        "### (d)"
      ]
    },
    {
      "cell_type": "markdown",
      "metadata": {
        "id": "WeZYjWo3iudy"
      },
      "source": [
        "### (e)"
      ]
    },
    {
      "cell_type": "markdown",
      "metadata": {
        "id": "4rWsRpBHizoD"
      },
      "source": [
        "### (f)"
      ]
    }
  ]
}