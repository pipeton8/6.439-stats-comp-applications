{
  "nbformat": 4,
  "nbformat_minor": 0,
  "metadata": {
    "colab": {
      "name": "6.439 - Problem Set 3.ipynb",
      "provenance": [],
      "toc_visible": true,
      "authorship_tag": "ABX9TyPuvf9uNYDCZACJ3zGHWi3U",
      "include_colab_link": true
    },
    "kernelspec": {
      "name": "python3",
      "display_name": "Python 3"
    },
    "language_info": {
      "name": "python"
    }
  },
  "cells": [
    {
      "cell_type": "markdown",
      "metadata": {
        "id": "view-in-github",
        "colab_type": "text"
      },
      "source": [
        "<a href=\"https://colab.research.google.com/github/pipeton8/6.439-stats-comp-applications/blob/main/Assignments/3%20-%20Economics/6.439%20-%20Problem%20Set%203.ipynb\" target=\"_parent\"><img src=\"https://colab.research.google.com/assets/colab-badge.svg\" alt=\"Open In Colab\"/></a>"
      ]
    },
    {
      "cell_type": "markdown",
      "metadata": {
        "id": "zQZiu5Rr0ywL"
      },
      "source": [
        "# Problem Set 3 - Statistics, Computation and Applications\n",
        "\n",
        "(c) Felipe del Canto, October 2021\n",
        "***\n",
        "***"
      ]
    },
    {
      "cell_type": "markdown",
      "metadata": {
        "id": "LpSk2ccJi4kO"
      },
      "source": [
        "# Part 0 (Execute first!)"
      ]
    },
    {
      "cell_type": "code",
      "metadata": {
        "id": "egFlocZLi6Zk"
      },
      "source": [
        "from IPython.display import clear_output\n",
        "\n",
        "# Download files\n",
        "!wget https://github.com/pipeton8/6.439-stats-comp-applications/raw/main/Assignments/databases/PS3_data.zip\n",
        "\n",
        "# Unzip\n",
        "!unzip -o PS3_data.zip\n",
        "!rm *.z* -r __MACOSX\n",
        "\n",
        "# Clear output\n",
        "clear_output()\n",
        "\n",
        "# Import packages\n",
        "import datetime\n",
        "import numpy as np\n",
        "import pandas as pd\n",
        "pd.options.display.float_format = '{:.2f}'.format\n",
        "\n",
        "import seaborn as sns\n",
        "import matplotlib.pyplot as plt\n",
        "\n",
        "from tqdm.auto import tqdm, trange\n",
        "\n",
        "import statsmodels.api         as sm\n",
        "import statsmodels.formula.api as smf"
      ],
      "execution_count": 77,
      "outputs": []
    },
    {
      "cell_type": "code",
      "metadata": {
        "id": "OgG5eXjT6BQF"
      },
      "source": [
        "def fit_npoly_trend(data=None, dep='', n=1, predict=False, residuals=False, sufix='', verbose=True):\n",
        "  formula = dep + ' ~ ' + '+'.join(['t' + f'_{i:d}'*(i>1) for i in range(1,n+1)])\n",
        "  \n",
        "  ols = smf.ols(formula=formula, data=data, missing='drop', hasconst=False).fit()\n",
        "\n",
        "  if verbose:\n",
        "    print(ols_a.summary())\n",
        "\n",
        "  if predict or residuals:\n",
        "    predict_from_model(data, dep, ols, sufix, store_predict=predict, residuals=residuals)\n",
        "  \n",
        "  return ols"
      ],
      "execution_count": 96,
      "outputs": []
    },
    {
      "cell_type": "code",
      "metadata": {
        "id": "8JqeL14ZArLb"
      },
      "source": [
        "def predict_from_model(data, dep, model, sufix, store_predict=True, residuals=False):\n",
        "  pred_var = dep + '_pred' + sufix\n",
        "  data.loc[~data[dep].isna(), pred_var] = model.predict()\n",
        "\n",
        "  if residuals:\n",
        "    data['res'+sufix] = data[dep] - data[pred_var]\n",
        "\n",
        "  if not store_predict:\n",
        "    newcols = list(data.columns).remove(pred_var)\n",
        "    data = data[newcols]\n",
        "\n",
        "  return None"
      ],
      "execution_count": 90,
      "outputs": []
    },
    {
      "cell_type": "markdown",
      "metadata": {
        "id": "xhudcvf1ifd-"
      },
      "source": [
        "# Part 1"
      ]
    },
    {
      "cell_type": "markdown",
      "metadata": {
        "id": "8erdBuN3iggK"
      },
      "source": [
        "## Problem 3.1: The Manua Loa $\\text{CO}_2$ concentration."
      ]
    },
    {
      "cell_type": "code",
      "metadata": {
        "id": "5vVEBDevjBDQ"
      },
      "source": [
        "# Write column names\n",
        "old_colnames = ['year', 'month', 'date_excel', 'date_num', 'co2',\n",
        "            'co2_season_adj', # season adjusted using substracting 4-harmonic fit\n",
        "            'co2_fit',        # cubic spline\n",
        "            'co2_season_adj_fit', # fit substracting season adj\n",
        "            'co2_filled',         # filled with co2_fit\n",
        "            'co2_season_adj_filled'] # season adjusted column filled with co2_season_adj_fit\n",
        "\n",
        "# Load data\n",
        "co2_data = pd.read_csv('CO2Data.csv',index_col=False, names=old_colnames, skiprows=59)\n",
        "\n",
        "# Replace missing values with NANs\n",
        "missing_value_code = -99.99\n",
        "co2_data.replace(to_replace = missing_value_code, value=pd.NA, inplace=True)\n",
        "\n",
        "# Create date variable\n",
        "co2_data['date'] = co2_data['year'].apply(str) + \"/\" + co2_data['month']. apply(str) + \"/15\"\n",
        "co2_data['date'] = pd.to_datetime(co2_data['date'], format=\"%Y/%m/%d\")\n",
        "\n",
        "# Delete date_excel and date_num columns\n",
        "colnames = ['date'] + [colname for colname in old_colnames if colname.find(\"date\") == -1]\n",
        "co2_data = co2_data[colnames]"
      ],
      "execution_count": 78,
      "outputs": []
    },
    {
      "cell_type": "code",
      "metadata": {
        "id": "oxmx32GYlh4O",
        "colab": {
          "base_uri": "https://localhost:8080/",
          "height": 419
        },
        "outputId": "6090b730-0feb-4221-d865-e4586d489adf"
      },
      "source": [
        "co2_data.describe(include='all', datetime_is_numeric=True)"
      ],
      "execution_count": 79,
      "outputs": [
        {
          "output_type": "execute_result",
          "data": {
            "text/html": [
              "<div>\n",
              "<style scoped>\n",
              "    .dataframe tbody tr th:only-of-type {\n",
              "        vertical-align: middle;\n",
              "    }\n",
              "\n",
              "    .dataframe tbody tr th {\n",
              "        vertical-align: top;\n",
              "    }\n",
              "\n",
              "    .dataframe thead th {\n",
              "        text-align: right;\n",
              "    }\n",
              "</style>\n",
              "<table border=\"1\" class=\"dataframe\">\n",
              "  <thead>\n",
              "    <tr style=\"text-align: right;\">\n",
              "      <th></th>\n",
              "      <th>date</th>\n",
              "      <th>year</th>\n",
              "      <th>month</th>\n",
              "      <th>co2</th>\n",
              "      <th>co2_season_adj</th>\n",
              "      <th>co2_fit</th>\n",
              "      <th>co2_season_adj_fit</th>\n",
              "      <th>co2_filled</th>\n",
              "      <th>co2_season_adj_filled</th>\n",
              "    </tr>\n",
              "  </thead>\n",
              "  <tbody>\n",
              "    <tr>\n",
              "      <th>count</th>\n",
              "      <td>706</td>\n",
              "      <td>706.00</td>\n",
              "      <td>706.00</td>\n",
              "      <td>698.00</td>\n",
              "      <td>698.00</td>\n",
              "      <td>703.00</td>\n",
              "      <td>703.00</td>\n",
              "      <td>703.00</td>\n",
              "      <td>703.00</td>\n",
              "    </tr>\n",
              "    <tr>\n",
              "      <th>mean</th>\n",
              "      <td>1987-07-31 06:21:24.985835712</td>\n",
              "      <td>1987.08</td>\n",
              "      <td>6.51</td>\n",
              "      <td>352.00</td>\n",
              "      <td>351.99</td>\n",
              "      <td>351.76</td>\n",
              "      <td>351.74</td>\n",
              "      <td>351.76</td>\n",
              "      <td>351.75</td>\n",
              "    </tr>\n",
              "    <tr>\n",
              "      <th>min</th>\n",
              "      <td>1958-03-15 00:00:00</td>\n",
              "      <td>1958.00</td>\n",
              "      <td>1.00</td>\n",
              "      <td>313.21</td>\n",
              "      <td>314.42</td>\n",
              "      <td>312.44</td>\n",
              "      <td>314.90</td>\n",
              "      <td>312.44</td>\n",
              "      <td>314.42</td>\n",
              "    </tr>\n",
              "    <tr>\n",
              "      <th>25%</th>\n",
              "      <td>1972-11-22 12:00:00</td>\n",
              "      <td>1972.00</td>\n",
              "      <td>4.00</td>\n",
              "      <td>328.48</td>\n",
              "      <td>328.93</td>\n",
              "      <td>328.32</td>\n",
              "      <td>328.19</td>\n",
              "      <td>328.11</td>\n",
              "      <td>328.28</td>\n",
              "    </tr>\n",
              "    <tr>\n",
              "      <th>50%</th>\n",
              "      <td>1987-07-30 12:00:00</td>\n",
              "      <td>1987.00</td>\n",
              "      <td>7.00</td>\n",
              "      <td>349.53</td>\n",
              "      <td>349.54</td>\n",
              "      <td>349.30</td>\n",
              "      <td>348.85</td>\n",
              "      <td>348.96</td>\n",
              "      <td>348.76</td>\n",
              "    </tr>\n",
              "    <tr>\n",
              "      <th>75%</th>\n",
              "      <td>2002-04-07 06:00:00</td>\n",
              "      <td>2002.00</td>\n",
              "      <td>9.75</td>\n",
              "      <td>372.76</td>\n",
              "      <td>372.27</td>\n",
              "      <td>372.24</td>\n",
              "      <td>372.09</td>\n",
              "      <td>372.28</td>\n",
              "      <td>372.15</td>\n",
              "    </tr>\n",
              "    <tr>\n",
              "      <th>max</th>\n",
              "      <td>2016-12-15 00:00:00</td>\n",
              "      <td>2016.00</td>\n",
              "      <td>12.00</td>\n",
              "      <td>407.65</td>\n",
              "      <td>404.73</td>\n",
              "      <td>407.23</td>\n",
              "      <td>404.62</td>\n",
              "      <td>407.65</td>\n",
              "      <td>404.73</td>\n",
              "    </tr>\n",
              "    <tr>\n",
              "      <th>std</th>\n",
              "      <td>NaN</td>\n",
              "      <td>17.00</td>\n",
              "      <td>3.45</td>\n",
              "      <td>25.96</td>\n",
              "      <td>25.87</td>\n",
              "      <td>26.02</td>\n",
              "      <td>25.94</td>\n",
              "      <td>26.02</td>\n",
              "      <td>25.94</td>\n",
              "    </tr>\n",
              "  </tbody>\n",
              "</table>\n",
              "</div>"
            ],
            "text/plain": [
              "                                date    year  ...  co2_filled  co2_season_adj_filled\n",
              "count                            706  706.00  ...      703.00                 703.00\n",
              "mean   1987-07-31 06:21:24.985835712 1987.08  ...      351.76                 351.75\n",
              "min              1958-03-15 00:00:00 1958.00  ...      312.44                 314.42\n",
              "25%              1972-11-22 12:00:00 1972.00  ...      328.11                 328.28\n",
              "50%              1987-07-30 12:00:00 1987.00  ...      348.96                 348.76\n",
              "75%              2002-04-07 06:00:00 2002.00  ...      372.28                 372.15\n",
              "max              2016-12-15 00:00:00 2016.00  ...      407.65                 404.73\n",
              "std                              NaN   17.00  ...       26.02                  25.94\n",
              "\n",
              "[8 rows x 9 columns]"
            ]
          },
          "metadata": {},
          "execution_count": 79
        }
      ]
    },
    {
      "cell_type": "markdown",
      "metadata": {
        "id": "JdK8OMxHiovo"
      },
      "source": [
        "### (a)"
      ]
    },
    {
      "cell_type": "markdown",
      "metadata": {
        "id": "GITBBbt6F0As"
      },
      "source": [
        "#### Fit and predict linear model with residuals "
      ]
    },
    {
      "cell_type": "code",
      "metadata": {
        "id": "Xbp_MYGhrXck",
        "colab": {
          "base_uri": "https://localhost:8080/"
        },
        "outputId": "032bbe6c-a816-4293-f342-765225be454a"
      },
      "source": [
        "fit_kwargs_a = {'data'      : co2_data,\n",
        "                'dep'       : 'co2',\n",
        "                'n'         : 1,\n",
        "                'predict'   : True,\n",
        "                'residuals' : True,\n",
        "                'sufix'     : '_a'}\n",
        "\n",
        "ols_a = fit_npoly_trend(**fit_kwargs_a)"
      ],
      "execution_count": 97,
      "outputs": [
        {
          "output_type": "stream",
          "name": "stdout",
          "text": [
            "                                 OLS Regression Results                                \n",
            "=======================================================================================\n",
            "Dep. Variable:                    co2   R-squared (uncentered):                   1.000\n",
            "Model:                            OLS   Adj. R-squared (uncentered):              1.000\n",
            "Method:                 Least Squares   F-statistic:                          2.885e+06\n",
            "Date:                Tue, 19 Oct 2021   Prob (F-statistic):                        0.00\n",
            "Time:                        19:49:56   Log-Likelihood:                         -1936.2\n",
            "No. Observations:                 698   AIC:                                      3876.\n",
            "Df Residuals:                     696   BIC:                                      3885.\n",
            "Df Model:                           2                                                  \n",
            "Covariance Type:            nonrobust                                                  \n",
            "==============================================================================\n",
            "                 coef    std err          t      P>|t|      [0.025      0.975]\n",
            "------------------------------------------------------------------------------\n",
            "Intercept    307.0211      0.297   1035.047      0.000     306.439     307.603\n",
            "t              0.1270      0.001    174.566      0.000       0.126       0.128\n",
            "==============================================================================\n",
            "Omnibus:                       28.823   Durbin-Watson:                   0.104\n",
            "Prob(Omnibus):                  0.000   Jarque-Bera (JB):               31.507\n",
            "Skew:                           0.512   Prob(JB):                     1.44e-07\n",
            "Kurtosis:                       2.810   Cond. No.                         823.\n",
            "==============================================================================\n",
            "\n",
            "Warnings:\n",
            "[1] Standard Errors assume that the covariance matrix of the errors is correctly specified.\n"
          ]
        }
      ]
    },
    {
      "cell_type": "markdown",
      "metadata": {
        "id": "-MxC3iRKGonF"
      },
      "source": [
        "#### Plot fit"
      ]
    },
    {
      "cell_type": "code",
      "metadata": {
        "id": "tfFciHvOsie2",
        "colab": {
          "base_uri": "https://localhost:8080/",
          "height": 338
        },
        "outputId": "a8edfa6d-ef97-49e4-beeb-0c746c4f5dd7"
      },
      "source": [
        "# Initialize figure\n",
        "fig, ax = plt.subplots()\n",
        "fig.set_size_inches(10,5)\n",
        "\n",
        "# Draw scatterplot and fit\n",
        "sns.scatterplot(data=co2_data, x='date', y='co2', label=r'CO$_2$', ax=ax)\n",
        "sns.lineplot(data=co2_data, x='date', y='co2_pred', label='linear fit', color = 'red', ax=ax)\n",
        "\n",
        "# Set xticks and yticks\n",
        "xticks = [f'{1955+10*k:d}' for k in range(7)]\n",
        "yticks = [300 + 20*k for k in range(7)]\n",
        "\n",
        "plt.xticks(pd.to_datetime(xticks), xticks)\n",
        "plt.yticks(yticks)\n",
        "\n",
        "# Set legend location\n",
        "plt.legend(loc='upper left')\n",
        "\n",
        "# Show figure\n",
        "fig.show()"
      ],
      "execution_count": 98,
      "outputs": [
        {
          "output_type": "display_data",
          "data": {
            "image/png": "[encoded data removed]",
            "text/plain": [
              "<Figure size 720x360 with 1 Axes>"
            ]
          },
          "metadata": {
            "needs_background": "light"
          }
        }
      ]
    },
    {
      "cell_type": "markdown",
      "metadata": {
        "id": "TuTAA8YGG-Pa"
      },
      "source": [
        "#### Plot residuals"
      ]
    },
    {
      "cell_type": "code",
      "metadata": {
        "id": "GKu9C4ebHPMt",
        "outputId": "8b89ee1d-b69a-471d-bc1c-d1c244d26175",
        "colab": {
          "base_uri": "https://localhost:8080/"
        }
      },
      "source": [
        "co2_data['res_a'].describe()"
      ],
      "execution_count": 106,
      "outputs": [
        {
          "output_type": "execute_result",
          "data": {
            "text/plain": [
              "count   698.00\n",
              "mean     -0.00\n",
              "std       3.88\n",
              "min      -7.56\n",
              "25%      -2.76\n",
              "50%      -0.39\n",
              "75%       2.39\n",
              "max      11.91\n",
              "Name: res_a, dtype: float64"
            ]
          },
          "metadata": {},
          "execution_count": 106
        }
      ]
    },
    {
      "cell_type": "code",
      "metadata": {
        "id": "UuYkNqNOHALb",
        "outputId": "c2cbb317-76e2-41c0-a5e3-028a902e3c88",
        "colab": {
          "base_uri": "https://localhost:8080/",
          "height": 334
        }
      },
      "source": [
        "# Initialize figure\n",
        "fig, ax = plt.subplots()\n",
        "fig.set_size_inches(10,5)\n",
        "\n",
        "# Draw scatterplot and fit\n",
        "sns.scatterplot(data=co2_data, x='date', y='res_a', ax=ax)\n",
        "plt.axhline(linestyle='--', linewidth = 3, color = 'red')\n",
        "\n",
        "# Set xticks and yticks\n",
        "xticks = [f'{1955+10*k:d}' for k in range(7)]\n",
        "yticks = [-12 + 2*k for k in range(13)]\n",
        "\n",
        "plt.xticks(pd.to_datetime(xticks), xticks)\n",
        "plt.yticks(yticks)\n",
        "\n",
        "# Show figure\n",
        "fig.show()"
      ],
      "execution_count": 109,
      "outputs": [
        {
          "output_type": "display_data",
          "data": {
            "image/png": "[encoded data removed]",
            "text/plain": [
              "<Figure size 720x360 with 1 Axes>"
            ]
          },
          "metadata": {
            "needs_background": "light"
          }
        }
      ]
    },
    {
      "cell_type": "markdown",
      "metadata": {
        "id": "_mncoa6NHb5O"
      },
      "source": [
        "#### Compute and plot ACF"
      ]
    },
    {
      "cell_type": "code",
      "metadata": {
        "id": "BuvSZ5GiHdeP",
        "outputId": "914d6bbb-c428-482d-9b77-f9ea30760e93",
        "colab": {
          "base_uri": "https://localhost:8080/"
        }
      },
      "source": [
        "acf_kwargs_a = {'nlags'   : 40,\n",
        "                'missing' : 'conservative',\n",
        "                'fft'     : True}\n",
        "\n",
        "corr = sm.tsa.acf(co2_data['res_a'], **acf_kwargs_a)"
      ],
      "execution_count": 114,
      "outputs": [
        {
          "output_type": "stream",
          "name": "stdout",
          "text": [
            "[1.         0.93123153 0.79972051 0.6469538  0.52735968 0.43845082\n",
            " 0.40396873 0.4212976  0.49309568 0.60908887 0.74564271 0.85976248\n",
            " 0.9023256  0.85074139 0.726401   0.57695724 0.44955449 0.36628055\n",
            " 0.33521775 0.35209575 0.42158786 0.53589398 0.67139698 0.78343094\n",
            " 0.82534477 0.77442128 0.65212435 0.50633874 0.3801309  0.29903665\n",
            " 0.26841004 0.28646657 0.35464863 0.46692276 0.6001932  0.71051861\n",
            " 0.75127155 0.70055302 0.58016994 0.43701936 0.31301049]\n"
          ]
        }
      ]
    },
    {
      "cell_type": "code",
      "metadata": {
        "id": "ogVhGa9_HxiP",
        "outputId": "5821d60f-b90a-4c3e-e3ac-3a30fa921d29",
        "colab": {
          "base_uri": "https://localhost:8080/",
          "height": 320
        }
      },
      "source": [
        "# Initialize figure\n",
        "fig, ax = plt.subplots()\n",
        "fig.set_size_inches(10,5)\n",
        "\n",
        "# Draw scatterplot and fit\n",
        "N = co2_data['co2'].notna().sum()\n",
        "z_alpha = 1.96/np.sqrt(N)\n",
        "\n",
        "lags = [i for i in range(acf_kwargs_a['nlags']+1)]\n",
        "plt.axhline(y=z_alpha, linestyle='--', color = 'red')\n",
        "plt.axhline(y=0, linestyle='--', color = 'gray')\n",
        "plt.vlines(lags,0,corr)\n",
        "\n",
        "# Set xticks and yticks\n",
        "xticks = [10*k for k in range(5)]\n",
        "yticks = [0.25*k for k in range(5)]\n",
        "\n",
        "plt.xticks(xticks)\n",
        "plt.yticks(yticks)\n",
        "\n",
        "# Show figure\n",
        "fig.show()"
      ],
      "execution_count": 129,
      "outputs": [
        {
          "output_type": "display_data",
          "data": {
            "image/png": "[encoded data removed]",
            "text/plain": [
              "<Figure size 720x360 with 1 Axes>"
            ]
          },
          "metadata": {
            "needs_background": "light"
          }
        }
      ]
    },
    {
      "cell_type": "markdown",
      "metadata": {
        "id": "nXdNk46niq24"
      },
      "source": [
        "### (b)"
      ]
    },
    {
      "cell_type": "markdown",
      "metadata": {
        "id": "kIcvfJ0RirjO"
      },
      "source": [
        "### (c)"
      ]
    },
    {
      "cell_type": "markdown",
      "metadata": {
        "id": "zULhrgT0isB_"
      },
      "source": [
        "### (d)"
      ]
    },
    {
      "cell_type": "markdown",
      "metadata": {
        "id": "0stlZrm9isjI"
      },
      "source": [
        "### (e)"
      ]
    },
    {
      "cell_type": "markdown",
      "metadata": {
        "id": "vVld73rriudv"
      },
      "source": [
        "## Problem 3.1: BPP Data Analysis"
      ]
    },
    {
      "cell_type": "markdown",
      "metadata": {
        "id": "y4YjJ5uViudx"
      },
      "source": [
        "### (a)"
      ]
    },
    {
      "cell_type": "markdown",
      "metadata": {
        "id": "0SNsLu6uiudx"
      },
      "source": [
        "### (b)"
      ]
    },
    {
      "cell_type": "markdown",
      "metadata": {
        "id": "idOb5qwPiudx"
      },
      "source": [
        "### (c)"
      ]
    },
    {
      "cell_type": "markdown",
      "metadata": {
        "id": "7Vxt4gL8iudy"
      },
      "source": [
        "### (d)"
      ]
    },
    {
      "cell_type": "markdown",
      "metadata": {
        "id": "WeZYjWo3iudy"
      },
      "source": [
        "### (e)"
      ]
    },
    {
      "cell_type": "markdown",
      "metadata": {
        "id": "4rWsRpBHizoD"
      },
      "source": [
        "### (f)"
      ]
    }
  ]
}